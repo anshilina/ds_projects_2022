{
 "cells": [
  {
   "cell_type": "markdown",
   "id": "892f60f8-b433-4403-bbaa-a0d6c7421fd5",
   "metadata": {},
   "source": [
    "# Mobile plans research"
   ]
  },
  {
   "cell_type": "code",
   "execution_count": 1,
   "id": "8f74d089-0a4a-4653-925e-f8cb804edb15",
   "metadata": {},
   "outputs": [],
   "source": [
    "import numpy as np\n",
    "import pandas as pd\n",
    "from IPython.display import display\n",
    "\n",
    "import matplotlib.pyplot as plt\n",
    "import seaborn as sns\n",
    "\n",
    "from scipy import stats as st"
   ]
  },
  {
   "cell_type": "code",
   "execution_count": 2,
   "id": "990be070-ccc5-4007-9d62-b2f4e7046862",
   "metadata": {},
   "outputs": [],
   "source": [
    "calls = pd.read_csv('calls.csv')\n",
    "sessions = pd.read_csv('internet.csv', index_col=0)\n",
    "messages = pd.read_csv('messages.csv')\n",
    "tariffs = pd.read_csv('tariffs.csv')\n",
    "users = pd.read_csv('users.csv')"
   ]
  },
  {
   "cell_type": "markdown",
   "id": "99567d7b-9ddb-4a8d-add3-3d8f6f1a2572",
   "metadata": {},
   "source": [
    "Let's explore information about calls."
   ]
  },
  {
   "cell_type": "code",
   "execution_count": 3,
   "id": "928b137f-b543-41d9-b098-14b3ebfc35d4",
   "metadata": {},
   "outputs": [
    {
     "data": {
      "text/html": [
       "<div>\n",
       "<style scoped>\n",
       "    .dataframe tbody tr th:only-of-type {\n",
       "        vertical-align: middle;\n",
       "    }\n",
       "\n",
       "    .dataframe tbody tr th {\n",
       "        vertical-align: top;\n",
       "    }\n",
       "\n",
       "    .dataframe thead th {\n",
       "        text-align: right;\n",
       "    }\n",
       "</style>\n",
       "<table border=\"1\" class=\"dataframe\">\n",
       "  <thead>\n",
       "    <tr style=\"text-align: right;\">\n",
       "      <th></th>\n",
       "      <th>id</th>\n",
       "      <th>call_date</th>\n",
       "      <th>duration</th>\n",
       "      <th>user_id</th>\n",
       "    </tr>\n",
       "  </thead>\n",
       "  <tbody>\n",
       "    <tr>\n",
       "      <th>0</th>\n",
       "      <td>1000_0</td>\n",
       "      <td>2018-07-25</td>\n",
       "      <td>0.00</td>\n",
       "      <td>1000</td>\n",
       "    </tr>\n",
       "    <tr>\n",
       "      <th>1</th>\n",
       "      <td>1000_1</td>\n",
       "      <td>2018-08-17</td>\n",
       "      <td>0.00</td>\n",
       "      <td>1000</td>\n",
       "    </tr>\n",
       "    <tr>\n",
       "      <th>2</th>\n",
       "      <td>1000_2</td>\n",
       "      <td>2018-06-11</td>\n",
       "      <td>2.85</td>\n",
       "      <td>1000</td>\n",
       "    </tr>\n",
       "    <tr>\n",
       "      <th>3</th>\n",
       "      <td>1000_3</td>\n",
       "      <td>2018-09-21</td>\n",
       "      <td>13.80</td>\n",
       "      <td>1000</td>\n",
       "    </tr>\n",
       "    <tr>\n",
       "      <th>4</th>\n",
       "      <td>1000_4</td>\n",
       "      <td>2018-12-15</td>\n",
       "      <td>5.18</td>\n",
       "      <td>1000</td>\n",
       "    </tr>\n",
       "  </tbody>\n",
       "</table>\n",
       "</div>"
      ],
      "text/plain": [
       "       id   call_date  duration  user_id\n",
       "0  1000_0  2018-07-25      0.00     1000\n",
       "1  1000_1  2018-08-17      0.00     1000\n",
       "2  1000_2  2018-06-11      2.85     1000\n",
       "3  1000_3  2018-09-21     13.80     1000\n",
       "4  1000_4  2018-12-15      5.18     1000"
      ]
     },
     "metadata": {},
     "output_type": "display_data"
    }
   ],
   "source": [
    "display(calls.head())"
   ]
  },
  {
   "cell_type": "code",
   "execution_count": 4,
   "id": "f174ea2a-837c-4078-8e22-9e0a8d958795",
   "metadata": {},
   "outputs": [
    {
     "name": "stdout",
     "output_type": "stream",
     "text": [
      "<class 'pandas.core.frame.DataFrame'>\n",
      "RangeIndex: 202607 entries, 0 to 202606\n",
      "Data columns (total 4 columns):\n",
      " #   Column     Non-Null Count   Dtype  \n",
      "---  ------     --------------   -----  \n",
      " 0   id         202607 non-null  object \n",
      " 1   call_date  202607 non-null  object \n",
      " 2   duration   202607 non-null  float64\n",
      " 3   user_id    202607 non-null  int64  \n",
      "dtypes: float64(1), int64(1), object(2)\n",
      "memory usage: 6.2+ MB\n"
     ]
    }
   ],
   "source": [
    "calls.info()"
   ]
  },
  {
   "cell_type": "code",
   "execution_count": 6,
   "id": "e036c63c-5fda-4c84-a55d-37f273f388e3",
   "metadata": {},
   "outputs": [
    {
     "data": {
      "image/png": "[encoded data removed]",
      "text/plain": [
       "<Figure size 432x288 with 1 Axes>"
      ]
     },
     "metadata": {
      "needs_background": "light"
     },
     "output_type": "display_data"
    }
   ],
   "source": [
    "calls['duration'].hist(rwidth=0.9)\n",
    "plt.xlabel('Duration of calls')\n",
    "plt.ylabel('Number of observations')\n",
    "plt.title('Distribution of \"calls duration\" variable')\n",
    "plt.grid()\n",
    "plt.show()"
   ]
  },
  {
   "cell_type": "markdown",
   "id": "a96afd6a-92a9-4ce6-a30c-07c95272a3da",
   "metadata": {},
   "source": [
    "We see the right-skewed distribution. The longer the call duration, the fewer people who talk on the phone for that long. In adition, there are many calls with zero duration - it is missed calls.\n",
    "\n",
    "Next, we will study information on Internet traffic."
   ]
  },
  {
   "cell_type": "code",
   "execution_count": 16,
   "id": "1c822992-3771-4dc0-9653-6ca3e484a2fc",
   "metadata": {},
   "outputs": [
    {
     "data": {
      "text/html": [
       "<div>\n",
       "<style scoped>\n",
       "    .dataframe tbody tr th:only-of-type {\n",
       "        vertical-align: middle;\n",
       "    }\n",
       "\n",
       "    .dataframe tbody tr th {\n",
       "        vertical-align: top;\n",
       "    }\n",
       "\n",
       "    .dataframe thead th {\n",
       "        text-align: right;\n",
       "    }\n",
       "</style>\n",
       "<table border=\"1\" class=\"dataframe\">\n",
       "  <thead>\n",
       "    <tr style=\"text-align: right;\">\n",
       "      <th></th>\n",
       "      <th>id</th>\n",
       "      <th>mb_used</th>\n",
       "      <th>session_date</th>\n",
       "      <th>user_id</th>\n",
       "    </tr>\n",
       "  </thead>\n",
       "  <tbody>\n",
       "    <tr>\n",
       "      <th>0</th>\n",
       "      <td>1000_0</td>\n",
       "      <td>112.95</td>\n",
       "      <td>2018-11-25</td>\n",
       "      <td>1000</td>\n",
       "    </tr>\n",
       "    <tr>\n",
       "      <th>1</th>\n",
       "      <td>1000_1</td>\n",
       "      <td>1052.81</td>\n",
       "      <td>2018-09-07</td>\n",
       "      <td>1000</td>\n",
       "    </tr>\n",
       "    <tr>\n",
       "      <th>2</th>\n",
       "      <td>1000_2</td>\n",
       "      <td>1197.26</td>\n",
       "      <td>2018-06-25</td>\n",
       "      <td>1000</td>\n",
       "    </tr>\n",
       "    <tr>\n",
       "      <th>3</th>\n",
       "      <td>1000_3</td>\n",
       "      <td>550.27</td>\n",
       "      <td>2018-08-22</td>\n",
       "      <td>1000</td>\n",
       "    </tr>\n",
       "    <tr>\n",
       "      <th>4</th>\n",
       "      <td>1000_4</td>\n",
       "      <td>302.56</td>\n",
       "      <td>2018-09-24</td>\n",
       "      <td>1000</td>\n",
       "    </tr>\n",
       "  </tbody>\n",
       "</table>\n",
       "</div>"
      ],
      "text/plain": [
       "       id  mb_used session_date  user_id\n",
       "0  1000_0   112.95   2018-11-25     1000\n",
       "1  1000_1  1052.81   2018-09-07     1000\n",
       "2  1000_2  1197.26   2018-06-25     1000\n",
       "3  1000_3   550.27   2018-08-22     1000\n",
       "4  1000_4   302.56   2018-09-24     1000"
      ]
     },
     "metadata": {},
     "output_type": "display_data"
    }
   ],
   "source": [
    "display(sessions.head())"
   ]
  },
  {
   "cell_type": "code",
   "execution_count": 17,
   "id": "1bf7c88f-a827-49e3-859e-d9a8c86af83c",
   "metadata": {},
   "outputs": [
    {
     "name": "stdout",
     "output_type": "stream",
     "text": [
      "<class 'pandas.core.frame.DataFrame'>\n",
      "Int64Index: 149396 entries, 0 to 149395\n",
      "Data columns (total 4 columns):\n",
      " #   Column        Non-Null Count   Dtype  \n",
      "---  ------        --------------   -----  \n",
      " 0   id            149396 non-null  object \n",
      " 1   mb_used       149396 non-null  float64\n",
      " 2   session_date  149396 non-null  object \n",
      " 3   user_id       149396 non-null  int64  \n",
      "dtypes: float64(1), int64(1), object(2)\n",
      "memory usage: 5.7+ MB\n"
     ]
    }
   ],
   "source": [
    "sessions.info()"
   ]
  },
  {
   "cell_type": "code",
   "execution_count": 7,
   "id": "6f601801-99e3-4944-92c7-35f10acdfc61",
   "metadata": {},
   "outputs": [
    {
     "data": {
      "image/png": "[encoded data removed]",
      "text/plain": [
       "<Figure size 432x288 with 1 Axes>"
      ]
     },
     "metadata": {
      "needs_background": "light"
     },
     "output_type": "display_data"
    }
   ],
   "source": [
    "sessions['mb_used'].hist(rwidth=0.9)\n",
    "plt.xlabel('Amount of MB')\n",
    "plt.ylabel('Number of observations')\n",
    "plt.title('Distribution of the \"MB used\" variable')\n",
    "plt.grid()\n",
    "plt.show()"
   ]
  },
  {
   "cell_type": "markdown",
   "id": "e3c737e2-b23f-4c92-a7a8-9d519696577d",
   "metadata": {},
   "source": [
    "There is also right-skewed distribution. Most customers use 0-250 MB of Internet, some of them use 1250-1500 MB.\n",
    "\n",
    "Now let's look at the message information."
   ]
  },
  {
   "cell_type": "code",
   "execution_count": 8,
   "id": "e7ddfe08-0202-47e6-96aa-af113ab1055e",
   "metadata": {},
   "outputs": [
    {
     "data": {
      "text/html": [
       "<div>\n",
       "<style scoped>\n",
       "    .dataframe tbody tr th:only-of-type {\n",
       "        vertical-align: middle;\n",
       "    }\n",
       "\n",
       "    .dataframe tbody tr th {\n",
       "        vertical-align: top;\n",
       "    }\n",
       "\n",
       "    .dataframe thead th {\n",
       "        text-align: right;\n",
       "    }\n",
       "</style>\n",
       "<table border=\"1\" class=\"dataframe\">\n",
       "  <thead>\n",
       "    <tr style=\"text-align: right;\">\n",
       "      <th></th>\n",
       "      <th>id</th>\n",
       "      <th>message_date</th>\n",
       "      <th>user_id</th>\n",
       "    </tr>\n",
       "  </thead>\n",
       "  <tbody>\n",
       "    <tr>\n",
       "      <th>0</th>\n",
       "      <td>1000_0</td>\n",
       "      <td>2018-06-27</td>\n",
       "      <td>1000</td>\n",
       "    </tr>\n",
       "    <tr>\n",
       "      <th>1</th>\n",
       "      <td>1000_1</td>\n",
       "      <td>2018-10-08</td>\n",
       "      <td>1000</td>\n",
       "    </tr>\n",
       "    <tr>\n",
       "      <th>2</th>\n",
       "      <td>1000_2</td>\n",
       "      <td>2018-08-04</td>\n",
       "      <td>1000</td>\n",
       "    </tr>\n",
       "    <tr>\n",
       "      <th>3</th>\n",
       "      <td>1000_3</td>\n",
       "      <td>2018-06-16</td>\n",
       "      <td>1000</td>\n",
       "    </tr>\n",
       "    <tr>\n",
       "      <th>4</th>\n",
       "      <td>1000_4</td>\n",
       "      <td>2018-12-05</td>\n",
       "      <td>1000</td>\n",
       "    </tr>\n",
       "  </tbody>\n",
       "</table>\n",
       "</div>"
      ],
      "text/plain": [
       "       id message_date  user_id\n",
       "0  1000_0   2018-06-27     1000\n",
       "1  1000_1   2018-10-08     1000\n",
       "2  1000_2   2018-08-04     1000\n",
       "3  1000_3   2018-06-16     1000\n",
       "4  1000_4   2018-12-05     1000"
      ]
     },
     "metadata": {},
     "output_type": "display_data"
    }
   ],
   "source": [
    "display(messages.head())"
   ]
  },
  {
   "cell_type": "code",
   "execution_count": 9,
   "id": "e5bf2031-465d-4355-a72d-a548401e9b44",
   "metadata": {},
   "outputs": [
    {
     "name": "stdout",
     "output_type": "stream",
     "text": [
      "<class 'pandas.core.frame.DataFrame'>\n",
      "RangeIndex: 123036 entries, 0 to 123035\n",
      "Data columns (total 3 columns):\n",
      " #   Column        Non-Null Count   Dtype \n",
      "---  ------        --------------   ----- \n",
      " 0   id            123036 non-null  object\n",
      " 1   message_date  123036 non-null  object\n",
      " 2   user_id       123036 non-null  int64 \n",
      "dtypes: int64(1), object(2)\n",
      "memory usage: 2.8+ MB\n"
     ]
    }
   ],
   "source": [
    "messages.info()"
   ]
  },
  {
   "cell_type": "markdown",
   "id": "16535d18-2a75-4e01-a7c2-0ff0d4bd336b",
   "metadata": {},
   "source": [
    "Below we summarised information on each of the two tariffs."
   ]
  },
  {
   "cell_type": "code",
   "execution_count": 10,
   "id": "3fcd145b-760c-475b-81c4-2d12974f25e0",
   "metadata": {},
   "outputs": [
    {
     "data": {
      "text/html": [
       "<div>\n",
       "<style scoped>\n",
       "    .dataframe tbody tr th:only-of-type {\n",
       "        vertical-align: middle;\n",
       "    }\n",
       "\n",
       "    .dataframe tbody tr th {\n",
       "        vertical-align: top;\n",
       "    }\n",
       "\n",
       "    .dataframe thead th {\n",
       "        text-align: right;\n",
       "    }\n",
       "</style>\n",
       "<table border=\"1\" class=\"dataframe\">\n",
       "  <thead>\n",
       "    <tr style=\"text-align: right;\">\n",
       "      <th></th>\n",
       "      <th>messages_included</th>\n",
       "      <th>mb_per_month_included</th>\n",
       "      <th>minutes_included</th>\n",
       "      <th>rub_monthly_fee</th>\n",
       "      <th>rub_per_gb</th>\n",
       "      <th>rub_per_message</th>\n",
       "      <th>rub_per_minute</th>\n",
       "      <th>tariff_name</th>\n",
       "    </tr>\n",
       "  </thead>\n",
       "  <tbody>\n",
       "    <tr>\n",
       "      <th>0</th>\n",
       "      <td>50</td>\n",
       "      <td>15360</td>\n",
       "      <td>500</td>\n",
       "      <td>550</td>\n",
       "      <td>200</td>\n",
       "      <td>3</td>\n",
       "      <td>3</td>\n",
       "      <td>smart</td>\n",
       "    </tr>\n",
       "    <tr>\n",
       "      <th>1</th>\n",
       "      <td>1000</td>\n",
       "      <td>30720</td>\n",
       "      <td>3000</td>\n",
       "      <td>1950</td>\n",
       "      <td>150</td>\n",
       "      <td>1</td>\n",
       "      <td>1</td>\n",
       "      <td>ultra</td>\n",
       "    </tr>\n",
       "  </tbody>\n",
       "</table>\n",
       "</div>"
      ],
      "text/plain": [
       "   messages_included  mb_per_month_included  minutes_included  \\\n",
       "0                 50                  15360               500   \n",
       "1               1000                  30720              3000   \n",
       "\n",
       "   rub_monthly_fee  rub_per_gb  rub_per_message  rub_per_minute tariff_name  \n",
       "0              550         200                3               3       smart  \n",
       "1             1950         150                1               1       ultra  "
      ]
     },
     "metadata": {},
     "output_type": "display_data"
    }
   ],
   "source": [
    "display(tariffs)"
   ]
  },
  {
   "cell_type": "code",
   "execution_count": 11,
   "id": "d0eb4978-6cac-4c37-8f06-dad9aaeda82c",
   "metadata": {},
   "outputs": [
    {
     "name": "stdout",
     "output_type": "stream",
     "text": [
      "<class 'pandas.core.frame.DataFrame'>\n",
      "RangeIndex: 2 entries, 0 to 1\n",
      "Data columns (total 8 columns):\n",
      " #   Column                 Non-Null Count  Dtype \n",
      "---  ------                 --------------  ----- \n",
      " 0   messages_included      2 non-null      int64 \n",
      " 1   mb_per_month_included  2 non-null      int64 \n",
      " 2   minutes_included       2 non-null      int64 \n",
      " 3   rub_monthly_fee        2 non-null      int64 \n",
      " 4   rub_per_gb             2 non-null      int64 \n",
      " 5   rub_per_message        2 non-null      int64 \n",
      " 6   rub_per_minute         2 non-null      int64 \n",
      " 7   tariff_name            2 non-null      object\n",
      "dtypes: int64(7), object(1)\n",
      "memory usage: 256.0+ bytes\n"
     ]
    }
   ],
   "source": [
    "tariffs.info()"
   ]
  },
  {
   "cell_type": "markdown",
   "id": "4c5d034e-59f2-4f43-b984-b3ebd281110f",
   "metadata": {},
   "source": [
    "Finally, information about users:"
   ]
  },
  {
   "cell_type": "code",
   "execution_count": 23,
   "id": "211c1430-4ebe-4723-82b2-27701bd0d8b9",
   "metadata": {},
   "outputs": [
    {
     "data": {
      "text/html": [
       "<div>\n",
       "<style scoped>\n",
       "    .dataframe tbody tr th:only-of-type {\n",
       "        vertical-align: middle;\n",
       "    }\n",
       "\n",
       "    .dataframe tbody tr th {\n",
       "        vertical-align: top;\n",
       "    }\n",
       "\n",
       "    .dataframe thead th {\n",
       "        text-align: right;\n",
       "    }\n",
       "</style>\n",
       "<table border=\"1\" class=\"dataframe\">\n",
       "  <thead>\n",
       "    <tr style=\"text-align: right;\">\n",
       "      <th></th>\n",
       "      <th>user_id</th>\n",
       "      <th>age</th>\n",
       "      <th>churn_date</th>\n",
       "      <th>city</th>\n",
       "      <th>first_name</th>\n",
       "      <th>last_name</th>\n",
       "      <th>reg_date</th>\n",
       "      <th>tariff</th>\n",
       "    </tr>\n",
       "  </thead>\n",
       "  <tbody>\n",
       "    <tr>\n",
       "      <th>0</th>\n",
       "      <td>1000</td>\n",
       "      <td>52</td>\n",
       "      <td>NaN</td>\n",
       "      <td>Краснодар</td>\n",
       "      <td>Рафаил</td>\n",
       "      <td>Верещагин</td>\n",
       "      <td>2018-05-25</td>\n",
       "      <td>ultra</td>\n",
       "    </tr>\n",
       "    <tr>\n",
       "      <th>1</th>\n",
       "      <td>1001</td>\n",
       "      <td>41</td>\n",
       "      <td>NaN</td>\n",
       "      <td>Москва</td>\n",
       "      <td>Иван</td>\n",
       "      <td>Ежов</td>\n",
       "      <td>2018-11-01</td>\n",
       "      <td>smart</td>\n",
       "    </tr>\n",
       "    <tr>\n",
       "      <th>2</th>\n",
       "      <td>1002</td>\n",
       "      <td>59</td>\n",
       "      <td>NaN</td>\n",
       "      <td>Стерлитамак</td>\n",
       "      <td>Евгений</td>\n",
       "      <td>Абрамович</td>\n",
       "      <td>2018-06-17</td>\n",
       "      <td>smart</td>\n",
       "    </tr>\n",
       "    <tr>\n",
       "      <th>3</th>\n",
       "      <td>1003</td>\n",
       "      <td>23</td>\n",
       "      <td>NaN</td>\n",
       "      <td>Москва</td>\n",
       "      <td>Белла</td>\n",
       "      <td>Белякова</td>\n",
       "      <td>2018-08-17</td>\n",
       "      <td>ultra</td>\n",
       "    </tr>\n",
       "    <tr>\n",
       "      <th>4</th>\n",
       "      <td>1004</td>\n",
       "      <td>68</td>\n",
       "      <td>NaN</td>\n",
       "      <td>Новокузнецк</td>\n",
       "      <td>Татьяна</td>\n",
       "      <td>Авдеенко</td>\n",
       "      <td>2018-05-14</td>\n",
       "      <td>ultra</td>\n",
       "    </tr>\n",
       "  </tbody>\n",
       "</table>\n",
       "</div>"
      ],
      "text/plain": [
       "   user_id  age churn_date         city first_name  last_name    reg_date  \\\n",
       "0     1000   52        NaN    Краснодар     Рафаил  Верещагин  2018-05-25   \n",
       "1     1001   41        NaN       Москва       Иван       Ежов  2018-11-01   \n",
       "2     1002   59        NaN  Стерлитамак    Евгений  Абрамович  2018-06-17   \n",
       "3     1003   23        NaN       Москва      Белла   Белякова  2018-08-17   \n",
       "4     1004   68        NaN  Новокузнецк    Татьяна   Авдеенко  2018-05-14   \n",
       "\n",
       "  tariff  \n",
       "0  ultra  \n",
       "1  smart  \n",
       "2  smart  \n",
       "3  ultra  \n",
       "4  ultra  "
      ]
     },
     "metadata": {},
     "output_type": "display_data"
    }
   ],
   "source": [
    "display(users.head())"
   ]
  },
  {
   "cell_type": "markdown",
   "id": "043660b3-22be-4993-b10f-9549027832ca",
   "metadata": {},
   "source": [
    "## Data preprocessing"
   ]
  },
  {
   "cell_type": "markdown",
   "id": "2af48d7f-7a7d-4084-8e90-b2f76b83b84f",
   "metadata": {},
   "source": [
    "Let's change data type of the columns with data (from object to datetime type) using the `to_datetime()` method.\n",
    "\n",
    "- `reg_date` from `users` table\n",
    "- `churn_date` from`users` table\n",
    "- `call_date` from `calls` table\n",
    "- `message_date` from `messages` table\n",
    "- `session_date` from `sessions` table"
   ]
  },
  {
   "cell_type": "code",
   "execution_count": 12,
   "id": "afc03c60-23a7-4cd6-85e0-053bf93f172e",
   "metadata": {},
   "outputs": [],
   "source": [
    "users['reg_date'] = pd.to_datetime(users['reg_date'], format='%Y-%m-%d')\n",
    "users['churn_date'] = pd.to_datetime(users['churn_date'], format='%Y-%m-%d')\n",
    "calls['call_date'] = pd.to_datetime(calls['call_date'], format='%Y-%m-%d')\n",
    "messages['message_date'] = pd.to_datetime(messages['message_date'], format='%Y-%m-%d')\n",
    "sessions['session_date'] = pd.to_datetime(sessions['session_date'], format='%Y-%m-%d')"
   ]
  },
  {
   "cell_type": "markdown",
   "id": "9f9fc6c4-d6f4-4eba-b996-a80ce875c5ee",
   "metadata": {},
   "source": [
    "In the `duration` column of the `calls` dataframe, the data type is `float`. Let's round the values using the `numpy.ceil()` method and change the data type to `int`."
   ]
  },
  {
   "cell_type": "code",
   "execution_count": 15,
   "id": "a8d70916-05da-467d-a887-1c65328e0874",
   "metadata": {},
   "outputs": [],
   "source": [
    "calls['duration'] = np.ceil(calls['duration']).astype('int')"
   ]
  },
  {
   "cell_type": "markdown",
   "id": "7bf31cc1-0295-40b5-a18d-10ad01f319d5",
   "metadata": {},
   "source": [
    "Let's create a `month` column in the `calls`, `messages`, `sessions` dataframes with the number of month from the `call_date`, `message_date` and `session_date` columns respectively."
   ]
  },
  {
   "cell_type": "code",
   "execution_count": 16,
   "id": "aba8460b-c1db-4c0b-9148-fb133a4b0e61",
   "metadata": {},
   "outputs": [],
   "source": [
    "calls['month'] = pd.DatetimeIndex(calls['call_date']).month"
   ]
  },
  {
   "cell_type": "code",
   "execution_count": 17,
   "id": "2cba1d13-01aa-41aa-8a86-3ff4ab119c59",
   "metadata": {},
   "outputs": [],
   "source": [
    "messages['month'] = pd.DatetimeIndex(messages['message_date']).month"
   ]
  },
  {
   "cell_type": "code",
   "execution_count": 18,
   "id": "03cb333e-1591-4971-92a7-23101d067d4f",
   "metadata": {},
   "outputs": [],
   "source": [
    "sessions['month'] = pd.DatetimeIndex(sessions['session_date']).month"
   ]
  },
  {
   "cell_type": "markdown",
   "id": "fe83a515-da9f-44b9-a18e-f0269114709f",
   "metadata": {},
   "source": [
    "Let's count the number of calls made by each user and group it by month."
   ]
  },
  {
   "cell_type": "code",
   "execution_count": 19,
   "id": "854c1efa-e98a-45ca-9946-77d98b1f5d14",
   "metadata": {},
   "outputs": [],
   "source": [
    "calls_per_month = calls.groupby(['user_id', 'month']).agg(calls=('duration', 'count'))"
   ]
  },
  {
   "cell_type": "code",
   "execution_count": 20,
   "id": "0487d75e-f0ff-4e7a-bc42-399f6b502bd8",
   "metadata": {},
   "outputs": [
    {
     "data": {
      "text/html": [
       "<div>\n",
       "<style scoped>\n",
       "    .dataframe tbody tr th:only-of-type {\n",
       "        vertical-align: middle;\n",
       "    }\n",
       "\n",
       "    .dataframe tbody tr th {\n",
       "        vertical-align: top;\n",
       "    }\n",
       "\n",
       "    .dataframe thead th {\n",
       "        text-align: right;\n",
       "    }\n",
       "</style>\n",
       "<table border=\"1\" class=\"dataframe\">\n",
       "  <thead>\n",
       "    <tr style=\"text-align: right;\">\n",
       "      <th></th>\n",
       "      <th></th>\n",
       "      <th>calls</th>\n",
       "    </tr>\n",
       "    <tr>\n",
       "      <th>user_id</th>\n",
       "      <th>month</th>\n",
       "      <th></th>\n",
       "    </tr>\n",
       "  </thead>\n",
       "  <tbody>\n",
       "    <tr>\n",
       "      <th rowspan=\"8\" valign=\"top\">1000</th>\n",
       "      <th>5</th>\n",
       "      <td>22</td>\n",
       "    </tr>\n",
       "    <tr>\n",
       "      <th>6</th>\n",
       "      <td>43</td>\n",
       "    </tr>\n",
       "    <tr>\n",
       "      <th>7</th>\n",
       "      <td>47</td>\n",
       "    </tr>\n",
       "    <tr>\n",
       "      <th>8</th>\n",
       "      <td>52</td>\n",
       "    </tr>\n",
       "    <tr>\n",
       "      <th>9</th>\n",
       "      <td>58</td>\n",
       "    </tr>\n",
       "    <tr>\n",
       "      <th>10</th>\n",
       "      <td>57</td>\n",
       "    </tr>\n",
       "    <tr>\n",
       "      <th>11</th>\n",
       "      <td>43</td>\n",
       "    </tr>\n",
       "    <tr>\n",
       "      <th>12</th>\n",
       "      <td>46</td>\n",
       "    </tr>\n",
       "    <tr>\n",
       "      <th rowspan=\"2\" valign=\"top\">1001</th>\n",
       "      <th>11</th>\n",
       "      <td>59</td>\n",
       "    </tr>\n",
       "    <tr>\n",
       "      <th>12</th>\n",
       "      <td>63</td>\n",
       "    </tr>\n",
       "  </tbody>\n",
       "</table>\n",
       "</div>"
      ],
      "text/plain": [
       "               calls\n",
       "user_id month       \n",
       "1000    5         22\n",
       "        6         43\n",
       "        7         47\n",
       "        8         52\n",
       "        9         58\n",
       "        10        57\n",
       "        11        43\n",
       "        12        46\n",
       "1001    11        59\n",
       "        12        63"
      ]
     },
     "metadata": {},
     "output_type": "display_data"
    }
   ],
   "source": [
    "display(calls_per_month.head(10))"
   ]
  },
  {
   "cell_type": "markdown",
   "id": "ca8c858f-409b-4514-be80-1a2da5fb4470",
   "metadata": {},
   "source": [
    "Let's calculate the sum of spent minutes used by each user and group it by month."
   ]
  },
  {
   "cell_type": "code",
   "execution_count": 21,
   "id": "9cdda886-d659-4a89-bb25-c511c2f2f3af",
   "metadata": {},
   "outputs": [],
   "source": [
    "minutes_per_month = calls.groupby(['user_id', 'month']).agg(minutes=('duration', 'sum'))"
   ]
  },
  {
   "cell_type": "code",
   "execution_count": 22,
   "id": "af049dff-77c7-427e-a1a3-16d1ef206a33",
   "metadata": {},
   "outputs": [
    {
     "data": {
      "text/html": [
       "<div>\n",
       "<style scoped>\n",
       "    .dataframe tbody tr th:only-of-type {\n",
       "        vertical-align: middle;\n",
       "    }\n",
       "\n",
       "    .dataframe tbody tr th {\n",
       "        vertical-align: top;\n",
       "    }\n",
       "\n",
       "    .dataframe thead th {\n",
       "        text-align: right;\n",
       "    }\n",
       "</style>\n",
       "<table border=\"1\" class=\"dataframe\">\n",
       "  <thead>\n",
       "    <tr style=\"text-align: right;\">\n",
       "      <th></th>\n",
       "      <th></th>\n",
       "      <th>minutes</th>\n",
       "    </tr>\n",
       "    <tr>\n",
       "      <th>user_id</th>\n",
       "      <th>month</th>\n",
       "      <th></th>\n",
       "    </tr>\n",
       "  </thead>\n",
       "  <tbody>\n",
       "    <tr>\n",
       "      <th rowspan=\"8\" valign=\"top\">1000</th>\n",
       "      <th>5</th>\n",
       "      <td>159</td>\n",
       "    </tr>\n",
       "    <tr>\n",
       "      <th>6</th>\n",
       "      <td>172</td>\n",
       "    </tr>\n",
       "    <tr>\n",
       "      <th>7</th>\n",
       "      <td>340</td>\n",
       "    </tr>\n",
       "    <tr>\n",
       "      <th>8</th>\n",
       "      <td>408</td>\n",
       "    </tr>\n",
       "    <tr>\n",
       "      <th>9</th>\n",
       "      <td>466</td>\n",
       "    </tr>\n",
       "    <tr>\n",
       "      <th>10</th>\n",
       "      <td>350</td>\n",
       "    </tr>\n",
       "    <tr>\n",
       "      <th>11</th>\n",
       "      <td>338</td>\n",
       "    </tr>\n",
       "    <tr>\n",
       "      <th>12</th>\n",
       "      <td>333</td>\n",
       "    </tr>\n",
       "    <tr>\n",
       "      <th rowspan=\"2\" valign=\"top\">1001</th>\n",
       "      <th>11</th>\n",
       "      <td>430</td>\n",
       "    </tr>\n",
       "    <tr>\n",
       "      <th>12</th>\n",
       "      <td>414</td>\n",
       "    </tr>\n",
       "  </tbody>\n",
       "</table>\n",
       "</div>"
      ],
      "text/plain": [
       "               minutes\n",
       "user_id month         \n",
       "1000    5          159\n",
       "        6          172\n",
       "        7          340\n",
       "        8          408\n",
       "        9          466\n",
       "        10         350\n",
       "        11         338\n",
       "        12         333\n",
       "1001    11         430\n",
       "        12         414"
      ]
     },
     "metadata": {},
     "output_type": "display_data"
    }
   ],
   "source": [
    "display(minutes_per_month.head(10))"
   ]
  },
  {
   "cell_type": "markdown",
   "id": "b007bdcc-a811-41fd-b74f-2349f7b45dfa",
   "metadata": {},
   "source": [
    "Let's count the number of messages sent by each user and group it by month."
   ]
  },
  {
   "cell_type": "code",
   "execution_count": 23,
   "id": "c7baf0fd-5b6a-4c93-aa0d-f3e317e1af5d",
   "metadata": {},
   "outputs": [],
   "source": [
    "messages_per_month = messages.groupby(['user_id', 'month']).agg(messages=('message_date', 'count'))"
   ]
  },
  {
   "cell_type": "code",
   "execution_count": 24,
   "id": "80c1efec-2808-43b3-97ff-60d7955bb818",
   "metadata": {},
   "outputs": [
    {
     "data": {
      "text/html": [
       "<div>\n",
       "<style scoped>\n",
       "    .dataframe tbody tr th:only-of-type {\n",
       "        vertical-align: middle;\n",
       "    }\n",
       "\n",
       "    .dataframe tbody tr th {\n",
       "        vertical-align: top;\n",
       "    }\n",
       "\n",
       "    .dataframe thead th {\n",
       "        text-align: right;\n",
       "    }\n",
       "</style>\n",
       "<table border=\"1\" class=\"dataframe\">\n",
       "  <thead>\n",
       "    <tr style=\"text-align: right;\">\n",
       "      <th></th>\n",
       "      <th></th>\n",
       "      <th>messages</th>\n",
       "    </tr>\n",
       "    <tr>\n",
       "      <th>user_id</th>\n",
       "      <th>month</th>\n",
       "      <th></th>\n",
       "    </tr>\n",
       "  </thead>\n",
       "  <tbody>\n",
       "    <tr>\n",
       "      <th rowspan=\"8\" valign=\"top\">1000</th>\n",
       "      <th>5</th>\n",
       "      <td>22</td>\n",
       "    </tr>\n",
       "    <tr>\n",
       "      <th>6</th>\n",
       "      <td>60</td>\n",
       "    </tr>\n",
       "    <tr>\n",
       "      <th>7</th>\n",
       "      <td>75</td>\n",
       "    </tr>\n",
       "    <tr>\n",
       "      <th>8</th>\n",
       "      <td>81</td>\n",
       "    </tr>\n",
       "    <tr>\n",
       "      <th>9</th>\n",
       "      <td>57</td>\n",
       "    </tr>\n",
       "    <tr>\n",
       "      <th>10</th>\n",
       "      <td>73</td>\n",
       "    </tr>\n",
       "    <tr>\n",
       "      <th>11</th>\n",
       "      <td>58</td>\n",
       "    </tr>\n",
       "    <tr>\n",
       "      <th>12</th>\n",
       "      <td>70</td>\n",
       "    </tr>\n",
       "    <tr>\n",
       "      <th rowspan=\"2\" valign=\"top\">1002</th>\n",
       "      <th>6</th>\n",
       "      <td>4</td>\n",
       "    </tr>\n",
       "    <tr>\n",
       "      <th>7</th>\n",
       "      <td>11</td>\n",
       "    </tr>\n",
       "  </tbody>\n",
       "</table>\n",
       "</div>"
      ],
      "text/plain": [
       "               messages\n",
       "user_id month          \n",
       "1000    5            22\n",
       "        6            60\n",
       "        7            75\n",
       "        8            81\n",
       "        9            57\n",
       "        10           73\n",
       "        11           58\n",
       "        12           70\n",
       "1002    6             4\n",
       "        7            11"
      ]
     },
     "metadata": {},
     "output_type": "display_data"
    }
   ],
   "source": [
    "display(messages_per_month.head(10))"
   ]
  },
  {
   "cell_type": "markdown",
   "id": "3fa1c061-f07a-46fe-a823-1ba0d9e03430",
   "metadata": {},
   "source": [
    "Let's calculate the sum of megabytes spent by each user and group it by month."
   ]
  },
  {
   "cell_type": "code",
   "execution_count": 25,
   "id": "2a33a00c-8f81-4947-8f0a-8106d9f56477",
   "metadata": {},
   "outputs": [],
   "source": [
    "sessions_per_month = sessions.groupby(['user_id', 'month']).agg({'mb_used': 'sum'})"
   ]
  },
  {
   "cell_type": "code",
   "execution_count": 26,
   "id": "6ae35033-46ee-4852-80c8-ff563e23c2d1",
   "metadata": {},
   "outputs": [
    {
     "data": {
      "text/html": [
       "<div>\n",
       "<style scoped>\n",
       "    .dataframe tbody tr th:only-of-type {\n",
       "        vertical-align: middle;\n",
       "    }\n",
       "\n",
       "    .dataframe tbody tr th {\n",
       "        vertical-align: top;\n",
       "    }\n",
       "\n",
       "    .dataframe thead th {\n",
       "        text-align: right;\n",
       "    }\n",
       "</style>\n",
       "<table border=\"1\" class=\"dataframe\">\n",
       "  <thead>\n",
       "    <tr style=\"text-align: right;\">\n",
       "      <th></th>\n",
       "      <th></th>\n",
       "      <th>mb_used</th>\n",
       "    </tr>\n",
       "    <tr>\n",
       "      <th>user_id</th>\n",
       "      <th>month</th>\n",
       "      <th></th>\n",
       "    </tr>\n",
       "  </thead>\n",
       "  <tbody>\n",
       "    <tr>\n",
       "      <th rowspan=\"8\" valign=\"top\">1000</th>\n",
       "      <th>5</th>\n",
       "      <td>2253.49</td>\n",
       "    </tr>\n",
       "    <tr>\n",
       "      <th>6</th>\n",
       "      <td>23233.77</td>\n",
       "    </tr>\n",
       "    <tr>\n",
       "      <th>7</th>\n",
       "      <td>14003.64</td>\n",
       "    </tr>\n",
       "    <tr>\n",
       "      <th>8</th>\n",
       "      <td>14055.93</td>\n",
       "    </tr>\n",
       "    <tr>\n",
       "      <th>9</th>\n",
       "      <td>14568.91</td>\n",
       "    </tr>\n",
       "    <tr>\n",
       "      <th>10</th>\n",
       "      <td>14702.49</td>\n",
       "    </tr>\n",
       "    <tr>\n",
       "      <th>11</th>\n",
       "      <td>14756.47</td>\n",
       "    </tr>\n",
       "    <tr>\n",
       "      <th>12</th>\n",
       "      <td>9817.61</td>\n",
       "    </tr>\n",
       "    <tr>\n",
       "      <th rowspan=\"2\" valign=\"top\">1001</th>\n",
       "      <th>11</th>\n",
       "      <td>18429.34</td>\n",
       "    </tr>\n",
       "    <tr>\n",
       "      <th>12</th>\n",
       "      <td>14036.66</td>\n",
       "    </tr>\n",
       "  </tbody>\n",
       "</table>\n",
       "</div>"
      ],
      "text/plain": [
       "                mb_used\n",
       "user_id month          \n",
       "1000    5       2253.49\n",
       "        6      23233.77\n",
       "        7      14003.64\n",
       "        8      14055.93\n",
       "        9      14568.91\n",
       "        10     14702.49\n",
       "        11     14756.47\n",
       "        12      9817.61\n",
       "1001    11     18429.34\n",
       "        12     14036.66"
      ]
     },
     "metadata": {},
     "output_type": "display_data"
    }
   ],
   "source": [
    "display(sessions_per_month.head(10))"
   ]
  },
  {
   "cell_type": "markdown",
   "id": "1cca8826-645e-40e8-af5d-e4ce76c10d16",
   "metadata": {},
   "source": [
    "## Data analysis and revenue calculation"
   ]
  },
  {
   "cell_type": "markdown",
   "id": "a9212f78-a87f-4d2b-9f86-eeaad791b5cc",
   "metadata": {},
   "source": [
    "Let's merge all values calculated above and create dataframe `user_behavior`.\n",
    "\n",
    "Thus, we have information on the tariff, number of calls, messages and spent megabytes for each \"user - month\" pair."
   ]
  },
  {
   "cell_type": "code",
   "execution_count": 27,
   "id": "a0c5722a-7725-4f42-a6b7-c9416763dcdc",
   "metadata": {},
   "outputs": [],
   "source": [
    "user_behavior = (calls_per_month\n",
    "                .merge(messages_per_month, left_index=True, right_index=True, how='outer')\n",
    "                .merge(sessions_per_month, left_index=True, right_index=True, how='outer')\n",
    "                .merge(minutes_per_month, left_index=True, right_index=True, how='outer')\n",
    "                .reset_index()\n",
    "                .merge(users, how='left', left_on='user_id', right_on='user_id')\n",
    ")"
   ]
  },
  {
   "cell_type": "code",
   "execution_count": 28,
   "id": "5f99353c-9f26-48a2-8f61-006471d1c679",
   "metadata": {},
   "outputs": [
    {
     "data": {
      "text/html": [
       "<div>\n",
       "<style scoped>\n",
       "    .dataframe tbody tr th:only-of-type {\n",
       "        vertical-align: middle;\n",
       "    }\n",
       "\n",
       "    .dataframe tbody tr th {\n",
       "        vertical-align: top;\n",
       "    }\n",
       "\n",
       "    .dataframe thead th {\n",
       "        text-align: right;\n",
       "    }\n",
       "</style>\n",
       "<table border=\"1\" class=\"dataframe\">\n",
       "  <thead>\n",
       "    <tr style=\"text-align: right;\">\n",
       "      <th></th>\n",
       "      <th>user_id</th>\n",
       "      <th>month</th>\n",
       "      <th>calls</th>\n",
       "      <th>messages</th>\n",
       "      <th>mb_used</th>\n",
       "      <th>minutes</th>\n",
       "      <th>age</th>\n",
       "      <th>churn_date</th>\n",
       "      <th>city</th>\n",
       "      <th>first_name</th>\n",
       "      <th>last_name</th>\n",
       "      <th>reg_date</th>\n",
       "      <th>tariff</th>\n",
       "    </tr>\n",
       "  </thead>\n",
       "  <tbody>\n",
       "    <tr>\n",
       "      <th>0</th>\n",
       "      <td>1000</td>\n",
       "      <td>5</td>\n",
       "      <td>22.0</td>\n",
       "      <td>22.0</td>\n",
       "      <td>2253.49</td>\n",
       "      <td>159.0</td>\n",
       "      <td>52</td>\n",
       "      <td>NaT</td>\n",
       "      <td>Краснодар</td>\n",
       "      <td>Рафаил</td>\n",
       "      <td>Верещагин</td>\n",
       "      <td>2018-05-25</td>\n",
       "      <td>ultra</td>\n",
       "    </tr>\n",
       "    <tr>\n",
       "      <th>1</th>\n",
       "      <td>1000</td>\n",
       "      <td>6</td>\n",
       "      <td>43.0</td>\n",
       "      <td>60.0</td>\n",
       "      <td>23233.77</td>\n",
       "      <td>172.0</td>\n",
       "      <td>52</td>\n",
       "      <td>NaT</td>\n",
       "      <td>Краснодар</td>\n",
       "      <td>Рафаил</td>\n",
       "      <td>Верещагин</td>\n",
       "      <td>2018-05-25</td>\n",
       "      <td>ultra</td>\n",
       "    </tr>\n",
       "    <tr>\n",
       "      <th>2</th>\n",
       "      <td>1000</td>\n",
       "      <td>7</td>\n",
       "      <td>47.0</td>\n",
       "      <td>75.0</td>\n",
       "      <td>14003.64</td>\n",
       "      <td>340.0</td>\n",
       "      <td>52</td>\n",
       "      <td>NaT</td>\n",
       "      <td>Краснодар</td>\n",
       "      <td>Рафаил</td>\n",
       "      <td>Верещагин</td>\n",
       "      <td>2018-05-25</td>\n",
       "      <td>ultra</td>\n",
       "    </tr>\n",
       "    <tr>\n",
       "      <th>3</th>\n",
       "      <td>1000</td>\n",
       "      <td>8</td>\n",
       "      <td>52.0</td>\n",
       "      <td>81.0</td>\n",
       "      <td>14055.93</td>\n",
       "      <td>408.0</td>\n",
       "      <td>52</td>\n",
       "      <td>NaT</td>\n",
       "      <td>Краснодар</td>\n",
       "      <td>Рафаил</td>\n",
       "      <td>Верещагин</td>\n",
       "      <td>2018-05-25</td>\n",
       "      <td>ultra</td>\n",
       "    </tr>\n",
       "    <tr>\n",
       "      <th>4</th>\n",
       "      <td>1000</td>\n",
       "      <td>9</td>\n",
       "      <td>58.0</td>\n",
       "      <td>57.0</td>\n",
       "      <td>14568.91</td>\n",
       "      <td>466.0</td>\n",
       "      <td>52</td>\n",
       "      <td>NaT</td>\n",
       "      <td>Краснодар</td>\n",
       "      <td>Рафаил</td>\n",
       "      <td>Верещагин</td>\n",
       "      <td>2018-05-25</td>\n",
       "      <td>ultra</td>\n",
       "    </tr>\n",
       "  </tbody>\n",
       "</table>\n",
       "</div>"
      ],
      "text/plain": [
       "   user_id  month  calls  messages   mb_used  minutes  age churn_date  \\\n",
       "0     1000      5   22.0      22.0   2253.49    159.0   52        NaT   \n",
       "1     1000      6   43.0      60.0  23233.77    172.0   52        NaT   \n",
       "2     1000      7   47.0      75.0  14003.64    340.0   52        NaT   \n",
       "3     1000      8   52.0      81.0  14055.93    408.0   52        NaT   \n",
       "4     1000      9   58.0      57.0  14568.91    466.0   52        NaT   \n",
       "\n",
       "        city first_name  last_name   reg_date tariff  \n",
       "0  Краснодар     Рафаил  Верещагин 2018-05-25  ultra  \n",
       "1  Краснодар     Рафаил  Верещагин 2018-05-25  ultra  \n",
       "2  Краснодар     Рафаил  Верещагин 2018-05-25  ultra  \n",
       "3  Краснодар     Рафаил  Верещагин 2018-05-25  ultra  \n",
       "4  Краснодар     Рафаил  Верещагин 2018-05-25  ultra  "
      ]
     },
     "metadata": {},
     "output_type": "display_data"
    }
   ],
   "source": [
    "display(user_behavior.head())"
   ]
  },
  {
   "cell_type": "markdown",
   "id": "3e9b07fa-94ab-4acc-b5ea-192520507f25",
   "metadata": {},
   "source": [
    "Let's count missing values in `user_behavior` data frame."
   ]
  },
  {
   "cell_type": "code",
   "execution_count": 29,
   "id": "91ab873a-2daf-492f-a713-9955eb0e911d",
   "metadata": {},
   "outputs": [
    {
     "data": {
      "text/plain": [
       "user_id          0\n",
       "month            0\n",
       "calls           40\n",
       "messages       497\n",
       "mb_used         11\n",
       "minutes         40\n",
       "age              0\n",
       "churn_date    3027\n",
       "city             0\n",
       "first_name       0\n",
       "last_name        0\n",
       "reg_date         0\n",
       "tariff           0\n",
       "dtype: int64"
      ]
     },
     "execution_count": 29,
     "metadata": {},
     "output_type": "execute_result"
    }
   ],
   "source": [
    "user_behavior.isna().sum()"
   ]
  },
  {
   "cell_type": "markdown",
   "id": "6c412db7-2fbc-4225-921c-844df40bda77",
   "metadata": {},
   "source": [
    "We decided to fill in missing values with zeros."
   ]
  },
  {
   "cell_type": "code",
   "execution_count": 30,
   "id": "158cc5c6-c7f8-431a-b06f-def82f34ab34",
   "metadata": {},
   "outputs": [],
   "source": [
    "user_behavior['calls'] = user_behavior['calls'].fillna(0)\n",
    "user_behavior['minutes'] = user_behavior['minutes'].fillna(0)\n",
    "user_behavior['messages'] = user_behavior['messages'].fillna(0)\n",
    "user_behavior['mb_used'] = user_behavior['mb_used'].fillna(0)"
   ]
  },
  {
   "cell_type": "markdown",
   "id": "a54a9b39-5631-4e51-8bc7-f74b92a3b3b5",
   "metadata": {},
   "source": [
    "Now let's add information on tariffs to data frame."
   ]
  },
  {
   "cell_type": "code",
   "execution_count": 32,
   "id": "23d7e1ff-6d8f-4f1a-bc52-1fd4862a56bf",
   "metadata": {},
   "outputs": [],
   "source": [
    "tariffs = tariffs.rename(columns={'tariff_name': 'tariff'})\n",
    "user_behavior = user_behavior.merge(tariffs, on='tariff')"
   ]
  },
  {
   "cell_type": "markdown",
   "id": "5d79174f-2d99-4ef4-89e0-4ff7161f9823",
   "metadata": {},
   "source": [
    "Let's count the number of extra minutes, messages and megabytes for each user."
   ]
  },
  {
   "cell_type": "code",
   "execution_count": 33,
   "id": "8020fbf7-6e4f-408e-bb66-d1520d8b1819",
   "metadata": {},
   "outputs": [],
   "source": [
    "user_behavior['paid_minutes'] = user_behavior['minutes'] - user_behavior['minutes_included']\n",
    "user_behavior['paid_messages'] = user_behavior['messages'] - user_behavior['messages_included']\n",
    "user_behavior['paid_mb'] = user_behavior['mb_used'] - user_behavior['mb_per_month_included']\n",
    "\n",
    "# if the number of spent minutes and etc. does not exceed the number of minutes included,\n",
    "# we get negative value and can replace it with zero since user did not use extra minutes and etc.\n",
    "\n",
    "for col in ['paid_messages', 'paid_minutes', 'paid_mb']:\n",
    "    user_behavior.loc[user_behavior[col] < 0, col] = 0"
   ]
  },
  {
   "cell_type": "markdown",
   "id": "1ad5b67e-5513-41ad-99bd-8fc0176deec9",
   "metadata": {},
   "source": [
    "Let's convert extra megabytes to gigabytes."
   ]
  },
  {
   "cell_type": "code",
   "execution_count": 34,
   "id": "f1ddbefb-35e9-47ee-9ebd-ee05938f010b",
   "metadata": {},
   "outputs": [],
   "source": [
    "user_behavior['paid_gb'] = np.ceil(user_behavior['paid_mb'] / 1024).astype(int)"
   ]
  },
  {
   "cell_type": "markdown",
   "id": "3a7e5d59-b58f-413b-a6ca-296595c8565c",
   "metadata": {},
   "source": [
    "Now, we will calculate cost of paid extra minutes, messages and the Internet."
   ]
  },
  {
   "cell_type": "code",
   "execution_count": 36,
   "id": "84cc2b9c-a9e2-4746-b25a-1e449690e964",
   "metadata": {},
   "outputs": [],
   "source": [
    "user_behavior['cost_minutes'] = user_behavior['paid_minutes'] * user_behavior['rub_per_minute']\n",
    "user_behavior['cost_messages'] = user_behavior['paid_messages'] * user_behavior['rub_per_message']\n",
    "user_behavior['cost_gb'] = user_behavior['paid_gb'] * user_behavior['rub_per_gb']"
   ]
  },
  {
   "cell_type": "markdown",
   "id": "ceb10e97-dd5e-4ec4-86c5-d42d82c6f7f3",
   "metadata": {},
   "source": [
    "Finally, let's get total cost for each user – we will sum monthly fee with the price paid for extra minutes, messages and gb."
   ]
  },
  {
   "cell_type": "code",
   "execution_count": 37,
   "id": "4d0d7c26-0df1-4865-87b9-3f7911aaa72d",
   "metadata": {},
   "outputs": [],
   "source": [
    "user_behavior['total_cost'] = \\\n",
    "user_behavior[['rub_monthly_fee', 'cost_minutes', 'cost_messages','cost_gb']].sum(axis=1)"
   ]
  },
  {
   "cell_type": "markdown",
   "id": "e768d3ff-4c8f-4cf8-b71b-df17f3468660",
   "metadata": {},
   "source": [
    "Let's create a `stats_df` where for each \"month-tariff\" pair we will get the mean, standard deviation and median. \n",
    "\n",
    "We will group data by month and tariff using `pivot_table` and calculate the corresponding metrics for `calls`, `minutes`, `messages` and `mb_used` values."
   ]
  },
  {
   "cell_type": "code",
   "execution_count": 38,
   "id": "3eb6be78-a746-40fa-927e-56ebe4eb7cbe",
   "metadata": {},
   "outputs": [
    {
     "data": {
      "text/html": [
       "<div>\n",
       "<style scoped>\n",
       "    .dataframe tbody tr th:only-of-type {\n",
       "        vertical-align: middle;\n",
       "    }\n",
       "\n",
       "    .dataframe tbody tr th {\n",
       "        vertical-align: top;\n",
       "    }\n",
       "\n",
       "    .dataframe thead th {\n",
       "        text-align: right;\n",
       "    }\n",
       "</style>\n",
       "<table border=\"1\" class=\"dataframe\">\n",
       "  <thead>\n",
       "    <tr style=\"text-align: right;\">\n",
       "      <th></th>\n",
       "      <th>month</th>\n",
       "      <th>tariff</th>\n",
       "      <th>calls_mean</th>\n",
       "      <th>sessions_mean</th>\n",
       "      <th>messages_mean</th>\n",
       "      <th>minutes_mean</th>\n",
       "      <th>calls_std</th>\n",
       "      <th>sessions_std</th>\n",
       "      <th>messages_std</th>\n",
       "      <th>minutes_std</th>\n",
       "      <th>calls_median</th>\n",
       "      <th>sessions_median</th>\n",
       "      <th>messages_median</th>\n",
       "      <th>minutes_median</th>\n",
       "    </tr>\n",
       "  </thead>\n",
       "  <tbody>\n",
       "    <tr>\n",
       "      <th>0</th>\n",
       "      <td>1</td>\n",
       "      <td>smart</td>\n",
       "      <td>27.676</td>\n",
       "      <td>8513.718</td>\n",
       "      <td>18.235</td>\n",
       "      <td>203.853</td>\n",
       "      <td>20.812</td>\n",
       "      <td>6444.681</td>\n",
       "      <td>16.198</td>\n",
       "      <td>154.231</td>\n",
       "      <td>20.5</td>\n",
       "      <td>7096.185</td>\n",
       "      <td>15.0</td>\n",
       "      <td>162.5</td>\n",
       "    </tr>\n",
       "    <tr>\n",
       "      <th>1</th>\n",
       "      <td>1</td>\n",
       "      <td>ultra</td>\n",
       "      <td>59.444</td>\n",
       "      <td>13140.681</td>\n",
       "      <td>33.778</td>\n",
       "      <td>428.111</td>\n",
       "      <td>41.639</td>\n",
       "      <td>6865.347</td>\n",
       "      <td>30.671</td>\n",
       "      <td>269.758</td>\n",
       "      <td>51.0</td>\n",
       "      <td>14791.370</td>\n",
       "      <td>32.0</td>\n",
       "      <td>382.0</td>\n",
       "    </tr>\n",
       "    <tr>\n",
       "      <th>2</th>\n",
       "      <td>2</td>\n",
       "      <td>smart</td>\n",
       "      <td>40.190</td>\n",
       "      <td>11597.054</td>\n",
       "      <td>24.086</td>\n",
       "      <td>298.690</td>\n",
       "      <td>25.394</td>\n",
       "      <td>6247.354</td>\n",
       "      <td>21.751</td>\n",
       "      <td>190.820</td>\n",
       "      <td>38.5</td>\n",
       "      <td>12553.710</td>\n",
       "      <td>20.0</td>\n",
       "      <td>258.0</td>\n",
       "    </tr>\n",
       "    <tr>\n",
       "      <th>3</th>\n",
       "      <td>2</td>\n",
       "      <td>ultra</td>\n",
       "      <td>41.542</td>\n",
       "      <td>11775.938</td>\n",
       "      <td>21.958</td>\n",
       "      <td>297.125</td>\n",
       "      <td>40.972</td>\n",
       "      <td>10644.644</td>\n",
       "      <td>26.774</td>\n",
       "      <td>296.513</td>\n",
       "      <td>25.0</td>\n",
       "      <td>7327.125</td>\n",
       "      <td>5.5</td>\n",
       "      <td>168.0</td>\n",
       "    </tr>\n",
       "    <tr>\n",
       "      <th>4</th>\n",
       "      <td>3</td>\n",
       "      <td>smart</td>\n",
       "      <td>54.325</td>\n",
       "      <td>15104.159</td>\n",
       "      <td>31.857</td>\n",
       "      <td>390.052</td>\n",
       "      <td>25.537</td>\n",
       "      <td>5828.238</td>\n",
       "      <td>26.805</td>\n",
       "      <td>191.894</td>\n",
       "      <td>59.0</td>\n",
       "      <td>15670.250</td>\n",
       "      <td>23.0</td>\n",
       "      <td>409.0</td>\n",
       "    </tr>\n",
       "    <tr>\n",
       "      <th>5</th>\n",
       "      <td>3</td>\n",
       "      <td>ultra</td>\n",
       "      <td>67.676</td>\n",
       "      <td>17535.550</td>\n",
       "      <td>32.297</td>\n",
       "      <td>489.649</td>\n",
       "      <td>44.838</td>\n",
       "      <td>10951.786</td>\n",
       "      <td>41.622</td>\n",
       "      <td>333.744</td>\n",
       "      <td>57.0</td>\n",
       "      <td>17495.180</td>\n",
       "      <td>20.0</td>\n",
       "      <td>403.0</td>\n",
       "    </tr>\n",
       "    <tr>\n",
       "      <th>6</th>\n",
       "      <td>4</td>\n",
       "      <td>smart</td>\n",
       "      <td>51.312</td>\n",
       "      <td>13462.181</td>\n",
       "      <td>30.741</td>\n",
       "      <td>367.134</td>\n",
       "      <td>25.705</td>\n",
       "      <td>5698.249</td>\n",
       "      <td>24.539</td>\n",
       "      <td>186.489</td>\n",
       "      <td>52.0</td>\n",
       "      <td>14087.650</td>\n",
       "      <td>28.0</td>\n",
       "      <td>368.5</td>\n",
       "    </tr>\n",
       "    <tr>\n",
       "      <th>7</th>\n",
       "      <td>4</td>\n",
       "      <td>ultra</td>\n",
       "      <td>64.091</td>\n",
       "      <td>16828.134</td>\n",
       "      <td>31.564</td>\n",
       "      <td>458.018</td>\n",
       "      <td>36.272</td>\n",
       "      <td>9718.650</td>\n",
       "      <td>37.514</td>\n",
       "      <td>267.682</td>\n",
       "      <td>61.0</td>\n",
       "      <td>16645.780</td>\n",
       "      <td>17.0</td>\n",
       "      <td>453.0</td>\n",
       "    </tr>\n",
       "    <tr>\n",
       "      <th>8</th>\n",
       "      <td>5</td>\n",
       "      <td>smart</td>\n",
       "      <td>55.241</td>\n",
       "      <td>15805.184</td>\n",
       "      <td>33.773</td>\n",
       "      <td>387.362</td>\n",
       "      <td>25.377</td>\n",
       "      <td>5978.232</td>\n",
       "      <td>27.037</td>\n",
       "      <td>186.601</td>\n",
       "      <td>59.0</td>\n",
       "      <td>16323.940</td>\n",
       "      <td>30.0</td>\n",
       "      <td>433.0</td>\n",
       "    </tr>\n",
       "    <tr>\n",
       "      <th>9</th>\n",
       "      <td>5</td>\n",
       "      <td>ultra</td>\n",
       "      <td>72.507</td>\n",
       "      <td>19363.153</td>\n",
       "      <td>37.851</td>\n",
       "      <td>510.328</td>\n",
       "      <td>41.081</td>\n",
       "      <td>10046.110</td>\n",
       "      <td>40.307</td>\n",
       "      <td>289.604</td>\n",
       "      <td>75.0</td>\n",
       "      <td>18696.430</td>\n",
       "      <td>25.0</td>\n",
       "      <td>519.0</td>\n",
       "    </tr>\n",
       "  </tbody>\n",
       "</table>\n",
       "</div>"
      ],
      "text/plain": [
       "   month tariff  calls_mean  sessions_mean  messages_mean  minutes_mean  \\\n",
       "0      1  smart      27.676       8513.718         18.235       203.853   \n",
       "1      1  ultra      59.444      13140.681         33.778       428.111   \n",
       "2      2  smart      40.190      11597.054         24.086       298.690   \n",
       "3      2  ultra      41.542      11775.938         21.958       297.125   \n",
       "4      3  smart      54.325      15104.159         31.857       390.052   \n",
       "5      3  ultra      67.676      17535.550         32.297       489.649   \n",
       "6      4  smart      51.312      13462.181         30.741       367.134   \n",
       "7      4  ultra      64.091      16828.134         31.564       458.018   \n",
       "8      5  smart      55.241      15805.184         33.773       387.362   \n",
       "9      5  ultra      72.507      19363.153         37.851       510.328   \n",
       "\n",
       "   calls_std  sessions_std  messages_std  minutes_std  calls_median  \\\n",
       "0     20.812      6444.681        16.198      154.231          20.5   \n",
       "1     41.639      6865.347        30.671      269.758          51.0   \n",
       "2     25.394      6247.354        21.751      190.820          38.5   \n",
       "3     40.972     10644.644        26.774      296.513          25.0   \n",
       "4     25.537      5828.238        26.805      191.894          59.0   \n",
       "5     44.838     10951.786        41.622      333.744          57.0   \n",
       "6     25.705      5698.249        24.539      186.489          52.0   \n",
       "7     36.272      9718.650        37.514      267.682          61.0   \n",
       "8     25.377      5978.232        27.037      186.601          59.0   \n",
       "9     41.081     10046.110        40.307      289.604          75.0   \n",
       "\n",
       "   sessions_median  messages_median  minutes_median  \n",
       "0         7096.185             15.0           162.5  \n",
       "1        14791.370             32.0           382.0  \n",
       "2        12553.710             20.0           258.0  \n",
       "3         7327.125              5.5           168.0  \n",
       "4        15670.250             23.0           409.0  \n",
       "5        17495.180             20.0           403.0  \n",
       "6        14087.650             28.0           368.5  \n",
       "7        16645.780             17.0           453.0  \n",
       "8        16323.940             30.0           433.0  \n",
       "9        18696.430             25.0           519.0  "
      ]
     },
     "metadata": {},
     "output_type": "display_data"
    }
   ],
   "source": [
    "stats_df = user_behavior.pivot_table(\n",
    "    index=['month', 'tariff'],\n",
    "    values=['calls', 'minutes', 'messages', 'mb_used'],\n",
    "    aggfunc=['mean', 'std', 'median']\n",
    ").round(3).reset_index()\n",
    "\n",
    "stats_df.columns=['month', 'tariff', 'calls_mean', 'sessions_mean', 'messages_mean', 'minutes_mean',\n",
    "                                     'calls_std',  'sessions_std', 'messages_std', 'minutes_std', \n",
    "                                     'calls_median', 'sessions_median', 'messages_median',  'minutes_median']\n",
    "\n",
    "display(stats_df.head(10))"
   ]
  },
  {
   "cell_type": "markdown",
   "id": "e7fd9dc1-5858-4af9-aafc-410d3fdfd7e6",
   "metadata": {},
   "source": [
    "Let's study the distribution of the average number of calls by months. We will group data on graph by tariff plan."
   ]
  },
  {
   "cell_type": "code",
   "execution_count": 44,
   "id": "5f6ae45b-421e-4238-8509-dedd63f08873",
   "metadata": {},
   "outputs": [
    {
     "data": {
      "image/png": "[encoded data removed]",
      "text/plain": [
       "<Figure size 432x288 with 1 Axes>"
      ]
     },
     "metadata": {
      "needs_background": "light"
     },
     "output_type": "display_data"
    }
   ],
   "source": [
    "ax = sns.barplot(x='month', \n",
    "            y='calls_mean', \n",
    "            hue=\"tariff\",\n",
    "            data=stats_df,\n",
    "            palette=sns.color_palette(\"pastel\")[0:2])\n",
    "\n",
    "ax.set_title('Distribution of mean number of calls by month')\n",
    "ax.set(xlabel='Number of month', ylabel='Mean number of calls')\n",
    "plt.show()"
   ]
  },
  {
   "cell_type": "markdown",
   "id": "a73d0ae5-8fcd-4c1f-a9f5-cfa66071e75b",
   "metadata": {},
   "source": [
    "Now let's study the distribution of number of calls made by customers using different tariffs."
   ]
  },
  {
   "cell_type": "code",
   "execution_count": 45,
   "id": "16d29ff3-c6f9-4923-b81e-751d998032d8",
   "metadata": {},
   "outputs": [
    {
     "data": {
      "image/png": "[encoded data removed]",
      "text/plain": [
       "<Figure size 432x288 with 1 Axes>"
      ]
     },
     "metadata": {
      "needs_background": "light"
     },
     "output_type": "display_data"
    }
   ],
   "source": [
    "user_behavior.groupby('tariff')['calls'].plot(kind='hist', bins=35, alpha=0.5, rwidth=0.8)\n",
    "\n",
    "plt.legend(['Smart', 'Ultra'])\n",
    "plt.xlabel('Number of calls')\n",
    "plt.ylabel('Number of clients')\n",
    "plt.title('Distribution of number of calls')\n",
    "plt.show()"
   ]
  },
  {
   "cell_type": "markdown",
   "id": "6c0de6f3-f022-4882-a0ef-13edb83715f3",
   "metadata": {},
   "source": [
    "Next, we will study the distribution of the average duration of calls by months. We will group data on graph by tariff plan."
   ]
  },
  {
   "cell_type": "code",
   "execution_count": 42,
   "id": "581b5a57-40f2-41eb-ba28-10d29c391ff8",
   "metadata": {},
   "outputs": [
    {
     "data": {
      "image/png": "[encoded data removed]",
      "text/plain": [
       "<Figure size 432x288 with 1 Axes>"
      ]
     },
     "metadata": {
      "needs_background": "light"
     },
     "output_type": "display_data"
    }
   ],
   "source": [
    "ax = sns.barplot(x='month', \n",
    "            y='minutes_mean', \n",
    "            hue=\"tariff\",\n",
    "            data=stats_df,\n",
    "            palette=sns.color_palette(\"pastel\")[0:2])\n",
    "\n",
    "ax.set_title('Distribution of the average duration of calls')\n",
    "ax.set(xlabel='Number of month', ylabel='Average duration of calls')\n",
    "plt.show()"
   ]
  },
  {
   "cell_type": "code",
   "execution_count": 46,
   "id": "fe06e469-1d6e-493f-bf9b-73e0f5dc61f3",
   "metadata": {},
   "outputs": [
    {
     "data": {
      "image/png": "[encoded data removed]",
      "text/plain": [
       "<Figure size 432x288 with 1 Axes>"
      ]
     },
     "metadata": {
      "needs_background": "light"
     },
     "output_type": "display_data"
    }
   ],
   "source": [
    "user_behavior[user_behavior['tariff'] =='smart']['minutes'].hist(bins=35, alpha=0.5, rwidth=0.8)\n",
    "user_behavior[user_behavior['tariff'] =='ultra']['minutes'].hist(bins=35, alpha=0.5, rwidth=0.8)\n",
    "\n",
    "plt.legend(['Smart', 'Ultra'])\n",
    "plt.xlabel('Duration of calls')\n",
    "plt.ylabel('Number of clients')\n",
    "plt.title('Distribution of the duration of calls')\n",
    "plt.grid()\n",
    "plt.show()"
   ]
  },
  {
   "cell_type": "markdown",
   "id": "e20ec5bb-f8d9-4b75-805e-0a7908f537ab",
   "metadata": {},
   "source": [
    "**Summary:** The average duration of calls for Ultra tariff users is longer than for Smart tariff users. During the year, there is an increase in the average duration of the calls for users of both tariffs. The growth of the average duration of calls for clients of the Smart plan is stable throughout the year. However, we cannot see the similar trend for Ultra tariff users. In February, subscribers of both tariff plans had the lowest rates."
   ]
  },
  {
   "cell_type": "markdown",
   "id": "8e64fff0-97d1-49df-ae0c-33541304d86e",
   "metadata": {},
   "source": [
    "Now let's study the distribution of the average number of messages by months. We will group data on graph by tariff plan."
   ]
  },
  {
   "cell_type": "code",
   "execution_count": 56,
   "id": "b4d57178-40ec-4818-a556-1f7f55a91244",
   "metadata": {},
   "outputs": [
    {
     "data": {
      "image/png": "[encoded data removed]",
      "text/plain": [
       "<Figure size 432x288 with 1 Axes>"
      ]
     },
     "metadata": {
      "needs_background": "light"
     },
     "output_type": "display_data"
    }
   ],
   "source": [
    "ax = sns.barplot(x='month', \n",
    "            y='messages_mean', \n",
    "            hue=\"tariff\",\n",
    "            data=stats_df,\n",
    "            palette=sns.color_palette(\"pastel\")[0:2])\n",
    "\n",
    "ax.set_title('Distribution of the average number of messages')\n",
    "ax.set(xlabel='Number of month', ylabel='Average number of messages')\n",
    "plt.show()"
   ]
  },
  {
   "cell_type": "code",
   "execution_count": 48,
   "id": "fb20064a-d565-44f6-9076-95bf181e91cc",
   "metadata": {},
   "outputs": [
    {
     "data": {
      "image/png": "[encoded data removed]",
      "text/plain": [
       "<Figure size 432x288 with 1 Axes>"
      ]
     },
     "metadata": {
      "needs_background": "light"
     },
     "output_type": "display_data"
    }
   ],
   "source": [
    "user_behavior[user_behavior['tariff'] =='smart']['messages'].hist(bins=35, alpha=0.5, rwidth=0.8, label='Smart')\n",
    "user_behavior[user_behavior['tariff'] =='ultra']['messages'].hist(bins=35, alpha=0.5, rwidth=0.8, label='Ultra')\n",
    "\n",
    "plt.legend()\n",
    "plt.xlabel('Number of messages')\n",
    "plt.ylabel('Number of clients')\n",
    "plt.title('Distribution of the number of messages')\n",
    "plt.grid()\n",
    "plt.show()"
   ]
  },
  {
   "cell_type": "markdown",
   "id": "6c9bdbb7-0bf3-4832-a365-84b90bbc022c",
   "metadata": {},
   "source": [
    "**Summary:** Ultra plan users on average send more messages than Smart plan users. The number of messages during the year is growing for users of both tariffs. The dynamics of sending messages is similar to the trends in the duration of calls. Thus, in February, the smallest number of messages was sent."
   ]
  },
  {
   "cell_type": "markdown",
   "id": "654ea372-65d0-4bf3-b2a9-3062c85174bc",
   "metadata": {},
   "source": [
    "Finally, let's study the distribution of mobile Internet traffic by months."
   ]
  },
  {
   "cell_type": "code",
   "execution_count": 52,
   "id": "6ef858e3-70a2-400c-912b-13062efc4d32",
   "metadata": {},
   "outputs": [
    {
     "data": {
      "image/png": "[encoded data removed]",
      "text/plain": [
       "<Figure size 432x288 with 1 Axes>"
      ]
     },
     "metadata": {
      "needs_background": "light"
     },
     "output_type": "display_data"
    }
   ],
   "source": [
    "ax = sns.barplot(x='month', \n",
    "            y='sessions_mean', \n",
    "            hue=\"tariff\", \n",
    "            data=stats_df,\n",
    "            palette=sns.color_palette(\"pastel\")[0:2])\n",
    "\n",
    "ax.set_title('Distribution of average MB used')\n",
    "ax.set(xlabel='Number of month', ylabel='Average MB used')\n",
    "plt.show()"
   ]
  },
  {
   "cell_type": "markdown",
   "id": "ebd399ef-4621-4986-871f-c777ff778eec",
   "metadata": {},
   "source": [
    "Let's compare the distribution of megabytes spent by Smart and Ultra tariffs clients."
   ]
  },
  {
   "cell_type": "code",
   "execution_count": 53,
   "id": "64723d80-a3f5-4ca4-a4e5-339b7c14ec4b",
   "metadata": {},
   "outputs": [
    {
     "data": {
      "image/png": "[encoded data removed]",
      "text/plain": [
       "<Figure size 432x288 with 1 Axes>"
      ]
     },
     "metadata": {
      "needs_background": "light"
     },
     "output_type": "display_data"
    }
   ],
   "source": [
    "user_behavior[user_behavior['tariff'] =='smart']['mb_used'].hist(bins=35, alpha=0.5, rwidth=0.8)\n",
    "user_behavior[user_behavior['tariff'] =='ultra']['mb_used'].hist(bins=35, alpha=0.5, rwidth=0.8)\n",
    "\n",
    "plt.legend(['Smart', 'Ultra'])\n",
    "plt.xlabel('MB')\n",
    "plt.ylabel('Number of clients')\n",
    "plt.title('Distribution of the MB')\n",
    "plt.grid()\n",
    "plt.show()"
   ]
  },
  {
   "cell_type": "markdown",
   "id": "495fcd1b-3dd0-4c48-8041-7b356e09315f",
   "metadata": {},
   "source": [
    "**Summary:** Users do not actively use the mobile Internet in January, February and April. Clients of the Smart plan usually spend 15-17 GB, and users of the Ultra plan - 19-21 GB."
   ]
  },
  {
   "cell_type": "markdown",
   "id": "3de38e03-70c3-4e9b-8e15-971e68b08fc9",
   "metadata": {},
   "source": [
    "### Hypotheses testing"
   ]
  },
  {
   "cell_type": "markdown",
   "id": "ce0edd42-e596-4922-a846-3fbe187fe847",
   "metadata": {},
   "source": [
    "As we can see from the results of data analisys, users' behaviour is different. Ultra plan customers, on average, make more (and longer) phone calls, send more messages and spend more time on the Internet than Smart plan users. Does it mean that the revenue from these two tariffs is different?\n",
    "\n",
    "Hypothesis: the average revenue from Ultra and Smart tariffs are different.\n",
    "\n",
    "```\n",
    "H_0: Total cost \"Ultra\" = Total cost \"Smart\"\n",
    "H_a: Total cost \"Ultra\" ≠ Total cost \"Smart\"\n",
    "alpha = 0.05\n",
    "```"
   ]
  },
  {
   "cell_type": "code",
   "execution_count": 54,
   "id": "a64a065f-42d8-4f40-a9bb-21fc916436b4",
   "metadata": {},
   "outputs": [
    {
     "name": "stdout",
     "output_type": "stream",
     "text": [
      "4.2606313931076085e-250\n",
      "Reject the null hypothesis\n"
     ]
    }
   ],
   "source": [
    "# use Student's test for independent samples\n",
    "\n",
    "results = st.ttest_ind(\n",
    "    user_behavior.query('tariff == \"ultra\"')['total_cost'],\n",
    "    user_behavior.query('tariff == \"smart\"')['total_cost'],\n",
    "    equal_var = False\n",
    ")\n",
    "\n",
    "alpha = 0.05\n",
    "\n",
    "print(results.pvalue)\n",
    "\n",
    "if results.pvalue < alpha:\n",
    "    print('Reject the null hypothesis')\n",
    "else:\n",
    "    print('Failed to reject the null hypothesis')"
   ]
  },
  {
   "cell_type": "markdown",
   "id": "299e5f6d-2c07-4955-8a5d-696cd95509d0",
   "metadata": {},
   "source": [
    "**Summary:** We reject the null hypothesis: the revenue from the two tariffs are different."
   ]
  },
  {
   "cell_type": "markdown",
   "id": "09d09ad0-b09a-464f-98c5-87f8e71648ec",
   "metadata": {},
   "source": [
    "In addition, let's test the hypothesis that users from Moscow bring more profit than users from other cities:\n",
    "\n",
    "```\n",
    "H_0: Total cost Moscow users = Total cost not Moscow users\n",
    "H_1: Total cost Moscow users ≠ Total cost not Moscow users\n",
    "alpha = 0.05\n",
    "```"
   ]
  },
  {
   "cell_type": "code",
   "execution_count": 55,
   "id": "eaa64543-a8a7-49db-959e-0abece47af7b",
   "metadata": {},
   "outputs": [
    {
     "name": "stdout",
     "output_type": "stream",
     "text": [
      "0.5440152911670224\n",
      "Failed to reject the null hypothesis\n"
     ]
    }
   ],
   "source": [
    "results = st.ttest_ind(\n",
    "    user_behavior.query('city == \"Москва\"')['total_cost'],\n",
    "    user_behavior.query('city != \"Москва\"')['total_cost'],\n",
    ")\n",
    "\n",
    "alpha = 0.05\n",
    "\n",
    "print(results.pvalue)\n",
    "if results.pvalue < alpha:\n",
    "    print('Reject the null hypothesis')\n",
    "else:\n",
    "    print('Failed to reject the null hypothesis')"
   ]
  },
  {
   "cell_type": "markdown",
   "id": "ee2bd17c-ffa7-4932-bebe-21064d29743e",
   "metadata": {},
   "source": [
    "**Summary:** We failed to reject the null hypothesis: users from Moscow do not bring more profit than users from other cities."
   ]
  },
  {
   "cell_type": "markdown",
   "id": "1cc51a87-6003-4af2-9070-ab33cc980c90",
   "metadata": {},
   "source": [
    "## Conclusion"
   ]
  },
  {
   "cell_type": "markdown",
   "id": "0164d7b8-ccda-4d12-a7a6-0b9267f27eb4",
   "metadata": {},
   "source": [
    "In this research, we analyzed a small sample of Ultra and Smart plans users. As a result, we found out that customers use tariffs differently. Therefore, we assumed that the revenue from different tariffs would be different. In addition, we suggensted that users from Moscow would bring more profit than users from other cities. \n",
    "\n",
    "Our hypothesis that the revenue from Ultra and Smart tariffs is different was confirmed (alpha < 0.05). The second hypothesis that users from Moscow bring more profit that users from other cities was not confirmed."
   ]
  }
 ],
 "metadata": {
  "kernelspec": {
   "display_name": "Python 3 (ipykernel)",
   "language": "python",
   "name": "python3"
  },
  "language_info": {
   "codemirror_mode": {
    "name": "ipython",
    "version": 3
   },
   "file_extension": ".py",
   "mimetype": "text/x-python",
   "name": "python",
   "nbconvert_exporter": "python",
   "pygments_lexer": "ipython3",
   "version": "3.9.13"
  }
 },
 "nbformat": 4,
 "nbformat_minor": 5
}
