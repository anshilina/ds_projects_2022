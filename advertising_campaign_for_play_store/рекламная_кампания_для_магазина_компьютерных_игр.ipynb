{
 "cells": [
  {
   "cell_type": "markdown",
   "metadata": {},
   "source": [
    "# Рекламная кампания для магазина компьютерных игр"
   ]
  },
  {
   "cell_type": "markdown",
   "metadata": {},
   "source": [
    "## Изучение общей информации о данных"
   ]
  },
  {
   "cell_type": "code",
   "execution_count": 73,
   "metadata": {},
   "outputs": [],
   "source": [
    "from IPython.display import display\n",
    "import matplotlib.pyplot as plt\n",
    "from scipy import stats\n",
    "import seaborn as sns\n",
    "import pandas as pd"
   ]
  },
  {
   "cell_type": "code",
   "execution_count": 74,
   "metadata": {},
   "outputs": [
    {
     "data": {
      "text/html": [
       "<div>\n",
       "<style scoped>\n",
       "    .dataframe tbody tr th:only-of-type {\n",
       "        vertical-align: middle;\n",
       "    }\n",
       "\n",
       "    .dataframe tbody tr th {\n",
       "        vertical-align: top;\n",
       "    }\n",
       "\n",
       "    .dataframe thead th {\n",
       "        text-align: right;\n",
       "    }\n",
       "</style>\n",
       "<table border=\"1\" class=\"dataframe\">\n",
       "  <thead>\n",
       "    <tr style=\"text-align: right;\">\n",
       "      <th></th>\n",
       "      <th>Name</th>\n",
       "      <th>Platform</th>\n",
       "      <th>Year_of_Release</th>\n",
       "      <th>Genre</th>\n",
       "      <th>NA_sales</th>\n",
       "      <th>EU_sales</th>\n",
       "      <th>JP_sales</th>\n",
       "      <th>Other_sales</th>\n",
       "      <th>Critic_Score</th>\n",
       "      <th>User_Score</th>\n",
       "      <th>Rating</th>\n",
       "    </tr>\n",
       "  </thead>\n",
       "  <tbody>\n",
       "    <tr>\n",
       "      <th>0</th>\n",
       "      <td>Wii Sports</td>\n",
       "      <td>Wii</td>\n",
       "      <td>2006.0</td>\n",
       "      <td>Sports</td>\n",
       "      <td>41.36</td>\n",
       "      <td>28.96</td>\n",
       "      <td>3.77</td>\n",
       "      <td>8.45</td>\n",
       "      <td>76.0</td>\n",
       "      <td>8</td>\n",
       "      <td>E</td>\n",
       "    </tr>\n",
       "    <tr>\n",
       "      <th>1</th>\n",
       "      <td>Super Mario Bros.</td>\n",
       "      <td>NES</td>\n",
       "      <td>1985.0</td>\n",
       "      <td>Platform</td>\n",
       "      <td>29.08</td>\n",
       "      <td>3.58</td>\n",
       "      <td>6.81</td>\n",
       "      <td>0.77</td>\n",
       "      <td>NaN</td>\n",
       "      <td>NaN</td>\n",
       "      <td>NaN</td>\n",
       "    </tr>\n",
       "    <tr>\n",
       "      <th>2</th>\n",
       "      <td>Mario Kart Wii</td>\n",
       "      <td>Wii</td>\n",
       "      <td>2008.0</td>\n",
       "      <td>Racing</td>\n",
       "      <td>15.68</td>\n",
       "      <td>12.76</td>\n",
       "      <td>3.79</td>\n",
       "      <td>3.29</td>\n",
       "      <td>82.0</td>\n",
       "      <td>8.3</td>\n",
       "      <td>E</td>\n",
       "    </tr>\n",
       "    <tr>\n",
       "      <th>3</th>\n",
       "      <td>Wii Sports Resort</td>\n",
       "      <td>Wii</td>\n",
       "      <td>2009.0</td>\n",
       "      <td>Sports</td>\n",
       "      <td>15.61</td>\n",
       "      <td>10.93</td>\n",
       "      <td>3.28</td>\n",
       "      <td>2.95</td>\n",
       "      <td>80.0</td>\n",
       "      <td>8</td>\n",
       "      <td>E</td>\n",
       "    </tr>\n",
       "    <tr>\n",
       "      <th>4</th>\n",
       "      <td>Pokemon Red/Pokemon Blue</td>\n",
       "      <td>GB</td>\n",
       "      <td>1996.0</td>\n",
       "      <td>Role-Playing</td>\n",
       "      <td>11.27</td>\n",
       "      <td>8.89</td>\n",
       "      <td>10.22</td>\n",
       "      <td>1.00</td>\n",
       "      <td>NaN</td>\n",
       "      <td>NaN</td>\n",
       "      <td>NaN</td>\n",
       "    </tr>\n",
       "  </tbody>\n",
       "</table>\n",
       "</div>"
      ],
      "text/plain": [
       "                       Name Platform  Year_of_Release         Genre  NA_sales  \\\n",
       "0                Wii Sports      Wii           2006.0        Sports     41.36   \n",
       "1         Super Mario Bros.      NES           1985.0      Platform     29.08   \n",
       "2            Mario Kart Wii      Wii           2008.0        Racing     15.68   \n",
       "3         Wii Sports Resort      Wii           2009.0        Sports     15.61   \n",
       "4  Pokemon Red/Pokemon Blue       GB           1996.0  Role-Playing     11.27   \n",
       "\n",
       "   EU_sales  JP_sales  Other_sales  Critic_Score User_Score Rating  \n",
       "0     28.96      3.77         8.45          76.0          8      E  \n",
       "1      3.58      6.81         0.77           NaN        NaN    NaN  \n",
       "2     12.76      3.79         3.29          82.0        8.3      E  \n",
       "3     10.93      3.28         2.95          80.0          8      E  \n",
       "4      8.89     10.22         1.00           NaN        NaN    NaN  "
      ]
     },
     "metadata": {},
     "output_type": "display_data"
    }
   ],
   "source": [
    "try:\n",
    "    df = pd.read_csv('/datasets/games.csv')\n",
    "except:\n",
    "    df = pd.read_csv('games.csv')\n",
    "    \n",
    "display(df.head())"
   ]
  },
  {
   "cell_type": "code",
   "execution_count": 75,
   "metadata": {},
   "outputs": [
    {
     "name": "stdout",
     "output_type": "stream",
     "text": [
      "<class 'pandas.core.frame.DataFrame'>\n",
      "RangeIndex: 16715 entries, 0 to 16714\n",
      "Data columns (total 11 columns):\n",
      " #   Column           Non-Null Count  Dtype  \n",
      "---  ------           --------------  -----  \n",
      " 0   Name             16713 non-null  object \n",
      " 1   Platform         16715 non-null  object \n",
      " 2   Year_of_Release  16446 non-null  float64\n",
      " 3   Genre            16713 non-null  object \n",
      " 4   NA_sales         16715 non-null  float64\n",
      " 5   EU_sales         16715 non-null  float64\n",
      " 6   JP_sales         16715 non-null  float64\n",
      " 7   Other_sales      16715 non-null  float64\n",
      " 8   Critic_Score     8137 non-null   float64\n",
      " 9   User_Score       10014 non-null  object \n",
      " 10  Rating           9949 non-null   object \n",
      "dtypes: float64(6), object(5)\n",
      "memory usage: 1.4+ MB\n"
     ]
    }
   ],
   "source": [
    "df.info()"
   ]
  },
  {
   "cell_type": "code",
   "execution_count": 76,
   "metadata": {},
   "outputs": [
    {
     "data": {
      "text/html": [
       "<div>\n",
       "<style scoped>\n",
       "    .dataframe tbody tr th:only-of-type {\n",
       "        vertical-align: middle;\n",
       "    }\n",
       "\n",
       "    .dataframe tbody tr th {\n",
       "        vertical-align: top;\n",
       "    }\n",
       "\n",
       "    .dataframe thead th {\n",
       "        text-align: right;\n",
       "    }\n",
       "</style>\n",
       "<table border=\"1\" class=\"dataframe\">\n",
       "  <thead>\n",
       "    <tr style=\"text-align: right;\">\n",
       "      <th></th>\n",
       "      <th>Year_of_Release</th>\n",
       "      <th>NA_sales</th>\n",
       "      <th>EU_sales</th>\n",
       "      <th>JP_sales</th>\n",
       "      <th>Other_sales</th>\n",
       "      <th>Critic_Score</th>\n",
       "    </tr>\n",
       "  </thead>\n",
       "  <tbody>\n",
       "    <tr>\n",
       "      <th>count</th>\n",
       "      <td>16446.000000</td>\n",
       "      <td>16715.000000</td>\n",
       "      <td>16715.000000</td>\n",
       "      <td>16715.000000</td>\n",
       "      <td>16715.000000</td>\n",
       "      <td>8137.000000</td>\n",
       "    </tr>\n",
       "    <tr>\n",
       "      <th>mean</th>\n",
       "      <td>2006.484616</td>\n",
       "      <td>0.263377</td>\n",
       "      <td>0.145060</td>\n",
       "      <td>0.077617</td>\n",
       "      <td>0.047342</td>\n",
       "      <td>68.967679</td>\n",
       "    </tr>\n",
       "    <tr>\n",
       "      <th>std</th>\n",
       "      <td>5.877050</td>\n",
       "      <td>0.813604</td>\n",
       "      <td>0.503339</td>\n",
       "      <td>0.308853</td>\n",
       "      <td>0.186731</td>\n",
       "      <td>13.938165</td>\n",
       "    </tr>\n",
       "    <tr>\n",
       "      <th>min</th>\n",
       "      <td>1980.000000</td>\n",
       "      <td>0.000000</td>\n",
       "      <td>0.000000</td>\n",
       "      <td>0.000000</td>\n",
       "      <td>0.000000</td>\n",
       "      <td>13.000000</td>\n",
       "    </tr>\n",
       "    <tr>\n",
       "      <th>25%</th>\n",
       "      <td>2003.000000</td>\n",
       "      <td>0.000000</td>\n",
       "      <td>0.000000</td>\n",
       "      <td>0.000000</td>\n",
       "      <td>0.000000</td>\n",
       "      <td>60.000000</td>\n",
       "    </tr>\n",
       "    <tr>\n",
       "      <th>50%</th>\n",
       "      <td>2007.000000</td>\n",
       "      <td>0.080000</td>\n",
       "      <td>0.020000</td>\n",
       "      <td>0.000000</td>\n",
       "      <td>0.010000</td>\n",
       "      <td>71.000000</td>\n",
       "    </tr>\n",
       "    <tr>\n",
       "      <th>75%</th>\n",
       "      <td>2010.000000</td>\n",
       "      <td>0.240000</td>\n",
       "      <td>0.110000</td>\n",
       "      <td>0.040000</td>\n",
       "      <td>0.030000</td>\n",
       "      <td>79.000000</td>\n",
       "    </tr>\n",
       "    <tr>\n",
       "      <th>max</th>\n",
       "      <td>2016.000000</td>\n",
       "      <td>41.360000</td>\n",
       "      <td>28.960000</td>\n",
       "      <td>10.220000</td>\n",
       "      <td>10.570000</td>\n",
       "      <td>98.000000</td>\n",
       "    </tr>\n",
       "  </tbody>\n",
       "</table>\n",
       "</div>"
      ],
      "text/plain": [
       "       Year_of_Release      NA_sales      EU_sales      JP_sales  \\\n",
       "count     16446.000000  16715.000000  16715.000000  16715.000000   \n",
       "mean       2006.484616      0.263377      0.145060      0.077617   \n",
       "std           5.877050      0.813604      0.503339      0.308853   \n",
       "min        1980.000000      0.000000      0.000000      0.000000   \n",
       "25%        2003.000000      0.000000      0.000000      0.000000   \n",
       "50%        2007.000000      0.080000      0.020000      0.000000   \n",
       "75%        2010.000000      0.240000      0.110000      0.040000   \n",
       "max        2016.000000     41.360000     28.960000     10.220000   \n",
       "\n",
       "        Other_sales  Critic_Score  \n",
       "count  16715.000000   8137.000000  \n",
       "mean       0.047342     68.967679  \n",
       "std        0.186731     13.938165  \n",
       "min        0.000000     13.000000  \n",
       "25%        0.000000     60.000000  \n",
       "50%        0.010000     71.000000  \n",
       "75%        0.030000     79.000000  \n",
       "max       10.570000     98.000000  "
      ]
     },
     "execution_count": 76,
     "metadata": {},
     "output_type": "execute_result"
    }
   ],
   "source": [
    "df.describe()"
   ]
  },
  {
   "cell_type": "code",
   "execution_count": 77,
   "metadata": {},
   "outputs": [
    {
     "data": {
      "image/png": "[encoded data removed]",
      "text/plain": [
       "<Figure size 1080x1440 with 6 Axes>"
      ]
     },
     "metadata": {
      "needs_background": "light"
     },
     "output_type": "display_data"
    }
   ],
   "source": [
    "df.hist(figsize=(15,20), bins=20, rwidth=0.9)\n",
    "plt.show()"
   ]
  },
  {
   "cell_type": "markdown",
   "metadata": {},
   "source": [
    "**Вывод**: Рассмотрев массив данных, мы можем выделить этапы работы с данными:\n",
    "\n",
    "* Привести к нижнему регистру названия столбцов\n",
    "* Изменить тип данных в столбце \"год выпуска\", \"оценка пользователей\"\n",
    "* Изучить явные и неявные дубликаты\n",
    "* Изучить выбросы. При необходимость удалить их\n",
    "* Изучить пропуски в столбцах \"название игры\", \"оценка критиков\", \"оценка пользователей\", \"рейтинг от организации ESRB\" и проч. По возможности заменить пропуски"
   ]
  },
  {
   "cell_type": "markdown",
   "metadata": {},
   "source": [
    "## Подготовка данных"
   ]
  },
  {
   "cell_type": "markdown",
   "metadata": {},
   "source": [
    "### Изменение названий столбцов"
   ]
  },
  {
   "cell_type": "markdown",
   "metadata": {},
   "source": [
    "Чтобы было удобнее обращаться к массиву данных, приведем названия столбцов к нижнему регистру."
   ]
  },
  {
   "cell_type": "code",
   "execution_count": 78,
   "metadata": {},
   "outputs": [
    {
     "data": {
      "text/html": [
       "<div>\n",
       "<style scoped>\n",
       "    .dataframe tbody tr th:only-of-type {\n",
       "        vertical-align: middle;\n",
       "    }\n",
       "\n",
       "    .dataframe tbody tr th {\n",
       "        vertical-align: top;\n",
       "    }\n",
       "\n",
       "    .dataframe thead th {\n",
       "        text-align: right;\n",
       "    }\n",
       "</style>\n",
       "<table border=\"1\" class=\"dataframe\">\n",
       "  <thead>\n",
       "    <tr style=\"text-align: right;\">\n",
       "      <th></th>\n",
       "      <th>name</th>\n",
       "      <th>platform</th>\n",
       "      <th>year_of_release</th>\n",
       "      <th>genre</th>\n",
       "      <th>na_sales</th>\n",
       "      <th>eu_sales</th>\n",
       "      <th>jp_sales</th>\n",
       "      <th>other_sales</th>\n",
       "      <th>critic_score</th>\n",
       "      <th>user_score</th>\n",
       "      <th>rating</th>\n",
       "    </tr>\n",
       "  </thead>\n",
       "  <tbody>\n",
       "    <tr>\n",
       "      <th>0</th>\n",
       "      <td>Wii Sports</td>\n",
       "      <td>Wii</td>\n",
       "      <td>2006.0</td>\n",
       "      <td>Sports</td>\n",
       "      <td>41.36</td>\n",
       "      <td>28.96</td>\n",
       "      <td>3.77</td>\n",
       "      <td>8.45</td>\n",
       "      <td>76.0</td>\n",
       "      <td>8</td>\n",
       "      <td>E</td>\n",
       "    </tr>\n",
       "    <tr>\n",
       "      <th>1</th>\n",
       "      <td>Super Mario Bros.</td>\n",
       "      <td>NES</td>\n",
       "      <td>1985.0</td>\n",
       "      <td>Platform</td>\n",
       "      <td>29.08</td>\n",
       "      <td>3.58</td>\n",
       "      <td>6.81</td>\n",
       "      <td>0.77</td>\n",
       "      <td>NaN</td>\n",
       "      <td>NaN</td>\n",
       "      <td>NaN</td>\n",
       "    </tr>\n",
       "    <tr>\n",
       "      <th>2</th>\n",
       "      <td>Mario Kart Wii</td>\n",
       "      <td>Wii</td>\n",
       "      <td>2008.0</td>\n",
       "      <td>Racing</td>\n",
       "      <td>15.68</td>\n",
       "      <td>12.76</td>\n",
       "      <td>3.79</td>\n",
       "      <td>3.29</td>\n",
       "      <td>82.0</td>\n",
       "      <td>8.3</td>\n",
       "      <td>E</td>\n",
       "    </tr>\n",
       "    <tr>\n",
       "      <th>3</th>\n",
       "      <td>Wii Sports Resort</td>\n",
       "      <td>Wii</td>\n",
       "      <td>2009.0</td>\n",
       "      <td>Sports</td>\n",
       "      <td>15.61</td>\n",
       "      <td>10.93</td>\n",
       "      <td>3.28</td>\n",
       "      <td>2.95</td>\n",
       "      <td>80.0</td>\n",
       "      <td>8</td>\n",
       "      <td>E</td>\n",
       "    </tr>\n",
       "    <tr>\n",
       "      <th>4</th>\n",
       "      <td>Pokemon Red/Pokemon Blue</td>\n",
       "      <td>GB</td>\n",
       "      <td>1996.0</td>\n",
       "      <td>Role-Playing</td>\n",
       "      <td>11.27</td>\n",
       "      <td>8.89</td>\n",
       "      <td>10.22</td>\n",
       "      <td>1.00</td>\n",
       "      <td>NaN</td>\n",
       "      <td>NaN</td>\n",
       "      <td>NaN</td>\n",
       "    </tr>\n",
       "  </tbody>\n",
       "</table>\n",
       "</div>"
      ],
      "text/plain": [
       "                       name platform  year_of_release         genre  na_sales  \\\n",
       "0                Wii Sports      Wii           2006.0        Sports     41.36   \n",
       "1         Super Mario Bros.      NES           1985.0      Platform     29.08   \n",
       "2            Mario Kart Wii      Wii           2008.0        Racing     15.68   \n",
       "3         Wii Sports Resort      Wii           2009.0        Sports     15.61   \n",
       "4  Pokemon Red/Pokemon Blue       GB           1996.0  Role-Playing     11.27   \n",
       "\n",
       "   eu_sales  jp_sales  other_sales  critic_score user_score rating  \n",
       "0     28.96      3.77         8.45          76.0          8      E  \n",
       "1      3.58      6.81         0.77           NaN        NaN    NaN  \n",
       "2     12.76      3.79         3.29          82.0        8.3      E  \n",
       "3     10.93      3.28         2.95          80.0          8      E  \n",
       "4      8.89     10.22         1.00           NaN        NaN    NaN  "
      ]
     },
     "metadata": {},
     "output_type": "display_data"
    }
   ],
   "source": [
    "df.columns = df.columns.str.lower()\n",
    "display(df.head())"
   ]
  },
  {
   "cell_type": "markdown",
   "metadata": {},
   "source": [
    "### Преобразование типа данных"
   ]
  },
  {
   "cell_type": "markdown",
   "metadata": {},
   "source": [
    "#### Переменная \"год выпуска\""
   ]
  },
  {
   "cell_type": "markdown",
   "metadata": {},
   "source": [
    "В столбце `year_of_release` необходимо изменить тип данных из вещественного в целочисленный формат. Для решения поставленных в исследовании задач не понадобится формат дата-время, а от вещественного формата лучше избавиться – года в таком виде не принято \"хранить\".\n",
    "\n",
    "Мы не можем заменить формат предварительно не заполнив пропуски. Изучив пропущенные данные, мы пришли к выводу, что нет закономерности между пропущенным годом и названием игры, платформой или жанром (можно убедиться в этом, раскомментировав ячейки). Мы не можем восстановить пропуски исходя из данных. Изучим процент пропусков – он совсем небольшой (1,6%). Удалим пропуски"
   ]
  },
  {
   "cell_type": "code",
   "execution_count": 79,
   "metadata": {},
   "outputs": [],
   "source": [
    "# df.loc[df['year_of_release'].isna() == True, 'name'].value_counts()\n",
    "# df.loc[df['year_of_release'].isna() == True, 'platform'].value_counts()\n",
    "# df.loc[df['year_of_release'].isna() == True, 'genre'].value_counts()"
   ]
  },
  {
   "cell_type": "code",
   "execution_count": 80,
   "metadata": {},
   "outputs": [
    {
     "name": "stdout",
     "output_type": "stream",
     "text": [
      "Процент пропусков (\"год релиза\"): 1.61\n"
     ]
    }
   ],
   "source": [
    "print('Процент пропусков (\"год релиза\"):', round(df['year_of_release'].isna().sum()*100/df.shape[0], 2))"
   ]
  },
  {
   "cell_type": "code",
   "execution_count": 81,
   "metadata": {},
   "outputs": [
    {
     "name": "stdout",
     "output_type": "stream",
     "text": [
      "Количество пропусков (\"год релиза\"): 0\n"
     ]
    }
   ],
   "source": [
    "df = df.loc[~df['year_of_release'].isna()].copy()\n",
    "print('Количество пропусков (\"год релиза\"):', df['year_of_release'].isna().sum())"
   ]
  },
  {
   "cell_type": "code",
   "execution_count": 82,
   "metadata": {},
   "outputs": [
    {
     "data": {
      "text/html": [
       "<div>\n",
       "<style scoped>\n",
       "    .dataframe tbody tr th:only-of-type {\n",
       "        vertical-align: middle;\n",
       "    }\n",
       "\n",
       "    .dataframe tbody tr th {\n",
       "        vertical-align: top;\n",
       "    }\n",
       "\n",
       "    .dataframe thead th {\n",
       "        text-align: right;\n",
       "    }\n",
       "</style>\n",
       "<table border=\"1\" class=\"dataframe\">\n",
       "  <thead>\n",
       "    <tr style=\"text-align: right;\">\n",
       "      <th></th>\n",
       "      <th>name</th>\n",
       "      <th>platform</th>\n",
       "      <th>year_of_release</th>\n",
       "      <th>genre</th>\n",
       "      <th>na_sales</th>\n",
       "      <th>eu_sales</th>\n",
       "      <th>jp_sales</th>\n",
       "      <th>other_sales</th>\n",
       "      <th>critic_score</th>\n",
       "      <th>user_score</th>\n",
       "      <th>rating</th>\n",
       "    </tr>\n",
       "  </thead>\n",
       "  <tbody>\n",
       "    <tr>\n",
       "      <th>0</th>\n",
       "      <td>Wii Sports</td>\n",
       "      <td>Wii</td>\n",
       "      <td>2006</td>\n",
       "      <td>Sports</td>\n",
       "      <td>41.36</td>\n",
       "      <td>28.96</td>\n",
       "      <td>3.77</td>\n",
       "      <td>8.45</td>\n",
       "      <td>76.0</td>\n",
       "      <td>8</td>\n",
       "      <td>E</td>\n",
       "    </tr>\n",
       "    <tr>\n",
       "      <th>1</th>\n",
       "      <td>Super Mario Bros.</td>\n",
       "      <td>NES</td>\n",
       "      <td>1985</td>\n",
       "      <td>Platform</td>\n",
       "      <td>29.08</td>\n",
       "      <td>3.58</td>\n",
       "      <td>6.81</td>\n",
       "      <td>0.77</td>\n",
       "      <td>NaN</td>\n",
       "      <td>NaN</td>\n",
       "      <td>NaN</td>\n",
       "    </tr>\n",
       "    <tr>\n",
       "      <th>2</th>\n",
       "      <td>Mario Kart Wii</td>\n",
       "      <td>Wii</td>\n",
       "      <td>2008</td>\n",
       "      <td>Racing</td>\n",
       "      <td>15.68</td>\n",
       "      <td>12.76</td>\n",
       "      <td>3.79</td>\n",
       "      <td>3.29</td>\n",
       "      <td>82.0</td>\n",
       "      <td>8.3</td>\n",
       "      <td>E</td>\n",
       "    </tr>\n",
       "    <tr>\n",
       "      <th>3</th>\n",
       "      <td>Wii Sports Resort</td>\n",
       "      <td>Wii</td>\n",
       "      <td>2009</td>\n",
       "      <td>Sports</td>\n",
       "      <td>15.61</td>\n",
       "      <td>10.93</td>\n",
       "      <td>3.28</td>\n",
       "      <td>2.95</td>\n",
       "      <td>80.0</td>\n",
       "      <td>8</td>\n",
       "      <td>E</td>\n",
       "    </tr>\n",
       "    <tr>\n",
       "      <th>4</th>\n",
       "      <td>Pokemon Red/Pokemon Blue</td>\n",
       "      <td>GB</td>\n",
       "      <td>1996</td>\n",
       "      <td>Role-Playing</td>\n",
       "      <td>11.27</td>\n",
       "      <td>8.89</td>\n",
       "      <td>10.22</td>\n",
       "      <td>1.00</td>\n",
       "      <td>NaN</td>\n",
       "      <td>NaN</td>\n",
       "      <td>NaN</td>\n",
       "    </tr>\n",
       "  </tbody>\n",
       "</table>\n",
       "</div>"
      ],
      "text/plain": [
       "                       name platform  year_of_release         genre  na_sales  \\\n",
       "0                Wii Sports      Wii             2006        Sports     41.36   \n",
       "1         Super Mario Bros.      NES             1985      Platform     29.08   \n",
       "2            Mario Kart Wii      Wii             2008        Racing     15.68   \n",
       "3         Wii Sports Resort      Wii             2009        Sports     15.61   \n",
       "4  Pokemon Red/Pokemon Blue       GB             1996  Role-Playing     11.27   \n",
       "\n",
       "   eu_sales  jp_sales  other_sales  critic_score user_score rating  \n",
       "0     28.96      3.77         8.45          76.0          8      E  \n",
       "1      3.58      6.81         0.77           NaN        NaN    NaN  \n",
       "2     12.76      3.79         3.29          82.0        8.3      E  \n",
       "3     10.93      3.28         2.95          80.0          8      E  \n",
       "4      8.89     10.22         1.00           NaN        NaN    NaN  "
      ]
     },
     "metadata": {},
     "output_type": "display_data"
    }
   ],
   "source": [
    "df['year_of_release'] = df['year_of_release'].astype('int')\n",
    "display(df.head())"
   ]
  },
  {
   "cell_type": "markdown",
   "metadata": {},
   "source": [
    "#### Переменная \"оценка пользователей\""
   ]
  },
  {
   "cell_type": "markdown",
   "metadata": {},
   "source": [
    "Тип данных переменной `user_score` – строковый, но исходя из содержания столбцов, он должен быть вещественным. Заметим, что значения некоторых наблюдений в этом столбце – \"tbd\", что означает to be defined, т.е. неопределенное пропущенное значение. Заменим \"tbd\" на `None`, а затем изменим формат данных на вещественный."
   ]
  },
  {
   "cell_type": "code",
   "execution_count": 83,
   "metadata": {},
   "outputs": [],
   "source": [
    "df.loc[df['user_score'] == 'tbd', 'user_score'] = None\n",
    "df['user_score'] = pd.to_numeric(df['user_score'])"
   ]
  },
  {
   "cell_type": "code",
   "execution_count": 84,
   "metadata": {},
   "outputs": [
    {
     "name": "stdout",
     "output_type": "stream",
     "text": [
      "<class 'pandas.core.frame.DataFrame'>\n",
      "Int64Index: 16446 entries, 0 to 16714\n",
      "Data columns (total 11 columns):\n",
      " #   Column           Non-Null Count  Dtype  \n",
      "---  ------           --------------  -----  \n",
      " 0   name             16444 non-null  object \n",
      " 1   platform         16446 non-null  object \n",
      " 2   year_of_release  16446 non-null  int64  \n",
      " 3   genre            16444 non-null  object \n",
      " 4   na_sales         16446 non-null  float64\n",
      " 5   eu_sales         16446 non-null  float64\n",
      " 6   jp_sales         16446 non-null  float64\n",
      " 7   other_sales      16446 non-null  float64\n",
      " 8   critic_score     7983 non-null   float64\n",
      " 9   user_score       7463 non-null   float64\n",
      " 10  rating           9768 non-null   object \n",
      "dtypes: float64(6), int64(1), object(4)\n",
      "memory usage: 1.5+ MB\n"
     ]
    }
   ],
   "source": [
    "df.info()"
   ]
  },
  {
   "cell_type": "markdown",
   "metadata": {},
   "source": [
    "**Вывод**: Теперь формат всех данных соответсвует действительности. Можно перейти к изучению явных и неявных дубликатов."
   ]
  },
  {
   "cell_type": "markdown",
   "metadata": {},
   "source": [
    "### Удаление дубликатов"
   ]
  },
  {
   "cell_type": "markdown",
   "metadata": {},
   "source": [
    "В массиве данных нет явных дубликатов. Проверим, нет ли неявных дубликатов в строковых столбцах `platform` и `genre`."
   ]
  },
  {
   "cell_type": "code",
   "execution_count": 85,
   "metadata": {},
   "outputs": [
    {
     "data": {
      "text/plain": [
       "0"
      ]
     },
     "execution_count": 85,
     "metadata": {},
     "output_type": "execute_result"
    }
   ],
   "source": [
    "df.duplicated().sum()"
   ]
  },
  {
   "cell_type": "code",
   "execution_count": 86,
   "metadata": {},
   "outputs": [
    {
     "data": {
      "text/plain": [
       "Action          3307\n",
       "Sports          2306\n",
       "Misc            1721\n",
       "Role-Playing    1481\n",
       "Shooter         1296\n",
       "Adventure       1293\n",
       "Racing          1226\n",
       "Platform         878\n",
       "Simulation       857\n",
       "Fighting         837\n",
       "Strategy         673\n",
       "Puzzle           569\n",
       "Name: genre, dtype: int64"
      ]
     },
     "execution_count": 86,
     "metadata": {},
     "output_type": "execute_result"
    }
   ],
   "source": [
    "df['genre'].value_counts()"
   ]
  },
  {
   "cell_type": "code",
   "execution_count": 87,
   "metadata": {},
   "outputs": [
    {
     "data": {
      "text/plain": [
       "PS2     2127\n",
       "DS      2121\n",
       "PS3     1306\n",
       "Wii     1286\n",
       "X360    1232\n",
       "PSP     1193\n",
       "PS      1190\n",
       "PC       957\n",
       "GBA      811\n",
       "XB       803\n",
       "GC       542\n",
       "3DS      512\n",
       "PSV      429\n",
       "PS4      392\n",
       "N64      316\n",
       "XOne     247\n",
       "SNES     239\n",
       "SAT      173\n",
       "WiiU     147\n",
       "2600     116\n",
       "NES       98\n",
       "GB        97\n",
       "DC        52\n",
       "GEN       29\n",
       "NG        12\n",
       "SCD        6\n",
       "WS         6\n",
       "3DO        3\n",
       "TG16       2\n",
       "GG         1\n",
       "PCFX       1\n",
       "Name: platform, dtype: int64"
      ]
     },
     "execution_count": 87,
     "metadata": {},
     "output_type": "execute_result"
    }
   ],
   "source": [
    "df['platform'].value_counts()"
   ]
  },
  {
   "cell_type": "markdown",
   "metadata": {},
   "source": [
    "**Вывод:** Неявных дубликатов в массиве данных также нет. Можно переходить к замене пропусков."
   ]
  },
  {
   "cell_type": "markdown",
   "metadata": {},
   "source": [
    "### Заполнение пропусков "
   ]
  },
  {
   "cell_type": "markdown",
   "metadata": {},
   "source": [
    "Из таблицы ниже видно, в каких столбцах массива есть пропуски. "
   ]
  },
  {
   "cell_type": "code",
   "execution_count": 88,
   "metadata": {},
   "outputs": [
    {
     "data": {
      "text/html": [
       "<style  type=\"text/css\" >\n",
       "#T_2fb3e_row0_col0,#T_2fb3e_row1_col0,#T_2fb3e_row2_col0,#T_2fb3e_row3_col0,#T_2fb3e_row4_col0,#T_2fb3e_row5_col0,#T_2fb3e_row6_col0,#T_2fb3e_row7_col0{\n",
       "            background-color:  #3b4cc0;\n",
       "            color:  #f1f1f1;\n",
       "        }#T_2fb3e_row8_col0{\n",
       "            background-color:  #c83836;\n",
       "            color:  #f1f1f1;\n",
       "        }#T_2fb3e_row9_col0{\n",
       "            background-color:  #b40426;\n",
       "            color:  #f1f1f1;\n",
       "        }#T_2fb3e_row10_col0{\n",
       "            background-color:  #f59c7d;\n",
       "            color:  #000000;\n",
       "        }</style><table id=\"T_2fb3e_\" ><thead>    <tr>        <th class=\"blank level0\" ></th>        <th class=\"col_heading level0 col0\" >0</th>    </tr></thead><tbody>\n",
       "                <tr>\n",
       "                        <th id=\"T_2fb3e_level0_row0\" class=\"row_heading level0 row0\" >name</th>\n",
       "                        <td id=\"T_2fb3e_row0_col0\" class=\"data row0 col0\" >2</td>\n",
       "            </tr>\n",
       "            <tr>\n",
       "                        <th id=\"T_2fb3e_level0_row1\" class=\"row_heading level0 row1\" >platform</th>\n",
       "                        <td id=\"T_2fb3e_row1_col0\" class=\"data row1 col0\" >0</td>\n",
       "            </tr>\n",
       "            <tr>\n",
       "                        <th id=\"T_2fb3e_level0_row2\" class=\"row_heading level0 row2\" >year_of_release</th>\n",
       "                        <td id=\"T_2fb3e_row2_col0\" class=\"data row2 col0\" >0</td>\n",
       "            </tr>\n",
       "            <tr>\n",
       "                        <th id=\"T_2fb3e_level0_row3\" class=\"row_heading level0 row3\" >genre</th>\n",
       "                        <td id=\"T_2fb3e_row3_col0\" class=\"data row3 col0\" >2</td>\n",
       "            </tr>\n",
       "            <tr>\n",
       "                        <th id=\"T_2fb3e_level0_row4\" class=\"row_heading level0 row4\" >na_sales</th>\n",
       "                        <td id=\"T_2fb3e_row4_col0\" class=\"data row4 col0\" >0</td>\n",
       "            </tr>\n",
       "            <tr>\n",
       "                        <th id=\"T_2fb3e_level0_row5\" class=\"row_heading level0 row5\" >eu_sales</th>\n",
       "                        <td id=\"T_2fb3e_row5_col0\" class=\"data row5 col0\" >0</td>\n",
       "            </tr>\n",
       "            <tr>\n",
       "                        <th id=\"T_2fb3e_level0_row6\" class=\"row_heading level0 row6\" >jp_sales</th>\n",
       "                        <td id=\"T_2fb3e_row6_col0\" class=\"data row6 col0\" >0</td>\n",
       "            </tr>\n",
       "            <tr>\n",
       "                        <th id=\"T_2fb3e_level0_row7\" class=\"row_heading level0 row7\" >other_sales</th>\n",
       "                        <td id=\"T_2fb3e_row7_col0\" class=\"data row7 col0\" >0</td>\n",
       "            </tr>\n",
       "            <tr>\n",
       "                        <th id=\"T_2fb3e_level0_row8\" class=\"row_heading level0 row8\" >critic_score</th>\n",
       "                        <td id=\"T_2fb3e_row8_col0\" class=\"data row8 col0\" >8463</td>\n",
       "            </tr>\n",
       "            <tr>\n",
       "                        <th id=\"T_2fb3e_level0_row9\" class=\"row_heading level0 row9\" >user_score</th>\n",
       "                        <td id=\"T_2fb3e_row9_col0\" class=\"data row9 col0\" >8983</td>\n",
       "            </tr>\n",
       "            <tr>\n",
       "                        <th id=\"T_2fb3e_level0_row10\" class=\"row_heading level0 row10\" >rating</th>\n",
       "                        <td id=\"T_2fb3e_row10_col0\" class=\"data row10 col0\" >6678</td>\n",
       "            </tr>\n",
       "    </tbody></table>"
      ],
      "text/plain": [
       "<pandas.io.formats.style.Styler at 0x7fa2c0982fd0>"
      ]
     },
     "execution_count": 88,
     "metadata": {},
     "output_type": "execute_result"
    }
   ],
   "source": [
    "pd.DataFrame(df.isna().sum()).style.background_gradient('coolwarm')"
   ]
  },
  {
   "cell_type": "markdown",
   "metadata": {},
   "source": [
    "#### Переменные \"имя\" и \"жанр\""
   ]
  },
  {
   "cell_type": "markdown",
   "metadata": {},
   "source": [
    "Интересно, что для тех игр, у которых пропущено название, пропущен и жанр. Поэтому мы не можем восстановить эти данные, исходя из наблюдений в массиве. Таких пропуском немного. Предлагается удалить их."
   ]
  },
  {
   "cell_type": "code",
   "execution_count": 89,
   "metadata": {},
   "outputs": [
    {
     "data": {
      "text/plain": [
       "array([ True,  True])"
      ]
     },
     "execution_count": 89,
     "metadata": {},
     "output_type": "execute_result"
    }
   ],
   "source": [
    "df.loc[df['genre'].isna()].index == df.loc[df['name'].isna()].index"
   ]
  },
  {
   "cell_type": "code",
   "execution_count": 90,
   "metadata": {},
   "outputs": [
    {
     "name": "stdout",
     "output_type": "stream",
     "text": [
      "Количество пропусков (\"название игры\"): 0\n"
     ]
    }
   ],
   "source": [
    "df = df.loc[~df['name'].isna()].copy()\n",
    "print('Количество пропусков (\"название игры\"):', df['name'].isna().sum())"
   ]
  },
  {
   "cell_type": "markdown",
   "metadata": {},
   "source": [
    "#### Переменная \"оценка критиков\""
   ]
  },
  {
   "cell_type": "markdown",
   "metadata": {},
   "source": [
    "В столбце `critic_score` мы наблюдаем пропуски (более 8,5 тыс.). При этом для большинства строк, где пропущены значения переменной \"оценка критиков\", также отсуствуют значения для переменных \"оценка пользователей\" и \"рейтинг от организации ESRB\", т. е. мы не сможем использовать эти данные для замены пропусков. Исключить эти данные из массива мы также не можем – они составляют около 50% всей выборки."
   ]
  },
  {
   "cell_type": "code",
   "execution_count": 91,
   "metadata": {},
   "outputs": [
    {
     "data": {
      "text/plain": [
       "8461"
      ]
     },
     "execution_count": 91,
     "metadata": {},
     "output_type": "execute_result"
    }
   ],
   "source": [
    "df['critic_score'].isna().sum()"
   ]
  },
  {
   "cell_type": "code",
   "execution_count": 92,
   "metadata": {},
   "outputs": [
    {
     "data": {
      "text/plain": [
       "7892"
      ]
     },
     "execution_count": 92,
     "metadata": {},
     "output_type": "execute_result"
    }
   ],
   "source": [
    "df.loc[df['critic_score'].isna(), 'user_score'].isna().sum()"
   ]
  },
  {
   "cell_type": "code",
   "execution_count": 93,
   "metadata": {},
   "outputs": [
    {
     "data": {
      "text/plain": [
       "6595"
      ]
     },
     "execution_count": 93,
     "metadata": {},
     "output_type": "execute_result"
    }
   ],
   "source": [
    "df.loc[df['critic_score'].isna(), 'rating'].isna().sum()"
   ]
  },
  {
   "cell_type": "markdown",
   "metadata": {},
   "source": [
    "Для начала нужно принять решение, как заменить пропуски, чтобы не удалять эти данные. Если раскомментировать код, то можно убедиться в том, что пропуски в переменной \"оценка критиков\" не зависит от названия игры, платформы, года выпуска или жанра. "
   ]
  },
  {
   "cell_type": "code",
   "execution_count": 94,
   "metadata": {},
   "outputs": [],
   "source": [
    "# df.loc[df['critic_score'].isna() == True, 'name'].value_counts()\n",
    "# df.loc[df['critic_score'].isna() == True, 'platform'].value_counts()\n",
    "# df.loc[df['critic_score'].isna() == True, 'year_of_release'].value_counts()\n",
    "# df.loc[df['critic_score'].isna() == True, 'genre'].value_counts()"
   ]
  },
  {
   "cell_type": "markdown",
   "metadata": {},
   "source": [
    "Из гистограммы и описательных статистик видно, что распределение переменной похоже на нормальное, данные скошены влево, выбросы не наблюдаются."
   ]
  },
  {
   "cell_type": "code",
   "execution_count": 95,
   "metadata": {},
   "outputs": [
    {
     "data": {
      "image/png": "[encoded data removed]",
      "text/plain": [
       "<Figure size 432x288 with 1 Axes>"
      ]
     },
     "metadata": {
      "needs_background": "light"
     },
     "output_type": "display_data"
    }
   ],
   "source": [
    "# визуализируем старое распределение\n",
    "df['critic_score'].hist(bins=20, rwidth=0.9)\n",
    "plt.title('Оценка критиков')\n",
    "plt.xlabel('Оценка')\n",
    "plt.ylabel('Частота')\n",
    "plt.show()"
   ]
  },
  {
   "cell_type": "code",
   "execution_count": 96,
   "metadata": {},
   "outputs": [
    {
     "data": {
      "text/plain": [
       "count    7983.000000\n",
       "mean       68.994363\n",
       "std        13.920060\n",
       "min        13.000000\n",
       "25%        60.000000\n",
       "50%        71.000000\n",
       "75%        79.000000\n",
       "max        98.000000\n",
       "Name: critic_score, dtype: float64"
      ]
     },
     "execution_count": 96,
     "metadata": {},
     "output_type": "execute_result"
    }
   ],
   "source": [
    "df['critic_score'].describe()"
   ]
  },
  {
   "cell_type": "code",
   "execution_count": 97,
   "metadata": {},
   "outputs": [],
   "source": [
    "df['critic_score'].fillna(-1, inplace = True)"
   ]
  },
  {
   "cell_type": "markdown",
   "metadata": {},
   "source": [
    "**Вывод:** Мы заменили большую часть пропусков из массива данных, на заглушку (значение -1), чтобы сохранить данные. В процессе анализа и проверки гипотез отфильтруем эту заглушку.\n",
    "\n",
    "Далее заменим значения в переменной \"оценка пользователей\". Для замены значений будем использовать подход, аналогичный тому, что был задействован для замены пропущенных значений в переменной \"оценка критиков\"."
   ]
  },
  {
   "cell_type": "markdown",
   "metadata": {},
   "source": [
    "#### Переменная \"оценка пользователей\""
   ]
  },
  {
   "cell_type": "markdown",
   "metadata": {},
   "source": [
    "Не было выявлено никаких закономерностей между пропусками в переменной \"оценка пользователей\" и названием, платформой, годом релиза или жанром игры. "
   ]
  },
  {
   "cell_type": "code",
   "execution_count": 98,
   "metadata": {},
   "outputs": [],
   "source": [
    "# df.loc[df['user_score'].isna() == True, 'name'].value_counts()\n",
    "# df.loc[df['user_score'].isna() == True, 'platform'].value_counts()\n",
    "# df.loc[df['user_score'].isna() == True, 'year_of_release'].value_counts()\n",
    "# df.loc[df['user_score'].isna() == True, 'genre'].value_counts()"
   ]
  },
  {
   "cell_type": "markdown",
   "metadata": {},
   "source": [
    "Распределение переменной похоже на нормальное, скошенное влево. Чаще всего пользователи остаются довольны играми. Выбросы в данных не наблюдаются. Поскольку данные у нас пропущены не случайным образов, а также их нельзя восстановить, руководствуясь остальными данными из массива (т.к. оценка пользователя – это усредненная оценка конкретной игры, присвоенная ей и не зависящая от остальных признаков в массиве), предлагается заменить пропущенные значения на заглушку (значение -1). "
   ]
  },
  {
   "cell_type": "code",
   "execution_count": 99,
   "metadata": {},
   "outputs": [
    {
     "data": {
      "image/png": "[encoded data removed]",
      "text/plain": [
       "<Figure size 432x288 with 1 Axes>"
      ]
     },
     "metadata": {
      "needs_background": "light"
     },
     "output_type": "display_data"
    }
   ],
   "source": [
    "# визуализируем старое распределение\n",
    "df['user_score'].hist(bins=20, rwidth=0.9)\n",
    "plt.title('Оценка пользователей')\n",
    "plt.xlabel('Оценка')\n",
    "plt.ylabel('Частота')\n",
    "plt.show()"
   ]
  },
  {
   "cell_type": "code",
   "execution_count": 100,
   "metadata": {},
   "outputs": [
    {
     "data": {
      "text/plain": [
       "count    7463.000000\n",
       "mean        7.126330\n",
       "std         1.499447\n",
       "min         0.000000\n",
       "25%         6.400000\n",
       "50%         7.500000\n",
       "75%         8.200000\n",
       "max         9.700000\n",
       "Name: user_score, dtype: float64"
      ]
     },
     "execution_count": 100,
     "metadata": {},
     "output_type": "execute_result"
    }
   ],
   "source": [
    "df['user_score'].describe()"
   ]
  },
  {
   "cell_type": "code",
   "execution_count": 101,
   "metadata": {},
   "outputs": [],
   "source": [
    "df['user_score'].fillna(-1, inplace = True)"
   ]
  },
  {
   "cell_type": "markdown",
   "metadata": {},
   "source": [
    "**Вывод:** Мы заменили большую часть пропусков из массива данных на заглушку (значение -1)."
   ]
  },
  {
   "cell_type": "markdown",
   "metadata": {},
   "source": [
    "#### Переменная \"рейтинг ESRB\""
   ]
  },
  {
   "cell_type": "markdown",
   "metadata": {},
   "source": [
    "Изучив пропуски в переменной \"рейтинг ESRB\", мы выяснили, что они не связаны с именем, платформой, годом релиза и жанром игры."
   ]
  },
  {
   "cell_type": "code",
   "execution_count": 102,
   "metadata": {},
   "outputs": [],
   "source": [
    "# df.loc[df['rating'].isna() == True, 'name'].value_counts()\n",
    "# df.loc[df['rating'].isna() == True, 'platform'].value_counts()\n",
    "# df.loc[df['rating'].isna() == True, 'year_of_release'].value_counts()\n",
    "# df.loc[df['rating'].isna() == True, 'genre'].value_counts()"
   ]
  },
  {
   "cell_type": "markdown",
   "metadata": {},
   "source": [
    "Переменная \"рейтинг ESRB\" – категориальная. Чаще всего игры получают оценку \"E\" – для всех от 6 лет. Также часто играм присваивается возрастное ограничение \"T\" - \"подросткам\", игра подходит для лиц от 13 лет. Следующая по популярности категория \"M\" – материалы игры не подходят для подростков младше 17 лет, далее \"E10+\" – для всех от 10 лет и старше. Реже всего игры получают рейтинг \"AO\" (только для взрослых), \"K-A\" (для детей и взрослых) и \"RP\" (рейтинг ожидается).  "
   ]
  },
  {
   "cell_type": "code",
   "execution_count": 103,
   "metadata": {},
   "outputs": [
    {
     "data": {
      "image/png": "[encoded data removed]",
      "text/plain": [
       "<Figure size 432x288 with 1 Axes>"
      ]
     },
     "metadata": {
      "needs_background": "light"
     },
     "output_type": "display_data"
    }
   ],
   "source": [
    "# визуализируем старое распределение\n",
    "df['rating'].hist(bins=20, rwidth=0.9)\n",
    "plt.title('Рейтинг ESRB')\n",
    "plt.xlabel('Значение')\n",
    "plt.ylabel('Частота')\n",
    "plt.show()"
   ]
  },
  {
   "cell_type": "markdown",
   "metadata": {},
   "source": [
    "Пропуски могли появиться из-за ошибки при выгрузке данных, из-за отсутсвия данных о рейтинге в карточке игры на сайте, из-за того, что ассоциация ESRB не оценивала игру. \n",
    "\n",
    "Пропущенные значения предлагается заменить на \"unknown\", поскольку в массиве нет данных об играх, на основе которых мы могли бы установить возрастные ограничения, а также нет данных о среднем возрасте аудитории этих игр, которые также позволили нам предположить, какой мог быть потенциальный рейтинг игры."
   ]
  },
  {
   "cell_type": "code",
   "execution_count": 104,
   "metadata": {},
   "outputs": [],
   "source": [
    "df['rating'] = df['rating'].fillna('unknown')"
   ]
  },
  {
   "cell_type": "markdown",
   "metadata": {},
   "source": [
    "**Вывод:** Исходя из доступных в массиве данных невозможно восстановить пропущенные значения. Чтобы не потерять большую часть данных, было принято решение заменить пропуски на значение \"unknown\"."
   ]
  },
  {
   "cell_type": "code",
   "execution_count": 105,
   "metadata": {},
   "outputs": [
    {
     "data": {
      "text/plain": [
       "name               0\n",
       "platform           0\n",
       "year_of_release    0\n",
       "genre              0\n",
       "na_sales           0\n",
       "eu_sales           0\n",
       "jp_sales           0\n",
       "other_sales        0\n",
       "critic_score       0\n",
       "user_score         0\n",
       "rating             0\n",
       "dtype: int64"
      ]
     },
     "execution_count": 105,
     "metadata": {},
     "output_type": "execute_result"
    }
   ],
   "source": [
    "df.isna().sum()"
   ]
  },
  {
   "cell_type": "code",
   "execution_count": 106,
   "metadata": {},
   "outputs": [
    {
     "name": "stdout",
     "output_type": "stream",
     "text": [
      "В массиве осталось: 16444 наблюдений.\n"
     ]
    }
   ],
   "source": [
    "print(f'В массиве осталось: {df.shape[0]} наблюдений.')"
   ]
  },
  {
   "cell_type": "markdown",
   "metadata": {},
   "source": [
    "**Вывод:** Таким образом, в ходе подготовки массива к исследовательскому анализу были изменены типы данных в столбцах `year_of_release` и `user_score`. Была реализована проверка данных на наличие явных и неявных дубликатов – выявлены не были. Были заменены пропуски в переменных `critic_score`, `user_score` на заглушку (-1). Также были удалены пропущенные значени] в переменной `year_of_release`, `name` и `genre`. В переменной `rating` пропуски были заменены на значение \"unknown\". Всего в массиве данных осталось более 16,4 тыс. наблюдений. В заключение рассчитаем суммарные продажи каждой игры во всех регионах."
   ]
  },
  {
   "cell_type": "code",
   "execution_count": 107,
   "metadata": {},
   "outputs": [
    {
     "data": {
      "text/html": [
       "<div>\n",
       "<style scoped>\n",
       "    .dataframe tbody tr th:only-of-type {\n",
       "        vertical-align: middle;\n",
       "    }\n",
       "\n",
       "    .dataframe tbody tr th {\n",
       "        vertical-align: top;\n",
       "    }\n",
       "\n",
       "    .dataframe thead th {\n",
       "        text-align: right;\n",
       "    }\n",
       "</style>\n",
       "<table border=\"1\" class=\"dataframe\">\n",
       "  <thead>\n",
       "    <tr style=\"text-align: right;\">\n",
       "      <th></th>\n",
       "      <th>na_sales</th>\n",
       "      <th>eu_sales</th>\n",
       "      <th>jp_sales</th>\n",
       "      <th>other_sales</th>\n",
       "      <th>region_sum</th>\n",
       "    </tr>\n",
       "  </thead>\n",
       "  <tbody>\n",
       "    <tr>\n",
       "      <th>0</th>\n",
       "      <td>41.36</td>\n",
       "      <td>28.96</td>\n",
       "      <td>3.77</td>\n",
       "      <td>8.45</td>\n",
       "      <td>82.54</td>\n",
       "    </tr>\n",
       "    <tr>\n",
       "      <th>1</th>\n",
       "      <td>29.08</td>\n",
       "      <td>3.58</td>\n",
       "      <td>6.81</td>\n",
       "      <td>0.77</td>\n",
       "      <td>40.24</td>\n",
       "    </tr>\n",
       "    <tr>\n",
       "      <th>2</th>\n",
       "      <td>15.68</td>\n",
       "      <td>12.76</td>\n",
       "      <td>3.79</td>\n",
       "      <td>3.29</td>\n",
       "      <td>35.52</td>\n",
       "    </tr>\n",
       "    <tr>\n",
       "      <th>3</th>\n",
       "      <td>15.61</td>\n",
       "      <td>10.93</td>\n",
       "      <td>3.28</td>\n",
       "      <td>2.95</td>\n",
       "      <td>32.77</td>\n",
       "    </tr>\n",
       "    <tr>\n",
       "      <th>4</th>\n",
       "      <td>11.27</td>\n",
       "      <td>8.89</td>\n",
       "      <td>10.22</td>\n",
       "      <td>1.00</td>\n",
       "      <td>31.38</td>\n",
       "    </tr>\n",
       "  </tbody>\n",
       "</table>\n",
       "</div>"
      ],
      "text/plain": [
       "   na_sales  eu_sales  jp_sales  other_sales  region_sum\n",
       "0     41.36     28.96      3.77         8.45       82.54\n",
       "1     29.08      3.58      6.81         0.77       40.24\n",
       "2     15.68     12.76      3.79         3.29       35.52\n",
       "3     15.61     10.93      3.28         2.95       32.77\n",
       "4     11.27      8.89     10.22         1.00       31.38"
      ]
     },
     "metadata": {},
     "output_type": "display_data"
    }
   ],
   "source": [
    "df['region_sum'] = df[['na_sales','eu_sales','jp_sales', 'other_sales']].sum(axis = 1)\n",
    "display(df[['na_sales', 'eu_sales', 'jp_sales', 'other_sales', 'region_sum']].head())"
   ]
  },
  {
   "cell_type": "markdown",
   "metadata": {},
   "source": [
    "## Исследовательский анализ данных"
   ]
  },
  {
   "cell_type": "markdown",
   "metadata": {},
   "source": [
    "### Изучение количества релизов за каждый год"
   ]
  },
  {
   "cell_type": "markdown",
   "metadata": {},
   "source": [
    "Для того, чтобы проследить, сколько игр выпускалось в разные годы, получим сводную таблицу."
   ]
  },
  {
   "cell_type": "code",
   "execution_count": 108,
   "metadata": {},
   "outputs": [
    {
     "data": {
      "image/png": "[encoded data removed]",
      "text/plain": [
       "<Figure size 504x504 with 1 Axes>"
      ]
     },
     "metadata": {
      "needs_background": "light"
     },
     "output_type": "display_data"
    }
   ],
   "source": [
    "games_by_year = (df\n",
    "                 .pivot_table(index = 'year_of_release', values = 'name', aggfunc='count')\n",
    ")\n",
    "\n",
    "plt.figure(figsize=(7,7))\n",
    "sns.barplot(x=games_by_year.index, y=games_by_year['name'])\n",
    "plt.title('Количество выпущенных игр по годам')\n",
    "plt.xlabel('Год релиза')\n",
    "plt.xticks(rotation = 90)\n",
    "plt.ylabel('Количество релизов')\n",
    "plt.show()"
   ]
  },
  {
   "cell_type": "markdown",
   "metadata": {},
   "source": [
    "**Вывод:** Из граффика видно, что до 1995 года игры практически не выпускались. После 1995 наблюдается стремительный рост количества релизов. Большая часть игр была выпущена в 2002-2010 годах. Исходя из этого, для исследования подходит урезанная выборка – 2000-2016 гг."
   ]
  },
  {
   "cell_type": "markdown",
   "metadata": {},
   "source": [
    "### Изучение продаж по платформам"
   ]
  },
  {
   "cell_type": "markdown",
   "metadata": {},
   "source": [
    "Проследим, как менялись продажи по платформам. Для начала определим платформы с наибольшими продажами. Из диаграммы следует, что платформы с наибольшими суммарными продажами – это DS, PS-PS3, Wii, X360."
   ]
  },
  {
   "cell_type": "code",
   "execution_count": 109,
   "metadata": {},
   "outputs": [
    {
     "data": {
      "image/png": "[encoded data removed]",
      "text/plain": [
       "<Figure size 504x504 with 1 Axes>"
      ]
     },
     "metadata": {
      "needs_background": "light"
     },
     "output_type": "display_data"
    }
   ],
   "source": [
    "platform_sum = (df\n",
    "                .pivot_table(index='platform', values='region_sum', aggfunc='sum')\n",
    ")\n",
    "\n",
    "plt.figure(figsize=(7,7))\n",
    "sns.barplot(x=platform_sum.index, y=platform_sum['region_sum'])\n",
    "plt.title('Суммарные продажи по платформам')\n",
    "plt.xlabel('Название платформы')\n",
    "plt.xticks(rotation = 90)\n",
    "plt.ylabel('Суммарные продажи (млн.)')\n",
    "plt.show()"
   ]
  },
  {
   "cell_type": "markdown",
   "metadata": {},
   "source": [
    "Чтобы ответить на вопрос, за какой зарактерный срок появляются новые и исчезают старые платформы, построим распределение продаж для каждой платформы. Для начала создадим сводную таблицу, в которой соберем всё топовые платформы. "
   ]
  },
  {
   "cell_type": "code",
   "execution_count": 110,
   "metadata": {},
   "outputs": [
    {
     "data": {
      "text/html": [
       "<div>\n",
       "<style scoped>\n",
       "    .dataframe tbody tr th:only-of-type {\n",
       "        vertical-align: middle;\n",
       "    }\n",
       "\n",
       "    .dataframe tbody tr th {\n",
       "        vertical-align: top;\n",
       "    }\n",
       "\n",
       "    .dataframe thead th {\n",
       "        text-align: right;\n",
       "    }\n",
       "</style>\n",
       "<table border=\"1\" class=\"dataframe\">\n",
       "  <thead>\n",
       "    <tr style=\"text-align: right;\">\n",
       "      <th></th>\n",
       "      <th>platform</th>\n",
       "      <th>year_of_release</th>\n",
       "      <th>region_sum</th>\n",
       "    </tr>\n",
       "  </thead>\n",
       "  <tbody>\n",
       "    <tr>\n",
       "      <th>0</th>\n",
       "      <td>DS</td>\n",
       "      <td>1985</td>\n",
       "      <td>0.02</td>\n",
       "    </tr>\n",
       "    <tr>\n",
       "      <th>1</th>\n",
       "      <td>DS</td>\n",
       "      <td>2004</td>\n",
       "      <td>17.27</td>\n",
       "    </tr>\n",
       "    <tr>\n",
       "      <th>2</th>\n",
       "      <td>DS</td>\n",
       "      <td>2005</td>\n",
       "      <td>130.14</td>\n",
       "    </tr>\n",
       "    <tr>\n",
       "      <th>3</th>\n",
       "      <td>DS</td>\n",
       "      <td>2006</td>\n",
       "      <td>119.81</td>\n",
       "    </tr>\n",
       "    <tr>\n",
       "      <th>4</th>\n",
       "      <td>DS</td>\n",
       "      <td>2007</td>\n",
       "      <td>146.94</td>\n",
       "    </tr>\n",
       "  </tbody>\n",
       "</table>\n",
       "</div>"
      ],
      "text/plain": [
       "  platform  year_of_release  region_sum\n",
       "0       DS             1985        0.02\n",
       "1       DS             2004       17.27\n",
       "2       DS             2005      130.14\n",
       "3       DS             2006      119.81\n",
       "4       DS             2007      146.94"
      ]
     },
     "metadata": {},
     "output_type": "display_data"
    }
   ],
   "source": [
    "top_platforms = (df\n",
    "                 .query('(platform == \"DS\") | (platform == \"PS\") | (platform == \"PS2\") | (platform == \"PS3\") | (platform == \"Wii\") | (platform == \"X360\")')\n",
    "                 .pivot_table(index=['platform', 'year_of_release'], values='region_sum', aggfunc='sum')\n",
    ")\n",
    "top_platforms.reset_index(inplace=True)\n",
    "display(top_platforms.head())"
   ]
  },
  {
   "cell_type": "markdown",
   "metadata": {},
   "source": [
    "Из распределений ниже видно, что игры на PS хорошо продавались с 1994 по 2003 год, на PS2 – c 2000 по 2010, а на PS3 – 2006 по 2016, т. е. в среднем за 9-10 лет происходит \"обновление\" платформы. Платформы DS, Wii и X360 также популярны на протяжении 9-10 лет, для поддержания продаж требудется их обновление. "
   ]
  },
  {
   "cell_type": "code",
   "execution_count": 111,
   "metadata": {},
   "outputs": [
    {
     "data": {
      "image/png": "[encoded data removed]",
      "text/plain": [
       "<Figure size 1368x1008 with 6 Axes>"
      ]
     },
     "metadata": {
      "needs_background": "light"
     },
     "output_type": "display_data"
    }
   ],
   "source": [
    "_, axs = plt.subplots(2, 3, figsize=(19,14))\n",
    "axs = axs.ravel()\n",
    "top = ['DS', 'PS', 'PS2', 'PS3', 'Wii', 'X360']\n",
    "\n",
    "for i in range(len(top)):\n",
    "    ax = axs[i]\n",
    "    sns.barplot(ax=ax, x=\"year_of_release\", y=\"region_sum\", data=top_platforms.loc[top_platforms['platform'] == top[i]])\n",
    "    ax.tick_params(axis='x', labelrotation = 90)\n",
    "    ax.set_title(top[i])"
   ]
  },
  {
   "cell_type": "markdown",
   "metadata": {},
   "source": [
    "Удалим выброс за 1985 год у платформы DS."
   ]
  },
  {
   "cell_type": "code",
   "execution_count": 112,
   "metadata": {},
   "outputs": [
    {
     "data": {
      "text/html": [
       "<div>\n",
       "<style scoped>\n",
       "    .dataframe tbody tr th:only-of-type {\n",
       "        vertical-align: middle;\n",
       "    }\n",
       "\n",
       "    .dataframe tbody tr th {\n",
       "        vertical-align: top;\n",
       "    }\n",
       "\n",
       "    .dataframe thead th {\n",
       "        text-align: right;\n",
       "    }\n",
       "</style>\n",
       "<table border=\"1\" class=\"dataframe\">\n",
       "  <thead>\n",
       "    <tr style=\"text-align: right;\">\n",
       "      <th></th>\n",
       "      <th>name</th>\n",
       "      <th>platform</th>\n",
       "      <th>year_of_release</th>\n",
       "      <th>genre</th>\n",
       "      <th>na_sales</th>\n",
       "      <th>eu_sales</th>\n",
       "      <th>jp_sales</th>\n",
       "      <th>other_sales</th>\n",
       "      <th>critic_score</th>\n",
       "      <th>user_score</th>\n",
       "      <th>rating</th>\n",
       "      <th>region_sum</th>\n",
       "    </tr>\n",
       "  </thead>\n",
       "  <tbody>\n",
       "  </tbody>\n",
       "</table>\n",
       "</div>"
      ],
      "text/plain": [
       "Empty DataFrame\n",
       "Columns: [name, platform, year_of_release, genre, na_sales, eu_sales, jp_sales, other_sales, critic_score, user_score, rating, region_sum]\n",
       "Index: []"
      ]
     },
     "execution_count": 112,
     "metadata": {},
     "output_type": "execute_result"
    }
   ],
   "source": [
    "df = df.loc[~((df['platform'] == 'DS') & (df['year_of_release'] == 1985))]\n",
    "df.loc[(df['platform'] == 'DS') & (df['year_of_release'] == 1985)]"
   ]
  },
  {
   "cell_type": "markdown",
   "metadata": {},
   "source": [
    "**Вывод:** На первом этапе мы определили, что большая часть игр была выпущена в 2002-2010 годах, поэтому было принято решение исключить из выборки игры, выпущенные ранее 2000-х. Далее мы увидели, что игровые платформы популярны на протяжении 9-10 лет. Поэтому для разработки предсказания на 2017 год лучше руководствоваться данными за последние 5 лет, т.е. с 2013 по 2016 гг. Исключив данные из выборки, руководствуясь этими критериями, мы потеряем более 6 тыс. наблюдений, но зато получим актуальный период, данные за который помогут построить прогноз на 2017 гг. "
   ]
  },
  {
   "cell_type": "markdown",
   "metadata": {},
   "source": [
    "Оставим в массиве данные только за актуальный период."
   ]
  },
  {
   "cell_type": "code",
   "execution_count": 113,
   "metadata": {},
   "outputs": [],
   "source": [
    "df = df.query('year_of_release > 2012').copy()"
   ]
  },
  {
   "cell_type": "markdown",
   "metadata": {},
   "source": [
    "Лидирует по продажам за 2013-2016 гг. платформа PS4. Также высокие показатели у платформ PS3, XOne, 3DS."
   ]
  },
  {
   "cell_type": "code",
   "execution_count": 114,
   "metadata": {},
   "outputs": [
    {
     "data": {
      "image/png": "[encoded data removed]",
      "text/plain": [
       "<Figure size 504x504 with 1 Axes>"
      ]
     },
     "metadata": {
      "needs_background": "light"
     },
     "output_type": "display_data"
    }
   ],
   "source": [
    "platform_sum = (df\n",
    "                .pivot_table(index='platform', values='region_sum', aggfunc='sum')\n",
    ")\n",
    "\n",
    "plt.figure(figsize=(7,7))\n",
    "sns.barplot(x=platform_sum.index, y=platform_sum['region_sum'])\n",
    "plt.title('Суммарные продажи по платформам')\n",
    "plt.xlabel('Название платформы')\n",
    "plt.xticks(rotation = 90)\n",
    "plt.ylabel('Суммарные продажи (млн.)')\n",
    "plt.show()"
   ]
  },
  {
   "cell_type": "markdown",
   "metadata": {},
   "source": [
    "Создадим отдельный массив данных, в котором посчитаем сумму продаж по годам для каждой из топовых платформ."
   ]
  },
  {
   "cell_type": "code",
   "execution_count": 116,
   "metadata": {},
   "outputs": [
    {
     "data": {
      "text/html": [
       "<div>\n",
       "<style scoped>\n",
       "    .dataframe tbody tr th:only-of-type {\n",
       "        vertical-align: middle;\n",
       "    }\n",
       "\n",
       "    .dataframe tbody tr th {\n",
       "        vertical-align: top;\n",
       "    }\n",
       "\n",
       "    .dataframe thead th {\n",
       "        text-align: right;\n",
       "    }\n",
       "</style>\n",
       "<table border=\"1\" class=\"dataframe\">\n",
       "  <thead>\n",
       "    <tr style=\"text-align: right;\">\n",
       "      <th></th>\n",
       "      <th>platform</th>\n",
       "      <th>year_of_release</th>\n",
       "      <th>region_sum</th>\n",
       "    </tr>\n",
       "  </thead>\n",
       "  <tbody>\n",
       "    <tr>\n",
       "      <th>0</th>\n",
       "      <td>3DS</td>\n",
       "      <td>2013</td>\n",
       "      <td>56.57</td>\n",
       "    </tr>\n",
       "    <tr>\n",
       "      <th>1</th>\n",
       "      <td>3DS</td>\n",
       "      <td>2014</td>\n",
       "      <td>43.76</td>\n",
       "    </tr>\n",
       "    <tr>\n",
       "      <th>2</th>\n",
       "      <td>3DS</td>\n",
       "      <td>2015</td>\n",
       "      <td>27.78</td>\n",
       "    </tr>\n",
       "    <tr>\n",
       "      <th>3</th>\n",
       "      <td>3DS</td>\n",
       "      <td>2016</td>\n",
       "      <td>15.14</td>\n",
       "    </tr>\n",
       "    <tr>\n",
       "      <th>4</th>\n",
       "      <td>PS3</td>\n",
       "      <td>2013</td>\n",
       "      <td>113.25</td>\n",
       "    </tr>\n",
       "  </tbody>\n",
       "</table>\n",
       "</div>"
      ],
      "text/plain": [
       "  platform  year_of_release  region_sum\n",
       "0      3DS             2013       56.57\n",
       "1      3DS             2014       43.76\n",
       "2      3DS             2015       27.78\n",
       "3      3DS             2016       15.14\n",
       "4      PS3             2013      113.25"
      ]
     },
     "metadata": {},
     "output_type": "display_data"
    }
   ],
   "source": [
    "top_platforms2 = (df\n",
    "                 .query('(platform == \"3DS\") | (platform == \"PS3\") | (platform == \"PS4\") | (platform == \"XOne\")')\n",
    "                 .pivot_table(index=['platform', 'year_of_release'], values='region_sum', aggfunc='sum')\n",
    ")\n",
    "\n",
    "top_platforms2.reset_index(inplace=True)\n",
    "display(top_platforms2.head())"
   ]
  },
  {
   "cell_type": "markdown",
   "metadata": {},
   "source": [
    "Продажи на PS3 сокращаются сильнее, чем на платформах PS4, XOne, 3DS – рассмотрим их как потенциально прибыльные."
   ]
  },
  {
   "cell_type": "code",
   "execution_count": 117,
   "metadata": {},
   "outputs": [
    {
     "data": {
      "image/png": "[encoded data removed]",
      "text/plain": [
       "<Figure size 1368x1008 with 4 Axes>"
      ]
     },
     "metadata": {
      "needs_background": "light"
     },
     "output_type": "display_data"
    }
   ],
   "source": [
    "_, axs = plt.subplots(2, 2, figsize=(19,14))\n",
    "axs = axs.ravel()\n",
    "top2 = ['PS3', 'PS4', 'XOne', '3DS']\n",
    "\n",
    "for i in range(len(top2)):\n",
    "    ax = axs[i]\n",
    "    sns.barplot(ax=ax, x=\"year_of_release\", y=\"region_sum\", data=top_platforms2.loc[top_platforms2['platform'] == top2[i]])\n",
    "    ax.tick_params(axis='x', labelrotation = 90)\n",
    "    ax.set_title(top2[i])"
   ]
  },
  {
   "cell_type": "markdown",
   "metadata": {},
   "source": [
    "**Вывод:** В качестве потенциально прибыльных платформ можно выделить PS4, XOne, 3DS."
   ]
  },
  {
   "cell_type": "markdown",
   "metadata": {},
   "source": [
    "Построим график «ящик с усами» по глобальным продажам игр в разбивке по разным платформам."
   ]
  },
  {
   "cell_type": "code",
   "execution_count": 118,
   "metadata": {},
   "outputs": [
    {
     "data": {
      "image/png": "[encoded data removed]",
      "text/plain": [
       "<Figure size 1080x504 with 1 Axes>"
      ]
     },
     "metadata": {
      "needs_background": "light"
     },
     "output_type": "display_data"
    }
   ],
   "source": [
    "plt.figure(figsize=(15,7))\n",
    "sns.boxplot(data=df, x=df['region_sum'], y=df['platform'])\n",
    "plt.title('Глобальные продажи игр в разбивке по платформам')\n",
    "plt.xlabel('Глабльные продажи')\n",
    "plt.xticks(rotation = 90)\n",
    "plt.ylabel('Платформа')\n",
    "plt.show()"
   ]
  },
  {
   "cell_type": "code",
   "execution_count": 119,
   "metadata": {},
   "outputs": [
    {
     "data": {
      "image/png": "[encoded data removed]",
      "text/plain": [
       "<Figure size 1080x504 with 1 Axes>"
      ]
     },
     "metadata": {
      "needs_background": "light"
     },
     "output_type": "display_data"
    }
   ],
   "source": [
    "plt.figure(figsize=(15,7))\n",
    "sns.boxplot(data=df, x=df['region_sum'], y=df['platform'])\n",
    "plt.title('Глобальные продажи игр в разбивке по платформам')\n",
    "plt.xlabel('Глабльные продажи')\n",
    "plt.xticks(rotation = 90)\n",
    "plt.xlim(0,6)\n",
    "plt.ylabel('Платформа')\n",
    "plt.show()"
   ]
  },
  {
   "cell_type": "markdown",
   "metadata": {},
   "source": [
    "**Вывод:** Распределение переменных смещено вправо (поэтому мы видим так много значений за пределами 3 квартиля)."
   ]
  },
  {
   "cell_type": "markdown",
   "metadata": {},
   "source": [
    "Посмотрим, как взаимосвязаны продажи игр на PS4 с отзывами пользователей и критиков. Для этого построим диаграмму рассеяния и посчитаем корреляцию между отзывами и продажами. Не забудем избавиться от отрицательной заглушки."
   ]
  },
  {
   "cell_type": "code",
   "execution_count": 120,
   "metadata": {},
   "outputs": [
    {
     "data": {
      "image/png": "[encoded data removed]",
      "text/plain": [
       "<Figure size 432x432 with 3 Axes>"
      ]
     },
     "metadata": {
      "needs_background": "light"
     },
     "output_type": "display_data"
    }
   ],
   "source": [
    "sns.jointplot(data=df.loc[(df['platform'] == 'PS4') & (df['critic_score'] > 0)], x='region_sum', y=\"critic_score\")\n",
    "plt.show()"
   ]
  },
  {
   "cell_type": "code",
   "execution_count": 110,
   "metadata": {},
   "outputs": [
    {
     "name": "stdout",
     "output_type": "stream",
     "text": [
      "Коэффициент корелляции между продажами игр и отзывами критиков: 0.40656790206178145\n"
     ]
    }
   ],
   "source": [
    "print('Коэффициент корелляции между продажами игр и отзывами критиков:', \\\n",
    "      df.loc[(df['platform'] == 'PS4') & (df['critic_score'] > 0), 'region_sum'].corr(df.loc[(df['platform'] == 'PS4') & (df['critic_score'] > 0), 'critic_score']))"
   ]
  },
  {
   "cell_type": "markdown",
   "metadata": {},
   "source": [
    "**Вывод:** Взаимосвязь между продажами игр и отзывами критиков положительная. Сила взаимосвязи слабая (коэффициент корелляции: 0.4)."
   ]
  },
  {
   "cell_type": "code",
   "execution_count": 121,
   "metadata": {},
   "outputs": [
    {
     "data": {
      "image/png": "[encoded data removed]",
      "text/plain": [
       "<Figure size 432x432 with 3 Axes>"
      ]
     },
     "metadata": {
      "needs_background": "light"
     },
     "output_type": "display_data"
    }
   ],
   "source": [
    "sns.jointplot(data=df.loc[(df['platform'] == 'PS4') & (df['user_score'] > 0)], x='region_sum', y=\"user_score\")\n",
    "plt.show()"
   ]
  },
  {
   "cell_type": "code",
   "execution_count": 112,
   "metadata": {},
   "outputs": [
    {
     "name": "stdout",
     "output_type": "stream",
     "text": [
      "Коэффициент корелляции между продажами игр и отзывами пользователей: -0.031957110204556466\n"
     ]
    }
   ],
   "source": [
    "print('Коэффициент корелляции между продажами игр и отзывами пользователей:', \\\n",
    "      df.loc[(df['platform'] == 'PS4') & (df['user_score'] > 0), 'region_sum'].corr(df.loc[(df['platform'] == 'PS4') & (df['user_score'] > 0), 'user_score']))"
   ]
  },
  {
   "cell_type": "markdown",
   "metadata": {},
   "source": [
    "**Выводы:** Взаимосвязь между продажами игр и отзывами пользователей отсутсвует (значение коэффициента корелляции -0.03)."
   ]
  },
  {
   "cell_type": "markdown",
   "metadata": {},
   "source": [
    "Посмотрим на взаимосвязь между продажами и оценками на платформах XOne, 3DS, WiiU, PC и XB. Сраним результаты с теми, что были получены для платформы PS4."
   ]
  },
  {
   "cell_type": "code",
   "execution_count": 122,
   "metadata": {},
   "outputs": [
    {
     "data": {
      "text/html": [
       "<div>\n",
       "<style scoped>\n",
       "    .dataframe tbody tr th:only-of-type {\n",
       "        vertical-align: middle;\n",
       "    }\n",
       "\n",
       "    .dataframe tbody tr th {\n",
       "        vertical-align: top;\n",
       "    }\n",
       "\n",
       "    .dataframe thead th {\n",
       "        text-align: right;\n",
       "    }\n",
       "</style>\n",
       "<table border=\"1\" class=\"dataframe\">\n",
       "  <thead>\n",
       "    <tr style=\"text-align: right;\">\n",
       "      <th></th>\n",
       "      <th>name</th>\n",
       "      <th>platform</th>\n",
       "      <th>year_of_release</th>\n",
       "      <th>genre</th>\n",
       "      <th>na_sales</th>\n",
       "      <th>eu_sales</th>\n",
       "      <th>jp_sales</th>\n",
       "      <th>other_sales</th>\n",
       "      <th>critic_score</th>\n",
       "      <th>user_score</th>\n",
       "      <th>rating</th>\n",
       "      <th>region_sum</th>\n",
       "    </tr>\n",
       "  </thead>\n",
       "  <tbody>\n",
       "    <tr>\n",
       "      <th>31</th>\n",
       "      <td>Call of Duty: Black Ops 3</td>\n",
       "      <td>PS4</td>\n",
       "      <td>2015</td>\n",
       "      <td>Shooter</td>\n",
       "      <td>6.03</td>\n",
       "      <td>5.86</td>\n",
       "      <td>0.36</td>\n",
       "      <td>2.38</td>\n",
       "      <td>-1.0</td>\n",
       "      <td>-1.0</td>\n",
       "      <td>unknown</td>\n",
       "      <td>14.63</td>\n",
       "    </tr>\n",
       "    <tr>\n",
       "      <th>33</th>\n",
       "      <td>Pokemon X/Pokemon Y</td>\n",
       "      <td>3DS</td>\n",
       "      <td>2013</td>\n",
       "      <td>Role-Playing</td>\n",
       "      <td>5.28</td>\n",
       "      <td>4.19</td>\n",
       "      <td>4.35</td>\n",
       "      <td>0.78</td>\n",
       "      <td>-1.0</td>\n",
       "      <td>-1.0</td>\n",
       "      <td>unknown</td>\n",
       "      <td>14.60</td>\n",
       "    </tr>\n",
       "    <tr>\n",
       "      <th>42</th>\n",
       "      <td>Grand Theft Auto V</td>\n",
       "      <td>PS4</td>\n",
       "      <td>2014</td>\n",
       "      <td>Action</td>\n",
       "      <td>3.96</td>\n",
       "      <td>6.31</td>\n",
       "      <td>0.38</td>\n",
       "      <td>1.97</td>\n",
       "      <td>97.0</td>\n",
       "      <td>8.3</td>\n",
       "      <td>M</td>\n",
       "      <td>12.62</td>\n",
       "    </tr>\n",
       "    <tr>\n",
       "      <th>47</th>\n",
       "      <td>Pokemon Omega Ruby/Pokemon Alpha Sapphire</td>\n",
       "      <td>3DS</td>\n",
       "      <td>2014</td>\n",
       "      <td>Role-Playing</td>\n",
       "      <td>4.35</td>\n",
       "      <td>3.49</td>\n",
       "      <td>3.10</td>\n",
       "      <td>0.74</td>\n",
       "      <td>-1.0</td>\n",
       "      <td>-1.0</td>\n",
       "      <td>unknown</td>\n",
       "      <td>11.68</td>\n",
       "    </tr>\n",
       "    <tr>\n",
       "      <th>77</th>\n",
       "      <td>FIFA 16</td>\n",
       "      <td>PS4</td>\n",
       "      <td>2015</td>\n",
       "      <td>Sports</td>\n",
       "      <td>1.12</td>\n",
       "      <td>6.12</td>\n",
       "      <td>0.06</td>\n",
       "      <td>1.28</td>\n",
       "      <td>82.0</td>\n",
       "      <td>4.3</td>\n",
       "      <td>E</td>\n",
       "      <td>8.58</td>\n",
       "    </tr>\n",
       "  </tbody>\n",
       "</table>\n",
       "</div>"
      ],
      "text/plain": [
       "                                         name platform  year_of_release  \\\n",
       "31                  Call of Duty: Black Ops 3      PS4             2015   \n",
       "33                        Pokemon X/Pokemon Y      3DS             2013   \n",
       "42                         Grand Theft Auto V      PS4             2014   \n",
       "47  Pokemon Omega Ruby/Pokemon Alpha Sapphire      3DS             2014   \n",
       "77                                    FIFA 16      PS4             2015   \n",
       "\n",
       "           genre  na_sales  eu_sales  jp_sales  other_sales  critic_score  \\\n",
       "31       Shooter      6.03      5.86      0.36         2.38          -1.0   \n",
       "33  Role-Playing      5.28      4.19      4.35         0.78          -1.0   \n",
       "42        Action      3.96      6.31      0.38         1.97          97.0   \n",
       "47  Role-Playing      4.35      3.49      3.10         0.74          -1.0   \n",
       "77        Sports      1.12      6.12      0.06         1.28          82.0   \n",
       "\n",
       "    user_score   rating  region_sum  \n",
       "31        -1.0  unknown       14.63  \n",
       "33        -1.0  unknown       14.60  \n",
       "42         8.3        M       12.62  \n",
       "47        -1.0  unknown       11.68  \n",
       "77         4.3        E        8.58  "
      ]
     },
     "metadata": {},
     "output_type": "display_data"
    }
   ],
   "source": [
    "platforms_to_compare = df.query('(platform == \"PS4\") | (platform == \"XOne\") | (platform == \"WiiU\") | (platform == \"3DS\") | (platform == \"PC\") | (platform == \"XB\")')\n",
    "display(platforms_to_compare.head())"
   ]
  },
  {
   "cell_type": "code",
   "execution_count": 123,
   "metadata": {},
   "outputs": [
    {
     "name": "stdout",
     "output_type": "stream",
     "text": [
      "Коэффициент корелляции между продажами игр на платформе PS4 и отзывами критиков: 0.40656790206178145\n",
      "Коэффициент корелляции между продажами игр на платформе 3DS и отзывами критиков: 0.3570566142288104\n",
      "Коэффициент корелляции между продажами игр на платформе XOne и отзывами критиков: 0.4169983280084016\n",
      "Коэффициент корелляции между продажами игр на платформе WiiU и отзывами критиков: 0.3764149065423912\n",
      "Коэффициент корелляции между продажами игр на платформе PC и отзывами критиков: 0.1960302829436937\n"
     ]
    }
   ],
   "source": [
    "plat = platforms_to_compare['platform'].unique()\n",
    "platforms_to_compare2 = platforms_to_compare.query('critic_score > 0').copy()\n",
    "\n",
    "for i in plat:\n",
    "    data = platforms_to_compare2.loc[platforms_to_compare2['platform'] == i]\n",
    "    print(f'Коэффициент корелляции между продажами игр на платформе {i} и отзывами критиков:', \\\n",
    "          data.loc[data['platform'] == i, 'region_sum'].corr(data.loc[data['platform'] == i, 'critic_score']))"
   ]
  },
  {
   "cell_type": "code",
   "execution_count": 124,
   "metadata": {},
   "outputs": [
    {
     "data": {
      "image/png": "[encoded data removed]",
      "text/plain": [
       "<Figure size 720x2160 with 5 Axes>"
      ]
     },
     "metadata": {
      "needs_background": "light"
     },
     "output_type": "display_data"
    }
   ],
   "source": [
    "_, axs = plt.subplots(5, 1, figsize=(10,30))\n",
    "axs = axs.ravel()\n",
    "plat = platforms_to_compare2['platform'].unique()\n",
    "\n",
    "for i in range(len(plat)):\n",
    "    ax = axs[i]\n",
    "    sns.scatterplot(ax=ax, data=platforms_to_compare2.loc[platforms_to_compare2['platform'] == plat[i]], x='region_sum', y=\"critic_score\")\n",
    "    ax.tick_params(axis='x', labelrotation = 90)\n",
    "    ax.set_title(plat[i])"
   ]
  },
  {
   "cell_type": "code",
   "execution_count": 125,
   "metadata": {},
   "outputs": [
    {
     "name": "stdout",
     "output_type": "stream",
     "text": [
      "Коэффициент корелляции между продажами игр на платформе PS4 и отзывами пользователей: -0.031957110204556466\n",
      "Коэффициент корелляции между продажами игр на платформе WiiU и отзывами пользователей: 0.41933048192661837\n",
      "Коэффициент корелляции между продажами игр на платформе XOne и отзывами пользователей: -0.06892505328279419\n",
      "Коэффициент корелляции между продажами игр на платформе 3DS и отзывами пользователей: 0.24150411773563024\n",
      "Коэффициент корелляции между продажами игр на платформе PC и отзывами пользователей: -0.09384186952476745\n"
     ]
    }
   ],
   "source": [
    "platforms_to_compare3 = platforms_to_compare.query('user_score > 0').copy()\n",
    "\n",
    "for i in plat:\n",
    "    data = platforms_to_compare3.loc[platforms_to_compare3['platform'] == i]\n",
    "    print(f'Коэффициент корелляции между продажами игр на платформе {i} и отзывами пользователей:', \\\n",
    "          data.loc[data['platform'] == i, 'region_sum'].corr(data.loc[data['platform'] == i, 'user_score']))"
   ]
  },
  {
   "cell_type": "code",
   "execution_count": 126,
   "metadata": {},
   "outputs": [
    {
     "data": {
      "image/png": "[encoded data removed]",
      "text/plain": [
       "<Figure size 720x2160 with 5 Axes>"
      ]
     },
     "metadata": {
      "needs_background": "light"
     },
     "output_type": "display_data"
    }
   ],
   "source": [
    "_, axs = plt.subplots(5, 1, figsize=(10,30))\n",
    "axs = axs.ravel()\n",
    "plat = platforms_to_compare3['platform'].unique()\n",
    "\n",
    "for i in range(len(plat)):\n",
    "    ax = axs[i]\n",
    "    sns.scatterplot(ax=ax, data=platforms_to_compare3.loc[platforms_to_compare3['platform'] == plat[i]], x='region_sum', y=\"user_score\")\n",
    "    ax.tick_params(axis='x', labelrotation = 90)\n",
    "    ax.set_title(plat[i])"
   ]
  },
  {
   "cell_type": "markdown",
   "metadata": {},
   "source": [
    "**Вывод:** Характер взаимосвязи между продажами и оценками критиков положительный: чем выше оценка критиков, тем лучше продаются игры на платформах. Взаимосвязь между оценками пользователей и продажаим игр зачастую отсутсвует, слабая положительная взаиосвязь наблюдается между продажами игр на платформе WiiU и отзывами пользователей, а также между продажами игр на платформе 3DS и отзывами пользователей. Резюмируя, оценки критиков и пользователей могут быть положительно связаны с продажами, но эта связь слабая."
   ]
  },
  {
   "cell_type": "markdown",
   "metadata": {},
   "source": [
    "Изучим общее распределение игр по жанрам. Для этого получим сводную таблицу и построим столбчатые диаграммы."
   ]
  },
  {
   "cell_type": "code",
   "execution_count": 127,
   "metadata": {},
   "outputs": [
    {
     "data": {
      "image/png": "[encoded data removed]",
      "text/plain": [
       "<Figure size 504x504 with 1 Axes>"
      ]
     },
     "metadata": {
      "needs_background": "light"
     },
     "output_type": "display_data"
    }
   ],
   "source": [
    "genre = (df\n",
    "         .pivot_table(index='genre', values='name', aggfunc='count')\n",
    ")\n",
    "\n",
    "plt.figure(figsize=(7,7))\n",
    "sns.barplot(x=genre.index, y=genre['name'])\n",
    "plt.title('Распределение игр по жанрам')\n",
    "plt.xlabel('Жанр')\n",
    "plt.xticks(rotation = 90)\n",
    "plt.ylabel('Кол-во игр')\n",
    "plt.show()"
   ]
  },
  {
   "cell_type": "markdown",
   "metadata": {},
   "source": [
    "Изучим распределение продаж по жанрам."
   ]
  },
  {
   "cell_type": "code",
   "execution_count": 132,
   "metadata": {},
   "outputs": [
    {
     "data": {
      "image/png": "[encoded data removed]",
      "text/plain": [
       "<Figure size 504x504 with 1 Axes>"
      ]
     },
     "metadata": {
      "needs_background": "light"
     },
     "output_type": "display_data"
    }
   ],
   "source": [
    "genre = (df\n",
    "         .pivot_table(index='genre', values='region_sum', aggfunc='median')\n",
    ")\n",
    "\n",
    "plt.figure(figsize=(7,7))\n",
    "sns.barplot(x=genre.index, y=genre['region_sum'])\n",
    "plt.title('Распределение продаж по жанрам')\n",
    "plt.xlabel('Жанр')\n",
    "plt.xticks(rotation = 90)\n",
    "plt.ylabel('Медианное значение продаж')\n",
    "plt.show()"
   ]
  },
  {
   "cell_type": "code",
   "execution_count": 133,
   "metadata": {},
   "outputs": [
    {
     "data": {
      "image/png": "[encoded data removed]",
      "text/plain": [
       "<Figure size 1080x504 with 1 Axes>"
      ]
     },
     "metadata": {
      "needs_background": "light"
     },
     "output_type": "display_data"
    }
   ],
   "source": [
    "plt.figure(figsize=(15,7))\n",
    "sns.boxplot(data=df, x=df['region_sum'], y=df['genre'])\n",
    "plt.title('Глобальные продажи игр в разбивке по жанрам')\n",
    "plt.xlabel('Глабльные продажи')\n",
    "plt.xticks(rotation = 90)\n",
    "plt.xlim(0,6)\n",
    "plt.ylabel('Жанр')\n",
    "plt.show()"
   ]
  },
  {
   "cell_type": "markdown",
   "metadata": {},
   "source": [
    "**Вывод:** Больше всего игр выпускается в жанре action, role-playing, adventure. Чуть меньше – в жанре sooter и sports. Меньше всего игр выпускается в жанре puzzle. Самыми прибыльными являются жанры shooter, sports, platform. Action, fighting и racing чуть менее прибыльные. Самые низкие медианные продажи у игр в жанре adventure."
   ]
  },
  {
   "cell_type": "markdown",
   "metadata": {},
   "source": [
    "## Портрет пользователя из каждого региона"
   ]
  },
  {
   "cell_type": "markdown",
   "metadata": {},
   "source": [
    "Определим для пользователя каждого региона (NA, EU, JP) самые популярные платформы (топ-5). Для этого посчитаем сумму продаж игр на каждой платформы в трёх регионах."
   ]
  },
  {
   "cell_type": "code",
   "execution_count": 134,
   "metadata": {},
   "outputs": [
    {
     "data": {
      "text/html": [
       "<div>\n",
       "<style scoped>\n",
       "    .dataframe tbody tr th:only-of-type {\n",
       "        vertical-align: middle;\n",
       "    }\n",
       "\n",
       "    .dataframe tbody tr th {\n",
       "        vertical-align: top;\n",
       "    }\n",
       "\n",
       "    .dataframe thead th {\n",
       "        text-align: right;\n",
       "    }\n",
       "</style>\n",
       "<table border=\"1\" class=\"dataframe\">\n",
       "  <thead>\n",
       "    <tr style=\"text-align: right;\">\n",
       "      <th></th>\n",
       "      <th>eu_sales</th>\n",
       "      <th>jp_sales</th>\n",
       "      <th>na_sales</th>\n",
       "    </tr>\n",
       "    <tr>\n",
       "      <th>platform</th>\n",
       "      <th></th>\n",
       "      <th></th>\n",
       "      <th></th>\n",
       "    </tr>\n",
       "  </thead>\n",
       "  <tbody>\n",
       "    <tr>\n",
       "      <th>3DS</th>\n",
       "      <td>30.96</td>\n",
       "      <td>67.81</td>\n",
       "      <td>38.20</td>\n",
       "    </tr>\n",
       "    <tr>\n",
       "      <th>DS</th>\n",
       "      <td>0.85</td>\n",
       "      <td>0.00</td>\n",
       "      <td>0.57</td>\n",
       "    </tr>\n",
       "    <tr>\n",
       "      <th>PC</th>\n",
       "      <td>25.36</td>\n",
       "      <td>0.00</td>\n",
       "      <td>11.11</td>\n",
       "    </tr>\n",
       "    <tr>\n",
       "      <th>PS3</th>\n",
       "      <td>67.81</td>\n",
       "      <td>23.35</td>\n",
       "      <td>63.50</td>\n",
       "    </tr>\n",
       "    <tr>\n",
       "      <th>PS4</th>\n",
       "      <td>141.09</td>\n",
       "      <td>15.96</td>\n",
       "      <td>108.74</td>\n",
       "    </tr>\n",
       "  </tbody>\n",
       "</table>\n",
       "</div>"
      ],
      "text/plain": [
       "          eu_sales  jp_sales  na_sales\n",
       "platform                              \n",
       "3DS          30.96     67.81     38.20\n",
       "DS            0.85      0.00      0.57\n",
       "PC           25.36      0.00     11.11\n",
       "PS3          67.81     23.35     63.50\n",
       "PS4         141.09     15.96    108.74"
      ]
     },
     "metadata": {},
     "output_type": "display_data"
    }
   ],
   "source": [
    "top_platforms = (df\n",
    "                 .pivot_table(index='platform', values=['na_sales', 'eu_sales', 'jp_sales'], aggfunc='sum')\n",
    ")\n",
    "\n",
    "display(top_platforms.head())"
   ]
  },
  {
   "cell_type": "markdown",
   "metadata": {},
   "source": [
    "Для того, чтобы сравнить самые популярные платформы по регионам, посчитаем долю продаж, которая приходится на каждую платформу в каждом регионе."
   ]
  },
  {
   "cell_type": "code",
   "execution_count": 135,
   "metadata": {},
   "outputs": [],
   "source": [
    "top_platforms['eu_share'] = top_platforms['eu_sales']*100/sum(top_platforms['eu_sales'])\n",
    "top_platforms['na_share'] = top_platforms['na_sales']*100/sum(top_platforms['na_sales'])\n",
    "top_platforms['jp_share'] = top_platforms['jp_sales']*100/sum(top_platforms['jp_sales'])"
   ]
  },
  {
   "cell_type": "markdown",
   "metadata": {},
   "source": [
    "Выведем на экран топ-5 продаж в каждом регионе."
   ]
  },
  {
   "cell_type": "code",
   "execution_count": 123,
   "metadata": {},
   "outputs": [
    {
     "data": {
      "text/plain": [
       "platform\n",
       "PS4     35.971241\n",
       "PS3     17.288326\n",
       "XOne    13.152997\n",
       "X360    10.840578\n",
       "3DS      7.893328\n",
       "Name: eu_share, dtype: float64"
      ]
     },
     "metadata": {},
     "output_type": "display_data"
    }
   ],
   "source": [
    "display(top_platforms.sort_values(by='eu_share', ascending=False).head()['eu_share'])"
   ]
  },
  {
   "cell_type": "code",
   "execution_count": 124,
   "metadata": {},
   "outputs": [
    {
     "data": {
      "text/plain": [
       "platform\n",
       "3DS     48.167353\n",
       "PS3     16.586163\n",
       "PSV     13.205001\n",
       "PS4     11.336838\n",
       "WiiU     7.728371\n",
       "Name: jp_share, dtype: float64"
      ]
     },
     "metadata": {},
     "output_type": "display_data"
    }
   ],
   "source": [
    "display(top_platforms.sort_values(by='jp_share', ascending=False).head()['jp_share'])"
   ]
  },
  {
   "cell_type": "code",
   "execution_count": 125,
   "metadata": {},
   "outputs": [
    {
     "data": {
      "text/plain": [
       "platform\n",
       "PS4     24.842933\n",
       "XOne    21.274360\n",
       "X360    18.656188\n",
       "PS3     14.507322\n",
       "3DS      8.727239\n",
       "Name: na_share, dtype: float64"
      ]
     },
     "metadata": {},
     "output_type": "display_data"
    }
   ],
   "source": [
    "display(top_platforms.sort_values(by='na_share', ascending=False).head()['na_share'])"
   ]
  },
  {
   "cell_type": "markdown",
   "metadata": {},
   "source": [
    "**Вывод:** Самые популярные платформы (по доле проданных игр) в Европе – это PS4, PS3, XOne, X360 и 3DS; в Японии – 3DS, PS3, PSV, PS4 и WiiU; в Северной Америке – PS4, XOne, X360, PS3, 3DS. PS3 входит в топ рейтинга как в Европе (17.3% продаж), так и в Японии (16.5%), и в Америке (14.5%). Также во всех регионах популярны платформы PS4 (в Европе – 35.97%, в Японии – 11.3%, в Америке – 24.8%) и 3DS (в Европе – 7.89%, в Японии – 48.2%, в Америке – 8.7%). Эти же платформы вышли в топ, когда мы рассматривали глобальные продажи по платформам."
   ]
  },
  {
   "cell_type": "markdown",
   "metadata": {},
   "source": [
    "Определим для пользователя каждого региона (NA, EU, JP) самые популярные жанры (топ-5)."
   ]
  },
  {
   "cell_type": "code",
   "execution_count": 136,
   "metadata": {},
   "outputs": [
    {
     "data": {
      "text/html": [
       "<div>\n",
       "<style scoped>\n",
       "    .dataframe tbody tr th:only-of-type {\n",
       "        vertical-align: middle;\n",
       "    }\n",
       "\n",
       "    .dataframe tbody tr th {\n",
       "        vertical-align: top;\n",
       "    }\n",
       "\n",
       "    .dataframe thead th {\n",
       "        text-align: right;\n",
       "    }\n",
       "</style>\n",
       "<table border=\"1\" class=\"dataframe\">\n",
       "  <thead>\n",
       "    <tr style=\"text-align: right;\">\n",
       "      <th></th>\n",
       "      <th>eu_sales</th>\n",
       "      <th>jp_sales</th>\n",
       "      <th>na_sales</th>\n",
       "    </tr>\n",
       "    <tr>\n",
       "      <th>genre</th>\n",
       "      <th></th>\n",
       "      <th></th>\n",
       "      <th></th>\n",
       "    </tr>\n",
       "  </thead>\n",
       "  <tbody>\n",
       "    <tr>\n",
       "      <th>Action</th>\n",
       "      <td>118.13</td>\n",
       "      <td>40.49</td>\n",
       "      <td>126.05</td>\n",
       "    </tr>\n",
       "    <tr>\n",
       "      <th>Adventure</th>\n",
       "      <td>8.25</td>\n",
       "      <td>5.82</td>\n",
       "      <td>7.14</td>\n",
       "    </tr>\n",
       "    <tr>\n",
       "      <th>Fighting</th>\n",
       "      <td>8.55</td>\n",
       "      <td>7.65</td>\n",
       "      <td>15.55</td>\n",
       "    </tr>\n",
       "    <tr>\n",
       "      <th>Misc</th>\n",
       "      <td>20.04</td>\n",
       "      <td>9.20</td>\n",
       "      <td>27.49</td>\n",
       "    </tr>\n",
       "    <tr>\n",
       "      <th>Platform</th>\n",
       "      <td>15.58</td>\n",
       "      <td>4.79</td>\n",
       "      <td>18.14</td>\n",
       "    </tr>\n",
       "  </tbody>\n",
       "</table>\n",
       "</div>"
      ],
      "text/plain": [
       "           eu_sales  jp_sales  na_sales\n",
       "genre                                  \n",
       "Action       118.13     40.49    126.05\n",
       "Adventure      8.25      5.82      7.14\n",
       "Fighting       8.55      7.65     15.55\n",
       "Misc          20.04      9.20     27.49\n",
       "Platform      15.58      4.79     18.14"
      ]
     },
     "metadata": {},
     "output_type": "display_data"
    }
   ],
   "source": [
    "top_genres = (df\n",
    "              .pivot_table(index='genre', values=['na_sales', 'eu_sales', 'jp_sales'], aggfunc='sum')\n",
    ")\n",
    "\n",
    "display(top_genres.head())"
   ]
  },
  {
   "cell_type": "code",
   "execution_count": 137,
   "metadata": {},
   "outputs": [],
   "source": [
    "top_genres['eu_share'] = top_genres['eu_sales']*100/sum(top_genres['eu_sales'])\n",
    "top_genres['na_share'] = top_genres['na_sales']*100/sum(top_genres['na_sales'])\n",
    "top_genres['jp_share'] = top_genres['jp_sales']*100/sum(top_genres['jp_sales'])"
   ]
  },
  {
   "cell_type": "code",
   "execution_count": 128,
   "metadata": {},
   "outputs": [
    {
     "data": {
      "text/plain": [
       "genre\n",
       "Action          30.117533\n",
       "Shooter         22.400122\n",
       "Sports          15.429722\n",
       "Role-Playing     9.425592\n",
       "Racing           5.147490\n",
       "Name: eu_share, dtype: float64"
      ]
     },
     "metadata": {},
     "output_type": "display_data"
    }
   ],
   "source": [
    "display(top_genres.sort_values(by='eu_share', ascending=False).head()['eu_share'])"
   ]
  },
  {
   "cell_type": "code",
   "execution_count": 129,
   "metadata": {},
   "outputs": [
    {
     "data": {
      "text/plain": [
       "genre\n",
       "Role-Playing    36.255150\n",
       "Action          28.761188\n",
       "Misc             6.535019\n",
       "Fighting         5.434011\n",
       "Shooter          4.695269\n",
       "Name: jp_share, dtype: float64"
      ]
     },
     "metadata": {},
     "output_type": "display_data"
    }
   ],
   "source": [
    "display(top_genres.sort_values(by='jp_share', ascending=False).head()['jp_share'])"
   ]
  },
  {
   "cell_type": "code",
   "execution_count": 130,
   "metadata": {},
   "outputs": [
    {
     "data": {
      "text/plain": [
       "genre\n",
       "Action          28.797606\n",
       "Shooter         25.071394\n",
       "Sports          14.911700\n",
       "Role-Playing    10.600626\n",
       "Misc             6.280414\n",
       "Name: na_share, dtype: float64"
      ]
     },
     "metadata": {},
     "output_type": "display_data"
    }
   ],
   "source": [
    "display(top_genres.sort_values(by='na_share', ascending=False).head()['na_share'])"
   ]
  },
  {
   "cell_type": "code",
   "execution_count": 138,
   "metadata": {},
   "outputs": [
    {
     "data": {
      "image/png": "[encoded data removed]",
      "text/plain": [
       "<Figure size 1368x1440 with 3 Axes>"
      ]
     },
     "metadata": {},
     "output_type": "display_data"
    }
   ],
   "source": [
    "colors = sns.color_palette('pastel')[0:6]\n",
    "countries = df.columns[4:7]\n",
    "\n",
    "fig, axs = plt.subplots(1, 3, figsize=(19,20))\n",
    "axs = axs.ravel()\n",
    "\n",
    "for i in range(len(countries)):\n",
    "    ax = axs[i]\n",
    "    df_i = (df.groupby('genre')[countries[i]].sum()\n",
    "            .reset_index()\n",
    "            .sort_values(countries[i], ascending = False, ignore_index = True)\n",
    "            .head(5))\n",
    "    df_i = df_i.append({'genre': 'Other_genre', countries[i]: df[countries[i]].sum() - df_i[countries[i]].sum()}, ignore_index= True)\n",
    "    ax.pie(df_i[countries[i]], labels = df_i['genre'], colors = colors, autopct='%.0f%%')\n",
    "    ax.set_title(df_i.columns[1].split('_')[0].upper())"
   ]
  },
  {
   "cell_type": "markdown",
   "metadata": {},
   "source": [
    "**Вывод:** Самые популярные жанры в Европе – Action, Shooter, Sports, Role-Playing и Racing; в Японии – Role-Playing, Action, Music, Fighting и Shooter; в Северной Америке – Action, Shooter, Sports, Music и Role-Playing. Во всех трёх регионах популярны жанры Action, Shooter и Role-Playing."
   ]
  },
  {
   "cell_type": "markdown",
   "metadata": {},
   "source": [
    "Определим для пользователя каждого региона (NA, EU, JP), влияет ли рейтинг ESRB на продажи в отдельном регионе. Для этого посмотрим на корелляцию между значением рейтинга и продажами в Европе, Японии и Северной Америке. Чтобы посчитать корелляюцию, заменим категориальные значения из столбца `rating` на порядковые. Для этого напишем функцию и применим её к нужному столбцу."
   ]
  },
  {
   "cell_type": "code",
   "execution_count": 139,
   "metadata": {},
   "outputs": [
    {
     "data": {
      "text/html": [
       "<div>\n",
       "<style scoped>\n",
       "    .dataframe tbody tr th:only-of-type {\n",
       "        vertical-align: middle;\n",
       "    }\n",
       "\n",
       "    .dataframe tbody tr th {\n",
       "        vertical-align: top;\n",
       "    }\n",
       "\n",
       "    .dataframe thead th {\n",
       "        text-align: right;\n",
       "    }\n",
       "</style>\n",
       "<table border=\"1\" class=\"dataframe\">\n",
       "  <thead>\n",
       "    <tr style=\"text-align: right;\">\n",
       "      <th></th>\n",
       "      <th>rating</th>\n",
       "      <th>rating_num</th>\n",
       "    </tr>\n",
       "  </thead>\n",
       "  <tbody>\n",
       "    <tr>\n",
       "      <th>16</th>\n",
       "      <td>M</td>\n",
       "      <td>6</td>\n",
       "    </tr>\n",
       "    <tr>\n",
       "      <th>23</th>\n",
       "      <td>M</td>\n",
       "      <td>6</td>\n",
       "    </tr>\n",
       "    <tr>\n",
       "      <th>31</th>\n",
       "      <td>unknown</td>\n",
       "      <td>0</td>\n",
       "    </tr>\n",
       "    <tr>\n",
       "      <th>33</th>\n",
       "      <td>unknown</td>\n",
       "      <td>0</td>\n",
       "    </tr>\n",
       "    <tr>\n",
       "      <th>42</th>\n",
       "      <td>M</td>\n",
       "      <td>6</td>\n",
       "    </tr>\n",
       "    <tr>\n",
       "      <th>47</th>\n",
       "      <td>unknown</td>\n",
       "      <td>0</td>\n",
       "    </tr>\n",
       "    <tr>\n",
       "      <th>60</th>\n",
       "      <td>M</td>\n",
       "      <td>6</td>\n",
       "    </tr>\n",
       "    <tr>\n",
       "      <th>69</th>\n",
       "      <td>M</td>\n",
       "      <td>6</td>\n",
       "    </tr>\n",
       "    <tr>\n",
       "      <th>72</th>\n",
       "      <td>unknown</td>\n",
       "      <td>0</td>\n",
       "    </tr>\n",
       "    <tr>\n",
       "      <th>77</th>\n",
       "      <td>E</td>\n",
       "      <td>3</td>\n",
       "    </tr>\n",
       "  </tbody>\n",
       "</table>\n",
       "</div>"
      ],
      "text/plain": [
       "     rating  rating_num\n",
       "16        M           6\n",
       "23        M           6\n",
       "31  unknown           0\n",
       "33  unknown           0\n",
       "42        M           6\n",
       "47  unknown           0\n",
       "60        M           6\n",
       "69        M           6\n",
       "72  unknown           0\n",
       "77        E           3"
      ]
     },
     "metadata": {},
     "output_type": "display_data"
    }
   ],
   "source": [
    "def rating_to_num(series):\n",
    "    if series == 'unknown':\n",
    "        return 0\n",
    "    elif series == 'RP':\n",
    "        return 1\n",
    "    elif series == 'EC':\n",
    "        return 2\n",
    "    elif series == 'E':\n",
    "        return 3\n",
    "    elif series == 'E10+':\n",
    "        return 4\n",
    "    elif series == 'T':\n",
    "        return 5\n",
    "    elif series == 'M':\n",
    "        return 6\n",
    "\n",
    "df['rating_num'] = df['rating'].apply(rating_to_num)\n",
    "display(df[['rating', 'rating_num']].head(10))"
   ]
  },
  {
   "cell_type": "markdown",
   "metadata": {},
   "source": [
    "Теперь рассчитаем корелляцию и построим графики. Мы видим, что в Японии взаимосвязь между рейтингом ESRB и продажами отсуствует (коэффициент корелляции очень мал и равен -0.09). Низкий коэффециент корелляции может быть связан с тем, что для Японии для многих игр отсутсвует значение рейтинга (т.е. он принимает значение 'unknown'). В Европе и Северной Америке взаимосвязь между продажами и возрастным рейтингом очень слабая, но есть (коэффециенты корелляции 0.17 и 0.19 соответсвенно), характер взаимосвязи – положительный. Если учитывать, что чем старше аудитория игры, тем выше порядковое значение, которое было присвоено рейтингу, можно подытожить, что с увеличением возрастного рейтинга растут и продажи."
   ]
  },
  {
   "cell_type": "code",
   "execution_count": 140,
   "metadata": {},
   "outputs": [
    {
     "name": "stdout",
     "output_type": "stream",
     "text": [
      "Корелляция между значением рейтинга и продажами в Европе: 0.17349439418561485\n",
      "Корелляция между значением рейтинга и продажами в Японии: -0.08510877945042583\n",
      "Корелляция между значением рейтинга и продажами в Северной Америке: 0.18702852926427438\n"
     ]
    }
   ],
   "source": [
    "print('Корелляция между значением рейтинга и продажами в Европе:', df['rating_num'].corr(df['eu_sales']))\n",
    "print('Корелляция между значением рейтинга и продажами в Японии:', df['rating_num'].corr(df['jp_sales']))\n",
    "print('Корелляция между значением рейтинга и продажами в Северной Америке:', df['rating_num'].corr(df['na_sales']))"
   ]
  },
  {
   "cell_type": "markdown",
   "metadata": {},
   "source": [
    "В Европе больше всего продаж с рейтингом \"Для взрослых\" и \"Для всех\", значительно меньше продаж игр для подростков и детей."
   ]
  },
  {
   "cell_type": "code",
   "execution_count": 141,
   "metadata": {},
   "outputs": [
    {
     "data": {
      "image/png": "[encoded data removed]",
      "text/plain": [
       "<Figure size 504x504 with 1 Axes>"
      ]
     },
     "metadata": {
      "needs_background": "light"
     },
     "output_type": "display_data"
    }
   ],
   "source": [
    "slaes_eu = (df\n",
    "            .pivot_table(index='rating', values='eu_sales', aggfunc='sum')\n",
    "            .sort_values(by='eu_sales', ascending=False)\n",
    ")\n",
    "\n",
    "plt.figure(figsize=(7,7))\n",
    "sns.barplot(x=slaes_eu.index, y=slaes_eu['eu_sales'])\n",
    "plt.title('Взаимосвязь между значением рейтинга и продажами в Северной Америке')\n",
    "plt.xlabel('Значение рейтинга')\n",
    "plt.xticks(rotation = 90)\n",
    "plt.ylabel('Сумма продаж')\n",
    "plt.show()"
   ]
  },
  {
   "cell_type": "markdown",
   "metadata": {},
   "source": [
    "В Японии также больше всего продаж у игр с рейтингом \"Для подростков\", \"Для всех\", и \"Для взрослых\" – в порядке убывания продаж. "
   ]
  },
  {
   "cell_type": "code",
   "execution_count": 142,
   "metadata": {},
   "outputs": [
    {
     "data": {
      "image/png": "[encoded data removed]",
      "text/plain": [
       "<Figure size 504x504 with 1 Axes>"
      ]
     },
     "metadata": {
      "needs_background": "light"
     },
     "output_type": "display_data"
    }
   ],
   "source": [
    "slaes_jp = (df\n",
    "            .pivot_table(index='rating', values='jp_sales', aggfunc='sum')\n",
    "            .sort_values(by='jp_sales', ascending=False)\n",
    ")\n",
    "\n",
    "plt.figure(figsize=(7,7))\n",
    "sns.barplot(x=slaes_jp.index, y=slaes_jp['jp_sales'])\n",
    "plt.title('Взаимосвязь между значением рейтинга и продажами в Японии')\n",
    "plt.xlabel('Значение рейтинга')\n",
    "plt.xticks(rotation = 90)\n",
    "plt.ylabel('Сумма продаж')\n",
    "plt.show()"
   ]
  },
  {
   "cell_type": "markdown",
   "metadata": {},
   "source": [
    "В Северной Америке наблюдается аналогичная ситуация: больше всего продаж у игр с рейтингом M (для взрослых), E (для всех) и T (для подростков)."
   ]
  },
  {
   "cell_type": "code",
   "execution_count": 143,
   "metadata": {},
   "outputs": [
    {
     "data": {
      "image/png": "[encoded data removed]",
      "text/plain": [
       "<Figure size 504x504 with 1 Axes>"
      ]
     },
     "metadata": {
      "needs_background": "light"
     },
     "output_type": "display_data"
    }
   ],
   "source": [
    "slaes_na = (df\n",
    "            .pivot_table(index='rating', values='na_sales', aggfunc='sum')\n",
    "            .sort_values(by='na_sales', ascending=False)\n",
    ")\n",
    "\n",
    "plt.figure(figsize=(7,7))\n",
    "sns.barplot(x=slaes_na.index, y=slaes_na['na_sales'])\n",
    "plt.title('Взаимосвязь между значением рейтинга и продажами в Северной Америке')\n",
    "plt.xlabel('Значение рейтинга')\n",
    "plt.xticks(rotation = 90)\n",
    "plt.ylabel('Сумма продаж')\n",
    "plt.show()"
   ]
  },
  {
   "cell_type": "markdown",
   "metadata": {},
   "source": [
    "**Вывод:** Таким образом, взаимосвязь между рейтингом и количеством продаж есть, но она слабая. Во всех трёх регионах больше всего продаж у игр с рейтингом \"Для всех\" (Е), \"Для взрослых\" (М) и \"Для подростков\" (Т)."
   ]
  },
  {
   "cell_type": "markdown",
   "metadata": {},
   "source": [
    "## Проверка гипотез"
   ]
  },
  {
   "cell_type": "markdown",
   "metadata": {},
   "source": [
    "Для проверки гипотез надо отфильтровать отрицательные значения рейтинга."
   ]
  },
  {
   "cell_type": "code",
   "execution_count": 145,
   "metadata": {},
   "outputs": [],
   "source": [
    "df = df.query('user_score > 0').copy()"
   ]
  },
  {
   "cell_type": "markdown",
   "metadata": {},
   "source": [
    "Проверим предположение о том, что средние пользовательские рейтинги платформ Xbox One и PC одинаковые. Для этого сформулируем нулевую и альтернативную гипотезы:\n",
    "\n",
    "* H0: Средние пользовательские рейтинги платформ Xbox One и PC одинаковые (равны)\n",
    "\n",
    "* H1: Средние пользовательские рейтинги платформ Xbox One и PC разные \n",
    "\n",
    "\n",
    "Зададим пороговое значение alpha, равное 0.05 – критический уровень проверки p-value. В случае если p-value меньше 0.05, вероятность наблюдать полученное значение статистики или более экспремальное при условии, что нулевая гипотеза верна, крайне мала. В таком случае мы можем отбросить нулевую гипотезу в пользу альтернативной."
   ]
  },
  {
   "cell_type": "code",
   "execution_count": 146,
   "metadata": {},
   "outputs": [
    {
     "name": "stdout",
     "output_type": "stream",
     "text": [
      "p-значение:  0.14012658403611647\n",
      "Не получилось отвергнуть нулевую гипотезу\n"
     ]
    }
   ],
   "source": [
    "results = stats.ttest_ind(df.loc[df['platform'] == 'XOne', 'user_score'], df.loc[df['platform'] == 'PC', 'user_score'])\n",
    "\n",
    "alpha = 0.05\n",
    "\n",
    "print('p-значение: ', results.pvalue)\n",
    "\n",
    "if results.pvalue < alpha:\n",
    "    print('Отвергаем нулевую гипотезу.')\n",
    "else:\n",
    "    print('Не получилось отвергнуть нулевую гипотезу')"
   ]
  },
  {
   "cell_type": "code",
   "execution_count": 147,
   "metadata": {},
   "outputs": [
    {
     "data": {
      "image/png": "[encoded data removed]",
      "text/plain": [
       "<Figure size 504x504 with 1 Axes>"
      ]
     },
     "metadata": {
      "needs_background": "light"
     },
     "output_type": "display_data"
    }
   ],
   "source": [
    "platform = (df\n",
    "          .pivot_table(index='platform', values='user_score', aggfunc='mean')\n",
    ")\n",
    "\n",
    "plt.figure(figsize=(7,7))\n",
    "sns.barplot(x=platform.index, y=platform['user_score'])\n",
    "plt.title('Средние рейтинги по платформам')\n",
    "plt.xlabel('Название платформы')\n",
    "plt.xticks(rotation = 90)\n",
    "plt.ylabel('Средний рейтинг')\n",
    "plt.show()"
   ]
  },
  {
   "cell_type": "markdown",
   "metadata": {},
   "source": [
    "**Вывод:** Мы проверили двухстороннюю гипотезу о том, что средние пользовательские рейтинги платформ Xbox One и PC одинаковые, т.е. равны (наша H0). Поскольку это двухсторонний тест, альтернативная гипотеза была сформулирована в терминах отрицания равенства. По результатам теста p-value равно 0.14, значит, вероятность наблюдать статистику t-теста при условии, что H0 верна – велика. Не удалось опровергнуть нулевую гипотезу о том, что средние пользовательсвкие рейтинги платформ Xbox One и PC одинаковые, поэтому мы её принимаем."
   ]
  },
  {
   "cell_type": "markdown",
   "metadata": {},
   "source": [
    "Проверим предположение о том, что средние пользовательские рейтинги жанров Action (англ. «действие», экшен-игры) и Sports (англ. «спортивные соревнования») разные:\n",
    "\n",
    "* H0: Средние пользовательские рейтинги жанров Action и Sports одинаковые (равны)\n",
    "\n",
    "* H1: Средние пользовательские рейтинги жанров Action и Sports разные\n",
    "\n",
    "Вновь зададим пороговое значение alpha равное 0.01 – критический уровень проверки p-value."
   ]
  },
  {
   "cell_type": "code",
   "execution_count": 148,
   "metadata": {},
   "outputs": [
    {
     "name": "stdout",
     "output_type": "stream",
     "text": [
      "p-значение:  1.0517832389140023e-27\n",
      "Отвергаем нулевую гипотезу.\n"
     ]
    }
   ],
   "source": [
    "results = stats.ttest_ind(df.loc[df['genre'] == 'Action', 'user_score'], df.loc[df['genre'] == 'Sports', 'user_score'])\n",
    "\n",
    "alpha = 0.01\n",
    "\n",
    "print('p-значение: ', results.pvalue)\n",
    "\n",
    "if results.pvalue < alpha:\n",
    "    print('Отвергаем нулевую гипотезу.')\n",
    "else:\n",
    "    print('Не получилось отвергнуть нулевую гипотезу')"
   ]
  },
  {
   "cell_type": "markdown",
   "metadata": {},
   "source": [
    "**Вывод:** Как и при проверке предыдущей гипотезы мы использовали двухсторонний тест. Поэтому была сформулирована нулевая гипотеза о том, что средние пользовательские рейтинги жанров Action и Sports одинаковые, а альтернативная гипотеза в терминах неравенства. После проверки гипотезы мы получили p-value < 0.01, поэтому мы отбрасываем гипотезу о равенстве пользовательских рейтингов жанров Action и Sports в пользу альтернативы."
   ]
  },
  {
   "cell_type": "code",
   "execution_count": 149,
   "metadata": {},
   "outputs": [
    {
     "data": {
      "image/png": "[encoded data removed]",
      "text/plain": [
       "<Figure size 504x504 with 1 Axes>"
      ]
     },
     "metadata": {
      "needs_background": "light"
     },
     "output_type": "display_data"
    }
   ],
   "source": [
    "genres = (df\n",
    "          .pivot_table(index='genre', values='user_score', aggfunc='mean')\n",
    ")\n",
    "\n",
    "plt.figure(figsize=(7,7))\n",
    "sns.barplot(x=genres.index, y=genres['user_score'])\n",
    "plt.title('Средние рейтинги по жанрам')\n",
    "plt.xlabel('Название Жанра')\n",
    "plt.xticks(rotation = 90)\n",
    "plt.ylabel('Средний рейтинг')\n",
    "plt.show()"
   ]
  },
  {
   "cell_type": "markdown",
   "metadata": {},
   "source": [
    "## Вывод"
   ]
  },
  {
   "cell_type": "markdown",
   "metadata": {},
   "source": [
    "На этапе подготовки данных были изменены названия столбцов, тип данных переменных \"год выпуска\" и \"оценка пользователей\". Была проведена проверка на наличие дубликатов. Затем были заполнены пропуски в переменных \"имя\", \"жанр\", \"оценка критиков\", \"оценка пользователей\", \"рейтинг ESRB\". Также была проведена проверка на наличие выбросов в данных.\n",
    "\n",
    "На этапе исследовательского анализа данных было изучено количество релизов за каждый год, а также глобальные продажи по платформам. Были выявлены платформы с наибольшими продажами (DS, PS-PS3, Wii, X360). Также был выявлен период, на протяжении которого платформы пользуются популярностью (игры на них хорошо продаются) – это 9-10 лет. Поэтому было принято решение в исследовании изучать данные за последние 5 лет с 2012 до 2016 гг. В качестве потенциально прибыльных платформ выделить их обновленные версии: PS4, XOne и 3DS.\n",
    "\n",
    "Далее была проанализирована взаимосвязь между отзывами критиков и пользователей и продажами на каждой из трёж платформ. Была выявлена положительная корелляция между отзывами критиков и продажами (для всех трёх платформ), а также выявлена положительная корелляция между отзывами пользователей и продажами игр на платформе WiiU. Стоит отметить, кто корелляция между этими факторами слабая (коэффициент корелляции Пирсона принимает значение до 0,5). Поэтому объяснительный потенциал у факторов небольшой. Также была изучена взаимосвязь между жанрами и глобальными продажами. Больше всего игр выпускается в жанре action, role-playing, advebture, sports. Из них только игры в жанре sports прибыльные. Меньше игр выпускается в жанре shooter и platform, но эти жанры также являются прибыльными (игры в жанре shooter самые прибыльные среди всех жанров). Самые низкие продажи у игр в жанре adventure.\n",
    "\n",
    "Далее были составлены портреты пользователей из Европы, Северной Америки и Японии. Во всех регионах популярны платформы PS3, PS4 и 3DS. Самая популярная платформа Европе – это PS4, в Японии – 3DS, в Северной Америке – PS4. Относительно жанров, во всех трёх регионах популярны жанры Action, Shooter и Role-Playing. Наконец, по регионам больше всего продаж у игр с рейтингом \"Для всех\" (Е), \"Для взрослых\" (М) и \"Для подростков\" (Т).\n",
    "\n",
    "Далее были проверены предположения о том, что средние пользовательские рейтинги платформ Xbox One и PC одинаковые и что средние пользовательские рейтинги жанров Action и Sports разные. Предположение о равенстве рейтингов платформ Xbox One и PC не подтвердилось (была отброшена в пользу альтернативной). Предположение о разнице пользовательских рейтингов жанров Action и Sports не было опровергнуто.\n",
    "\n",
    "Таким образом, успешность продаж игры может определяться площадкой, на которой она выходит, отзывами критиков и рейтингом среди пользователей, жанром игры, а также её рейтингом ESRB.\n",
    "\n",
    "**Вывод:** Стоит обратить внимание на платформы PS4, XOne и 3DS, так как это обновленные версии платформ, пользовавшихся популярностью в последние 10 лет. Продажи игр на них хотя и сокращаются, но остаются на хорошем уровне. Во всех трёх изученных регионах популярны платформы PS4 и 3DS, поэтому если выходить на широкий рынок, то на этих платформах.\n",
    "\n",
    "Из жанров стоит сфокусироваться на играх в стиле shooter и sports, которые являются более прибыльными по сравнению с другими. Кроме того, игр в этом жанре выпускается не очень много, поэтому конкуренция должна быть небольшой.\n",
    "\n",
    "Рекомендуется обратить внимание на игры с рейтингом \"Для всех\" (Е) и \"Для взрослых\" (М), поскольку они популярны в каждом из регионов.\n",
    "\n",
    "При выборе платформы и жанра можно ориентироваться на оценки критиков, так как взаимосвязь между продадажами и оценками экспертов положительная. Не стоит ориентиоваться на оценку пользователей – её взаимосвязь с продажами хоть и положительная, но зачастую очень слабая (а для некоторых платформ и вовсе отсутсвует)."
   ]
  }
 ],
 "metadata": {
  "ExecuteTimeLog": [
   {
    "duration": 1565,
    "start_time": "2022-09-20T17:47:49.402Z"
   },
   {
    "duration": 171,
    "start_time": "2022-09-20T17:47:55.502Z"
   },
   {
    "duration": 19,
    "start_time": "2022-09-20T17:48:01.936Z"
   },
   {
    "duration": 43,
    "start_time": "2022-09-20T17:48:07.191Z"
   },
   {
    "duration": 1011,
    "start_time": "2022-09-20T17:48:14.838Z"
   },
   {
    "duration": 13,
    "start_time": "2022-09-20T17:48:56.568Z"
   },
   {
    "duration": 4,
    "start_time": "2022-09-20T17:49:28.740Z"
   },
   {
    "duration": 63,
    "start_time": "2022-09-20T17:49:33.482Z"
   },
   {
    "duration": 11,
    "start_time": "2022-09-20T17:49:57.340Z"
   },
   {
    "duration": 18,
    "start_time": "2022-09-20T17:50:01.057Z"
   },
   {
    "duration": 14,
    "start_time": "2022-09-20T17:50:28.270Z"
   },
   {
    "duration": 9,
    "start_time": "2022-09-20T17:50:32.570Z"
   },
   {
    "duration": 14,
    "start_time": "2022-09-20T17:50:38.201Z"
   },
   {
    "duration": 83,
    "start_time": "2022-09-20T17:51:05.802Z"
   },
   {
    "duration": 21,
    "start_time": "2022-09-20T17:51:29.450Z"
   },
   {
    "duration": 10,
    "start_time": "2022-09-20T17:51:34.237Z"
   },
   {
    "duration": 23,
    "start_time": "2022-09-20T17:51:53.528Z"
   },
   {
    "duration": 5,
    "start_time": "2022-09-20T17:51:57.158Z"
   },
   {
    "duration": 22,
    "start_time": "2022-09-20T17:52:02.540Z"
   },
   {
    "duration": 2,
    "start_time": "2022-09-20T17:52:16.160Z"
   },
   {
    "duration": 154,
    "start_time": "2022-09-20T17:52:30.945Z"
   },
   {
    "duration": 16,
    "start_time": "2022-09-20T17:52:37.535Z"
   },
   {
    "duration": 174,
    "start_time": "2022-09-20T17:52:50.659Z"
   },
   {
    "duration": 12,
    "start_time": "2022-09-20T17:53:03.442Z"
   },
   {
    "duration": 8,
    "start_time": "2022-09-20T17:53:07.567Z"
   },
   {
    "duration": 7,
    "start_time": "2022-09-20T17:54:09.544Z"
   },
   {
    "duration": 213,
    "start_time": "2022-09-20T17:54:20.642Z"
   },
   {
    "duration": 269,
    "start_time": "2022-09-20T17:54:48.370Z"
   },
   {
    "duration": 4,
    "start_time": "2022-09-20T17:54:56.871Z"
   },
   {
    "duration": 18,
    "start_time": "2022-09-20T17:55:00.901Z"
   },
   {
    "duration": 4,
    "start_time": "2022-09-20T17:55:27.436Z"
   },
   {
    "duration": 193,
    "start_time": "2022-09-20T17:55:41.985Z"
   },
   {
    "duration": 4,
    "start_time": "2022-09-20T17:55:58.880Z"
   },
   {
    "duration": 21,
    "start_time": "2022-09-20T17:56:10.132Z"
   },
   {
    "duration": 9,
    "start_time": "2022-09-20T17:56:16.460Z"
   },
   {
    "duration": 13,
    "start_time": "2022-09-20T17:56:33.094Z"
   },
   {
    "duration": 378,
    "start_time": "2022-09-20T17:56:59.461Z"
   },
   {
    "duration": 361,
    "start_time": "2022-09-20T17:57:27.836Z"
   },
   {
    "duration": 202,
    "start_time": "2022-09-20T17:57:42.179Z"
   },
   {
    "duration": 229,
    "start_time": "2022-09-20T17:57:49.648Z"
   },
   {
    "duration": 227,
    "start_time": "2022-09-20T17:58:00.436Z"
   },
   {
    "duration": 229,
    "start_time": "2022-09-20T17:58:14.532Z"
   },
   {
    "duration": 231,
    "start_time": "2022-09-20T17:58:21.396Z"
   },
   {
    "duration": 278,
    "start_time": "2022-09-20T17:58:28.091Z"
   },
   {
    "duration": 5,
    "start_time": "2022-09-20T17:58:41.368Z"
   },
   {
    "duration": 19,
    "start_time": "2022-09-20T17:58:52.136Z"
   },
   {
    "duration": 7,
    "start_time": "2022-09-20T17:59:05.070Z"
   },
   {
    "duration": 263,
    "start_time": "2022-09-20T17:59:17.468Z"
   },
   {
    "duration": 338,
    "start_time": "2022-09-20T17:59:25.940Z"
   },
   {
    "duration": 227,
    "start_time": "2022-09-20T17:59:33.897Z"
   },
   {
    "duration": 246,
    "start_time": "2022-09-20T17:59:40.889Z"
   },
   {
    "duration": 247,
    "start_time": "2022-09-20T18:01:06.600Z"
   },
   {
    "duration": 145,
    "start_time": "2022-09-20T18:01:35.253Z"
   },
   {
    "duration": 175,
    "start_time": "2022-09-20T18:01:51.296Z"
   },
   {
    "duration": 204,
    "start_time": "2022-09-20T18:02:41.149Z"
   },
   {
    "duration": 728,
    "start_time": "2022-09-20T18:03:13.852Z"
   },
   {
    "duration": 3,
    "start_time": "2022-09-20T18:03:21.580Z"
   },
   {
    "duration": 6,
    "start_time": "2022-09-20T18:03:34.865Z"
   },
   {
    "duration": 571,
    "start_time": "2022-09-20T18:04:03.029Z"
   },
   {
    "duration": 12,
    "start_time": "2022-09-20T18:04:11.449Z"
   },
   {
    "duration": 10,
    "start_time": "2022-09-20T18:04:50.980Z"
   },
   {
    "duration": 11,
    "start_time": "2022-09-20T18:05:00.053Z"
   },
   {
    "duration": 213,
    "start_time": "2022-09-20T18:19:36.036Z"
   },
   {
    "duration": 197,
    "start_time": "2022-09-20T18:19:46.380Z"
   },
   {
    "duration": 22,
    "start_time": "2022-09-20T18:20:46.297Z"
   },
   {
    "duration": 9,
    "start_time": "2022-09-20T18:20:59.549Z"
   },
   {
    "duration": 54,
    "start_time": "2022-09-20T18:21:04.353Z"
   },
   {
    "duration": 6,
    "start_time": "2022-09-20T18:21:13.479Z"
   },
   {
    "duration": 6,
    "start_time": "2022-09-20T18:21:18.279Z"
   },
   {
    "duration": 23,
    "start_time": "2022-09-20T18:21:24.303Z"
   },
   {
    "duration": 15,
    "start_time": "2022-09-20T18:21:55.679Z"
   },
   {
    "duration": 11,
    "start_time": "2022-09-20T18:22:01.040Z"
   },
   {
    "duration": 8,
    "start_time": "2022-09-20T18:22:06.337Z"
   },
   {
    "duration": 9,
    "start_time": "2022-09-20T18:22:12.043Z"
   },
   {
    "duration": 41,
    "start_time": "2022-09-20T18:22:31.708Z"
   },
   {
    "duration": 15,
    "start_time": "2022-09-20T18:22:49.236Z"
   },
   {
    "duration": 206,
    "start_time": "2022-09-20T18:23:03.835Z"
   },
   {
    "duration": 170,
    "start_time": "2022-09-20T18:23:16.646Z"
   },
   {
    "duration": 176,
    "start_time": "2022-09-20T18:23:30.449Z"
   },
   {
    "duration": 9,
    "start_time": "2022-09-20T18:23:59.644Z"
   },
   {
    "duration": 12,
    "start_time": "2022-09-20T18:24:22.500Z"
   },
   {
    "duration": 3,
    "start_time": "2022-09-20T18:24:33.463Z"
   },
   {
    "duration": 96,
    "start_time": "2022-09-20T18:24:33.468Z"
   },
   {
    "duration": 17,
    "start_time": "2022-09-20T18:24:33.566Z"
   },
   {
    "duration": 51,
    "start_time": "2022-09-20T18:24:33.585Z"
   },
   {
    "duration": 990,
    "start_time": "2022-09-20T18:24:33.649Z"
   },
   {
    "duration": 27,
    "start_time": "2022-09-20T18:24:34.649Z"
   },
   {
    "duration": 3,
    "start_time": "2022-09-20T18:24:34.678Z"
   },
   {
    "duration": 41,
    "start_time": "2022-09-20T18:24:34.682Z"
   },
   {
    "duration": 33,
    "start_time": "2022-09-20T18:24:34.725Z"
   },
   {
    "duration": 16,
    "start_time": "2022-09-20T18:24:34.760Z"
   },
   {
    "duration": 12,
    "start_time": "2022-09-20T18:24:34.777Z"
   },
   {
    "duration": 6,
    "start_time": "2022-09-20T18:24:34.791Z"
   },
   {
    "duration": 8,
    "start_time": "2022-09-20T18:24:34.798Z"
   },
   {
    "duration": 59,
    "start_time": "2022-09-20T18:24:34.809Z"
   },
   {
    "duration": 7,
    "start_time": "2022-09-20T18:24:34.870Z"
   },
   {
    "duration": 8,
    "start_time": "2022-09-20T18:24:34.878Z"
   },
   {
    "duration": 5,
    "start_time": "2022-09-20T18:24:34.887Z"
   },
   {
    "duration": 6,
    "start_time": "2022-09-20T18:24:34.893Z"
   },
   {
    "duration": 5,
    "start_time": "2022-09-20T18:24:34.901Z"
   },
   {
    "duration": 32,
    "start_time": "2022-09-20T18:24:34.908Z"
   },
   {
    "duration": 157,
    "start_time": "2022-09-20T18:24:34.949Z"
   },
   {
    "duration": 15,
    "start_time": "2022-09-20T18:24:35.108Z"
   },
   {
    "duration": 196,
    "start_time": "2022-09-20T18:24:35.124Z"
   },
   {
    "duration": 5,
    "start_time": "2022-09-20T18:24:35.321Z"
   },
   {
    "duration": 36,
    "start_time": "2022-09-20T18:24:35.327Z"
   },
   {
    "duration": 2,
    "start_time": "2022-09-20T18:24:35.365Z"
   },
   {
    "duration": 187,
    "start_time": "2022-09-20T18:24:35.369Z"
   },
   {
    "duration": 178,
    "start_time": "2022-09-20T18:24:35.561Z"
   },
   {
    "duration": 5,
    "start_time": "2022-09-20T18:24:35.752Z"
   },
   {
    "duration": 13,
    "start_time": "2022-09-20T18:24:35.759Z"
   },
   {
    "duration": 9,
    "start_time": "2022-09-20T18:24:35.773Z"
   },
   {
    "duration": 173,
    "start_time": "2022-09-20T18:24:35.785Z"
   },
   {
    "duration": 5,
    "start_time": "2022-09-20T18:24:35.959Z"
   },
   {
    "duration": 13,
    "start_time": "2022-09-20T18:24:35.966Z"
   },
   {
    "duration": 8,
    "start_time": "2022-09-20T18:24:35.980Z"
   },
   {
    "duration": 70,
    "start_time": "2022-09-20T18:24:35.990Z"
   },
   {
    "duration": 397,
    "start_time": "2022-09-20T18:24:36.062Z"
   },
   {
    "duration": 382,
    "start_time": "2022-09-20T18:24:36.461Z"
   },
   {
    "duration": 321,
    "start_time": "2022-09-20T18:24:36.856Z"
   },
   {
    "duration": 268,
    "start_time": "2022-09-20T18:24:37.179Z"
   },
   {
    "duration": 223,
    "start_time": "2022-09-20T18:24:37.455Z"
   },
   {
    "duration": 262,
    "start_time": "2022-09-20T18:24:37.681Z"
   },
   {
    "duration": 222,
    "start_time": "2022-09-20T18:24:37.952Z"
   },
   {
    "duration": 220,
    "start_time": "2022-09-20T18:24:38.179Z"
   },
   {
    "duration": 22,
    "start_time": "2022-09-20T18:24:38.401Z"
   },
   {
    "duration": 49,
    "start_time": "2022-09-20T18:24:38.436Z"
   },
   {
    "duration": 344,
    "start_time": "2022-09-20T18:24:38.487Z"
   },
   {
    "duration": 200,
    "start_time": "2022-09-20T18:24:38.836Z"
   },
   {
    "duration": 232,
    "start_time": "2022-09-20T18:24:39.038Z"
   },
   {
    "duration": 210,
    "start_time": "2022-09-20T18:24:39.273Z"
   },
   {
    "duration": 151,
    "start_time": "2022-09-20T18:24:39.484Z"
   },
   {
    "duration": 230,
    "start_time": "2022-09-20T18:24:39.637Z"
   },
   {
    "duration": 134,
    "start_time": "2022-09-20T18:24:39.870Z"
   },
   {
    "duration": 223,
    "start_time": "2022-09-20T18:24:40.006Z"
   },
   {
    "duration": 624,
    "start_time": "2022-09-20T18:24:40.231Z"
   },
   {
    "duration": 18,
    "start_time": "2022-09-20T18:24:40.857Z"
   },
   {
    "duration": 625,
    "start_time": "2022-09-20T18:24:40.877Z"
   },
   {
    "duration": 9,
    "start_time": "2022-09-20T18:24:41.504Z"
   },
   {
    "duration": 68,
    "start_time": "2022-09-20T18:24:41.515Z"
   },
   {
    "duration": 15,
    "start_time": "2022-09-20T18:24:41.584Z"
   },
   {
    "duration": 286,
    "start_time": "2022-09-20T18:24:41.600Z"
   },
   {
    "duration": 216,
    "start_time": "2022-09-20T18:24:41.887Z"
   },
   {
    "duration": 17,
    "start_time": "2022-09-20T18:24:42.105Z"
   },
   {
    "duration": 31,
    "start_time": "2022-09-20T18:24:42.126Z"
   },
   {
    "duration": 7,
    "start_time": "2022-09-20T18:24:42.158Z"
   },
   {
    "duration": 7,
    "start_time": "2022-09-20T18:24:42.167Z"
   },
   {
    "duration": 9,
    "start_time": "2022-09-20T18:24:42.176Z"
   },
   {
    "duration": 41,
    "start_time": "2022-09-20T18:24:42.186Z"
   },
   {
    "duration": 25,
    "start_time": "2022-09-20T18:24:42.229Z"
   },
   {
    "duration": 7,
    "start_time": "2022-09-20T18:24:42.256Z"
   },
   {
    "duration": 7,
    "start_time": "2022-09-20T18:24:42.265Z"
   },
   {
    "duration": 17,
    "start_time": "2022-09-20T18:24:42.273Z"
   },
   {
    "duration": 10,
    "start_time": "2022-09-20T18:24:42.291Z"
   },
   {
    "duration": 280,
    "start_time": "2022-09-20T18:24:42.302Z"
   },
   {
    "duration": 198,
    "start_time": "2022-09-20T18:24:42.584Z"
   },
   {
    "duration": 208,
    "start_time": "2022-09-20T18:24:42.784Z"
   },
   {
    "duration": 9,
    "start_time": "2022-09-20T18:24:42.994Z"
   },
   {
    "duration": 61,
    "start_time": "2022-09-20T18:24:43.006Z"
   },
   {
    "duration": 3,
    "start_time": "2022-09-20T19:08:07.066Z"
   },
   {
    "duration": 97,
    "start_time": "2022-09-20T19:08:07.071Z"
   },
   {
    "duration": 20,
    "start_time": "2022-09-20T19:08:07.170Z"
   },
   {
    "duration": 57,
    "start_time": "2022-09-20T19:08:07.193Z"
   },
   {
    "duration": 824,
    "start_time": "2022-09-20T19:08:07.252Z"
   },
   {
    "duration": 13,
    "start_time": "2022-09-20T19:08:08.077Z"
   },
   {
    "duration": 28,
    "start_time": "2022-09-20T19:08:08.092Z"
   },
   {
    "duration": 49,
    "start_time": "2022-09-20T19:08:08.130Z"
   },
   {
    "duration": 8,
    "start_time": "2022-09-20T19:08:08.182Z"
   },
   {
    "duration": 14,
    "start_time": "2022-09-20T19:08:08.192Z"
   },
   {
    "duration": 36,
    "start_time": "2022-09-20T19:08:08.207Z"
   },
   {
    "duration": 6,
    "start_time": "2022-09-20T19:08:08.244Z"
   },
   {
    "duration": 8,
    "start_time": "2022-09-20T19:08:08.252Z"
   },
   {
    "duration": 15,
    "start_time": "2022-09-20T19:08:08.261Z"
   },
   {
    "duration": 7,
    "start_time": "2022-09-20T19:08:08.277Z"
   },
   {
    "duration": 8,
    "start_time": "2022-09-20T19:08:08.285Z"
   },
   {
    "duration": 17,
    "start_time": "2022-09-20T19:08:08.294Z"
   },
   {
    "duration": 33,
    "start_time": "2022-09-20T19:08:08.312Z"
   },
   {
    "duration": 8,
    "start_time": "2022-09-20T19:08:08.347Z"
   },
   {
    "duration": 9,
    "start_time": "2022-09-20T19:08:08.357Z"
   },
   {
    "duration": 173,
    "start_time": "2022-09-20T19:08:08.367Z"
   },
   {
    "duration": 8,
    "start_time": "2022-09-20T19:08:08.542Z"
   },
   {
    "duration": 145,
    "start_time": "2022-09-20T19:08:08.551Z"
   },
   {
    "duration": 28,
    "start_time": "2022-09-20T19:08:08.699Z"
   },
   {
    "duration": 19,
    "start_time": "2022-09-20T19:08:08.730Z"
   },
   {
    "duration": 4,
    "start_time": "2022-09-20T19:08:08.751Z"
   },
   {
    "duration": 165,
    "start_time": "2022-09-20T19:08:08.756Z"
   },
   {
    "duration": 161,
    "start_time": "2022-09-20T19:08:08.923Z"
   },
   {
    "duration": 4,
    "start_time": "2022-09-20T19:08:09.086Z"
   },
   {
    "duration": 20,
    "start_time": "2022-09-20T19:08:09.091Z"
   },
   {
    "duration": 6,
    "start_time": "2022-09-20T19:08:09.112Z"
   },
   {
    "duration": 262,
    "start_time": "2022-09-20T19:08:09.119Z"
   },
   {
    "duration": 4,
    "start_time": "2022-09-20T19:08:09.383Z"
   },
   {
    "duration": 10,
    "start_time": "2022-09-20T19:08:09.389Z"
   },
   {
    "duration": 19,
    "start_time": "2022-09-20T19:08:09.416Z"
   },
   {
    "duration": 18,
    "start_time": "2022-09-20T19:08:09.441Z"
   },
   {
    "duration": 372,
    "start_time": "2022-09-20T19:08:09.461Z"
   },
   {
    "duration": 313,
    "start_time": "2022-09-20T19:08:09.837Z"
   },
   {
    "duration": 205,
    "start_time": "2022-09-20T19:08:10.153Z"
   },
   {
    "duration": 207,
    "start_time": "2022-09-20T19:08:10.360Z"
   },
   {
    "duration": 198,
    "start_time": "2022-09-20T19:08:10.569Z"
   },
   {
    "duration": 208,
    "start_time": "2022-09-20T19:08:10.769Z"
   },
   {
    "duration": 192,
    "start_time": "2022-09-20T19:08:10.979Z"
   },
   {
    "duration": 223,
    "start_time": "2022-09-20T19:08:11.173Z"
   },
   {
    "duration": 11,
    "start_time": "2022-09-20T19:08:11.398Z"
   },
   {
    "duration": 17,
    "start_time": "2022-09-20T19:08:11.410Z"
   },
   {
    "duration": 337,
    "start_time": "2022-09-20T19:08:11.429Z"
   },
   {
    "duration": 197,
    "start_time": "2022-09-20T19:08:11.768Z"
   },
   {
    "duration": 187,
    "start_time": "2022-09-20T19:08:11.966Z"
   },
   {
    "duration": 191,
    "start_time": "2022-09-20T19:08:12.155Z"
   },
   {
    "duration": 145,
    "start_time": "2022-09-20T19:08:12.348Z"
   },
   {
    "duration": 168,
    "start_time": "2022-09-20T19:08:12.494Z"
   },
   {
    "duration": 198,
    "start_time": "2022-09-20T19:08:12.665Z"
   },
   {
    "duration": 203,
    "start_time": "2022-09-20T19:08:12.865Z"
   },
   {
    "duration": 578,
    "start_time": "2022-09-20T19:08:13.070Z"
   },
   {
    "duration": 10,
    "start_time": "2022-09-20T19:08:13.650Z"
   },
   {
    "duration": 689,
    "start_time": "2022-09-20T19:08:13.663Z"
   },
   {
    "duration": 8,
    "start_time": "2022-09-20T19:08:14.354Z"
   },
   {
    "duration": 19,
    "start_time": "2022-09-20T19:08:14.364Z"
   },
   {
    "duration": 10,
    "start_time": "2022-09-20T19:08:14.384Z"
   },
   {
    "duration": 226,
    "start_time": "2022-09-20T19:08:14.395Z"
   },
   {
    "duration": 229,
    "start_time": "2022-09-20T19:08:14.623Z"
   },
   {
    "duration": 18,
    "start_time": "2022-09-20T19:08:14.854Z"
   },
   {
    "duration": 29,
    "start_time": "2022-09-20T19:08:14.873Z"
   },
   {
    "duration": 47,
    "start_time": "2022-09-20T19:08:14.904Z"
   },
   {
    "duration": 21,
    "start_time": "2022-09-20T19:08:14.953Z"
   },
   {
    "duration": 21,
    "start_time": "2022-09-20T19:08:14.975Z"
   },
   {
    "duration": 55,
    "start_time": "2022-09-20T19:08:14.998Z"
   },
   {
    "duration": 5,
    "start_time": "2022-09-20T19:08:15.058Z"
   },
   {
    "duration": 9,
    "start_time": "2022-09-20T19:08:15.065Z"
   },
   {
    "duration": 17,
    "start_time": "2022-09-20T19:08:15.075Z"
   },
   {
    "duration": 68,
    "start_time": "2022-09-20T19:08:15.093Z"
   },
   {
    "duration": 19,
    "start_time": "2022-09-20T19:08:15.163Z"
   },
   {
    "duration": 210,
    "start_time": "2022-09-20T19:08:15.184Z"
   },
   {
    "duration": 184,
    "start_time": "2022-09-20T19:08:15.396Z"
   },
   {
    "duration": 185,
    "start_time": "2022-09-20T19:08:15.582Z"
   },
   {
    "duration": 7,
    "start_time": "2022-09-20T19:08:15.768Z"
   },
   {
    "duration": 31,
    "start_time": "2022-09-20T19:08:15.776Z"
   },
   {
    "duration": 144,
    "start_time": "2022-09-20T19:10:01.628Z"
   },
   {
    "duration": 13,
    "start_time": "2022-09-20T19:10:49.606Z"
   },
   {
    "duration": 85,
    "start_time": "2022-09-20T19:10:49.632Z"
   },
   {
    "duration": 18,
    "start_time": "2022-09-20T19:10:49.728Z"
   },
   {
    "duration": 40,
    "start_time": "2022-09-20T19:10:49.747Z"
   },
   {
    "duration": 967,
    "start_time": "2022-09-20T19:10:49.789Z"
   },
   {
    "duration": 14,
    "start_time": "2022-09-20T19:10:50.760Z"
   },
   {
    "duration": 6,
    "start_time": "2022-09-20T19:10:50.775Z"
   },
   {
    "duration": 48,
    "start_time": "2022-09-20T19:10:50.783Z"
   },
   {
    "duration": 24,
    "start_time": "2022-09-20T19:10:50.833Z"
   },
   {
    "duration": 21,
    "start_time": "2022-09-20T19:10:50.858Z"
   },
   {
    "duration": 24,
    "start_time": "2022-09-20T19:10:50.881Z"
   },
   {
    "duration": 32,
    "start_time": "2022-09-20T19:10:50.907Z"
   },
   {
    "duration": 23,
    "start_time": "2022-09-20T19:10:50.941Z"
   },
   {
    "duration": 17,
    "start_time": "2022-09-20T19:10:50.967Z"
   },
   {
    "duration": 7,
    "start_time": "2022-09-20T19:10:50.985Z"
   },
   {
    "duration": 5,
    "start_time": "2022-09-20T19:10:50.994Z"
   },
   {
    "duration": 17,
    "start_time": "2022-09-20T19:10:51.000Z"
   },
   {
    "duration": 35,
    "start_time": "2022-09-20T19:10:51.018Z"
   },
   {
    "duration": 6,
    "start_time": "2022-09-20T19:10:51.055Z"
   },
   {
    "duration": 8,
    "start_time": "2022-09-20T19:10:51.062Z"
   },
   {
    "duration": 148,
    "start_time": "2022-09-20T19:10:51.072Z"
   },
   {
    "duration": 12,
    "start_time": "2022-09-20T19:10:51.221Z"
   },
   {
    "duration": 161,
    "start_time": "2022-09-20T19:10:51.234Z"
   },
   {
    "duration": 5,
    "start_time": "2022-09-20T19:10:51.396Z"
   },
   {
    "duration": 33,
    "start_time": "2022-09-20T19:10:51.402Z"
   },
   {
    "duration": 17,
    "start_time": "2022-09-20T19:10:51.437Z"
   },
   {
    "duration": 163,
    "start_time": "2022-09-20T19:10:51.455Z"
   },
   {
    "duration": 154,
    "start_time": "2022-09-20T19:10:51.626Z"
   },
   {
    "duration": 4,
    "start_time": "2022-09-20T19:10:51.782Z"
   },
   {
    "duration": 63,
    "start_time": "2022-09-20T19:10:51.788Z"
   },
   {
    "duration": 7,
    "start_time": "2022-09-20T19:10:51.853Z"
   },
   {
    "duration": 185,
    "start_time": "2022-09-20T19:10:51.861Z"
   },
   {
    "duration": 5,
    "start_time": "2022-09-20T19:10:52.048Z"
   },
   {
    "duration": 14,
    "start_time": "2022-09-20T19:10:52.054Z"
   },
   {
    "duration": 3,
    "start_time": "2022-09-20T19:10:52.069Z"
   },
   {
    "duration": 15,
    "start_time": "2022-09-20T19:10:52.074Z"
   },
   {
    "duration": 365,
    "start_time": "2022-09-20T19:10:52.090Z"
   },
   {
    "duration": 377,
    "start_time": "2022-09-20T19:10:52.457Z"
   },
   {
    "duration": 215,
    "start_time": "2022-09-20T19:10:52.840Z"
   },
   {
    "duration": 294,
    "start_time": "2022-09-20T19:10:53.056Z"
   },
   {
    "duration": 199,
    "start_time": "2022-09-20T19:10:53.355Z"
   },
   {
    "duration": 203,
    "start_time": "2022-09-20T19:10:53.556Z"
   },
   {
    "duration": 236,
    "start_time": "2022-09-20T19:10:53.760Z"
   },
   {
    "duration": 207,
    "start_time": "2022-09-20T19:10:53.997Z"
   },
   {
    "duration": 50,
    "start_time": "2022-09-20T19:10:54.206Z"
   },
   {
    "duration": 26,
    "start_time": "2022-09-20T19:10:54.258Z"
   },
   {
    "duration": 229,
    "start_time": "2022-09-20T19:10:54.287Z"
   },
   {
    "duration": 226,
    "start_time": "2022-09-20T19:10:54.517Z"
   },
   {
    "duration": 215,
    "start_time": "2022-09-20T19:10:54.745Z"
   },
   {
    "duration": 200,
    "start_time": "2022-09-20T19:10:54.962Z"
   },
   {
    "duration": 168,
    "start_time": "2022-09-20T19:10:55.164Z"
   },
   {
    "duration": 139,
    "start_time": "2022-09-20T19:10:55.348Z"
   },
   {
    "duration": 230,
    "start_time": "2022-09-20T19:10:55.488Z"
   },
   {
    "duration": 187,
    "start_time": "2022-09-20T19:10:55.720Z"
   },
   {
    "duration": 613,
    "start_time": "2022-09-20T19:10:55.920Z"
   },
   {
    "duration": 19,
    "start_time": "2022-09-20T19:10:56.541Z"
   },
   {
    "duration": 601,
    "start_time": "2022-09-20T19:10:56.561Z"
   },
   {
    "duration": 7,
    "start_time": "2022-09-20T19:10:57.163Z"
   },
   {
    "duration": 15,
    "start_time": "2022-09-20T19:10:57.171Z"
   },
   {
    "duration": 41,
    "start_time": "2022-09-20T19:10:57.187Z"
   },
   {
    "duration": 229,
    "start_time": "2022-09-20T19:10:57.229Z"
   },
   {
    "duration": 203,
    "start_time": "2022-09-20T19:10:57.460Z"
   },
   {
    "duration": 15,
    "start_time": "2022-09-20T19:10:57.665Z"
   },
   {
    "duration": 8,
    "start_time": "2022-09-20T19:10:57.682Z"
   },
   {
    "duration": 51,
    "start_time": "2022-09-20T19:10:57.692Z"
   },
   {
    "duration": 29,
    "start_time": "2022-09-20T19:10:57.744Z"
   },
   {
    "duration": 32,
    "start_time": "2022-09-20T19:10:57.775Z"
   },
   {
    "duration": 54,
    "start_time": "2022-09-20T19:10:57.823Z"
   },
   {
    "duration": 7,
    "start_time": "2022-09-20T19:10:57.879Z"
   },
   {
    "duration": 6,
    "start_time": "2022-09-20T19:10:57.888Z"
   },
   {
    "duration": 6,
    "start_time": "2022-09-20T19:10:57.896Z"
   },
   {
    "duration": 41,
    "start_time": "2022-09-20T19:10:57.920Z"
   },
   {
    "duration": 6,
    "start_time": "2022-09-20T19:10:57.963Z"
   },
   {
    "duration": 369,
    "start_time": "2022-09-20T19:10:57.970Z"
   },
   {
    "duration": 486,
    "start_time": "2022-09-20T19:10:58.341Z"
   },
   {
    "duration": 506,
    "start_time": "2022-09-20T19:10:58.829Z"
   },
   {
    "duration": 17,
    "start_time": "2022-09-20T19:10:59.338Z"
   },
   {
    "duration": 14,
    "start_time": "2022-09-20T19:10:59.358Z"
   },
   {
    "duration": 1169,
    "start_time": "2022-09-20T21:12:24.233Z"
   },
   {
    "duration": 67,
    "start_time": "2022-09-20T21:12:25.404Z"
   },
   {
    "duration": 15,
    "start_time": "2022-09-20T21:12:25.473Z"
   },
   {
    "duration": 37,
    "start_time": "2022-09-20T21:12:25.489Z"
   },
   {
    "duration": 853,
    "start_time": "2022-09-20T21:12:25.528Z"
   },
   {
    "duration": 17,
    "start_time": "2022-09-20T21:12:26.384Z"
   },
   {
    "duration": 29,
    "start_time": "2022-09-20T21:12:26.402Z"
   },
   {
    "duration": 59,
    "start_time": "2022-09-20T21:12:26.433Z"
   },
   {
    "duration": 9,
    "start_time": "2022-09-20T21:12:26.493Z"
   },
   {
    "duration": 40,
    "start_time": "2022-09-20T21:12:26.503Z"
   },
   {
    "duration": 34,
    "start_time": "2022-09-20T21:12:26.545Z"
   },
   {
    "duration": 17,
    "start_time": "2022-09-20T21:12:26.581Z"
   },
   {
    "duration": 45,
    "start_time": "2022-09-20T21:12:26.599Z"
   },
   {
    "duration": 65,
    "start_time": "2022-09-20T21:12:26.647Z"
   },
   {
    "duration": 8,
    "start_time": "2022-09-20T21:12:26.714Z"
   },
   {
    "duration": 20,
    "start_time": "2022-09-20T21:12:26.723Z"
   },
   {
    "duration": 14,
    "start_time": "2022-09-20T21:12:26.745Z"
   },
   {
    "duration": 28,
    "start_time": "2022-09-20T21:12:26.762Z"
   },
   {
    "duration": 15,
    "start_time": "2022-09-20T21:12:26.792Z"
   },
   {
    "duration": 14,
    "start_time": "2022-09-20T21:12:26.809Z"
   },
   {
    "duration": 181,
    "start_time": "2022-09-20T21:12:26.825Z"
   },
   {
    "duration": 12,
    "start_time": "2022-09-20T21:12:27.008Z"
   },
   {
    "duration": 171,
    "start_time": "2022-09-20T21:12:27.022Z"
   },
   {
    "duration": 6,
    "start_time": "2022-09-20T21:12:27.195Z"
   },
   {
    "duration": 20,
    "start_time": "2022-09-20T21:12:27.202Z"
   },
   {
    "duration": 30,
    "start_time": "2022-09-20T21:12:27.224Z"
   },
   {
    "duration": 197,
    "start_time": "2022-09-20T21:12:27.256Z"
   },
   {
    "duration": 254,
    "start_time": "2022-09-20T21:12:27.455Z"
   },
   {
    "duration": 10,
    "start_time": "2022-09-20T21:12:27.710Z"
   },
   {
    "duration": 25,
    "start_time": "2022-09-20T21:12:27.721Z"
   },
   {
    "duration": 17,
    "start_time": "2022-09-20T21:12:27.748Z"
   },
   {
    "duration": 176,
    "start_time": "2022-09-20T21:12:27.767Z"
   },
   {
    "duration": 4,
    "start_time": "2022-09-20T21:12:27.945Z"
   },
   {
    "duration": 14,
    "start_time": "2022-09-20T21:12:27.951Z"
   },
   {
    "duration": 6,
    "start_time": "2022-09-20T21:12:27.967Z"
   },
   {
    "duration": 25,
    "start_time": "2022-09-20T21:12:27.974Z"
   },
   {
    "duration": 386,
    "start_time": "2022-09-20T21:12:28.001Z"
   },
   {
    "duration": 333,
    "start_time": "2022-09-20T21:12:28.389Z"
   },
   {
    "duration": 220,
    "start_time": "2022-09-20T21:12:28.724Z"
   },
   {
    "duration": 285,
    "start_time": "2022-09-20T21:12:28.946Z"
   },
   {
    "duration": 214,
    "start_time": "2022-09-20T21:12:29.235Z"
   },
   {
    "duration": 205,
    "start_time": "2022-09-20T21:12:29.451Z"
   },
   {
    "duration": 203,
    "start_time": "2022-09-20T21:12:29.658Z"
   },
   {
    "duration": 306,
    "start_time": "2022-09-20T21:12:29.862Z"
   },
   {
    "duration": 9,
    "start_time": "2022-09-20T21:12:30.170Z"
   },
   {
    "duration": 20,
    "start_time": "2022-09-20T21:12:30.180Z"
   },
   {
    "duration": 234,
    "start_time": "2022-09-20T21:12:30.202Z"
   },
   {
    "duration": 201,
    "start_time": "2022-09-20T21:12:30.438Z"
   },
   {
    "duration": 198,
    "start_time": "2022-09-20T21:12:30.640Z"
   },
   {
    "duration": 213,
    "start_time": "2022-09-20T21:12:30.841Z"
   },
   {
    "duration": 156,
    "start_time": "2022-09-20T21:12:31.056Z"
   },
   {
    "duration": 153,
    "start_time": "2022-09-20T21:12:31.220Z"
   },
   {
    "duration": 157,
    "start_time": "2022-09-20T21:12:31.376Z"
   },
   {
    "duration": 201,
    "start_time": "2022-09-20T21:12:31.534Z"
   },
   {
    "duration": 723,
    "start_time": "2022-09-20T21:12:31.736Z"
   },
   {
    "duration": 7,
    "start_time": "2022-09-20T21:12:32.461Z"
   },
   {
    "duration": 587,
    "start_time": "2022-09-20T21:12:32.470Z"
   },
   {
    "duration": 7,
    "start_time": "2022-09-20T21:12:33.059Z"
   },
   {
    "duration": 19,
    "start_time": "2022-09-20T21:12:33.067Z"
   },
   {
    "duration": 11,
    "start_time": "2022-09-20T21:12:33.088Z"
   },
   {
    "duration": 205,
    "start_time": "2022-09-20T21:12:33.100Z"
   },
   {
    "duration": 203,
    "start_time": "2022-09-20T21:12:33.307Z"
   },
   {
    "duration": 24,
    "start_time": "2022-09-20T21:12:33.512Z"
   },
   {
    "duration": 8,
    "start_time": "2022-09-20T21:12:33.537Z"
   },
   {
    "duration": 13,
    "start_time": "2022-09-20T21:12:33.546Z"
   },
   {
    "duration": 7,
    "start_time": "2022-09-20T21:12:33.561Z"
   },
   {
    "duration": 9,
    "start_time": "2022-09-20T21:12:33.569Z"
   },
   {
    "duration": 42,
    "start_time": "2022-09-20T21:12:33.580Z"
   },
   {
    "duration": 7,
    "start_time": "2022-09-20T21:12:33.624Z"
   },
   {
    "duration": 7,
    "start_time": "2022-09-20T21:12:33.633Z"
   },
   {
    "duration": 7,
    "start_time": "2022-09-20T21:12:33.642Z"
   },
   {
    "duration": 21,
    "start_time": "2022-09-20T21:12:33.651Z"
   },
   {
    "duration": 7,
    "start_time": "2022-09-20T21:12:33.675Z"
   },
   {
    "duration": 183,
    "start_time": "2022-09-20T21:12:33.720Z"
   },
   {
    "duration": 162,
    "start_time": "2022-09-20T21:12:33.905Z"
   },
   {
    "duration": 178,
    "start_time": "2022-09-20T21:12:34.070Z"
   },
   {
    "duration": 8,
    "start_time": "2022-09-20T21:12:34.250Z"
   },
   {
    "duration": 10,
    "start_time": "2022-09-20T21:12:34.260Z"
   },
   {
    "duration": 53,
    "start_time": "2022-09-20T23:36:08.256Z"
   },
   {
    "duration": 1274,
    "start_time": "2022-09-20T23:36:19.768Z"
   },
   {
    "duration": 78,
    "start_time": "2022-09-20T23:36:21.057Z"
   },
   {
    "duration": 22,
    "start_time": "2022-09-20T23:36:21.137Z"
   },
   {
    "duration": 42,
    "start_time": "2022-09-20T23:36:21.162Z"
   },
   {
    "duration": 1105,
    "start_time": "2022-09-20T23:36:21.206Z"
   },
   {
    "duration": 26,
    "start_time": "2022-09-20T23:36:22.313Z"
   },
   {
    "duration": 28,
    "start_time": "2022-09-20T23:36:22.345Z"
   },
   {
    "duration": 20,
    "start_time": "2022-09-20T23:36:22.375Z"
   },
   {
    "duration": 10,
    "start_time": "2022-09-20T23:36:22.397Z"
   },
   {
    "duration": 20,
    "start_time": "2022-09-20T23:36:22.409Z"
   },
   {
    "duration": 45,
    "start_time": "2022-09-20T23:36:22.435Z"
   },
   {
    "duration": 10,
    "start_time": "2022-09-20T23:36:22.482Z"
   },
   {
    "duration": 9,
    "start_time": "2022-09-20T23:36:22.494Z"
   },
   {
    "duration": 70,
    "start_time": "2022-09-20T23:36:22.507Z"
   },
   {
    "duration": 8,
    "start_time": "2022-09-20T23:36:22.579Z"
   },
   {
    "duration": 6,
    "start_time": "2022-09-20T23:36:22.589Z"
   },
   {
    "duration": 7,
    "start_time": "2022-09-20T23:36:22.597Z"
   },
   {
    "duration": 71,
    "start_time": "2022-09-20T23:36:22.606Z"
   },
   {
    "duration": 9,
    "start_time": "2022-09-20T23:36:22.680Z"
   },
   {
    "duration": 4,
    "start_time": "2022-09-20T23:36:22.691Z"
   },
   {
    "duration": 197,
    "start_time": "2022-09-20T23:36:22.697Z"
   },
   {
    "duration": 8,
    "start_time": "2022-09-20T23:36:22.896Z"
   },
   {
    "duration": 196,
    "start_time": "2022-09-20T23:36:22.906Z"
   },
   {
    "duration": 4,
    "start_time": "2022-09-20T23:36:23.104Z"
   },
   {
    "duration": 20,
    "start_time": "2022-09-20T23:36:23.110Z"
   },
   {
    "duration": 45,
    "start_time": "2022-09-20T23:36:23.134Z"
   },
   {
    "duration": 221,
    "start_time": "2022-09-20T23:36:23.181Z"
   },
   {
    "duration": 284,
    "start_time": "2022-09-20T23:36:23.404Z"
   },
   {
    "duration": 5,
    "start_time": "2022-09-20T23:36:23.690Z"
   },
   {
    "duration": 24,
    "start_time": "2022-09-20T23:36:23.697Z"
   },
   {
    "duration": 12,
    "start_time": "2022-09-20T23:36:23.725Z"
   },
   {
    "duration": 214,
    "start_time": "2022-09-20T23:36:23.744Z"
   },
   {
    "duration": 6,
    "start_time": "2022-09-20T23:36:23.963Z"
   },
   {
    "duration": 16,
    "start_time": "2022-09-20T23:36:23.970Z"
   },
   {
    "duration": 4,
    "start_time": "2022-09-20T23:36:23.988Z"
   },
   {
    "duration": 16,
    "start_time": "2022-09-20T23:36:23.994Z"
   },
   {
    "duration": 97,
    "start_time": "2022-09-20T23:36:24.020Z"
   },
   {
    "duration": 448,
    "start_time": "2022-09-20T23:36:24.125Z"
   },
   {
    "duration": 372,
    "start_time": "2022-09-20T23:36:24.574Z"
   },
   {
    "duration": 252,
    "start_time": "2022-09-20T23:36:24.947Z"
   },
   {
    "duration": 265,
    "start_time": "2022-09-20T23:36:25.204Z"
   },
   {
    "duration": 267,
    "start_time": "2022-09-20T23:36:25.474Z"
   },
   {
    "duration": 238,
    "start_time": "2022-09-20T23:36:25.746Z"
   },
   {
    "duration": 249,
    "start_time": "2022-09-20T23:36:25.986Z"
   },
   {
    "duration": 352,
    "start_time": "2022-09-20T23:36:26.248Z"
   },
   {
    "duration": 9,
    "start_time": "2022-09-20T23:36:26.602Z"
   },
   {
    "duration": 54,
    "start_time": "2022-09-20T23:36:26.620Z"
   },
   {
    "duration": 263,
    "start_time": "2022-09-20T23:36:26.676Z"
   },
   {
    "duration": 223,
    "start_time": "2022-09-20T23:36:26.949Z"
   },
   {
    "duration": 237,
    "start_time": "2022-09-20T23:36:27.173Z"
   },
   {
    "duration": 265,
    "start_time": "2022-09-20T23:36:27.412Z"
   },
   {
    "duration": 166,
    "start_time": "2022-09-20T23:36:27.679Z"
   },
   {
    "duration": 169,
    "start_time": "2022-09-20T23:36:27.856Z"
   },
   {
    "duration": 174,
    "start_time": "2022-09-20T23:36:28.034Z"
   },
   {
    "duration": 226,
    "start_time": "2022-09-20T23:36:28.210Z"
   },
   {
    "duration": 856,
    "start_time": "2022-09-20T23:36:28.438Z"
   },
   {
    "duration": 9,
    "start_time": "2022-09-20T23:36:29.296Z"
   },
   {
    "duration": 787,
    "start_time": "2022-09-20T23:36:29.307Z"
   },
   {
    "duration": 7,
    "start_time": "2022-09-20T23:36:30.096Z"
   },
   {
    "duration": 62,
    "start_time": "2022-09-20T23:36:30.105Z"
   },
   {
    "duration": 23,
    "start_time": "2022-09-20T23:36:30.169Z"
   },
   {
    "duration": 254,
    "start_time": "2022-09-20T23:36:30.194Z"
   },
   {
    "duration": 246,
    "start_time": "2022-09-20T23:36:30.450Z"
   },
   {
    "duration": 45,
    "start_time": "2022-09-20T23:36:30.698Z"
   },
   {
    "duration": 10,
    "start_time": "2022-09-20T23:36:30.745Z"
   },
   {
    "duration": 28,
    "start_time": "2022-09-20T23:36:30.757Z"
   },
   {
    "duration": 31,
    "start_time": "2022-09-20T23:36:30.786Z"
   },
   {
    "duration": 50,
    "start_time": "2022-09-20T23:36:30.819Z"
   },
   {
    "duration": 44,
    "start_time": "2022-09-20T23:36:30.871Z"
   },
   {
    "duration": 52,
    "start_time": "2022-09-20T23:36:30.916Z"
   },
   {
    "duration": 32,
    "start_time": "2022-09-20T23:36:30.970Z"
   },
   {
    "duration": 14,
    "start_time": "2022-09-20T23:36:31.004Z"
   },
   {
    "duration": 73,
    "start_time": "2022-09-20T23:36:31.020Z"
   },
   {
    "duration": 8,
    "start_time": "2022-09-20T23:36:31.095Z"
   },
   {
    "duration": 207,
    "start_time": "2022-09-20T23:36:31.105Z"
   },
   {
    "duration": 185,
    "start_time": "2022-09-20T23:36:31.320Z"
   },
   {
    "duration": 212,
    "start_time": "2022-09-20T23:36:31.507Z"
   },
   {
    "duration": 28,
    "start_time": "2022-09-20T23:36:31.724Z"
   },
   {
    "duration": 24,
    "start_time": "2022-09-20T23:36:31.761Z"
   },
   {
    "duration": 79,
    "start_time": "2022-09-20T23:41:07.400Z"
   },
   {
    "duration": 1255,
    "start_time": "2022-09-20T23:41:19.130Z"
   },
   {
    "duration": 78,
    "start_time": "2022-09-20T23:41:20.387Z"
   },
   {
    "duration": 15,
    "start_time": "2022-09-20T23:41:20.467Z"
   },
   {
    "duration": 58,
    "start_time": "2022-09-20T23:41:20.483Z"
   },
   {
    "duration": 940,
    "start_time": "2022-09-20T23:41:20.544Z"
   },
   {
    "duration": 15,
    "start_time": "2022-09-20T23:41:21.485Z"
   },
   {
    "duration": 12,
    "start_time": "2022-09-20T23:41:21.502Z"
   },
   {
    "duration": 39,
    "start_time": "2022-09-20T23:41:21.526Z"
   },
   {
    "duration": 9,
    "start_time": "2022-09-20T23:41:21.567Z"
   },
   {
    "duration": 19,
    "start_time": "2022-09-20T23:41:21.577Z"
   },
   {
    "duration": 14,
    "start_time": "2022-09-20T23:41:21.598Z"
   },
   {
    "duration": 20,
    "start_time": "2022-09-20T23:41:21.614Z"
   },
   {
    "duration": 34,
    "start_time": "2022-09-20T23:41:21.643Z"
   },
   {
    "duration": 59,
    "start_time": "2022-09-20T23:41:21.681Z"
   },
   {
    "duration": 12,
    "start_time": "2022-09-20T23:41:21.741Z"
   },
   {
    "duration": 10,
    "start_time": "2022-09-20T23:41:21.757Z"
   },
   {
    "duration": 9,
    "start_time": "2022-09-20T23:41:21.769Z"
   },
   {
    "duration": 7,
    "start_time": "2022-09-20T23:41:21.780Z"
   },
   {
    "duration": 8,
    "start_time": "2022-09-20T23:41:21.789Z"
   },
   {
    "duration": 3,
    "start_time": "2022-09-20T23:41:21.799Z"
   },
   {
    "duration": 219,
    "start_time": "2022-09-20T23:41:21.830Z"
   },
   {
    "duration": 15,
    "start_time": "2022-09-20T23:41:22.051Z"
   },
   {
    "duration": 193,
    "start_time": "2022-09-20T23:41:22.068Z"
   },
   {
    "duration": 5,
    "start_time": "2022-09-20T23:41:22.264Z"
   },
   {
    "duration": 9,
    "start_time": "2022-09-20T23:41:22.271Z"
   },
   {
    "duration": 2,
    "start_time": "2022-09-20T23:41:22.282Z"
   },
   {
    "duration": 200,
    "start_time": "2022-09-20T23:41:22.285Z"
   },
   {
    "duration": 306,
    "start_time": "2022-09-20T23:41:22.487Z"
   },
   {
    "duration": 9,
    "start_time": "2022-09-20T23:41:22.796Z"
   },
   {
    "duration": 53,
    "start_time": "2022-09-20T23:41:22.807Z"
   },
   {
    "duration": 13,
    "start_time": "2022-09-20T23:41:22.863Z"
   },
   {
    "duration": 197,
    "start_time": "2022-09-20T23:41:22.879Z"
   },
   {
    "duration": 4,
    "start_time": "2022-09-20T23:41:23.078Z"
   },
   {
    "duration": 13,
    "start_time": "2022-09-20T23:41:23.084Z"
   },
   {
    "duration": 3,
    "start_time": "2022-09-20T23:41:23.099Z"
   },
   {
    "duration": 47,
    "start_time": "2022-09-20T23:41:23.104Z"
   },
   {
    "duration": 121,
    "start_time": "2022-09-20T23:41:23.154Z"
   },
   {
    "duration": 416,
    "start_time": "2022-09-20T23:41:23.277Z"
   },
   {
    "duration": 384,
    "start_time": "2022-09-20T23:41:23.695Z"
   },
   {
    "duration": 224,
    "start_time": "2022-09-20T23:41:24.081Z"
   },
   {
    "duration": 254,
    "start_time": "2022-09-20T23:41:24.309Z"
   },
   {
    "duration": 233,
    "start_time": "2022-09-20T23:41:24.566Z"
   },
   {
    "duration": 216,
    "start_time": "2022-09-20T23:41:24.800Z"
   },
   {
    "duration": 245,
    "start_time": "2022-09-20T23:41:25.021Z"
   },
   {
    "duration": 323,
    "start_time": "2022-09-20T23:41:25.267Z"
   },
   {
    "duration": 9,
    "start_time": "2022-09-20T23:41:25.591Z"
   },
   {
    "duration": 29,
    "start_time": "2022-09-20T23:41:25.602Z"
   },
   {
    "duration": 280,
    "start_time": "2022-09-20T23:41:25.633Z"
   },
   {
    "duration": 226,
    "start_time": "2022-09-20T23:41:25.915Z"
   },
   {
    "duration": 214,
    "start_time": "2022-09-20T23:41:26.152Z"
   },
   {
    "duration": 215,
    "start_time": "2022-09-20T23:41:26.368Z"
   },
   {
    "duration": 165,
    "start_time": "2022-09-20T23:41:26.585Z"
   },
   {
    "duration": 154,
    "start_time": "2022-09-20T23:41:26.756Z"
   },
   {
    "duration": 177,
    "start_time": "2022-09-20T23:41:26.912Z"
   },
   {
    "duration": 209,
    "start_time": "2022-09-20T23:41:27.091Z"
   },
   {
    "duration": 740,
    "start_time": "2022-09-20T23:41:27.302Z"
   },
   {
    "duration": 11,
    "start_time": "2022-09-20T23:41:28.043Z"
   },
   {
    "duration": 617,
    "start_time": "2022-09-20T23:41:28.056Z"
   },
   {
    "duration": 7,
    "start_time": "2022-09-20T23:41:28.676Z"
   },
   {
    "duration": 22,
    "start_time": "2022-09-20T23:41:28.685Z"
   },
   {
    "duration": 35,
    "start_time": "2022-09-20T23:41:28.709Z"
   },
   {
    "duration": 253,
    "start_time": "2022-09-20T23:41:28.751Z"
   },
   {
    "duration": 273,
    "start_time": "2022-09-20T23:41:29.007Z"
   },
   {
    "duration": 19,
    "start_time": "2022-09-20T23:41:29.282Z"
   },
   {
    "duration": 32,
    "start_time": "2022-09-20T23:41:29.303Z"
   },
   {
    "duration": 41,
    "start_time": "2022-09-20T23:41:29.338Z"
   },
   {
    "duration": 9,
    "start_time": "2022-09-20T23:41:29.381Z"
   },
   {
    "duration": 7,
    "start_time": "2022-09-20T23:41:29.392Z"
   },
   {
    "duration": 38,
    "start_time": "2022-09-20T23:41:29.400Z"
   },
   {
    "duration": 11,
    "start_time": "2022-09-20T23:41:29.440Z"
   },
   {
    "duration": 17,
    "start_time": "2022-09-20T23:41:29.453Z"
   },
   {
    "duration": 12,
    "start_time": "2022-09-20T23:41:29.471Z"
   },
   {
    "duration": 17,
    "start_time": "2022-09-20T23:41:29.484Z"
   },
   {
    "duration": 9,
    "start_time": "2022-09-20T23:41:29.502Z"
   },
   {
    "duration": 201,
    "start_time": "2022-09-20T23:41:29.512Z"
   },
   {
    "duration": 188,
    "start_time": "2022-09-20T23:41:29.715Z"
   },
   {
    "duration": 206,
    "start_time": "2022-09-20T23:41:29.904Z"
   },
   {
    "duration": 28,
    "start_time": "2022-09-20T23:41:30.112Z"
   },
   {
    "duration": 45,
    "start_time": "2022-09-20T23:41:30.145Z"
   },
   {
    "duration": 1163,
    "start_time": "2022-09-21T12:44:12.271Z"
   },
   {
    "duration": 103,
    "start_time": "2022-09-21T12:44:13.583Z"
   },
   {
    "duration": 16,
    "start_time": "2022-09-21T12:44:15.694Z"
   },
   {
    "duration": 26,
    "start_time": "2022-09-21T12:44:16.620Z"
   },
   {
    "duration": 741,
    "start_time": "2022-09-21T12:44:17.139Z"
   },
   {
    "duration": 14,
    "start_time": "2022-09-21T12:44:21.873Z"
   },
   {
    "duration": 2,
    "start_time": "2022-09-21T12:44:26.862Z"
   },
   {
    "duration": 15,
    "start_time": "2022-09-21T12:44:27.475Z"
   },
   {
    "duration": 3,
    "start_time": "2022-09-21T12:47:46.464Z"
   },
   {
    "duration": 64,
    "start_time": "2022-09-21T12:47:46.469Z"
   },
   {
    "duration": 11,
    "start_time": "2022-09-21T12:47:46.535Z"
   },
   {
    "duration": 25,
    "start_time": "2022-09-21T12:47:46.548Z"
   },
   {
    "duration": 715,
    "start_time": "2022-09-21T12:47:46.574Z"
   },
   {
    "duration": 13,
    "start_time": "2022-09-21T12:47:47.291Z"
   },
   {
    "duration": 2,
    "start_time": "2022-09-21T12:47:53.987Z"
   },
   {
    "duration": 6,
    "start_time": "2022-09-21T12:48:05.584Z"
   },
   {
    "duration": 5,
    "start_time": "2022-09-21T12:48:10.192Z"
   },
   {
    "duration": 5,
    "start_time": "2022-09-21T12:49:08.186Z"
   },
   {
    "duration": 95,
    "start_time": "2022-09-21T12:50:24.393Z"
   },
   {
    "duration": 8,
    "start_time": "2022-09-21T12:50:44.264Z"
   },
   {
    "duration": 4,
    "start_time": "2022-09-21T12:51:52.021Z"
   },
   {
    "duration": 4,
    "start_time": "2022-09-21T12:52:00.380Z"
   },
   {
    "duration": 3,
    "start_time": "2022-09-21T12:52:19.969Z"
   },
   {
    "duration": 66,
    "start_time": "2022-09-21T12:52:19.974Z"
   },
   {
    "duration": 12,
    "start_time": "2022-09-21T12:52:20.042Z"
   },
   {
    "duration": 103,
    "start_time": "2022-09-21T12:52:20.056Z"
   },
   {
    "duration": 741,
    "start_time": "2022-09-21T12:52:20.161Z"
   },
   {
    "duration": 19,
    "start_time": "2022-09-21T12:52:20.904Z"
   },
   {
    "duration": 17,
    "start_time": "2022-09-21T12:52:20.925Z"
   },
   {
    "duration": 17,
    "start_time": "2022-09-21T12:52:20.944Z"
   },
   {
    "duration": 4,
    "start_time": "2022-09-21T12:52:22.792Z"
   },
   {
    "duration": 8,
    "start_time": "2022-09-21T12:52:25.268Z"
   },
   {
    "duration": 8,
    "start_time": "2022-09-21T12:52:39.787Z"
   },
   {
    "duration": 8,
    "start_time": "2022-09-21T12:52:41.972Z"
   },
   {
    "duration": 14,
    "start_time": "2022-09-21T12:52:51.543Z"
   },
   {
    "duration": 14,
    "start_time": "2022-09-21T12:52:55.141Z"
   },
   {
    "duration": 6,
    "start_time": "2022-09-21T12:52:56.053Z"
   },
   {
    "duration": 6,
    "start_time": "2022-09-21T12:52:57.886Z"
   },
   {
    "duration": 49,
    "start_time": "2022-09-21T12:53:01.180Z"
   },
   {
    "duration": 9,
    "start_time": "2022-09-21T12:56:11.841Z"
   },
   {
    "duration": 4,
    "start_time": "2022-09-21T13:00:17.706Z"
   },
   {
    "duration": 5,
    "start_time": "2022-09-21T13:00:18.217Z"
   },
   {
    "duration": 6,
    "start_time": "2022-09-21T13:00:18.680Z"
   },
   {
    "duration": 3,
    "start_time": "2022-09-21T13:00:19.873Z"
   },
   {
    "duration": 141,
    "start_time": "2022-09-21T13:00:21.207Z"
   },
   {
    "duration": 4,
    "start_time": "2022-09-21T13:00:50.349Z"
   },
   {
    "duration": 2,
    "start_time": "2022-09-21T13:00:54.909Z"
   },
   {
    "duration": 2,
    "start_time": "2022-09-21T13:00:56.073Z"
   },
   {
    "duration": 3,
    "start_time": "2022-09-21T13:00:56.593Z"
   },
   {
    "duration": 2,
    "start_time": "2022-09-21T13:01:05.667Z"
   },
   {
    "duration": 151,
    "start_time": "2022-09-21T13:01:07.374Z"
   },
   {
    "duration": 2,
    "start_time": "2022-09-21T13:01:19.538Z"
   },
   {
    "duration": 2,
    "start_time": "2022-09-21T13:01:29.371Z"
   },
   {
    "duration": 2,
    "start_time": "2022-09-21T13:01:29.767Z"
   },
   {
    "duration": 4,
    "start_time": "2022-09-21T13:02:26.797Z"
   },
   {
    "duration": 2,
    "start_time": "2022-09-21T13:02:42.456Z"
   },
   {
    "duration": 144,
    "start_time": "2022-09-21T13:02:43.159Z"
   },
   {
    "duration": 4,
    "start_time": "2022-09-21T13:02:44.468Z"
   },
   {
    "duration": 7,
    "start_time": "2022-09-21T13:03:12.572Z"
   },
   {
    "duration": 3,
    "start_time": "2022-09-21T13:03:13.437Z"
   },
   {
    "duration": 14,
    "start_time": "2022-09-21T13:04:18.364Z"
   },
   {
    "duration": 117,
    "start_time": "2022-09-21T13:04:57.457Z"
   },
   {
    "duration": 7,
    "start_time": "2022-09-21T13:05:01.964Z"
   },
   {
    "duration": 13,
    "start_time": "2022-09-21T13:05:03.960Z"
   },
   {
    "duration": 6,
    "start_time": "2022-09-21T13:05:05.370Z"
   },
   {
    "duration": 14,
    "start_time": "2022-09-21T13:05:07.062Z"
   },
   {
    "duration": 12,
    "start_time": "2022-09-21T13:05:08.456Z"
   },
   {
    "duration": 7,
    "start_time": "2022-09-21T13:05:09.032Z"
   },
   {
    "duration": 7,
    "start_time": "2022-09-21T13:05:09.482Z"
   },
   {
    "duration": 13,
    "start_time": "2022-09-21T13:05:11.153Z"
   },
   {
    "duration": 8,
    "start_time": "2022-09-21T13:05:12.952Z"
   },
   {
    "duration": 2,
    "start_time": "2022-09-21T13:05:14.706Z"
   },
   {
    "duration": 9,
    "start_time": "2022-09-21T13:05:16.389Z"
   },
   {
    "duration": 3,
    "start_time": "2022-09-21T13:05:22.581Z"
   },
   {
    "duration": 62,
    "start_time": "2022-09-21T13:05:22.586Z"
   },
   {
    "duration": 12,
    "start_time": "2022-09-21T13:05:22.650Z"
   },
   {
    "duration": 25,
    "start_time": "2022-09-21T13:05:22.664Z"
   },
   {
    "duration": 816,
    "start_time": "2022-09-21T13:05:22.691Z"
   },
   {
    "duration": 19,
    "start_time": "2022-09-21T13:05:23.509Z"
   },
   {
    "duration": 8,
    "start_time": "2022-09-21T13:05:23.530Z"
   },
   {
    "duration": 6,
    "start_time": "2022-09-21T13:05:23.539Z"
   },
   {
    "duration": 8,
    "start_time": "2022-09-21T13:05:23.547Z"
   },
   {
    "duration": 8,
    "start_time": "2022-09-21T13:05:23.557Z"
   },
   {
    "duration": 24,
    "start_time": "2022-09-21T13:05:23.566Z"
   },
   {
    "duration": 34,
    "start_time": "2022-09-21T13:05:23.592Z"
   },
   {
    "duration": 17,
    "start_time": "2022-09-21T13:05:23.628Z"
   },
   {
    "duration": 15,
    "start_time": "2022-09-21T13:05:23.648Z"
   },
   {
    "duration": 11,
    "start_time": "2022-09-21T13:05:23.664Z"
   },
   {
    "duration": 14,
    "start_time": "2022-09-21T13:05:23.676Z"
   },
   {
    "duration": 16,
    "start_time": "2022-09-21T13:05:23.692Z"
   },
   {
    "duration": 8,
    "start_time": "2022-09-21T13:05:27.280Z"
   },
   {
    "duration": 2,
    "start_time": "2022-09-21T13:05:27.872Z"
   },
   {
    "duration": 9,
    "start_time": "2022-09-21T13:05:31.784Z"
   },
   {
    "duration": 10,
    "start_time": "2022-09-21T13:06:08.256Z"
   },
   {
    "duration": 6,
    "start_time": "2022-09-21T13:06:11.918Z"
   },
   {
    "duration": 5,
    "start_time": "2022-09-21T13:06:12.280Z"
   },
   {
    "duration": 6,
    "start_time": "2022-09-21T13:06:12.656Z"
   },
   {
    "duration": 144,
    "start_time": "2022-09-21T13:09:16.390Z"
   },
   {
    "duration": 2,
    "start_time": "2022-09-21T13:10:03.017Z"
   },
   {
    "duration": 153,
    "start_time": "2022-09-21T13:10:03.799Z"
   },
   {
    "duration": 4,
    "start_time": "2022-09-21T13:10:05.337Z"
   },
   {
    "duration": 12,
    "start_time": "2022-09-21T13:10:11.485Z"
   },
   {
    "duration": 3,
    "start_time": "2022-09-21T13:10:23.656Z"
   },
   {
    "duration": 64,
    "start_time": "2022-09-21T13:10:23.661Z"
   },
   {
    "duration": 12,
    "start_time": "2022-09-21T13:10:23.726Z"
   },
   {
    "duration": 34,
    "start_time": "2022-09-21T13:10:23.740Z"
   },
   {
    "duration": 721,
    "start_time": "2022-09-21T13:10:23.777Z"
   },
   {
    "duration": 22,
    "start_time": "2022-09-21T13:10:24.500Z"
   },
   {
    "duration": 3,
    "start_time": "2022-09-21T13:10:24.523Z"
   },
   {
    "duration": 12,
    "start_time": "2022-09-21T13:10:24.527Z"
   },
   {
    "duration": 20,
    "start_time": "2022-09-21T13:10:24.540Z"
   },
   {
    "duration": 18,
    "start_time": "2022-09-21T13:10:24.562Z"
   },
   {
    "duration": 14,
    "start_time": "2022-09-21T13:10:24.581Z"
   },
   {
    "duration": 21,
    "start_time": "2022-09-21T13:10:24.596Z"
   },
   {
    "duration": 18,
    "start_time": "2022-09-21T13:10:24.619Z"
   },
   {
    "duration": 21,
    "start_time": "2022-09-21T13:10:24.640Z"
   },
   {
    "duration": 23,
    "start_time": "2022-09-21T13:10:24.662Z"
   },
   {
    "duration": 17,
    "start_time": "2022-09-21T13:10:24.687Z"
   },
   {
    "duration": 16,
    "start_time": "2022-09-21T13:10:24.706Z"
   },
   {
    "duration": 19,
    "start_time": "2022-09-21T13:10:24.724Z"
   },
   {
    "duration": 18,
    "start_time": "2022-09-21T13:10:24.744Z"
   },
   {
    "duration": 23,
    "start_time": "2022-09-21T13:10:24.763Z"
   },
   {
    "duration": 22,
    "start_time": "2022-09-21T13:10:24.787Z"
   },
   {
    "duration": 17,
    "start_time": "2022-09-21T13:10:24.811Z"
   },
   {
    "duration": 154,
    "start_time": "2022-09-21T13:10:24.829Z"
   },
   {
    "duration": 3,
    "start_time": "2022-09-21T13:10:24.985Z"
   },
   {
    "duration": 20,
    "start_time": "2022-09-21T13:10:24.990Z"
   },
   {
    "duration": 165,
    "start_time": "2022-09-21T13:10:25.012Z"
   },
   {
    "duration": 4,
    "start_time": "2022-09-21T13:10:25.178Z"
   },
   {
    "duration": 7,
    "start_time": "2022-09-21T13:10:25.183Z"
   },
   {
    "duration": 151,
    "start_time": "2022-09-21T13:10:25.192Z"
   },
   {
    "duration": 5,
    "start_time": "2022-09-21T13:10:25.344Z"
   },
   {
    "duration": 8,
    "start_time": "2022-09-21T13:10:27.163Z"
   },
   {
    "duration": 3,
    "start_time": "2022-09-21T13:10:27.857Z"
   },
   {
    "duration": 13,
    "start_time": "2022-09-21T13:11:42.155Z"
   },
   {
    "duration": 108,
    "start_time": "2022-09-21T13:11:58.553Z"
   },
   {
    "duration": 436,
    "start_time": "2022-09-21T13:12:15.459Z"
   },
   {
    "duration": 277,
    "start_time": "2022-09-21T13:12:20.455Z"
   },
   {
    "duration": 166,
    "start_time": "2022-09-21T13:12:24.735Z"
   },
   {
    "duration": 202,
    "start_time": "2022-09-21T13:12:25.537Z"
   },
   {
    "duration": 182,
    "start_time": "2022-09-21T13:12:26.034Z"
   },
   {
    "duration": 192,
    "start_time": "2022-09-21T13:12:27.455Z"
   },
   {
    "duration": 166,
    "start_time": "2022-09-21T13:12:46.116Z"
   },
   {
    "duration": 179,
    "start_time": "2022-09-21T13:12:47.986Z"
   },
   {
    "duration": 3,
    "start_time": "2022-09-21T13:21:40.312Z"
   },
   {
    "duration": 111,
    "start_time": "2022-09-21T13:21:40.317Z"
   },
   {
    "duration": 13,
    "start_time": "2022-09-21T13:21:40.429Z"
   },
   {
    "duration": 59,
    "start_time": "2022-09-21T13:21:40.444Z"
   },
   {
    "duration": 828,
    "start_time": "2022-09-21T13:21:40.505Z"
   },
   {
    "duration": 13,
    "start_time": "2022-09-21T13:21:41.335Z"
   },
   {
    "duration": 26,
    "start_time": "2022-09-21T13:21:41.350Z"
   },
   {
    "duration": 29,
    "start_time": "2022-09-21T13:21:41.377Z"
   },
   {
    "duration": 33,
    "start_time": "2022-09-21T13:21:41.408Z"
   },
   {
    "duration": 32,
    "start_time": "2022-09-21T13:21:41.443Z"
   },
   {
    "duration": 19,
    "start_time": "2022-09-21T13:21:41.477Z"
   },
   {
    "duration": 39,
    "start_time": "2022-09-21T13:21:41.497Z"
   },
   {
    "duration": 24,
    "start_time": "2022-09-21T13:21:41.538Z"
   },
   {
    "duration": 26,
    "start_time": "2022-09-21T13:21:41.563Z"
   },
   {
    "duration": 31,
    "start_time": "2022-09-21T13:21:41.591Z"
   },
   {
    "duration": 52,
    "start_time": "2022-09-21T13:21:41.623Z"
   },
   {
    "duration": 29,
    "start_time": "2022-09-21T13:21:41.677Z"
   },
   {
    "duration": 41,
    "start_time": "2022-09-21T13:21:41.708Z"
   },
   {
    "duration": 31,
    "start_time": "2022-09-21T13:21:41.750Z"
   },
   {
    "duration": 46,
    "start_time": "2022-09-21T13:21:41.782Z"
   },
   {
    "duration": 28,
    "start_time": "2022-09-21T13:21:41.830Z"
   },
   {
    "duration": 26,
    "start_time": "2022-09-21T13:21:41.859Z"
   },
   {
    "duration": 155,
    "start_time": "2022-09-21T13:21:41.887Z"
   },
   {
    "duration": 3,
    "start_time": "2022-09-21T13:21:42.045Z"
   },
   {
    "duration": 42,
    "start_time": "2022-09-21T13:21:42.050Z"
   },
   {
    "duration": 161,
    "start_time": "2022-09-21T13:21:42.094Z"
   },
   {
    "duration": 4,
    "start_time": "2022-09-21T13:21:42.256Z"
   },
   {
    "duration": 26,
    "start_time": "2022-09-21T13:21:42.261Z"
   },
   {
    "duration": 181,
    "start_time": "2022-09-21T13:21:42.289Z"
   },
   {
    "duration": 4,
    "start_time": "2022-09-21T13:21:42.471Z"
   },
   {
    "duration": 45,
    "start_time": "2022-09-21T13:21:42.476Z"
   },
   {
    "duration": 26,
    "start_time": "2022-09-21T13:21:42.523Z"
   },
   {
    "duration": 42,
    "start_time": "2022-09-21T13:21:42.551Z"
   },
   {
    "duration": 103,
    "start_time": "2022-09-21T13:21:42.594Z"
   },
   {
    "duration": 324,
    "start_time": "2022-09-21T13:21:42.700Z"
   },
   {
    "duration": 298,
    "start_time": "2022-09-21T13:21:43.025Z"
   },
   {
    "duration": 170,
    "start_time": "2022-09-21T13:21:43.325Z"
   },
   {
    "duration": 182,
    "start_time": "2022-09-21T13:21:43.496Z"
   },
   {
    "duration": 302,
    "start_time": "2022-09-21T13:21:43.679Z"
   },
   {
    "duration": 2,
    "start_time": "2022-09-21T13:21:43.983Z"
   },
   {
    "duration": 4,
    "start_time": "2022-09-21T13:22:16.894Z"
   },
   {
    "duration": 9,
    "start_time": "2022-09-21T13:22:21.953Z"
   },
   {
    "duration": 1028,
    "start_time": "2022-09-21T13:22:45.290Z"
   },
   {
    "duration": 7,
    "start_time": "2022-09-21T13:22:49.612Z"
   },
   {
    "duration": 1311,
    "start_time": "2022-09-23T11:00:03.445Z"
   },
   {
    "duration": 113,
    "start_time": "2022-09-23T11:00:04.758Z"
   },
   {
    "duration": 14,
    "start_time": "2022-09-23T11:00:05.774Z"
   },
   {
    "duration": 35,
    "start_time": "2022-09-23T11:00:06.218Z"
   },
   {
    "duration": 874,
    "start_time": "2022-09-23T11:00:06.722Z"
   },
   {
    "duration": 15,
    "start_time": "2022-09-23T11:00:16.006Z"
   },
   {
    "duration": 2,
    "start_time": "2022-09-23T11:00:38.695Z"
   },
   {
    "duration": 4,
    "start_time": "2022-09-23T11:00:59.803Z"
   },
   {
    "duration": 10,
    "start_time": "2022-09-23T11:01:00.332Z"
   },
   {
    "duration": 14,
    "start_time": "2022-09-23T11:01:02.606Z"
   },
   {
    "duration": 8,
    "start_time": "2022-09-23T11:01:09.398Z"
   },
   {
    "duration": 12,
    "start_time": "2022-09-23T11:01:10.271Z"
   },
   {
    "duration": 15,
    "start_time": "2022-09-23T11:01:12.470Z"
   },
   {
    "duration": 7,
    "start_time": "2022-09-23T11:01:13.141Z"
   },
   {
    "duration": 7,
    "start_time": "2022-09-23T11:01:13.675Z"
   },
   {
    "duration": 50,
    "start_time": "2022-09-23T11:01:17.046Z"
   },
   {
    "duration": 8,
    "start_time": "2022-09-23T11:01:42.407Z"
   },
   {
    "duration": 9,
    "start_time": "2022-09-23T11:01:43.582Z"
   },
   {
    "duration": 5,
    "start_time": "2022-09-23T11:01:53.222Z"
   },
   {
    "duration": 7,
    "start_time": "2022-09-23T11:01:53.606Z"
   },
   {
    "duration": 6,
    "start_time": "2022-09-23T11:01:54.087Z"
   },
   {
    "duration": 4,
    "start_time": "2022-09-23T11:02:04.185Z"
   },
   {
    "duration": 2,
    "start_time": "2022-09-23T11:02:12.846Z"
   },
   {
    "duration": 171,
    "start_time": "2022-09-23T11:02:13.731Z"
   },
   {
    "duration": 4,
    "start_time": "2022-09-23T11:02:16.754Z"
   },
   {
    "duration": 3,
    "start_time": "2022-09-23T11:02:37.819Z"
   },
   {
    "duration": 156,
    "start_time": "2022-09-23T11:02:38.614Z"
   },
   {
    "duration": 10,
    "start_time": "2022-09-23T11:02:45.479Z"
   },
   {
    "duration": 9,
    "start_time": "2022-09-23T11:02:46.615Z"
   },
   {
    "duration": 4,
    "start_time": "2022-09-23T11:02:47.181Z"
   },
   {
    "duration": 15,
    "start_time": "2022-09-23T11:02:58.693Z"
   },
   {
    "duration": 112,
    "start_time": "2022-09-23T11:02:59.572Z"
   },
   {
    "duration": 486,
    "start_time": "2022-09-23T11:03:01.915Z"
   },
   {
    "duration": 302,
    "start_time": "2022-09-23T11:03:26.551Z"
   },
   {
    "duration": 67,
    "start_time": "2022-09-23T11:04:31.279Z"
   },
   {
    "duration": 24,
    "start_time": "2022-09-23T11:04:43.182Z"
   },
   {
    "duration": 1105,
    "start_time": "2022-09-23T11:05:02.755Z"
   },
   {
    "duration": 14,
    "start_time": "2022-09-23T11:05:50.417Z"
   },
   {
    "duration": 5,
    "start_time": "2022-09-23T11:06:38.578Z"
   },
   {
    "duration": 181,
    "start_time": "2022-09-23T11:06:52.077Z"
   },
   {
    "duration": 26,
    "start_time": "2022-09-23T11:07:15.369Z"
   },
   {
    "duration": 431,
    "start_time": "2022-09-23T11:07:49.676Z"
   },
   {
    "duration": 349,
    "start_time": "2022-09-23T11:08:47.612Z"
   },
   {
    "duration": 256,
    "start_time": "2022-09-23T11:08:58.004Z"
   },
   {
    "duration": 584,
    "start_time": "2022-09-23T11:09:10.115Z"
   },
   {
    "duration": 7,
    "start_time": "2022-09-23T11:09:12.527Z"
   },
   {
    "duration": 529,
    "start_time": "2022-09-23T11:09:19.591Z"
   },
   {
    "duration": 6,
    "start_time": "2022-09-23T11:09:21.675Z"
   },
   {
    "duration": 77,
    "start_time": "2022-09-23T11:09:39.939Z"
   },
   {
    "duration": 20,
    "start_time": "2022-09-23T11:09:51.403Z"
   },
   {
    "duration": 17,
    "start_time": "2022-09-23T11:10:01.719Z"
   },
   {
    "duration": 842,
    "start_time": "2022-09-23T11:10:11.146Z"
   },
   {
    "duration": 14,
    "start_time": "2022-09-23T11:10:24.355Z"
   },
   {
    "duration": 710,
    "start_time": "2022-09-23T11:10:32.155Z"
   },
   {
    "duration": 198,
    "start_time": "2022-09-23T11:11:29.470Z"
   },
   {
    "duration": 171,
    "start_time": "2022-09-23T11:11:41.999Z"
   },
   {
    "duration": 288,
    "start_time": "2022-09-23T11:11:53.754Z"
   },
   {
    "duration": 16,
    "start_time": "2022-09-23T11:12:28.413Z"
   },
   {
    "duration": 7,
    "start_time": "2022-09-23T11:12:33.977Z"
   },
   {
    "duration": 6,
    "start_time": "2022-09-23T11:12:34.890Z"
   },
   {
    "duration": 8,
    "start_time": "2022-09-23T11:12:35.350Z"
   },
   {
    "duration": 6,
    "start_time": "2022-09-23T11:12:35.843Z"
   },
   {
    "duration": 15,
    "start_time": "2022-09-23T11:13:02.453Z"
   },
   {
    "duration": 7,
    "start_time": "2022-09-23T11:13:12.389Z"
   },
   {
    "duration": 7,
    "start_time": "2022-09-23T11:13:12.897Z"
   },
   {
    "duration": 7,
    "start_time": "2022-09-23T11:13:13.429Z"
   },
   {
    "duration": 6,
    "start_time": "2022-09-23T11:13:13.957Z"
   },
   {
    "duration": 5,
    "start_time": "2022-09-23T11:13:41.337Z"
   },
   {
    "duration": 6,
    "start_time": "2022-09-23T11:13:41.885Z"
   },
   {
    "duration": 6,
    "start_time": "2022-09-23T11:13:42.521Z"
   },
   {
    "duration": 6,
    "start_time": "2022-09-23T11:13:43.221Z"
   },
   {
    "duration": 15,
    "start_time": "2022-09-23T11:13:46.469Z"
   },
   {
    "duration": 6,
    "start_time": "2022-09-23T11:13:46.893Z"
   },
   {
    "duration": 6,
    "start_time": "2022-09-23T11:13:47.308Z"
   },
   {
    "duration": 16,
    "start_time": "2022-09-23T11:13:56.096Z"
   },
   {
    "duration": 7,
    "start_time": "2022-09-23T11:14:03.001Z"
   },
   {
    "duration": 7,
    "start_time": "2022-09-23T11:14:08.873Z"
   },
   {
    "duration": 6,
    "start_time": "2022-09-23T11:14:15.849Z"
   },
   {
    "duration": 6,
    "start_time": "2022-09-23T11:14:22.945Z"
   },
   {
    "duration": 626,
    "start_time": "2022-09-23T11:14:33.338Z"
   },
   {
    "duration": 12,
    "start_time": "2022-09-23T11:15:09.448Z"
   },
   {
    "duration": 9,
    "start_time": "2022-09-23T11:15:10.540Z"
   },
   {
    "duration": 8,
    "start_time": "2022-09-23T11:15:34.140Z"
   },
   {
    "duration": 7,
    "start_time": "2022-09-23T11:15:46.360Z"
   },
   {
    "duration": 246,
    "start_time": "2022-09-23T11:16:04.188Z"
   },
   {
    "duration": 156,
    "start_time": "2022-09-23T11:16:15.012Z"
   },
   {
    "duration": 156,
    "start_time": "2022-09-23T11:16:30.728Z"
   },
   {
    "duration": 59,
    "start_time": "2022-09-23T11:16:56.923Z"
   },
   {
    "duration": 6,
    "start_time": "2022-09-23T11:17:06.096Z"
   },
   {
    "duration": 6,
    "start_time": "2022-09-23T11:17:09.192Z"
   },
   {
    "duration": 6,
    "start_time": "2022-09-23T11:18:24.244Z"
   },
   {
    "duration": 183,
    "start_time": "2022-09-23T11:18:52.581Z"
   },
   {
    "duration": 202,
    "start_time": "2022-09-23T11:19:08.435Z"
   },
   {
    "duration": 1384,
    "start_time": "2022-09-23T21:55:42.119Z"
   },
   {
    "duration": 210,
    "start_time": "2022-09-23T21:55:43.505Z"
   },
   {
    "duration": 14,
    "start_time": "2022-09-23T21:55:43.717Z"
   },
   {
    "duration": 31,
    "start_time": "2022-09-23T21:55:43.733Z"
   },
   {
    "duration": 872,
    "start_time": "2022-09-23T21:55:43.766Z"
   },
   {
    "duration": 16,
    "start_time": "2022-09-23T21:55:44.639Z"
   },
   {
    "duration": 5,
    "start_time": "2022-09-23T21:55:44.657Z"
   },
   {
    "duration": 7,
    "start_time": "2022-09-23T21:55:44.663Z"
   },
   {
    "duration": 10,
    "start_time": "2022-09-23T21:55:44.689Z"
   },
   {
    "duration": 17,
    "start_time": "2022-09-23T21:55:44.700Z"
   },
   {
    "duration": 11,
    "start_time": "2022-09-23T21:55:44.720Z"
   },
   {
    "duration": 14,
    "start_time": "2022-09-23T21:55:44.733Z"
   },
   {
    "duration": 44,
    "start_time": "2022-09-23T21:55:44.749Z"
   },
   {
    "duration": 7,
    "start_time": "2022-09-23T21:55:44.797Z"
   },
   {
    "duration": 12,
    "start_time": "2022-09-23T21:55:44.806Z"
   },
   {
    "duration": 80,
    "start_time": "2022-09-23T21:55:44.820Z"
   },
   {
    "duration": 9,
    "start_time": "2022-09-23T21:55:44.902Z"
   },
   {
    "duration": 15,
    "start_time": "2022-09-23T21:55:44.912Z"
   },
   {
    "duration": 5,
    "start_time": "2022-09-23T21:55:44.929Z"
   },
   {
    "duration": 13,
    "start_time": "2022-09-23T21:55:44.936Z"
   },
   {
    "duration": 8,
    "start_time": "2022-09-23T21:55:44.951Z"
   },
   {
    "duration": 6,
    "start_time": "2022-09-23T21:55:44.961Z"
   },
   {
    "duration": 193,
    "start_time": "2022-09-23T21:55:44.969Z"
   },
   {
    "duration": 4,
    "start_time": "2022-09-23T21:55:45.164Z"
   },
   {
    "duration": 7,
    "start_time": "2022-09-23T21:55:45.169Z"
   },
   {
    "duration": 201,
    "start_time": "2022-09-23T21:55:45.177Z"
   },
   {
    "duration": 9,
    "start_time": "2022-09-23T21:55:45.380Z"
   },
   {
    "duration": 13,
    "start_time": "2022-09-23T21:55:45.392Z"
   },
   {
    "duration": 181,
    "start_time": "2022-09-23T21:55:45.406Z"
   },
   {
    "duration": 6,
    "start_time": "2022-09-23T21:55:45.592Z"
   },
   {
    "duration": 12,
    "start_time": "2022-09-23T21:55:45.601Z"
   },
   {
    "duration": 8,
    "start_time": "2022-09-23T21:55:45.615Z"
   },
   {
    "duration": 20,
    "start_time": "2022-09-23T21:55:45.625Z"
   },
   {
    "duration": 219,
    "start_time": "2022-09-23T21:55:45.646Z"
   },
   {
    "duration": 449,
    "start_time": "2022-09-23T21:55:45.868Z"
   },
   {
    "duration": 343,
    "start_time": "2022-09-23T21:55:46.319Z"
   },
   {
    "duration": 31,
    "start_time": "2022-09-23T21:55:46.664Z"
   },
   {
    "duration": 1210,
    "start_time": "2022-09-23T21:55:46.697Z"
   },
   {
    "duration": 17,
    "start_time": "2022-09-23T21:55:47.909Z"
   },
   {
    "duration": 21,
    "start_time": "2022-09-23T21:55:47.928Z"
   },
   {
    "duration": 18,
    "start_time": "2022-09-23T21:55:47.954Z"
   },
   {
    "duration": 199,
    "start_time": "2022-09-23T21:55:47.974Z"
   },
   {
    "duration": 30,
    "start_time": "2022-09-23T21:55:48.175Z"
   },
   {
    "duration": 587,
    "start_time": "2022-09-23T21:55:48.207Z"
   },
   {
    "duration": 293,
    "start_time": "2022-09-23T21:55:48.796Z"
   },
   {
    "duration": 292,
    "start_time": "2022-09-23T21:55:49.091Z"
   },
   {
    "duration": 657,
    "start_time": "2022-09-23T21:55:49.385Z"
   },
   {
    "duration": 8,
    "start_time": "2022-09-23T21:55:50.044Z"
   },
   {
    "duration": 593,
    "start_time": "2022-09-23T21:55:50.054Z"
   },
   {
    "duration": 6,
    "start_time": "2022-09-23T21:55:50.649Z"
   },
   {
    "duration": 35,
    "start_time": "2022-09-23T21:55:50.657Z"
   },
   {
    "duration": 37,
    "start_time": "2022-09-23T21:55:50.694Z"
   },
   {
    "duration": 959,
    "start_time": "2022-09-23T21:55:50.734Z"
   },
   {
    "duration": 23,
    "start_time": "2022-09-23T21:55:51.695Z"
   },
   {
    "duration": 894,
    "start_time": "2022-09-23T21:55:51.720Z"
   },
   {
    "duration": 220,
    "start_time": "2022-09-23T21:55:52.616Z"
   },
   {
    "duration": 204,
    "start_time": "2022-09-23T21:55:52.839Z"
   },
   {
    "duration": 328,
    "start_time": "2022-09-23T21:55:53.045Z"
   },
   {
    "duration": 25,
    "start_time": "2022-09-23T21:55:53.376Z"
   },
   {
    "duration": 15,
    "start_time": "2022-09-23T21:55:53.403Z"
   },
   {
    "duration": 11,
    "start_time": "2022-09-23T21:55:53.420Z"
   },
   {
    "duration": 10,
    "start_time": "2022-09-23T21:55:53.433Z"
   },
   {
    "duration": 7,
    "start_time": "2022-09-23T21:55:53.445Z"
   },
   {
    "duration": 40,
    "start_time": "2022-09-23T21:55:53.454Z"
   },
   {
    "duration": 7,
    "start_time": "2022-09-23T21:55:53.496Z"
   },
   {
    "duration": 8,
    "start_time": "2022-09-23T21:55:53.505Z"
   },
   {
    "duration": 9,
    "start_time": "2022-09-23T21:55:53.514Z"
   },
   {
    "duration": 7,
    "start_time": "2022-09-23T21:55:53.525Z"
   },
   {
    "duration": 828,
    "start_time": "2022-09-23T21:55:53.534Z"
   },
   {
    "duration": 14,
    "start_time": "2022-09-23T21:55:54.364Z"
   },
   {
    "duration": 8,
    "start_time": "2022-09-23T21:55:54.390Z"
   },
   {
    "duration": 199,
    "start_time": "2022-09-23T21:55:54.400Z"
   },
   {
    "duration": 170,
    "start_time": "2022-09-23T21:55:54.601Z"
   },
   {
    "duration": 177,
    "start_time": "2022-09-23T21:55:54.773Z"
   },
   {
    "duration": 6,
    "start_time": "2022-09-23T21:55:54.951Z"
   },
   {
    "duration": 17,
    "start_time": "2022-09-23T21:55:54.959Z"
   },
   {
    "duration": 238,
    "start_time": "2022-09-23T21:55:54.989Z"
   },
   {
    "duration": 8,
    "start_time": "2022-09-23T21:55:55.229Z"
   },
   {
    "duration": 254,
    "start_time": "2022-09-23T21:55:55.239Z"
   },
   {
    "duration": 340,
    "start_time": "2022-09-23T22:12:36.984Z"
   },
   {
    "duration": 53,
    "start_time": "2022-09-24T19:50:46.636Z"
   },
   {
    "duration": 1222,
    "start_time": "2022-09-24T19:50:58.125Z"
   },
   {
    "duration": 107,
    "start_time": "2022-09-24T19:50:59.349Z"
   },
   {
    "duration": 15,
    "start_time": "2022-09-24T19:50:59.458Z"
   },
   {
    "duration": 30,
    "start_time": "2022-09-24T19:50:59.474Z"
   },
   {
    "duration": 875,
    "start_time": "2022-09-24T19:50:59.506Z"
   },
   {
    "duration": 15,
    "start_time": "2022-09-24T19:51:00.383Z"
   },
   {
    "duration": 12,
    "start_time": "2022-09-24T19:51:00.400Z"
   },
   {
    "duration": 7,
    "start_time": "2022-09-24T19:51:00.413Z"
   },
   {
    "duration": 16,
    "start_time": "2022-09-24T19:51:00.422Z"
   },
   {
    "duration": 16,
    "start_time": "2022-09-24T19:51:00.440Z"
   },
   {
    "duration": 27,
    "start_time": "2022-09-24T19:51:00.458Z"
   },
   {
    "duration": 20,
    "start_time": "2022-09-24T19:51:00.487Z"
   },
   {
    "duration": 16,
    "start_time": "2022-09-24T19:51:00.509Z"
   },
   {
    "duration": 7,
    "start_time": "2022-09-24T19:51:00.528Z"
   },
   {
    "duration": 29,
    "start_time": "2022-09-24T19:51:00.537Z"
   },
   {
    "duration": 72,
    "start_time": "2022-09-24T19:51:00.567Z"
   },
   {
    "duration": 10,
    "start_time": "2022-09-24T19:51:00.641Z"
   },
   {
    "duration": 28,
    "start_time": "2022-09-24T19:51:00.653Z"
   },
   {
    "duration": 22,
    "start_time": "2022-09-24T19:51:00.684Z"
   },
   {
    "duration": 21,
    "start_time": "2022-09-24T19:51:00.708Z"
   },
   {
    "duration": 17,
    "start_time": "2022-09-24T19:51:00.731Z"
   },
   {
    "duration": 16,
    "start_time": "2022-09-24T19:51:00.749Z"
   },
   {
    "duration": 189,
    "start_time": "2022-09-24T19:51:00.767Z"
   },
   {
    "duration": 4,
    "start_time": "2022-09-24T19:51:00.958Z"
   },
   {
    "duration": 15,
    "start_time": "2022-09-24T19:51:00.964Z"
   },
   {
    "duration": 211,
    "start_time": "2022-09-24T19:51:00.981Z"
   },
   {
    "duration": 4,
    "start_time": "2022-09-24T19:51:01.194Z"
   },
   {
    "duration": 40,
    "start_time": "2022-09-24T19:51:01.200Z"
   },
   {
    "duration": 204,
    "start_time": "2022-09-24T19:51:01.242Z"
   },
   {
    "duration": 5,
    "start_time": "2022-09-24T19:51:01.447Z"
   },
   {
    "duration": 32,
    "start_time": "2022-09-24T19:51:01.453Z"
   },
   {
    "duration": 18,
    "start_time": "2022-09-24T19:51:01.486Z"
   },
   {
    "duration": 26,
    "start_time": "2022-09-24T19:51:01.506Z"
   },
   {
    "duration": 170,
    "start_time": "2022-09-24T19:51:01.534Z"
   },
   {
    "duration": 386,
    "start_time": "2022-09-24T19:51:01.706Z"
   },
   {
    "duration": 304,
    "start_time": "2022-09-24T19:51:02.094Z"
   },
   {
    "duration": 23,
    "start_time": "2022-09-24T19:51:02.400Z"
   },
   {
    "duration": 1094,
    "start_time": "2022-09-24T19:51:02.425Z"
   },
   {
    "duration": 14,
    "start_time": "2022-09-24T19:51:03.521Z"
   },
   {
    "duration": 24,
    "start_time": "2022-09-24T19:51:05.794Z"
   },
   {
    "duration": 14,
    "start_time": "2022-09-24T19:51:10.797Z"
   },
   {
    "duration": 11,
    "start_time": "2022-09-24T19:52:17.553Z"
   },
   {
    "duration": 6,
    "start_time": "2022-09-24T19:52:34.015Z"
   },
   {
    "duration": 174,
    "start_time": "2022-09-24T19:52:35.463Z"
   },
   {
    "duration": 21,
    "start_time": "2022-09-24T19:52:37.146Z"
   },
   {
    "duration": 529,
    "start_time": "2022-09-24T19:52:38.576Z"
   },
   {
    "duration": 254,
    "start_time": "2022-09-24T19:52:42.806Z"
   },
   {
    "duration": 272,
    "start_time": "2022-09-24T19:52:43.837Z"
   },
   {
    "duration": 543,
    "start_time": "2022-09-24T19:54:08.934Z"
   },
   {
    "duration": 8,
    "start_time": "2022-09-24T19:55:19.848Z"
   },
   {
    "duration": 465,
    "start_time": "2022-09-24T20:04:34.181Z"
   },
   {
    "duration": 505,
    "start_time": "2022-09-24T20:04:50.379Z"
   },
   {
    "duration": 7,
    "start_time": "2022-09-24T20:15:18.645Z"
   },
   {
    "duration": 23,
    "start_time": "2022-09-24T20:16:58.557Z"
   },
   {
    "duration": 17,
    "start_time": "2022-09-24T20:18:38.382Z"
   },
   {
    "duration": 19,
    "start_time": "2022-09-24T20:18:45.775Z"
   },
   {
    "duration": 111,
    "start_time": "2022-09-24T20:19:10.246Z"
   },
   {
    "duration": 827,
    "start_time": "2022-09-24T20:19:38.909Z"
   },
   {
    "duration": 17,
    "start_time": "2022-09-24T20:20:15.668Z"
   },
   {
    "duration": 706,
    "start_time": "2022-09-24T20:20:35.601Z"
   },
   {
    "duration": 225,
    "start_time": "2022-09-24T20:28:39.755Z"
   },
   {
    "duration": 176,
    "start_time": "2022-09-24T20:28:42.834Z"
   },
   {
    "duration": 262,
    "start_time": "2022-09-24T20:28:43.554Z"
   },
   {
    "duration": 17,
    "start_time": "2022-09-24T20:28:50.354Z"
   },
   {
    "duration": 7,
    "start_time": "2022-09-24T20:28:51.571Z"
   },
   {
    "duration": 7,
    "start_time": "2022-09-24T20:28:52.356Z"
   },
   {
    "duration": 6,
    "start_time": "2022-09-24T20:28:52.739Z"
   },
   {
    "duration": 6,
    "start_time": "2022-09-24T20:28:53.179Z"
   },
   {
    "duration": 19,
    "start_time": "2022-09-24T20:28:54.587Z"
   },
   {
    "duration": 6,
    "start_time": "2022-09-24T20:28:54.980Z"
   },
   {
    "duration": 7,
    "start_time": "2022-09-24T20:28:55.473Z"
   },
   {
    "duration": 6,
    "start_time": "2022-09-24T20:28:55.859Z"
   },
   {
    "duration": 7,
    "start_time": "2022-09-24T20:28:56.261Z"
   },
   {
    "duration": 728,
    "start_time": "2022-09-24T20:28:56.947Z"
   },
   {
    "duration": 323,
    "start_time": "2022-09-24T20:29:00.956Z"
   },
   {
    "duration": 11,
    "start_time": "2022-09-24T20:29:07.992Z"
   },
   {
    "duration": 6,
    "start_time": "2022-09-24T20:29:08.988Z"
   },
   {
    "duration": 153,
    "start_time": "2022-09-24T20:29:09.874Z"
   },
   {
    "duration": 138,
    "start_time": "2022-09-24T20:29:10.858Z"
   },
   {
    "duration": 160,
    "start_time": "2022-09-24T20:29:12.300Z"
   },
   {
    "duration": 6,
    "start_time": "2022-09-24T20:29:14.154Z"
   },
   {
    "duration": 7,
    "start_time": "2022-09-24T20:29:15.652Z"
   },
   {
    "duration": 176,
    "start_time": "2022-09-24T20:29:16.745Z"
   },
   {
    "duration": 6,
    "start_time": "2022-09-24T20:29:18.332Z"
   },
   {
    "duration": 196,
    "start_time": "2022-09-24T20:29:19.378Z"
   }
  ],
  "kernelspec": {
   "display_name": "Python 3 (ipykernel)",
   "language": "python",
   "name": "python3"
  },
  "language_info": {
   "codemirror_mode": {
    "name": "ipython",
    "version": 3
   },
   "file_extension": ".py",
   "mimetype": "text/x-python",
   "name": "python",
   "nbconvert_exporter": "python",
   "pygments_lexer": "ipython3",
   "version": "3.9.12"
  },
  "toc": {
   "base_numbering": 1,
   "nav_menu": {},
   "number_sections": true,
   "sideBar": true,
   "skip_h1_title": true,
   "title_cell": "Содержание",
   "title_sidebar": "Contents",
   "toc_cell": true,
   "toc_position": {
    "height": "calc(100% - 180px)",
    "left": "10px",
    "top": "150px",
    "width": "287.188px"
   },
   "toc_section_display": true,
   "toc_window_display": true
  }
 },
 "nbformat": 4,
 "nbformat_minor": 4
}
