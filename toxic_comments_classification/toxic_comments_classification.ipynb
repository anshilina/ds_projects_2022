{
 "cells": [
  {
   "cell_type": "markdown",
   "metadata": {},
   "source": [
    "# Toxic comments classification for online store"
   ]
  },
  {
   "cell_type": "code",
   "execution_count": 1,
   "metadata": {
    "collapsed": true,
    "jupyter": {
     "outputs_hidden": true
    },
    "tags": []
   },
   "outputs": [
    {
     "name": "stderr",
     "output_type": "stream",
     "text": [
      "[nltk_data] Downloading package stopwords to\n",
      "[nltk_data]     /Users/anshilina/nltk_data...\n",
      "[nltk_data]   Package stopwords is already up-to-date!\n"
     ]
    }
   ],
   "source": [
    "import pandas as pd\n",
    "import numpy as np \n",
    "np.random.seed(seed=42)\n",
    "import time\n",
    "import re\n",
    "\n",
    "import nltk\n",
    "from nltk.corpus import stopwords\n",
    "nltk.download('stopwords')\n",
    "\n",
    "import spacy\n",
    "\n",
    "from sklearn.feature_extraction.text import TfidfVectorizer\n",
    "from sklearn.model_selection import train_test_split, GridSearchCV, RandomizedSearchCV, cross_val_score\n",
    "from sklearn.tree import DecisionTreeClassifier\n",
    "from sklearn.linear_model import LogisticRegression\n",
    "from sklearn.ensemble import RandomForestClassifier\n",
    "from sklearn.utils.class_weight import compute_class_weight\n",
    "from sklearn.metrics import f1_score, roc_auc_score, roc_curve, auc, precision_recall_curve\n",
    "from sklearn.pipeline import Pipeline\n",
    "\n",
    "from lightgbm import LGBMClassifier\n",
    "from catboost import CatBoostClassifier\n",
    "from xgboost import XGBClassifier\n",
    "\n",
    "from IPython.display import display\n",
    "import pprint\n",
    "import matplotlib.pyplot as plt\n",
    "import seaborn as sns"
   ]
  },
  {
   "cell_type": "markdown",
   "metadata": {},
   "source": [
    "Let's import and study data. We have to solve the problem of binary classification. We need to get features from text and determine whether comment is a toxic (negative) or not."
   ]
  },
  {
   "cell_type": "code",
   "execution_count": 2,
   "metadata": {},
   "outputs": [
    {
     "data": {
      "text/html": [
       "<div>\n",
       "<style scoped>\n",
       "    .dataframe tbody tr th:only-of-type {\n",
       "        vertical-align: middle;\n",
       "    }\n",
       "\n",
       "    .dataframe tbody tr th {\n",
       "        vertical-align: top;\n",
       "    }\n",
       "\n",
       "    .dataframe thead th {\n",
       "        text-align: right;\n",
       "    }\n",
       "</style>\n",
       "<table border=\"1\" class=\"dataframe\">\n",
       "  <thead>\n",
       "    <tr style=\"text-align: right;\">\n",
       "      <th></th>\n",
       "      <th>text</th>\n",
       "      <th>toxic</th>\n",
       "    </tr>\n",
       "  </thead>\n",
       "  <tbody>\n",
       "    <tr>\n",
       "      <th>0</th>\n",
       "      <td>Explanation\\nWhy the edits made under my usern...</td>\n",
       "      <td>0</td>\n",
       "    </tr>\n",
       "    <tr>\n",
       "      <th>1</th>\n",
       "      <td>D'aww! He matches this background colour I'm s...</td>\n",
       "      <td>0</td>\n",
       "    </tr>\n",
       "    <tr>\n",
       "      <th>2</th>\n",
       "      <td>Hey man, I'm really not trying to edit war. It...</td>\n",
       "      <td>0</td>\n",
       "    </tr>\n",
       "    <tr>\n",
       "      <th>3</th>\n",
       "      <td>\"\\nMore\\nI can't make any real suggestions on ...</td>\n",
       "      <td>0</td>\n",
       "    </tr>\n",
       "    <tr>\n",
       "      <th>4</th>\n",
       "      <td>You, sir, are my hero. Any chance you remember...</td>\n",
       "      <td>0</td>\n",
       "    </tr>\n",
       "  </tbody>\n",
       "</table>\n",
       "</div>"
      ],
      "text/plain": [
       "                                                text  toxic\n",
       "0  Explanation\\nWhy the edits made under my usern...      0\n",
       "1  D'aww! He matches this background colour I'm s...      0\n",
       "2  Hey man, I'm really not trying to edit war. It...      0\n",
       "3  \"\\nMore\\nI can't make any real suggestions on ...      0\n",
       "4  You, sir, are my hero. Any chance you remember...      0"
      ]
     },
     "metadata": {},
     "output_type": "display_data"
    }
   ],
   "source": [
    "try:\n",
    "    df = pd.read_csv('toxic_comments.csv').drop('Unnamed: 0', axis=1)\n",
    "except:\n",
    "    df = pd.read_csv('/datasets/toxic_comments.csv').drop('Unnamed: 0', axis=1)\n",
    "    \n",
    "display(df.head())"
   ]
  },
  {
   "cell_type": "code",
   "execution_count": 3,
   "metadata": {},
   "outputs": [
    {
     "name": "stdout",
     "output_type": "stream",
     "text": [
      "<class 'pandas.core.frame.DataFrame'>\n",
      "RangeIndex: 159292 entries, 0 to 159291\n",
      "Data columns (total 2 columns):\n",
      " #   Column  Non-Null Count   Dtype \n",
      "---  ------  --------------   ----- \n",
      " 0   text    159292 non-null  object\n",
      " 1   toxic   159292 non-null  int64 \n",
      "dtypes: int64(1), object(1)\n",
      "memory usage: 2.4+ MB\n"
     ]
    }
   ],
   "source": [
    "df.info()"
   ]
  },
  {
   "cell_type": "code",
   "execution_count": 4,
   "metadata": {},
   "outputs": [
    {
     "data": {
      "text/html": [
       "<div>\n",
       "<style scoped>\n",
       "    .dataframe tbody tr th:only-of-type {\n",
       "        vertical-align: middle;\n",
       "    }\n",
       "\n",
       "    .dataframe tbody tr th {\n",
       "        vertical-align: top;\n",
       "    }\n",
       "\n",
       "    .dataframe thead th {\n",
       "        text-align: right;\n",
       "    }\n",
       "</style>\n",
       "<table border=\"1\" class=\"dataframe\">\n",
       "  <thead>\n",
       "    <tr style=\"text-align: right;\">\n",
       "      <th></th>\n",
       "      <th>toxic</th>\n",
       "    </tr>\n",
       "  </thead>\n",
       "  <tbody>\n",
       "    <tr>\n",
       "      <th>count</th>\n",
       "      <td>159292.000000</td>\n",
       "    </tr>\n",
       "    <tr>\n",
       "      <th>mean</th>\n",
       "      <td>0.101612</td>\n",
       "    </tr>\n",
       "    <tr>\n",
       "      <th>std</th>\n",
       "      <td>0.302139</td>\n",
       "    </tr>\n",
       "    <tr>\n",
       "      <th>min</th>\n",
       "      <td>0.000000</td>\n",
       "    </tr>\n",
       "    <tr>\n",
       "      <th>25%</th>\n",
       "      <td>0.000000</td>\n",
       "    </tr>\n",
       "    <tr>\n",
       "      <th>50%</th>\n",
       "      <td>0.000000</td>\n",
       "    </tr>\n",
       "    <tr>\n",
       "      <th>75%</th>\n",
       "      <td>0.000000</td>\n",
       "    </tr>\n",
       "    <tr>\n",
       "      <th>max</th>\n",
       "      <td>1.000000</td>\n",
       "    </tr>\n",
       "  </tbody>\n",
       "</table>\n",
       "</div>"
      ],
      "text/plain": [
       "               toxic\n",
       "count  159292.000000\n",
       "mean        0.101612\n",
       "std         0.302139\n",
       "min         0.000000\n",
       "25%         0.000000\n",
       "50%         0.000000\n",
       "75%         0.000000\n",
       "max         1.000000"
      ]
     },
     "metadata": {},
     "output_type": "display_data"
    }
   ],
   "source": [
    "display(df.describe())"
   ]
  },
  {
   "cell_type": "markdown",
   "metadata": {},
   "source": [
    "There are no missing values and duplicates in data frame."
   ]
  },
  {
   "cell_type": "code",
   "execution_count": 5,
   "metadata": {},
   "outputs": [
    {
     "name": "stdout",
     "output_type": "stream",
     "text": [
      "Number of missing values: 0\n"
     ]
    }
   ],
   "source": [
    "print('Number of missing values:', df.isna().sum().sum())"
   ]
  },
  {
   "cell_type": "code",
   "execution_count": 6,
   "metadata": {},
   "outputs": [
    {
     "name": "stdout",
     "output_type": "stream",
     "text": [
      "Number of duplicates: 0\n"
     ]
    }
   ],
   "source": [
    "print('Number of duplicates:', df.duplicated().sum())"
   ]
  },
  {
   "cell_type": "markdown",
   "metadata": {},
   "source": [
    "Let's visualize distribution of the target variable. We can observe that classes are imbalanced - there are more positive comments than toxic ones. When fitting models, it is necessary to take into account the imbalance. To do this, we will use special parameters of the models."
   ]
  },
  {
   "cell_type": "code",
   "execution_count": 7,
   "metadata": {},
   "outputs": [
    {
     "data": {
      "image/png": "[encoded data removed]",
      "text/plain": [
       "<Figure size 360x360 with 1 Axes>"
      ]
     },
     "metadata": {
      "needs_background": "light"
     },
     "output_type": "display_data"
    }
   ],
   "source": [
    "plt.figure(figsize=(5,5))\n",
    "sns.barplot(data=df, x=df['toxic'].value_counts().index, y=df['toxic'].value_counts().values)\n",
    "plt.xlabel('Toxic comment lable')\n",
    "plt.ylabel('Number of observations')\n",
    "plt.title('Distribution of the target variable')\n",
    "plt.show()"
   ]
  },
  {
   "cell_type": "markdown",
   "metadata": {},
   "source": [
    "## Data preprocessing"
   ]
  },
  {
   "cell_type": "markdown",
   "metadata": {},
   "source": [
    "At the first stage, let's get rid of all unnecessary characters except letters using regular expressions."
   ]
  },
  {
   "cell_type": "code",
   "execution_count": 8,
   "metadata": {},
   "outputs": [],
   "source": [
    "df['text'] = df['text'].apply(lambda row: \"\".join(re.sub(r'[^a-zA-Z\\' ]', ' ', row)))"
   ]
  },
  {
   "cell_type": "markdown",
   "metadata": {},
   "source": [
    "Next, let's lemmatize words in sentences. For this we will use the `spacy` library."
   ]
  },
  {
   "cell_type": "code",
   "execution_count": 9,
   "metadata": {},
   "outputs": [
    {
     "data": {
      "text/plain": [
       "['tok2vec', 'tagger', 'parser', 'attribute_ruler', 'lemmatizer', 'ner']"
      ]
     },
     "metadata": {},
     "output_type": "display_data"
    }
   ],
   "source": [
    "spacy_model = spacy.load('en_core_web_sm')\n",
    "display(spacy_model.pipe_names)"
   ]
  },
  {
   "cell_type": "code",
   "execution_count": 10,
   "metadata": {},
   "outputs": [],
   "source": [
    "disabled_pipes = ['parser', 'ner']\n",
    "spacy_model = spacy.load('en_core_web_sm', disable=disabled_pipes)"
   ]
  },
  {
   "cell_type": "code",
   "execution_count": 11,
   "metadata": {
    "tags": []
   },
   "outputs": [],
   "source": [
    "df['text'] = df['text'].apply(lambda row: \" \".join([word.lemma_ for word in spacy_model(row)]))"
   ]
  },
  {
   "cell_type": "markdown",
   "metadata": {},
   "source": [
    "Let's get rid of unnecessary gaps and make all words lowercase."
   ]
  },
  {
   "cell_type": "code",
   "execution_count": 13,
   "metadata": {},
   "outputs": [],
   "source": [
    "df['text'] = df['text'].apply(lambda row: ' '.join(row.split()).lower())"
   ]
  },
  {
   "cell_type": "code",
   "execution_count": 14,
   "metadata": {},
   "outputs": [
    {
     "data": {
      "text/plain": [
       "0    explanation why the edit make under my usernam...\n",
       "1    d'aww he match this background colour i be see...\n",
       "2    hey man i be really not try to edit war it be ...\n",
       "3    more i can not make any real suggestion on imp...\n",
       "4    you sir be my hero any chance you remember wha...\n",
       "Name: text, dtype: object"
      ]
     },
     "metadata": {},
     "output_type": "display_data"
    }
   ],
   "source": [
    "display(df['text'].head())"
   ]
  },
  {
   "cell_type": "markdown",
   "metadata": {},
   "source": [
    "Next, let's unload stop words that we will exclude when vectorizing words. To get vectors from words, we will use `TfidfVectorizer`."
   ]
  },
  {
   "cell_type": "code",
   "execution_count": 15,
   "metadata": {},
   "outputs": [],
   "source": [
    "stop_words = set(stopwords.words('english')) \n",
    "vectorizer_pipe = Pipeline([(\"vect\", TfidfVectorizer(stop_words=stop_words))])"
   ]
  },
  {
   "cell_type": "markdown",
   "metadata": {},
   "source": [
    "Now let's split sample into train, validation and test."
   ]
  },
  {
   "cell_type": "code",
   "execution_count": 16,
   "metadata": {},
   "outputs": [],
   "source": [
    "features = df['text']\n",
    "target = df['toxic']\n",
    "\n",
    "features_train, features_test, target_train, target_test = train_test_split(\n",
    "    features, target, test_size=0.1, shuffle=True, random_state=42)\n",
    "\n",
    "features_train, features_valid, target_train, target_valid = train_test_split(\n",
    "    features_train, target_train, test_size=0.1, shuffle=True, stratify=target_train, random_state=42)"
   ]
  },
  {
   "cell_type": "code",
   "execution_count": 17,
   "metadata": {},
   "outputs": [
    {
     "data": {
      "text/plain": [
       "0    14314\n",
       "1     1616\n",
       "Name: toxic, dtype: int64"
      ]
     },
     "execution_count": 17,
     "metadata": {},
     "output_type": "execute_result"
    }
   ],
   "source": [
    "target_test.value_counts()"
   ]
  },
  {
   "cell_type": "markdown",
   "metadata": {},
   "source": [
    "## Model fitting"
   ]
  },
  {
   "cell_type": "markdown",
   "metadata": {},
   "source": [
    "We will fit Logistic Regression, Random Rorest Classifier, CatBoost, LightGBM, and XGBoost models. We will consider Decision Tree Classifier as the baseline and will compare quality of predictions made by other classifiers with its. Let's select a probability threshold to get a lower level of false positive responses."
   ]
  },
  {
   "cell_type": "markdown",
   "metadata": {},
   "source": [
    "### Decision Tree Classifier"
   ]
  },
  {
   "cell_type": "markdown",
   "metadata": {},
   "source": [
    "We use the `class_weight` parameter to deal with imbalance."
   ]
  },
  {
   "cell_type": "code",
   "execution_count": 18,
   "metadata": {},
   "outputs": [],
   "source": [
    "tree_model = Pipeline([\n",
    "    ('vectorizer', vectorizer_pipe),\n",
    "    ('tree', DecisionTreeClassifier(random_state=42, class_weight='balanced'))\n",
    "])\n",
    "tree_params = {'tree__max_depth' : range(2, 13, 2)}\n",
    "tree_model = GridSearchCV(tree_model, param_grid=tree_params, cv=5, scoring='f1', n_jobs=-1)"
   ]
  },
  {
   "cell_type": "code",
   "execution_count": 19,
   "metadata": {
    "tags": []
   },
   "outputs": [],
   "source": [
    "tree_start = time.time()\n",
    "tree_model.fit(features_train, target_train)\n",
    "tree_search_time = time.time() - tree_start"
   ]
  },
  {
   "cell_type": "code",
   "execution_count": 20,
   "metadata": {},
   "outputs": [
    {
     "name": "stdout",
     "output_type": "stream",
     "text": [
      "Results of grid search.\n",
      "\n",
      "Grid search time: 1.79 мин\n",
      "Fitting time: 20.67531 сек\n",
      "Prediction time: 1.84941 сек\n",
      "Best parameters: {'tree__max_depth': 12}\n",
      "F1 on cross-validation: 0.5894383381238686\n"
     ]
    }
   ],
   "source": [
    "print('Results of grid search.\\n')\n",
    "print(f'Grid search time: {round(tree_search_time/60, 2)} min')\n",
    "print(f'Fitting time: {round(tree_model.cv_results_[\"mean_fit_time\"][tree_model.best_index_], 5)} s')\n",
    "print(f'Prediction time: {round(tree_model.cv_results_[\"mean_score_time\"][tree_model.best_index_], 5)} s')\n",
    "print(f'Best parameters: {tree_model.best_params_}')\n",
    "print(f'F1 on cross-validation:', tree_model.best_score_)"
   ]
  },
  {
   "cell_type": "code",
   "execution_count": 21,
   "metadata": {},
   "outputs": [],
   "source": [
    "tree_model = tree_model.best_estimator_\n",
    "preds = tree_model.predict_proba(features_train)[:,1]\n",
    "\n",
    "precisions, recalls, thresholds = precision_recall_curve(target_train, preds)\n",
    "fscores = (2 * precisions * recalls) / (precisions + recalls)\n",
    "optimal_idx = np.argmax(fscores)\n",
    "optimal_threshold_tree = thresholds[optimal_idx]"
   ]
  },
  {
   "cell_type": "code",
   "execution_count": 22,
   "metadata": {},
   "outputs": [
    {
     "name": "stdout",
     "output_type": "stream",
     "text": [
      "F1 on validation: 0.591715976331361\n"
     ]
    }
   ],
   "source": [
    "tree_predictions = [1 if prob[1] > optimal_threshold_tree else 0 for prob in tree_model.predict_proba(features_valid)]\n",
    "print(f'F1 on validation:', f1_score(target_valid,  tree_predictions))"
   ]
  },
  {
   "cell_type": "markdown",
   "metadata": {},
   "source": [
    "### Random Forest Classifier"
   ]
  },
  {
   "cell_type": "markdown",
   "metadata": {},
   "source": [
    "Let's train the Random Forest Classifier, search parameters and evaluate the model on the validation set."
   ]
  },
  {
   "cell_type": "code",
   "execution_count": 23,
   "metadata": {},
   "outputs": [],
   "source": [
    "forest_model = Pipeline([\n",
    "    ('vectorizer', vectorizer_pipe),\n",
    "    ('forest', RandomForestClassifier(random_state=42, class_weight='balanced'))\n",
    "])\n",
    "forest_params = {\n",
    "    'forest__max_depth' : range(2,13,2),\n",
    "    'forest__n_estimators': range(10,90,10),\n",
    "}\n",
    "forest_model = GridSearchCV(forest_model, param_grid=forest_params, cv=3, scoring='f1', n_jobs=-1)"
   ]
  },
  {
   "cell_type": "code",
   "execution_count": 24,
   "metadata": {},
   "outputs": [],
   "source": [
    "forest_start = time.time()\n",
    "forest_model.fit(features_train, target_train)\n",
    "forest_search_time = time.time() - forest_start"
   ]
  },
  {
   "cell_type": "code",
   "execution_count": 25,
   "metadata": {},
   "outputs": [
    {
     "name": "stdout",
     "output_type": "stream",
     "text": [
      "Results of grid search.\n",
      "\n",
      "Grid search time: 5.71 min\n",
      "Fitting time: 13.17692 s\n",
      "Prediction time: 3.149 s\n",
      "Best parameters: {'forest__max_depth': 12, 'forest__n_estimators': 80}\n",
      "F1 on cross-validation: 0.3652188181943883\n"
     ]
    }
   ],
   "source": [
    "print('Results of grid search.\\n')\n",
    "print(f'Grid search time: {round(forest_search_time/60, 2)} min')\n",
    "print(f'Fitting time: {round(forest_model.cv_results_[\"mean_fit_time\"][forest_model.best_index_], 5)} s')\n",
    "print(f'Prediction time: {round(forest_model.cv_results_[\"mean_score_time\"][forest_model.best_index_], 5)} s')\n",
    "print(f'Best parameters: {forest_model.best_params_}')\n",
    "print(f'F1 on cross-validation:', forest_model.best_score_)"
   ]
  },
  {
   "cell_type": "markdown",
   "metadata": {},
   "source": [
    "The quality of predictions made by Random Forest Classifier is lower than results of Decision Tree Classifier if the threshold is not adjusted."
   ]
  },
  {
   "cell_type": "code",
   "execution_count": 26,
   "metadata": {},
   "outputs": [],
   "source": [
    "forest_model = forest_model.best_estimator_\n",
    "preds = forest_model.predict_proba(features_train)[:,1]\n",
    "\n",
    "precisions, recalls, thresholds = precision_recall_curve(target_train, preds)\n",
    "fscores = (2 * precisions * recalls) / (precisions + recalls)\n",
    "optimal_idx = np.argmax(fscores)\n",
    "optimal_threshold_forest = thresholds[optimal_idx]"
   ]
  },
  {
   "cell_type": "code",
   "execution_count": 27,
   "metadata": {},
   "outputs": [
    {
     "name": "stdout",
     "output_type": "stream",
     "text": [
      "F1 on validation: 0.6547934823796893\n"
     ]
    }
   ],
   "source": [
    "forest_predictions = [1 if prob[1] > optimal_threshold_forest else 0 for prob in forest_model.predict_proba(features_valid)]\n",
    "print(f'F1 on validation:', f1_score(target_valid,  forest_predictions))"
   ]
  },
  {
   "cell_type": "markdown",
   "metadata": {},
   "source": [
    "### Logistic Regression"
   ]
  },
  {
   "cell_type": "markdown",
   "metadata": {},
   "source": [
    "Now let's fit linear classifier - Logistic Regression."
   ]
  },
  {
   "cell_type": "code",
   "execution_count": 28,
   "metadata": {},
   "outputs": [],
   "source": [
    "log_reg = Pipeline([\n",
    "    ('vectorizer', vectorizer_pipe),\n",
    "    ('log', LogisticRegression(class_weight='balanced', solver='liblinear'))\n",
    "])\n",
    "log_params = {\n",
    "    'log__penalty':['l1', 'l2'],\n",
    "    'log__C':range(5,20,5),\n",
    "}\n",
    "log_reg = GridSearchCV(log_reg, param_grid=log_params, cv=3, scoring='f1', n_jobs=-1)"
   ]
  },
  {
   "cell_type": "code",
   "execution_count": 29,
   "metadata": {
    "tags": []
   },
   "outputs": [],
   "source": [
    "log_start = time.time()\n",
    "log_reg.fit(features_train, target_train)\n",
    "log_search_time = time.time() - log_start"
   ]
  },
  {
   "cell_type": "code",
   "execution_count": 30,
   "metadata": {
    "tags": []
   },
   "outputs": [
    {
     "name": "stdout",
     "output_type": "stream",
     "text": [
      "Results of grid search.\n",
      "\n",
      "Grid search time: 64.97 s\n",
      "Fitting time: 13.38114 s\n",
      "Prediction time: 5.85869 s\n",
      "Best parameters: {'log__C': 10, 'log__penalty': 'l2'}\n",
      "F1 on cross-validation: 0.7633101740809153\n"
     ]
    }
   ],
   "source": [
    "print('Results of grid search.\\n')\n",
    "print(f'Grid search time: {round(log_search_time, 2)} s')\n",
    "print(f'Fitting time: {round(log_reg.cv_results_[\"mean_fit_time\"][log_reg.best_index_], 5)} s')\n",
    "print(f'Prediction time: {round(log_reg.cv_results_[\"mean_score_time\"][log_reg.best_index_], 5)} s')\n",
    "print(f'Best parameters: {log_reg.best_params_}')\n",
    "print(f'F1 on cross-validation:', log_reg.best_score_)"
   ]
  },
  {
   "cell_type": "code",
   "execution_count": 31,
   "metadata": {
    "tags": []
   },
   "outputs": [],
   "source": [
    "log_reg = log_reg.best_estimator_\n",
    "preds = log_reg.predict_proba(features_train)[:,1]\n",
    "\n",
    "precisions, recalls, thresholds = precision_recall_curve(target_train, preds)\n",
    "fscores = (2 * precisions * recalls) / (precisions + recalls)\n",
    "optimal_idx = np.argmax(fscores)\n",
    "optimal_threshold_log = thresholds[optimal_idx]"
   ]
  },
  {
   "cell_type": "code",
   "execution_count": 32,
   "metadata": {},
   "outputs": [
    {
     "name": "stdout",
     "output_type": "stream",
     "text": [
      "F1 on validation: 0.7903168387326451\n"
     ]
    }
   ],
   "source": [
    "log_predictions = [1 if prob[1] > optimal_threshold_log else 0 for prob in log_reg.predict_proba(features_valid)]\n",
    "print(f'F1 on validation:', f1_score(target_valid,  log_predictions))"
   ]
  },
  {
   "cell_type": "markdown",
   "metadata": {},
   "source": [
    "Next we fit gradient boosting models. Firstly, we calculate weights of each class that we will use in models to solve the imbalance problem while fitting Cat Boost and LightGBM."
   ]
  },
  {
   "cell_type": "code",
   "execution_count": 33,
   "metadata": {},
   "outputs": [],
   "source": [
    "classes = np.unique(target_train)\n",
    "weights = compute_class_weight(class_weight='balanced', classes=classes, y=target_train)\n",
    "class_weights = dict(zip(classes, weights))"
   ]
  },
  {
   "cell_type": "markdown",
   "metadata": {},
   "source": [
    "### Cat Boost Classifier"
   ]
  },
  {
   "cell_type": "code",
   "execution_count": 63,
   "metadata": {
    "tags": []
   },
   "outputs": [],
   "source": [
    "cat_model = Pipeline([\n",
    "    ('vectorizer', vectorizer_pipe),\n",
    "    ('cat', CatBoostClassifier(class_weights=class_weights, random_seed=42, loss_function='Logloss', silent=True))\n",
    "])"
   ]
  },
  {
   "cell_type": "code",
   "execution_count": 64,
   "metadata": {
    "tags": []
   },
   "outputs": [],
   "source": [
    "cat_start = time.time()\n",
    "cat_model.fit(features_train, target_train)\n",
    "cat_fit_time = time.time() - cat_start"
   ]
  },
  {
   "cell_type": "code",
   "execution_count": 65,
   "metadata": {},
   "outputs": [],
   "source": [
    "cat_start = time.time()\n",
    "cat_model.predict(features_valid)\n",
    "cat_pred_time = time.time() - cat_start"
   ]
  },
  {
   "cell_type": "code",
   "execution_count": 66,
   "metadata": {},
   "outputs": [
    {
     "name": "stdout",
     "output_type": "stream",
     "text": [
      "Fitting results.\n",
      "\n",
      "Fitting time: 10.85897 min\n",
      "Prediction time: 0.9528 s\n",
      "F1 on validation: 0.7552795031055901\n"
     ]
    }
   ],
   "source": [
    "print('Fitting results.\\n')\n",
    "print(f'Fitting time: {round(cat_fit_time/60, 5)} min')\n",
    "print(f'Prediction time: {round(cat_pred_time, 5)} s')\n",
    "print('F1 on validation:', f1_score(target_valid, cat_model.predict(features_valid)))"
   ]
  },
  {
   "cell_type": "code",
   "execution_count": 38,
   "metadata": {},
   "outputs": [],
   "source": [
    "preds = cat_model.predict_proba(features_train)[:,1]\n",
    "\n",
    "precisions, recalls, thresholds = precision_recall_curve(target_train, preds)\n",
    "fscores = (2 * precisions * recalls) / (precisions + recalls)\n",
    "optimal_idx = np.argmax(fscores)\n",
    "optimal_threshold_cat = thresholds[optimal_idx]"
   ]
  },
  {
   "cell_type": "code",
   "execution_count": 39,
   "metadata": {},
   "outputs": [],
   "source": [
    "cat_model['cat'].set_probability_threshold(optimal_threshold_cat)"
   ]
  },
  {
   "cell_type": "code",
   "execution_count": 40,
   "metadata": {},
   "outputs": [
    {
     "name": "stdout",
     "output_type": "stream",
     "text": [
      "F1 on validation: 0.7777777777777778\n"
     ]
    }
   ],
   "source": [
    "cat_predictions = [1 if prob[1] > optimal_threshold_cat else 0 for prob in cat_model.predict_proba(features_valid)]\n",
    "print(f'F1 on validation:', f1_score(target_valid,  cat_predictions))"
   ]
  },
  {
   "cell_type": "markdown",
   "metadata": {},
   "source": [
    "The quality is high enough."
   ]
  },
  {
   "cell_type": "markdown",
   "metadata": {},
   "source": [
    "### LGBM Classifier"
   ]
  },
  {
   "cell_type": "code",
   "execution_count": 56,
   "metadata": {},
   "outputs": [],
   "source": [
    "lgbm_model = Pipeline([\n",
    "    ('vectorizer', vectorizer_pipe),\n",
    "    ('lgbm', LGBMClassifier(class_weight=class_weights, random_state=42, n_jobs=-1))\n",
    "])\n",
    "lgbm_params = {\n",
    "    'lgbm__learning_rate': [0.03, 0.1],\n",
    "    'lgbm__n_estimators': range(80, 100, 5),\n",
    "}\n",
    "lgbm_model = GridSearchCV(lgbm_model, param_grid=lgbm_params, cv=3, scoring='f1', n_jobs=-1)"
   ]
  },
  {
   "cell_type": "code",
   "execution_count": 57,
   "metadata": {},
   "outputs": [],
   "source": [
    "lgbm_start = time.time()\n",
    "lgbm_model.fit(features_train, target_train)\n",
    "lgbm_search_time = time.time() - lgbm_start"
   ]
  },
  {
   "cell_type": "code",
   "execution_count": 58,
   "metadata": {
    "tags": []
   },
   "outputs": [
    {
     "name": "stdout",
     "output_type": "stream",
     "text": [
      "Results of grid search.\n",
      "\n",
      "Grid search time: 4.55 min\n",
      "Fitting time: 1.14895 min\n",
      "Prediction time: 7.15554 s\n",
      "Best parameters: {'lgbm__learning_rate': 0.1, 'lgbm__n_estimators': 95}\n",
      "F1 on cross-validation: 0.7357299436257833\n"
     ]
    }
   ],
   "source": [
    "print('Results of grid search.\\n')\n",
    "print(f'Grid search time: {round(lgbm_search_time/60, 2)} min')\n",
    "print(f'Fitting time: {round(lgbm_model.cv_results_[\"mean_fit_time\"][lgbm_model.best_index_]/60, 5)} min')\n",
    "print(f'Prediction time: {round(lgbm_model.cv_results_[\"mean_score_time\"][lgbm_model.best_index_], 5)} s')\n",
    "print(f'Best parameters: {lgbm_model.best_params_}')\n",
    "print(f'F1 on cross-validation:', lgbm_model.best_score_)"
   ]
  },
  {
   "cell_type": "code",
   "execution_count": 44,
   "metadata": {},
   "outputs": [],
   "source": [
    "lgbm_model = lgbm_model.best_estimator_\n",
    "preds = lgbm_model.predict_proba(features_train)[:,1]\n",
    "\n",
    "precisions, recalls, thresholds = precision_recall_curve(target_train, preds)\n",
    "fscores = (2 * precisions * recalls) / (precisions + recalls)\n",
    "optimal_idx = np.argmax(fscores)\n",
    "optimal_threshold_lgbm = thresholds[optimal_idx]"
   ]
  },
  {
   "cell_type": "code",
   "execution_count": 45,
   "metadata": {},
   "outputs": [
    {
     "name": "stdout",
     "output_type": "stream",
     "text": [
      "F1 on validation: 0.7679597701149425\n"
     ]
    }
   ],
   "source": [
    "lgbm_predictions = [1 if prob[1] > optimal_threshold_lgbm else 0 for prob in lgbm_model.predict_proba(features_valid)]\n",
    "print(f'F1 on validation:', f1_score(target_valid,  lgbm_predictions))"
   ]
  },
  {
   "cell_type": "markdown",
   "metadata": {},
   "source": [
    "The quality of the LGBM model on the validation is high enough but lower than quality of Cat Boost. However, the learning rate is higher than learning rate of Cat Boost."
   ]
  },
  {
   "cell_type": "markdown",
   "metadata": {},
   "source": [
    "### XGB Classifier"
   ]
  },
  {
   "cell_type": "code",
   "execution_count": 59,
   "metadata": {
    "tags": []
   },
   "outputs": [],
   "source": [
    "xgb_class_weight = float(np.sum(target_train == 0) / np.sum(target_train == 1))"
   ]
  },
  {
   "cell_type": "code",
   "execution_count": 60,
   "metadata": {},
   "outputs": [],
   "source": [
    "xgb_model = Pipeline([\n",
    "    ('vectorizer', vectorizer_pipe),\n",
    "    ('xgb', XGBClassifier(random_state=42, n_jobs=-1, scale_pos_weight=xgb_class_weight))\n",
    "])\n",
    "xgb_params = {\n",
    "    'xgb__max_depth': range(6,10,2),\n",
    "    'xgb__n_estimators': range(50,90,10),\n",
    "}\n",
    "xgb_model = GridSearchCV(xgb_model, param_grid=xgb_params, cv=3, scoring='f1', n_jobs=-1)"
   ]
  },
  {
   "cell_type": "code",
   "execution_count": 61,
   "metadata": {
    "tags": []
   },
   "outputs": [],
   "source": [
    "xgb_start = time.time()\n",
    "xgb_model.fit(features_train, target_train)\n",
    "xgb_search_time = time.time() - xgb_start"
   ]
  },
  {
   "cell_type": "code",
   "execution_count": 62,
   "metadata": {},
   "outputs": [
    {
     "name": "stdout",
     "output_type": "stream",
     "text": [
      "Results of grid search.\n",
      "\n",
      "Grid search time: 8.3 min\n",
      "Fitting time: 2.86375 min\n",
      "Prediction time: 2.63444 s\n",
      "Best parameters: {'xgb__max_depth': 8, 'xgb__n_estimators': 80}\n",
      "F1 on cross-validation: 0.7426201577028179\n"
     ]
    }
   ],
   "source": [
    "print('Results of grid search.\\n')\n",
    "print(f'Grid search time: {round(xgb_search_time/60, 2)} min')\n",
    "print(f'Fitting time: {round(xgb_model.cv_results_[\"mean_fit_time\"][xgb_model.best_index_]/60, 5)} min')\n",
    "print(f'Prediction time: {round(xgb_model.cv_results_[\"mean_score_time\"][xgb_model.best_index_], 5)} s')\n",
    "print(f'Best parameters: {xgb_model.best_params_}')\n",
    "print(f'F1 on cross-validation:', xgb_model.best_score_)"
   ]
  },
  {
   "cell_type": "code",
   "execution_count": 50,
   "metadata": {},
   "outputs": [],
   "source": [
    "xgb_model = xgb_model.best_estimator_\n",
    "preds = xgb_model.predict_proba(features_train)[:,1]\n",
    "\n",
    "precisions, recalls, thresholds = precision_recall_curve(target_train, preds)\n",
    "fscores = (2 * precisions * recalls) / (precisions + recalls)\n",
    "optimal_idx = np.argmax(fscores)\n",
    "optimal_threshold_xgb = thresholds[optimal_idx]"
   ]
  },
  {
   "cell_type": "code",
   "execution_count": 51,
   "metadata": {},
   "outputs": [
    {
     "name": "stdout",
     "output_type": "stream",
     "text": [
      "F1 on validation: 0.7640369580668088\n"
     ]
    }
   ],
   "source": [
    "xgb_predictions = [1 if prob[1] > optimal_threshold_xgb else 0 for prob in xgb_model.predict_proba(features_valid)]\n",
    "print(f'F1 on validation:', f1_score(target_valid,  xgb_predictions))"
   ]
  },
  {
   "cell_type": "markdown",
   "metadata": {},
   "source": [
    "The quality of the model on the validation is not high enough, after selecting the threshold it is lower than quality of Cat Boost or LightGBM. At the same time, learning rate of XGBoost is slow."
   ]
  },
  {
   "cell_type": "markdown",
   "metadata": {},
   "source": [
    "**Summary:** Logistic Regression has the best quality on validation. The results of the models comparison are presented in the table. F1 scores for CatBoost and Logistic Regression are close – 0.78 and 0.79 respectively. However, learning rate and prediction time of Logistic Regression is higher. Therefore, we will use Logistic Regression model to make final classification of the comments.\n",
    "\n",
    "|Model|Fitting time|Prediction time| F1 score on validation|\n",
    "|:---|:---|:---|:---|\n",
    "|Logistic Regression|13.38 s|5.86 s|0.79|\n",
    "|CatBoost|11.86 min|0.98 s| 0.78|\n",
    "|LightGBM|1.16 min|7.15 s|0.77|\n",
    "|XGBoost|2.86 min|2.63 s| 0.76|\n",
    "|Random Forest Classifier|13.18 s|3.15 s|0.65|\n",
    "|Decision Tree Classifier|20.68 s|1.85 s|0.59|"
   ]
  },
  {
   "cell_type": "markdown",
   "metadata": {},
   "source": [
    "## Model testing"
   ]
  },
  {
   "cell_type": "code",
   "execution_count": 52,
   "metadata": {},
   "outputs": [
    {
     "name": "stdout",
     "output_type": "stream",
     "text": [
      "Predictions of the Logistic Regression on the test sample.\n",
      "\n",
      "F1 score on test: 0.7919463087248322\n"
     ]
    }
   ],
   "source": [
    "print('Predictions of the Logistic Regression on the test sample.\\n')\n",
    "log_test_pred = [1 if prob[1] > optimal_threshold_log else 0 for prob in log_reg.predict_proba(features_test)]\n",
    "print('F1 score on test:', f1_score(target_test, log_test_pred))"
   ]
  },
  {
   "cell_type": "code",
   "execution_count": 53,
   "metadata": {},
   "outputs": [
    {
     "name": "stdout",
     "output_type": "stream",
     "text": [
      "AUC-ROC: 0.9709045150008924\n"
     ]
    }
   ],
   "source": [
    "proba_test = log_reg.predict_proba(features_test)[:,1]\n",
    "print('AUC-ROC:', roc_auc_score(target_test, proba_test))"
   ]
  },
  {
   "cell_type": "code",
   "execution_count": 54,
   "metadata": {},
   "outputs": [
    {
     "data": {
      "image/png": "[encoded data removed]",
      "text/plain": [
       "<Figure size 360x360 with 1 Axes>"
      ]
     },
     "metadata": {
      "needs_background": "light"
     },
     "output_type": "display_data"
    }
   ],
   "source": [
    "fpr, tpr, treshold = roc_curve(target_test, proba_test)\n",
    "roc_auc = auc(fpr, tpr)\n",
    "\n",
    "plt.figure(figsize=(5,5))\n",
    "plt.plot(fpr, tpr, color='darkorange',\n",
    "         label='ROC curve (area = %0.2f)' % roc_auc)\n",
    "plt.plot([0, 1], [0, 1], color='navy', linestyle='--')\n",
    "plt.xlim([0.0, 1.0])\n",
    "plt.ylim([0.0, 1.05])\n",
    "plt.xlabel('False Positive Rate')\n",
    "plt.ylabel('True Positive Rate')\n",
    "plt.title('ROC curve')\n",
    "plt.legend(loc=\"lower right\")\n",
    "plt.grid()\n",
    "plt.show()"
   ]
  },
  {
   "cell_type": "markdown",
   "metadata": {},
   "source": [
    "## Conclusion"
   ]
  },
  {
   "cell_type": "markdown",
   "metadata": {},
   "source": [
    "In this project, we classified comments into toxic and non-toxic. The target quality of the prediction model was achieved - the quality on the test sample (F1 score) is 0.79. To achieve the target quality, we selected the optimal threshold value.\n",
    "\n",
    "At the first stage, we obtained features from the text. Unnecessary characters were removed from the text, it was lemmatized, and then vectorized using the TF-IDF formula that shows uniqueness of the token (word) in the text relative to the entire corpus. While preprocessin data, we discovered imbalance of the classes - there are more non-toxic comments than toxic ones. We tried to overcome this problem by setting the appropriate parameters of the models.\n",
    "\n",
    "Finally, we fitted six models - Decision Tree Classifier, Random Forest Classifier, Logistic Regression, and gradient boosting models: CatBoost, LightGBM, XGBoost. We compared the quality of those models and their learning rate and prediction time. As the result, Logistic Regression was chosen as the final model and we suggest to use it to detect toxic comments."
   ]
  }
 ],
 "metadata": {
  "ExecuteTimeLog": [
   {
    "duration": 81,
    "start_time": "2023-01-16T21:03:50.297Z"
   }
  ],
  "kernelspec": {
   "display_name": "Python 3 (ipykernel)",
   "language": "python",
   "name": "python3"
  },
  "language_info": {
   "codemirror_mode": {
    "name": "ipython",
    "version": 3
   },
   "file_extension": ".py",
   "mimetype": "text/x-python",
   "name": "python",
   "nbconvert_exporter": "python",
   "pygments_lexer": "ipython3",
   "version": "3.9.12"
  },
  "toc": {
   "base_numbering": 1,
   "nav_menu": {},
   "number_sections": true,
   "sideBar": true,
   "skip_h1_title": true,
   "title_cell": "Содержание",
   "title_sidebar": "Contents",
   "toc_cell": true,
   "toc_position": {
    "height": "calc(100% - 180px)",
    "left": "10px",
    "top": "150px",
    "width": "302.391px"
   },
   "toc_section_display": true,
   "toc_window_display": false
  }
 },
 "nbformat": 4,
 "nbformat_minor": 4
}
