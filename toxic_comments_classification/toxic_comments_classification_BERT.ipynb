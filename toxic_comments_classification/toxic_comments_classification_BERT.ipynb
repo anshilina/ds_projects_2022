{
 "cells": [
  {
   "cell_type": "markdown",
   "metadata": {},
   "source": [
    "# Toxic comments classification for online store using BERT"
   ]
  },
  {
   "cell_type": "code",
   "execution_count": 11,
   "metadata": {
    "tags": []
   },
   "outputs": [],
   "source": [
    "import pandas as pd\n",
    "import numpy as np \n",
    "np.random.seed(seed=42)\n",
    "import time\n",
    "from tqdm import notebook\n",
    "\n",
    "import torch\n",
    "import transformers \n",
    "\n",
    "from sklearn.model_selection import train_test_split, StratifiedKFold, GridSearchCV, cross_val_score\n",
    "from sklearn.utils.class_weight import compute_class_weight\n",
    "from sklearn.tree import DecisionTreeClassifier\n",
    "from sklearn.linear_model import LogisticRegression\n",
    "from sklearn.ensemble import RandomForestClassifier\n",
    "from sklearn.metrics import f1_score, roc_auc_score, roc_curve, auc\n",
    "\n",
    "from lightgbm import LGBMClassifier\n",
    "from catboost import CatBoostClassifier\n",
    "from xgboost import XGBClassifier\n",
    "\n",
    "\n",
    "from IPython.display import display\n",
    "import pprint\n",
    "import matplotlib.pyplot as plt\n",
    "import seaborn as sns"
   ]
  },
  {
   "cell_type": "markdown",
   "metadata": {},
   "source": [
    "Let's import and study data. We have to solve the problem of binary classification. We need to get features from text and determine whether comment is a toxic (negative) or not."
   ]
  },
  {
   "cell_type": "code",
   "execution_count": 4,
   "metadata": {},
   "outputs": [
    {
     "data": {
      "text/html": [
       "<div>\n",
       "<style scoped>\n",
       "    .dataframe tbody tr th:only-of-type {\n",
       "        vertical-align: middle;\n",
       "    }\n",
       "\n",
       "    .dataframe tbody tr th {\n",
       "        vertical-align: top;\n",
       "    }\n",
       "\n",
       "    .dataframe thead th {\n",
       "        text-align: right;\n",
       "    }\n",
       "</style>\n",
       "<table border=\"1\" class=\"dataframe\">\n",
       "  <thead>\n",
       "    <tr style=\"text-align: right;\">\n",
       "      <th></th>\n",
       "      <th>text</th>\n",
       "      <th>toxic</th>\n",
       "    </tr>\n",
       "  </thead>\n",
       "  <tbody>\n",
       "    <tr>\n",
       "      <th>0</th>\n",
       "      <td>Explanation\\nWhy the edits made under my usern...</td>\n",
       "      <td>0</td>\n",
       "    </tr>\n",
       "    <tr>\n",
       "      <th>1</th>\n",
       "      <td>D'aww! He matches this background colour I'm s...</td>\n",
       "      <td>0</td>\n",
       "    </tr>\n",
       "    <tr>\n",
       "      <th>2</th>\n",
       "      <td>Hey man, I'm really not trying to edit war. It...</td>\n",
       "      <td>0</td>\n",
       "    </tr>\n",
       "    <tr>\n",
       "      <th>3</th>\n",
       "      <td>\"\\nMore\\nI can't make any real suggestions on ...</td>\n",
       "      <td>0</td>\n",
       "    </tr>\n",
       "    <tr>\n",
       "      <th>4</th>\n",
       "      <td>You, sir, are my hero. Any chance you remember...</td>\n",
       "      <td>0</td>\n",
       "    </tr>\n",
       "  </tbody>\n",
       "</table>\n",
       "</div>"
      ],
      "text/plain": [
       "                                                text  toxic\n",
       "0  Explanation\\nWhy the edits made under my usern...      0\n",
       "1  D'aww! He matches this background colour I'm s...      0\n",
       "2  Hey man, I'm really not trying to edit war. It...      0\n",
       "3  \"\\nMore\\nI can't make any real suggestions on ...      0\n",
       "4  You, sir, are my hero. Any chance you remember...      0"
      ]
     },
     "metadata": {},
     "output_type": "display_data"
    }
   ],
   "source": [
    "try:\n",
    "    df = pd.read_csv('/Users/anshilina/Downloads/toxic_comments.csv').drop('Unnamed: 0', axis=1)\n",
    "except:\n",
    "    df = pd.read_csv('/datasets/toxic_comments.csv').drop('Unnamed: 0', axis=1)\n",
    "    \n",
    "display(df.head())"
   ]
  },
  {
   "cell_type": "code",
   "execution_count": 4,
   "metadata": {},
   "outputs": [
    {
     "name": "stdout",
     "output_type": "stream",
     "text": [
      "<class 'pandas.core.frame.DataFrame'>\n",
      "RangeIndex: 159292 entries, 0 to 159291\n",
      "Data columns (total 2 columns):\n",
      " #   Column  Non-Null Count   Dtype \n",
      "---  ------  --------------   ----- \n",
      " 0   text    159292 non-null  object\n",
      " 1   toxic   159292 non-null  int64 \n",
      "dtypes: int64(1), object(1)\n",
      "memory usage: 2.4+ MB\n"
     ]
    }
   ],
   "source": [
    "df.info()"
   ]
  },
  {
   "cell_type": "code",
   "execution_count": 5,
   "metadata": {},
   "outputs": [
    {
     "data": {
      "text/html": [
       "<div>\n",
       "<style scoped>\n",
       "    .dataframe tbody tr th:only-of-type {\n",
       "        vertical-align: middle;\n",
       "    }\n",
       "\n",
       "    .dataframe tbody tr th {\n",
       "        vertical-align: top;\n",
       "    }\n",
       "\n",
       "    .dataframe thead th {\n",
       "        text-align: right;\n",
       "    }\n",
       "</style>\n",
       "<table border=\"1\" class=\"dataframe\">\n",
       "  <thead>\n",
       "    <tr style=\"text-align: right;\">\n",
       "      <th></th>\n",
       "      <th>toxic</th>\n",
       "    </tr>\n",
       "  </thead>\n",
       "  <tbody>\n",
       "    <tr>\n",
       "      <th>count</th>\n",
       "      <td>159292.000000</td>\n",
       "    </tr>\n",
       "    <tr>\n",
       "      <th>mean</th>\n",
       "      <td>0.101612</td>\n",
       "    </tr>\n",
       "    <tr>\n",
       "      <th>std</th>\n",
       "      <td>0.302139</td>\n",
       "    </tr>\n",
       "    <tr>\n",
       "      <th>min</th>\n",
       "      <td>0.000000</td>\n",
       "    </tr>\n",
       "    <tr>\n",
       "      <th>25%</th>\n",
       "      <td>0.000000</td>\n",
       "    </tr>\n",
       "    <tr>\n",
       "      <th>50%</th>\n",
       "      <td>0.000000</td>\n",
       "    </tr>\n",
       "    <tr>\n",
       "      <th>75%</th>\n",
       "      <td>0.000000</td>\n",
       "    </tr>\n",
       "    <tr>\n",
       "      <th>max</th>\n",
       "      <td>1.000000</td>\n",
       "    </tr>\n",
       "  </tbody>\n",
       "</table>\n",
       "</div>"
      ],
      "text/plain": [
       "               toxic\n",
       "count  159292.000000\n",
       "mean        0.101612\n",
       "std         0.302139\n",
       "min         0.000000\n",
       "25%         0.000000\n",
       "50%         0.000000\n",
       "75%         0.000000\n",
       "max         1.000000"
      ]
     },
     "metadata": {},
     "output_type": "display_data"
    }
   ],
   "source": [
    "display(df.describe())"
   ]
  },
  {
   "cell_type": "markdown",
   "metadata": {},
   "source": [
    "There are no missing values and duplicates in data frame."
   ]
  },
  {
   "cell_type": "code",
   "execution_count": 5,
   "metadata": {},
   "outputs": [
    {
     "name": "stdout",
     "output_type": "stream",
     "text": [
      "Number of missing values: 0\n"
     ]
    }
   ],
   "source": [
    "print('Number of missing values:', df.isna().sum().sum())"
   ]
  },
  {
   "cell_type": "code",
   "execution_count": 6,
   "metadata": {},
   "outputs": [
    {
     "name": "stdout",
     "output_type": "stream",
     "text": [
      "Number of duplicates: 0\n"
     ]
    }
   ],
   "source": [
    "print('Number of duplicates:', df.duplicated().sum())"
   ]
  },
  {
   "cell_type": "markdown",
   "metadata": {},
   "source": [
    "Let's visualize distribution of the target variable. We can observe that classes are imbalanced - there are more positive comments than toxic ones. When fitting models, it is necessary to take into account the imbalance. To do this, we will use special parameters of the models."
   ]
  },
  {
   "cell_type": "code",
   "execution_count": 7,
   "metadata": {},
   "outputs": [
    {
     "data": {
      "image/png": "[encoded data removed]",
      "text/plain": [
       "<Figure size 360x360 with 1 Axes>"
      ]
     },
     "metadata": {
      "needs_background": "light"
     },
     "output_type": "display_data"
    }
   ],
   "source": [
    "plt.figure(figsize=(5,5))\n",
    "sns.barplot(data=df, x=df['toxic'].value_counts().index, y=df['toxic'].value_counts().values)\n",
    "plt.xlabel('Toxic comment lable')\n",
    "plt.ylabel('Number of observations')\n",
    "plt.title('Distribution of the target variable')\n",
    "plt.show()"
   ]
  },
  {
   "cell_type": "markdown",
   "metadata": {},
   "source": [
    "## Data preprocessing"
   ]
  },
  {
   "cell_type": "markdown",
   "metadata": {},
   "source": [
    "At the first stage, let's initialize tokenizer using which we will get tokens from texts."
   ]
  },
  {
   "cell_type": "code",
   "execution_count": 91,
   "metadata": {},
   "outputs": [],
   "source": [
    "tokenizer = transformers.BertTokenizer.from_pretrained('unitary/toxic-bert')"
   ]
  },
  {
   "cell_type": "markdown",
   "metadata": {},
   "source": [
    "We need to cut the sentences since BERT can deal with maximum 512 tokens. Therefore, for predicting label of the comment we cannot use the whole sentence and we will take only its first part (`max_length = 512`). We also add special tokens – the beginning and the end of the sentence."
   ]
  },
  {
   "cell_type": "code",
   "execution_count": 92,
   "metadata": {
    "tags": []
   },
   "outputs": [
    {
     "data": {
      "application/vnd.jupyter.widget-view+json": {
       "model_id": "abd8bbe4f37648e99ccc7870abcebf0d",
       "version_major": 2,
       "version_minor": 0
      },
      "text/plain": [
       "  0%|          | 0/159292 [00:00<?, ?it/s]"
      ]
     },
     "metadata": {},
     "output_type": "display_data"
    }
   ],
   "source": [
    "tokenized = []\n",
    "for i in notebook.tqdm(range(df['text'].shape[0])):\n",
    "    tokenized.append(tokenizer.encode(df['text'][i], max_length=512, truncation=True, add_special_tokens=True))"
   ]
  },
  {
   "cell_type": "code",
   "execution_count": 93,
   "metadata": {
    "tags": []
   },
   "outputs": [
    {
     "name": "stdout",
     "output_type": "stream",
     "text": [
      "First five tokens of the first text: [101, 7526, 2339, 1996, 10086]\n"
     ]
    }
   ],
   "source": [
    "print('First five tokens of the first text:', tokenized[0][:5])"
   ]
  },
  {
   "cell_type": "code",
   "execution_count": 94,
   "metadata": {},
   "outputs": [
    {
     "name": "stdout",
     "output_type": "stream",
     "text": [
      "Maximum length of the token: 512\n"
     ]
    }
   ],
   "source": [
    "max_vector = max(len(token) for token in tokenized)\n",
    "print('Maximum length of the token:', max_vector)"
   ]
  },
  {
   "cell_type": "code",
   "execution_count": 31,
   "metadata": {},
   "outputs": [],
   "source": [
    "padded = np.array([i + [0]*(max_vector - len(i)) for i in tokenized])"
   ]
  },
  {
   "cell_type": "markdown",
   "metadata": {},
   "source": [
    "Let's show to the model that zeros are insignificant tokens."
   ]
  },
  {
   "cell_type": "code",
   "execution_count": 32,
   "metadata": {},
   "outputs": [],
   "source": [
    "attention_mask = np.where(padded != 0, 1, 0)"
   ]
  },
  {
   "cell_type": "markdown",
   "metadata": {},
   "source": [
    "Next we initialize `BertConfig` configuration and `BertModel`. We will use pre-trained model and configuration `unitary/toxic-bert`."
   ]
  },
  {
   "cell_type": "code",
   "execution_count": 10,
   "metadata": {
    "collapsed": true,
    "jupyter": {
     "outputs_hidden": true
    },
    "tags": []
   },
   "outputs": [
    {
     "name": "stderr",
     "output_type": "stream",
     "text": [
      "Some weights of the model checkpoint at unitary/toxic-bert were not used when initializing BertModel: ['classifier.bias', 'classifier.weight']\n",
      "- This IS expected if you are initializing BertModel from the checkpoint of a model trained on another task or with another architecture (e.g. initializing a BertForSequenceClassification model from a BertForPreTraining model).\n",
      "- This IS NOT expected if you are initializing BertModel from the checkpoint of a model that you expect to be exactly identical (initializing a BertForSequenceClassification model from a BertForSequenceClassification model).\n"
     ]
    }
   ],
   "source": [
    "config = transformers.BertConfig.from_pretrained('unitary/toxic-bert')\n",
    "model = transformers.BertModel.from_pretrained('unitary/toxic-bert', config=config)"
   ]
  },
  {
   "cell_type": "markdown",
   "metadata": {},
   "source": [
    "Let's use only part of the data and get embeddings. "
   ]
  },
  {
   "cell_type": "code",
   "execution_count": 72,
   "metadata": {
    "tags": []
   },
   "outputs": [],
   "source": [
    "idx = np.random.randint(padded.shape[0], size=4000)\n",
    "padded = padded[idx, :]\n",
    "df_new = df.iloc[idx].copy()"
   ]
  },
  {
   "cell_type": "code",
   "execution_count": null,
   "metadata": {
    "tags": []
   },
   "outputs": [
    {
     "data": {
      "application/vnd.jupyter.widget-view+json": {
       "model_id": "d107a13599e1472599d0fcc1da75b88f",
       "version_major": 2,
       "version_minor": 0
      },
      "text/plain": [
       "  0%|          | 0/800 [00:00<?, ?it/s]"
      ]
     },
     "metadata": {},
     "output_type": "display_data"
    }
   ],
   "source": [
    "batch_size = 5\n",
    "embeddings = []\n",
    "\n",
    "for i in notebook.tqdm(range(padded.shape[0] // batch_size)):\n",
    "    \n",
    "    batch = torch.LongTensor(padded[batch_size*i:batch_size*(i+1)])\n",
    "    attention_mask_batch = torch.LongTensor(attention_mask[batch_size*i:batch_size*(i+1)]) \n",
    "    \n",
    "    with torch.no_grad():\n",
    "        batch_embeddings = model(batch, attention_mask=attention_mask_batch)\n",
    "    embeddings.append(batch_embeddings[0][:,0,:].numpy()) "
   ]
  },
  {
   "cell_type": "code",
   "execution_count": 64,
   "metadata": {},
   "outputs": [],
   "source": [
    "features = np.concatenate(embeddings)\n",
    "train_features, test_features, train_target, test_target = train_test_split(\n",
    "    features, df_new['toxic'], test_size=0.1, shuffle=True)"
   ]
  },
  {
   "cell_type": "markdown",
   "metadata": {},
   "source": [
    "## Model fitting"
   ]
  },
  {
   "cell_type": "markdown",
   "metadata": {},
   "source": [
    "We will fit Logistic Regression, Random Rorest Classifier, CatBoost, LightGBM, and XGBoost models. We will consider Decision Tree Classifier as the baseline and will compare quality of predictions made by other classifiers with its."
   ]
  },
  {
   "cell_type": "markdown",
   "metadata": {},
   "source": [
    "Let's use stratified division into folds for searching parameters and fitting model. In other words, on cross-validation, we will divide data into a train and validation sample, taking into account the initial proportion of classes."
   ]
  },
  {
   "cell_type": "code",
   "execution_count": 66,
   "metadata": {},
   "outputs": [],
   "source": [
    "k_fold = StratifiedKFold(n_splits=5, shuffle=True, random_state=42)"
   ]
  },
  {
   "cell_type": "markdown",
   "metadata": {},
   "source": [
    "We use the `class_weight` parameter to deal with imbalance."
   ]
  },
  {
   "cell_type": "markdown",
   "metadata": {},
   "source": [
    "### Decision Tree Classifier"
   ]
  },
  {
   "cell_type": "code",
   "execution_count": 67,
   "metadata": {},
   "outputs": [],
   "source": [
    "tree_model = DecisionTreeClassifier(random_state=42, class_weight='balanced')\n",
    "tree_params = {\n",
    "    'max_depth' : range(2, 13, 2),\n",
    "    'min_samples_leaf' : range(1, 5),\n",
    "    'min_samples_split': range(2, 10, 2),\n",
    "}\n",
    "tree_model = GridSearchCV(tree_model, param_grid=tree_params, cv=k_fold, scoring='f1', n_jobs=-1)"
   ]
  },
  {
   "cell_type": "code",
   "execution_count": 68,
   "metadata": {
    "tags": []
   },
   "outputs": [],
   "source": [
    "tree_start = time.time()\n",
    "tree_model.fit(train_features, train_target)\n",
    "tree_grid_time = time.time() - tree_start"
   ]
  },
  {
   "cell_type": "code",
   "execution_count": 69,
   "metadata": {},
   "outputs": [
    {
     "name": "stdout",
     "output_type": "stream",
     "text": [
      "Results of grid search.\n",
      "\n",
      "Grid search time: 2.47 min\n",
      "Fitting time: 3.19986 s\n",
      "Prediction time: 0.01463 s\n",
      "Best parameters: {'max_depth': 12, 'min_samples_leaf': 1, 'min_samples_split': 6}\n",
      "F1 on cross-validation:0.3874470345462332\n"
     ]
    }
   ],
   "source": [
    "print('Results of grid search.\\n')\n",
    "print(f'Grid search time: {round(tree_grid_time/60, 2)} min')\n",
    "print(f'Fitting time: {round(tree_model.cv_results_[\"mean_fit_time\"][tree_model.best_index_], 5)} s')\n",
    "print(f'Prediction time: {round(tree_model.cv_results_[\"mean_score_time\"][tree_model.best_index_], 5)} s')\n",
    "print(f'Best parameters: {tree_model.best_params_}')\n",
    "print(f'F1 on cross-validation:{tree_model.best_score_}')"
   ]
  },
  {
   "cell_type": "markdown",
   "metadata": {},
   "source": [
    "### Logistic Regression"
   ]
  },
  {
   "cell_type": "code",
   "execution_count": 70,
   "metadata": {
    "tags": []
   },
   "outputs": [],
   "source": [
    "log_model = LogisticRegression(solver='liblinear', class_weight='balanced')\n",
    "log_params = {\n",
    "    'C':range(5,25,5),\n",
    "}\n",
    "log_model = GridSearchCV(log_model, param_grid=log_params, cv=k_fold, scoring='f1', n_jobs=-1)"
   ]
  },
  {
   "cell_type": "code",
   "execution_count": 71,
   "metadata": {},
   "outputs": [],
   "source": [
    "log_start = time.time()\n",
    "log_model.fit(train_features, train_target)\n",
    "log_grid_time = time.time() - log_start"
   ]
  },
  {
   "cell_type": "code",
   "execution_count": 72,
   "metadata": {},
   "outputs": [
    {
     "name": "stdout",
     "output_type": "stream",
     "text": [
      "Results of grid search.\n",
      "\n",
      "Grid search time: 23.35 s\n",
      "Fitting time: 4.76468 s\n",
      "Prediction time: 0.01382 s\n",
      "Best parameters: {'C': 20}\n",
      "F1 on cross-validation:0.6482478870719257\n"
     ]
    }
   ],
   "source": [
    "print('Results of grid search.\\n')\n",
    "print(f'Grid search time: {round(log_grid_time, 2)} s')\n",
    "print(f'Fitting time: {round(log_model.cv_results_[\"mean_fit_time\"][log_model.best_index_], 5)} s')\n",
    "print(f'Prediction time: {round(log_model.cv_results_[\"mean_score_time\"][log_model.best_index_], 5)} s')\n",
    "print(f'Best parameters: {log_model.best_params_}')\n",
    "print(f'F1 on cross-validation:{log_model.best_score_}')"
   ]
  },
  {
   "cell_type": "markdown",
   "metadata": {},
   "source": [
    "### Random Forest Classifier"
   ]
  },
  {
   "cell_type": "code",
   "execution_count": 73,
   "metadata": {},
   "outputs": [],
   "source": [
    "forest_model = RandomForestClassifier(random_state=42, class_weight='balanced')\n",
    "forest_params = {\n",
    "    'max_depth' : range(5, 10, 1),\n",
    "    'n_estimators': range(10, 50, 10),\n",
    "}\n",
    "forest_model = GridSearchCV(forest_model, param_grid=forest_params, cv=k_fold, scoring='f1', n_jobs=-1)"
   ]
  },
  {
   "cell_type": "code",
   "execution_count": 74,
   "metadata": {},
   "outputs": [],
   "source": [
    "forest_start = time.time()\n",
    "forest_model.fit(train_features, train_target)\n",
    "forest_grid_time = time.time() - forest_start"
   ]
  },
  {
   "cell_type": "code",
   "execution_count": 75,
   "metadata": {},
   "outputs": [
    {
     "name": "stdout",
     "output_type": "stream",
     "text": [
      "Results of grid search.\n",
      "\n",
      "Grid search time: 22.27 s\n",
      "Fitting time: 1.95162 s\n",
      "Prediction time: 0.02507 s\n",
      "Best parameters: {'max_depth': 8, 'n_estimators': 30}\n",
      "F1 on cross-validation: 0.4521852425849041\n"
     ]
    }
   ],
   "source": [
    "print('Results of grid search.\\n')\n",
    "print(f'Grid search time: {round(forest_grid_time, 2)} s')\n",
    "print(f'Fitting time: {round(forest_model.cv_results_[\"mean_fit_time\"][forest_model.best_index_], 5)} s')\n",
    "print(f'Prediction time: {round(forest_model.cv_results_[\"mean_score_time\"][forest_model.best_index_], 5)} s')\n",
    "print(f'Best parameters: {forest_model.best_params_}')\n",
    "print(f'F1 on cross-validation: {forest_model.best_score_}')"
   ]
  },
  {
   "cell_type": "markdown",
   "metadata": {},
   "source": [
    "Next we fit gradient boosting models. Firstly, we calculate weights of each class that we will use in models to solve the imbalance problem while fitting Cat Boost and LightGBM."
   ]
  },
  {
   "cell_type": "code",
   "execution_count": 31,
   "metadata": {},
   "outputs": [],
   "source": [
    "classes = np.unique(train_target)\n",
    "weights = compute_class_weight(class_weight='balanced', classes=classes, y=train_target)\n",
    "class_weights = dict(zip(classes, weights))"
   ]
  },
  {
   "cell_type": "markdown",
   "metadata": {},
   "source": [
    "### Cat Boost Classifier"
   ]
  },
  {
   "cell_type": "code",
   "execution_count": 76,
   "metadata": {},
   "outputs": [],
   "source": [
    "cat_model = CatBoostClassifier(class_weights=class_weights, random_seed=42, loss_function='Logloss', silent=True)"
   ]
  },
  {
   "cell_type": "code",
   "execution_count": 77,
   "metadata": {},
   "outputs": [],
   "source": [
    "cat_start = time.time()\n",
    "cat_model.fit(train_features, train_target)\n",
    "cat_fit_time = time.time() - cat_start"
   ]
  },
  {
   "cell_type": "code",
   "execution_count": 78,
   "metadata": {},
   "outputs": [],
   "source": [
    "cat_start = time.time()\n",
    "cat_model.predict(train_features)\n",
    "cat_pred_time = time.time() - cat_start"
   ]
  },
  {
   "cell_type": "code",
   "execution_count": 79,
   "metadata": {},
   "outputs": [
    {
     "name": "stdout",
     "output_type": "stream",
     "text": [
      "Fitting results.\n",
      "\n",
      "Fitting time: 1.23192 min\n",
      "Prediction time: 0.03911 s\n",
      "F1 on validation: 0.6684534465595489\n"
     ]
    }
   ],
   "source": [
    "print('Fitting results.\\n')\n",
    "print(f'Fitting time: {round(cat_fit_time/60, 5)} min')\n",
    "print(f'Prediction time: {round(cat_pred_time, 5)} s')\n",
    "print('F1 on validation:', np.mean(cross_val_score(\n",
    "    cat_model, train_features, train_target, cv=k_fold, scoring='f1', n_jobs=-1)))"
   ]
  },
  {
   "cell_type": "markdown",
   "metadata": {},
   "source": [
    "### LGBM Classifier"
   ]
  },
  {
   "cell_type": "code",
   "execution_count": 80,
   "metadata": {},
   "outputs": [],
   "source": [
    "lgbm_model = LGBMClassifier(class_weight=class_weights, random_state=42, n_jobs=-1)\n",
    "lgbm_params = {\n",
    "    'learning_rate': [0.03, 0.1],\n",
    "    'n_estimators': range(80, 100, 5),\n",
    "}\n",
    "lgbm_model = GridSearchCV(lgbm_model, param_grid=lgbm_params, cv=k_fold, scoring='f1', n_jobs=-1)"
   ]
  },
  {
   "cell_type": "code",
   "execution_count": 81,
   "metadata": {},
   "outputs": [],
   "source": [
    "lgbm_start = time.time()\n",
    "lgbm_model.fit(train_features, train_target)\n",
    "lgbm_search_time = time.time() - lgbm_start"
   ]
  },
  {
   "cell_type": "code",
   "execution_count": 82,
   "metadata": {},
   "outputs": [
    {
     "name": "stdout",
     "output_type": "stream",
     "text": [
      "Results of grid search.\n",
      "\n",
      "Grid search time: 1.68 min\n",
      "Fitting time: 16.68016 s\n",
      "Prediction time: 0.04402 s\n",
      "Best parameters: {'learning_rate': 0.1, 'n_estimators': 80}\n",
      "F1 on cross-validation: 0.6432649154554059\n"
     ]
    }
   ],
   "source": [
    "print('Results of grid search.\\n')\n",
    "print(f'Grid search time: {round(lgbm_search_time/60, 2)} min')\n",
    "print(f'Fitting time: {round(lgbm_model.cv_results_[\"mean_fit_time\"][lgbm_model.best_index_], 5)} s')\n",
    "print(f'Prediction time: {round(lgbm_model.cv_results_[\"mean_score_time\"][lgbm_model.best_index_], 5)} s')\n",
    "print(f'Best parameters: {lgbm_model.best_params_}')\n",
    "print(f'F1 on cross-validation: {lgbm_model.best_score_}')"
   ]
  },
  {
   "cell_type": "markdown",
   "metadata": {},
   "source": [
    "### XGBoost Classifier"
   ]
  },
  {
   "cell_type": "code",
   "execution_count": 83,
   "metadata": {},
   "outputs": [],
   "source": [
    "xgb_class_weight = float(np.sum(train_target == 0) / np.sum(train_target == 1))"
   ]
  },
  {
   "cell_type": "code",
   "execution_count": 84,
   "metadata": {},
   "outputs": [],
   "source": [
    "xgb_model = XGBClassifier(random_state=42, n_jobs=-1, scale_pos_weight=xgb_class_weight)\n",
    "xgb_params = {\n",
    "    'max_depth': range(6,10,2),\n",
    "    'n_estimators': range(50,90,10),\n",
    "}\n",
    "xgb_model = GridSearchCV(xgb_model, param_grid=xgb_params, cv=k_fold, scoring='f1', n_jobs=-1)"
   ]
  },
  {
   "cell_type": "code",
   "execution_count": 85,
   "metadata": {},
   "outputs": [],
   "source": [
    "xgb_start = time.time()\n",
    "xgb_model.fit(train_features, train_target)\n",
    "xgb_search_time = time.time() - xgb_start"
   ]
  },
  {
   "cell_type": "code",
   "execution_count": 87,
   "metadata": {},
   "outputs": [
    {
     "name": "stdout",
     "output_type": "stream",
     "text": [
      "Results of grid search.\n",
      "\n",
      "Grid search time: 4.46 min\n",
      "Fitting time: 55.62909 s\n",
      "Prediction time: 0.10823 s\n",
      "Best parameters: {'max_depth': 6, 'n_estimators': 80}\n",
      "F1 on cross-validation: 0.6248082911885103\n"
     ]
    }
   ],
   "source": [
    "print('Results of grid search.\\n')\n",
    "print(f'Grid search time: {round(xgb_search_time/60, 2)} min')\n",
    "print(f'Fitting time: {round(xgb_model.cv_results_[\"mean_fit_time\"][xgb_model.best_index_], 5)} s')\n",
    "print(f'Prediction time: {round(xgb_model.cv_results_[\"mean_score_time\"][xgb_model.best_index_], 5)} s')\n",
    "print(f'Best parameters: {xgb_model.best_params_}')\n",
    "print(f'F1 on cross-validation:', xgb_model.best_score_)"
   ]
  },
  {
   "cell_type": "markdown",
   "metadata": {},
   "source": [
    "**Summary:** CatBoost Classifier showed the best results on cross validation, although its learning rate is the slowest. Summary of the results are presented in the table.\n",
    "\n",
    "|Model|Fitting time|Prediction time| F1 score|\n",
    "|:---|:---|:---|:---|\n",
    "|CatBoost |1.2 min|0.04 s|0.69|\n",
    "|Logistic regression |4.8 s|0.01 s|0.65|\n",
    "|LightGBM |16.7 s|0.04 s|0.64|\n",
    "|XGBoost |55.6 s|0.11 s|0.62|\n",
    "|Random Forest |2 s|0.02 s|0.45|\n",
    "|Decision Tree |3.2 s|0.01 s|0.39|"
   ]
  },
  {
   "cell_type": "markdown",
   "metadata": {},
   "source": [
    "## Model testing"
   ]
  },
  {
   "cell_type": "code",
   "execution_count": 88,
   "metadata": {},
   "outputs": [
    {
     "name": "stdout",
     "output_type": "stream",
     "text": [
      "Predictions of the CatBoost classifier on the test sample.\n",
      "\n",
      "F1 score on test: 0.85\n"
     ]
    }
   ],
   "source": [
    "print('Predictions of the CatBoost classifier on the test sample.\\n')\n",
    "print('F1 score on test:', f1_score(test_target, cat_model.predict(test_features)))"
   ]
  },
  {
   "cell_type": "code",
   "execution_count": 89,
   "metadata": {},
   "outputs": [
    {
     "name": "stdout",
     "output_type": "stream",
     "text": [
      "AUC-ROC: 0.9574334898278559\n"
     ]
    }
   ],
   "source": [
    "proba_test = cat_model.predict_proba(test_features)[:,1]\n",
    "print('AUC-ROC:', roc_auc_score(test_target, proba_test))"
   ]
  },
  {
   "cell_type": "code",
   "execution_count": 90,
   "metadata": {},
   "outputs": [
    {
     "data": {
      "image/png": "[encoded data removed]",
      "text/plain": [
       "<Figure size 360x360 with 1 Axes>"
      ]
     },
     "metadata": {
      "needs_background": "light"
     },
     "output_type": "display_data"
    }
   ],
   "source": [
    "fpr, tpr, treshold = roc_curve(test_target, proba_test)\n",
    "roc_auc = auc(fpr, tpr)\n",
    "\n",
    "plt.figure(figsize=(5,5))\n",
    "plt.plot(fpr, tpr, color='darkorange',\n",
    "         label='ROC curve (area = %0.2f)' % roc_auc)\n",
    "plt.plot([0, 1], [0, 1], color='navy', linestyle='--')\n",
    "plt.xlim([0.0, 1.0])\n",
    "plt.ylim([0.0, 1.05])\n",
    "plt.xlabel('False Positive Rate')\n",
    "plt.ylabel('True Positive Rate')\n",
    "plt.title('ROC curve')\n",
    "plt.legend(loc=\"lower right\")\n",
    "plt.grid()\n",
    "plt.show()"
   ]
  },
  {
   "cell_type": "markdown",
   "metadata": {},
   "source": [
    "## Conclusion"
   ]
  },
  {
   "cell_type": "markdown",
   "metadata": {},
   "source": [
    "In this project, we classified comments into toxic and non-toxic. The target quality of the prediction model was achieved - the quality on the test sample (F1 score) is 0.85.\n",
    "\n",
    "At the first stage, we obtained features from the text. Words in texts were tokenized. Then, we got embeddings using BERT model (toxic bert classification). While preprocessin data, we discovered imbalance of the classes - there are more non-toxic comments than toxic ones. We tried to overcome this problem by setting the appropriate parameters of the models.\n",
    "\n",
    "Finally, we fitted six models - Decision Tree Classifier, Random Forest Classifier, Logistic Regression, and gradient boosting models: CatBoost, LightGBM, XGBoost. We compared the quality of those models and their learning rate and prediction time. As the result, **CatBoost Classifier** was chosen as the final model and we suggest to use it to detect toxic comments."
   ]
  }
 ],
 "metadata": {
  "kernelspec": {
   "display_name": "Python 3 (ipykernel)",
   "language": "python",
   "name": "python3"
  },
  "language_info": {
   "codemirror_mode": {
    "name": "ipython",
    "version": 3
   },
   "file_extension": ".py",
   "mimetype": "text/x-python",
   "name": "python",
   "nbconvert_exporter": "python",
   "pygments_lexer": "ipython3",
   "version": "3.9.12"
  },
  "toc": {
   "base_numbering": 1,
   "nav_menu": {},
   "number_sections": true,
   "sideBar": true,
   "skip_h1_title": true,
   "title_cell": "Содержание",
   "title_sidebar": "Contents",
   "toc_cell": true,
   "toc_position": {
    "height": "calc(100% - 180px)",
    "left": "10px",
    "top": "150px",
    "width": "302.391px"
   },
   "toc_section_display": true,
   "toc_window_display": false
  }
 },
 "nbformat": 4,
 "nbformat_minor": 4
}
