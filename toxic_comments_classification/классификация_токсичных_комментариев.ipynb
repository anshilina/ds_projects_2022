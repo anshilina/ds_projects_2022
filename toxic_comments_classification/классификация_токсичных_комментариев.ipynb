{
 "cells": [
  {
   "cell_type": "markdown",
   "metadata": {},
   "source": [
    "# Классификация токсичных комментариев для интернет-магазина"
   ]
  },
  {
   "cell_type": "code",
   "execution_count": 23,
   "metadata": {
    "collapsed": true,
    "jupyter": {
     "outputs_hidden": true
    },
    "tags": []
   },
   "outputs": [
    {
     "name": "stderr",
     "output_type": "stream",
     "text": [
      "[nltk_data] Downloading package stopwords to\n",
      "[nltk_data]     /Users/anshilina/nltk_data...\n",
      "[nltk_data]   Package stopwords is already up-to-date!\n"
     ]
    }
   ],
   "source": [
    "import pandas as pd\n",
    "import numpy as np \n",
    "np.random.seed(seed=42)\n",
    "import time\n",
    "import re\n",
    "\n",
    "import nltk\n",
    "from nltk.corpus import stopwords\n",
    "nltk.download('stopwords')\n",
    "\n",
    "import spacy\n",
    "\n",
    "from sklearn.feature_extraction.text import TfidfVectorizer\n",
    "from sklearn.model_selection import train_test_split, GridSearchCV, RandomizedSearchCV, cross_val_score\n",
    "from sklearn.tree import DecisionTreeClassifier\n",
    "from sklearn.linear_model import LogisticRegression\n",
    "from sklearn.ensemble import RandomForestClassifier\n",
    "from sklearn.utils.class_weight import compute_class_weight\n",
    "from sklearn.metrics import f1_score, roc_auc_score, roc_curve, auc, precision_recall_curve\n",
    "from sklearn.pipeline import Pipeline\n",
    "\n",
    "from lightgbm import LGBMClassifier\n",
    "from catboost import CatBoostClassifier\n",
    "from xgboost import XGBClassifier\n",
    "\n",
    "from IPython.display import display\n",
    "import pprint\n",
    "import matplotlib.pyplot as plt\n",
    "import seaborn as sns"
   ]
  },
  {
   "cell_type": "markdown",
   "metadata": {},
   "source": [
    "Импортируем и изучим данные. Нам предстоит решить задачу бинарной классификации. Необходимо выделить признаки из текста и определить, является ли он токсичным (негативным) комментарием или нет. "
   ]
  },
  {
   "cell_type": "code",
   "execution_count": 3,
   "metadata": {},
   "outputs": [
    {
     "data": {
      "text/html": [
       "<div>\n",
       "<style scoped>\n",
       "    .dataframe tbody tr th:only-of-type {\n",
       "        vertical-align: middle;\n",
       "    }\n",
       "\n",
       "    .dataframe tbody tr th {\n",
       "        vertical-align: top;\n",
       "    }\n",
       "\n",
       "    .dataframe thead th {\n",
       "        text-align: right;\n",
       "    }\n",
       "</style>\n",
       "<table border=\"1\" class=\"dataframe\">\n",
       "  <thead>\n",
       "    <tr style=\"text-align: right;\">\n",
       "      <th></th>\n",
       "      <th>text</th>\n",
       "      <th>toxic</th>\n",
       "    </tr>\n",
       "  </thead>\n",
       "  <tbody>\n",
       "    <tr>\n",
       "      <th>0</th>\n",
       "      <td>Explanation\\nWhy the edits made under my usern...</td>\n",
       "      <td>0</td>\n",
       "    </tr>\n",
       "    <tr>\n",
       "      <th>1</th>\n",
       "      <td>D'aww! He matches this background colour I'm s...</td>\n",
       "      <td>0</td>\n",
       "    </tr>\n",
       "    <tr>\n",
       "      <th>2</th>\n",
       "      <td>Hey man, I'm really not trying to edit war. It...</td>\n",
       "      <td>0</td>\n",
       "    </tr>\n",
       "    <tr>\n",
       "      <th>3</th>\n",
       "      <td>\"\\nMore\\nI can't make any real suggestions on ...</td>\n",
       "      <td>0</td>\n",
       "    </tr>\n",
       "    <tr>\n",
       "      <th>4</th>\n",
       "      <td>You, sir, are my hero. Any chance you remember...</td>\n",
       "      <td>0</td>\n",
       "    </tr>\n",
       "  </tbody>\n",
       "</table>\n",
       "</div>"
      ],
      "text/plain": [
       "                                                text  toxic\n",
       "0  Explanation\\nWhy the edits made under my usern...      0\n",
       "1  D'aww! He matches this background colour I'm s...      0\n",
       "2  Hey man, I'm really not trying to edit war. It...      0\n",
       "3  \"\\nMore\\nI can't make any real suggestions on ...      0\n",
       "4  You, sir, are my hero. Any chance you remember...      0"
      ]
     },
     "metadata": {},
     "output_type": "display_data"
    }
   ],
   "source": [
    "try:\n",
    "    df = pd.read_csv('toxic_comments.csv').drop('Unnamed: 0', axis=1)\n",
    "except:\n",
    "    df = pd.read_csv('/datasets/toxic_comments.csv').drop('Unnamed: 0', axis=1)\n",
    "    \n",
    "display(df.head())"
   ]
  },
  {
   "cell_type": "code",
   "execution_count": 4,
   "metadata": {},
   "outputs": [
    {
     "name": "stdout",
     "output_type": "stream",
     "text": [
      "<class 'pandas.core.frame.DataFrame'>\n",
      "RangeIndex: 159292 entries, 0 to 159291\n",
      "Data columns (total 2 columns):\n",
      " #   Column  Non-Null Count   Dtype \n",
      "---  ------  --------------   ----- \n",
      " 0   text    159292 non-null  object\n",
      " 1   toxic   159292 non-null  int64 \n",
      "dtypes: int64(1), object(1)\n",
      "memory usage: 2.4+ MB\n"
     ]
    }
   ],
   "source": [
    "df.info()"
   ]
  },
  {
   "cell_type": "code",
   "execution_count": 5,
   "metadata": {},
   "outputs": [
    {
     "data": {
      "text/html": [
       "<div>\n",
       "<style scoped>\n",
       "    .dataframe tbody tr th:only-of-type {\n",
       "        vertical-align: middle;\n",
       "    }\n",
       "\n",
       "    .dataframe tbody tr th {\n",
       "        vertical-align: top;\n",
       "    }\n",
       "\n",
       "    .dataframe thead th {\n",
       "        text-align: right;\n",
       "    }\n",
       "</style>\n",
       "<table border=\"1\" class=\"dataframe\">\n",
       "  <thead>\n",
       "    <tr style=\"text-align: right;\">\n",
       "      <th></th>\n",
       "      <th>toxic</th>\n",
       "    </tr>\n",
       "  </thead>\n",
       "  <tbody>\n",
       "    <tr>\n",
       "      <th>count</th>\n",
       "      <td>159292.000000</td>\n",
       "    </tr>\n",
       "    <tr>\n",
       "      <th>mean</th>\n",
       "      <td>0.101612</td>\n",
       "    </tr>\n",
       "    <tr>\n",
       "      <th>std</th>\n",
       "      <td>0.302139</td>\n",
       "    </tr>\n",
       "    <tr>\n",
       "      <th>min</th>\n",
       "      <td>0.000000</td>\n",
       "    </tr>\n",
       "    <tr>\n",
       "      <th>25%</th>\n",
       "      <td>0.000000</td>\n",
       "    </tr>\n",
       "    <tr>\n",
       "      <th>50%</th>\n",
       "      <td>0.000000</td>\n",
       "    </tr>\n",
       "    <tr>\n",
       "      <th>75%</th>\n",
       "      <td>0.000000</td>\n",
       "    </tr>\n",
       "    <tr>\n",
       "      <th>max</th>\n",
       "      <td>1.000000</td>\n",
       "    </tr>\n",
       "  </tbody>\n",
       "</table>\n",
       "</div>"
      ],
      "text/plain": [
       "               toxic\n",
       "count  159292.000000\n",
       "mean        0.101612\n",
       "std         0.302139\n",
       "min         0.000000\n",
       "25%         0.000000\n",
       "50%         0.000000\n",
       "75%         0.000000\n",
       "max         1.000000"
      ]
     },
     "metadata": {},
     "output_type": "display_data"
    }
   ],
   "source": [
    "display(df.describe())"
   ]
  },
  {
   "cell_type": "markdown",
   "metadata": {},
   "source": [
    "Пропусков в данных нет, дубликаты также отсутствуют. "
   ]
  },
  {
   "cell_type": "code",
   "execution_count": 6,
   "metadata": {},
   "outputs": [
    {
     "name": "stdout",
     "output_type": "stream",
     "text": [
      "Количество пропусков: 0\n"
     ]
    }
   ],
   "source": [
    "print('Количество пропусков:', df.isna().sum().sum())"
   ]
  },
  {
   "cell_type": "code",
   "execution_count": 7,
   "metadata": {},
   "outputs": [
    {
     "name": "stdout",
     "output_type": "stream",
     "text": [
      "Количество дубликатов: 0\n"
     ]
    }
   ],
   "source": [
    "print('Количество дубликатов:', df.duplicated().sum())"
   ]
  },
  {
   "cell_type": "markdown",
   "metadata": {},
   "source": [
    "Визуализируем распределение зависимой переменной. Мы можем наблюдать дисбаланс в классах – в выборке больше комментариев, которые не являются токсичными. При моделировании необходимо учесть дисбаланс. Для этого мы будем использовать специальные параметры моделей. "
   ]
  },
  {
   "cell_type": "code",
   "execution_count": 8,
   "metadata": {},
   "outputs": [
    {
     "data": {
      "image/png": "[encoded data removed]",
      "text/plain": [
       "<Figure size 360x360 with 1 Axes>"
      ]
     },
     "metadata": {
      "needs_background": "light"
     },
     "output_type": "display_data"
    }
   ],
   "source": [
    "plt.figure(figsize=(5,5))\n",
    "sns.barplot(data=df, x=df['toxic'].value_counts().index, y=df['toxic'].value_counts().values)\n",
    "plt.xlabel('Токсичный комментарий')\n",
    "plt.ylabel('Число наблюдений')\n",
    "plt.title('Распределение зависимой переменной\\n (токсичный комментарий)')\n",
    "plt.show()"
   ]
  },
  {
   "cell_type": "markdown",
   "metadata": {},
   "source": [
    "## Подготовка"
   ]
  },
  {
   "cell_type": "markdown",
   "metadata": {},
   "source": [
    "На первом шаге избавимся от всех ненужных символов кроме букв."
   ]
  },
  {
   "cell_type": "code",
   "execution_count": 9,
   "metadata": {},
   "outputs": [],
   "source": [
    "df['text'] = df['text'].apply(lambda row: \"\".join(re.sub(r'[^a-zA-Z\\' ]', ' ', row)))"
   ]
  },
  {
   "cell_type": "markdown",
   "metadata": {},
   "source": [
    "Далее лемматизируем слова в предложениях. Для этого будем использовать библиотеку `spacy`."
   ]
  },
  {
   "cell_type": "code",
   "execution_count": 10,
   "metadata": {},
   "outputs": [
    {
     "data": {
      "text/plain": [
       "['tok2vec', 'tagger', 'parser', 'attribute_ruler', 'lemmatizer', 'ner']"
      ]
     },
     "metadata": {},
     "output_type": "display_data"
    }
   ],
   "source": [
    "spacy_model = spacy.load('en_core_web_sm')\n",
    "display(spacy_model.pipe_names)"
   ]
  },
  {
   "cell_type": "code",
   "execution_count": 11,
   "metadata": {},
   "outputs": [],
   "source": [
    "disabled_pipes = ['parser', 'ner']\n",
    "spacy_model = spacy.load('en_core_web_sm', disable=disabled_pipes)"
   ]
  },
  {
   "cell_type": "code",
   "execution_count": 12,
   "metadata": {
    "tags": []
   },
   "outputs": [],
   "source": [
    "df['text'] = df['text'].apply(lambda row: \" \".join([word.lemma_ for word in spacy_model(row)]))"
   ]
  },
  {
   "cell_type": "markdown",
   "metadata": {},
   "source": [
    "Избавимся от лишних пропусков и приведем слова к нижнему регистру."
   ]
  },
  {
   "cell_type": "code",
   "execution_count": 13,
   "metadata": {},
   "outputs": [],
   "source": [
    "df['text'] = df['text'].apply(lambda row: ' '.join(row.split()).lower())"
   ]
  },
  {
   "cell_type": "code",
   "execution_count": 14,
   "metadata": {},
   "outputs": [
    {
     "data": {
      "text/plain": [
       "0    explanation why the edit make under my usernam...\n",
       "1    d'aww he match this background colour i be see...\n",
       "2    hey man i be really not try to edit war it be ...\n",
       "3    more i can not make any real suggestion on imp...\n",
       "4    you sir be my hero any chance you remember wha...\n",
       "Name: text, dtype: object"
      ]
     },
     "metadata": {},
     "output_type": "display_data"
    }
   ],
   "source": [
    "display(df['text'].head())"
   ]
  },
  {
   "cell_type": "markdown",
   "metadata": {},
   "source": [
    "Далее выгрузим стоп-слова, которые будем исключать при векторизации слов. Для приведения слов к векторам будем использовать `TfidfVectorizer`."
   ]
  },
  {
   "cell_type": "code",
   "execution_count": 15,
   "metadata": {},
   "outputs": [],
   "source": [
    "stop_words = set(stopwords.words('english')) \n",
    "vectorizer_pipe = Pipeline([(\"vect\", TfidfVectorizer(stop_words=stop_words))])"
   ]
  },
  {
   "cell_type": "markdown",
   "metadata": {},
   "source": [
    "Разделим выбоку на тренировочную, валидационную и тестовую."
   ]
  },
  {
   "cell_type": "code",
   "execution_count": 17,
   "metadata": {},
   "outputs": [],
   "source": [
    "features = df['text']\n",
    "target = df['toxic']\n",
    "\n",
    "features_train, features_test, target_train, target_test = train_test_split(\n",
    "    features, target, test_size=0.1, shuffle=True, random_state=42)\n",
    "\n",
    "features_train, features_valid, target_train, target_valid = train_test_split(\n",
    "    features_train, target_train, test_size=0.1, shuffle=True, stratify=target_train, random_state=42)"
   ]
  },
  {
   "cell_type": "code",
   "execution_count": 18,
   "metadata": {},
   "outputs": [
    {
     "data": {
      "text/plain": [
       "0    14314\n",
       "1     1616\n",
       "Name: toxic, dtype: int64"
      ]
     },
     "execution_count": 18,
     "metadata": {},
     "output_type": "execute_result"
    }
   ],
   "source": [
    "target_test.value_counts()"
   ]
  },
  {
   "cell_type": "markdown",
   "metadata": {},
   "source": [
    "## Обучение"
   ]
  },
  {
   "cell_type": "markdown",
   "metadata": {},
   "source": [
    "Обучим модели логистической регрессии, случайного леса, CatBoost, LightGBM, XGBoost. Модель дерева решений рассмотрим в качестве базовой – будем сравнивать с ней значения других классификаторов. Подберем вероятностный порог, чтобы получить низкий уровень false positive ответов и высокий уровень true positive ответов."
   ]
  },
  {
   "cell_type": "markdown",
   "metadata": {},
   "source": [
    "### Дерево решений"
   ]
  },
  {
   "cell_type": "markdown",
   "metadata": {},
   "source": [
    "Используем параметр `class_weight` для борьбы с дисбалансом. "
   ]
  },
  {
   "cell_type": "code",
   "execution_count": 19,
   "metadata": {},
   "outputs": [],
   "source": [
    "tree_model = Pipeline([\n",
    "    ('vectorizer', vectorizer_pipe),\n",
    "    ('tree', DecisionTreeClassifier(random_state=42, class_weight='balanced'))\n",
    "])\n",
    "tree_params = {'tree__max_depth' : range(2, 13, 2)}\n",
    "tree_model = GridSearchCV(tree_model, param_grid=tree_params, cv=5, scoring='f1', n_jobs=-1)"
   ]
  },
  {
   "cell_type": "code",
   "execution_count": 20,
   "metadata": {
    "tags": []
   },
   "outputs": [],
   "source": [
    "tree_start = time.time()\n",
    "tree_model.fit(features_train, target_train)\n",
    "tree_search_time = time.time() - tree_start"
   ]
  },
  {
   "cell_type": "code",
   "execution_count": 21,
   "metadata": {},
   "outputs": [
    {
     "name": "stdout",
     "output_type": "stream",
     "text": [
      "Результаты подбора параметров.\n",
      "\n",
      "Время подбора параметров: 1.68 мин\n",
      "Время обучения модели: 20.1537 сек\n",
      "Время предсказания модели: 1.67813 сек\n",
      "Лучшие значения параметров: {'tree__max_depth': 12}\n",
      "F1 на кросс-валидации: 0.5894383381238686\n"
     ]
    }
   ],
   "source": [
    "print('Результаты подбора параметров.\\n')\n",
    "print(f'Время подбора параметров: {round(tree_search_time/60, 2)} мин')\n",
    "print(f'Время обучения модели: {round(tree_model.cv_results_[\"mean_fit_time\"][tree_model.best_index_], 5)} сек')\n",
    "print(f'Время предсказания модели: {round(tree_model.cv_results_[\"mean_score_time\"][tree_model.best_index_], 5)} сек')\n",
    "print(f'Лучшие значения параметров: {tree_model.best_params_}')\n",
    "print(f'F1 на кросс-валидации:', tree_model.best_score_)"
   ]
  },
  {
   "cell_type": "code",
   "execution_count": 25,
   "metadata": {},
   "outputs": [],
   "source": [
    "tree_model = tree_model.best_estimator_\n",
    "preds = tree_model.predict_proba(features_train)[:,1]\n",
    "\n",
    "precisions, recalls, thresholds = precision_recall_curve(target_train, preds)\n",
    "fscores = (2 * precisions * recalls) / (precisions + recalls)\n",
    "optimal_idx = np.argmax(fscores)\n",
    "optimal_threshold_tree = thresholds[optimal_idx]"
   ]
  },
  {
   "cell_type": "code",
   "execution_count": 26,
   "metadata": {},
   "outputs": [
    {
     "name": "stdout",
     "output_type": "stream",
     "text": [
      "F1 на валидации: 0.591715976331361\n"
     ]
    }
   ],
   "source": [
    "tree_predictions = [1 if prob[1] > optimal_threshold_tree else 0 for prob in tree_model.predict_proba(features_valid)]\n",
    "print(f'F1 на валидации:', f1_score(target_valid,  tree_predictions))"
   ]
  },
  {
   "cell_type": "markdown",
   "metadata": {},
   "source": [
    "### Случайный лес"
   ]
  },
  {
   "cell_type": "markdown",
   "metadata": {},
   "source": [
    "Обучим модель случайного леса, подберем параметры и оценим модель на валидационной выборке."
   ]
  },
  {
   "cell_type": "code",
   "execution_count": 27,
   "metadata": {},
   "outputs": [],
   "source": [
    "forest_model = Pipeline([\n",
    "    ('vectorizer', vectorizer_pipe),\n",
    "    ('forest', RandomForestClassifier(random_state=42, class_weight='balanced'))\n",
    "])\n",
    "forest_params = {\n",
    "    'forest__max_depth' : range(2,13,2),\n",
    "    'forest__n_estimators': range(10,90,10),\n",
    "}\n",
    "forest_model = GridSearchCV(forest_model, param_grid=forest_params, cv=3, scoring='f1', n_jobs=-1)"
   ]
  },
  {
   "cell_type": "code",
   "execution_count": 28,
   "metadata": {},
   "outputs": [],
   "source": [
    "forest_start = time.time()\n",
    "forest_model.fit(features_train, target_train)\n",
    "forest_search_time = time.time() - forest_start"
   ]
  },
  {
   "cell_type": "code",
   "execution_count": 29,
   "metadata": {},
   "outputs": [
    {
     "name": "stdout",
     "output_type": "stream",
     "text": [
      "Результаты подбора параметров.\n",
      "\n",
      "Время подбора параметров: 5.24 мин\n",
      "Время обучения модели: 12.45469 сек\n",
      "Время предсказания модели: 2.98446 сек\n",
      "Лучшие значения параметров:{'forest__max_depth': 12, 'forest__n_estimators': 80}\n",
      "F1 на кросс-валидации: 0.3652188181943883\n"
     ]
    }
   ],
   "source": [
    "print('Результаты подбора параметров.\\n')\n",
    "print(f'Время подбора параметров: {round(forest_search_time/60, 2)} мин')\n",
    "print(f'Время обучения модели: {round(forest_model.cv_results_[\"mean_fit_time\"][forest_model.best_index_], 5)} сек')\n",
    "print(f'Время предсказания модели: {round(forest_model.cv_results_[\"mean_score_time\"][forest_model.best_index_], 5)} сек')\n",
    "print(f'Лучшие значения параметров:{forest_model.best_params_}')\n",
    "print(f'F1 на кросс-валидации:', forest_model.best_score_)"
   ]
  },
  {
   "cell_type": "markdown",
   "metadata": {},
   "source": [
    "Качество случайного леса намного ниже, чем у случайного дерева, если не подобрать порог."
   ]
  },
  {
   "cell_type": "code",
   "execution_count": 30,
   "metadata": {},
   "outputs": [],
   "source": [
    "forest_model = forest_model.best_estimator_\n",
    "preds = forest_model.predict_proba(features_train)[:,1]\n",
    "\n",
    "precisions, recalls, thresholds = precision_recall_curve(target_train, preds)\n",
    "fscores = (2 * precisions * recalls) / (precisions + recalls)\n",
    "optimal_idx = np.argmax(fscores)\n",
    "optimal_threshold_forest = thresholds[optimal_idx]"
   ]
  },
  {
   "cell_type": "code",
   "execution_count": 31,
   "metadata": {},
   "outputs": [
    {
     "name": "stdout",
     "output_type": "stream",
     "text": [
      "F1 на валидации: 0.6547934823796893\n"
     ]
    }
   ],
   "source": [
    "forest_predictions = [1 if prob[1] > optimal_threshold_forest else 0 for prob in forest_model.predict_proba(features_valid)]\n",
    "print(f'F1 на валидации:', f1_score(target_valid,  forest_predictions))"
   ]
  },
  {
   "cell_type": "markdown",
   "metadata": {},
   "source": [
    "### Логистическая регрессия"
   ]
  },
  {
   "cell_type": "markdown",
   "metadata": {},
   "source": [
    "Теперь рассмотрим линейный классификатор – логистическую регрессию."
   ]
  },
  {
   "cell_type": "code",
   "execution_count": 32,
   "metadata": {},
   "outputs": [],
   "source": [
    "log_reg = Pipeline([\n",
    "    ('vectorizer', vectorizer_pipe),\n",
    "    ('log', LogisticRegression(class_weight='balanced', solver='liblinear'))\n",
    "])\n",
    "log_params = {\n",
    "    'log__penalty':['l1', 'l2'],\n",
    "    'log__C':range(5,20,5),\n",
    "}\n",
    "log_reg = GridSearchCV(log_reg, param_grid=log_params, cv=3, scoring='f1', n_jobs=-1)"
   ]
  },
  {
   "cell_type": "code",
   "execution_count": 33,
   "metadata": {
    "tags": []
   },
   "outputs": [],
   "source": [
    "log_start = time.time()\n",
    "log_reg.fit(features_train, target_train)\n",
    "log_search_time = time.time() - log_start"
   ]
  },
  {
   "cell_type": "code",
   "execution_count": 34,
   "metadata": {
    "tags": []
   },
   "outputs": [
    {
     "name": "stdout",
     "output_type": "stream",
     "text": [
      "Результаты подбора параметров.\n",
      "\n",
      "Время подбора параметров: 63.23 сек\n",
      "Время обучения модели: 12.44541 сек\n",
      "Время предсказания модели: 5.47408 сек\n",
      "Лучшие значения параметров: {'log__C': 10, 'log__penalty': 'l2'}\n",
      "F1 на кросс-валидации: 0.7633101740809153\n"
     ]
    }
   ],
   "source": [
    "print('Результаты подбора параметров.\\n')\n",
    "print(f'Время подбора параметров: {round(log_search_time, 2)} сек')\n",
    "print(f'Время обучения модели: {round(log_reg.cv_results_[\"mean_fit_time\"][log_reg.best_index_], 5)} сек')\n",
    "print(f'Время предсказания модели: {round(log_reg.cv_results_[\"mean_score_time\"][log_reg.best_index_], 5)} сек')\n",
    "print(f'Лучшие значения параметров: {log_reg.best_params_}')\n",
    "print(f'F1 на кросс-валидации:', log_reg.best_score_)"
   ]
  },
  {
   "cell_type": "code",
   "execution_count": 35,
   "metadata": {
    "tags": []
   },
   "outputs": [],
   "source": [
    "log_reg = log_reg.best_estimator_\n",
    "preds = log_reg.predict_proba(features_train)[:,1]\n",
    "\n",
    "precisions, recalls, thresholds = precision_recall_curve(target_train, preds)\n",
    "fscores = (2 * precisions * recalls) / (precisions + recalls)\n",
    "optimal_idx = np.argmax(fscores)\n",
    "optimal_threshold_log = thresholds[optimal_idx]"
   ]
  },
  {
   "cell_type": "code",
   "execution_count": 36,
   "metadata": {},
   "outputs": [
    {
     "name": "stdout",
     "output_type": "stream",
     "text": [
      "F1 на валидации: 0.7903168387326451\n"
     ]
    }
   ],
   "source": [
    "log_predictions = [1 if prob[1] > optimal_threshold_log else 0 for prob in log_reg.predict_proba(features_valid)]\n",
    "print(f'F1 на валидации:', f1_score(target_valid,  log_predictions))"
   ]
  },
  {
   "cell_type": "markdown",
   "metadata": {},
   "source": [
    "Далее используем модели градиентного бустинга. Для начала вычислим веса для каждого класса, что позволит решить проблему дисбаланса в моделях Cat Boost и LightGBM."
   ]
  },
  {
   "cell_type": "code",
   "execution_count": 37,
   "metadata": {},
   "outputs": [],
   "source": [
    "classes = np.unique(target_train)\n",
    "weights = compute_class_weight(class_weight='balanced', classes=classes, y=target_train)\n",
    "class_weights = dict(zip(classes, weights))"
   ]
  },
  {
   "cell_type": "markdown",
   "metadata": {},
   "source": [
    "### Cat Boost Classifier"
   ]
  },
  {
   "cell_type": "code",
   "execution_count": 66,
   "metadata": {
    "tags": []
   },
   "outputs": [],
   "source": [
    "cat_model = Pipeline([\n",
    "    ('vectorizer', vectorizer_pipe),\n",
    "    ('cat', CatBoostClassifier(class_weights=class_weights, random_seed=42, loss_function='Logloss', silent=True))\n",
    "])"
   ]
  },
  {
   "cell_type": "code",
   "execution_count": 67,
   "metadata": {
    "tags": []
   },
   "outputs": [],
   "source": [
    "cat_start = time.time()\n",
    "cat_model.fit(features_train, target_train)\n",
    "cat_fit_time = time.time() - cat_start"
   ]
  },
  {
   "cell_type": "code",
   "execution_count": 68,
   "metadata": {},
   "outputs": [],
   "source": [
    "cat_start = time.time()\n",
    "cat_model.predict(features_valid)\n",
    "cat_pred_time = time.time() - cat_start"
   ]
  },
  {
   "cell_type": "code",
   "execution_count": 69,
   "metadata": {},
   "outputs": [
    {
     "name": "stdout",
     "output_type": "stream",
     "text": [
      "Результаты обучения.\n",
      "\n",
      "Время обучения модели: 11.5736 мин\n",
      "Время предсказания модели: 0.97235 сек\n",
      "F1 на валидационной выборке: 0.7552795031055901\n"
     ]
    }
   ],
   "source": [
    "print('Результаты обучения.\\n')\n",
    "print(f'Время обучения модели: {round(cat_fit_time/60, 5)} мин')\n",
    "print(f'Время предсказания модели: {round(cat_pred_time, 5)} сек')\n",
    "print('F1 на валидационной выборке:', f1_score(target_valid, cat_model.predict(features_valid)))"
   ]
  },
  {
   "cell_type": "code",
   "execution_count": 42,
   "metadata": {},
   "outputs": [],
   "source": [
    "preds = cat_model.predict_proba(features_train)[:,1]\n",
    "\n",
    "precisions, recalls, thresholds = precision_recall_curve(target_train, preds)\n",
    "fscores = (2 * precisions * recalls) / (precisions + recalls)\n",
    "optimal_idx = np.argmax(fscores)\n",
    "optimal_threshold_cat = thresholds[optimal_idx]"
   ]
  },
  {
   "cell_type": "code",
   "execution_count": 47,
   "metadata": {},
   "outputs": [],
   "source": [
    "cat_model['cat'].set_probability_threshold(optimal_threshold_cat)"
   ]
  },
  {
   "cell_type": "code",
   "execution_count": 48,
   "metadata": {},
   "outputs": [
    {
     "name": "stdout",
     "output_type": "stream",
     "text": [
      "F1 на валидации: 0.7777777777777778\n"
     ]
    }
   ],
   "source": [
    "cat_predictions = [1 if prob[1] > optimal_threshold_cat else 0 for prob in cat_model.predict_proba(features_valid)]\n",
    "print(f'F1 на валидации:', f1_score(target_valid,  cat_predictions))"
   ]
  },
  {
   "cell_type": "markdown",
   "metadata": {},
   "source": [
    "Качество достаточно высокое."
   ]
  },
  {
   "cell_type": "markdown",
   "metadata": {},
   "source": [
    "### LGBM Classifier"
   ]
  },
  {
   "cell_type": "code",
   "execution_count": 49,
   "metadata": {},
   "outputs": [],
   "source": [
    "lgbm_model = Pipeline([\n",
    "    ('vectorizer', vectorizer_pipe),\n",
    "    ('lgbm', LGBMClassifier(class_weight=class_weights, random_state=42, n_jobs=-1))\n",
    "])\n",
    "lgbm_params = {\n",
    "    'lgbm__learning_rate': [0.03, 0.1],\n",
    "    'lgbm__n_estimators': range(80, 100, 5),\n",
    "}\n",
    "lgbm_model = GridSearchCV(lgbm_model, param_grid=lgbm_params, cv=3, scoring='f1', n_jobs=-1)"
   ]
  },
  {
   "cell_type": "code",
   "execution_count": 50,
   "metadata": {},
   "outputs": [],
   "source": [
    "lgbm_start = time.time()\n",
    "lgbm_model.fit(features_train, target_train)\n",
    "lgbm_search_time = time.time() - lgbm_start"
   ]
  },
  {
   "cell_type": "code",
   "execution_count": 51,
   "metadata": {
    "tags": []
   },
   "outputs": [
    {
     "name": "stdout",
     "output_type": "stream",
     "text": [
      "Результаты подбора параметров.\n",
      "\n",
      "Время подбора параметров: 4.59 мин\n",
      "Время обучения модели: 1.21423 мин\n",
      "Время предсказания модели: 7.20481 сек\n",
      "Лучшие значения параметров: {'lgbm__learning_rate': 0.1, 'lgbm__n_estimators': 95}\n",
      "F1 на кросс-валидации: 0.7357299436257833\n"
     ]
    }
   ],
   "source": [
    "print('Результаты подбора параметров.\\n')\n",
    "print(f'Время подбора параметров: {round(lgbm_search_time/60, 2)} мин')\n",
    "print(f'Время обучения модели: {round(lgbm_model.cv_results_[\"mean_fit_time\"][lgbm_model.best_index_]/60, 5)} мин')\n",
    "print(f'Время предсказания модели: {round(lgbm_model.cv_results_[\"mean_score_time\"][lgbm_model.best_index_], 5)} сек')\n",
    "print(f'Лучшие значения параметров: {lgbm_model.best_params_}')\n",
    "print(f'F1 на кросс-валидации:', lgbm_model.best_score_)"
   ]
  },
  {
   "cell_type": "code",
   "execution_count": 52,
   "metadata": {},
   "outputs": [],
   "source": [
    "lgbm_model = lgbm_model.best_estimator_\n",
    "preds = lgbm_model.predict_proba(features_train)[:,1]\n",
    "\n",
    "precisions, recalls, thresholds = precision_recall_curve(target_train, preds)\n",
    "fscores = (2 * precisions * recalls) / (precisions + recalls)\n",
    "optimal_idx = np.argmax(fscores)\n",
    "optimal_threshold_lgbm = thresholds[optimal_idx]"
   ]
  },
  {
   "cell_type": "code",
   "execution_count": 53,
   "metadata": {},
   "outputs": [
    {
     "name": "stdout",
     "output_type": "stream",
     "text": [
      "F1 на валидации: 0.7679597701149425\n"
     ]
    }
   ],
   "source": [
    "lgbm_predictions = [1 if prob[1] > optimal_threshold_lgbm else 0 for prob in lgbm_model.predict_proba(features_valid)]\n",
    "print(f'F1 на валидации:', f1_score(target_valid,  lgbm_predictions))"
   ]
  },
  {
   "cell_type": "markdown",
   "metadata": {},
   "source": [
    "Качество модели на валидационной выборке достаточно высокое, но ниже чем на Cat Boost. Но скорость обучения выше, чем у Cat Boost."
   ]
  },
  {
   "cell_type": "markdown",
   "metadata": {},
   "source": [
    "### XGB Classifier"
   ]
  },
  {
   "cell_type": "code",
   "execution_count": 54,
   "metadata": {
    "tags": []
   },
   "outputs": [],
   "source": [
    "xgb_class_weight = float(np.sum(target_train == 0) / np.sum(target_train == 1))"
   ]
  },
  {
   "cell_type": "code",
   "execution_count": 55,
   "metadata": {},
   "outputs": [],
   "source": [
    "xgb_model = Pipeline([\n",
    "    ('vectorizer', vectorizer_pipe),\n",
    "    ('xgb', XGBClassifier(random_state=42, n_jobs=-1, scale_pos_weight=xgb_class_weight))\n",
    "])\n",
    "xgb_params = {\n",
    "    'xgb__max_depth': range(6,10,2),\n",
    "    'xgb__n_estimators': range(50,90,10),\n",
    "}\n",
    "xgb_model = GridSearchCV(xgb_model, param_grid=xgb_params, cv=3, scoring='f1', n_jobs=-1)"
   ]
  },
  {
   "cell_type": "code",
   "execution_count": 56,
   "metadata": {
    "tags": []
   },
   "outputs": [],
   "source": [
    "xgb_start = time.time()\n",
    "xgb_model.fit(features_train, target_train)\n",
    "xgb_search_time = time.time() - xgb_start"
   ]
  },
  {
   "cell_type": "code",
   "execution_count": 57,
   "metadata": {},
   "outputs": [
    {
     "name": "stdout",
     "output_type": "stream",
     "text": [
      "Результаты подбора параметров.\n",
      "\n",
      "Время подбора параметров: 8.32 мин\n",
      "Время обучения модели: 2.82763 мин\n",
      "Время предсказания модели: 2.6321 сек\n",
      "Лучшие значения параметров: {'xgb__max_depth': 8, 'xgb__n_estimators': 80}\n",
      "F1 на кросс-валидации: 0.7426201577028179\n"
     ]
    }
   ],
   "source": [
    "print('Результаты подбора параметров.\\n')\n",
    "print(f'Время подбора параметров: {round(xgb_search_time/60, 2)} мин')\n",
    "print(f'Время обучения модели: {round(xgb_model.cv_results_[\"mean_fit_time\"][xgb_model.best_index_]/60, 5)} мин')\n",
    "print(f'Время предсказания модели: {round(xgb_model.cv_results_[\"mean_score_time\"][xgb_model.best_index_], 5)} сек')\n",
    "print(f'Лучшие значения параметров: {xgb_model.best_params_}')\n",
    "print(f'F1 на кросс-валидации:', xgb_model.best_score_)"
   ]
  },
  {
   "cell_type": "code",
   "execution_count": 58,
   "metadata": {},
   "outputs": [],
   "source": [
    "xgb_model = xgb_model.best_estimator_\n",
    "preds = xgb_model.predict_proba(features_train)[:,1]\n",
    "\n",
    "precisions, recalls, thresholds = precision_recall_curve(target_train, preds)\n",
    "fscores = (2 * precisions * recalls) / (precisions + recalls)\n",
    "optimal_idx = np.argmax(fscores)\n",
    "optimal_threshold_xgb = thresholds[optimal_idx]"
   ]
  },
  {
   "cell_type": "code",
   "execution_count": 59,
   "metadata": {},
   "outputs": [
    {
     "name": "stdout",
     "output_type": "stream",
     "text": [
      "F1 на валидации: 0.7640369580668088\n"
     ]
    }
   ],
   "source": [
    "xgb_predictions = [1 if prob[1] > optimal_threshold_xgb else 0 for prob in xgb_model.predict_proba(features_valid)]\n",
    "print(f'F1 на валидации:', f1_score(target_valid,  xgb_predictions))"
   ]
  },
  {
   "cell_type": "markdown",
   "metadata": {},
   "source": [
    "Качество модели на валидационной выборке недостаточно высокое, после подбора порога – ниже чем на Cat Boost и LightGBM. При этом XGBoost обучается медленее, чем LightGBM."
   ]
  },
  {
   "cell_type": "markdown",
   "metadata": {},
   "source": [
    "**Вывод:** Лучший показатель на валидационной выборке у линейного классификатора. Результаты сравнения моделей представлены в таблице. Оценка F1 на валидации для CatBoost и Логистической регрессии близки – 0.78 и 0.79 соответсвенно. Но логистическая регрессия обучается и делает предсказания быстрее. Поэтому будем использовать модель логистической регрессии для классификации коментариев. \n",
    "\n",
    "|Модель|Время обучения|Время предсказания| F1 score на валидации|\n",
    "|:---|:---|:---|:---|\n",
    "|Логистическая регрессия|12.45 сек|5.47 сек|0.79|\n",
    "|CatBoost|10.93 мин|0.96 сек| 0.78|\n",
    "|LightGBM|1.21 мин|7.20 сек|0.77|\n",
    "|XGBoost|2.83 мин|2.63 сек| 0.76|\n",
    "|Случайный лес|12.45 сек|2.98 сек|0.65|\n",
    "|Дерево решений|20.15 сек|1.68 сек|0.59|"
   ]
  },
  {
   "cell_type": "markdown",
   "metadata": {},
   "source": [
    "## Тест"
   ]
  },
  {
   "cell_type": "code",
   "execution_count": 60,
   "metadata": {},
   "outputs": [
    {
     "name": "stdout",
     "output_type": "stream",
     "text": [
      "Результаты предсказания логистической регрессии на тестовой выборке.\n",
      "\n",
      "F1 на тестовой выборке: 0.7919463087248322\n"
     ]
    }
   ],
   "source": [
    "print('Результаты предсказания логистической регрессии на тестовой выборке.\\n')\n",
    "log_test_pred = [1 if prob[1] > optimal_threshold_log else 0 for prob in log_reg.predict_proba(features_test)]\n",
    "print('F1 на тестовой выборке:', f1_score(target_test, log_test_pred))"
   ]
  },
  {
   "cell_type": "code",
   "execution_count": 61,
   "metadata": {},
   "outputs": [
    {
     "name": "stdout",
     "output_type": "stream",
     "text": [
      "AUC-ROC: 0.9709045150008924\n"
     ]
    }
   ],
   "source": [
    "proba_test = log_reg.predict_proba(features_test)[:,1]\n",
    "print('AUC-ROC:', roc_auc_score(target_test, proba_test))"
   ]
  },
  {
   "cell_type": "code",
   "execution_count": 64,
   "metadata": {},
   "outputs": [
    {
     "data": {
      "image/png": "[encoded data removed]",
      "text/plain": [
       "<Figure size 360x360 with 1 Axes>"
      ]
     },
     "metadata": {
      "needs_background": "light"
     },
     "output_type": "display_data"
    }
   ],
   "source": [
    "fpr, tpr, treshold = roc_curve(target_test, proba_test)\n",
    "roc_auc = auc(fpr, tpr)\n",
    "\n",
    "plt.figure(figsize=(5,5))\n",
    "plt.plot(fpr, tpr, color='darkorange',\n",
    "         label='ROC кривая (area = %0.2f)' % roc_auc)\n",
    "plt.plot([0, 1], [0, 1], color='navy', linestyle='--')\n",
    "plt.xlim([0.0, 1.0])\n",
    "plt.ylim([0.0, 1.05])\n",
    "plt.xlabel('False Positive Rate')\n",
    "plt.ylabel('True Positive Rate')\n",
    "plt.title('ROC кривая')\n",
    "plt.legend(loc=\"lower right\")\n",
    "plt.grid()\n",
    "plt.show()"
   ]
  },
  {
   "cell_type": "markdown",
   "metadata": {},
   "source": [
    "## Выводы"
   ]
  },
  {
   "cell_type": "markdown",
   "metadata": {},
   "source": [
    "В проекте была решена задача классификации комментариев на токсичные и не токсичные. Целевая метрика была достигнута – качество на тестовой выборке (F1 score)  0.79. Для достижения целевой метрики мы подбирали оптимальное пороговое значение. \n",
    "\n",
    "На первом этапе исследования мы получили признаки из текста. Текст был очищен от лишних символов, лемматизирован, а затем – векторизован с использованием формулы TF-IDF, которая позволяет оценить уникальность токена (слова) в тексте относительно всего корпуса. В процессе подготовки данных мы также обнаружили дисбаланс в классах – комментариев, которые не являются токсичными, намного больше чем тех, что являются токсичными. Эту проблему мы постарались учесть, задав соответсвующие параметры моделей.\n",
    "\n",
    "Далее мы обучили шесть моделей – Дерево решений, Случайный лес, Логистическую регрессию, а также модели градиентного бустинга CatBoost, LightGBM и XGBoost. Получив результаты обучения, мы сравнили метрики качества, а также скорость обучения и предсказания моделей. В результате в качестве итоговой модели, которую предлагается использовать для поиска токсичных комментариев, была выбрана Логистическая регрессия."
   ]
  }
 ],
 "metadata": {
  "ExecuteTimeLog": [
   {
    "duration": 81,
    "start_time": "2023-01-16T21:03:50.297Z"
   }
  ],
  "kernelspec": {
   "display_name": "Python 3 (ipykernel)",
   "language": "python",
   "name": "python3"
  },
  "language_info": {
   "codemirror_mode": {
    "name": "ipython",
    "version": 3
   },
   "file_extension": ".py",
   "mimetype": "text/x-python",
   "name": "python",
   "nbconvert_exporter": "python",
   "pygments_lexer": "ipython3",
   "version": "3.9.12"
  },
  "toc": {
   "base_numbering": 1,
   "nav_menu": {},
   "number_sections": true,
   "sideBar": true,
   "skip_h1_title": true,
   "title_cell": "Содержание",
   "title_sidebar": "Contents",
   "toc_cell": true,
   "toc_position": {
    "height": "calc(100% - 180px)",
    "left": "10px",
    "top": "150px",
    "width": "302.391px"
   },
   "toc_section_display": true,
   "toc_window_display": false
  }
 },
 "nbformat": 4,
 "nbformat_minor": 4
}
