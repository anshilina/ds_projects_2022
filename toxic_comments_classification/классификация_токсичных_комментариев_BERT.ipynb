{
 "cells": [
  {
   "cell_type": "markdown",
   "metadata": {},
   "source": [
    "# Классификация текстов с использованием BERT"
   ]
  },
  {
   "cell_type": "code",
   "execution_count": 157,
   "metadata": {
    "tags": []
   },
   "outputs": [],
   "source": [
    "import pandas as pd\n",
    "import numpy as np \n",
    "np.random.seed(seed=42)\n",
    "import time\n",
    "from tqdm import notebook\n",
    "\n",
    "import torch\n",
    "import transformers \n",
    "\n",
    "from sklearn.model_selection import train_test_split, StratifiedKFold, GridSearchCV, cross_val_score\n",
    "from sklearn.utils.class_weight import compute_class_weight\n",
    "from sklearn.tree import DecisionTreeClassifier\n",
    "from sklearn.linear_model import LogisticRegression\n",
    "from sklearn.ensemble import RandomForestClassifier\n",
    "from sklearn.metrics import f1_score, roc_auc_score, roc_curve, auc\n",
    "\n",
    "from lightgbm import LGBMClassifier\n",
    "from catboost import CatBoostClassifier\n",
    "from xgboost import XGBClassifier\n",
    "\n",
    "\n",
    "from IPython.display import display\n",
    "import pprint\n",
    "import matplotlib.pyplot as plt\n",
    "import seaborn as sns"
   ]
  },
  {
   "cell_type": "markdown",
   "metadata": {},
   "source": [
    "Импортируем и изучим данные. Нам предстоит решить задачу бинарной классификации. Необходимо выделить признаки из текста и определить, является ли он токсичным (негативным) комментарием или нет. "
   ]
  },
  {
   "cell_type": "code",
   "execution_count": 2,
   "metadata": {},
   "outputs": [
    {
     "data": {
      "text/html": [
       "<div>\n",
       "<style scoped>\n",
       "    .dataframe tbody tr th:only-of-type {\n",
       "        vertical-align: middle;\n",
       "    }\n",
       "\n",
       "    .dataframe tbody tr th {\n",
       "        vertical-align: top;\n",
       "    }\n",
       "\n",
       "    .dataframe thead th {\n",
       "        text-align: right;\n",
       "    }\n",
       "</style>\n",
       "<table border=\"1\" class=\"dataframe\">\n",
       "  <thead>\n",
       "    <tr style=\"text-align: right;\">\n",
       "      <th></th>\n",
       "      <th>text</th>\n",
       "      <th>toxic</th>\n",
       "    </tr>\n",
       "  </thead>\n",
       "  <tbody>\n",
       "    <tr>\n",
       "      <th>0</th>\n",
       "      <td>Explanation\\nWhy the edits made under my usern...</td>\n",
       "      <td>0</td>\n",
       "    </tr>\n",
       "    <tr>\n",
       "      <th>1</th>\n",
       "      <td>D'aww! He matches this background colour I'm s...</td>\n",
       "      <td>0</td>\n",
       "    </tr>\n",
       "    <tr>\n",
       "      <th>2</th>\n",
       "      <td>Hey man, I'm really not trying to edit war. It...</td>\n",
       "      <td>0</td>\n",
       "    </tr>\n",
       "    <tr>\n",
       "      <th>3</th>\n",
       "      <td>\"\\nMore\\nI can't make any real suggestions on ...</td>\n",
       "      <td>0</td>\n",
       "    </tr>\n",
       "    <tr>\n",
       "      <th>4</th>\n",
       "      <td>You, sir, are my hero. Any chance you remember...</td>\n",
       "      <td>0</td>\n",
       "    </tr>\n",
       "  </tbody>\n",
       "</table>\n",
       "</div>"
      ],
      "text/plain": [
       "                                                text  toxic\n",
       "0  Explanation\\nWhy the edits made under my usern...      0\n",
       "1  D'aww! He matches this background colour I'm s...      0\n",
       "2  Hey man, I'm really not trying to edit war. It...      0\n",
       "3  \"\\nMore\\nI can't make any real suggestions on ...      0\n",
       "4  You, sir, are my hero. Any chance you remember...      0"
      ]
     },
     "metadata": {},
     "output_type": "display_data"
    }
   ],
   "source": [
    "try:\n",
    "    df = pd.read_csv('/Users/anshilina/Downloads/toxic_comments.csv').drop('Unnamed: 0', axis=1)\n",
    "except:\n",
    "    df = pd.read_csv('/datasets/toxic_comments.csv').drop('Unnamed: 0', axis=1)\n",
    "    \n",
    "display(df.head())"
   ]
  },
  {
   "cell_type": "code",
   "execution_count": 4,
   "metadata": {},
   "outputs": [
    {
     "name": "stdout",
     "output_type": "stream",
     "text": [
      "<class 'pandas.core.frame.DataFrame'>\n",
      "RangeIndex: 159292 entries, 0 to 159291\n",
      "Data columns (total 2 columns):\n",
      " #   Column  Non-Null Count   Dtype \n",
      "---  ------  --------------   ----- \n",
      " 0   text    159292 non-null  object\n",
      " 1   toxic   159292 non-null  int64 \n",
      "dtypes: int64(1), object(1)\n",
      "memory usage: 2.4+ MB\n"
     ]
    }
   ],
   "source": [
    "df.info()"
   ]
  },
  {
   "cell_type": "code",
   "execution_count": 5,
   "metadata": {},
   "outputs": [
    {
     "data": {
      "text/html": [
       "<div>\n",
       "<style scoped>\n",
       "    .dataframe tbody tr th:only-of-type {\n",
       "        vertical-align: middle;\n",
       "    }\n",
       "\n",
       "    .dataframe tbody tr th {\n",
       "        vertical-align: top;\n",
       "    }\n",
       "\n",
       "    .dataframe thead th {\n",
       "        text-align: right;\n",
       "    }\n",
       "</style>\n",
       "<table border=\"1\" class=\"dataframe\">\n",
       "  <thead>\n",
       "    <tr style=\"text-align: right;\">\n",
       "      <th></th>\n",
       "      <th>toxic</th>\n",
       "    </tr>\n",
       "  </thead>\n",
       "  <tbody>\n",
       "    <tr>\n",
       "      <th>count</th>\n",
       "      <td>159292.000000</td>\n",
       "    </tr>\n",
       "    <tr>\n",
       "      <th>mean</th>\n",
       "      <td>0.101612</td>\n",
       "    </tr>\n",
       "    <tr>\n",
       "      <th>std</th>\n",
       "      <td>0.302139</td>\n",
       "    </tr>\n",
       "    <tr>\n",
       "      <th>min</th>\n",
       "      <td>0.000000</td>\n",
       "    </tr>\n",
       "    <tr>\n",
       "      <th>25%</th>\n",
       "      <td>0.000000</td>\n",
       "    </tr>\n",
       "    <tr>\n",
       "      <th>50%</th>\n",
       "      <td>0.000000</td>\n",
       "    </tr>\n",
       "    <tr>\n",
       "      <th>75%</th>\n",
       "      <td>0.000000</td>\n",
       "    </tr>\n",
       "    <tr>\n",
       "      <th>max</th>\n",
       "      <td>1.000000</td>\n",
       "    </tr>\n",
       "  </tbody>\n",
       "</table>\n",
       "</div>"
      ],
      "text/plain": [
       "               toxic\n",
       "count  159292.000000\n",
       "mean        0.101612\n",
       "std         0.302139\n",
       "min         0.000000\n",
       "25%         0.000000\n",
       "50%         0.000000\n",
       "75%         0.000000\n",
       "max         1.000000"
      ]
     },
     "metadata": {},
     "output_type": "display_data"
    }
   ],
   "source": [
    "display(df.describe())"
   ]
  },
  {
   "cell_type": "code",
   "execution_count": 154,
   "metadata": {},
   "outputs": [
    {
     "name": "stdout",
     "output_type": "stream",
     "text": [
      "Количество пропусков: 0\n"
     ]
    }
   ],
   "source": [
    "print('Количество пропусков:', df.isna().sum().sum())"
   ]
  },
  {
   "cell_type": "code",
   "execution_count": 155,
   "metadata": {},
   "outputs": [
    {
     "name": "stdout",
     "output_type": "stream",
     "text": [
      "Количество дубликатов: 0\n"
     ]
    }
   ],
   "source": [
    "print('Количество дубликатов:', df.duplicated().sum())"
   ]
  },
  {
   "cell_type": "markdown",
   "metadata": {},
   "source": [
    "Визуализируем распределение зависимой переменной. Мы можем наблюдать дисбаланс в классах – в выборке больше комментариев, которые не являются токсичными. При моделировании необходимо учесть дисбаланс. Для этого мы будем использовать специальные параметры моделей. "
   ]
  },
  {
   "cell_type": "code",
   "execution_count": 156,
   "metadata": {},
   "outputs": [
    {
     "data": {
      "image/png": "[encoded data removed]",
      "text/plain": [
       "<Figure size 360x360 with 1 Axes>"
      ]
     },
     "metadata": {
      "needs_background": "light"
     },
     "output_type": "display_data"
    }
   ],
   "source": [
    "plt.figure(figsize=(5,5))\n",
    "sns.barplot(data=df, x=df['toxic'].value_counts().index, y=df['toxic'].value_counts().values)\n",
    "plt.xlabel('Токсичный комментарий')\n",
    "plt.ylabel('Число наблюдений')\n",
    "plt.title('Распределение зависимой переменной (токсичный комментарий)')\n",
    "plt.show()"
   ]
  },
  {
   "cell_type": "markdown",
   "metadata": {},
   "source": [
    "## Подготовка"
   ]
  },
  {
   "cell_type": "markdown",
   "metadata": {},
   "source": [
    "Получим эмбединги токенов из каждого текста."
   ]
  },
  {
   "cell_type": "code",
   "execution_count": 3,
   "metadata": {},
   "outputs": [],
   "source": [
    "tokenizer = transformers.BertTokenizer.from_pretrained('unitary/toxic-bert')"
   ]
  },
  {
   "cell_type": "code",
   "execution_count": 4,
   "metadata": {
    "tags": []
   },
   "outputs": [
    {
     "data": {
      "application/vnd.jupyter.widget-view+json": {
       "model_id": "8e622f52f7564b30a69452da800adbc5",
       "version_major": 2,
       "version_minor": 0
      },
      "text/plain": [
       "  0%|          | 0/159292 [00:00<?, ?it/s]"
      ]
     },
     "metadata": {},
     "output_type": "display_data"
    }
   ],
   "source": [
    "tokenized = []\n",
    "for i in notebook.tqdm(range(df['text'].shape[0])):\n",
    "    tokenized.append(tokenizer.encode(df['text'][i], max_length=512, truncation=True, add_special_tokens=True))"
   ]
  },
  {
   "cell_type": "code",
   "execution_count": 5,
   "metadata": {
    "tags": []
   },
   "outputs": [
    {
     "name": "stdout",
     "output_type": "stream",
     "text": [
      "Первые пять токенов первого текста: [101, 7526, 2339, 1996, 10086]\n"
     ]
    }
   ],
   "source": [
    "print('Первые пять токенов первого текста:', tokenized[0][:5])"
   ]
  },
  {
   "cell_type": "code",
   "execution_count": 6,
   "metadata": {},
   "outputs": [
    {
     "name": "stdout",
     "output_type": "stream",
     "text": [
      "Размер самого длинного токена: 512\n"
     ]
    }
   ],
   "source": [
    "max_vector = max(len(token) for token in tokenized)\n",
    "print('Размер самого длинного токена:', max_vector)"
   ]
  },
  {
   "cell_type": "code",
   "execution_count": 31,
   "metadata": {},
   "outputs": [],
   "source": [
    "padded = np.array([i + [0]*(max_vector - len(i)) for i in tokenized])"
   ]
  },
  {
   "cell_type": "markdown",
   "metadata": {},
   "source": [
    "Теперь поясним модели, что нули не несут значимой информации."
   ]
  },
  {
   "cell_type": "code",
   "execution_count": 32,
   "metadata": {},
   "outputs": [],
   "source": [
    "attention_mask = np.where(padded != 0, 1, 0)"
   ]
  },
  {
   "cell_type": "markdown",
   "metadata": {},
   "source": [
    "Инициализируем конфигурацию BertConfig (англ. Bert Configuration) и модель класса BertModel. Передадим ей файл с предобученной моделью и конфигурацией."
   ]
  },
  {
   "cell_type": "code",
   "execution_count": 9,
   "metadata": {
    "collapsed": true,
    "jupyter": {
     "outputs_hidden": true
    },
    "tags": []
   },
   "outputs": [
    {
     "name": "stderr",
     "output_type": "stream",
     "text": [
      "Some weights of the model checkpoint at unitary/toxic-bert were not used when initializing BertModel: ['classifier.weight', 'classifier.bias']\n",
      "- This IS expected if you are initializing BertModel from the checkpoint of a model trained on another task or with another architecture (e.g. initializing a BertForSequenceClassification model from a BertForPreTraining model).\n",
      "- This IS NOT expected if you are initializing BertModel from the checkpoint of a model that you expect to be exactly identical (initializing a BertForSequenceClassification model from a BertForSequenceClassification model).\n"
     ]
    }
   ],
   "source": [
    "config = transformers.BertConfig.from_pretrained('unitary/toxic-bert')\n",
    "model = transformers.BertModel.from_pretrained('unitary/toxic-bert', config=config)"
   ]
  },
  {
   "cell_type": "code",
   "execution_count": 72,
   "metadata": {
    "tags": []
   },
   "outputs": [],
   "source": [
    "idx = np.random.randint(padded.shape[0], size=4000)\n",
    "padded = padded[idx, :]\n",
    "df_new = df.iloc[idx].copy()"
   ]
  },
  {
   "cell_type": "code",
   "execution_count": 73,
   "metadata": {
    "tags": []
   },
   "outputs": [
    {
     "data": {
      "application/vnd.jupyter.widget-view+json": {
       "model_id": "d107a13599e1472599d0fcc1da75b88f",
       "version_major": 2,
       "version_minor": 0
      },
      "text/plain": [
       "  0%|          | 0/800 [00:00<?, ?it/s]"
      ]
     },
     "metadata": {},
     "output_type": "display_data"
    }
   ],
   "source": [
    "batch_size = 5\n",
    "embeddings = []\n",
    "\n",
    "for i in notebook.tqdm(range(padded.shape[0] // batch_size)):\n",
    "    \n",
    "    batch = torch.LongTensor(padded[batch_size*i:batch_size*(i+1)])\n",
    "    attention_mask_batch = torch.LongTensor(attention_mask[batch_size*i:batch_size*(i+1)]) \n",
    "    \n",
    "    with torch.no_grad():\n",
    "        batch_embeddings = model(batch, attention_mask=attention_mask_batch)\n",
    "    embeddings.append(batch_embeddings[0][:,0,:].numpy()) "
   ]
  },
  {
   "cell_type": "code",
   "execution_count": 132,
   "metadata": {},
   "outputs": [],
   "source": [
    "features = np.concatenate(embeddings) \n",
    "train_features, test_features, train_target, test_target = train_test_split(\n",
    "    features, df_new['toxic'], test_size=0.1, shuffle=True)"
   ]
  },
  {
   "cell_type": "markdown",
   "metadata": {},
   "source": [
    "## Обучение"
   ]
  },
  {
   "cell_type": "markdown",
   "metadata": {},
   "source": [
    "Обучим модели логистической регрессии, случайного леса, CatBoost, LightGBM, XGBoost. Модель дерева решений рассмотрим в качестве базовой – будем сравнивать с ней значения других классификаторов."
   ]
  },
  {
   "cell_type": "markdown",
   "metadata": {},
   "source": [
    "Инициализируем стратифицированное разделение на фолды, которые мы будем использовать при обучении подели и подборе параметров. Другими словами, на кросс-валидации наши данные будут делиться в тренировочную и валидационную выборку, учитывая исходное соотношение классов."
   ]
  },
  {
   "cell_type": "code",
   "execution_count": 164,
   "metadata": {},
   "outputs": [],
   "source": [
    "k_fold = StratifiedKFold(n_splits=5, shuffle=True, random_state=42)"
   ]
  },
  {
   "cell_type": "markdown",
   "metadata": {},
   "source": [
    "### Дерево решений"
   ]
  },
  {
   "cell_type": "code",
   "execution_count": 165,
   "metadata": {},
   "outputs": [],
   "source": [
    "tree_model = DecisionTreeClassifier(random_state=42, class_weight='balanced')\n",
    "tree_params = {\n",
    "    'max_depth' : range(2, 13, 2),\n",
    "    'min_samples_leaf' : range(1, 5),\n",
    "    'min_samples_split': range(2, 10, 2),\n",
    "}\n",
    "tree_model = GridSearchCV(tree_model, param_grid=tree_params, cv=k_fold, scoring='f1', n_jobs=-1)"
   ]
  },
  {
   "cell_type": "code",
   "execution_count": 166,
   "metadata": {
    "tags": []
   },
   "outputs": [],
   "source": [
    "tree_start = time.time()\n",
    "tree_model.fit(train_features, train_target)\n",
    "tree_grid_time = time.time() - tree_start"
   ]
  },
  {
   "cell_type": "code",
   "execution_count": 167,
   "metadata": {},
   "outputs": [
    {
     "name": "stdout",
     "output_type": "stream",
     "text": [
      "Результаты подбора параметров.\n",
      "\n",
      "Время подбора параметров: 2.48 мин\n",
      "Время обучения модели: 3.16062 сек\n",
      "Время предсказания модели: 0.01492 сек\n",
      "Лучшие значения параметров:{'max_depth': 12, 'min_samples_leaf': 1, 'min_samples_split': 8}\n",
      "F1 на кросс-валидации: 0.3445050044879181\n"
     ]
    }
   ],
   "source": [
    "print('Результаты подбора параметров.\\n')\n",
    "print(f'Время подбора параметров: {round(tree_grid_time/60, 2)} мин')\n",
    "print(f'Время обучения модели: {round(tree_model.cv_results_[\"mean_fit_time\"][tree_model.best_index_], 5)} сек')\n",
    "print(f'Время предсказания модели: {round(tree_model.cv_results_[\"mean_score_time\"][tree_model.best_index_], 5)} сек')\n",
    "print(f'Лучшие значения параметров:{tree_model.best_params_}')\n",
    "print(f'F1 на кросс-валидации:', tree_model.best_score_)"
   ]
  },
  {
   "cell_type": "markdown",
   "metadata": {},
   "source": [
    "### Логистическая регрессия"
   ]
  },
  {
   "cell_type": "code",
   "execution_count": 168,
   "metadata": {
    "tags": []
   },
   "outputs": [],
   "source": [
    "log_model = LogisticRegression(solver='liblinear', class_weight='balanced')\n",
    "log_params = {\n",
    "    'C':range(5,25,5),\n",
    "}\n",
    "log_model = GridSearchCV(log_model, param_grid=log_params, cv=k_fold, scoring='f1', n_jobs=-1)"
   ]
  },
  {
   "cell_type": "code",
   "execution_count": 169,
   "metadata": {},
   "outputs": [],
   "source": [
    "log_start = time.time()\n",
    "log_model.fit(train_features, train_target)\n",
    "log_grid_time = time.time() - log_start"
   ]
  },
  {
   "cell_type": "code",
   "execution_count": 170,
   "metadata": {
    "tags": []
   },
   "outputs": [
    {
     "name": "stdout",
     "output_type": "stream",
     "text": [
      "Результаты подбора параметров.\n",
      "\n",
      "Время подбора параметров: 22.79 сек\n",
      "Время обучения модели: 4.73916 сек\n",
      "Время предсказания модели: 0.01512 сек\n",
      "Лучшие значения параметров: {'C': 20}\n",
      "F1 на кросс-валидации: 0.6640923970601357\n"
     ]
    }
   ],
   "source": [
    "print('Результаты подбора параметров.\\n')\n",
    "print(f'Время подбора параметров: {round(log_grid_time, 2)} сек')\n",
    "print(f'Время обучения модели: {round(log_model.cv_results_[\"mean_fit_time\"][log_model.best_index_], 5)} сек')\n",
    "print(f'Время предсказания модели: {round(log_model.cv_results_[\"mean_score_time\"][log_model.best_index_], 5)} сек')\n",
    "print(f'Лучшие значения параметров: {log_model.best_params_}')\n",
    "print(f'F1 на кросс-валидации:', log_model.best_score_)"
   ]
  },
  {
   "cell_type": "markdown",
   "metadata": {},
   "source": [
    "### Случайный лес"
   ]
  },
  {
   "cell_type": "code",
   "execution_count": 176,
   "metadata": {},
   "outputs": [],
   "source": [
    "forest_model = RandomForestClassifier(random_state=42, class_weight='balanced')\n",
    "forest_params = {\n",
    "    'max_depth' : range(5, 12, 2),\n",
    "    'n_estimators': range(10, 50, 10),\n",
    "}\n",
    "forest_model = GridSearchCV(forest_model, param_grid=forest_params, cv=k_fold, scoring='f1', n_jobs=-1)"
   ]
  },
  {
   "cell_type": "code",
   "execution_count": 177,
   "metadata": {},
   "outputs": [],
   "source": [
    "forest_start = time.time()\n",
    "forest_model.fit(train_features, train_target)\n",
    "forest_grid_time = time.time() - forest_start"
   ]
  },
  {
   "cell_type": "code",
   "execution_count": 178,
   "metadata": {},
   "outputs": [
    {
     "name": "stdout",
     "output_type": "stream",
     "text": [
      "Результаты подбора параметров.\n",
      "\n",
      "Время подбора параметров: 21.13 сек\n",
      "Время обучения модели: 2.86887 сек\n",
      "Время предсказания модели: 0.02817 сек\n",
      "Лучшие значения параметров:{'max_depth': 9, 'n_estimators': 40}\n",
      "F1 на кросс-валидации: 0.49923771326712496\n"
     ]
    }
   ],
   "source": [
    "print('Результаты подбора параметров.\\n')\n",
    "print(f'Время подбора параметров: {round(forest_grid_time, 2)} сек')\n",
    "print(f'Время обучения модели: {round(forest_model.cv_results_[\"mean_fit_time\"][forest_model.best_index_], 5)} сек')\n",
    "print(f'Время предсказания модели: {round(forest_model.cv_results_[\"mean_score_time\"][forest_model.best_index_], 5)} сек')\n",
    "print(f'Лучшие значения параметров:{forest_model.best_params_}')\n",
    "print(f'F1 на кросс-валидации:', forest_model.best_score_)"
   ]
  },
  {
   "cell_type": "code",
   "execution_count": 179,
   "metadata": {},
   "outputs": [],
   "source": [
    "classes = np.unique(train_target)\n",
    "weights = compute_class_weight(class_weight='balanced', classes=classes, y=train_target)\n",
    "class_weights = dict(zip(classes, weights))"
   ]
  },
  {
   "cell_type": "markdown",
   "metadata": {},
   "source": [
    "### Cat Boost Classifier"
   ]
  },
  {
   "cell_type": "code",
   "execution_count": 180,
   "metadata": {},
   "outputs": [],
   "source": [
    "cat_model = CatBoostClassifier(class_weights=class_weights, random_seed=42, loss_function='Logloss', silent=True)"
   ]
  },
  {
   "cell_type": "code",
   "execution_count": 181,
   "metadata": {},
   "outputs": [],
   "source": [
    "cat_start = time.time()\n",
    "cat_model.fit(train_features, train_target)\n",
    "cat_fit_time = time.time() - cat_start"
   ]
  },
  {
   "cell_type": "code",
   "execution_count": 182,
   "metadata": {},
   "outputs": [],
   "source": [
    "cat_start = time.time()\n",
    "cat_model.predict(train_features)\n",
    "cat_pred_time = time.time() - cat_start"
   ]
  },
  {
   "cell_type": "code",
   "execution_count": 183,
   "metadata": {},
   "outputs": [
    {
     "name": "stdout",
     "output_type": "stream",
     "text": [
      "Результаты обучения.\n",
      "\n",
      "Время обучения модели: 1.01213 мин\n",
      "Время предсказания модели: 0.03864 сек\n",
      "F1 на кросс-валидации: 0.7150512208303099\n"
     ]
    }
   ],
   "source": [
    "print('Результаты обучения.\\n')\n",
    "print(f'Время обучения модели: {round(cat_fit_time/60, 5)} мин')\n",
    "print(f'Время предсказания модели: {round(cat_pred_time, 5)} сек')\n",
    "print('F1 на кросс-валидации:', np.mean(cross_val_score(\n",
    "    cat_model, train_features, train_target, cv=k_fold, scoring='f1', n_jobs=-1)))"
   ]
  },
  {
   "cell_type": "markdown",
   "metadata": {},
   "source": [
    "### LGBM Classifier"
   ]
  },
  {
   "cell_type": "code",
   "execution_count": 184,
   "metadata": {},
   "outputs": [],
   "source": [
    "lgbm_model = LGBMClassifier(class_weight=class_weights, random_state=42, n_jobs=-1)\n",
    "lgbm_params = {\n",
    "    'n_estimators': range(80, 100, 5),\n",
    "}\n",
    "lgbm_model = GridSearchCV(lgbm_model, param_grid=lgbm_params, cv=k_fold, scoring='f1', n_jobs=-1)"
   ]
  },
  {
   "cell_type": "code",
   "execution_count": 185,
   "metadata": {},
   "outputs": [],
   "source": [
    "lgbm_start = time.time()\n",
    "lgbm_model.fit(train_features, train_target)\n",
    "lgbm_search_time = time.time() - lgbm_start"
   ]
  },
  {
   "cell_type": "code",
   "execution_count": 186,
   "metadata": {},
   "outputs": [
    {
     "name": "stdout",
     "output_type": "stream",
     "text": [
      "Результаты подбора параметров.\n",
      "\n",
      "Время подбора параметров: 55.75 сек\n",
      "Время обучения модели: 17.5875 сек\n",
      "Время предсказания модели: 0.04718 сек\n",
      "Лучшие значения параметров: {'n_estimators': 90}\n",
      "F1 на кросс-валидации: 0.676963576063621\n"
     ]
    }
   ],
   "source": [
    "print('Результаты подбора параметров.\\n')\n",
    "print(f'Время подбора параметров: {round(lgbm_search_time, 2)} сек')\n",
    "print(f'Время обучения модели: {round(lgbm_model.cv_results_[\"mean_fit_time\"][lgbm_model.best_index_], 5)} сек')\n",
    "print(f'Время предсказания модели: {round(lgbm_model.cv_results_[\"mean_score_time\"][lgbm_model.best_index_], 5)} сек')\n",
    "print(f'Лучшие значения параметров: {lgbm_model.best_params_}')\n",
    "print(f'F1 на кросс-валидации:', lgbm_model.best_score_)"
   ]
  },
  {
   "cell_type": "markdown",
   "metadata": {},
   "source": [
    "### XGBoost Classifier"
   ]
  },
  {
   "cell_type": "code",
   "execution_count": 187,
   "metadata": {},
   "outputs": [],
   "source": [
    "xgb_class_weight = float(np.sum(train_target == 0) / np.sum(train_target == 1))"
   ]
  },
  {
   "cell_type": "code",
   "execution_count": 188,
   "metadata": {},
   "outputs": [],
   "source": [
    "xgb_model = XGBClassifier(random_state=42, n_jobs=-1, scale_pos_weight=xgb_class_weight)\n",
    "xgb_params = {\n",
    "    'max_depth': range(6,10,2),\n",
    "    'n_estimators': range(50,90,10),\n",
    "}\n",
    "xgb_model = GridSearchCV(xgb_model, param_grid=xgb_params, cv=k_fold, scoring='f1', n_jobs=-1)"
   ]
  },
  {
   "cell_type": "code",
   "execution_count": 189,
   "metadata": {},
   "outputs": [],
   "source": [
    "xgb_start = time.time()\n",
    "xgb_model.fit(train_features, train_target)\n",
    "xgb_search_time = time.time() - xgb_start"
   ]
  },
  {
   "cell_type": "code",
   "execution_count": 190,
   "metadata": {},
   "outputs": [
    {
     "name": "stdout",
     "output_type": "stream",
     "text": [
      "Результаты подбора параметров.\n",
      "\n",
      "Время подбора параметров: 4.33 мин\n",
      "Время обучения модели: 45.42939 сек\n",
      "Время предсказания модели: 0.10893 сек\n",
      "Лучшие значения параметров: {'max_depth': 6, 'n_estimators': 60}\n",
      "F1 на кросс-валидации: 0.6597644382104878\n"
     ]
    }
   ],
   "source": [
    "print('Результаты подбора параметров.\\n')\n",
    "print(f'Время подбора параметров: {round(xgb_search_time/60, 2)} мин')\n",
    "print(f'Время обучения модели: {round(xgb_model.cv_results_[\"mean_fit_time\"][xgb_model.best_index_], 5)} сек')\n",
    "print(f'Время предсказания модели: {round(xgb_model.cv_results_[\"mean_score_time\"][xgb_model.best_index_], 5)} сек')\n",
    "print(f'Лучшие значения параметров: {xgb_model.best_params_}')\n",
    "print(f'F1 на кросс-валидации:', xgb_model.best_score_)"
   ]
  },
  {
   "cell_type": "markdown",
   "metadata": {},
   "source": [
    "**Вывод:** Лучший показатель на кросс-валидации у CatBoost классификатора, хотя обучается он медленнее остальных моделей. Результаты сравнения представлены в таблице."
   ]
  },
  {
   "cell_type": "markdown",
   "metadata": {},
   "source": [
    "|Модель|Время обучения|Время предсказания| F1 score на валидации|\n",
    "|:---|:---|:---|:---|\n",
    "|CatBoost|1 мин|0.04 сек|0.72|\n",
    "|LightGBM|17.6 сек|0.05 сек|0.68|\n",
    "|Логистическая регрессия|4.7 сек|0.01 сек|0.66|\n",
    "|XGBoost|45.4 сек|0.11 сек|0.66|\n",
    "|Случайный лес|2.9 сек|0.03 сек|0.50|\n",
    "|Дерево решений|3.2 сек|0.01 сек|0.34|"
   ]
  },
  {
   "cell_type": "markdown",
   "metadata": {},
   "source": [
    "## Выводы"
   ]
  },
  {
   "cell_type": "code",
   "execution_count": 192,
   "metadata": {},
   "outputs": [
    {
     "name": "stdout",
     "output_type": "stream",
     "text": [
      "Результаты предсказания логистической регрессии на тестовой выборке.\n",
      "\n",
      "F1 на тестовой выборке: 0.8125000000000001\n"
     ]
    }
   ],
   "source": [
    "print('Результаты предсказания логистической регрессии на тестовой выборке.\\n')\n",
    "print('F1 на тестовой выборке:', f1_score(test_target, cat_model.predict(test_features)))"
   ]
  },
  {
   "cell_type": "code",
   "execution_count": 193,
   "metadata": {},
   "outputs": [
    {
     "name": "stdout",
     "output_type": "stream",
     "text": [
      "AUC-ROC: 0.9183455433455433\n"
     ]
    }
   ],
   "source": [
    "proba_test = log_model.predict_proba(test_features)[:,1]\n",
    "print('AUC-ROC:', roc_auc_score(test_target, proba_test))"
   ]
  },
  {
   "cell_type": "code",
   "execution_count": 194,
   "metadata": {},
   "outputs": [
    {
     "data": {
      "image/png": "[encoded data removed]",
      "text/plain": [
       "<Figure size 360x360 with 1 Axes>"
      ]
     },
     "metadata": {
      "needs_background": "light"
     },
     "output_type": "display_data"
    }
   ],
   "source": [
    "fpr, tpr, treshold = roc_curve(test_target, proba_test)\n",
    "roc_auc = auc(fpr, tpr)\n",
    "\n",
    "plt.figure(figsize=(5,5))\n",
    "plt.plot(fpr, tpr, color='darkorange',\n",
    "         label='ROC кривая (area = %0.2f)' % roc_auc)\n",
    "plt.plot([0, 1], [0, 1], color='navy', linestyle='--')\n",
    "plt.xlim([0.0, 1.0])\n",
    "plt.ylim([0.0, 1.05])\n",
    "plt.xlabel('False Positive Rate')\n",
    "plt.ylabel('True Positive Rate')\n",
    "plt.title('ROC кривая')\n",
    "plt.legend(loc=\"lower right\")\n",
    "plt.grid()\n",
    "plt.show()"
   ]
  },
  {
   "cell_type": "markdown",
   "metadata": {},
   "source": [
    "## Выводы"
   ]
  },
  {
   "cell_type": "markdown",
   "metadata": {},
   "source": [
    "В проекте была решена задача классификации комментариев на токсичные и не токсичные. Целевая метрика была достигнута – качество на тестовой выборке (F1 score) – 0.81.\n",
    "\n",
    "На первом этапе исследования мы получили признаки из текста. Мы токенизировали слова и получили их эмбеддинги, используя модель BERT (конфигурация toxic bert). В процессе подготовки данных мы также обнаружили дисбаланс в классах – комментариев, которые не являются токсичными, намного больше чем тех, что являются токсичными. Эту проблему мы постарались учесть, задав соответсвующие параметры моделей.\n",
    "\n",
    "Далее мы обучили шесть моделей – Дерево решений, Случайный лес, Логистическую регрессию, а также модели градиентного бустинга CatBoost, LightGBM и XGBoost. Получив результаты обучения, мы сравнили метрики качества, а также скорость обучения и предсказания моделей. В результате в качестве итоговой модели, которую предлагается использовать для поиска токсичных комментариев, был выбран **CatBoost** классификатор."
   ]
  }
 ],
 "metadata": {
  "kernelspec": {
   "display_name": "Python 3 (ipykernel)",
   "language": "python",
   "name": "python3"
  },
  "language_info": {
   "codemirror_mode": {
    "name": "ipython",
    "version": 3
   },
   "file_extension": ".py",
   "mimetype": "text/x-python",
   "name": "python",
   "nbconvert_exporter": "python",
   "pygments_lexer": "ipython3",
   "version": "3.9.12"
  },
  "toc": {
   "base_numbering": 1,
   "nav_menu": {},
   "number_sections": true,
   "sideBar": true,
   "skip_h1_title": true,
   "title_cell": "Содержание",
   "title_sidebar": "Contents",
   "toc_cell": true,
   "toc_position": {
    "height": "calc(100% - 180px)",
    "left": "10px",
    "top": "150px",
    "width": "302.391px"
   },
   "toc_section_display": true,
   "toc_window_display": false
  }
 },
 "nbformat": 4,
 "nbformat_minor": 4
}
