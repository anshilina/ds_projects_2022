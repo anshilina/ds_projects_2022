{
 "cells": [
  {
   "cell_type": "markdown",
   "metadata": {},
   "source": [
    "# Protection of the personal information provided by customers"
   ]
  },
  {
   "cell_type": "code",
   "execution_count": 3,
   "metadata": {},
   "outputs": [],
   "source": [
    "import pandas as pd\n",
    "import numpy as np\n",
    "import random\n",
    "\n",
    "import seaborn as sns\n",
    "import matplotlib.pyplot as plt\n",
    "from IPython.display import display\n",
    "\n",
    "from sklearn.pipeline import Pipeline\n",
    "from sklearn.model_selection import train_test_split\n",
    "from sklearn.preprocessing import StandardScaler\n",
    "from sklearn.linear_model import LinearRegression\n",
    "from sklearn.metrics import r2_score\n",
    "from sklearn.base import BaseEstimator, TransformerMixin"
   ]
  },
  {
   "cell_type": "code",
   "execution_count": 106,
   "metadata": {},
   "outputs": [],
   "source": [
    "# function for generation of inverse matrix of random values\n",
    "\n",
    "def get_random_matrix(rows, cols):\n",
    "    matrix = np.random.normal(size=(rows, cols))\n",
    "    try:\n",
    "        inv_matrix = np.linalg.inv(matrix)\n",
    "        return matrix, inv_matrix\n",
    "    except:\n",
    "        get_random_matrix(rows, cols)"
   ]
  },
  {
   "cell_type": "markdown",
   "metadata": {},
   "source": [
    "## Data description"
   ]
  },
  {
   "cell_type": "code",
   "execution_count": 4,
   "metadata": {},
   "outputs": [],
   "source": [
    "try:\n",
    "    df = pd.read_csv('/datasets/insurance.csv')\n",
    "except:\n",
    "    df = pd.read_csv('/Users/anshilina/Documents/insurance.csv')"
   ]
  },
  {
   "cell_type": "code",
   "execution_count": 108,
   "metadata": {},
   "outputs": [
    {
     "data": {
      "text/html": [
       "<div>\n",
       "<style scoped>\n",
       "    .dataframe tbody tr th:only-of-type {\n",
       "        vertical-align: middle;\n",
       "    }\n",
       "\n",
       "    .dataframe tbody tr th {\n",
       "        vertical-align: top;\n",
       "    }\n",
       "\n",
       "    .dataframe thead th {\n",
       "        text-align: right;\n",
       "    }\n",
       "</style>\n",
       "<table border=\"1\" class=\"dataframe\">\n",
       "  <thead>\n",
       "    <tr style=\"text-align: right;\">\n",
       "      <th></th>\n",
       "      <th>Пол</th>\n",
       "      <th>Возраст</th>\n",
       "      <th>Зарплата</th>\n",
       "      <th>Члены семьи</th>\n",
       "      <th>Страховые выплаты</th>\n",
       "    </tr>\n",
       "  </thead>\n",
       "  <tbody>\n",
       "    <tr>\n",
       "      <th>0</th>\n",
       "      <td>1</td>\n",
       "      <td>41.0</td>\n",
       "      <td>49600.0</td>\n",
       "      <td>1</td>\n",
       "      <td>0</td>\n",
       "    </tr>\n",
       "    <tr>\n",
       "      <th>1</th>\n",
       "      <td>0</td>\n",
       "      <td>46.0</td>\n",
       "      <td>38000.0</td>\n",
       "      <td>1</td>\n",
       "      <td>1</td>\n",
       "    </tr>\n",
       "    <tr>\n",
       "      <th>2</th>\n",
       "      <td>0</td>\n",
       "      <td>29.0</td>\n",
       "      <td>21000.0</td>\n",
       "      <td>0</td>\n",
       "      <td>0</td>\n",
       "    </tr>\n",
       "    <tr>\n",
       "      <th>3</th>\n",
       "      <td>0</td>\n",
       "      <td>21.0</td>\n",
       "      <td>41700.0</td>\n",
       "      <td>2</td>\n",
       "      <td>0</td>\n",
       "    </tr>\n",
       "    <tr>\n",
       "      <th>4</th>\n",
       "      <td>1</td>\n",
       "      <td>28.0</td>\n",
       "      <td>26100.0</td>\n",
       "      <td>0</td>\n",
       "      <td>0</td>\n",
       "    </tr>\n",
       "    <tr>\n",
       "      <th>...</th>\n",
       "      <td>...</td>\n",
       "      <td>...</td>\n",
       "      <td>...</td>\n",
       "      <td>...</td>\n",
       "      <td>...</td>\n",
       "    </tr>\n",
       "    <tr>\n",
       "      <th>4995</th>\n",
       "      <td>0</td>\n",
       "      <td>28.0</td>\n",
       "      <td>35700.0</td>\n",
       "      <td>2</td>\n",
       "      <td>0</td>\n",
       "    </tr>\n",
       "    <tr>\n",
       "      <th>4996</th>\n",
       "      <td>0</td>\n",
       "      <td>34.0</td>\n",
       "      <td>52400.0</td>\n",
       "      <td>1</td>\n",
       "      <td>0</td>\n",
       "    </tr>\n",
       "    <tr>\n",
       "      <th>4997</th>\n",
       "      <td>0</td>\n",
       "      <td>20.0</td>\n",
       "      <td>33900.0</td>\n",
       "      <td>2</td>\n",
       "      <td>0</td>\n",
       "    </tr>\n",
       "    <tr>\n",
       "      <th>4998</th>\n",
       "      <td>1</td>\n",
       "      <td>22.0</td>\n",
       "      <td>32700.0</td>\n",
       "      <td>3</td>\n",
       "      <td>0</td>\n",
       "    </tr>\n",
       "    <tr>\n",
       "      <th>4999</th>\n",
       "      <td>1</td>\n",
       "      <td>28.0</td>\n",
       "      <td>40600.0</td>\n",
       "      <td>1</td>\n",
       "      <td>0</td>\n",
       "    </tr>\n",
       "  </tbody>\n",
       "</table>\n",
       "<p>5000 rows × 5 columns</p>\n",
       "</div>"
      ],
      "text/plain": [
       "      Пол  Возраст  Зарплата  Члены семьи  Страховые выплаты\n",
       "0       1     41.0   49600.0            1                  0\n",
       "1       0     46.0   38000.0            1                  1\n",
       "2       0     29.0   21000.0            0                  0\n",
       "3       0     21.0   41700.0            2                  0\n",
       "4       1     28.0   26100.0            0                  0\n",
       "...   ...      ...       ...          ...                ...\n",
       "4995    0     28.0   35700.0            2                  0\n",
       "4996    0     34.0   52400.0            1                  0\n",
       "4997    0     20.0   33900.0            2                  0\n",
       "4998    1     22.0   32700.0            3                  0\n",
       "4999    1     28.0   40600.0            1                  0\n",
       "\n",
       "[5000 rows x 5 columns]"
      ]
     },
     "metadata": {},
     "output_type": "display_data"
    }
   ],
   "source": [
    "display(df)"
   ]
  },
  {
   "cell_type": "code",
   "execution_count": 109,
   "metadata": {},
   "outputs": [
    {
     "data": {
      "text/html": [
       "<div>\n",
       "<style scoped>\n",
       "    .dataframe tbody tr th:only-of-type {\n",
       "        vertical-align: middle;\n",
       "    }\n",
       "\n",
       "    .dataframe tbody tr th {\n",
       "        vertical-align: top;\n",
       "    }\n",
       "\n",
       "    .dataframe thead th {\n",
       "        text-align: right;\n",
       "    }\n",
       "</style>\n",
       "<table border=\"1\" class=\"dataframe\">\n",
       "  <thead>\n",
       "    <tr style=\"text-align: right;\">\n",
       "      <th></th>\n",
       "      <th>Пол</th>\n",
       "      <th>Возраст</th>\n",
       "      <th>Зарплата</th>\n",
       "      <th>Члены семьи</th>\n",
       "      <th>Страховые выплаты</th>\n",
       "    </tr>\n",
       "  </thead>\n",
       "  <tbody>\n",
       "    <tr>\n",
       "      <th>count</th>\n",
       "      <td>5000.000000</td>\n",
       "      <td>5000.000000</td>\n",
       "      <td>5000.000000</td>\n",
       "      <td>5000.000000</td>\n",
       "      <td>5000.000000</td>\n",
       "    </tr>\n",
       "    <tr>\n",
       "      <th>mean</th>\n",
       "      <td>0.499000</td>\n",
       "      <td>30.952800</td>\n",
       "      <td>39916.360000</td>\n",
       "      <td>1.194200</td>\n",
       "      <td>0.148000</td>\n",
       "    </tr>\n",
       "    <tr>\n",
       "      <th>std</th>\n",
       "      <td>0.500049</td>\n",
       "      <td>8.440807</td>\n",
       "      <td>9900.083569</td>\n",
       "      <td>1.091387</td>\n",
       "      <td>0.463183</td>\n",
       "    </tr>\n",
       "    <tr>\n",
       "      <th>min</th>\n",
       "      <td>0.000000</td>\n",
       "      <td>18.000000</td>\n",
       "      <td>5300.000000</td>\n",
       "      <td>0.000000</td>\n",
       "      <td>0.000000</td>\n",
       "    </tr>\n",
       "    <tr>\n",
       "      <th>25%</th>\n",
       "      <td>0.000000</td>\n",
       "      <td>24.000000</td>\n",
       "      <td>33300.000000</td>\n",
       "      <td>0.000000</td>\n",
       "      <td>0.000000</td>\n",
       "    </tr>\n",
       "    <tr>\n",
       "      <th>50%</th>\n",
       "      <td>0.000000</td>\n",
       "      <td>30.000000</td>\n",
       "      <td>40200.000000</td>\n",
       "      <td>1.000000</td>\n",
       "      <td>0.000000</td>\n",
       "    </tr>\n",
       "    <tr>\n",
       "      <th>75%</th>\n",
       "      <td>1.000000</td>\n",
       "      <td>37.000000</td>\n",
       "      <td>46600.000000</td>\n",
       "      <td>2.000000</td>\n",
       "      <td>0.000000</td>\n",
       "    </tr>\n",
       "    <tr>\n",
       "      <th>max</th>\n",
       "      <td>1.000000</td>\n",
       "      <td>65.000000</td>\n",
       "      <td>79000.000000</td>\n",
       "      <td>6.000000</td>\n",
       "      <td>5.000000</td>\n",
       "    </tr>\n",
       "  </tbody>\n",
       "</table>\n",
       "</div>"
      ],
      "text/plain": [
       "               Пол      Возраст      Зарплата  Члены семьи  Страховые выплаты\n",
       "count  5000.000000  5000.000000   5000.000000  5000.000000        5000.000000\n",
       "mean      0.499000    30.952800  39916.360000     1.194200           0.148000\n",
       "std       0.500049     8.440807   9900.083569     1.091387           0.463183\n",
       "min       0.000000    18.000000   5300.000000     0.000000           0.000000\n",
       "25%       0.000000    24.000000  33300.000000     0.000000           0.000000\n",
       "50%       0.000000    30.000000  40200.000000     1.000000           0.000000\n",
       "75%       1.000000    37.000000  46600.000000     2.000000           0.000000\n",
       "max       1.000000    65.000000  79000.000000     6.000000           5.000000"
      ]
     },
     "metadata": {},
     "output_type": "display_data"
    }
   ],
   "source": [
    "display(df.describe())"
   ]
  },
  {
   "cell_type": "code",
   "execution_count": 110,
   "metadata": {},
   "outputs": [
    {
     "name": "stdout",
     "output_type": "stream",
     "text": [
      "<class 'pandas.core.frame.DataFrame'>\n",
      "RangeIndex: 5000 entries, 0 to 4999\n",
      "Data columns (total 5 columns):\n",
      " #   Column             Non-Null Count  Dtype  \n",
      "---  ------             --------------  -----  \n",
      " 0   Пол                5000 non-null   int64  \n",
      " 1   Возраст            5000 non-null   float64\n",
      " 2   Зарплата           5000 non-null   float64\n",
      " 3   Члены семьи        5000 non-null   int64  \n",
      " 4   Страховые выплаты  5000 non-null   int64  \n",
      "dtypes: float64(2), int64(3)\n",
      "memory usage: 195.4 KB\n"
     ]
    }
   ],
   "source": [
    "df.info()"
   ]
  },
  {
   "cell_type": "code",
   "execution_count": 111,
   "metadata": {},
   "outputs": [],
   "source": [
    "df.columns = ['Gender', 'Age', 'Salary', 'Family members', 'Insurance payments']"
   ]
  },
  {
   "cell_type": "code",
   "execution_count": 112,
   "metadata": {},
   "outputs": [],
   "source": [
    "df['Age'] = df['Age'].astype('int')"
   ]
  },
  {
   "cell_type": "code",
   "execution_count": 113,
   "metadata": {},
   "outputs": [
    {
     "name": "stdout",
     "output_type": "stream",
     "text": [
      "Number of missing values: 0\n"
     ]
    }
   ],
   "source": [
    "print('Number of missing values:', df.isna().sum().sum())"
   ]
  },
  {
   "cell_type": "code",
   "execution_count": 114,
   "metadata": {},
   "outputs": [
    {
     "name": "stdout",
     "output_type": "stream",
     "text": [
      "Number of duplicates: 153\n"
     ]
    }
   ],
   "source": [
    "print('Number of duplicates:', df.duplicated().sum())"
   ]
  },
  {
   "cell_type": "code",
   "execution_count": 115,
   "metadata": {},
   "outputs": [],
   "source": [
    "df.drop_duplicates(inplace=True)"
   ]
  },
  {
   "cell_type": "code",
   "execution_count": 116,
   "metadata": {},
   "outputs": [
    {
     "data": {
      "image/png": "[encoded data removed]",
      "text/plain": [
       "<Figure size 720x720 with 2 Axes>"
      ]
     },
     "metadata": {
      "needs_background": "light"
     },
     "output_type": "display_data"
    }
   ],
   "source": [
    "col_names = ['Age', 'Salary']\n",
    "_, axs = plt.subplots(2, 1, figsize=(10,10))\n",
    "axs = axs.ravel()\n",
    "\n",
    "for i in range(len(col_names)):\n",
    "    ax = axs[i]\n",
    "    sns.histplot(ax=ax, x=df[col_names[i]], data=df)\n",
    "    ax.tick_params(axis='x')\n",
    "    ax.set_title(f'Distribution of the variable \"{col_names[i]}\"')"
   ]
  },
  {
   "cell_type": "code",
   "execution_count": 117,
   "metadata": {},
   "outputs": [
    {
     "data": {
      "image/png": "[encoded data removed]",
      "text/plain": [
       "<Figure size 720x1152 with 3 Axes>"
      ]
     },
     "metadata": {
      "needs_background": "light"
     },
     "output_type": "display_data"
    }
   ],
   "source": [
    "col_names = ['Gender', 'Family members', 'Insurance payments']\n",
    "_, axs = plt.subplots(3, 1, figsize=(10,16))\n",
    "axs = axs.ravel()\n",
    "\n",
    "for i in range(len(col_names)):\n",
    "    ax = axs[i]\n",
    "    sns.histplot(ax=ax, x=df[col_names[i]], data=df)\n",
    "    ax.tick_params(axis='x')\n",
    "    ax.set_title(f'Distribution of the variable \"{col_names[i]}\"')"
   ]
  },
  {
   "cell_type": "markdown",
   "metadata": {},
   "source": [
    "**Summary:** There are 5 thousand observations in total, 153 of which are duplicates - we dropped them from the sample. There are no missing values. After studying variables, we concluded that the values of the `Age` can be converted to integer. Variable `Gender` is binary - there are the same number of men and women in the sample. Variables `Family members` and `Insurance payments` are discrete ones. The majority of people in the sample has 1 member of the family. There are little large families (5-6 people). In most cases, people did not receive any insurance payments, since there were no insured events."
   ]
  },
  {
   "cell_type": "code",
   "execution_count": 118,
   "metadata": {},
   "outputs": [
    {
     "data": {
      "text/html": [
       "<div>\n",
       "<style scoped>\n",
       "    .dataframe tbody tr th:only-of-type {\n",
       "        vertical-align: middle;\n",
       "    }\n",
       "\n",
       "    .dataframe tbody tr th {\n",
       "        vertical-align: top;\n",
       "    }\n",
       "\n",
       "    .dataframe thead th {\n",
       "        text-align: right;\n",
       "    }\n",
       "</style>\n",
       "<table border=\"1\" class=\"dataframe\">\n",
       "  <thead>\n",
       "    <tr style=\"text-align: right;\">\n",
       "      <th></th>\n",
       "      <th>Gender</th>\n",
       "      <th>Age</th>\n",
       "      <th>Salary</th>\n",
       "      <th>Family members</th>\n",
       "      <th>Insurance payments</th>\n",
       "    </tr>\n",
       "  </thead>\n",
       "  <tbody>\n",
       "    <tr>\n",
       "      <th>Gender</th>\n",
       "      <td>1.000000</td>\n",
       "      <td>0.001953</td>\n",
       "      <td>0.015456</td>\n",
       "      <td>-0.007315</td>\n",
       "      <td>0.011565</td>\n",
       "    </tr>\n",
       "    <tr>\n",
       "      <th>Age</th>\n",
       "      <td>0.001953</td>\n",
       "      <td>1.000000</td>\n",
       "      <td>-0.017386</td>\n",
       "      <td>-0.009064</td>\n",
       "      <td>0.654964</td>\n",
       "    </tr>\n",
       "    <tr>\n",
       "      <th>Salary</th>\n",
       "      <td>0.015456</td>\n",
       "      <td>-0.017386</td>\n",
       "      <td>1.000000</td>\n",
       "      <td>-0.031687</td>\n",
       "      <td>-0.013123</td>\n",
       "    </tr>\n",
       "    <tr>\n",
       "      <th>Family members</th>\n",
       "      <td>-0.007315</td>\n",
       "      <td>-0.009064</td>\n",
       "      <td>-0.031687</td>\n",
       "      <td>1.000000</td>\n",
       "      <td>-0.039303</td>\n",
       "    </tr>\n",
       "    <tr>\n",
       "      <th>Insurance payments</th>\n",
       "      <td>0.011565</td>\n",
       "      <td>0.654964</td>\n",
       "      <td>-0.013123</td>\n",
       "      <td>-0.039303</td>\n",
       "      <td>1.000000</td>\n",
       "    </tr>\n",
       "  </tbody>\n",
       "</table>\n",
       "</div>"
      ],
      "text/plain": [
       "                      Gender       Age    Salary  Family members  \\\n",
       "Gender              1.000000  0.001953  0.015456       -0.007315   \n",
       "Age                 0.001953  1.000000 -0.017386       -0.009064   \n",
       "Salary              0.015456 -0.017386  1.000000       -0.031687   \n",
       "Family members     -0.007315 -0.009064 -0.031687        1.000000   \n",
       "Insurance payments  0.011565  0.654964 -0.013123       -0.039303   \n",
       "\n",
       "                    Insurance payments  \n",
       "Gender                        0.011565  \n",
       "Age                           0.654964  \n",
       "Salary                       -0.013123  \n",
       "Family members               -0.039303  \n",
       "Insurance payments            1.000000  "
      ]
     },
     "metadata": {},
     "output_type": "display_data"
    }
   ],
   "source": [
    "display(df.corr())"
   ]
  },
  {
   "cell_type": "code",
   "execution_count": 119,
   "metadata": {},
   "outputs": [
    {
     "data": {
      "image/png": "[encoded data removed]",
      "text/plain": [
       "<Figure size 764.875x720 with 20 Axes>"
      ]
     },
     "metadata": {
      "needs_background": "light"
     },
     "output_type": "display_data"
    }
   ],
   "source": [
    "sns.pairplot(df, hue='Gender')\n",
    "plt.show()"
   ]
  },
  {
   "cell_type": "markdown",
   "metadata": {},
   "source": [
    "**Summary:** Feature variables are not correlated, i.e. there is no ьulticollinearity. Multicollinearity is a problem because it distorts the statistical significance of the independent variable. However, it does not harm Decision Tree and Random Forest models. Multicollinearity causes overfitting of linear models. What is more, if there is a multicollinearity it means that the model has excessive variables that are not benefisial for fitting. These unnessesary variables only increases the fitting time and make it difficult to interpret the results."
   ]
  },
  {
   "cell_type": "markdown",
   "metadata": {},
   "source": [
    "## Matrix multiplication"
   ]
  },
  {
   "cell_type": "markdown",
   "metadata": {},
   "source": [
    "If we multiply the features by an invertible matrix, we will encode information provided by customers and the quality of the linear regression will not change.\n",
    "\n",
    "**Argumentation:** Linear regression is indifferent to features' scale changes. Therefore, if we multiply the feature matrix by an invertible square matrix with random values from a normal distribution, the features will not change relative to each other – their weight will remain the same, therefore, this data manipulation will not affect linear regression coefficients. At the same time, if we need to decode the data, we can multiply the resulting matrix by its inverse. Thus, we can safely use feature scaling (StandardScaler, etc.) to scale features and it will not affect the outcomes of our model.\n",
    "\n",
    "Therefore, the linear regression on encoded data will be solved as follows:\n",
    "\n",
    "Designations:\n",
    "\n",
    "- $X$ - feature matrix (zero column consists of ones)\n",
    "\n",
    "- $R$ – matrix of random values by which features are multiplied\n",
    "\n",
    "- $y$ — target feature vector\n",
    "\n",
    "- $w$ — vector of linear regression weights (zero element equals intercept)\n",
    "\n",
    "Predictions:\n",
    "\n",
    "$$\n",
    "a1 = Xw1\n",
    "$$\n",
    "\n",
    "$$\n",
    "a2 = XRw2\n",
    "$$\n",
    "\n",
    "Model fitting:\n",
    "\n",
    "$$\n",
    "w1 = \\arg\\min_w MSE(Xw, y)\n",
    "$$\n",
    "\n",
    "$$\n",
    "w2 = \\arg\\min_w MSE(XRw, y)\n",
    "$$\n",
    "\n",
    "$$\n",
    "w1 = (X^T X)^{-1} X^T y\n",
    "$$\n",
    "\n",
    "$$\n",
    "w2 = ((XR)^T (XR))^{-1} (XR)^T y\n",
    "$$\n",
    "\n",
    "\n",
    "Properties of Matrix Multiplication:\n",
    "\n",
    "$$ \n",
    "A * B * C = A * (B * C) \n",
    "$$ \n",
    "\n",
    "$$ \n",
    "(A * B)^T = B^T * A^T \n",
    "$$ \n",
    "\n",
    "$$\n",
    "(A * B)^{-1} = B^{-1} * A^{-1}\n",
    "$$ \n",
    "\n",
    "$$ \n",
    "A * A^{-1} = E\n",
    "$$ \n",
    "\n",
    "Using these properties, let's find predictions on the encoded features matrix and compare with predictions on the initial features matrix:\n",
    "\n",
    "$$\n",
    "w2 = ((XR)^T (XR))^{-1} (XR)^T y = (R^T (X^T X) R)^{-1} R^T X^T y = R^{-1} (X^T X)^{-1} (R^T)^{-1} R^T X^T y = R^{-1} (X^T X)^{-1} X^T = R^{-1} w1\n",
    "$$\n",
    "\n",
    "$$\n",
    "a2 = X R R^{-1} w1 = X w1\n",
    "$$"
   ]
  },
  {
   "cell_type": "markdown",
   "metadata": {},
   "source": [
    "## Conversion algorithm"
   ]
  },
  {
   "cell_type": "markdown",
   "metadata": {},
   "source": [
    "**Algorithm:**\n",
    "\n",
    "* Create a square matrix of random values. The size of the matrix corresponds to the number of features.\n",
    "* Test matrix for invertibility. If it is not invertible, continue to generate matrices until we get a invertible one.\n",
    "* Encode the data: multiply the features matrix by the matrix of random values, save the resulting features.\n",
    "* Fit linear regression model on new data, calculate the R2 score.\n",
    "* Fit linear regression model on the initial data, calculate the R2 score.\n",
    "* Compare the scores obtained from the results of two models - we expect them to match."
   ]
  },
  {
   "cell_type": "markdown",
   "metadata": {},
   "source": [
    "## Algorithm testing"
   ]
  },
  {
   "cell_type": "code",
   "execution_count": 120,
   "metadata": {},
   "outputs": [],
   "source": [
    "features = df.drop('Insurance payments', axis=1)\n",
    "target = df['Insurance payments']"
   ]
  },
  {
   "cell_type": "code",
   "execution_count": 121,
   "metadata": {},
   "outputs": [],
   "source": [
    "random_matrix, inv_matrix = get_random_matrix(features.shape[1], features.shape[1])"
   ]
  },
  {
   "cell_type": "code",
   "execution_count": 122,
   "metadata": {
    "scrolled": true,
    "tags": []
   },
   "outputs": [],
   "source": [
    "# get encoded features \n",
    "\n",
    "features_safe = features @ random_matrix"
   ]
  },
  {
   "cell_type": "code",
   "execution_count": 123,
   "metadata": {},
   "outputs": [
    {
     "data": {
      "text/html": [
       "<div>\n",
       "<style scoped>\n",
       "    .dataframe tbody tr th:only-of-type {\n",
       "        vertical-align: middle;\n",
       "    }\n",
       "\n",
       "    .dataframe tbody tr th {\n",
       "        vertical-align: top;\n",
       "    }\n",
       "\n",
       "    .dataframe thead th {\n",
       "        text-align: right;\n",
       "    }\n",
       "</style>\n",
       "<table border=\"1\" class=\"dataframe\">\n",
       "  <thead>\n",
       "    <tr style=\"text-align: right;\">\n",
       "      <th></th>\n",
       "      <th>0</th>\n",
       "      <th>1</th>\n",
       "      <th>2</th>\n",
       "      <th>3</th>\n",
       "    </tr>\n",
       "  </thead>\n",
       "  <tbody>\n",
       "    <tr>\n",
       "      <th>0</th>\n",
       "      <td>-64611.111156</td>\n",
       "      <td>-30395.432003</td>\n",
       "      <td>62524.486849</td>\n",
       "      <td>1700.894283</td>\n",
       "    </tr>\n",
       "    <tr>\n",
       "      <th>1</th>\n",
       "      <td>-49471.609169</td>\n",
       "      <td>-23277.174350</td>\n",
       "      <td>47899.422484</td>\n",
       "      <td>1297.552355</td>\n",
       "    </tr>\n",
       "    <tr>\n",
       "      <th>2</th>\n",
       "      <td>-27332.451756</td>\n",
       "      <td>-12862.026450</td>\n",
       "      <td>26470.111276</td>\n",
       "      <td>716.442990</td>\n",
       "    </tr>\n",
       "    <tr>\n",
       "      <th>3</th>\n",
       "      <td>-54347.093792</td>\n",
       "      <td>-25561.495112</td>\n",
       "      <td>52567.067492</td>\n",
       "      <td>1433.024471</td>\n",
       "    </tr>\n",
       "    <tr>\n",
       "      <th>4</th>\n",
       "      <td>-33986.169081</td>\n",
       "      <td>-15990.877226</td>\n",
       "      <td>32900.542841</td>\n",
       "      <td>893.575865</td>\n",
       "    </tr>\n",
       "  </tbody>\n",
       "</table>\n",
       "</div>"
      ],
      "text/plain": [
       "              0             1             2            3\n",
       "0 -64611.111156 -30395.432003  62524.486849  1700.894283\n",
       "1 -49471.609169 -23277.174350  47899.422484  1297.552355\n",
       "2 -27332.451756 -12862.026450  26470.111276   716.442990\n",
       "3 -54347.093792 -25561.495112  52567.067492  1433.024471\n",
       "4 -33986.169081 -15990.877226  32900.542841   893.575865"
      ]
     },
     "metadata": {},
     "output_type": "display_data"
    }
   ],
   "source": [
    "display(features_safe.head())"
   ]
  },
  {
   "cell_type": "code",
   "execution_count": 124,
   "metadata": {},
   "outputs": [],
   "source": [
    "# split sample into train and test subsets\n",
    "features_train, features_test, target_train, target_test = \\\n",
    "                                        train_test_split(features, target, test_size=0.25, random_state=42)\n",
    "\n",
    "# the same algorithm for encoded data\n",
    "features_safe_train, features_safe_test, target_safe_train, target_safe_test = \\\n",
    "                                        train_test_split(features_safe, target, test_size=0.25, random_state=42)"
   ]
  },
  {
   "cell_type": "code",
   "execution_count": 125,
   "metadata": {},
   "outputs": [],
   "source": [
    "pipe = Pipeline([('scaler', StandardScaler()), ('lin_model', LinearRegression())])"
   ]
  },
  {
   "cell_type": "code",
   "execution_count": 126,
   "metadata": {},
   "outputs": [
    {
     "name": "stdout",
     "output_type": "stream",
     "text": [
      "0.44346330831610503\n"
     ]
    }
   ],
   "source": [
    "# R2 score on encoded data\n",
    "\n",
    "pipe.fit(features_safe_train, target_safe_train)\n",
    "print(r2_score(target_safe_test, pipe.predict(features_safe_test)))"
   ]
  },
  {
   "cell_type": "code",
   "execution_count": 127,
   "metadata": {},
   "outputs": [
    {
     "name": "stdout",
     "output_type": "stream",
     "text": [
      "0.44346330831611935\n"
     ]
    }
   ],
   "source": [
    "# R2 score on initial data\n",
    "\n",
    "pipe.fit(features_train, target_train)\n",
    "print(r2_score(target_test, pipe.predict(features_test)))"
   ]
  },
  {
   "cell_type": "markdown",
   "metadata": {},
   "source": [
    "**Summary:** Our algorithm works: the model predicts equally well encoded and unencoded data. R2 score are almost identical, the difference is observed only in 13th digit, which may be due to the fact that some features have a float type."
   ]
  },
  {
   "cell_type": "markdown",
   "metadata": {},
   "source": [
    "Finally, we created a class `EncoderMatrix` that can be used to encode data in the future. "
   ]
  },
  {
   "cell_type": "code",
   "execution_count": 133,
   "metadata": {},
   "outputs": [],
   "source": [
    "class EncoderMatrix(TransformerMixin, BaseEstimator):\n",
    "    def __init__(self, variables):\n",
    "        self.variables = variables\n",
    "        size = len(variables)\n",
    "        \n",
    "        def get_matrix(rows, cols):    \n",
    "            matrix = np.random.normal(size=(rows, cols))\n",
    "            try:\n",
    "                inv_matrix = np.linalg.inv(matrix)\n",
    "                return matrix\n",
    "            except:\n",
    "                get_matrix(rows, cols)\n",
    "        \n",
    "        self.matrix = get_matrix(size, size)\n",
    "    \n",
    "    def fit(self, feature, target):\n",
    "        return self\n",
    "    \n",
    "    def transform(self, features):\n",
    "        features_transformed = features.drop(self.variables, axis=1)\n",
    "        features_transformed[self.variables] = features[self.variables] @ self.matrix\n",
    "        return features_transformed"
   ]
  },
  {
   "cell_type": "markdown",
   "metadata": {},
   "source": [
    "We can use `Pipeline` that combines all stages of preprocessing."
   ]
  },
  {
   "cell_type": "code",
   "execution_count": 134,
   "metadata": {},
   "outputs": [],
   "source": [
    "pipe_final = Pipeline([('encoder', EncoderMatrix(features.columns)), \n",
    "                       ('scaler', StandardScaler()), \n",
    "                       ('lin_model', LinearRegression())])"
   ]
  },
  {
   "cell_type": "code",
   "execution_count": 135,
   "metadata": {
    "tags": []
   },
   "outputs": [
    {
     "data": {
      "text/html": [
       "<style>#sk-container-id-6 {color: black;background-color: white;}#sk-container-id-6 pre{padding: 0;}#sk-container-id-6 div.sk-toggleable {background-color: white;}#sk-container-id-6 label.sk-toggleable__label {cursor: pointer;display: block;width: 100%;margin-bottom: 0;padding: 0.3em;box-sizing: border-box;text-align: center;}#sk-container-id-6 label.sk-toggleable__label-arrow:before {content: \"▸\";float: left;margin-right: 0.25em;color: #696969;}#sk-container-id-6 label.sk-toggleable__label-arrow:hover:before {color: black;}#sk-container-id-6 div.sk-estimator:hover label.sk-toggleable__label-arrow:before {color: black;}#sk-container-id-6 div.sk-toggleable__content {max-height: 0;max-width: 0;overflow: hidden;text-align: left;background-color: #f0f8ff;}#sk-container-id-6 div.sk-toggleable__content pre {margin: 0.2em;color: black;border-radius: 0.25em;background-color: #f0f8ff;}#sk-container-id-6 input.sk-toggleable__control:checked~div.sk-toggleable__content {max-height: 200px;max-width: 100%;overflow: auto;}#sk-container-id-6 input.sk-toggleable__control:checked~label.sk-toggleable__label-arrow:before {content: \"▾\";}#sk-container-id-6 div.sk-estimator input.sk-toggleable__control:checked~label.sk-toggleable__label {background-color: #d4ebff;}#sk-container-id-6 div.sk-label input.sk-toggleable__control:checked~label.sk-toggleable__label {background-color: #d4ebff;}#sk-container-id-6 input.sk-hidden--visually {border: 0;clip: rect(1px 1px 1px 1px);clip: rect(1px, 1px, 1px, 1px);height: 1px;margin: -1px;overflow: hidden;padding: 0;position: absolute;width: 1px;}#sk-container-id-6 div.sk-estimator {font-family: monospace;background-color: #f0f8ff;border: 1px dotted black;border-radius: 0.25em;box-sizing: border-box;margin-bottom: 0.5em;}#sk-container-id-6 div.sk-estimator:hover {background-color: #d4ebff;}#sk-container-id-6 div.sk-parallel-item::after {content: \"\";width: 100%;border-bottom: 1px solid gray;flex-grow: 1;}#sk-container-id-6 div.sk-label:hover label.sk-toggleable__label {background-color: #d4ebff;}#sk-container-id-6 div.sk-serial::before {content: \"\";position: absolute;border-left: 1px solid gray;box-sizing: border-box;top: 0;bottom: 0;left: 50%;z-index: 0;}#sk-container-id-6 div.sk-serial {display: flex;flex-direction: column;align-items: center;background-color: white;padding-right: 0.2em;padding-left: 0.2em;position: relative;}#sk-container-id-6 div.sk-item {position: relative;z-index: 1;}#sk-container-id-6 div.sk-parallel {display: flex;align-items: stretch;justify-content: center;background-color: white;position: relative;}#sk-container-id-6 div.sk-item::before, #sk-container-id-6 div.sk-parallel-item::before {content: \"\";position: absolute;border-left: 1px solid gray;box-sizing: border-box;top: 0;bottom: 0;left: 50%;z-index: -1;}#sk-container-id-6 div.sk-parallel-item {display: flex;flex-direction: column;z-index: 1;position: relative;background-color: white;}#sk-container-id-6 div.sk-parallel-item:first-child::after {align-self: flex-end;width: 50%;}#sk-container-id-6 div.sk-parallel-item:last-child::after {align-self: flex-start;width: 50%;}#sk-container-id-6 div.sk-parallel-item:only-child::after {width: 0;}#sk-container-id-6 div.sk-dashed-wrapped {border: 1px dashed gray;margin: 0 0.4em 0.5em 0.4em;box-sizing: border-box;padding-bottom: 0.4em;background-color: white;}#sk-container-id-6 div.sk-label label {font-family: monospace;font-weight: bold;display: inline-block;line-height: 1.2em;}#sk-container-id-6 div.sk-label-container {text-align: center;}#sk-container-id-6 div.sk-container {/* jupyter's `normalize.less` sets `[hidden] { display: none; }` but bootstrap.min.css set `[hidden] { display: none !important; }` so we also need the `!important` here to be able to override the default hidden behavior on the sphinx rendered scikit-learn.org. See: https://github.com/scikit-learn/scikit-learn/issues/21755 */display: inline-block !important;position: relative;}#sk-container-id-6 div.sk-text-repr-fallback {display: none;}</style><div id=\"sk-container-id-6\" class=\"sk-top-container\"><div class=\"sk-text-repr-fallback\"><pre>Pipeline(steps=[(&#x27;encoder&#x27;,\n",
       "                 EncoderMatrix(variables=Index([&#x27;Gender&#x27;, &#x27;Age&#x27;, &#x27;Salary&#x27;, &#x27;Family members&#x27;], dtype=&#x27;object&#x27;))),\n",
       "                (&#x27;scaler&#x27;, StandardScaler()),\n",
       "                (&#x27;lin_model&#x27;, LinearRegression())])</pre><b>In a Jupyter environment, please rerun this cell to show the HTML representation or trust the notebook. <br />On GitHub, the HTML representation is unable to render, please try loading this page with nbviewer.org.</b></div><div class=\"sk-container\" hidden><div class=\"sk-item sk-dashed-wrapped\"><div class=\"sk-label-container\"><div class=\"sk-label sk-toggleable\"><input class=\"sk-toggleable__control sk-hidden--visually\" id=\"sk-estimator-id-21\" type=\"checkbox\" ><label for=\"sk-estimator-id-21\" class=\"sk-toggleable__label sk-toggleable__label-arrow\">Pipeline</label><div class=\"sk-toggleable__content\"><pre>Pipeline(steps=[(&#x27;encoder&#x27;,\n",
       "                 EncoderMatrix(variables=Index([&#x27;Gender&#x27;, &#x27;Age&#x27;, &#x27;Salary&#x27;, &#x27;Family members&#x27;], dtype=&#x27;object&#x27;))),\n",
       "                (&#x27;scaler&#x27;, StandardScaler()),\n",
       "                (&#x27;lin_model&#x27;, LinearRegression())])</pre></div></div></div><div class=\"sk-serial\"><div class=\"sk-item\"><div class=\"sk-estimator sk-toggleable\"><input class=\"sk-toggleable__control sk-hidden--visually\" id=\"sk-estimator-id-22\" type=\"checkbox\" ><label for=\"sk-estimator-id-22\" class=\"sk-toggleable__label sk-toggleable__label-arrow\">EncoderMatrix</label><div class=\"sk-toggleable__content\"><pre>EncoderMatrix(variables=Index([&#x27;Gender&#x27;, &#x27;Age&#x27;, &#x27;Salary&#x27;, &#x27;Family members&#x27;], dtype=&#x27;object&#x27;))</pre></div></div></div><div class=\"sk-item\"><div class=\"sk-estimator sk-toggleable\"><input class=\"sk-toggleable__control sk-hidden--visually\" id=\"sk-estimator-id-23\" type=\"checkbox\" ><label for=\"sk-estimator-id-23\" class=\"sk-toggleable__label sk-toggleable__label-arrow\">StandardScaler</label><div class=\"sk-toggleable__content\"><pre>StandardScaler()</pre></div></div></div><div class=\"sk-item\"><div class=\"sk-estimator sk-toggleable\"><input class=\"sk-toggleable__control sk-hidden--visually\" id=\"sk-estimator-id-24\" type=\"checkbox\" ><label for=\"sk-estimator-id-24\" class=\"sk-toggleable__label sk-toggleable__label-arrow\">LinearRegression</label><div class=\"sk-toggleable__content\"><pre>LinearRegression()</pre></div></div></div></div></div></div></div>"
      ],
      "text/plain": [
       "Pipeline(steps=[('encoder',\n",
       "                 EncoderMatrix(variables=Index(['Gender', 'Age', 'Salary', 'Family members'], dtype='object'))),\n",
       "                ('scaler', StandardScaler()),\n",
       "                ('lin_model', LinearRegression())])"
      ]
     },
     "execution_count": 135,
     "metadata": {},
     "output_type": "execute_result"
    }
   ],
   "source": [
    "pipe_final.fit(features_train, target_train)"
   ]
  },
  {
   "cell_type": "code",
   "execution_count": 136,
   "metadata": {},
   "outputs": [
    {
     "name": "stdout",
     "output_type": "stream",
     "text": [
      "0.4434633083160967\n"
     ]
    }
   ],
   "source": [
    "print(r2_score(target_test, pipe_final.predict(features_test)))"
   ]
  },
  {
   "cell_type": "markdown",
   "metadata": {},
   "source": [
    "## Conclusion"
   ]
  },
  {
   "cell_type": "markdown",
   "metadata": {},
   "source": [
    "In this project we used data provided by clients of an insurance company. To beging with, missing values were not found in dsts, but duplicates were detected and removed. Data type of some variables was also changed. Finally, multicollinearity test was carried out. The target variable is the number of insurance payments, the features are the sex, age, salary, the number of family members.\n",
    "\n",
    "Next, we tested the assumption that multiplication of features matrix by an invertible matrix (to encode data) will not affect the results of linear regression. This assumption was proven mathematically. As the result, algorithm for testing this assumption on real data was developed. This algorithm includes:\n",
    "\n",
    "* Generation of inversible square matrix of random values\n",
    "* Data encoding: multiplying the features matrix by the matrix of random values\n",
    "* Fitting models on the original and encoded data, comparing the R2 scores \n",
    "\n",
    "Finally, the algorithm implementation results were presented. Our assumptions were confirmed: the quality metrics obtained on encoded and original data are almost the same (the difference in the 13th digit was considered as insignificant)."
   ]
  }
 ],
 "metadata": {
  "ExecuteTimeLog": [
   {
    "duration": 429,
    "start_time": "2022-12-10T08:20:47.292Z"
   },
   {
    "duration": 70,
    "start_time": "2022-12-10T08:21:39.938Z"
   },
   {
    "duration": 2,
    "start_time": "2022-12-10T08:22:02.268Z"
   },
   {
    "duration": 26,
    "start_time": "2022-12-10T08:22:09.773Z"
   },
   {
    "duration": 11,
    "start_time": "2022-12-10T08:22:23.267Z"
   },
   {
    "duration": 4,
    "start_time": "2022-12-10T08:23:12.300Z"
   },
   {
    "duration": 12,
    "start_time": "2022-12-10T08:23:14.412Z"
   },
   {
    "duration": 7,
    "start_time": "2022-12-10T08:23:32.729Z"
   },
   {
    "duration": 68,
    "start_time": "2022-12-10T08:23:51.622Z"
   },
   {
    "duration": 7,
    "start_time": "2022-12-10T08:23:57.199Z"
   },
   {
    "duration": 4,
    "start_time": "2022-12-10T08:24:22.905Z"
   },
   {
    "duration": 8,
    "start_time": "2022-12-10T08:24:43.510Z"
   },
   {
    "duration": 6,
    "start_time": "2022-12-10T08:24:47.494Z"
   },
   {
    "duration": 12,
    "start_time": "2022-12-10T08:25:05.736Z"
   },
   {
    "duration": 11,
    "start_time": "2022-12-10T08:25:12.443Z"
   },
   {
    "duration": 7,
    "start_time": "2022-12-10T08:25:19.963Z"
   },
   {
    "duration": 6,
    "start_time": "2022-12-10T08:25:24.897Z"
   },
   {
    "duration": 10,
    "start_time": "2022-12-10T08:25:27.081Z"
   },
   {
    "duration": 46,
    "start_time": "2022-12-11T08:44:25.245Z"
   },
   {
    "duration": 419,
    "start_time": "2022-12-11T08:44:27.695Z"
   },
   {
    "duration": 75,
    "start_time": "2022-12-11T08:44:29.416Z"
   },
   {
    "duration": 16,
    "start_time": "2022-12-11T08:44:31.833Z"
   },
   {
    "duration": 10,
    "start_time": "2022-12-11T08:44:34.419Z"
   },
   {
    "duration": 4,
    "start_time": "2022-12-11T08:44:36.574Z"
   },
   {
    "duration": 6,
    "start_time": "2022-12-11T08:44:38.026Z"
   },
   {
    "duration": 5,
    "start_time": "2022-12-11T08:44:40.582Z"
   },
   {
    "duration": 20,
    "start_time": "2022-12-11T08:44:55.223Z"
   },
   {
    "duration": 28,
    "start_time": "2022-12-11T08:45:12.634Z"
   },
   {
    "duration": 18,
    "start_time": "2022-12-11T08:45:13.704Z"
   },
   {
    "duration": 25,
    "start_time": "2022-12-11T08:45:14.832Z"
   },
   {
    "duration": 27,
    "start_time": "2022-12-11T08:45:22.517Z"
   },
   {
    "duration": 18,
    "start_time": "2022-12-11T08:45:25.795Z"
   },
   {
    "duration": 4,
    "start_time": "2022-12-11T08:45:28.522Z"
   },
   {
    "duration": 6,
    "start_time": "2022-12-11T08:45:29.621Z"
   },
   {
    "duration": 5,
    "start_time": "2022-12-11T08:45:31.629Z"
   },
   {
    "duration": 5,
    "start_time": "2022-12-11T08:47:04.423Z"
   },
   {
    "duration": 5,
    "start_time": "2022-12-11T08:47:09.937Z"
   },
   {
    "duration": 5,
    "start_time": "2022-12-11T08:47:32.047Z"
   },
   {
    "duration": 7,
    "start_time": "2022-12-11T08:47:44.727Z"
   },
   {
    "duration": 40,
    "start_time": "2022-12-11T08:47:48.975Z"
   },
   {
    "duration": 11,
    "start_time": "2022-12-11T08:47:50.163Z"
   },
   {
    "duration": 22,
    "start_time": "2022-12-11T08:47:51.217Z"
   },
   {
    "duration": 9,
    "start_time": "2022-12-11T08:47:52.232Z"
   },
   {
    "duration": 6,
    "start_time": "2022-12-11T08:47:53.218Z"
   },
   {
    "duration": 5,
    "start_time": "2022-12-11T08:47:54.182Z"
   },
   {
    "duration": 5,
    "start_time": "2022-12-11T08:47:55.176Z"
   },
   {
    "duration": 5,
    "start_time": "2022-12-11T08:47:56.321Z"
   },
   {
    "duration": 43,
    "start_time": "2022-12-11T08:48:36.985Z"
   },
   {
    "duration": 869,
    "start_time": "2022-12-11T08:49:21.567Z"
   },
   {
    "duration": 430,
    "start_time": "2022-12-11T08:49:25.150Z"
   },
   {
    "duration": 443,
    "start_time": "2022-12-11T08:49:35.884Z"
   },
   {
    "duration": 445,
    "start_time": "2022-12-11T08:49:44.615Z"
   },
   {
    "duration": 363,
    "start_time": "2022-12-11T08:50:45.791Z"
   },
   {
    "duration": 396,
    "start_time": "2022-12-11T08:50:50.379Z"
   },
   {
    "duration": 481,
    "start_time": "2022-12-11T08:50:59.419Z"
   },
   {
    "duration": 370,
    "start_time": "2022-12-11T09:47:02.317Z"
   },
   {
    "duration": 30,
    "start_time": "2022-12-11T09:47:56.114Z"
   },
   {
    "duration": 6,
    "start_time": "2022-12-11T09:48:00.530Z"
   },
   {
    "duration": 5,
    "start_time": "2022-12-11T09:48:03.573Z"
   },
   {
    "duration": 5,
    "start_time": "2022-12-11T09:48:04.768Z"
   },
   {
    "duration": 6,
    "start_time": "2022-12-11T09:48:05.885Z"
   },
   {
    "duration": 335,
    "start_time": "2022-12-11T09:48:08.987Z"
   },
   {
    "duration": 323,
    "start_time": "2022-12-11T09:48:22.608Z"
   },
   {
    "duration": 424,
    "start_time": "2022-12-11T09:48:36.794Z"
   },
   {
    "duration": 488,
    "start_time": "2022-12-11T09:48:44.518Z"
   },
   {
    "duration": 4,
    "start_time": "2022-12-11T09:51:25.025Z"
   },
   {
    "duration": 4,
    "start_time": "2022-12-11T09:55:43.075Z"
   },
   {
    "duration": 18,
    "start_time": "2022-12-11T09:58:15.829Z"
   },
   {
    "duration": 4,
    "start_time": "2022-12-11T09:58:23.549Z"
   },
   {
    "duration": 4,
    "start_time": "2022-12-11T09:58:25.250Z"
   },
   {
    "duration": 5,
    "start_time": "2022-12-11T09:58:26.089Z"
   },
   {
    "duration": 4,
    "start_time": "2022-12-11T09:58:42.583Z"
   },
   {
    "duration": 3,
    "start_time": "2022-12-11T09:58:47.257Z"
   },
   {
    "duration": 5,
    "start_time": "2022-12-11T09:59:00.025Z"
   },
   {
    "duration": 5,
    "start_time": "2022-12-11T09:59:14.286Z"
   },
   {
    "duration": 4,
    "start_time": "2022-12-11T09:59:15.638Z"
   },
   {
    "duration": 4,
    "start_time": "2022-12-11T09:59:20.829Z"
   },
   {
    "duration": 4,
    "start_time": "2022-12-11T09:59:22.192Z"
   },
   {
    "duration": 3,
    "start_time": "2022-12-11T10:00:33.651Z"
   },
   {
    "duration": 3,
    "start_time": "2022-12-11T10:00:49.258Z"
   },
   {
    "duration": 13,
    "start_time": "2022-12-11T10:01:22.006Z"
   },
   {
    "duration": 48,
    "start_time": "2022-12-11T10:02:32.445Z"
   },
   {
    "duration": 60,
    "start_time": "2022-12-11T10:03:36.011Z"
   },
   {
    "duration": 49,
    "start_time": "2022-12-11T10:03:42.845Z"
   },
   {
    "duration": 50,
    "start_time": "2022-12-11T10:03:54.842Z"
   },
   {
    "duration": 128,
    "start_time": "2022-12-11T10:04:04.198Z"
   },
   {
    "duration": 39,
    "start_time": "2022-12-11T10:04:09.304Z"
   },
   {
    "duration": 62,
    "start_time": "2022-12-11T10:04:22.963Z"
   },
   {
    "duration": 50,
    "start_time": "2022-12-11T10:04:27.093Z"
   },
   {
    "duration": 7,
    "start_time": "2022-12-11T10:04:34.510Z"
   },
   {
    "duration": 8,
    "start_time": "2022-12-11T10:04:45.739Z"
   },
   {
    "duration": 9,
    "start_time": "2022-12-11T10:05:51.594Z"
   },
   {
    "duration": 3,
    "start_time": "2022-12-11T10:06:23.338Z"
   },
   {
    "duration": 7,
    "start_time": "2022-12-11T10:08:40.857Z"
   },
   {
    "duration": 14,
    "start_time": "2022-12-11T10:09:16.562Z"
   },
   {
    "duration": 10,
    "start_time": "2022-12-11T10:09:22.311Z"
   },
   {
    "duration": 15,
    "start_time": "2022-12-11T10:09:42.009Z"
   },
   {
    "duration": 14,
    "start_time": "2022-12-11T10:10:01.983Z"
   },
   {
    "duration": 2,
    "start_time": "2022-12-11T10:10:32.675Z"
   },
   {
    "duration": 10,
    "start_time": "2022-12-11T10:11:21.924Z"
   },
   {
    "duration": 10,
    "start_time": "2022-12-11T10:11:24.602Z"
   },
   {
    "duration": 28,
    "start_time": "2022-12-11T10:18:12.763Z"
   },
   {
    "duration": 4,
    "start_time": "2022-12-11T10:18:15.233Z"
   },
   {
    "duration": 4,
    "start_time": "2022-12-11T10:18:23.461Z"
   },
   {
    "duration": 4,
    "start_time": "2022-12-11T10:18:24.690Z"
   },
   {
    "duration": 9,
    "start_time": "2022-12-11T10:18:25.838Z"
   },
   {
    "duration": 7,
    "start_time": "2022-12-11T10:18:27.250Z"
   },
   {
    "duration": 3,
    "start_time": "2022-12-11T10:18:28.551Z"
   },
   {
    "duration": 12,
    "start_time": "2022-12-11T10:18:29.656Z"
   },
   {
    "duration": 11,
    "start_time": "2022-12-11T10:18:31.162Z"
   },
   {
    "duration": 467,
    "start_time": "2022-12-11T10:20:27.619Z"
   },
   {
    "duration": 3,
    "start_time": "2022-12-11T10:25:34.779Z"
   },
   {
    "duration": 51,
    "start_time": "2022-12-11T10:25:34.784Z"
   },
   {
    "duration": 11,
    "start_time": "2022-12-11T10:25:34.837Z"
   },
   {
    "duration": 19,
    "start_time": "2022-12-11T10:25:34.849Z"
   },
   {
    "duration": 9,
    "start_time": "2022-12-11T10:25:34.870Z"
   },
   {
    "duration": 6,
    "start_time": "2022-12-11T10:25:34.880Z"
   },
   {
    "duration": 10,
    "start_time": "2022-12-11T10:25:34.887Z"
   },
   {
    "duration": 6,
    "start_time": "2022-12-11T10:25:34.898Z"
   },
   {
    "duration": 5,
    "start_time": "2022-12-11T10:25:34.906Z"
   },
   {
    "duration": 347,
    "start_time": "2022-12-11T10:25:34.912Z"
   },
   {
    "duration": 414,
    "start_time": "2022-12-11T10:25:35.261Z"
   },
   {
    "duration": 5,
    "start_time": "2022-12-11T10:25:35.677Z"
   },
   {
    "duration": 13,
    "start_time": "2022-12-11T10:25:35.684Z"
   },
   {
    "duration": 13,
    "start_time": "2022-12-11T10:25:35.699Z"
   },
   {
    "duration": 14,
    "start_time": "2022-12-11T10:25:35.717Z"
   },
   {
    "duration": 5,
    "start_time": "2022-12-11T10:25:35.733Z"
   },
   {
    "duration": 12,
    "start_time": "2022-12-11T10:25:35.739Z"
   },
   {
    "duration": 10,
    "start_time": "2022-12-11T10:25:35.753Z"
   },
   {
    "duration": 3,
    "start_time": "2022-12-11T10:25:52.136Z"
   },
   {
    "duration": 38,
    "start_time": "2022-12-11T10:25:52.141Z"
   },
   {
    "duration": 12,
    "start_time": "2022-12-11T10:25:52.181Z"
   },
   {
    "duration": 20,
    "start_time": "2022-12-11T10:25:52.194Z"
   },
   {
    "duration": 9,
    "start_time": "2022-12-11T10:25:52.216Z"
   },
   {
    "duration": 6,
    "start_time": "2022-12-11T10:25:52.227Z"
   },
   {
    "duration": 8,
    "start_time": "2022-12-11T10:25:52.234Z"
   },
   {
    "duration": 7,
    "start_time": "2022-12-11T10:25:52.244Z"
   },
   {
    "duration": 5,
    "start_time": "2022-12-11T10:25:52.253Z"
   },
   {
    "duration": 367,
    "start_time": "2022-12-11T10:25:52.260Z"
   },
   {
    "duration": 425,
    "start_time": "2022-12-11T10:25:52.628Z"
   },
   {
    "duration": 4,
    "start_time": "2022-12-11T10:25:53.055Z"
   },
   {
    "duration": 8,
    "start_time": "2022-12-11T10:25:53.060Z"
   },
   {
    "duration": 14,
    "start_time": "2022-12-11T10:25:53.070Z"
   },
   {
    "duration": 16,
    "start_time": "2022-12-11T10:25:53.086Z"
   },
   {
    "duration": 7,
    "start_time": "2022-12-11T10:25:53.104Z"
   },
   {
    "duration": 17,
    "start_time": "2022-12-11T10:25:53.113Z"
   },
   {
    "duration": 11,
    "start_time": "2022-12-11T10:25:53.131Z"
   },
   {
    "duration": 3,
    "start_time": "2022-12-11T10:26:31.261Z"
   },
   {
    "duration": 36,
    "start_time": "2022-12-11T10:26:31.266Z"
   },
   {
    "duration": 12,
    "start_time": "2022-12-11T10:26:31.303Z"
   },
   {
    "duration": 26,
    "start_time": "2022-12-11T10:26:31.317Z"
   },
   {
    "duration": 10,
    "start_time": "2022-12-11T10:26:31.344Z"
   },
   {
    "duration": 11,
    "start_time": "2022-12-11T10:26:31.355Z"
   },
   {
    "duration": 8,
    "start_time": "2022-12-11T10:26:31.367Z"
   },
   {
    "duration": 9,
    "start_time": "2022-12-11T10:26:31.376Z"
   },
   {
    "duration": 5,
    "start_time": "2022-12-11T10:26:31.397Z"
   },
   {
    "duration": 339,
    "start_time": "2022-12-11T10:26:31.403Z"
   },
   {
    "duration": 536,
    "start_time": "2022-12-11T10:26:31.743Z"
   },
   {
    "duration": 4,
    "start_time": "2022-12-11T10:26:32.281Z"
   },
   {
    "duration": 11,
    "start_time": "2022-12-11T10:26:32.286Z"
   },
   {
    "duration": 11,
    "start_time": "2022-12-11T10:26:32.299Z"
   },
   {
    "duration": 6,
    "start_time": "2022-12-11T10:26:32.311Z"
   },
   {
    "duration": 5,
    "start_time": "2022-12-11T10:26:32.319Z"
   },
   {
    "duration": 11,
    "start_time": "2022-12-11T10:26:32.325Z"
   },
   {
    "duration": 9,
    "start_time": "2022-12-11T10:26:32.338Z"
   },
   {
    "duration": 2083,
    "start_time": "2022-12-11T10:43:30.619Z"
   },
   {
    "duration": 29,
    "start_time": "2022-12-11T10:43:32.706Z"
   },
   {
    "duration": 16,
    "start_time": "2022-12-11T10:43:32.737Z"
   },
   {
    "duration": 49,
    "start_time": "2022-12-11T10:43:32.755Z"
   },
   {
    "duration": 33,
    "start_time": "2022-12-11T10:43:32.806Z"
   },
   {
    "duration": 36,
    "start_time": "2022-12-11T10:43:32.841Z"
   },
   {
    "duration": 65,
    "start_time": "2022-12-11T10:43:32.880Z"
   },
   {
    "duration": 51,
    "start_time": "2022-12-11T10:43:32.947Z"
   },
   {
    "duration": 39,
    "start_time": "2022-12-11T10:43:33.000Z"
   },
   {
    "duration": 416,
    "start_time": "2022-12-11T10:43:33.042Z"
   },
   {
    "duration": 471,
    "start_time": "2022-12-11T10:43:33.460Z"
   },
   {
    "duration": 5,
    "start_time": "2022-12-11T10:43:33.932Z"
   },
   {
    "duration": 29,
    "start_time": "2022-12-11T10:43:33.939Z"
   },
   {
    "duration": 42,
    "start_time": "2022-12-11T10:43:33.970Z"
   },
   {
    "duration": 33,
    "start_time": "2022-12-11T10:43:34.015Z"
   },
   {
    "duration": 32,
    "start_time": "2022-12-11T10:43:34.051Z"
   },
   {
    "duration": 34,
    "start_time": "2022-12-11T10:43:34.085Z"
   },
   {
    "duration": 65,
    "start_time": "2022-12-11T10:43:34.121Z"
   },
   {
    "duration": 46,
    "start_time": "2022-12-11T13:38:47.073Z"
   },
   {
    "duration": 1495,
    "start_time": "2022-12-11T13:38:51.911Z"
   },
   {
    "duration": 105,
    "start_time": "2022-12-11T13:38:55.511Z"
   },
   {
    "duration": 4,
    "start_time": "2022-12-11T13:38:59.727Z"
   },
   {
    "duration": 5,
    "start_time": "2022-12-11T13:39:00.707Z"
   },
   {
    "duration": 5,
    "start_time": "2022-12-11T13:39:01.863Z"
   },
   {
    "duration": 5,
    "start_time": "2022-12-11T13:39:02.871Z"
   },
   {
    "duration": 14,
    "start_time": "2022-12-11T13:39:06.258Z"
   },
   {
    "duration": 3935,
    "start_time": "2022-12-11T13:40:01.122Z"
   },
   {
    "duration": 5655,
    "start_time": "2022-12-11T13:40:21.841Z"
   },
   {
    "duration": 1654,
    "start_time": "2022-12-11T15:39:15.089Z"
   },
   {
    "duration": 73,
    "start_time": "2022-12-11T15:39:16.747Z"
   },
   {
    "duration": 20,
    "start_time": "2022-12-11T15:39:16.822Z"
   },
   {
    "duration": 24,
    "start_time": "2022-12-11T15:39:16.844Z"
   },
   {
    "duration": 12,
    "start_time": "2022-12-11T15:39:16.870Z"
   },
   {
    "duration": 4,
    "start_time": "2022-12-11T15:39:16.885Z"
   },
   {
    "duration": 7,
    "start_time": "2022-12-11T15:39:16.892Z"
   },
   {
    "duration": 6,
    "start_time": "2022-12-11T15:39:16.901Z"
   },
   {
    "duration": 6,
    "start_time": "2022-12-11T15:39:16.908Z"
   },
   {
    "duration": 475,
    "start_time": "2022-12-11T15:39:16.916Z"
   },
   {
    "duration": 564,
    "start_time": "2022-12-11T15:39:17.393Z"
   },
   {
    "duration": 13,
    "start_time": "2022-12-11T15:39:21.057Z"
   },
   {
    "duration": 5933,
    "start_time": "2022-12-11T15:39:24.878Z"
   },
   {
    "duration": 5,
    "start_time": "2022-12-11T15:59:22.434Z"
   },
   {
    "duration": 4,
    "start_time": "2022-12-11T15:59:24.240Z"
   },
   {
    "duration": 6,
    "start_time": "2022-12-11T16:06:12.983Z"
   },
   {
    "duration": 5,
    "start_time": "2022-12-11T16:06:17.250Z"
   },
   {
    "duration": 4,
    "start_time": "2022-12-11T16:06:25.364Z"
   },
   {
    "duration": 4,
    "start_time": "2022-12-11T16:06:29.652Z"
   },
   {
    "duration": 113,
    "start_time": "2022-12-11T16:06:37.001Z"
   },
   {
    "duration": 5,
    "start_time": "2022-12-11T16:06:43.555Z"
   },
   {
    "duration": 7,
    "start_time": "2022-12-11T16:06:55.815Z"
   },
   {
    "duration": 5,
    "start_time": "2022-12-11T16:06:59.414Z"
   },
   {
    "duration": 5,
    "start_time": "2022-12-11T16:07:10.248Z"
   },
   {
    "duration": 5,
    "start_time": "2022-12-11T16:07:14.853Z"
   },
   {
    "duration": 6,
    "start_time": "2022-12-11T16:07:20.048Z"
   },
   {
    "duration": 5,
    "start_time": "2022-12-11T16:07:23.048Z"
   },
   {
    "duration": 5,
    "start_time": "2022-12-11T16:07:26.260Z"
   },
   {
    "duration": 50,
    "start_time": "2022-12-11T16:10:32.677Z"
   },
   {
    "duration": 3,
    "start_time": "2022-12-11T16:10:49.288Z"
   },
   {
    "duration": 3,
    "start_time": "2022-12-11T16:11:38.336Z"
   },
   {
    "duration": 4,
    "start_time": "2022-12-11T16:12:27.071Z"
   },
   {
    "duration": 7,
    "start_time": "2022-12-11T16:12:31.144Z"
   },
   {
    "duration": 7,
    "start_time": "2022-12-11T16:12:40.883Z"
   },
   {
    "duration": 4,
    "start_time": "2022-12-11T16:12:49.764Z"
   },
   {
    "duration": 4,
    "start_time": "2022-12-11T16:12:59.540Z"
   },
   {
    "duration": 15,
    "start_time": "2022-12-11T16:13:08.433Z"
   },
   {
    "duration": 6,
    "start_time": "2022-12-11T16:13:24.470Z"
   },
   {
    "duration": 4,
    "start_time": "2022-12-11T16:13:58.100Z"
   },
   {
    "duration": 13,
    "start_time": "2022-12-11T16:14:01.668Z"
   },
   {
    "duration": 8,
    "start_time": "2022-12-11T16:15:28.306Z"
   },
   {
    "duration": 3,
    "start_time": "2022-12-11T16:56:09.418Z"
   },
   {
    "duration": 30,
    "start_time": "2022-12-11T16:56:09.423Z"
   },
   {
    "duration": 14,
    "start_time": "2022-12-11T16:56:09.455Z"
   },
   {
    "duration": 37,
    "start_time": "2022-12-11T16:56:09.471Z"
   },
   {
    "duration": 15,
    "start_time": "2022-12-11T16:56:09.511Z"
   },
   {
    "duration": 30,
    "start_time": "2022-12-11T16:56:09.528Z"
   },
   {
    "duration": 7,
    "start_time": "2022-12-11T16:56:09.560Z"
   },
   {
    "duration": 7,
    "start_time": "2022-12-11T16:56:09.569Z"
   },
   {
    "duration": 8,
    "start_time": "2022-12-11T16:56:09.578Z"
   },
   {
    "duration": 417,
    "start_time": "2022-12-11T16:56:09.588Z"
   },
   {
    "duration": 498,
    "start_time": "2022-12-11T16:56:10.008Z"
   },
   {
    "duration": 12,
    "start_time": "2022-12-11T16:56:10.508Z"
   },
   {
    "duration": 6116,
    "start_time": "2022-12-11T16:56:10.522Z"
   },
   {
    "duration": 5,
    "start_time": "2022-12-11T16:56:16.640Z"
   },
   {
    "duration": 3,
    "start_time": "2022-12-11T16:56:16.655Z"
   },
   {
    "duration": 14,
    "start_time": "2022-12-11T16:56:16.659Z"
   },
   {
    "duration": 7,
    "start_time": "2022-12-11T16:56:16.675Z"
   },
   {
    "duration": 77,
    "start_time": "2022-12-11T16:56:16.683Z"
   },
   {
    "duration": 11,
    "start_time": "2022-12-11T16:56:16.762Z"
   },
   {
    "duration": 5,
    "start_time": "2022-12-11T16:56:16.855Z"
   },
   {
    "duration": 17,
    "start_time": "2022-12-11T16:56:16.863Z"
   },
   {
    "duration": 87,
    "start_time": "2022-12-11T16:56:16.882Z"
   }
  ],
  "kernelspec": {
   "display_name": "Python 3 (ipykernel)",
   "language": "python",
   "name": "python3"
  },
  "language_info": {
   "codemirror_mode": {
    "name": "ipython",
    "version": 3
   },
   "file_extension": ".py",
   "mimetype": "text/x-python",
   "name": "python",
   "nbconvert_exporter": "python",
   "pygments_lexer": "ipython3",
   "version": "3.9.12"
  },
  "toc": {
   "base_numbering": 1,
   "nav_menu": {},
   "number_sections": true,
   "sideBar": true,
   "skip_h1_title": true,
   "title_cell": "Содержание",
   "title_sidebar": "Contents",
   "toc_cell": true,
   "toc_position": {},
   "toc_section_display": true,
   "toc_window_display": false
  }
 },
 "nbformat": 4,
 "nbformat_minor": 4
}
