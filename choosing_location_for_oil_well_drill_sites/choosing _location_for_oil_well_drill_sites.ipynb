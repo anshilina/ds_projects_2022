{
 "cells": [
  {
   "cell_type": "markdown",
   "metadata": {},
   "source": [
    "# Choosing region for oil well drill site"
   ]
  },
  {
   "cell_type": "markdown",
   "metadata": {},
   "source": [
    "## Data preprocessing"
   ]
  },
  {
   "cell_type": "code",
   "execution_count": 3,
   "metadata": {},
   "outputs": [],
   "source": [
    "import pandas as pd\n",
    "import numpy as np\n",
    "from IPython.display import display\n",
    "import matplotlib.pyplot as plt\n",
    "import seaborn as sns \n",
    "\n",
    "from sklearn.model_selection import train_test_split, GridSearchCV, cross_val_score, KFold\n",
    "from sklearn.preprocessing import StandardScaler, PolynomialFeatures\n",
    "from sklearn.linear_model import LinearRegression\n",
    "from sklearn.metrics import mean_squared_error, mean_absolute_error, r2_score\n",
    "from sklearn.pipeline import make_pipeline"
   ]
  },
  {
   "cell_type": "code",
   "execution_count": 4,
   "metadata": {},
   "outputs": [],
   "source": [
    "try:\n",
    "    region_1 = pd.read_csv('/Users/anshilina/Documents/geo_data_0.csv')\n",
    "    region_2 = pd.read_csv('/Users/anshilina/Documents/geo_data_1.csv')\n",
    "    region_3 = pd.read_csv('/Users/anshilina/Documents/geo_data_2.csv')\n",
    "except:\n",
    "    region_1 = pd.read_csv('/datasets/geo_data_0.csv')\n",
    "    region_2 = pd.read_csv('/datasets/geo_data_1.csv')\n",
    "    region_3 = pd.read_csv('/datasets/geo_data_2.csv')"
   ]
  },
  {
   "cell_type": "code",
   "execution_count": 5,
   "metadata": {},
   "outputs": [],
   "source": [
    "# function for fitting models and getting predictions\n",
    "\n",
    "def model_fit(features_train, target_train, features_test, target_test, region_name):\n",
    "    predictions = pd.DataFrame([])\n",
    "    model = LinearRegression()\n",
    "    model.fit(features_train, target_train)\n",
    "    ind = features_test.index\n",
    "    column_predictions = region_name + '_predictions'\n",
    "    column_real_val = region_name + '_real_value'\n",
    "    predictions[column_predictions] = model.predict(features_test)\n",
    "    predictions.set_index(ind, inplace=True)\n",
    "    predictions[column_real_val] = target_test\n",
    "    return predictions"
   ]
  },
  {
   "cell_type": "code",
   "execution_count": 58,
   "metadata": {},
   "outputs": [],
   "source": [
    "# function for calculating revenue\n",
    "\n",
    "def revenue_calcilator(data, cost, count):\n",
    "    data_sorted = data.sort_values(by=data.columns[0], ascending=False)[:count]\n",
    "    return data_sorted[data.columns[1]].sum()*cost"
   ]
  },
  {
   "cell_type": "code",
   "execution_count": 6,
   "metadata": {},
   "outputs": [],
   "source": [
    "# function for finding profit distribution\n",
    "\n",
    "def bootstrap(data, iter_count, random_state):\n",
    "    state = np.random.RandomState(random_state)\n",
    "    values = []\n",
    "    for i in range(iter_count):\n",
    "        subsample_predictions = data.sample(GEOTAG_MAX, replace=True, random_state=state)\n",
    "        values.append(revenue_calcilator(subsample_predictions, ONE_PROD, GEOTAG_BEST))\n",
    "    return pd.Series(values)"
   ]
  },
  {
   "cell_type": "markdown",
   "metadata": {},
   "source": [
    "Let's study data on first region. There are no missing values and duplicates in the data. The distribution of variables `f0` and` f2` is not normal, the variable `f1` is distributed normally."
   ]
  },
  {
   "cell_type": "code",
   "execution_count": 7,
   "metadata": {},
   "outputs": [
    {
     "data": {
      "text/html": [
       "<div>\n",
       "<style scoped>\n",
       "    .dataframe tbody tr th:only-of-type {\n",
       "        vertical-align: middle;\n",
       "    }\n",
       "\n",
       "    .dataframe tbody tr th {\n",
       "        vertical-align: top;\n",
       "    }\n",
       "\n",
       "    .dataframe thead th {\n",
       "        text-align: right;\n",
       "    }\n",
       "</style>\n",
       "<table border=\"1\" class=\"dataframe\">\n",
       "  <thead>\n",
       "    <tr style=\"text-align: right;\">\n",
       "      <th></th>\n",
       "      <th>id</th>\n",
       "      <th>f0</th>\n",
       "      <th>f1</th>\n",
       "      <th>f2</th>\n",
       "      <th>product</th>\n",
       "    </tr>\n",
       "  </thead>\n",
       "  <tbody>\n",
       "    <tr>\n",
       "      <th>0</th>\n",
       "      <td>txEyH</td>\n",
       "      <td>0.705745</td>\n",
       "      <td>-0.497823</td>\n",
       "      <td>1.221170</td>\n",
       "      <td>105.280062</td>\n",
       "    </tr>\n",
       "    <tr>\n",
       "      <th>1</th>\n",
       "      <td>2acmU</td>\n",
       "      <td>1.334711</td>\n",
       "      <td>-0.340164</td>\n",
       "      <td>4.365080</td>\n",
       "      <td>73.037750</td>\n",
       "    </tr>\n",
       "    <tr>\n",
       "      <th>2</th>\n",
       "      <td>409Wp</td>\n",
       "      <td>1.022732</td>\n",
       "      <td>0.151990</td>\n",
       "      <td>1.419926</td>\n",
       "      <td>85.265647</td>\n",
       "    </tr>\n",
       "    <tr>\n",
       "      <th>3</th>\n",
       "      <td>iJLyR</td>\n",
       "      <td>-0.032172</td>\n",
       "      <td>0.139033</td>\n",
       "      <td>2.978566</td>\n",
       "      <td>168.620776</td>\n",
       "    </tr>\n",
       "    <tr>\n",
       "      <th>4</th>\n",
       "      <td>Xdl7t</td>\n",
       "      <td>1.988431</td>\n",
       "      <td>0.155413</td>\n",
       "      <td>4.751769</td>\n",
       "      <td>154.036647</td>\n",
       "    </tr>\n",
       "  </tbody>\n",
       "</table>\n",
       "</div>"
      ],
      "text/plain": [
       "      id        f0        f1        f2     product\n",
       "0  txEyH  0.705745 -0.497823  1.221170  105.280062\n",
       "1  2acmU  1.334711 -0.340164  4.365080   73.037750\n",
       "2  409Wp  1.022732  0.151990  1.419926   85.265647\n",
       "3  iJLyR -0.032172  0.139033  2.978566  168.620776\n",
       "4  Xdl7t  1.988431  0.155413  4.751769  154.036647"
      ]
     },
     "metadata": {},
     "output_type": "display_data"
    }
   ],
   "source": [
    "display(region_1.head())"
   ]
  },
  {
   "cell_type": "code",
   "execution_count": 8,
   "metadata": {},
   "outputs": [
    {
     "name": "stdout",
     "output_type": "stream",
     "text": [
      "<class 'pandas.core.frame.DataFrame'>\n",
      "RangeIndex: 100000 entries, 0 to 99999\n",
      "Data columns (total 5 columns):\n",
      " #   Column   Non-Null Count   Dtype  \n",
      "---  ------   --------------   -----  \n",
      " 0   id       100000 non-null  object \n",
      " 1   f0       100000 non-null  float64\n",
      " 2   f1       100000 non-null  float64\n",
      " 3   f2       100000 non-null  float64\n",
      " 4   product  100000 non-null  float64\n",
      "dtypes: float64(4), object(1)\n",
      "memory usage: 3.8+ MB\n"
     ]
    }
   ],
   "source": [
    "region_1.info()"
   ]
  },
  {
   "cell_type": "code",
   "execution_count": 9,
   "metadata": {},
   "outputs": [
    {
     "data": {
      "text/html": [
       "<div>\n",
       "<style scoped>\n",
       "    .dataframe tbody tr th:only-of-type {\n",
       "        vertical-align: middle;\n",
       "    }\n",
       "\n",
       "    .dataframe tbody tr th {\n",
       "        vertical-align: top;\n",
       "    }\n",
       "\n",
       "    .dataframe thead th {\n",
       "        text-align: right;\n",
       "    }\n",
       "</style>\n",
       "<table border=\"1\" class=\"dataframe\">\n",
       "  <thead>\n",
       "    <tr style=\"text-align: right;\">\n",
       "      <th></th>\n",
       "      <th>f0</th>\n",
       "      <th>f1</th>\n",
       "      <th>f2</th>\n",
       "      <th>product</th>\n",
       "    </tr>\n",
       "  </thead>\n",
       "  <tbody>\n",
       "    <tr>\n",
       "      <th>count</th>\n",
       "      <td>100000.000000</td>\n",
       "      <td>100000.000000</td>\n",
       "      <td>100000.000000</td>\n",
       "      <td>100000.000000</td>\n",
       "    </tr>\n",
       "    <tr>\n",
       "      <th>mean</th>\n",
       "      <td>0.500419</td>\n",
       "      <td>0.250143</td>\n",
       "      <td>2.502647</td>\n",
       "      <td>92.500000</td>\n",
       "    </tr>\n",
       "    <tr>\n",
       "      <th>std</th>\n",
       "      <td>0.871832</td>\n",
       "      <td>0.504433</td>\n",
       "      <td>3.248248</td>\n",
       "      <td>44.288691</td>\n",
       "    </tr>\n",
       "    <tr>\n",
       "      <th>min</th>\n",
       "      <td>-1.408605</td>\n",
       "      <td>-0.848218</td>\n",
       "      <td>-12.088328</td>\n",
       "      <td>0.000000</td>\n",
       "    </tr>\n",
       "    <tr>\n",
       "      <th>25%</th>\n",
       "      <td>-0.072580</td>\n",
       "      <td>-0.200881</td>\n",
       "      <td>0.287748</td>\n",
       "      <td>56.497507</td>\n",
       "    </tr>\n",
       "    <tr>\n",
       "      <th>50%</th>\n",
       "      <td>0.502360</td>\n",
       "      <td>0.250252</td>\n",
       "      <td>2.515969</td>\n",
       "      <td>91.849972</td>\n",
       "    </tr>\n",
       "    <tr>\n",
       "      <th>75%</th>\n",
       "      <td>1.073581</td>\n",
       "      <td>0.700646</td>\n",
       "      <td>4.715088</td>\n",
       "      <td>128.564089</td>\n",
       "    </tr>\n",
       "    <tr>\n",
       "      <th>max</th>\n",
       "      <td>2.362331</td>\n",
       "      <td>1.343769</td>\n",
       "      <td>16.003790</td>\n",
       "      <td>185.364347</td>\n",
       "    </tr>\n",
       "  </tbody>\n",
       "</table>\n",
       "</div>"
      ],
      "text/plain": [
       "                  f0             f1             f2        product\n",
       "count  100000.000000  100000.000000  100000.000000  100000.000000\n",
       "mean        0.500419       0.250143       2.502647      92.500000\n",
       "std         0.871832       0.504433       3.248248      44.288691\n",
       "min        -1.408605      -0.848218     -12.088328       0.000000\n",
       "25%        -0.072580      -0.200881       0.287748      56.497507\n",
       "50%         0.502360       0.250252       2.515969      91.849972\n",
       "75%         1.073581       0.700646       4.715088     128.564089\n",
       "max         2.362331       1.343769      16.003790     185.364347"
      ]
     },
     "execution_count": 9,
     "metadata": {},
     "output_type": "execute_result"
    }
   ],
   "source": [
    "region_1.describe()"
   ]
  },
  {
   "cell_type": "code",
   "execution_count": 10,
   "metadata": {},
   "outputs": [
    {
     "name": "stdout",
     "output_type": "stream",
     "text": [
      "Number of missing values in region 1: 0\n"
     ]
    }
   ],
   "source": [
    "print(f'Number of missing values in region 1: {region_1.isna().sum().sum()}')"
   ]
  },
  {
   "cell_type": "code",
   "execution_count": 11,
   "metadata": {},
   "outputs": [
    {
     "name": "stdout",
     "output_type": "stream",
     "text": [
      "Number of duplicates in region 1: 0\n"
     ]
    }
   ],
   "source": [
    "print(f'Number of duplicates in region 1: {region_1.duplicated().sum()}')"
   ]
  },
  {
   "cell_type": "markdown",
   "metadata": {},
   "source": [
    "Let's study the distribution of variables."
   ]
  },
  {
   "cell_type": "code",
   "execution_count": 12,
   "metadata": {},
   "outputs": [
    {
     "data": {
      "image/png": "[encoded data removed]",
      "text/plain": [
       "<Figure size 1368x1080 with 4 Axes>"
      ]
     },
     "metadata": {
      "needs_background": "light"
     },
     "output_type": "display_data"
    }
   ],
   "source": [
    "col_names = ['f0', 'f1', 'f2', 'product']\n",
    "_, axs = plt.subplots(2, 2, figsize=(19,15))\n",
    "axs = axs.ravel()\n",
    "\n",
    "for i in range(len(col_names)):\n",
    "    ax = axs[i]\n",
    "    sns.histplot(ax=ax, x=region_1[col_names[i]], data=region_1)\n",
    "    ax.tick_params(axis='x')\n",
    "    ax.set_title(col_names[i])"
   ]
  },
  {
   "cell_type": "markdown",
   "metadata": {},
   "source": [
    "Regarding region 2, there are also no missing values and duplicates. The variable `f1` is distributed normally, the distribution of the variable` f0` is bimodal. The variable `f2` is discrete and its' values are located from 0 to 5."
   ]
  },
  {
   "cell_type": "code",
   "execution_count": 13,
   "metadata": {},
   "outputs": [
    {
     "data": {
      "text/html": [
       "<div>\n",
       "<style scoped>\n",
       "    .dataframe tbody tr th:only-of-type {\n",
       "        vertical-align: middle;\n",
       "    }\n",
       "\n",
       "    .dataframe tbody tr th {\n",
       "        vertical-align: top;\n",
       "    }\n",
       "\n",
       "    .dataframe thead th {\n",
       "        text-align: right;\n",
       "    }\n",
       "</style>\n",
       "<table border=\"1\" class=\"dataframe\">\n",
       "  <thead>\n",
       "    <tr style=\"text-align: right;\">\n",
       "      <th></th>\n",
       "      <th>id</th>\n",
       "      <th>f0</th>\n",
       "      <th>f1</th>\n",
       "      <th>f2</th>\n",
       "      <th>product</th>\n",
       "    </tr>\n",
       "  </thead>\n",
       "  <tbody>\n",
       "    <tr>\n",
       "      <th>0</th>\n",
       "      <td>kBEdx</td>\n",
       "      <td>-15.001348</td>\n",
       "      <td>-8.276000</td>\n",
       "      <td>-0.005876</td>\n",
       "      <td>3.179103</td>\n",
       "    </tr>\n",
       "    <tr>\n",
       "      <th>1</th>\n",
       "      <td>62mP7</td>\n",
       "      <td>14.272088</td>\n",
       "      <td>-3.475083</td>\n",
       "      <td>0.999183</td>\n",
       "      <td>26.953261</td>\n",
       "    </tr>\n",
       "    <tr>\n",
       "      <th>2</th>\n",
       "      <td>vyE1P</td>\n",
       "      <td>6.263187</td>\n",
       "      <td>-5.948386</td>\n",
       "      <td>5.001160</td>\n",
       "      <td>134.766305</td>\n",
       "    </tr>\n",
       "    <tr>\n",
       "      <th>3</th>\n",
       "      <td>KcrkZ</td>\n",
       "      <td>-13.081196</td>\n",
       "      <td>-11.506057</td>\n",
       "      <td>4.999415</td>\n",
       "      <td>137.945408</td>\n",
       "    </tr>\n",
       "    <tr>\n",
       "      <th>4</th>\n",
       "      <td>AHL4O</td>\n",
       "      <td>12.702195</td>\n",
       "      <td>-8.147433</td>\n",
       "      <td>5.004363</td>\n",
       "      <td>134.766305</td>\n",
       "    </tr>\n",
       "  </tbody>\n",
       "</table>\n",
       "</div>"
      ],
      "text/plain": [
       "      id         f0         f1        f2     product\n",
       "0  kBEdx -15.001348  -8.276000 -0.005876    3.179103\n",
       "1  62mP7  14.272088  -3.475083  0.999183   26.953261\n",
       "2  vyE1P   6.263187  -5.948386  5.001160  134.766305\n",
       "3  KcrkZ -13.081196 -11.506057  4.999415  137.945408\n",
       "4  AHL4O  12.702195  -8.147433  5.004363  134.766305"
      ]
     },
     "metadata": {},
     "output_type": "display_data"
    }
   ],
   "source": [
    "display(region_2.head())"
   ]
  },
  {
   "cell_type": "code",
   "execution_count": 14,
   "metadata": {},
   "outputs": [
    {
     "name": "stdout",
     "output_type": "stream",
     "text": [
      "<class 'pandas.core.frame.DataFrame'>\n",
      "RangeIndex: 100000 entries, 0 to 99999\n",
      "Data columns (total 5 columns):\n",
      " #   Column   Non-Null Count   Dtype  \n",
      "---  ------   --------------   -----  \n",
      " 0   id       100000 non-null  object \n",
      " 1   f0       100000 non-null  float64\n",
      " 2   f1       100000 non-null  float64\n",
      " 3   f2       100000 non-null  float64\n",
      " 4   product  100000 non-null  float64\n",
      "dtypes: float64(4), object(1)\n",
      "memory usage: 3.8+ MB\n"
     ]
    }
   ],
   "source": [
    "region_2.info()"
   ]
  },
  {
   "cell_type": "code",
   "execution_count": 15,
   "metadata": {},
   "outputs": [
    {
     "data": {
      "text/html": [
       "<div>\n",
       "<style scoped>\n",
       "    .dataframe tbody tr th:only-of-type {\n",
       "        vertical-align: middle;\n",
       "    }\n",
       "\n",
       "    .dataframe tbody tr th {\n",
       "        vertical-align: top;\n",
       "    }\n",
       "\n",
       "    .dataframe thead th {\n",
       "        text-align: right;\n",
       "    }\n",
       "</style>\n",
       "<table border=\"1\" class=\"dataframe\">\n",
       "  <thead>\n",
       "    <tr style=\"text-align: right;\">\n",
       "      <th></th>\n",
       "      <th>f0</th>\n",
       "      <th>f1</th>\n",
       "      <th>f2</th>\n",
       "      <th>product</th>\n",
       "    </tr>\n",
       "  </thead>\n",
       "  <tbody>\n",
       "    <tr>\n",
       "      <th>count</th>\n",
       "      <td>100000.000000</td>\n",
       "      <td>100000.000000</td>\n",
       "      <td>100000.000000</td>\n",
       "      <td>100000.000000</td>\n",
       "    </tr>\n",
       "    <tr>\n",
       "      <th>mean</th>\n",
       "      <td>1.141296</td>\n",
       "      <td>-4.796579</td>\n",
       "      <td>2.494541</td>\n",
       "      <td>68.825000</td>\n",
       "    </tr>\n",
       "    <tr>\n",
       "      <th>std</th>\n",
       "      <td>8.965932</td>\n",
       "      <td>5.119872</td>\n",
       "      <td>1.703572</td>\n",
       "      <td>45.944423</td>\n",
       "    </tr>\n",
       "    <tr>\n",
       "      <th>min</th>\n",
       "      <td>-31.609576</td>\n",
       "      <td>-26.358598</td>\n",
       "      <td>-0.018144</td>\n",
       "      <td>0.000000</td>\n",
       "    </tr>\n",
       "    <tr>\n",
       "      <th>25%</th>\n",
       "      <td>-6.298551</td>\n",
       "      <td>-8.267985</td>\n",
       "      <td>1.000021</td>\n",
       "      <td>26.953261</td>\n",
       "    </tr>\n",
       "    <tr>\n",
       "      <th>50%</th>\n",
       "      <td>1.153055</td>\n",
       "      <td>-4.813172</td>\n",
       "      <td>2.011479</td>\n",
       "      <td>57.085625</td>\n",
       "    </tr>\n",
       "    <tr>\n",
       "      <th>75%</th>\n",
       "      <td>8.621015</td>\n",
       "      <td>-1.332816</td>\n",
       "      <td>3.999904</td>\n",
       "      <td>107.813044</td>\n",
       "    </tr>\n",
       "    <tr>\n",
       "      <th>max</th>\n",
       "      <td>29.421755</td>\n",
       "      <td>18.734063</td>\n",
       "      <td>5.019721</td>\n",
       "      <td>137.945408</td>\n",
       "    </tr>\n",
       "  </tbody>\n",
       "</table>\n",
       "</div>"
      ],
      "text/plain": [
       "                  f0             f1             f2        product\n",
       "count  100000.000000  100000.000000  100000.000000  100000.000000\n",
       "mean        1.141296      -4.796579       2.494541      68.825000\n",
       "std         8.965932       5.119872       1.703572      45.944423\n",
       "min       -31.609576     -26.358598      -0.018144       0.000000\n",
       "25%        -6.298551      -8.267985       1.000021      26.953261\n",
       "50%         1.153055      -4.813172       2.011479      57.085625\n",
       "75%         8.621015      -1.332816       3.999904     107.813044\n",
       "max        29.421755      18.734063       5.019721     137.945408"
      ]
     },
     "execution_count": 15,
     "metadata": {},
     "output_type": "execute_result"
    }
   ],
   "source": [
    "region_2.describe()"
   ]
  },
  {
   "cell_type": "code",
   "execution_count": 16,
   "metadata": {},
   "outputs": [
    {
     "name": "stdout",
     "output_type": "stream",
     "text": [
      "Number of missing values in region 2: 0\n"
     ]
    }
   ],
   "source": [
    "print(f'Number of missing values in region 2: {region_2.isna().sum().sum()}')"
   ]
  },
  {
   "cell_type": "code",
   "execution_count": 17,
   "metadata": {},
   "outputs": [
    {
     "name": "stdout",
     "output_type": "stream",
     "text": [
      "Number of duplicates in region 2: 0\n"
     ]
    }
   ],
   "source": [
    "print(f'Number of duplicates in region 2: {region_2.duplicated().sum()}')"
   ]
  },
  {
   "cell_type": "markdown",
   "metadata": {},
   "source": [
    "Let's study the distribution of variables."
   ]
  },
  {
   "cell_type": "code",
   "execution_count": 18,
   "metadata": {},
   "outputs": [
    {
     "data": {
      "image/png": "[encoded data removed]",
      "text/plain": [
       "<Figure size 1368x1080 with 4 Axes>"
      ]
     },
     "metadata": {
      "needs_background": "light"
     },
     "output_type": "display_data"
    }
   ],
   "source": [
    "col_names = ['f0', 'f1', 'f2', 'product']\n",
    "_, axs = plt.subplots(2, 2, figsize=(19,15))\n",
    "axs = axs.ravel()\n",
    "\n",
    "for i in range(len(col_names)):\n",
    "    ax = axs[i]\n",
    "    sns.histplot(ax=ax, x=region_2[col_names[i]], data=region_2)\n",
    "    ax.tick_params(axis='x')\n",
    "    ax.set_title(col_names[i])"
   ]
  },
  {
   "cell_type": "markdown",
   "metadata": {},
   "source": [
    "Finally, let's study data on region 3. There are no missing values and duplicates. Vriables `f0`,` f1`, `f2` are distributed normally. "
   ]
  },
  {
   "cell_type": "code",
   "execution_count": 19,
   "metadata": {},
   "outputs": [
    {
     "data": {
      "text/html": [
       "<div>\n",
       "<style scoped>\n",
       "    .dataframe tbody tr th:only-of-type {\n",
       "        vertical-align: middle;\n",
       "    }\n",
       "\n",
       "    .dataframe tbody tr th {\n",
       "        vertical-align: top;\n",
       "    }\n",
       "\n",
       "    .dataframe thead th {\n",
       "        text-align: right;\n",
       "    }\n",
       "</style>\n",
       "<table border=\"1\" class=\"dataframe\">\n",
       "  <thead>\n",
       "    <tr style=\"text-align: right;\">\n",
       "      <th></th>\n",
       "      <th>id</th>\n",
       "      <th>f0</th>\n",
       "      <th>f1</th>\n",
       "      <th>f2</th>\n",
       "      <th>product</th>\n",
       "    </tr>\n",
       "  </thead>\n",
       "  <tbody>\n",
       "    <tr>\n",
       "      <th>0</th>\n",
       "      <td>fwXo0</td>\n",
       "      <td>-1.146987</td>\n",
       "      <td>0.963328</td>\n",
       "      <td>-0.828965</td>\n",
       "      <td>27.758673</td>\n",
       "    </tr>\n",
       "    <tr>\n",
       "      <th>1</th>\n",
       "      <td>WJtFt</td>\n",
       "      <td>0.262778</td>\n",
       "      <td>0.269839</td>\n",
       "      <td>-2.530187</td>\n",
       "      <td>56.069697</td>\n",
       "    </tr>\n",
       "    <tr>\n",
       "      <th>2</th>\n",
       "      <td>ovLUW</td>\n",
       "      <td>0.194587</td>\n",
       "      <td>0.289035</td>\n",
       "      <td>-5.586433</td>\n",
       "      <td>62.871910</td>\n",
       "    </tr>\n",
       "    <tr>\n",
       "      <th>3</th>\n",
       "      <td>q6cA6</td>\n",
       "      <td>2.236060</td>\n",
       "      <td>-0.553760</td>\n",
       "      <td>0.930038</td>\n",
       "      <td>114.572842</td>\n",
       "    </tr>\n",
       "    <tr>\n",
       "      <th>4</th>\n",
       "      <td>WPMUX</td>\n",
       "      <td>-0.515993</td>\n",
       "      <td>1.716266</td>\n",
       "      <td>5.899011</td>\n",
       "      <td>149.600746</td>\n",
       "    </tr>\n",
       "  </tbody>\n",
       "</table>\n",
       "</div>"
      ],
      "text/plain": [
       "      id        f0        f1        f2     product\n",
       "0  fwXo0 -1.146987  0.963328 -0.828965   27.758673\n",
       "1  WJtFt  0.262778  0.269839 -2.530187   56.069697\n",
       "2  ovLUW  0.194587  0.289035 -5.586433   62.871910\n",
       "3  q6cA6  2.236060 -0.553760  0.930038  114.572842\n",
       "4  WPMUX -0.515993  1.716266  5.899011  149.600746"
      ]
     },
     "metadata": {},
     "output_type": "display_data"
    }
   ],
   "source": [
    "display(region_3.head())"
   ]
  },
  {
   "cell_type": "code",
   "execution_count": 20,
   "metadata": {},
   "outputs": [
    {
     "name": "stdout",
     "output_type": "stream",
     "text": [
      "<class 'pandas.core.frame.DataFrame'>\n",
      "RangeIndex: 100000 entries, 0 to 99999\n",
      "Data columns (total 5 columns):\n",
      " #   Column   Non-Null Count   Dtype  \n",
      "---  ------   --------------   -----  \n",
      " 0   id       100000 non-null  object \n",
      " 1   f0       100000 non-null  float64\n",
      " 2   f1       100000 non-null  float64\n",
      " 3   f2       100000 non-null  float64\n",
      " 4   product  100000 non-null  float64\n",
      "dtypes: float64(4), object(1)\n",
      "memory usage: 3.8+ MB\n"
     ]
    }
   ],
   "source": [
    "region_3.info()"
   ]
  },
  {
   "cell_type": "code",
   "execution_count": 21,
   "metadata": {},
   "outputs": [
    {
     "data": {
      "text/html": [
       "<div>\n",
       "<style scoped>\n",
       "    .dataframe tbody tr th:only-of-type {\n",
       "        vertical-align: middle;\n",
       "    }\n",
       "\n",
       "    .dataframe tbody tr th {\n",
       "        vertical-align: top;\n",
       "    }\n",
       "\n",
       "    .dataframe thead th {\n",
       "        text-align: right;\n",
       "    }\n",
       "</style>\n",
       "<table border=\"1\" class=\"dataframe\">\n",
       "  <thead>\n",
       "    <tr style=\"text-align: right;\">\n",
       "      <th></th>\n",
       "      <th>f0</th>\n",
       "      <th>f1</th>\n",
       "      <th>f2</th>\n",
       "      <th>product</th>\n",
       "    </tr>\n",
       "  </thead>\n",
       "  <tbody>\n",
       "    <tr>\n",
       "      <th>count</th>\n",
       "      <td>100000.000000</td>\n",
       "      <td>100000.000000</td>\n",
       "      <td>100000.000000</td>\n",
       "      <td>100000.000000</td>\n",
       "    </tr>\n",
       "    <tr>\n",
       "      <th>mean</th>\n",
       "      <td>0.002023</td>\n",
       "      <td>-0.002081</td>\n",
       "      <td>2.495128</td>\n",
       "      <td>95.000000</td>\n",
       "    </tr>\n",
       "    <tr>\n",
       "      <th>std</th>\n",
       "      <td>1.732045</td>\n",
       "      <td>1.730417</td>\n",
       "      <td>3.473445</td>\n",
       "      <td>44.749921</td>\n",
       "    </tr>\n",
       "    <tr>\n",
       "      <th>min</th>\n",
       "      <td>-8.760004</td>\n",
       "      <td>-7.084020</td>\n",
       "      <td>-11.970335</td>\n",
       "      <td>0.000000</td>\n",
       "    </tr>\n",
       "    <tr>\n",
       "      <th>25%</th>\n",
       "      <td>-1.162288</td>\n",
       "      <td>-1.174820</td>\n",
       "      <td>0.130359</td>\n",
       "      <td>59.450441</td>\n",
       "    </tr>\n",
       "    <tr>\n",
       "      <th>50%</th>\n",
       "      <td>0.009424</td>\n",
       "      <td>-0.009482</td>\n",
       "      <td>2.484236</td>\n",
       "      <td>94.925613</td>\n",
       "    </tr>\n",
       "    <tr>\n",
       "      <th>75%</th>\n",
       "      <td>1.158535</td>\n",
       "      <td>1.163678</td>\n",
       "      <td>4.858794</td>\n",
       "      <td>130.595027</td>\n",
       "    </tr>\n",
       "    <tr>\n",
       "      <th>max</th>\n",
       "      <td>7.238262</td>\n",
       "      <td>7.844801</td>\n",
       "      <td>16.739402</td>\n",
       "      <td>190.029838</td>\n",
       "    </tr>\n",
       "  </tbody>\n",
       "</table>\n",
       "</div>"
      ],
      "text/plain": [
       "                  f0             f1             f2        product\n",
       "count  100000.000000  100000.000000  100000.000000  100000.000000\n",
       "mean        0.002023      -0.002081       2.495128      95.000000\n",
       "std         1.732045       1.730417       3.473445      44.749921\n",
       "min        -8.760004      -7.084020     -11.970335       0.000000\n",
       "25%        -1.162288      -1.174820       0.130359      59.450441\n",
       "50%         0.009424      -0.009482       2.484236      94.925613\n",
       "75%         1.158535       1.163678       4.858794     130.595027\n",
       "max         7.238262       7.844801      16.739402     190.029838"
      ]
     },
     "execution_count": 21,
     "metadata": {},
     "output_type": "execute_result"
    }
   ],
   "source": [
    "region_3.describe()"
   ]
  },
  {
   "cell_type": "code",
   "execution_count": 22,
   "metadata": {},
   "outputs": [
    {
     "name": "stdout",
     "output_type": "stream",
     "text": [
      "Number of missing values in region 3: 0\n"
     ]
    }
   ],
   "source": [
    "print(f'Number of missing values in region 3: {region_3.isna().sum().sum()}')"
   ]
  },
  {
   "cell_type": "code",
   "execution_count": 23,
   "metadata": {},
   "outputs": [
    {
     "name": "stdout",
     "output_type": "stream",
     "text": [
      "Number of duplicates in region 3: 0\n"
     ]
    }
   ],
   "source": [
    "print(f'Number of duplicates in region 3: {region_3.duplicated().sum()}')"
   ]
  },
  {
   "cell_type": "code",
   "execution_count": 24,
   "metadata": {},
   "outputs": [
    {
     "data": {
      "image/png": "[encoded data removed]",
      "text/plain": [
       "<Figure size 1368x1080 with 4 Axes>"
      ]
     },
     "metadata": {
      "needs_background": "light"
     },
     "output_type": "display_data"
    }
   ],
   "source": [
    "col_names = ['f0', 'f1', 'f2', 'product']\n",
    "_, axs = plt.subplots(2, 2, figsize=(19,15))\n",
    "axs = axs.ravel()\n",
    "\n",
    "for i in range(len(col_names)):\n",
    "    ax = axs[i]\n",
    "    sns.histplot(ax=ax, x=region_3[col_names[i]], data=region_3)\n",
    "    ax.tick_params(axis='x')\n",
    "    ax.set_title(col_names[i])"
   ]
  },
  {
   "cell_type": "markdown",
   "metadata": {},
   "source": [
    "## Models fitting"
   ]
  },
  {
   "cell_type": "markdown",
   "metadata": {},
   "source": [
    "In this research, linear regression models were used to predict product volume in each region. $R^{2}$, $MAE$, $MSE$ were calculated to track the quality, predictions and real values were collected in a separate data frames. In addition, the average volume of predicted raw materials was calculated."
   ]
  },
  {
   "cell_type": "markdown",
   "metadata": {},
   "source": [
    "### Region 1"
   ]
  },
  {
   "cell_type": "markdown",
   "metadata": {},
   "source": [
    "Let's split sample into training and test in proportion 75:25."
   ]
  },
  {
   "cell_type": "code",
   "execution_count": 25,
   "metadata": {},
   "outputs": [
    {
     "name": "stdout",
     "output_type": "stream",
     "text": [
      "(75000, 3) (75000,)\n",
      "(25000, 3) (25000,)\n"
     ]
    }
   ],
   "source": [
    "features_1, target_1 = region_1.drop(['product', 'id'], axis=1), region_1['product']\n",
    "\n",
    "features_train_1, features_test_1, target_train_1, target_test_1 = train_test_split(\n",
    "    features_1, target_1, test_size=0.25, random_state=42)\n",
    "\n",
    "print(features_train_1.shape, target_train_1.shape)\n",
    "print(features_test_1.shape, target_test_1.shape)"
   ]
  },
  {
   "cell_type": "markdown",
   "metadata": {},
   "source": [
    "We check quality (R2 score) of the model using `cross_val_score`. According to the results, model does not predict production well."
   ]
  },
  {
   "cell_type": "code",
   "execution_count": 27,
   "metadata": {},
   "outputs": [
    {
     "name": "stdout",
     "output_type": "stream",
     "text": [
      "R2: 0.27559485299967973\n"
     ]
    }
   ],
   "source": [
    "model_region_1 = LinearRegression()\n",
    "folds = KFold(n_splits = 5, shuffle = True, random_state = 42)\n",
    "print('R2:', (cross_val_score(model_region_1, features_1, target_1, cv=folds, scoring='r2')).mean())"
   ]
  },
  {
   "cell_type": "markdown",
   "metadata": {},
   "source": [
    "We use our own function that was initialized at the beginning to save predictions in `predictions_1`."
   ]
  },
  {
   "cell_type": "code",
   "execution_count": 51,
   "metadata": {},
   "outputs": [
    {
     "data": {
      "text/html": [
       "<div>\n",
       "<style scoped>\n",
       "    .dataframe tbody tr th:only-of-type {\n",
       "        vertical-align: middle;\n",
       "    }\n",
       "\n",
       "    .dataframe tbody tr th {\n",
       "        vertical-align: top;\n",
       "    }\n",
       "\n",
       "    .dataframe thead th {\n",
       "        text-align: right;\n",
       "    }\n",
       "</style>\n",
       "<table border=\"1\" class=\"dataframe\">\n",
       "  <thead>\n",
       "    <tr style=\"text-align: right;\">\n",
       "      <th></th>\n",
       "      <th>1_predictions</th>\n",
       "      <th>1_real_value</th>\n",
       "    </tr>\n",
       "  </thead>\n",
       "  <tbody>\n",
       "    <tr>\n",
       "      <th>75721</th>\n",
       "      <td>101.901017</td>\n",
       "      <td>122.073350</td>\n",
       "    </tr>\n",
       "    <tr>\n",
       "      <th>80184</th>\n",
       "      <td>78.217774</td>\n",
       "      <td>48.738540</td>\n",
       "    </tr>\n",
       "    <tr>\n",
       "      <th>19864</th>\n",
       "      <td>115.266901</td>\n",
       "      <td>131.338088</td>\n",
       "    </tr>\n",
       "    <tr>\n",
       "      <th>76699</th>\n",
       "      <td>105.618618</td>\n",
       "      <td>88.327757</td>\n",
       "    </tr>\n",
       "    <tr>\n",
       "      <th>92991</th>\n",
       "      <td>97.980185</td>\n",
       "      <td>36.959266</td>\n",
       "    </tr>\n",
       "    <tr>\n",
       "      <th>...</th>\n",
       "      <td>...</td>\n",
       "      <td>...</td>\n",
       "    </tr>\n",
       "    <tr>\n",
       "      <th>21271</th>\n",
       "      <td>105.076959</td>\n",
       "      <td>148.821520</td>\n",
       "    </tr>\n",
       "    <tr>\n",
       "      <th>34014</th>\n",
       "      <td>74.768176</td>\n",
       "      <td>123.454003</td>\n",
       "    </tr>\n",
       "    <tr>\n",
       "      <th>81355</th>\n",
       "      <td>82.544397</td>\n",
       "      <td>91.945213</td>\n",
       "    </tr>\n",
       "    <tr>\n",
       "      <th>65720</th>\n",
       "      <td>81.826689</td>\n",
       "      <td>149.295563</td>\n",
       "    </tr>\n",
       "    <tr>\n",
       "      <th>11627</th>\n",
       "      <td>93.121062</td>\n",
       "      <td>57.244039</td>\n",
       "    </tr>\n",
       "  </tbody>\n",
       "</table>\n",
       "<p>25000 rows × 2 columns</p>\n",
       "</div>"
      ],
      "text/plain": [
       "       1_predictions  1_real_value\n",
       "75721     101.901017    122.073350\n",
       "80184      78.217774     48.738540\n",
       "19864     115.266901    131.338088\n",
       "76699     105.618618     88.327757\n",
       "92991      97.980185     36.959266\n",
       "...              ...           ...\n",
       "21271     105.076959    148.821520\n",
       "34014      74.768176    123.454003\n",
       "81355      82.544397     91.945213\n",
       "65720      81.826689    149.295563\n",
       "11627      93.121062     57.244039\n",
       "\n",
       "[25000 rows x 2 columns]"
      ]
     },
     "metadata": {},
     "output_type": "display_data"
    }
   ],
   "source": [
    "predictions_1 = model_fit(features_train_1, target_train_1, features_test_1, target_test_1, '1')\n",
    "display(predictions_1)"
   ]
  },
  {
   "cell_type": "code",
   "execution_count": 29,
   "metadata": {},
   "outputs": [
    {
     "name": "stdout",
     "output_type": "stream",
     "text": [
      "Average volume of predicted raw materials: 92\n"
     ]
    }
   ],
   "source": [
    "mean_region_1 = predictions_1['1_predictions'].mean()\n",
    "print(f'Average volume of predicted raw materials: {round(mean_region_1)}')"
   ]
  },
  {
   "cell_type": "code",
   "execution_count": 31,
   "metadata": {},
   "outputs": [
    {
     "name": "stdout",
     "output_type": "stream",
     "text": [
      "MAE: 31.047681538788186\n",
      "RMSE: 37.75660035026169\n"
     ]
    }
   ],
   "source": [
    "print('MAE:', mean_absolute_error(predictions_1['1_real_value'], predictions_1['1_predictions']))\n",
    "print('RMSE:', mean_squared_error(predictions_1['1_real_value'], predictions_1['1_predictions'])**.5)"
   ]
  },
  {
   "cell_type": "markdown",
   "metadata": {},
   "source": [
    "### Region 2"
   ]
  },
  {
   "cell_type": "code",
   "execution_count": 32,
   "metadata": {},
   "outputs": [
    {
     "name": "stdout",
     "output_type": "stream",
     "text": [
      "(75000, 3) (75000,)\n",
      "(25000, 3) (25000,)\n"
     ]
    }
   ],
   "source": [
    "features_2, target_2 = region_2.drop(['product', 'id'], axis=1), region_2['product']\n",
    "\n",
    "features_train_2, features_test_2, target_train_2, target_test_2 = train_test_split(\n",
    "    features_2, target_2, test_size=0.25, random_state=42)\n",
    "\n",
    "print(features_train_2.shape, target_train_2.shape)\n",
    "print(features_test_2.shape, target_test_2.shape)"
   ]
  },
  {
   "cell_type": "markdown",
   "metadata": {},
   "source": [
    "R2 score is close to 1 – quality of the model is good."
   ]
  },
  {
   "cell_type": "code",
   "execution_count": 33,
   "metadata": {},
   "outputs": [
    {
     "name": "stdout",
     "output_type": "stream",
     "text": [
      "R2: 0.9996243783357086\n"
     ]
    }
   ],
   "source": [
    "model_region_2 = LinearRegression()\n",
    "folds = KFold(n_splits = 5, shuffle = True, random_state = 42)\n",
    "print('R2:', cross_val_score(model_region_2, features_2, target_2, cv=folds, scoring='r2').mean())"
   ]
  },
  {
   "cell_type": "markdown",
   "metadata": {},
   "source": [
    "Let's save predictions and real values in `predictions_2`."
   ]
  },
  {
   "cell_type": "code",
   "execution_count": 34,
   "metadata": {},
   "outputs": [
    {
     "data": {
      "text/html": [
       "<div>\n",
       "<style scoped>\n",
       "    .dataframe tbody tr th:only-of-type {\n",
       "        vertical-align: middle;\n",
       "    }\n",
       "\n",
       "    .dataframe tbody tr th {\n",
       "        vertical-align: top;\n",
       "    }\n",
       "\n",
       "    .dataframe thead th {\n",
       "        text-align: right;\n",
       "    }\n",
       "</style>\n",
       "<table border=\"1\" class=\"dataframe\">\n",
       "  <thead>\n",
       "    <tr style=\"text-align: right;\">\n",
       "      <th></th>\n",
       "      <th>2_predictions</th>\n",
       "      <th>2_real_value</th>\n",
       "    </tr>\n",
       "  </thead>\n",
       "  <tbody>\n",
       "    <tr>\n",
       "      <th>75721</th>\n",
       "      <td>0.844738</td>\n",
       "      <td>0.000000</td>\n",
       "    </tr>\n",
       "    <tr>\n",
       "      <th>80184</th>\n",
       "      <td>52.921612</td>\n",
       "      <td>53.906522</td>\n",
       "    </tr>\n",
       "    <tr>\n",
       "      <th>19864</th>\n",
       "      <td>135.110385</td>\n",
       "      <td>134.766305</td>\n",
       "    </tr>\n",
       "    <tr>\n",
       "      <th>76699</th>\n",
       "      <td>109.494863</td>\n",
       "      <td>107.813044</td>\n",
       "    </tr>\n",
       "    <tr>\n",
       "      <th>92991</th>\n",
       "      <td>-0.047292</td>\n",
       "      <td>0.000000</td>\n",
       "    </tr>\n",
       "    <tr>\n",
       "      <th>...</th>\n",
       "      <td>...</td>\n",
       "      <td>...</td>\n",
       "    </tr>\n",
       "    <tr>\n",
       "      <th>21271</th>\n",
       "      <td>108.351600</td>\n",
       "      <td>107.813044</td>\n",
       "    </tr>\n",
       "    <tr>\n",
       "      <th>34014</th>\n",
       "      <td>53.604049</td>\n",
       "      <td>53.906522</td>\n",
       "    </tr>\n",
       "    <tr>\n",
       "      <th>81355</th>\n",
       "      <td>26.708734</td>\n",
       "      <td>26.953261</td>\n",
       "    </tr>\n",
       "    <tr>\n",
       "      <th>65720</th>\n",
       "      <td>109.823087</td>\n",
       "      <td>110.992147</td>\n",
       "    </tr>\n",
       "    <tr>\n",
       "      <th>11627</th>\n",
       "      <td>135.448780</td>\n",
       "      <td>134.766305</td>\n",
       "    </tr>\n",
       "  </tbody>\n",
       "</table>\n",
       "<p>25000 rows × 2 columns</p>\n",
       "</div>"
      ],
      "text/plain": [
       "       2_predictions  2_real_value\n",
       "75721       0.844738      0.000000\n",
       "80184      52.921612     53.906522\n",
       "19864     135.110385    134.766305\n",
       "76699     109.494863    107.813044\n",
       "92991      -0.047292      0.000000\n",
       "...              ...           ...\n",
       "21271     108.351600    107.813044\n",
       "34014      53.604049     53.906522\n",
       "81355      26.708734     26.953261\n",
       "65720     109.823087    110.992147\n",
       "11627     135.448780    134.766305\n",
       "\n",
       "[25000 rows x 2 columns]"
      ]
     },
     "metadata": {},
     "output_type": "display_data"
    }
   ],
   "source": [
    "predictions_2 = model_fit(features_train_2, target_train_2, features_test_2, target_test_2, '2')\n",
    "display(predictions_2)"
   ]
  },
  {
   "cell_type": "code",
   "execution_count": 35,
   "metadata": {},
   "outputs": [
    {
     "name": "stdout",
     "output_type": "stream",
     "text": [
      "Average volume of predicted raw materials: 69\n"
     ]
    }
   ],
   "source": [
    "mean_region_2 = predictions_2['2_predictions'].mean()\n",
    "print(f'Average volume of predicted raw materials: {round(mean_region_2)}')"
   ]
  },
  {
   "cell_type": "code",
   "execution_count": 37,
   "metadata": {},
   "outputs": [
    {
     "name": "stdout",
     "output_type": "stream",
     "text": [
      "MAE: 0.7170119535682558\n",
      "RMSE: 0.8902801001028845\n"
     ]
    }
   ],
   "source": [
    "print('MAE:', mean_absolute_error(predictions_2['2_real_value'], predictions_2['2_predictions']))\n",
    "print('RMSE:', mean_squared_error(predictions_2['2_real_value'], predictions_2['2_predictions'])**.5)"
   ]
  },
  {
   "cell_type": "markdown",
   "metadata": {},
   "source": [
    "### Region 3"
   ]
  },
  {
   "cell_type": "code",
   "execution_count": 38,
   "metadata": {},
   "outputs": [
    {
     "name": "stdout",
     "output_type": "stream",
     "text": [
      "(75000, 3) (75000,)\n",
      "(25000, 3) (25000,)\n"
     ]
    }
   ],
   "source": [
    "features_3, target_3 = region_3.drop(['product', 'id'], axis=1), region_3['product']\n",
    "\n",
    "features_train_3, features_test_3, target_train_3, target_test_3 = train_test_split(\n",
    "    features_3, target_3, test_size=0.25, random_state=42)\n",
    "\n",
    "print(features_train_3.shape, target_train_3.shape)\n",
    "print(features_test_3.shape, target_test_3.shape)"
   ]
  },
  {
   "cell_type": "markdown",
   "metadata": {},
   "source": [
    "The quality of the model is low. R2 score is close to 0."
   ]
  },
  {
   "cell_type": "code",
   "execution_count": 39,
   "metadata": {},
   "outputs": [
    {
     "name": "stdout",
     "output_type": "stream",
     "text": [
      "R2: 0.1986806467435085\n"
     ]
    }
   ],
   "source": [
    "model_region_3 = LinearRegression()\n",
    "folds = KFold(n_splits = 5, shuffle = True, random_state = 42)\n",
    "print('R2:', cross_val_score(model_region_3, features_3, target_3, cv=folds, scoring='r2').mean())"
   ]
  },
  {
   "cell_type": "markdown",
   "metadata": {},
   "source": [
    "Let's save predictions and real value in `predictions_3`."
   ]
  },
  {
   "cell_type": "code",
   "execution_count": 40,
   "metadata": {},
   "outputs": [
    {
     "data": {
      "text/html": [
       "<div>\n",
       "<style scoped>\n",
       "    .dataframe tbody tr th:only-of-type {\n",
       "        vertical-align: middle;\n",
       "    }\n",
       "\n",
       "    .dataframe tbody tr th {\n",
       "        vertical-align: top;\n",
       "    }\n",
       "\n",
       "    .dataframe thead th {\n",
       "        text-align: right;\n",
       "    }\n",
       "</style>\n",
       "<table border=\"1\" class=\"dataframe\">\n",
       "  <thead>\n",
       "    <tr style=\"text-align: right;\">\n",
       "      <th></th>\n",
       "      <th>3_predictions</th>\n",
       "      <th>3_real_value</th>\n",
       "    </tr>\n",
       "  </thead>\n",
       "  <tbody>\n",
       "    <tr>\n",
       "      <th>75721</th>\n",
       "      <td>98.301916</td>\n",
       "      <td>117.441301</td>\n",
       "    </tr>\n",
       "    <tr>\n",
       "      <th>80184</th>\n",
       "      <td>101.592461</td>\n",
       "      <td>47.841249</td>\n",
       "    </tr>\n",
       "    <tr>\n",
       "      <th>19864</th>\n",
       "      <td>52.449099</td>\n",
       "      <td>45.883483</td>\n",
       "    </tr>\n",
       "    <tr>\n",
       "      <th>76699</th>\n",
       "      <td>109.922127</td>\n",
       "      <td>139.014608</td>\n",
       "    </tr>\n",
       "    <tr>\n",
       "      <th>92991</th>\n",
       "      <td>72.411847</td>\n",
       "      <td>84.004276</td>\n",
       "    </tr>\n",
       "    <tr>\n",
       "      <th>...</th>\n",
       "      <td>...</td>\n",
       "      <td>...</td>\n",
       "    </tr>\n",
       "    <tr>\n",
       "      <th>21271</th>\n",
       "      <td>102.764169</td>\n",
       "      <td>40.797226</td>\n",
       "    </tr>\n",
       "    <tr>\n",
       "      <th>34014</th>\n",
       "      <td>93.431823</td>\n",
       "      <td>87.144239</td>\n",
       "    </tr>\n",
       "    <tr>\n",
       "      <th>81355</th>\n",
       "      <td>64.098390</td>\n",
       "      <td>52.039812</td>\n",
       "    </tr>\n",
       "    <tr>\n",
       "      <th>65720</th>\n",
       "      <td>83.764135</td>\n",
       "      <td>136.961454</td>\n",
       "    </tr>\n",
       "    <tr>\n",
       "      <th>11627</th>\n",
       "      <td>86.558644</td>\n",
       "      <td>109.173206</td>\n",
       "    </tr>\n",
       "  </tbody>\n",
       "</table>\n",
       "<p>25000 rows × 2 columns</p>\n",
       "</div>"
      ],
      "text/plain": [
       "       3_predictions  3_real_value\n",
       "75721      98.301916    117.441301\n",
       "80184     101.592461     47.841249\n",
       "19864      52.449099     45.883483\n",
       "76699     109.922127    139.014608\n",
       "92991      72.411847     84.004276\n",
       "...              ...           ...\n",
       "21271     102.764169     40.797226\n",
       "34014      93.431823     87.144239\n",
       "81355      64.098390     52.039812\n",
       "65720      83.764135    136.961454\n",
       "11627      86.558644    109.173206\n",
       "\n",
       "[25000 rows x 2 columns]"
      ]
     },
     "metadata": {},
     "output_type": "display_data"
    }
   ],
   "source": [
    "predictions_3 = model_fit(features_train_3, target_train_3, features_test_3, target_test_3, '3')\n",
    "display(predictions_3)"
   ]
  },
  {
   "cell_type": "code",
   "execution_count": 41,
   "metadata": {},
   "outputs": [
    {
     "name": "stdout",
     "output_type": "stream",
     "text": [
      "Average volume of predicted raw materials: 95\n"
     ]
    }
   ],
   "source": [
    "mean_region_3 = predictions_3['3_predictions'].mean()\n",
    "print(f'Average volume of predicted raw materials: {round(mean_region_3)}')"
   ]
  },
  {
   "cell_type": "code",
   "execution_count": 42,
   "metadata": {},
   "outputs": [
    {
     "name": "stdout",
     "output_type": "stream",
     "text": [
      "MAE: 32.89695861057806\n",
      "RMSE: 40.14587231134218\n"
     ]
    }
   ],
   "source": [
    "print('MAE:', mean_absolute_error(predictions_3['3_real_value'], predictions_3['3_predictions']))\n",
    "print('RMSE:', mean_squared_error(predictions_3['3_real_value'], predictions_3['3_predictions'])**.5)"
   ]
  },
  {
   "cell_type": "markdown",
   "metadata": {},
   "source": [
    "**Summary:** The best MAE (0.72) and RMSE (0.89) scores was aquired from the linear regression model fitted on data from 2 region. MAE and RMSE for model, fitted on data from the 1 region are 31.05 and 37.76 respectively – values that are less that 25th percentile of the `product` variable. However, R2 score is close to the 0. Regarding 3 region, MAE is 32.9, RMSE - 40.15, values that are also less than the 25th percentile of the `product` variable."
   ]
  },
  {
   "cell_type": "markdown",
   "metadata": {},
   "source": [
    "## Preparations for revenue calculation"
   ]
  },
  {
   "cell_type": "markdown",
   "metadata": {},
   "source": [
    "Let's create variables for key values. We need to generate a sample of 500 values (`GEOTAG_MAX`) from which we will choose the 200 locations with the best predictions (`GEOTAG_BEST`). In addition, we are limited in budget – up to 10 billion (`BUDGET`), and in cost of one unit of the product (`ONE_PROD`)."
   ]
  },
  {
   "cell_type": "code",
   "execution_count": 45,
   "metadata": {},
   "outputs": [],
   "source": [
    "GEOTAG_MAX = 500\n",
    "GEOTAG_BEST = 200\n",
    "BUDGET = 10000000000\n",
    "ONE_PROD = 450000"
   ]
  },
  {
   "cell_type": "markdown",
   "metadata": {},
   "source": [
    "Next, we will calculate the volume of raw materials that is sufficient for developing a new well"
   ]
  },
  {
   "cell_type": "code",
   "execution_count": 46,
   "metadata": {},
   "outputs": [
    {
     "name": "stdout",
     "output_type": "stream",
     "text": [
      "To develop a new well 111 raw material barrels are needed.\n"
     ]
    }
   ],
   "source": [
    "goal_quantity = BUDGET/(ONE_PROD*GEOTAG_BEST)\n",
    "print(f'To develop a new well {round(goal_quantity)} raw material barrels are needed.')"
   ]
  },
  {
   "cell_type": "markdown",
   "metadata": {},
   "source": [
    "Now, let's calculate how much raw material barrels are produced on average in each region according to the predictions of the model."
   ]
  },
  {
   "cell_type": "code",
   "execution_count": 48,
   "metadata": {},
   "outputs": [
    {
     "name": "stdout",
     "output_type": "stream",
     "text": [
      "In 1 region, 92 raw material barrels are produced.\n",
      "In 2 region, 69 raw material barrels are produced.\n",
      "In 3 region, 95 raw material barrels are produced.\n"
     ]
    }
   ],
   "source": [
    "print(f'In 1 region, {round(mean_region_1)} raw material barrels are produced.')\n",
    "print(f'In 2 region, {round(mean_region_2)} raw material barrels are produced.')\n",
    "print(f'In 3 region, {round(mean_region_3)} raw material barrels are produced.')"
   ]
  },
  {
   "cell_type": "markdown",
   "metadata": {},
   "source": [
    "**Summary:** According to the predictions of models, on average, in all regions, there is not enough raw materials for starting the development of a new well. The 3 region shows the best result. The 2 region has the lowest indicators."
   ]
  },
  {
   "cell_type": "markdown",
   "metadata": {},
   "source": [
    "## Revenue and risks calculation"
   ]
  },
  {
   "cell_type": "markdown",
   "metadata": {},
   "source": [
    "To calculate revenue that could be acquired from the best locations in each of three regions we created special function. This function selects locations with maximum predictions in the region. Then it summarizes the real volume of raw materials that was extracted at these locations. As a result, by multiplying the cost of one raw material barrel by the total amount of extracted barrels we get total revenue in each particular region. The function was initialized at the beginning."
   ]
  },
  {
   "cell_type": "markdown",
   "metadata": {},
   "source": [
    "We will find the distribution of profits using bootstrap sampling. The function for bootstrap sampling was also initialized at the beginning."
   ]
  },
  {
   "cell_type": "markdown",
   "metadata": {},
   "source": [
    "For each region, we will calculate the risks and average profit. Then, we will find the 95% confidence interval for the sample average."
   ]
  },
  {
   "cell_type": "code",
   "execution_count": 59,
   "metadata": {},
   "outputs": [
    {
     "name": "stdout",
     "output_type": "stream",
     "text": [
      "Mean income: 399575478.05422896\n",
      "Lower boundary of the 95% confidence interval: -110467895.33197226\n",
      "Upper boundary of the 95% confidence interval: 897460327.7178793\n",
      "Negative profit margin: 0.06\n"
     ]
    }
   ],
   "source": [
    "values_1 = bootstrap(predictions_1, 1000, 42) # прибыль\n",
    "income_1 = values_1 - BUDGET # выручка\n",
    "income_1_mean = income_1.mean()\n",
    "lower_1 = income_1.quantile(0.025)\n",
    "upper_1 = income_1.quantile(0.975)\n",
    "\n",
    "print('Mean income:', income_1_mean)\n",
    "print('Lower boundary of the 95% confidence interval:', lower_1)\n",
    "print('Upper boundary of the 95% confidence interval:', upper_1)\n",
    "\n",
    "risk_1 = sum([1 for i in income_1 if i < 0])/len(income_1)\n",
    "print('Negative profit margin:', risk_1) "
   ]
  },
  {
   "cell_type": "code",
   "execution_count": 61,
   "metadata": {},
   "outputs": [
    {
     "name": "stdout",
     "output_type": "stream",
     "text": [
      "Mean income: 452048890.9064584\n",
      "Lower boundary of the 95% confidence interval: 61684479.65422669\n",
      "Upper boundary of the 95% confidence interval: 845340177.5073848\n",
      "Negative profit margin: 0.015\n"
     ]
    }
   ],
   "source": [
    "values_2 = bootstrap(predictions_2, 1000, 42) # прибыль\n",
    "income_2 = values_2 - BUDGET # выручка\n",
    "income_2_mean = income_2.mean()\n",
    "lower_2 = income_2.quantile(0.025)\n",
    "upper_2 = income_2.quantile(0.975)\n",
    "\n",
    "print('Mean income:', income_2_mean)\n",
    "print('Lower boundary of the 95% confidence interval:', lower_2)\n",
    "print('Upper boundary of the 95% confidence interval:', upper_2)\n",
    "\n",
    "risk_2 = sum([1 for i in income_2 if i < 0])/len(income_2)\n",
    "print('Negative profit margin:', risk_2)"
   ]
  },
  {
   "cell_type": "code",
   "execution_count": 63,
   "metadata": {},
   "outputs": [
    {
     "name": "stdout",
     "output_type": "stream",
     "text": [
      "Mean income: 375009902.91532844\n",
      "Lower boundary of the 95% confidence interval: -144766727.3048927\n",
      "Upper boundary of the 95% confidence interval: 888390403.5342213\n",
      "Negative profit margin: 0.08\n"
     ]
    }
   ],
   "source": [
    "values_3 = bootstrap(predictions_3, 1000, 42)  # прибыль\n",
    "income_3 = values_3 - BUDGET # выручка\n",
    "income_3_mean = income_3.mean()\n",
    "lower_3 = income_3.quantile(0.025)\n",
    "upper_3 = income_3.quantile(0.975)\n",
    "\n",
    "print('Mean income:', income_3_mean)\n",
    "print('Lower boundary of the 95% confidence interval:', lower_3)\n",
    "print('Upper boundary of the 95% confidence interval:', upper_3)\n",
    "\n",
    "risk_3 = sum([1 for i in income_3 if i < 0])/len(income_3)\n",
    "print('Negative profit margin:', risk_3)"
   ]
  },
  {
   "cell_type": "markdown",
   "metadata": {},
   "source": [
    "## Conclusion"
   ]
  },
  {
   "cell_type": "markdown",
   "metadata": {},
   "source": [
    "Model shows the best result on data from the second region. Negative profit margin is less than 2.5% only in the region 2. Therefore, risk of receiving negative profit is the least in second region. That is why it is proposed to consider region 2 as a location for the development of new wells."
   ]
  }
 ],
 "metadata": {
  "ExecuteTimeLog": [
   {
    "duration": 2363,
    "start_time": "2022-11-10T07:40:30.645Z"
   },
   {
    "duration": 1167,
    "start_time": "2022-11-10T07:40:40.113Z"
   },
   {
    "duration": 15,
    "start_time": "2022-11-10T07:41:11.742Z"
   },
   {
    "duration": 22,
    "start_time": "2022-11-10T07:41:17.924Z"
   },
   {
    "duration": 44,
    "start_time": "2022-11-10T07:41:23.371Z"
   },
   {
    "duration": 10,
    "start_time": "2022-11-10T07:41:28.892Z"
   },
   {
    "duration": 53,
    "start_time": "2022-11-10T07:41:35.585Z"
   },
   {
    "duration": 1313,
    "start_time": "2022-11-10T07:41:54.225Z"
   },
   {
    "duration": 10,
    "start_time": "2022-11-10T07:42:20.068Z"
   },
   {
    "duration": 18,
    "start_time": "2022-11-10T07:42:25.671Z"
   },
   {
    "duration": 47,
    "start_time": "2022-11-10T07:42:31.174Z"
   },
   {
    "duration": 10,
    "start_time": "2022-11-10T07:42:36.231Z"
   },
   {
    "duration": 60,
    "start_time": "2022-11-10T07:42:40.521Z"
   },
   {
    "duration": 1161,
    "start_time": "2022-11-10T07:42:55.705Z"
   },
   {
    "duration": 10,
    "start_time": "2022-11-10T07:43:15.584Z"
   },
   {
    "duration": 24,
    "start_time": "2022-11-10T07:43:21.091Z"
   },
   {
    "duration": 41,
    "start_time": "2022-11-10T07:43:27.581Z"
   },
   {
    "duration": 12,
    "start_time": "2022-11-10T07:43:33.155Z"
   },
   {
    "duration": 50,
    "start_time": "2022-11-10T07:43:38.714Z"
   },
   {
    "duration": 1512,
    "start_time": "2022-11-10T07:43:44.606Z"
   },
   {
    "duration": 16,
    "start_time": "2022-11-10T07:44:57.429Z"
   },
   {
    "duration": 641,
    "start_time": "2022-11-10T09:28:17.020Z"
   },
   {
    "duration": 541,
    "start_time": "2022-11-10T09:28:19.211Z"
   },
   {
    "duration": 217,
    "start_time": "2022-11-10T09:28:37.839Z"
   },
   {
    "duration": 5,
    "start_time": "2022-11-10T09:28:50.225Z"
   },
   {
    "duration": 7,
    "start_time": "2022-11-10T09:29:01.863Z"
   },
   {
    "duration": 19,
    "start_time": "2022-11-10T09:29:32.111Z"
   },
   {
    "duration": 788,
    "start_time": "2022-11-10T09:29:48.480Z"
   },
   {
    "duration": 118,
    "start_time": "2022-11-10T09:30:05.634Z"
   },
   {
    "duration": 5,
    "start_time": "2022-11-10T09:30:15.128Z"
   },
   {
    "duration": 7,
    "start_time": "2022-11-10T09:30:33.737Z"
   },
   {
    "duration": 16,
    "start_time": "2022-11-10T09:31:02.922Z"
   },
   {
    "duration": 573,
    "start_time": "2022-11-10T09:31:20.399Z"
   },
   {
    "duration": 25,
    "start_time": "2022-11-10T09:31:36.237Z"
   },
   {
    "duration": 5,
    "start_time": "2022-11-10T09:31:47.631Z"
   },
   {
    "duration": 9,
    "start_time": "2022-11-10T09:31:54.396Z"
   },
   {
    "duration": 4,
    "start_time": "2022-11-10T09:34:04.710Z"
   },
   {
    "duration": 3,
    "start_time": "2022-11-10T09:34:07.090Z"
   },
   {
    "duration": 4,
    "start_time": "2022-11-10T09:34:24.182Z"
   },
   {
    "duration": 4,
    "start_time": "2022-11-10T09:34:43.014Z"
   },
   {
    "duration": 5,
    "start_time": "2022-11-10T09:34:44.181Z"
   },
   {
    "duration": 4,
    "start_time": "2022-11-10T09:35:15.961Z"
   },
   {
    "duration": 4,
    "start_time": "2022-11-10T09:35:30.369Z"
   },
   {
    "duration": 889,
    "start_time": "2022-11-10T09:35:46.850Z"
   },
   {
    "duration": 878,
    "start_time": "2022-11-10T09:35:54.206Z"
   },
   {
    "duration": 805,
    "start_time": "2022-11-10T09:36:08.023Z"
   },
   {
    "duration": 4,
    "start_time": "2022-11-10T09:36:37.285Z"
   },
   {
    "duration": 906,
    "start_time": "2022-11-10T09:36:37.292Z"
   },
   {
    "duration": 11,
    "start_time": "2022-11-10T09:36:38.200Z"
   },
   {
    "duration": 62,
    "start_time": "2022-11-10T09:36:38.213Z"
   },
   {
    "duration": 41,
    "start_time": "2022-11-10T09:36:38.277Z"
   },
   {
    "duration": 31,
    "start_time": "2022-11-10T09:36:38.320Z"
   },
   {
    "duration": 60,
    "start_time": "2022-11-10T09:36:38.355Z"
   },
   {
    "duration": 1218,
    "start_time": "2022-11-10T09:36:38.417Z"
   },
   {
    "duration": 22,
    "start_time": "2022-11-10T09:36:39.637Z"
   },
   {
    "duration": 55,
    "start_time": "2022-11-10T09:36:39.663Z"
   },
   {
    "duration": 78,
    "start_time": "2022-11-10T09:36:39.721Z"
   },
   {
    "duration": 12,
    "start_time": "2022-11-10T09:36:39.801Z"
   },
   {
    "duration": 116,
    "start_time": "2022-11-10T09:36:39.815Z"
   },
   {
    "duration": 1491,
    "start_time": "2022-11-10T09:36:39.934Z"
   },
   {
    "duration": 14,
    "start_time": "2022-11-10T09:36:41.427Z"
   },
   {
    "duration": 48,
    "start_time": "2022-11-10T09:36:41.442Z"
   },
   {
    "duration": 51,
    "start_time": "2022-11-10T09:36:41.493Z"
   },
   {
    "duration": 16,
    "start_time": "2022-11-10T09:36:41.546Z"
   },
   {
    "duration": 67,
    "start_time": "2022-11-10T09:36:41.564Z"
   },
   {
    "duration": 1669,
    "start_time": "2022-11-10T09:36:41.633Z"
   },
   {
    "duration": 16,
    "start_time": "2022-11-10T09:36:43.304Z"
   },
   {
    "duration": 632,
    "start_time": "2022-11-10T09:36:43.322Z"
   },
   {
    "duration": 200,
    "start_time": "2022-11-10T09:36:43.957Z"
   },
   {
    "duration": 100,
    "start_time": "2022-11-10T09:36:44.165Z"
   },
   {
    "duration": 18,
    "start_time": "2022-11-10T09:36:44.268Z"
   },
   {
    "duration": 26,
    "start_time": "2022-11-10T09:36:44.288Z"
   },
   {
    "duration": 444,
    "start_time": "2022-11-10T09:36:44.316Z"
   },
   {
    "duration": 187,
    "start_time": "2022-11-10T09:36:44.765Z"
   },
   {
    "duration": 99,
    "start_time": "2022-11-10T09:36:44.955Z"
   },
   {
    "duration": 18,
    "start_time": "2022-11-10T09:36:45.056Z"
   },
   {
    "duration": 26,
    "start_time": "2022-11-10T09:36:45.076Z"
   },
   {
    "duration": 450,
    "start_time": "2022-11-10T09:36:45.104Z"
   },
   {
    "duration": 111,
    "start_time": "2022-11-10T09:36:45.556Z"
   },
   {
    "duration": 119,
    "start_time": "2022-11-10T09:36:45.756Z"
   },
   {
    "duration": 15,
    "start_time": "2022-11-10T09:36:45.877Z"
   },
   {
    "duration": 11,
    "start_time": "2022-11-10T09:36:45.895Z"
   },
   {
    "duration": 23,
    "start_time": "2022-11-10T09:36:45.908Z"
   },
   {
    "duration": 17,
    "start_time": "2022-11-10T09:36:45.934Z"
   },
   {
    "duration": 13,
    "start_time": "2022-11-10T09:36:45.953Z"
   },
   {
    "duration": 14,
    "start_time": "2022-11-10T09:36:45.968Z"
   },
   {
    "duration": 864,
    "start_time": "2022-11-10T09:36:45.984Z"
   },
   {
    "duration": 825,
    "start_time": "2022-11-10T09:36:46.851Z"
   },
   {
    "duration": 919,
    "start_time": "2022-11-10T09:36:47.678Z"
   }
  ],
  "kernelspec": {
   "display_name": "Python 3 (ipykernel)",
   "language": "python",
   "name": "python3"
  },
  "language_info": {
   "codemirror_mode": {
    "name": "ipython",
    "version": 3
   },
   "file_extension": ".py",
   "mimetype": "text/x-python",
   "name": "python",
   "nbconvert_exporter": "python",
   "pygments_lexer": "ipython3",
   "version": "3.9.12"
  },
  "toc": {
   "base_numbering": 1,
   "nav_menu": {},
   "number_sections": true,
   "sideBar": true,
   "skip_h1_title": true,
   "title_cell": "Table of Contents",
   "title_sidebar": "Contents",
   "toc_cell": false,
   "toc_position": {},
   "toc_section_display": true,
   "toc_window_display": false
  }
 },
 "nbformat": 4,
 "nbformat_minor": 4
}
