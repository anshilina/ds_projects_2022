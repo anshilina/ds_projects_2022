{
 "cells": [
  {
   "cell_type": "markdown",
   "metadata": {
    "tags": []
   },
   "source": [
    "# Predicting car price"
   ]
  },
  {
   "cell_type": "markdown",
   "metadata": {},
   "source": [
    "## Data preprocessing"
   ]
  },
  {
   "cell_type": "code",
   "execution_count": 1,
   "metadata": {},
   "outputs": [],
   "source": [
    "import pandas as pd\n",
    "import numpy as np\n",
    "import random\n",
    "random.seed(42)\n",
    "import time\n",
    "import warnings\n",
    "warnings.filterwarnings(\"ignore\")\n",
    "\n",
    "from sklearn.model_selection import train_test_split, RandomizedSearchCV, GridSearchCV, cross_val_score\n",
    "from sklearn.compose import make_column_transformer\n",
    "from sklearn.preprocessing import StandardScaler, OneHotEncoder, OrdinalEncoder\n",
    "from sklearn.impute import SimpleImputer\n",
    "from sklearn.pipeline import Pipeline\n",
    "from sklearn.linear_model import LinearRegression\n",
    "from sklearn.ensemble import RandomForestRegressor\n",
    "from sklearn.tree import DecisionTreeRegressor\n",
    "from sklearn.dummy import DummyRegressor\n",
    "from sklearn.metrics import mean_squared_error\n",
    "\n",
    "from lightgbm import LGBMRegressor\n",
    "from catboost import CatBoostRegressor\n",
    "\n",
    "from IPython.display import display\n",
    "import matplotlib.pyplot as plt\n",
    "import seaborn as sns\n",
    "color = sns.color_palette(\"flare\")"
   ]
  },
  {
   "cell_type": "code",
   "execution_count": 2,
   "metadata": {},
   "outputs": [],
   "source": [
    "# function for calculating the probability of missing variable type for a particular car model\n",
    "\n",
    "def prob_calc(df):\n",
    "    probabilities = []\n",
    "    model = df.index\n",
    "    \n",
    "    for values in model:\n",
    "        probs = []\n",
    "        count_sum = df.loc[df.index == values].sum().sum()\n",
    "        count_prob = df.loc[df.index == values].sum()\n",
    "        for ind in range(len(count_prob)):\n",
    "            probs.append(count_prob[ind]/count_sum)\n",
    "        probabilities.append(probs)\n",
    "        \n",
    "    return probabilities"
   ]
  },
  {
   "cell_type": "code",
   "execution_count": 3,
   "metadata": {},
   "outputs": [],
   "source": [
    "try:\n",
    "    df = pd.read_csv('/Users/anshilina/Documents/autos.csv')\n",
    "except:\n",
    "    df = pd.read_csv('/datasets/autos.csv')"
   ]
  },
  {
   "cell_type": "code",
   "execution_count": 4,
   "metadata": {},
   "outputs": [
    {
     "data": {
      "text/html": [
       "<div>\n",
       "<style scoped>\n",
       "    .dataframe tbody tr th:only-of-type {\n",
       "        vertical-align: middle;\n",
       "    }\n",
       "\n",
       "    .dataframe tbody tr th {\n",
       "        vertical-align: top;\n",
       "    }\n",
       "\n",
       "    .dataframe thead th {\n",
       "        text-align: right;\n",
       "    }\n",
       "</style>\n",
       "<table border=\"1\" class=\"dataframe\">\n",
       "  <thead>\n",
       "    <tr style=\"text-align: right;\">\n",
       "      <th></th>\n",
       "      <th>DateCrawled</th>\n",
       "      <th>Price</th>\n",
       "      <th>VehicleType</th>\n",
       "      <th>RegistrationYear</th>\n",
       "      <th>Gearbox</th>\n",
       "      <th>Power</th>\n",
       "      <th>Model</th>\n",
       "      <th>Kilometer</th>\n",
       "      <th>RegistrationMonth</th>\n",
       "      <th>FuelType</th>\n",
       "      <th>Brand</th>\n",
       "      <th>Repaired</th>\n",
       "      <th>DateCreated</th>\n",
       "      <th>NumberOfPictures</th>\n",
       "      <th>PostalCode</th>\n",
       "      <th>LastSeen</th>\n",
       "    </tr>\n",
       "  </thead>\n",
       "  <tbody>\n",
       "    <tr>\n",
       "      <th>0</th>\n",
       "      <td>2016-03-24 11:52:17</td>\n",
       "      <td>480</td>\n",
       "      <td>NaN</td>\n",
       "      <td>1993</td>\n",
       "      <td>manual</td>\n",
       "      <td>0</td>\n",
       "      <td>golf</td>\n",
       "      <td>150000</td>\n",
       "      <td>0</td>\n",
       "      <td>petrol</td>\n",
       "      <td>volkswagen</td>\n",
       "      <td>NaN</td>\n",
       "      <td>2016-03-24 00:00:00</td>\n",
       "      <td>0</td>\n",
       "      <td>70435</td>\n",
       "      <td>2016-04-07 03:16:57</td>\n",
       "    </tr>\n",
       "    <tr>\n",
       "      <th>1</th>\n",
       "      <td>2016-03-24 10:58:45</td>\n",
       "      <td>18300</td>\n",
       "      <td>coupe</td>\n",
       "      <td>2011</td>\n",
       "      <td>manual</td>\n",
       "      <td>190</td>\n",
       "      <td>NaN</td>\n",
       "      <td>125000</td>\n",
       "      <td>5</td>\n",
       "      <td>gasoline</td>\n",
       "      <td>audi</td>\n",
       "      <td>yes</td>\n",
       "      <td>2016-03-24 00:00:00</td>\n",
       "      <td>0</td>\n",
       "      <td>66954</td>\n",
       "      <td>2016-04-07 01:46:50</td>\n",
       "    </tr>\n",
       "    <tr>\n",
       "      <th>2</th>\n",
       "      <td>2016-03-14 12:52:21</td>\n",
       "      <td>9800</td>\n",
       "      <td>suv</td>\n",
       "      <td>2004</td>\n",
       "      <td>auto</td>\n",
       "      <td>163</td>\n",
       "      <td>grand</td>\n",
       "      <td>125000</td>\n",
       "      <td>8</td>\n",
       "      <td>gasoline</td>\n",
       "      <td>jeep</td>\n",
       "      <td>NaN</td>\n",
       "      <td>2016-03-14 00:00:00</td>\n",
       "      <td>0</td>\n",
       "      <td>90480</td>\n",
       "      <td>2016-04-05 12:47:46</td>\n",
       "    </tr>\n",
       "    <tr>\n",
       "      <th>3</th>\n",
       "      <td>2016-03-17 16:54:04</td>\n",
       "      <td>1500</td>\n",
       "      <td>small</td>\n",
       "      <td>2001</td>\n",
       "      <td>manual</td>\n",
       "      <td>75</td>\n",
       "      <td>golf</td>\n",
       "      <td>150000</td>\n",
       "      <td>6</td>\n",
       "      <td>petrol</td>\n",
       "      <td>volkswagen</td>\n",
       "      <td>no</td>\n",
       "      <td>2016-03-17 00:00:00</td>\n",
       "      <td>0</td>\n",
       "      <td>91074</td>\n",
       "      <td>2016-03-17 17:40:17</td>\n",
       "    </tr>\n",
       "    <tr>\n",
       "      <th>4</th>\n",
       "      <td>2016-03-31 17:25:20</td>\n",
       "      <td>3600</td>\n",
       "      <td>small</td>\n",
       "      <td>2008</td>\n",
       "      <td>manual</td>\n",
       "      <td>69</td>\n",
       "      <td>fabia</td>\n",
       "      <td>90000</td>\n",
       "      <td>7</td>\n",
       "      <td>gasoline</td>\n",
       "      <td>skoda</td>\n",
       "      <td>no</td>\n",
       "      <td>2016-03-31 00:00:00</td>\n",
       "      <td>0</td>\n",
       "      <td>60437</td>\n",
       "      <td>2016-04-06 10:17:21</td>\n",
       "    </tr>\n",
       "  </tbody>\n",
       "</table>\n",
       "</div>"
      ],
      "text/plain": [
       "           DateCrawled  Price VehicleType  RegistrationYear Gearbox  Power  \\\n",
       "0  2016-03-24 11:52:17    480         NaN              1993  manual      0   \n",
       "1  2016-03-24 10:58:45  18300       coupe              2011  manual    190   \n",
       "2  2016-03-14 12:52:21   9800         suv              2004    auto    163   \n",
       "3  2016-03-17 16:54:04   1500       small              2001  manual     75   \n",
       "4  2016-03-31 17:25:20   3600       small              2008  manual     69   \n",
       "\n",
       "   Model  Kilometer  RegistrationMonth  FuelType       Brand Repaired  \\\n",
       "0   golf     150000                  0    petrol  volkswagen      NaN   \n",
       "1    NaN     125000                  5  gasoline        audi      yes   \n",
       "2  grand     125000                  8  gasoline        jeep      NaN   \n",
       "3   golf     150000                  6    petrol  volkswagen       no   \n",
       "4  fabia      90000                  7  gasoline       skoda       no   \n",
       "\n",
       "           DateCreated  NumberOfPictures  PostalCode             LastSeen  \n",
       "0  2016-03-24 00:00:00                 0       70435  2016-04-07 03:16:57  \n",
       "1  2016-03-24 00:00:00                 0       66954  2016-04-07 01:46:50  \n",
       "2  2016-03-14 00:00:00                 0       90480  2016-04-05 12:47:46  \n",
       "3  2016-03-17 00:00:00                 0       91074  2016-03-17 17:40:17  \n",
       "4  2016-03-31 00:00:00                 0       60437  2016-04-06 10:17:21  "
      ]
     },
     "metadata": {},
     "output_type": "display_data"
    }
   ],
   "source": [
    "display(df.head())"
   ]
  },
  {
   "cell_type": "code",
   "execution_count": 5,
   "metadata": {},
   "outputs": [
    {
     "name": "stdout",
     "output_type": "stream",
     "text": [
      "<class 'pandas.core.frame.DataFrame'>\n",
      "RangeIndex: 354369 entries, 0 to 354368\n",
      "Data columns (total 16 columns):\n",
      " #   Column             Non-Null Count   Dtype \n",
      "---  ------             --------------   ----- \n",
      " 0   DateCrawled        354369 non-null  object\n",
      " 1   Price              354369 non-null  int64 \n",
      " 2   VehicleType        316879 non-null  object\n",
      " 3   RegistrationYear   354369 non-null  int64 \n",
      " 4   Gearbox            334536 non-null  object\n",
      " 5   Power              354369 non-null  int64 \n",
      " 6   Model              334664 non-null  object\n",
      " 7   Kilometer          354369 non-null  int64 \n",
      " 8   RegistrationMonth  354369 non-null  int64 \n",
      " 9   FuelType           321474 non-null  object\n",
      " 10  Brand              354369 non-null  object\n",
      " 11  Repaired           283215 non-null  object\n",
      " 12  DateCreated        354369 non-null  object\n",
      " 13  NumberOfPictures   354369 non-null  int64 \n",
      " 14  PostalCode         354369 non-null  int64 \n",
      " 15  LastSeen           354369 non-null  object\n",
      "dtypes: int64(7), object(9)\n",
      "memory usage: 43.3+ MB\n"
     ]
    }
   ],
   "source": [
    "df.info()"
   ]
  },
  {
   "cell_type": "code",
   "execution_count": 6,
   "metadata": {},
   "outputs": [
    {
     "data": {
      "text/html": [
       "<div>\n",
       "<style scoped>\n",
       "    .dataframe tbody tr th:only-of-type {\n",
       "        vertical-align: middle;\n",
       "    }\n",
       "\n",
       "    .dataframe tbody tr th {\n",
       "        vertical-align: top;\n",
       "    }\n",
       "\n",
       "    .dataframe thead th {\n",
       "        text-align: right;\n",
       "    }\n",
       "</style>\n",
       "<table border=\"1\" class=\"dataframe\">\n",
       "  <thead>\n",
       "    <tr style=\"text-align: right;\">\n",
       "      <th></th>\n",
       "      <th>Price</th>\n",
       "      <th>RegistrationYear</th>\n",
       "      <th>Power</th>\n",
       "      <th>Kilometer</th>\n",
       "      <th>RegistrationMonth</th>\n",
       "      <th>NumberOfPictures</th>\n",
       "      <th>PostalCode</th>\n",
       "    </tr>\n",
       "  </thead>\n",
       "  <tbody>\n",
       "    <tr>\n",
       "      <th>count</th>\n",
       "      <td>354369.000000</td>\n",
       "      <td>354369.000000</td>\n",
       "      <td>354369.000000</td>\n",
       "      <td>354369.000000</td>\n",
       "      <td>354369.000000</td>\n",
       "      <td>354369.0</td>\n",
       "      <td>354369.000000</td>\n",
       "    </tr>\n",
       "    <tr>\n",
       "      <th>mean</th>\n",
       "      <td>4416.656776</td>\n",
       "      <td>2004.234448</td>\n",
       "      <td>110.094337</td>\n",
       "      <td>128211.172535</td>\n",
       "      <td>5.714645</td>\n",
       "      <td>0.0</td>\n",
       "      <td>50508.689087</td>\n",
       "    </tr>\n",
       "    <tr>\n",
       "      <th>std</th>\n",
       "      <td>4514.158514</td>\n",
       "      <td>90.227958</td>\n",
       "      <td>189.850405</td>\n",
       "      <td>37905.341530</td>\n",
       "      <td>3.726421</td>\n",
       "      <td>0.0</td>\n",
       "      <td>25783.096248</td>\n",
       "    </tr>\n",
       "    <tr>\n",
       "      <th>min</th>\n",
       "      <td>0.000000</td>\n",
       "      <td>1000.000000</td>\n",
       "      <td>0.000000</td>\n",
       "      <td>5000.000000</td>\n",
       "      <td>0.000000</td>\n",
       "      <td>0.0</td>\n",
       "      <td>1067.000000</td>\n",
       "    </tr>\n",
       "    <tr>\n",
       "      <th>25%</th>\n",
       "      <td>1050.000000</td>\n",
       "      <td>1999.000000</td>\n",
       "      <td>69.000000</td>\n",
       "      <td>125000.000000</td>\n",
       "      <td>3.000000</td>\n",
       "      <td>0.0</td>\n",
       "      <td>30165.000000</td>\n",
       "    </tr>\n",
       "    <tr>\n",
       "      <th>50%</th>\n",
       "      <td>2700.000000</td>\n",
       "      <td>2003.000000</td>\n",
       "      <td>105.000000</td>\n",
       "      <td>150000.000000</td>\n",
       "      <td>6.000000</td>\n",
       "      <td>0.0</td>\n",
       "      <td>49413.000000</td>\n",
       "    </tr>\n",
       "    <tr>\n",
       "      <th>75%</th>\n",
       "      <td>6400.000000</td>\n",
       "      <td>2008.000000</td>\n",
       "      <td>143.000000</td>\n",
       "      <td>150000.000000</td>\n",
       "      <td>9.000000</td>\n",
       "      <td>0.0</td>\n",
       "      <td>71083.000000</td>\n",
       "    </tr>\n",
       "    <tr>\n",
       "      <th>max</th>\n",
       "      <td>20000.000000</td>\n",
       "      <td>9999.000000</td>\n",
       "      <td>20000.000000</td>\n",
       "      <td>150000.000000</td>\n",
       "      <td>12.000000</td>\n",
       "      <td>0.0</td>\n",
       "      <td>99998.000000</td>\n",
       "    </tr>\n",
       "  </tbody>\n",
       "</table>\n",
       "</div>"
      ],
      "text/plain": [
       "               Price  RegistrationYear          Power      Kilometer  \\\n",
       "count  354369.000000     354369.000000  354369.000000  354369.000000   \n",
       "mean     4416.656776       2004.234448     110.094337  128211.172535   \n",
       "std      4514.158514         90.227958     189.850405   37905.341530   \n",
       "min         0.000000       1000.000000       0.000000    5000.000000   \n",
       "25%      1050.000000       1999.000000      69.000000  125000.000000   \n",
       "50%      2700.000000       2003.000000     105.000000  150000.000000   \n",
       "75%      6400.000000       2008.000000     143.000000  150000.000000   \n",
       "max     20000.000000       9999.000000   20000.000000  150000.000000   \n",
       "\n",
       "       RegistrationMonth  NumberOfPictures     PostalCode  \n",
       "count      354369.000000          354369.0  354369.000000  \n",
       "mean            5.714645               0.0   50508.689087  \n",
       "std             3.726421               0.0   25783.096248  \n",
       "min             0.000000               0.0    1067.000000  \n",
       "25%             3.000000               0.0   30165.000000  \n",
       "50%             6.000000               0.0   49413.000000  \n",
       "75%             9.000000               0.0   71083.000000  \n",
       "max            12.000000               0.0   99998.000000  "
      ]
     },
     "execution_count": 6,
     "metadata": {},
     "output_type": "execute_result"
    }
   ],
   "source": [
    "df.describe()"
   ]
  },
  {
   "cell_type": "markdown",
   "metadata": {},
   "source": [
    "**Summary:** According to the descriptive statistics, there are useless features in the data frame. For example, the `NumberOfPictures` variable, that for all observations equals to 0. In addition, variables `DateCrawled`, `DateCreated`, `PostalCode`, `LastSeen` are also seem to be useless, since using them it is impossible to determine the car price.\n",
    "\n",
    "Moreover, it can be seen that there are outliers in the variables `Price`, `RegistrationYear`, `Power`."
   ]
  },
  {
   "cell_type": "markdown",
   "metadata": {},
   "source": [
    "### Outliers"
   ]
  },
  {
   "cell_type": "markdown",
   "metadata": {},
   "source": [
    "The target variable `Price` has 10.8 thousand observations with zero values. These observations seem to be outliers. Let's drop them from data frame."
   ]
  },
  {
   "cell_type": "code",
   "execution_count": 7,
   "metadata": {},
   "outputs": [
    {
     "data": {
      "text/plain": [
       "0       10772\n",
       "500      5670\n",
       "1500     5394\n",
       "1000     4649\n",
       "1200     4594\n",
       "Name: Price, dtype: int64"
      ]
     },
     "metadata": {},
     "output_type": "display_data"
    }
   ],
   "source": [
    "display(df['Price'].value_counts().head())"
   ]
  },
  {
   "cell_type": "code",
   "execution_count": 8,
   "metadata": {},
   "outputs": [
    {
     "data": {
      "text/plain": [
       "343597"
      ]
     },
     "execution_count": 8,
     "metadata": {},
     "output_type": "execute_result"
    }
   ],
   "source": [
    "df = df.query('Price > 0').copy()\n",
    "df.shape[0]"
   ]
  },
  {
   "cell_type": "markdown",
   "metadata": {},
   "source": [
    "There are also outliers in `RegistrationYear` variable: cars could not be registered latter that 2016 since data was uploaded in 2016 (see the unique values of the years in the `DateCrawled` variable). In addition, extrimely large values (`9999` and so on) is the way missing values were encoded – they also will be dropped. Moreover, we assume that vintage cars registered before 1900 are also outliers. There are very few of them in the sample, therefore, we can drop them as well."
   ]
  },
  {
   "cell_type": "code",
   "execution_count": 9,
   "metadata": {},
   "outputs": [
    {
     "name": "stdout",
     "output_type": "stream",
     "text": [
      "Number of cars registered before 1900: 53\n"
     ]
    }
   ],
   "source": [
    "print('Number of cars registered before 1900:', df.loc[df['RegistrationYear'] < 1900].shape[0])"
   ]
  },
  {
   "cell_type": "code",
   "execution_count": 10,
   "metadata": {},
   "outputs": [
    {
     "name": "stdout",
     "output_type": "stream",
     "text": [
      "Years: [2016]\n"
     ]
    }
   ],
   "source": [
    "df['DateCrawled'] = pd.to_datetime(df['DateCrawled'], format='%Y-%m-%d %H:%M:%S')\n",
    "print('Years:', df['DateCrawled'].dt.year.unique())"
   ]
  },
  {
   "cell_type": "code",
   "execution_count": 11,
   "metadata": {},
   "outputs": [
    {
     "data": {
      "text/plain": [
       "(329765, 16)"
      ]
     },
     "metadata": {},
     "output_type": "display_data"
    }
   ],
   "source": [
    "df = df.loc[(df['RegistrationYear'] <= 2016) & (df['RegistrationYear'] > 1900)].copy()\n",
    "display(df.shape)"
   ]
  },
  {
   "cell_type": "markdown",
   "metadata": {},
   "source": [
    "The `Power` variable also contains outliers. They distort the distribution as can be seen from the box plot. Let's remove 1% of the outliers calculating in the lower and upper quantiles."
   ]
  },
  {
   "cell_type": "code",
   "execution_count": 12,
   "metadata": {},
   "outputs": [
    {
     "data": {
      "image/png": "[encoded data removed]",
      "text/plain": [
       "<Figure size 504x360 with 1 Axes>"
      ]
     },
     "metadata": {
      "needs_background": "light"
     },
     "output_type": "display_data"
    }
   ],
   "source": [
    "plt.figure(figsize=(7,5))\n",
    "sns.boxplot(x = df['Power'], palette=color)\n",
    "plt.xlabel('Power')\n",
    "plt.title('Box plot for \"Power\" variable (hp)\\n')\n",
    "plt.show()"
   ]
  },
  {
   "cell_type": "code",
   "execution_count": 13,
   "metadata": {},
   "outputs": [],
   "source": [
    "lower_quantile = df['Power'].quantile(0.005)\n",
    "upper_quantile = df['Power'].quantile(0.995)"
   ]
  },
  {
   "cell_type": "markdown",
   "metadata": {},
   "source": [
    "What is more, power must be different from zero, for a car - 30 hp. minimum."
   ]
  },
  {
   "cell_type": "code",
   "execution_count": 14,
   "metadata": {},
   "outputs": [
    {
     "data": {
      "text/plain": [
       "(0.0, 334.0)"
      ]
     },
     "execution_count": 14,
     "metadata": {},
     "output_type": "execute_result"
    }
   ],
   "source": [
    "lower_quantile, upper_quantile"
   ]
  },
  {
   "cell_type": "code",
   "execution_count": 15,
   "metadata": {},
   "outputs": [
    {
     "data": {
      "text/plain": [
       "294305"
      ]
     },
     "execution_count": 15,
     "metadata": {},
     "output_type": "execute_result"
    }
   ],
   "source": [
    "df = df.query('30  < Power < @upper_quantile').copy()\n",
    "df.shape[0]"
   ]
  },
  {
   "cell_type": "markdown",
   "metadata": {},
   "source": [
    "Let's study final distribution."
   ]
  },
  {
   "cell_type": "code",
   "execution_count": 16,
   "metadata": {},
   "outputs": [
    {
     "data": {
      "image/png": "[encoded data removed]",
      "text/plain": [
       "<Figure size 720x360 with 1 Axes>"
      ]
     },
     "metadata": {
      "needs_background": "light"
     },
     "output_type": "display_data"
    }
   ],
   "source": [
    "plt.figure(figsize=(10,5))\n",
    "sns.histplot(x = df['Power'], color=color[1])\n",
    "plt.xlabel('Power')\n",
    "plt.ylabel('Number of observations')\n",
    "plt.title('Distribution of \"Power\" variable (hp)\\n')\n",
    "plt.show()"
   ]
  },
  {
   "cell_type": "code",
   "execution_count": 17,
   "metadata": {},
   "outputs": [
    {
     "data": {
      "image/png": "[encoded data removed]",
      "text/plain": [
       "<Figure size 504x360 with 1 Axes>"
      ]
     },
     "metadata": {
      "needs_background": "light"
     },
     "output_type": "display_data"
    }
   ],
   "source": [
    "plt.figure(figsize=(7,5))\n",
    "sns.boxplot(x = df['Power'], color=color[1])\n",
    "plt.xlabel('Power')\n",
    "plt.title('Box plot for \"Power\" variable (hp)\\n')\n",
    "plt.show()"
   ]
  },
  {
   "cell_type": "markdown",
   "metadata": {},
   "source": [
    "The variable `Kilometer` (mileage) is discrete. Cars are grouped by mileage. There are no outliers in the data - it looks quite realistic."
   ]
  },
  {
   "cell_type": "code",
   "execution_count": 18,
   "metadata": {},
   "outputs": [
    {
     "data": {
      "image/png": "[encoded data removed]",
      "text/plain": [
       "<Figure size 504x360 with 1 Axes>"
      ]
     },
     "metadata": {
      "needs_background": "light"
     },
     "output_type": "display_data"
    }
   ],
   "source": [
    "plt.figure(figsize=(7,5))\n",
    "sns.histplot(x=df['Kilometer'], color=color[1])\n",
    "plt.ylabel('Number of observations')\n",
    "plt.xlabel('Kilometer')\n",
    "plt.title('Distribution of the \"Mileage\" variable (km)\\n')\n",
    "plt.show()"
   ]
  },
  {
   "cell_type": "code",
   "execution_count": 19,
   "metadata": {},
   "outputs": [
    {
     "data": {
      "text/plain": [
       "150000    195465\n",
       "125000     31647\n",
       "100000     12751\n",
       "90000      10248\n",
       "80000       8981\n",
       "70000       7740\n",
       "60000       6763\n",
       "50000       5585\n",
       "40000       4438\n",
       "30000       3841\n",
       "20000       3193\n",
       "5000        2771\n",
       "10000        882\n",
       "Name: Kilometer, dtype: int64"
      ]
     },
     "metadata": {},
     "output_type": "display_data"
    }
   ],
   "source": [
    "display(df['Kilometer'].value_counts())"
   ]
  },
  {
   "cell_type": "markdown",
   "metadata": {},
   "source": [
    "### Assessing feature importance"
   ]
  },
  {
   "cell_type": "markdown",
   "metadata": {},
   "source": [
    "Now let's assess features importance and drop useless variables. For instance, the `NumberOfPictures` variable takes only one value for all observations - zero. Let's remove it from data frame."
   ]
  },
  {
   "cell_type": "code",
   "execution_count": 20,
   "metadata": {},
   "outputs": [
    {
     "name": "stdout",
     "output_type": "stream",
     "text": [
      "Unique values of \"NumberOfPictures\" variable: [0]\n"
     ]
    }
   ],
   "source": [
    "print('Unique values of \"NumberOfPictures\" variable:', df['NumberOfPictures'].unique())"
   ]
  },
  {
   "cell_type": "markdown",
   "metadata": {},
   "source": [
    "The `DateCrawled` variable shows us that all records were downloaded in March-April 2016. This variable is also useless and will not benefit the models. Let's delete it."
   ]
  },
  {
   "cell_type": "code",
   "execution_count": 21,
   "metadata": {},
   "outputs": [
    {
     "name": "stdout",
     "output_type": "stream",
     "text": [
      "Years: [2016]\n",
      "Months: [3 4]\n"
     ]
    }
   ],
   "source": [
    "print('Years:', df['DateCrawled'].dt.year.unique())\n",
    "print('Months:', df['DateCrawled'].dt.month.unique())"
   ]
  },
  {
   "cell_type": "markdown",
   "metadata": {},
   "source": [
    "Regarding `LastSeen` variable, it is also useless. The last time all users were active in March-April 2016. Let's remove this variable from data frame."
   ]
  },
  {
   "cell_type": "code",
   "execution_count": 22,
   "metadata": {},
   "outputs": [
    {
     "name": "stdout",
     "output_type": "stream",
     "text": [
      "Years: [2016]\n",
      "Months: [3 4]\n"
     ]
    }
   ],
   "source": [
    "df['LastSeen'] = pd.to_datetime(df['DateCrawled'], format='%Y-%m-%d %H:%M:%S')\n",
    "print('Years:', df['LastSeen'].dt.year.unique())\n",
    "print('Months:', df['LastSeen'].dt.month.unique())"
   ]
  },
  {
   "cell_type": "markdown",
   "metadata": {},
   "source": [
    "At first glance, the `DateCreated` variable is more usefull than the three features discussed earlier. All user profiles were created in 2016 or 2015 in different months. But most of the users posted information on cars in March-April: the variance in months is small. Therefore, let's remove this variable as well."
   ]
  },
  {
   "cell_type": "code",
   "execution_count": 23,
   "metadata": {},
   "outputs": [
    {
     "name": "stdout",
     "output_type": "stream",
     "text": [
      "Years: [2016 2015]\n",
      "Months: [ 3  4  2 11  1 12  9  8]\n"
     ]
    }
   ],
   "source": [
    "df['DateCreated'] = pd.to_datetime(df['DateCreated'], format='%Y-%m-%d %H:%M:%S')\n",
    "print('Years:', df['DateCreated'].dt.year.unique())\n",
    "print('Months:', df['DateCreated'].dt.month.unique())"
   ]
  },
  {
   "cell_type": "code",
   "execution_count": 24,
   "metadata": {},
   "outputs": [
    {
     "data": {
      "text/plain": [
       "3     246195\n",
       "4      47682\n",
       "2        347\n",
       "1         58\n",
       "11         9\n",
       "12         9\n",
       "9          3\n",
       "8          2\n",
       "Name: DateCreated, dtype: int64"
      ]
     },
     "metadata": {},
     "output_type": "display_data"
    }
   ],
   "source": [
    "display(df['DateCreated'].dt.month.value_counts())"
   ]
  },
  {
   "cell_type": "code",
   "execution_count": 25,
   "metadata": {},
   "outputs": [
    {
     "data": {
      "image/png": "[encoded data removed]",
      "text/plain": [
       "<Figure size 504x360 with 1 Axes>"
      ]
     },
     "metadata": {
      "needs_background": "light"
     },
     "output_type": "display_data"
    }
   ],
   "source": [
    "plt.figure(figsize=(7,5))\n",
    "sns.histplot(x=df['DateCreated'].dt.month, color=color[1])\n",
    "plt.ylabel('Number of observations')\n",
    "plt.xlabel('Months')\n",
    "plt.title('Distribution of months when profiles were created \\n')\n",
    "plt.show()"
   ]
  },
  {
   "cell_type": "markdown",
   "metadata": {},
   "source": [
    "Therefore, let's drop `NumberOfPictures`, `DateCrawled`, `DateCreated`, `PostalCode`, `LastSeen` variables."
   ]
  },
  {
   "cell_type": "code",
   "execution_count": 26,
   "metadata": {},
   "outputs": [],
   "source": [
    "df = df.drop(['NumberOfPictures', 'DateCrawled', 'LastSeen', 'DateCreated', 'PostalCode'], axis=1).copy()"
   ]
  },
  {
   "cell_type": "markdown",
   "metadata": {},
   "source": [
    "Let's study at the remained numerical variables."
   ]
  },
  {
   "cell_type": "code",
   "execution_count": 27,
   "metadata": {},
   "outputs": [
    {
     "data": {
      "text/html": [
       "<div>\n",
       "<style scoped>\n",
       "    .dataframe tbody tr th:only-of-type {\n",
       "        vertical-align: middle;\n",
       "    }\n",
       "\n",
       "    .dataframe tbody tr th {\n",
       "        vertical-align: top;\n",
       "    }\n",
       "\n",
       "    .dataframe thead th {\n",
       "        text-align: right;\n",
       "    }\n",
       "</style>\n",
       "<table border=\"1\" class=\"dataframe\">\n",
       "  <thead>\n",
       "    <tr style=\"text-align: right;\">\n",
       "      <th></th>\n",
       "      <th>Price</th>\n",
       "      <th>RegistrationYear</th>\n",
       "      <th>Power</th>\n",
       "      <th>Kilometer</th>\n",
       "      <th>RegistrationMonth</th>\n",
       "    </tr>\n",
       "  </thead>\n",
       "  <tbody>\n",
       "    <tr>\n",
       "      <th>count</th>\n",
       "      <td>294305.00000</td>\n",
       "      <td>294305.000000</td>\n",
       "      <td>294305.000000</td>\n",
       "      <td>294305.000000</td>\n",
       "      <td>294305.000000</td>\n",
       "    </tr>\n",
       "    <tr>\n",
       "      <th>mean</th>\n",
       "      <td>4820.69502</td>\n",
       "      <td>2002.860947</td>\n",
       "      <td>119.638759</td>\n",
       "      <td>128430.165984</td>\n",
       "      <td>5.994869</td>\n",
       "    </tr>\n",
       "    <tr>\n",
       "      <th>std</th>\n",
       "      <td>4581.91345</td>\n",
       "      <td>6.438493</td>\n",
       "      <td>50.584339</td>\n",
       "      <td>36603.560360</td>\n",
       "      <td>3.583128</td>\n",
       "    </tr>\n",
       "    <tr>\n",
       "      <th>min</th>\n",
       "      <td>1.00000</td>\n",
       "      <td>1910.000000</td>\n",
       "      <td>31.000000</td>\n",
       "      <td>5000.000000</td>\n",
       "      <td>0.000000</td>\n",
       "    </tr>\n",
       "    <tr>\n",
       "      <th>25%</th>\n",
       "      <td>1300.00000</td>\n",
       "      <td>1999.000000</td>\n",
       "      <td>75.000000</td>\n",
       "      <td>125000.000000</td>\n",
       "      <td>3.000000</td>\n",
       "    </tr>\n",
       "    <tr>\n",
       "      <th>50%</th>\n",
       "      <td>3150.00000</td>\n",
       "      <td>2003.000000</td>\n",
       "      <td>110.000000</td>\n",
       "      <td>150000.000000</td>\n",
       "      <td>6.000000</td>\n",
       "    </tr>\n",
       "    <tr>\n",
       "      <th>75%</th>\n",
       "      <td>6980.00000</td>\n",
       "      <td>2007.000000</td>\n",
       "      <td>150.000000</td>\n",
       "      <td>150000.000000</td>\n",
       "      <td>9.000000</td>\n",
       "    </tr>\n",
       "    <tr>\n",
       "      <th>max</th>\n",
       "      <td>20000.00000</td>\n",
       "      <td>2016.000000</td>\n",
       "      <td>333.000000</td>\n",
       "      <td>150000.000000</td>\n",
       "      <td>12.000000</td>\n",
       "    </tr>\n",
       "  </tbody>\n",
       "</table>\n",
       "</div>"
      ],
      "text/plain": [
       "              Price  RegistrationYear          Power      Kilometer  \\\n",
       "count  294305.00000     294305.000000  294305.000000  294305.000000   \n",
       "mean     4820.69502       2002.860947     119.638759  128430.165984   \n",
       "std      4581.91345          6.438493      50.584339   36603.560360   \n",
       "min         1.00000       1910.000000      31.000000    5000.000000   \n",
       "25%      1300.00000       1999.000000      75.000000  125000.000000   \n",
       "50%      3150.00000       2003.000000     110.000000  150000.000000   \n",
       "75%      6980.00000       2007.000000     150.000000  150000.000000   \n",
       "max     20000.00000       2016.000000     333.000000  150000.000000   \n",
       "\n",
       "       RegistrationMonth  \n",
       "count      294305.000000  \n",
       "mean            5.994869  \n",
       "std             3.583128  \n",
       "min             0.000000  \n",
       "25%             3.000000  \n",
       "50%             6.000000  \n",
       "75%             9.000000  \n",
       "max            12.000000  "
      ]
     },
     "metadata": {},
     "output_type": "display_data"
    }
   ],
   "source": [
    "display(df.describe())"
   ]
  },
  {
   "cell_type": "markdown",
   "metadata": {
    "tags": []
   },
   "source": [
    "### Duplicates"
   ]
  },
  {
   "cell_type": "markdown",
   "metadata": {},
   "source": [
    "Next, let's analyze duplicates and drop them if necessary."
   ]
  },
  {
   "cell_type": "code",
   "execution_count": 28,
   "metadata": {},
   "outputs": [
    {
     "name": "stdout",
     "output_type": "stream",
     "text": [
      "Number of duplicates: 23026\n"
     ]
    }
   ],
   "source": [
    "print('Number of duplicates:', df.duplicated().sum())"
   ]
  },
  {
   "cell_type": "code",
   "execution_count": 29,
   "metadata": {},
   "outputs": [],
   "source": [
    "df.drop_duplicates(inplace=True)"
   ]
  },
  {
   "cell_type": "markdown",
   "metadata": {},
   "source": [
    "Having studied the categorical variables, we made sure that there are no errors and repetitions in the values of these variables."
   ]
  },
  {
   "cell_type": "code",
   "execution_count": 30,
   "metadata": {},
   "outputs": [
    {
     "data": {
      "text/plain": [
       "sedan          75489\n",
       "small          64029\n",
       "wagon          53978\n",
       "bus            24371\n",
       "convertible    17255\n",
       "coupe          13464\n",
       "suv             9754\n",
       "other           2322\n",
       "Name: VehicleType, dtype: int64"
      ]
     },
     "metadata": {},
     "output_type": "display_data"
    }
   ],
   "source": [
    "display(df['VehicleType'].value_counts())"
   ]
  },
  {
   "cell_type": "code",
   "execution_count": 31,
   "metadata": {},
   "outputs": [
    {
     "data": {
      "text/plain": [
       "manual    213233\n",
       "auto       52928\n",
       "Name: Gearbox, dtype: int64"
      ]
     },
     "metadata": {},
     "output_type": "display_data"
    }
   ],
   "source": [
    "display(df['Gearbox'].value_counts())"
   ]
  },
  {
   "cell_type": "code",
   "execution_count": 32,
   "metadata": {},
   "outputs": [
    {
     "data": {
      "text/plain": [
       "array(['100', '145', '147', '156', '159', '1_reihe', '1er', '200',\n",
       "       '2_reihe', '300c', '3_reihe', '3er', '4_reihe', '500', '5_reihe',\n",
       "       '5er', '601', '6_reihe', '6er', '7er', '80', '850', '90', '900',\n",
       "       '9000', '911', 'a1', 'a2', 'a3', 'a4', 'a5', 'a6', 'a8',\n",
       "       'a_klasse', 'accord', 'agila', 'alhambra', 'almera', 'altea',\n",
       "       'amarok', 'antara', 'arosa', 'astra', 'auris', 'avensis', 'aveo',\n",
       "       'aygo', 'b_klasse', 'b_max', 'beetle', 'berlingo', 'bora',\n",
       "       'boxster', 'bravo', 'c1', 'c2', 'c3', 'c4', 'c5', 'c_klasse',\n",
       "       'c_max', 'c_reihe', 'caddy', 'calibra', 'captiva', 'carisma',\n",
       "       'carnival', 'cayenne', 'cc', 'ceed', 'charade', 'cherokee',\n",
       "       'citigo', 'civic', 'cl', 'clio', 'clk', 'clubman', 'colt', 'combo',\n",
       "       'cooper', 'cordoba', 'corolla', 'corsa', 'cr_reihe', 'croma',\n",
       "       'crossfire', 'cuore', 'cx_reihe', 'defender', 'delta', 'discovery',\n",
       "       'doblo', 'ducato', 'duster', 'e_klasse', 'elefantino', 'eos',\n",
       "       'escort', 'espace', 'exeo', 'fabia', 'fiesta', 'focus', 'forester',\n",
       "       'forfour', 'fortwo', 'fox', 'freelander', 'fusion', 'g_klasse',\n",
       "       'galant', 'galaxy', 'getz', 'gl', 'glk', 'golf', 'grand', 'i3',\n",
       "       'i_reihe', 'ibiza', 'impreza', 'insignia', 'jazz', 'jetta',\n",
       "       'jimny', 'juke', 'justy', 'ka', 'kadett', 'kaefer', 'kalina',\n",
       "       'kalos', 'kangoo', 'kappa', 'kuga', 'laguna', 'lancer', 'lanos',\n",
       "       'legacy', 'leon', 'lodgy', 'logan', 'lupo', 'lybra', 'm_klasse',\n",
       "       'm_reihe', 'materia', 'matiz', 'megane', 'meriva', 'micra', 'mii',\n",
       "       'modus', 'mondeo', 'move', 'musa', 'mustang', 'mx_reihe', 'navara',\n",
       "       'niva', 'note', 'nubira', 'octavia', 'omega', 'one', 'other',\n",
       "       'outlander', 'pajero', 'panda', 'passat', 'phaeton', 'picanto',\n",
       "       'polo', 'primera', 'ptcruiser', 'punto', 'q3', 'q5', 'q7',\n",
       "       'qashqai', 'r19', 'range_rover', 'range_rover_evoque',\n",
       "       'range_rover_sport', 'rangerover', 'rav', 'rio', 'roadster',\n",
       "       'roomster', 'rx_reihe', 's60', 's_klasse', 's_max', 's_type',\n",
       "       'samara', 'sandero', 'santa', 'scenic', 'scirocco', 'seicento',\n",
       "       'serie_2', 'serie_3', 'sharan', 'signum', 'sirion', 'sl', 'slk',\n",
       "       'sorento', 'spark', 'spider', 'sportage', 'sprinter', 'stilo',\n",
       "       'superb', 'swift', 'terios', 'tigra', 'tiguan', 'toledo',\n",
       "       'touareg', 'touran', 'transit', 'transporter', 'tt', 'tucson',\n",
       "       'twingo', 'up', 'v40', 'v50', 'v60', 'v70', 'v_klasse', 'vectra',\n",
       "       'verso', 'viano', 'vito', 'vivaro', 'voyager', 'wrangler',\n",
       "       'x_reihe', 'x_trail', 'x_type', 'xc_reihe', 'yaris', 'yeti',\n",
       "       'ypsilon', 'z_reihe', 'zafira', nan], dtype=object)"
      ]
     },
     "metadata": {},
     "output_type": "display_data"
    }
   ],
   "source": [
    "display(pd.unique(df['Model'].sort_values()))"
   ]
  },
  {
   "cell_type": "code",
   "execution_count": 33,
   "metadata": {},
   "outputs": [
    {
     "data": {
      "text/plain": [
       "petrol      171366\n",
       "gasoline     79947\n",
       "lpg           4213\n",
       "cng            448\n",
       "hybrid         196\n",
       "other           53\n",
       "electric        37\n",
       "Name: FuelType, dtype: int64"
      ]
     },
     "metadata": {},
     "output_type": "display_data"
    }
   ],
   "source": [
    "display(df['FuelType'].value_counts())"
   ]
  },
  {
   "cell_type": "code",
   "execution_count": 34,
   "metadata": {},
   "outputs": [
    {
     "data": {
      "text/plain": [
       "no     203537\n",
       "yes     27361\n",
       "Name: Repaired, dtype: int64"
      ]
     },
     "metadata": {},
     "output_type": "display_data"
    }
   ],
   "source": [
    "display(df['Repaired'].value_counts())"
   ]
  },
  {
   "cell_type": "code",
   "execution_count": 35,
   "metadata": {},
   "outputs": [
    {
     "data": {
      "text/plain": [
       "volkswagen        58352\n",
       "opel              29791\n",
       "bmw               29300\n",
       "mercedes_benz     25089\n",
       "audi              23096\n",
       "ford              19160\n",
       "renault           12870\n",
       "peugeot            8683\n",
       "fiat               7017\n",
       "seat               5413\n",
       "skoda              4577\n",
       "mazda              4412\n",
       "smart              4195\n",
       "citroen            3950\n",
       "toyota             3786\n",
       "nissan             3765\n",
       "hyundai            2894\n",
       "mini               2724\n",
       "volvo              2593\n",
       "mitsubishi         2369\n",
       "honda              2249\n",
       "kia                1937\n",
       "alfa_romeo         1864\n",
       "suzuki             1841\n",
       "sonstige_autos     1473\n",
       "chevrolet          1355\n",
       "chrysler           1083\n",
       "dacia               743\n",
       "subaru              615\n",
       "daihatsu            576\n",
       "jeep                551\n",
       "saab                439\n",
       "porsche             436\n",
       "land_rover          432\n",
       "jaguar              392\n",
       "daewoo              385\n",
       "lancia              358\n",
       "rover               343\n",
       "lada                148\n",
       "trabant              23\n",
       "Name: Brand, dtype: int64"
      ]
     },
     "metadata": {},
     "output_type": "display_data"
    }
   ],
   "source": [
    "display(df['Brand'].value_counts())"
   ]
  },
  {
   "cell_type": "markdown",
   "metadata": {},
   "source": [
    "**Вывод:** Мы проанализировали выбросы в данных и избавились от них. Также мы выявили бессодержательные переменные и удалили их. Наконец, мы обработали дубликаты. После первичного этапа пребодработки данных в массиве осталось белее 280 тыс. наблюдений.\n",
    "\n",
    "**Summary:** We analyzed data and revealed outliers. We also identified missing values and removed them. Finally, we have processed the duplicates. As the result, more than 270 thousand observations remained in the array."
   ]
  },
  {
   "cell_type": "code",
   "execution_count": 36,
   "metadata": {},
   "outputs": [
    {
     "name": "stdout",
     "output_type": "stream",
     "text": [
      "Number of observation in data frame: (271279, 11)\n"
     ]
    }
   ],
   "source": [
    "print('Number of observation in data frame:', df.shape)"
   ]
  },
  {
   "cell_type": "markdown",
   "metadata": {},
   "source": [
    "Let's visualize distributions of the variables."
   ]
  },
  {
   "cell_type": "code",
   "execution_count": 37,
   "metadata": {},
   "outputs": [
    {
     "data": {
      "image/png": "[encoded data removed]",
      "text/plain": [
       "<Figure size 720x2016 with 5 Axes>"
      ]
     },
     "metadata": {
      "needs_background": "light"
     },
     "output_type": "display_data"
    }
   ],
   "source": [
    "_, axs = plt.subplots(5, 1, figsize=(10,28))\n",
    "axs = axs.ravel()\n",
    "col_names = ['Price', 'RegistrationYear', 'Power', 'Kilometer', 'RegistrationMonth']\n",
    "\n",
    "for i in range(len(col_names)):\n",
    "    ax = axs[i]\n",
    "    sns.histplot(ax=ax, x=df[col_names[i]], data=df, color=color[1])\n",
    "    ax.tick_params(axis='x')\n",
    "    ax.set_title(col_names[i])"
   ]
  },
  {
   "cell_type": "markdown",
   "metadata": {},
   "source": [
    "Now let's observe distribution of target variable in groups of categorical variables."
   ]
  },
  {
   "cell_type": "code",
   "execution_count": 39,
   "metadata": {},
   "outputs": [
    {
     "data": {
      "image/png": "[encoded data removed]",
      "text/plain": [
       "<Figure size 720x504 with 2 Axes>"
      ]
     },
     "metadata": {
      "needs_background": "light"
     },
     "output_type": "display_data"
    }
   ],
   "source": [
    "plt.figure(figsize=(10,7))\n",
    "df_heatmap_gearbox = df.pivot_table(values='Price', index='VehicleType',columns='Gearbox', aggfunc={'median'})\n",
    "\n",
    "sns.heatmap(df_heatmap_gearbox, annot=True, vmin=0, fmt='.2f', cmap = color, linewidths=0.01)\n",
    "plt.title('Median price depending on vehicle type and gearbox\\n')\n",
    "plt.show()"
   ]
  },
  {
   "cell_type": "code",
   "execution_count": 42,
   "metadata": {},
   "outputs": [
    {
     "data": {
      "image/png": "[encoded data removed]",
      "text/plain": [
       "<Figure size 720x504 with 2 Axes>"
      ]
     },
     "metadata": {
      "needs_background": "light"
     },
     "output_type": "display_data"
    }
   ],
   "source": [
    "plt.figure(figsize=(10,7))\n",
    "df_heatmap_repaired = df.pivot_table(values='Price', index='VehicleType',columns='Repaired', aggfunc={'median'})\n",
    "\n",
    "sns.heatmap(df_heatmap_repaired, annot=True, vmin=0, fmt='.2f', cmap = color, linewidths=0.01)\n",
    "plt.title('Median price depending on vehicle type and repaired indicator\\n')\n",
    "plt.show()"
   ]
  },
  {
   "cell_type": "code",
   "execution_count": 43,
   "metadata": {
    "tags": []
   },
   "outputs": [
    {
     "data": {
      "image/png": "[encoded data removed]",
      "text/plain": [
       "<Figure size 864x504 with 2 Axes>"
      ]
     },
     "metadata": {
      "needs_background": "light"
     },
     "output_type": "display_data"
    }
   ],
   "source": [
    "plt.figure(figsize=(12,7))\n",
    "df_heatmap_fuel = df.pivot_table(values='Price', index='VehicleType',columns='FuelType', aggfunc={'median'})\n",
    "\n",
    "sns.heatmap(df_heatmap_fuel, annot=True, vmin=0, fmt='.2f', cmap = color, linewidths=0.01)\n",
    "plt.title('Median price depending on vehicle type and fuel type\\n')\n",
    "plt.show()"
   ]
  },
  {
   "cell_type": "markdown",
   "metadata": {},
   "source": [
    "### Missing values preprocessing"
   ]
  },
  {
   "cell_type": "markdown",
   "metadata": {},
   "source": [
    "There are a lot of missing values in the data frame. Before fitting models, we should preprocess it."
   ]
  },
  {
   "cell_type": "code",
   "execution_count": 44,
   "metadata": {},
   "outputs": [
    {
     "data": {
      "text/html": [
       "<style type=\"text/css\">\n",
       "#T_a0c47_row0_col0, #T_a0c47_row2_col0, #T_a0c47_row4_col0, #T_a0c47_row6_col0, #T_a0c47_row7_col0, #T_a0c47_row9_col0 {\n",
       "  background-color: #edb081;\n",
       "  color: #000000;\n",
       "}\n",
       "#T_a0c47_row1_col0 {\n",
       "  background-color: #e46e5e;\n",
       "  color: #f1f1f1;\n",
       "}\n",
       "#T_a0c47_row3_col0 {\n",
       "  background-color: #ea916e;\n",
       "  color: #f1f1f1;\n",
       "}\n",
       "#T_a0c47_row5_col0 {\n",
       "  background-color: #e5705e;\n",
       "  color: #f1f1f1;\n",
       "}\n",
       "#T_a0c47_row8_col0 {\n",
       "  background-color: #da545d;\n",
       "  color: #f1f1f1;\n",
       "}\n",
       "#T_a0c47_row10_col0 {\n",
       "  background-color: #4b2362;\n",
       "  color: #f1f1f1;\n",
       "}\n",
       "</style>\n",
       "<table id=\"T_a0c47\">\n",
       "  <thead>\n",
       "    <tr>\n",
       "      <th class=\"blank level0\" >&nbsp;</th>\n",
       "      <th id=\"T_a0c47_level0_col0\" class=\"col_heading level0 col0\" >missing_val</th>\n",
       "    </tr>\n",
       "  </thead>\n",
       "  <tbody>\n",
       "    <tr>\n",
       "      <th id=\"T_a0c47_level0_row0\" class=\"row_heading level0 row0\" >Price</th>\n",
       "      <td id=\"T_a0c47_row0_col0\" class=\"data row0 col0\" >0</td>\n",
       "    </tr>\n",
       "    <tr>\n",
       "      <th id=\"T_a0c47_level0_row1\" class=\"row_heading level0 row1\" >VehicleType</th>\n",
       "      <td id=\"T_a0c47_row1_col0\" class=\"data row1 col0\" >10617</td>\n",
       "    </tr>\n",
       "    <tr>\n",
       "      <th id=\"T_a0c47_level0_row2\" class=\"row_heading level0 row2\" >RegistrationYear</th>\n",
       "      <td id=\"T_a0c47_row2_col0\" class=\"data row2 col0\" >0</td>\n",
       "    </tr>\n",
       "    <tr>\n",
       "      <th id=\"T_a0c47_level0_row3\" class=\"row_heading level0 row3\" >Gearbox</th>\n",
       "      <td id=\"T_a0c47_row3_col0\" class=\"data row3 col0\" >5118</td>\n",
       "    </tr>\n",
       "    <tr>\n",
       "      <th id=\"T_a0c47_level0_row4\" class=\"row_heading level0 row4\" >Power</th>\n",
       "      <td id=\"T_a0c47_row4_col0\" class=\"data row4 col0\" >0</td>\n",
       "    </tr>\n",
       "    <tr>\n",
       "      <th id=\"T_a0c47_level0_row5\" class=\"row_heading level0 row5\" >Model</th>\n",
       "      <td id=\"T_a0c47_row5_col0\" class=\"data row5 col0\" >10393</td>\n",
       "    </tr>\n",
       "    <tr>\n",
       "      <th id=\"T_a0c47_level0_row6\" class=\"row_heading level0 row6\" >Kilometer</th>\n",
       "      <td id=\"T_a0c47_row6_col0\" class=\"data row6 col0\" >0</td>\n",
       "    </tr>\n",
       "    <tr>\n",
       "      <th id=\"T_a0c47_level0_row7\" class=\"row_heading level0 row7\" >RegistrationMonth</th>\n",
       "      <td id=\"T_a0c47_row7_col0\" class=\"data row7 col0\" >0</td>\n",
       "    </tr>\n",
       "    <tr>\n",
       "      <th id=\"T_a0c47_level0_row8\" class=\"row_heading level0 row8\" >FuelType</th>\n",
       "      <td id=\"T_a0c47_row8_col0\" class=\"data row8 col0\" >15019</td>\n",
       "    </tr>\n",
       "    <tr>\n",
       "      <th id=\"T_a0c47_level0_row9\" class=\"row_heading level0 row9\" >Brand</th>\n",
       "      <td id=\"T_a0c47_row9_col0\" class=\"data row9 col0\" >0</td>\n",
       "    </tr>\n",
       "    <tr>\n",
       "      <th id=\"T_a0c47_level0_row10\" class=\"row_heading level0 row10\" >Repaired</th>\n",
       "      <td id=\"T_a0c47_row10_col0\" class=\"data row10 col0\" >40381</td>\n",
       "    </tr>\n",
       "  </tbody>\n",
       "</table>\n"
      ],
      "text/plain": [
       "<pandas.io.formats.style.Styler at 0x7fa7713a0af0>"
      ]
     },
     "metadata": {},
     "output_type": "display_data"
    }
   ],
   "source": [
    "display(pd.DataFrame(round(df.isna().sum()), columns=['missing_val']).style.background_gradient(cmap='flare'))"
   ]
  },
  {
   "cell_type": "markdown",
   "metadata": {},
   "source": [
    "#### Model"
   ]
  },
  {
   "cell_type": "markdown",
   "metadata": {},
   "source": [
    "Depending on the car model, we can fill the missing values in the `VehicleType`, `Gearbox`, `FuelType` and `Repaired` variables. Therefore, at first stage we need to preprocess missing values in `Model` variable. They account for 4.2% of all observations. Let's just drop them from data."
   ]
  },
  {
   "cell_type": "code",
   "execution_count": 47,
   "metadata": {},
   "outputs": [
    {
     "name": "stdout",
     "output_type": "stream",
     "text": [
      "Proportion of \"Model\" missing values from all observations: 0.03831111143877705\n"
     ]
    }
   ],
   "source": [
    "print('Proportion of \"Model\" missing values from all observations:', df.loc[df['Model'].isna()].shape[0]/df.shape[0])"
   ]
  },
  {
   "cell_type": "code",
   "execution_count": 48,
   "metadata": {},
   "outputs": [
    {
     "data": {
      "text/plain": [
       "(260886, 11)"
      ]
     },
     "metadata": {},
     "output_type": "display_data"
    }
   ],
   "source": [
    "df = df.loc[~df['Model'].isna()].copy()\n",
    "display(df.shape)"
   ]
  },
  {
   "cell_type": "code",
   "execution_count": 49,
   "metadata": {},
   "outputs": [
    {
     "data": {
      "text/html": [
       "<style type=\"text/css\">\n",
       "#T_0ebd8_row0_col0, #T_0ebd8_row2_col0, #T_0ebd8_row4_col0, #T_0ebd8_row5_col0, #T_0ebd8_row6_col0, #T_0ebd8_row7_col0, #T_0ebd8_row9_col0 {\n",
       "  background-color: #edb081;\n",
       "  color: #000000;\n",
       "}\n",
       "#T_0ebd8_row1_col0 {\n",
       "  background-color: #e5725f;\n",
       "  color: #f1f1f1;\n",
       "}\n",
       "#T_0ebd8_row3_col0 {\n",
       "  background-color: #ea926e;\n",
       "  color: #f1f1f1;\n",
       "}\n",
       "#T_0ebd8_row8_col0 {\n",
       "  background-color: #de5c5c;\n",
       "  color: #f1f1f1;\n",
       "}\n",
       "#T_0ebd8_row10_col0 {\n",
       "  background-color: #4b2362;\n",
       "  color: #f1f1f1;\n",
       "}\n",
       "</style>\n",
       "<table id=\"T_0ebd8\">\n",
       "  <thead>\n",
       "    <tr>\n",
       "      <th class=\"blank level0\" >&nbsp;</th>\n",
       "      <th id=\"T_0ebd8_level0_col0\" class=\"col_heading level0 col0\" >missing_val</th>\n",
       "    </tr>\n",
       "  </thead>\n",
       "  <tbody>\n",
       "    <tr>\n",
       "      <th id=\"T_0ebd8_level0_row0\" class=\"row_heading level0 row0\" >Price</th>\n",
       "      <td id=\"T_0ebd8_row0_col0\" class=\"data row0 col0\" >0</td>\n",
       "    </tr>\n",
       "    <tr>\n",
       "      <th id=\"T_0ebd8_level0_row1\" class=\"row_heading level0 row1\" >VehicleType</th>\n",
       "      <td id=\"T_0ebd8_row1_col0\" class=\"data row1 col0\" >9095</td>\n",
       "    </tr>\n",
       "    <tr>\n",
       "      <th id=\"T_0ebd8_level0_row2\" class=\"row_heading level0 row2\" >RegistrationYear</th>\n",
       "      <td id=\"T_0ebd8_row2_col0\" class=\"data row2 col0\" >0</td>\n",
       "    </tr>\n",
       "    <tr>\n",
       "      <th id=\"T_0ebd8_level0_row3\" class=\"row_heading level0 row3\" >Gearbox</th>\n",
       "      <td id=\"T_0ebd8_row3_col0\" class=\"data row3 col0\" >4469</td>\n",
       "    </tr>\n",
       "    <tr>\n",
       "      <th id=\"T_0ebd8_level0_row4\" class=\"row_heading level0 row4\" >Power</th>\n",
       "      <td id=\"T_0ebd8_row4_col0\" class=\"data row4 col0\" >0</td>\n",
       "    </tr>\n",
       "    <tr>\n",
       "      <th id=\"T_0ebd8_level0_row5\" class=\"row_heading level0 row5\" >Model</th>\n",
       "      <td id=\"T_0ebd8_row5_col0\" class=\"data row5 col0\" >0</td>\n",
       "    </tr>\n",
       "    <tr>\n",
       "      <th id=\"T_0ebd8_level0_row6\" class=\"row_heading level0 row6\" >Kilometer</th>\n",
       "      <td id=\"T_0ebd8_row6_col0\" class=\"data row6 col0\" >0</td>\n",
       "    </tr>\n",
       "    <tr>\n",
       "      <th id=\"T_0ebd8_level0_row7\" class=\"row_heading level0 row7\" >RegistrationMonth</th>\n",
       "      <td id=\"T_0ebd8_row7_col0\" class=\"data row7 col0\" >0</td>\n",
       "    </tr>\n",
       "    <tr>\n",
       "      <th id=\"T_0ebd8_level0_row8\" class=\"row_heading level0 row8\" >FuelType</th>\n",
       "      <td id=\"T_0ebd8_row8_col0\" class=\"data row8 col0\" >12458</td>\n",
       "    </tr>\n",
       "    <tr>\n",
       "      <th id=\"T_0ebd8_level0_row9\" class=\"row_heading level0 row9\" >Brand</th>\n",
       "      <td id=\"T_0ebd8_row9_col0\" class=\"data row9 col0\" >0</td>\n",
       "    </tr>\n",
       "    <tr>\n",
       "      <th id=\"T_0ebd8_level0_row10\" class=\"row_heading level0 row10\" >Repaired</th>\n",
       "      <td id=\"T_0ebd8_row10_col0\" class=\"data row10 col0\" >36820</td>\n",
       "    </tr>\n",
       "  </tbody>\n",
       "</table>\n"
      ],
      "text/plain": [
       "<pandas.io.formats.style.Styler at 0x7fa760a6c5b0>"
      ]
     },
     "metadata": {},
     "output_type": "display_data"
    }
   ],
   "source": [
    "display(pd.DataFrame(round(df.isna().sum()), columns=['missing_val']).style.background_gradient(cmap='flare'))"
   ]
  },
  {
   "cell_type": "markdown",
   "metadata": {},
   "source": [
    "#### Repaired"
   ]
  },
  {
   "cell_type": "markdown",
   "metadata": {},
   "source": [
    "Regarding `Repaired` variable, let's replace missing values with the `unknown` value."
   ]
  },
  {
   "cell_type": "code",
   "execution_count": 50,
   "metadata": {},
   "outputs": [
    {
     "data": {
      "text/plain": [
       "no     198124\n",
       "yes     25942\n",
       "Name: Repaired, dtype: int64"
      ]
     },
     "metadata": {},
     "output_type": "display_data"
    }
   ],
   "source": [
    "display(df['Repaired'].value_counts())"
   ]
  },
  {
   "cell_type": "code",
   "execution_count": 51,
   "metadata": {},
   "outputs": [
    {
     "data": {
      "text/plain": [
       "array(['unknown', 'no', 'yes'], dtype=object)"
      ]
     },
     "metadata": {},
     "output_type": "display_data"
    }
   ],
   "source": [
    "df['Repaired'] = df['Repaired'].fillna('unknown')\n",
    "display(df['Repaired'].unique())"
   ]
  },
  {
   "cell_type": "code",
   "execution_count": 52,
   "metadata": {},
   "outputs": [
    {
     "data": {
      "text/html": [
       "<style type=\"text/css\">\n",
       "#T_0a506_row0_col0, #T_0a506_row2_col0, #T_0a506_row4_col0, #T_0a506_row5_col0, #T_0a506_row6_col0, #T_0a506_row7_col0, #T_0a506_row9_col0, #T_0a506_row10_col0 {\n",
       "  background-color: #edb081;\n",
       "  color: #000000;\n",
       "}\n",
       "#T_0a506_row1_col0 {\n",
       "  background-color: #8b3271;\n",
       "  color: #f1f1f1;\n",
       "}\n",
       "#T_0a506_row3_col0 {\n",
       "  background-color: #dc575c;\n",
       "  color: #f1f1f1;\n",
       "}\n",
       "#T_0a506_row8_col0 {\n",
       "  background-color: #4b2362;\n",
       "  color: #f1f1f1;\n",
       "}\n",
       "</style>\n",
       "<table id=\"T_0a506\">\n",
       "  <thead>\n",
       "    <tr>\n",
       "      <th class=\"blank level0\" >&nbsp;</th>\n",
       "      <th id=\"T_0a506_level0_col0\" class=\"col_heading level0 col0\" >missing_val</th>\n",
       "    </tr>\n",
       "  </thead>\n",
       "  <tbody>\n",
       "    <tr>\n",
       "      <th id=\"T_0a506_level0_row0\" class=\"row_heading level0 row0\" >Price</th>\n",
       "      <td id=\"T_0a506_row0_col0\" class=\"data row0 col0\" >0</td>\n",
       "    </tr>\n",
       "    <tr>\n",
       "      <th id=\"T_0a506_level0_row1\" class=\"row_heading level0 row1\" >VehicleType</th>\n",
       "      <td id=\"T_0a506_row1_col0\" class=\"data row1 col0\" >9095</td>\n",
       "    </tr>\n",
       "    <tr>\n",
       "      <th id=\"T_0a506_level0_row2\" class=\"row_heading level0 row2\" >RegistrationYear</th>\n",
       "      <td id=\"T_0a506_row2_col0\" class=\"data row2 col0\" >0</td>\n",
       "    </tr>\n",
       "    <tr>\n",
       "      <th id=\"T_0a506_level0_row3\" class=\"row_heading level0 row3\" >Gearbox</th>\n",
       "      <td id=\"T_0a506_row3_col0\" class=\"data row3 col0\" >4469</td>\n",
       "    </tr>\n",
       "    <tr>\n",
       "      <th id=\"T_0a506_level0_row4\" class=\"row_heading level0 row4\" >Power</th>\n",
       "      <td id=\"T_0a506_row4_col0\" class=\"data row4 col0\" >0</td>\n",
       "    </tr>\n",
       "    <tr>\n",
       "      <th id=\"T_0a506_level0_row5\" class=\"row_heading level0 row5\" >Model</th>\n",
       "      <td id=\"T_0a506_row5_col0\" class=\"data row5 col0\" >0</td>\n",
       "    </tr>\n",
       "    <tr>\n",
       "      <th id=\"T_0a506_level0_row6\" class=\"row_heading level0 row6\" >Kilometer</th>\n",
       "      <td id=\"T_0a506_row6_col0\" class=\"data row6 col0\" >0</td>\n",
       "    </tr>\n",
       "    <tr>\n",
       "      <th id=\"T_0a506_level0_row7\" class=\"row_heading level0 row7\" >RegistrationMonth</th>\n",
       "      <td id=\"T_0a506_row7_col0\" class=\"data row7 col0\" >0</td>\n",
       "    </tr>\n",
       "    <tr>\n",
       "      <th id=\"T_0a506_level0_row8\" class=\"row_heading level0 row8\" >FuelType</th>\n",
       "      <td id=\"T_0a506_row8_col0\" class=\"data row8 col0\" >12458</td>\n",
       "    </tr>\n",
       "    <tr>\n",
       "      <th id=\"T_0a506_level0_row9\" class=\"row_heading level0 row9\" >Brand</th>\n",
       "      <td id=\"T_0a506_row9_col0\" class=\"data row9 col0\" >0</td>\n",
       "    </tr>\n",
       "    <tr>\n",
       "      <th id=\"T_0a506_level0_row10\" class=\"row_heading level0 row10\" >Repaired</th>\n",
       "      <td id=\"T_0a506_row10_col0\" class=\"data row10 col0\" >0</td>\n",
       "    </tr>\n",
       "  </tbody>\n",
       "</table>\n"
      ],
      "text/plain": [
       "<pandas.io.formats.style.Styler at 0x7fa7507b5730>"
      ]
     },
     "metadata": {},
     "output_type": "display_data"
    }
   ],
   "source": [
    "display(pd.DataFrame(round(df.isna().sum()), columns=['missing_val']).style.background_gradient(cmap='flare'))"
   ]
  },
  {
   "cell_type": "markdown",
   "metadata": {},
   "source": [
    "#### FuelType"
   ]
  },
  {
   "cell_type": "markdown",
   "metadata": {},
   "source": [
    "Missing values in the `FuelType` variable will be filled in depending on what values the car model takes. To begin with, we will group data by `Model` and `FuelType` variables in a pivot table."
   ]
  },
  {
   "cell_type": "code",
   "execution_count": 53,
   "metadata": {},
   "outputs": [
    {
     "data": {
      "text/plain": [
       "petrol      165569\n",
       "gasoline     78185\n",
       "lpg           3985\n",
       "cng            436\n",
       "hybrid         175\n",
       "other           43\n",
       "electric        35\n",
       "Name: FuelType, dtype: int64"
      ]
     },
     "metadata": {},
     "output_type": "display_data"
    }
   ],
   "source": [
    "display(df['FuelType'].value_counts())"
   ]
  },
  {
   "cell_type": "code",
   "execution_count": 54,
   "metadata": {},
   "outputs": [
    {
     "data": {
      "text/html": [
       "<div>\n",
       "<style scoped>\n",
       "    .dataframe tbody tr th:only-of-type {\n",
       "        vertical-align: middle;\n",
       "    }\n",
       "\n",
       "    .dataframe tbody tr th {\n",
       "        vertical-align: top;\n",
       "    }\n",
       "\n",
       "    .dataframe thead th {\n",
       "        text-align: right;\n",
       "    }\n",
       "</style>\n",
       "<table border=\"1\" class=\"dataframe\">\n",
       "  <thead>\n",
       "    <tr style=\"text-align: right;\">\n",
       "      <th></th>\n",
       "      <th>cng</th>\n",
       "      <th>electric</th>\n",
       "      <th>gasoline</th>\n",
       "      <th>hybrid</th>\n",
       "      <th>lpg</th>\n",
       "      <th>other</th>\n",
       "      <th>petrol</th>\n",
       "    </tr>\n",
       "    <tr>\n",
       "      <th>Model</th>\n",
       "      <th></th>\n",
       "      <th></th>\n",
       "      <th></th>\n",
       "      <th></th>\n",
       "      <th></th>\n",
       "      <th></th>\n",
       "      <th></th>\n",
       "    </tr>\n",
       "  </thead>\n",
       "  <tbody>\n",
       "    <tr>\n",
       "      <th>100</th>\n",
       "      <td>NaN</td>\n",
       "      <td>NaN</td>\n",
       "      <td>13.0</td>\n",
       "      <td>NaN</td>\n",
       "      <td>6.0</td>\n",
       "      <td>NaN</td>\n",
       "      <td>291.0</td>\n",
       "    </tr>\n",
       "    <tr>\n",
       "      <th>145</th>\n",
       "      <td>NaN</td>\n",
       "      <td>NaN</td>\n",
       "      <td>NaN</td>\n",
       "      <td>NaN</td>\n",
       "      <td>NaN</td>\n",
       "      <td>NaN</td>\n",
       "      <td>33.0</td>\n",
       "    </tr>\n",
       "    <tr>\n",
       "      <th>147</th>\n",
       "      <td>NaN</td>\n",
       "      <td>NaN</td>\n",
       "      <td>107.0</td>\n",
       "      <td>NaN</td>\n",
       "      <td>13.0</td>\n",
       "      <td>NaN</td>\n",
       "      <td>335.0</td>\n",
       "    </tr>\n",
       "    <tr>\n",
       "      <th>156</th>\n",
       "      <td>NaN</td>\n",
       "      <td>NaN</td>\n",
       "      <td>155.0</td>\n",
       "      <td>NaN</td>\n",
       "      <td>14.0</td>\n",
       "      <td>NaN</td>\n",
       "      <td>301.0</td>\n",
       "    </tr>\n",
       "    <tr>\n",
       "      <th>159</th>\n",
       "      <td>NaN</td>\n",
       "      <td>NaN</td>\n",
       "      <td>127.0</td>\n",
       "      <td>NaN</td>\n",
       "      <td>NaN</td>\n",
       "      <td>NaN</td>\n",
       "      <td>52.0</td>\n",
       "    </tr>\n",
       "  </tbody>\n",
       "</table>\n",
       "</div>"
      ],
      "text/plain": [
       "       cng  electric  gasoline  hybrid   lpg  other  petrol\n",
       "Model                                                      \n",
       "100    NaN       NaN      13.0     NaN   6.0    NaN   291.0\n",
       "145    NaN       NaN       NaN     NaN   NaN    NaN    33.0\n",
       "147    NaN       NaN     107.0     NaN  13.0    NaN   335.0\n",
       "156    NaN       NaN     155.0     NaN  14.0    NaN   301.0\n",
       "159    NaN       NaN     127.0     NaN   NaN    NaN    52.0"
      ]
     },
     "metadata": {},
     "output_type": "display_data"
    }
   ],
   "source": [
    "fuel_type = (\n",
    "    df.loc[~df['FuelType'].isna(), ['Model', 'FuelType', 'Price']]\n",
    "    .pivot_table(index=['Model'], columns='FuelType', values='Price', aggfunc={'count'})\n",
    ")\n",
    "\n",
    "fuel_type.columns = ['cng', 'electric', 'gasoline', 'hybrid', 'lpg', 'other', 'petrol']\n",
    "display(fuel_type.head())"
   ]
  },
  {
   "cell_type": "markdown",
   "metadata": {},
   "source": [
    "Next, we will calculate the probability of each fuel type occurrence depending on the car model. To calculate probabilities, we will use the `prob_calc` function, which was initialized at the beginning."
   ]
  },
  {
   "cell_type": "code",
   "execution_count": 55,
   "metadata": {},
   "outputs": [],
   "source": [
    "probabilities = prob_calc(fuel_type)"
   ]
  },
  {
   "cell_type": "code",
   "execution_count": 56,
   "metadata": {},
   "outputs": [
    {
     "data": {
      "text/html": [
       "<div>\n",
       "<style scoped>\n",
       "    .dataframe tbody tr th:only-of-type {\n",
       "        vertical-align: middle;\n",
       "    }\n",
       "\n",
       "    .dataframe tbody tr th {\n",
       "        vertical-align: top;\n",
       "    }\n",
       "\n",
       "    .dataframe thead th {\n",
       "        text-align: right;\n",
       "    }\n",
       "</style>\n",
       "<table border=\"1\" class=\"dataframe\">\n",
       "  <thead>\n",
       "    <tr style=\"text-align: right;\">\n",
       "      <th></th>\n",
       "      <th>cng</th>\n",
       "      <th>electric</th>\n",
       "      <th>gasoline</th>\n",
       "      <th>hybrid</th>\n",
       "      <th>lpg</th>\n",
       "      <th>other</th>\n",
       "      <th>petrol</th>\n",
       "    </tr>\n",
       "    <tr>\n",
       "      <th>Model</th>\n",
       "      <th></th>\n",
       "      <th></th>\n",
       "      <th></th>\n",
       "      <th></th>\n",
       "      <th></th>\n",
       "      <th></th>\n",
       "      <th></th>\n",
       "    </tr>\n",
       "  </thead>\n",
       "  <tbody>\n",
       "    <tr>\n",
       "      <th>100</th>\n",
       "      <td>0.0</td>\n",
       "      <td>0.0</td>\n",
       "      <td>0.041935</td>\n",
       "      <td>0.0</td>\n",
       "      <td>0.019355</td>\n",
       "      <td>0.0</td>\n",
       "      <td>0.938710</td>\n",
       "    </tr>\n",
       "    <tr>\n",
       "      <th>145</th>\n",
       "      <td>0.0</td>\n",
       "      <td>0.0</td>\n",
       "      <td>0.000000</td>\n",
       "      <td>0.0</td>\n",
       "      <td>0.000000</td>\n",
       "      <td>0.0</td>\n",
       "      <td>1.000000</td>\n",
       "    </tr>\n",
       "    <tr>\n",
       "      <th>147</th>\n",
       "      <td>0.0</td>\n",
       "      <td>0.0</td>\n",
       "      <td>0.235165</td>\n",
       "      <td>0.0</td>\n",
       "      <td>0.028571</td>\n",
       "      <td>0.0</td>\n",
       "      <td>0.736264</td>\n",
       "    </tr>\n",
       "    <tr>\n",
       "      <th>156</th>\n",
       "      <td>0.0</td>\n",
       "      <td>0.0</td>\n",
       "      <td>0.329787</td>\n",
       "      <td>0.0</td>\n",
       "      <td>0.029787</td>\n",
       "      <td>0.0</td>\n",
       "      <td>0.640426</td>\n",
       "    </tr>\n",
       "    <tr>\n",
       "      <th>159</th>\n",
       "      <td>0.0</td>\n",
       "      <td>0.0</td>\n",
       "      <td>0.709497</td>\n",
       "      <td>0.0</td>\n",
       "      <td>0.000000</td>\n",
       "      <td>0.0</td>\n",
       "      <td>0.290503</td>\n",
       "    </tr>\n",
       "  </tbody>\n",
       "</table>\n",
       "</div>"
      ],
      "text/plain": [
       "       cng  electric  gasoline  hybrid       lpg  other    petrol\n",
       "Model                                                            \n",
       "100    0.0       0.0  0.041935     0.0  0.019355    0.0  0.938710\n",
       "145    0.0       0.0  0.000000     0.0  0.000000    0.0  1.000000\n",
       "147    0.0       0.0  0.235165     0.0  0.028571    0.0  0.736264\n",
       "156    0.0       0.0  0.329787     0.0  0.029787    0.0  0.640426\n",
       "159    0.0       0.0  0.709497     0.0  0.000000    0.0  0.290503"
      ]
     },
     "metadata": {},
     "output_type": "display_data"
    }
   ],
   "source": [
    "fuel_type_probs = pd.DataFrame(probabilities, index=fuel_type.index, columns=fuel_type.columns)\n",
    "display(fuel_type_probs.head())"
   ]
  },
  {
   "cell_type": "markdown",
   "metadata": {},
   "source": [
    "Let's create function for filling the missing values in `FuelType` variable, depending on the model of the car. Fuel type will be selected randomly depending on the probability of this fuel type occurance in data for the particular car model."
   ]
  },
  {
   "cell_type": "code",
   "execution_count": 57,
   "metadata": {},
   "outputs": [],
   "source": [
    "def random_fuel(rows):\n",
    "    model = rows['Model']\n",
    "    \n",
    "    for probs in fuel_type_probs.loc[fuel_type_probs.index == model].values:\n",
    "        return np.random.choice(fuel_type_probs.columns.values, p=probs)\n"
   ]
  },
  {
   "cell_type": "code",
   "execution_count": 58,
   "metadata": {
    "tags": []
   },
   "outputs": [],
   "source": [
    "df.loc[df['FuelType'].isna(), 'FuelType'] = df.loc[df['FuelType'].isna()].apply(random_fuel, axis=1)"
   ]
  },
  {
   "cell_type": "markdown",
   "metadata": {},
   "source": [
    "Distribution of values didn't change."
   ]
  },
  {
   "cell_type": "code",
   "execution_count": 59,
   "metadata": {},
   "outputs": [
    {
     "data": {
      "text/plain": [
       "petrol      174342\n",
       "gasoline     81659\n",
       "lpg           4159\n",
       "cng            463\n",
       "hybrid         182\n",
       "other           45\n",
       "electric        36\n",
       "Name: FuelType, dtype: int64"
      ]
     },
     "metadata": {},
     "output_type": "display_data"
    }
   ],
   "source": [
    "display(df['FuelType'].value_counts())"
   ]
  },
  {
   "cell_type": "code",
   "execution_count": 60,
   "metadata": {},
   "outputs": [
    {
     "data": {
      "text/html": [
       "<style type=\"text/css\">\n",
       "#T_611ba_row0_col0, #T_611ba_row2_col0, #T_611ba_row4_col0, #T_611ba_row5_col0, #T_611ba_row6_col0, #T_611ba_row7_col0, #T_611ba_row8_col0, #T_611ba_row9_col0, #T_611ba_row10_col0 {\n",
       "  background-color: #edb081;\n",
       "  color: #000000;\n",
       "}\n",
       "#T_611ba_row1_col0 {\n",
       "  background-color: #4b2362;\n",
       "  color: #f1f1f1;\n",
       "}\n",
       "#T_611ba_row3_col0 {\n",
       "  background-color: #c44267;\n",
       "  color: #f1f1f1;\n",
       "}\n",
       "</style>\n",
       "<table id=\"T_611ba\">\n",
       "  <thead>\n",
       "    <tr>\n",
       "      <th class=\"blank level0\" >&nbsp;</th>\n",
       "      <th id=\"T_611ba_level0_col0\" class=\"col_heading level0 col0\" >missing_val</th>\n",
       "    </tr>\n",
       "  </thead>\n",
       "  <tbody>\n",
       "    <tr>\n",
       "      <th id=\"T_611ba_level0_row0\" class=\"row_heading level0 row0\" >Price</th>\n",
       "      <td id=\"T_611ba_row0_col0\" class=\"data row0 col0\" >0</td>\n",
       "    </tr>\n",
       "    <tr>\n",
       "      <th id=\"T_611ba_level0_row1\" class=\"row_heading level0 row1\" >VehicleType</th>\n",
       "      <td id=\"T_611ba_row1_col0\" class=\"data row1 col0\" >9095</td>\n",
       "    </tr>\n",
       "    <tr>\n",
       "      <th id=\"T_611ba_level0_row2\" class=\"row_heading level0 row2\" >RegistrationYear</th>\n",
       "      <td id=\"T_611ba_row2_col0\" class=\"data row2 col0\" >0</td>\n",
       "    </tr>\n",
       "    <tr>\n",
       "      <th id=\"T_611ba_level0_row3\" class=\"row_heading level0 row3\" >Gearbox</th>\n",
       "      <td id=\"T_611ba_row3_col0\" class=\"data row3 col0\" >4469</td>\n",
       "    </tr>\n",
       "    <tr>\n",
       "      <th id=\"T_611ba_level0_row4\" class=\"row_heading level0 row4\" >Power</th>\n",
       "      <td id=\"T_611ba_row4_col0\" class=\"data row4 col0\" >0</td>\n",
       "    </tr>\n",
       "    <tr>\n",
       "      <th id=\"T_611ba_level0_row5\" class=\"row_heading level0 row5\" >Model</th>\n",
       "      <td id=\"T_611ba_row5_col0\" class=\"data row5 col0\" >0</td>\n",
       "    </tr>\n",
       "    <tr>\n",
       "      <th id=\"T_611ba_level0_row6\" class=\"row_heading level0 row6\" >Kilometer</th>\n",
       "      <td id=\"T_611ba_row6_col0\" class=\"data row6 col0\" >0</td>\n",
       "    </tr>\n",
       "    <tr>\n",
       "      <th id=\"T_611ba_level0_row7\" class=\"row_heading level0 row7\" >RegistrationMonth</th>\n",
       "      <td id=\"T_611ba_row7_col0\" class=\"data row7 col0\" >0</td>\n",
       "    </tr>\n",
       "    <tr>\n",
       "      <th id=\"T_611ba_level0_row8\" class=\"row_heading level0 row8\" >FuelType</th>\n",
       "      <td id=\"T_611ba_row8_col0\" class=\"data row8 col0\" >0</td>\n",
       "    </tr>\n",
       "    <tr>\n",
       "      <th id=\"T_611ba_level0_row9\" class=\"row_heading level0 row9\" >Brand</th>\n",
       "      <td id=\"T_611ba_row9_col0\" class=\"data row9 col0\" >0</td>\n",
       "    </tr>\n",
       "    <tr>\n",
       "      <th id=\"T_611ba_level0_row10\" class=\"row_heading level0 row10\" >Repaired</th>\n",
       "      <td id=\"T_611ba_row10_col0\" class=\"data row10 col0\" >0</td>\n",
       "    </tr>\n",
       "  </tbody>\n",
       "</table>\n"
      ],
      "text/plain": [
       "<pandas.io.formats.style.Styler at 0x7fa77384fdc0>"
      ]
     },
     "metadata": {},
     "output_type": "display_data"
    }
   ],
   "source": [
    "display(pd.DataFrame(round(df.isna().sum()), columns=['missing_val']).style.background_gradient(cmap='flare'))"
   ]
  },
  {
   "cell_type": "markdown",
   "metadata": {},
   "source": [
    "#### Gearbox"
   ]
  },
  {
   "cell_type": "markdown",
   "metadata": {},
   "source": [
    "Let's fill the missing values in `Gearbox` using the same technique as for `FuelType` variable."
   ]
  },
  {
   "cell_type": "code",
   "execution_count": 61,
   "metadata": {},
   "outputs": [
    {
     "data": {
      "text/plain": [
       "manual    205459\n",
       "auto       50958\n",
       "Name: Gearbox, dtype: int64"
      ]
     },
     "metadata": {},
     "output_type": "display_data"
    }
   ],
   "source": [
    "display(df['Gearbox'].value_counts())"
   ]
  },
  {
   "cell_type": "code",
   "execution_count": 62,
   "metadata": {},
   "outputs": [
    {
     "data": {
      "text/html": [
       "<div>\n",
       "<style scoped>\n",
       "    .dataframe tbody tr th:only-of-type {\n",
       "        vertical-align: middle;\n",
       "    }\n",
       "\n",
       "    .dataframe tbody tr th {\n",
       "        vertical-align: top;\n",
       "    }\n",
       "\n",
       "    .dataframe thead th {\n",
       "        text-align: right;\n",
       "    }\n",
       "</style>\n",
       "<table border=\"1\" class=\"dataframe\">\n",
       "  <thead>\n",
       "    <tr style=\"text-align: right;\">\n",
       "      <th></th>\n",
       "      <th>auto</th>\n",
       "      <th>manual</th>\n",
       "    </tr>\n",
       "    <tr>\n",
       "      <th>Model</th>\n",
       "      <th></th>\n",
       "      <th></th>\n",
       "    </tr>\n",
       "  </thead>\n",
       "  <tbody>\n",
       "    <tr>\n",
       "      <th>100</th>\n",
       "      <td>55.0</td>\n",
       "      <td>270.0</td>\n",
       "    </tr>\n",
       "    <tr>\n",
       "      <th>145</th>\n",
       "      <td>NaN</td>\n",
       "      <td>34.0</td>\n",
       "    </tr>\n",
       "    <tr>\n",
       "      <th>147</th>\n",
       "      <td>21.0</td>\n",
       "      <td>438.0</td>\n",
       "    </tr>\n",
       "    <tr>\n",
       "      <th>156</th>\n",
       "      <td>39.0</td>\n",
       "      <td>460.0</td>\n",
       "    </tr>\n",
       "    <tr>\n",
       "      <th>159</th>\n",
       "      <td>25.0</td>\n",
       "      <td>162.0</td>\n",
       "    </tr>\n",
       "  </tbody>\n",
       "</table>\n",
       "</div>"
      ],
      "text/plain": [
       "       auto  manual\n",
       "Model              \n",
       "100    55.0   270.0\n",
       "145     NaN    34.0\n",
       "147    21.0   438.0\n",
       "156    39.0   460.0\n",
       "159    25.0   162.0"
      ]
     },
     "metadata": {},
     "output_type": "display_data"
    }
   ],
   "source": [
    "gearbox_type = (\n",
    "    df.loc[~df['Gearbox'].isna(), ['Gearbox', 'Model', 'Price']]\n",
    "    .pivot_table(index=['Model'], columns='Gearbox', values='Price', aggfunc={'count'})\n",
    ")\n",
    "\n",
    "\n",
    "gearbox_type.columns = ['auto', 'manual']\n",
    "display(gearbox_type.head())"
   ]
  },
  {
   "cell_type": "code",
   "execution_count": 63,
   "metadata": {},
   "outputs": [],
   "source": [
    "probabilities = prob_calc(gearbox_type)"
   ]
  },
  {
   "cell_type": "code",
   "execution_count": 64,
   "metadata": {},
   "outputs": [
    {
     "data": {
      "text/html": [
       "<div>\n",
       "<style scoped>\n",
       "    .dataframe tbody tr th:only-of-type {\n",
       "        vertical-align: middle;\n",
       "    }\n",
       "\n",
       "    .dataframe tbody tr th {\n",
       "        vertical-align: top;\n",
       "    }\n",
       "\n",
       "    .dataframe thead th {\n",
       "        text-align: right;\n",
       "    }\n",
       "</style>\n",
       "<table border=\"1\" class=\"dataframe\">\n",
       "  <thead>\n",
       "    <tr style=\"text-align: right;\">\n",
       "      <th></th>\n",
       "      <th>auto</th>\n",
       "      <th>manual</th>\n",
       "    </tr>\n",
       "    <tr>\n",
       "      <th>Model</th>\n",
       "      <th></th>\n",
       "      <th></th>\n",
       "    </tr>\n",
       "  </thead>\n",
       "  <tbody>\n",
       "    <tr>\n",
       "      <th>100</th>\n",
       "      <td>0.169231</td>\n",
       "      <td>0.830769</td>\n",
       "    </tr>\n",
       "    <tr>\n",
       "      <th>145</th>\n",
       "      <td>0.000000</td>\n",
       "      <td>1.000000</td>\n",
       "    </tr>\n",
       "    <tr>\n",
       "      <th>147</th>\n",
       "      <td>0.045752</td>\n",
       "      <td>0.954248</td>\n",
       "    </tr>\n",
       "    <tr>\n",
       "      <th>156</th>\n",
       "      <td>0.078156</td>\n",
       "      <td>0.921844</td>\n",
       "    </tr>\n",
       "    <tr>\n",
       "      <th>159</th>\n",
       "      <td>0.133690</td>\n",
       "      <td>0.866310</td>\n",
       "    </tr>\n",
       "  </tbody>\n",
       "</table>\n",
       "</div>"
      ],
      "text/plain": [
       "           auto    manual\n",
       "Model                    \n",
       "100    0.169231  0.830769\n",
       "145    0.000000  1.000000\n",
       "147    0.045752  0.954248\n",
       "156    0.078156  0.921844\n",
       "159    0.133690  0.866310"
      ]
     },
     "metadata": {},
     "output_type": "display_data"
    }
   ],
   "source": [
    "gearbox_type_probs = pd.DataFrame(probabilities, index=gearbox_type.index, columns=gearbox_type.columns)\n",
    "display(gearbox_type_probs.head())"
   ]
  },
  {
   "cell_type": "code",
   "execution_count": 65,
   "metadata": {},
   "outputs": [],
   "source": [
    "def random_gearbox(rows):\n",
    "    model = rows['Model']\n",
    "    \n",
    "    for probs in gearbox_type_probs.loc[gearbox_type_probs.index == model].values:\n",
    "        return np.random.choice(gearbox_type_probs.columns.values, p=probs)\n"
   ]
  },
  {
   "cell_type": "code",
   "execution_count": 66,
   "metadata": {},
   "outputs": [],
   "source": [
    "df.loc[df['Gearbox'].isna(), 'Gearbox'] = df.loc[df['Gearbox'].isna()].apply(random_gearbox, axis=1)"
   ]
  },
  {
   "cell_type": "code",
   "execution_count": 67,
   "metadata": {},
   "outputs": [
    {
     "data": {
      "text/html": [
       "<style type=\"text/css\">\n",
       "#T_16bb4_row0_col0, #T_16bb4_row2_col0, #T_16bb4_row3_col0, #T_16bb4_row4_col0, #T_16bb4_row5_col0, #T_16bb4_row6_col0, #T_16bb4_row7_col0, #T_16bb4_row8_col0, #T_16bb4_row9_col0, #T_16bb4_row10_col0 {\n",
       "  background-color: #edb081;\n",
       "  color: #000000;\n",
       "}\n",
       "#T_16bb4_row1_col0 {\n",
       "  background-color: #4b2362;\n",
       "  color: #f1f1f1;\n",
       "}\n",
       "</style>\n",
       "<table id=\"T_16bb4\">\n",
       "  <thead>\n",
       "    <tr>\n",
       "      <th class=\"blank level0\" >&nbsp;</th>\n",
       "      <th id=\"T_16bb4_level0_col0\" class=\"col_heading level0 col0\" >missing_val</th>\n",
       "    </tr>\n",
       "  </thead>\n",
       "  <tbody>\n",
       "    <tr>\n",
       "      <th id=\"T_16bb4_level0_row0\" class=\"row_heading level0 row0\" >Price</th>\n",
       "      <td id=\"T_16bb4_row0_col0\" class=\"data row0 col0\" >0</td>\n",
       "    </tr>\n",
       "    <tr>\n",
       "      <th id=\"T_16bb4_level0_row1\" class=\"row_heading level0 row1\" >VehicleType</th>\n",
       "      <td id=\"T_16bb4_row1_col0\" class=\"data row1 col0\" >9095</td>\n",
       "    </tr>\n",
       "    <tr>\n",
       "      <th id=\"T_16bb4_level0_row2\" class=\"row_heading level0 row2\" >RegistrationYear</th>\n",
       "      <td id=\"T_16bb4_row2_col0\" class=\"data row2 col0\" >0</td>\n",
       "    </tr>\n",
       "    <tr>\n",
       "      <th id=\"T_16bb4_level0_row3\" class=\"row_heading level0 row3\" >Gearbox</th>\n",
       "      <td id=\"T_16bb4_row3_col0\" class=\"data row3 col0\" >0</td>\n",
       "    </tr>\n",
       "    <tr>\n",
       "      <th id=\"T_16bb4_level0_row4\" class=\"row_heading level0 row4\" >Power</th>\n",
       "      <td id=\"T_16bb4_row4_col0\" class=\"data row4 col0\" >0</td>\n",
       "    </tr>\n",
       "    <tr>\n",
       "      <th id=\"T_16bb4_level0_row5\" class=\"row_heading level0 row5\" >Model</th>\n",
       "      <td id=\"T_16bb4_row5_col0\" class=\"data row5 col0\" >0</td>\n",
       "    </tr>\n",
       "    <tr>\n",
       "      <th id=\"T_16bb4_level0_row6\" class=\"row_heading level0 row6\" >Kilometer</th>\n",
       "      <td id=\"T_16bb4_row6_col0\" class=\"data row6 col0\" >0</td>\n",
       "    </tr>\n",
       "    <tr>\n",
       "      <th id=\"T_16bb4_level0_row7\" class=\"row_heading level0 row7\" >RegistrationMonth</th>\n",
       "      <td id=\"T_16bb4_row7_col0\" class=\"data row7 col0\" >0</td>\n",
       "    </tr>\n",
       "    <tr>\n",
       "      <th id=\"T_16bb4_level0_row8\" class=\"row_heading level0 row8\" >FuelType</th>\n",
       "      <td id=\"T_16bb4_row8_col0\" class=\"data row8 col0\" >0</td>\n",
       "    </tr>\n",
       "    <tr>\n",
       "      <th id=\"T_16bb4_level0_row9\" class=\"row_heading level0 row9\" >Brand</th>\n",
       "      <td id=\"T_16bb4_row9_col0\" class=\"data row9 col0\" >0</td>\n",
       "    </tr>\n",
       "    <tr>\n",
       "      <th id=\"T_16bb4_level0_row10\" class=\"row_heading level0 row10\" >Repaired</th>\n",
       "      <td id=\"T_16bb4_row10_col0\" class=\"data row10 col0\" >0</td>\n",
       "    </tr>\n",
       "  </tbody>\n",
       "</table>\n"
      ],
      "text/plain": [
       "<pandas.io.formats.style.Styler at 0x7fa744c25790>"
      ]
     },
     "metadata": {},
     "output_type": "display_data"
    }
   ],
   "source": [
    "display(pd.DataFrame(round(df.isna().sum()), columns=['missing_val']).style.background_gradient(cmap='flare'))"
   ]
  },
  {
   "cell_type": "markdown",
   "metadata": {},
   "source": [
    "#### VehicleType"
   ]
  },
  {
   "cell_type": "markdown",
   "metadata": {},
   "source": [
    "Using the same approach we fill the missng values in `VehicleType` variable."
   ]
  },
  {
   "cell_type": "code",
   "execution_count": 68,
   "metadata": {},
   "outputs": [
    {
     "data": {
      "text/plain": [
       "sedan          73146\n",
       "small          61790\n",
       "wagon          52426\n",
       "bus            23694\n",
       "convertible    16597\n",
       "coupe          12796\n",
       "suv             9222\n",
       "other           2120\n",
       "Name: VehicleType, dtype: int64"
      ]
     },
     "metadata": {},
     "output_type": "display_data"
    }
   ],
   "source": [
    "display(df['VehicleType'].value_counts())"
   ]
  },
  {
   "cell_type": "code",
   "execution_count": 69,
   "metadata": {
    "tags": []
   },
   "outputs": [
    {
     "data": {
      "text/html": [
       "<div>\n",
       "<style scoped>\n",
       "    .dataframe tbody tr th:only-of-type {\n",
       "        vertical-align: middle;\n",
       "    }\n",
       "\n",
       "    .dataframe tbody tr th {\n",
       "        vertical-align: top;\n",
       "    }\n",
       "\n",
       "    .dataframe thead th {\n",
       "        text-align: right;\n",
       "    }\n",
       "</style>\n",
       "<table border=\"1\" class=\"dataframe\">\n",
       "  <thead>\n",
       "    <tr style=\"text-align: right;\">\n",
       "      <th></th>\n",
       "      <th>bus</th>\n",
       "      <th>convertible</th>\n",
       "      <th>coupe</th>\n",
       "      <th>other</th>\n",
       "      <th>sedan</th>\n",
       "      <th>small</th>\n",
       "      <th>suv</th>\n",
       "      <th>wagon</th>\n",
       "    </tr>\n",
       "    <tr>\n",
       "      <th>Model</th>\n",
       "      <th></th>\n",
       "      <th></th>\n",
       "      <th></th>\n",
       "      <th></th>\n",
       "      <th></th>\n",
       "      <th></th>\n",
       "      <th></th>\n",
       "      <th></th>\n",
       "    </tr>\n",
       "  </thead>\n",
       "  <tbody>\n",
       "    <tr>\n",
       "      <th>100</th>\n",
       "      <td>NaN</td>\n",
       "      <td>1.0</td>\n",
       "      <td>2.0</td>\n",
       "      <td>NaN</td>\n",
       "      <td>222.0</td>\n",
       "      <td>NaN</td>\n",
       "      <td>NaN</td>\n",
       "      <td>94.0</td>\n",
       "    </tr>\n",
       "    <tr>\n",
       "      <th>145</th>\n",
       "      <td>NaN</td>\n",
       "      <td>NaN</td>\n",
       "      <td>1.0</td>\n",
       "      <td>1.0</td>\n",
       "      <td>12.0</td>\n",
       "      <td>17.0</td>\n",
       "      <td>NaN</td>\n",
       "      <td>NaN</td>\n",
       "    </tr>\n",
       "    <tr>\n",
       "      <th>147</th>\n",
       "      <td>NaN</td>\n",
       "      <td>NaN</td>\n",
       "      <td>23.0</td>\n",
       "      <td>7.0</td>\n",
       "      <td>319.0</td>\n",
       "      <td>84.0</td>\n",
       "      <td>NaN</td>\n",
       "      <td>2.0</td>\n",
       "    </tr>\n",
       "    <tr>\n",
       "      <th>156</th>\n",
       "      <td>NaN</td>\n",
       "      <td>NaN</td>\n",
       "      <td>2.0</td>\n",
       "      <td>NaN</td>\n",
       "      <td>235.0</td>\n",
       "      <td>2.0</td>\n",
       "      <td>NaN</td>\n",
       "      <td>247.0</td>\n",
       "    </tr>\n",
       "    <tr>\n",
       "      <th>159</th>\n",
       "      <td>NaN</td>\n",
       "      <td>NaN</td>\n",
       "      <td>NaN</td>\n",
       "      <td>NaN</td>\n",
       "      <td>50.0</td>\n",
       "      <td>NaN</td>\n",
       "      <td>NaN</td>\n",
       "      <td>133.0</td>\n",
       "    </tr>\n",
       "  </tbody>\n",
       "</table>\n",
       "</div>"
      ],
      "text/plain": [
       "       bus  convertible  coupe  other  sedan  small  suv  wagon\n",
       "Model                                                          \n",
       "100    NaN          1.0    2.0    NaN  222.0    NaN  NaN   94.0\n",
       "145    NaN          NaN    1.0    1.0   12.0   17.0  NaN    NaN\n",
       "147    NaN          NaN   23.0    7.0  319.0   84.0  NaN    2.0\n",
       "156    NaN          NaN    2.0    NaN  235.0    2.0  NaN  247.0\n",
       "159    NaN          NaN    NaN    NaN   50.0    NaN  NaN  133.0"
      ]
     },
     "metadata": {},
     "output_type": "display_data"
    }
   ],
   "source": [
    "vehicle_type = (\n",
    "    df.loc[~df['VehicleType'].isna(), ['VehicleType', 'Model', 'Price']]\n",
    "    .pivot_table(index=['Model'], columns='VehicleType', values='Price', aggfunc={'count'})\n",
    ")\n",
    "\n",
    "\n",
    "vehicle_type.columns = ['bus', 'convertible', 'coupe', 'other', 'sedan', 'small', 'suv', 'wagon']\n",
    "display(vehicle_type.head())"
   ]
  },
  {
   "cell_type": "code",
   "execution_count": 70,
   "metadata": {},
   "outputs": [],
   "source": [
    "probabilities = prob_calc(vehicle_type)"
   ]
  },
  {
   "cell_type": "code",
   "execution_count": 71,
   "metadata": {},
   "outputs": [
    {
     "data": {
      "text/html": [
       "<div>\n",
       "<style scoped>\n",
       "    .dataframe tbody tr th:only-of-type {\n",
       "        vertical-align: middle;\n",
       "    }\n",
       "\n",
       "    .dataframe tbody tr th {\n",
       "        vertical-align: top;\n",
       "    }\n",
       "\n",
       "    .dataframe thead th {\n",
       "        text-align: right;\n",
       "    }\n",
       "</style>\n",
       "<table border=\"1\" class=\"dataframe\">\n",
       "  <thead>\n",
       "    <tr style=\"text-align: right;\">\n",
       "      <th></th>\n",
       "      <th>bus</th>\n",
       "      <th>convertible</th>\n",
       "      <th>coupe</th>\n",
       "      <th>other</th>\n",
       "      <th>sedan</th>\n",
       "      <th>small</th>\n",
       "      <th>suv</th>\n",
       "      <th>wagon</th>\n",
       "    </tr>\n",
       "    <tr>\n",
       "      <th>Model</th>\n",
       "      <th></th>\n",
       "      <th></th>\n",
       "      <th></th>\n",
       "      <th></th>\n",
       "      <th></th>\n",
       "      <th></th>\n",
       "      <th></th>\n",
       "      <th></th>\n",
       "    </tr>\n",
       "  </thead>\n",
       "  <tbody>\n",
       "    <tr>\n",
       "      <th>100</th>\n",
       "      <td>0.0</td>\n",
       "      <td>0.003135</td>\n",
       "      <td>0.006270</td>\n",
       "      <td>0.000000</td>\n",
       "      <td>0.695925</td>\n",
       "      <td>0.000000</td>\n",
       "      <td>0.0</td>\n",
       "      <td>0.294671</td>\n",
       "    </tr>\n",
       "    <tr>\n",
       "      <th>145</th>\n",
       "      <td>0.0</td>\n",
       "      <td>0.000000</td>\n",
       "      <td>0.032258</td>\n",
       "      <td>0.032258</td>\n",
       "      <td>0.387097</td>\n",
       "      <td>0.548387</td>\n",
       "      <td>0.0</td>\n",
       "      <td>0.000000</td>\n",
       "    </tr>\n",
       "    <tr>\n",
       "      <th>147</th>\n",
       "      <td>0.0</td>\n",
       "      <td>0.000000</td>\n",
       "      <td>0.052874</td>\n",
       "      <td>0.016092</td>\n",
       "      <td>0.733333</td>\n",
       "      <td>0.193103</td>\n",
       "      <td>0.0</td>\n",
       "      <td>0.004598</td>\n",
       "    </tr>\n",
       "    <tr>\n",
       "      <th>156</th>\n",
       "      <td>0.0</td>\n",
       "      <td>0.000000</td>\n",
       "      <td>0.004115</td>\n",
       "      <td>0.000000</td>\n",
       "      <td>0.483539</td>\n",
       "      <td>0.004115</td>\n",
       "      <td>0.0</td>\n",
       "      <td>0.508230</td>\n",
       "    </tr>\n",
       "    <tr>\n",
       "      <th>159</th>\n",
       "      <td>0.0</td>\n",
       "      <td>0.000000</td>\n",
       "      <td>0.000000</td>\n",
       "      <td>0.000000</td>\n",
       "      <td>0.273224</td>\n",
       "      <td>0.000000</td>\n",
       "      <td>0.0</td>\n",
       "      <td>0.726776</td>\n",
       "    </tr>\n",
       "  </tbody>\n",
       "</table>\n",
       "</div>"
      ],
      "text/plain": [
       "       bus  convertible     coupe     other     sedan     small  suv     wagon\n",
       "Model                                                                         \n",
       "100    0.0     0.003135  0.006270  0.000000  0.695925  0.000000  0.0  0.294671\n",
       "145    0.0     0.000000  0.032258  0.032258  0.387097  0.548387  0.0  0.000000\n",
       "147    0.0     0.000000  0.052874  0.016092  0.733333  0.193103  0.0  0.004598\n",
       "156    0.0     0.000000  0.004115  0.000000  0.483539  0.004115  0.0  0.508230\n",
       "159    0.0     0.000000  0.000000  0.000000  0.273224  0.000000  0.0  0.726776"
      ]
     },
     "metadata": {},
     "output_type": "display_data"
    }
   ],
   "source": [
    "vehicle_type_probs = pd.DataFrame(probabilities, index=vehicle_type.index, columns=vehicle_type.columns)\n",
    "display(vehicle_type_probs.head())"
   ]
  },
  {
   "cell_type": "code",
   "execution_count": 72,
   "metadata": {},
   "outputs": [],
   "source": [
    "def random_vehicle(rows):\n",
    "    model = rows['Model']\n",
    "    \n",
    "    for probs in vehicle_type_probs.loc[vehicle_type_probs.index == model].values:\n",
    "        return np.random.choice(vehicle_type_probs.columns.values, p=probs)"
   ]
  },
  {
   "cell_type": "code",
   "execution_count": 73,
   "metadata": {},
   "outputs": [],
   "source": [
    "df.loc[df['VehicleType'].isna(), 'VehicleType'] = df.loc[df['VehicleType'].isna()].apply(random_vehicle, axis=1)"
   ]
  },
  {
   "cell_type": "code",
   "execution_count": 74,
   "metadata": {},
   "outputs": [
    {
     "data": {
      "text/html": [
       "<style type=\"text/css\">\n",
       "#T_bf19b_row0_col0, #T_bf19b_row1_col0, #T_bf19b_row2_col0, #T_bf19b_row3_col0, #T_bf19b_row4_col0, #T_bf19b_row5_col0, #T_bf19b_row6_col0, #T_bf19b_row7_col0, #T_bf19b_row8_col0, #T_bf19b_row9_col0, #T_bf19b_row10_col0 {\n",
       "  background-color: #edb081;\n",
       "  color: #000000;\n",
       "}\n",
       "</style>\n",
       "<table id=\"T_bf19b\">\n",
       "  <thead>\n",
       "    <tr>\n",
       "      <th class=\"blank level0\" >&nbsp;</th>\n",
       "      <th id=\"T_bf19b_level0_col0\" class=\"col_heading level0 col0\" >missing_val</th>\n",
       "    </tr>\n",
       "  </thead>\n",
       "  <tbody>\n",
       "    <tr>\n",
       "      <th id=\"T_bf19b_level0_row0\" class=\"row_heading level0 row0\" >Price</th>\n",
       "      <td id=\"T_bf19b_row0_col0\" class=\"data row0 col0\" >0</td>\n",
       "    </tr>\n",
       "    <tr>\n",
       "      <th id=\"T_bf19b_level0_row1\" class=\"row_heading level0 row1\" >VehicleType</th>\n",
       "      <td id=\"T_bf19b_row1_col0\" class=\"data row1 col0\" >0</td>\n",
       "    </tr>\n",
       "    <tr>\n",
       "      <th id=\"T_bf19b_level0_row2\" class=\"row_heading level0 row2\" >RegistrationYear</th>\n",
       "      <td id=\"T_bf19b_row2_col0\" class=\"data row2 col0\" >0</td>\n",
       "    </tr>\n",
       "    <tr>\n",
       "      <th id=\"T_bf19b_level0_row3\" class=\"row_heading level0 row3\" >Gearbox</th>\n",
       "      <td id=\"T_bf19b_row3_col0\" class=\"data row3 col0\" >0</td>\n",
       "    </tr>\n",
       "    <tr>\n",
       "      <th id=\"T_bf19b_level0_row4\" class=\"row_heading level0 row4\" >Power</th>\n",
       "      <td id=\"T_bf19b_row4_col0\" class=\"data row4 col0\" >0</td>\n",
       "    </tr>\n",
       "    <tr>\n",
       "      <th id=\"T_bf19b_level0_row5\" class=\"row_heading level0 row5\" >Model</th>\n",
       "      <td id=\"T_bf19b_row5_col0\" class=\"data row5 col0\" >0</td>\n",
       "    </tr>\n",
       "    <tr>\n",
       "      <th id=\"T_bf19b_level0_row6\" class=\"row_heading level0 row6\" >Kilometer</th>\n",
       "      <td id=\"T_bf19b_row6_col0\" class=\"data row6 col0\" >0</td>\n",
       "    </tr>\n",
       "    <tr>\n",
       "      <th id=\"T_bf19b_level0_row7\" class=\"row_heading level0 row7\" >RegistrationMonth</th>\n",
       "      <td id=\"T_bf19b_row7_col0\" class=\"data row7 col0\" >0</td>\n",
       "    </tr>\n",
       "    <tr>\n",
       "      <th id=\"T_bf19b_level0_row8\" class=\"row_heading level0 row8\" >FuelType</th>\n",
       "      <td id=\"T_bf19b_row8_col0\" class=\"data row8 col0\" >0</td>\n",
       "    </tr>\n",
       "    <tr>\n",
       "      <th id=\"T_bf19b_level0_row9\" class=\"row_heading level0 row9\" >Brand</th>\n",
       "      <td id=\"T_bf19b_row9_col0\" class=\"data row9 col0\" >0</td>\n",
       "    </tr>\n",
       "    <tr>\n",
       "      <th id=\"T_bf19b_level0_row10\" class=\"row_heading level0 row10\" >Repaired</th>\n",
       "      <td id=\"T_bf19b_row10_col0\" class=\"data row10 col0\" >0</td>\n",
       "    </tr>\n",
       "  </tbody>\n",
       "</table>\n"
      ],
      "text/plain": [
       "<pandas.io.formats.style.Styler at 0x7fa760a6c5b0>"
      ]
     },
     "metadata": {},
     "output_type": "display_data"
    }
   ],
   "source": [
    "display(pd.DataFrame(round(df.isna().sum()), columns=['missing_val']).style.background_gradient(cmap='flare'))"
   ]
  },
  {
   "cell_type": "code",
   "execution_count": 75,
   "metadata": {},
   "outputs": [
    {
     "data": {
      "text/html": [
       "<div>\n",
       "<style scoped>\n",
       "    .dataframe tbody tr th:only-of-type {\n",
       "        vertical-align: middle;\n",
       "    }\n",
       "\n",
       "    .dataframe tbody tr th {\n",
       "        vertical-align: top;\n",
       "    }\n",
       "\n",
       "    .dataframe thead th {\n",
       "        text-align: right;\n",
       "    }\n",
       "</style>\n",
       "<table border=\"1\" class=\"dataframe\">\n",
       "  <thead>\n",
       "    <tr style=\"text-align: right;\">\n",
       "      <th></th>\n",
       "      <th>Price</th>\n",
       "      <th>VehicleType</th>\n",
       "      <th>RegistrationYear</th>\n",
       "      <th>Gearbox</th>\n",
       "      <th>Power</th>\n",
       "      <th>Model</th>\n",
       "      <th>Kilometer</th>\n",
       "      <th>RegistrationMonth</th>\n",
       "      <th>FuelType</th>\n",
       "      <th>Brand</th>\n",
       "      <th>Repaired</th>\n",
       "    </tr>\n",
       "  </thead>\n",
       "  <tbody>\n",
       "    <tr>\n",
       "      <th>2</th>\n",
       "      <td>9800</td>\n",
       "      <td>suv</td>\n",
       "      <td>2004</td>\n",
       "      <td>auto</td>\n",
       "      <td>163</td>\n",
       "      <td>grand</td>\n",
       "      <td>125000</td>\n",
       "      <td>8</td>\n",
       "      <td>gasoline</td>\n",
       "      <td>jeep</td>\n",
       "      <td>unknown</td>\n",
       "    </tr>\n",
       "    <tr>\n",
       "      <th>3</th>\n",
       "      <td>1500</td>\n",
       "      <td>small</td>\n",
       "      <td>2001</td>\n",
       "      <td>manual</td>\n",
       "      <td>75</td>\n",
       "      <td>golf</td>\n",
       "      <td>150000</td>\n",
       "      <td>6</td>\n",
       "      <td>petrol</td>\n",
       "      <td>volkswagen</td>\n",
       "      <td>no</td>\n",
       "    </tr>\n",
       "    <tr>\n",
       "      <th>4</th>\n",
       "      <td>3600</td>\n",
       "      <td>small</td>\n",
       "      <td>2008</td>\n",
       "      <td>manual</td>\n",
       "      <td>69</td>\n",
       "      <td>fabia</td>\n",
       "      <td>90000</td>\n",
       "      <td>7</td>\n",
       "      <td>gasoline</td>\n",
       "      <td>skoda</td>\n",
       "      <td>no</td>\n",
       "    </tr>\n",
       "    <tr>\n",
       "      <th>5</th>\n",
       "      <td>650</td>\n",
       "      <td>sedan</td>\n",
       "      <td>1995</td>\n",
       "      <td>manual</td>\n",
       "      <td>102</td>\n",
       "      <td>3er</td>\n",
       "      <td>150000</td>\n",
       "      <td>10</td>\n",
       "      <td>petrol</td>\n",
       "      <td>bmw</td>\n",
       "      <td>yes</td>\n",
       "    </tr>\n",
       "    <tr>\n",
       "      <th>6</th>\n",
       "      <td>2200</td>\n",
       "      <td>convertible</td>\n",
       "      <td>2004</td>\n",
       "      <td>manual</td>\n",
       "      <td>109</td>\n",
       "      <td>2_reihe</td>\n",
       "      <td>150000</td>\n",
       "      <td>8</td>\n",
       "      <td>petrol</td>\n",
       "      <td>peugeot</td>\n",
       "      <td>no</td>\n",
       "    </tr>\n",
       "  </tbody>\n",
       "</table>\n",
       "</div>"
      ],
      "text/plain": [
       "   Price  VehicleType  RegistrationYear Gearbox  Power    Model  Kilometer  \\\n",
       "2   9800          suv              2004    auto    163    grand     125000   \n",
       "3   1500        small              2001  manual     75     golf     150000   \n",
       "4   3600        small              2008  manual     69    fabia      90000   \n",
       "5    650        sedan              1995  manual    102      3er     150000   \n",
       "6   2200  convertible              2004  manual    109  2_reihe     150000   \n",
       "\n",
       "   RegistrationMonth  FuelType       Brand Repaired  \n",
       "2                  8  gasoline        jeep  unknown  \n",
       "3                  6    petrol  volkswagen       no  \n",
       "4                  7  gasoline       skoda       no  \n",
       "5                 10    petrol         bmw      yes  \n",
       "6                  8    petrol     peugeot       no  "
      ]
     },
     "metadata": {},
     "output_type": "display_data"
    }
   ],
   "source": [
    "display(df.head())"
   ]
  },
  {
   "cell_type": "code",
   "execution_count": 76,
   "metadata": {},
   "outputs": [
    {
     "name": "stdout",
     "output_type": "stream",
     "text": [
      "<class 'pandas.core.frame.DataFrame'>\n",
      "Int64Index: 260886 entries, 2 to 354368\n",
      "Data columns (total 11 columns):\n",
      " #   Column             Non-Null Count   Dtype \n",
      "---  ------             --------------   ----- \n",
      " 0   Price              260886 non-null  int64 \n",
      " 1   VehicleType        260886 non-null  object\n",
      " 2   RegistrationYear   260886 non-null  int64 \n",
      " 3   Gearbox            260886 non-null  object\n",
      " 4   Power              260886 non-null  int64 \n",
      " 5   Model              260886 non-null  object\n",
      " 6   Kilometer          260886 non-null  int64 \n",
      " 7   RegistrationMonth  260886 non-null  int64 \n",
      " 8   FuelType           260886 non-null  object\n",
      " 9   Brand              260886 non-null  object\n",
      " 10  Repaired           260886 non-null  object\n",
      "dtypes: int64(5), object(6)\n",
      "memory usage: 23.9+ MB\n"
     ]
    }
   ],
   "source": [
    "df.info()"
   ]
  },
  {
   "cell_type": "markdown",
   "metadata": {},
   "source": [
    "We managed to fill missing values in the data. We used different techniques: 1) adding new value (\"unknown\") for the `Repaired` variable and 2) replacing missing values with a random value depending on the probability of values occurance in data for the particulat car model."
   ]
  },
  {
   "cell_type": "markdown",
   "metadata": {},
   "source": [
    "## Model fitting"
   ]
  },
  {
   "cell_type": "markdown",
   "metadata": {},
   "source": [
    "Let's split data into test and train in proportion 75:25."
   ]
  },
  {
   "cell_type": "code",
   "execution_count": 77,
   "metadata": {},
   "outputs": [],
   "source": [
    "features = df.drop(['Price'], axis=1)\n",
    "target = df['Price']\n",
    "\n",
    "features_train, features_test, target_train, target_test = train_test_split(\n",
    "                features, target, test_size=0.25, random_state=42, shuffle=True)"
   ]
  },
  {
   "cell_type": "markdown",
   "metadata": {},
   "source": [
    "Now let's create transformer that will allow us to process categorical and numerical variables separately. We will scale numeric variables, and we will make dummy variables from categorical ones."
   ]
  },
  {
   "cell_type": "code",
   "execution_count": 78,
   "metadata": {},
   "outputs": [],
   "source": [
    "numerical = df.select_dtypes(include='int64').columns.drop('Price').values\n",
    "categorical = df.select_dtypes(include='object').columns.values\n",
    "\n",
    "transformer = make_column_transformer((StandardScaler(), numerical), \n",
    "                                      (OneHotEncoder(sparse=False, categories='auto', drop='first', \n",
    "                                                     handle_unknown='ignore'), categorical), \n",
    "                                      remainder='passthrough')\n",
    "\n",
    "# transformed = transformer.fit_transform(features)\n",
    "# transformed_df = pd.DataFrame(transformed, index=features.index)"
   ]
  },
  {
   "cell_type": "markdown",
   "metadata": {},
   "source": [
    "#### Dummy модель"
   ]
  },
  {
   "cell_type": "markdown",
   "metadata": {},
   "source": [
    "Let's fit in dummy model on train sample."
   ]
  },
  {
   "cell_type": "code",
   "execution_count": 79,
   "metadata": {},
   "outputs": [],
   "source": [
    "pipe_dummy = Pipeline([('preprocess', transformer),\n",
    "                       ('dummy_model', DummyRegressor())])"
   ]
  },
  {
   "cell_type": "code",
   "execution_count": 80,
   "metadata": {},
   "outputs": [],
   "source": [
    "start_time = time.time()\n",
    "pipe_dummy.fit(features_train, target_train)\n",
    "time_fit_dummy = time.time() - start_time"
   ]
  },
  {
   "cell_type": "code",
   "execution_count": 81,
   "metadata": {},
   "outputs": [],
   "source": [
    "start_time = time.time()\n",
    "pred_dummy = pipe_dummy.predict(features_train)\n",
    "time_pred_dummy = time.time() - start_time"
   ]
  },
  {
   "cell_type": "code",
   "execution_count": 82,
   "metadata": {},
   "outputs": [
    {
     "name": "stdout",
     "output_type": "stream",
     "text": [
      "RMSE: 4596.909897956991\n"
     ]
    }
   ],
   "source": [
    "dummy_rmse = np.mean(-cross_val_score(pipe_dummy, features_train, target_train, cv=5, scoring='neg_root_mean_squared_error'))\n",
    "print('RMSE:', dummy_rmse)"
   ]
  },
  {
   "cell_type": "markdown",
   "metadata": {},
   "source": [
    "#### Linear Regression"
   ]
  },
  {
   "cell_type": "markdown",
   "metadata": {},
   "source": [
    "Next, let's fit in the linear regression. It predicts data better than the dummy model."
   ]
  },
  {
   "cell_type": "code",
   "execution_count": 83,
   "metadata": {},
   "outputs": [],
   "source": [
    "pipe_lin = Pipeline([('preprocess', transformer),\n",
    "                     ('lin_model', LinearRegression())])"
   ]
  },
  {
   "cell_type": "code",
   "execution_count": 84,
   "metadata": {},
   "outputs": [],
   "source": [
    "start_time = time.time()\n",
    "pipe_lin.fit(features_train, target_train)\n",
    "time_fit_lin = time.time() - start_time"
   ]
  },
  {
   "cell_type": "code",
   "execution_count": 85,
   "metadata": {},
   "outputs": [],
   "source": [
    "start_time = time.time()\n",
    "pred_lin = pipe_lin.predict(features_train)\n",
    "time_pred_lin = time.time() - start_time"
   ]
  },
  {
   "cell_type": "code",
   "execution_count": 86,
   "metadata": {},
   "outputs": [
    {
     "name": "stdout",
     "output_type": "stream",
     "text": [
      "RMSE: 2560.8438038155086\n"
     ]
    }
   ],
   "source": [
    "lin_rmse = np.mean(-cross_val_score(pipe_lin, features_train, target_train, cv=5, scoring='neg_root_mean_squared_error'))\n",
    "print('RMSE:', lin_rmse)"
   ]
  },
  {
   "cell_type": "markdown",
   "metadata": {},
   "source": [
    "#### Decision Tree Regressor"
   ]
  },
  {
   "cell_type": "code",
   "execution_count": 87,
   "metadata": {},
   "outputs": [],
   "source": [
    "transformer_trees = make_column_transformer((OrdinalEncoder(handle_unknown='use_encoded_value', unknown_value=np.nan), \n",
    "                                             categorical), remainder='passthrough')"
   ]
  },
  {
   "cell_type": "code",
   "execution_count": 88,
   "metadata": {},
   "outputs": [],
   "source": [
    "pipe_tree = Pipeline([('preprocess', transformer_trees),\n",
    "                      ('imputer', SimpleImputer(strategy='most_frequent')),\n",
    "                      ('tree_model', DecisionTreeRegressor(random_state=42))])"
   ]
  },
  {
   "cell_type": "markdown",
   "metadata": {},
   "source": [
    "Decision Tree Regressor is fitted faster. At the same time, the RMSE score on cross-validation is better."
   ]
  },
  {
   "cell_type": "code",
   "execution_count": 89,
   "metadata": {},
   "outputs": [
    {
     "name": "stdout",
     "output_type": "stream",
     "text": [
      "CPU times: user 1.46 s, sys: 20.7 ms, total: 1.48 s\n",
      "Wall time: 1.49 s\n"
     ]
    },
    {
     "data": {
      "text/html": [
       "<style>#sk-container-id-1 {color: black;background-color: white;}#sk-container-id-1 pre{padding: 0;}#sk-container-id-1 div.sk-toggleable {background-color: white;}#sk-container-id-1 label.sk-toggleable__label {cursor: pointer;display: block;width: 100%;margin-bottom: 0;padding: 0.3em;box-sizing: border-box;text-align: center;}#sk-container-id-1 label.sk-toggleable__label-arrow:before {content: \"▸\";float: left;margin-right: 0.25em;color: #696969;}#sk-container-id-1 label.sk-toggleable__label-arrow:hover:before {color: black;}#sk-container-id-1 div.sk-estimator:hover label.sk-toggleable__label-arrow:before {color: black;}#sk-container-id-1 div.sk-toggleable__content {max-height: 0;max-width: 0;overflow: hidden;text-align: left;background-color: #f0f8ff;}#sk-container-id-1 div.sk-toggleable__content pre {margin: 0.2em;color: black;border-radius: 0.25em;background-color: #f0f8ff;}#sk-container-id-1 input.sk-toggleable__control:checked~div.sk-toggleable__content {max-height: 200px;max-width: 100%;overflow: auto;}#sk-container-id-1 input.sk-toggleable__control:checked~label.sk-toggleable__label-arrow:before {content: \"▾\";}#sk-container-id-1 div.sk-estimator input.sk-toggleable__control:checked~label.sk-toggleable__label {background-color: #d4ebff;}#sk-container-id-1 div.sk-label input.sk-toggleable__control:checked~label.sk-toggleable__label {background-color: #d4ebff;}#sk-container-id-1 input.sk-hidden--visually {border: 0;clip: rect(1px 1px 1px 1px);clip: rect(1px, 1px, 1px, 1px);height: 1px;margin: -1px;overflow: hidden;padding: 0;position: absolute;width: 1px;}#sk-container-id-1 div.sk-estimator {font-family: monospace;background-color: #f0f8ff;border: 1px dotted black;border-radius: 0.25em;box-sizing: border-box;margin-bottom: 0.5em;}#sk-container-id-1 div.sk-estimator:hover {background-color: #d4ebff;}#sk-container-id-1 div.sk-parallel-item::after {content: \"\";width: 100%;border-bottom: 1px solid gray;flex-grow: 1;}#sk-container-id-1 div.sk-label:hover label.sk-toggleable__label {background-color: #d4ebff;}#sk-container-id-1 div.sk-serial::before {content: \"\";position: absolute;border-left: 1px solid gray;box-sizing: border-box;top: 0;bottom: 0;left: 50%;z-index: 0;}#sk-container-id-1 div.sk-serial {display: flex;flex-direction: column;align-items: center;background-color: white;padding-right: 0.2em;padding-left: 0.2em;position: relative;}#sk-container-id-1 div.sk-item {position: relative;z-index: 1;}#sk-container-id-1 div.sk-parallel {display: flex;align-items: stretch;justify-content: center;background-color: white;position: relative;}#sk-container-id-1 div.sk-item::before, #sk-container-id-1 div.sk-parallel-item::before {content: \"\";position: absolute;border-left: 1px solid gray;box-sizing: border-box;top: 0;bottom: 0;left: 50%;z-index: -1;}#sk-container-id-1 div.sk-parallel-item {display: flex;flex-direction: column;z-index: 1;position: relative;background-color: white;}#sk-container-id-1 div.sk-parallel-item:first-child::after {align-self: flex-end;width: 50%;}#sk-container-id-1 div.sk-parallel-item:last-child::after {align-self: flex-start;width: 50%;}#sk-container-id-1 div.sk-parallel-item:only-child::after {width: 0;}#sk-container-id-1 div.sk-dashed-wrapped {border: 1px dashed gray;margin: 0 0.4em 0.5em 0.4em;box-sizing: border-box;padding-bottom: 0.4em;background-color: white;}#sk-container-id-1 div.sk-label label {font-family: monospace;font-weight: bold;display: inline-block;line-height: 1.2em;}#sk-container-id-1 div.sk-label-container {text-align: center;}#sk-container-id-1 div.sk-container {/* jupyter's `normalize.less` sets `[hidden] { display: none; }` but bootstrap.min.css set `[hidden] { display: none !important; }` so we also need the `!important` here to be able to override the default hidden behavior on the sphinx rendered scikit-learn.org. See: https://github.com/scikit-learn/scikit-learn/issues/21755 */display: inline-block !important;position: relative;}#sk-container-id-1 div.sk-text-repr-fallback {display: none;}</style><div id=\"sk-container-id-1\" class=\"sk-top-container\"><div class=\"sk-text-repr-fallback\"><pre>Pipeline(steps=[(&#x27;preprocess&#x27;,\n",
       "                 ColumnTransformer(remainder=&#x27;passthrough&#x27;,\n",
       "                                   transformers=[(&#x27;ordinalencoder&#x27;,\n",
       "                                                  OrdinalEncoder(handle_unknown=&#x27;use_encoded_value&#x27;,\n",
       "                                                                 unknown_value=nan),\n",
       "                                                  array([&#x27;VehicleType&#x27;, &#x27;Gearbox&#x27;, &#x27;Model&#x27;, &#x27;FuelType&#x27;, &#x27;Brand&#x27;, &#x27;Repaired&#x27;],\n",
       "      dtype=object))])),\n",
       "                (&#x27;imputer&#x27;, SimpleImputer(strategy=&#x27;most_frequent&#x27;)),\n",
       "                (&#x27;tree_model&#x27;, DecisionTreeRegressor(random_state=42))])</pre><b>In a Jupyter environment, please rerun this cell to show the HTML representation or trust the notebook. <br />On GitHub, the HTML representation is unable to render, please try loading this page with nbviewer.org.</b></div><div class=\"sk-container\" hidden><div class=\"sk-item sk-dashed-wrapped\"><div class=\"sk-label-container\"><div class=\"sk-label sk-toggleable\"><input class=\"sk-toggleable__control sk-hidden--visually\" id=\"sk-estimator-id-1\" type=\"checkbox\" ><label for=\"sk-estimator-id-1\" class=\"sk-toggleable__label sk-toggleable__label-arrow\">Pipeline</label><div class=\"sk-toggleable__content\"><pre>Pipeline(steps=[(&#x27;preprocess&#x27;,\n",
       "                 ColumnTransformer(remainder=&#x27;passthrough&#x27;,\n",
       "                                   transformers=[(&#x27;ordinalencoder&#x27;,\n",
       "                                                  OrdinalEncoder(handle_unknown=&#x27;use_encoded_value&#x27;,\n",
       "                                                                 unknown_value=nan),\n",
       "                                                  array([&#x27;VehicleType&#x27;, &#x27;Gearbox&#x27;, &#x27;Model&#x27;, &#x27;FuelType&#x27;, &#x27;Brand&#x27;, &#x27;Repaired&#x27;],\n",
       "      dtype=object))])),\n",
       "                (&#x27;imputer&#x27;, SimpleImputer(strategy=&#x27;most_frequent&#x27;)),\n",
       "                (&#x27;tree_model&#x27;, DecisionTreeRegressor(random_state=42))])</pre></div></div></div><div class=\"sk-serial\"><div class=\"sk-item sk-dashed-wrapped\"><div class=\"sk-label-container\"><div class=\"sk-label sk-toggleable\"><input class=\"sk-toggleable__control sk-hidden--visually\" id=\"sk-estimator-id-2\" type=\"checkbox\" ><label for=\"sk-estimator-id-2\" class=\"sk-toggleable__label sk-toggleable__label-arrow\">preprocess: ColumnTransformer</label><div class=\"sk-toggleable__content\"><pre>ColumnTransformer(remainder=&#x27;passthrough&#x27;,\n",
       "                  transformers=[(&#x27;ordinalencoder&#x27;,\n",
       "                                 OrdinalEncoder(handle_unknown=&#x27;use_encoded_value&#x27;,\n",
       "                                                unknown_value=nan),\n",
       "                                 array([&#x27;VehicleType&#x27;, &#x27;Gearbox&#x27;, &#x27;Model&#x27;, &#x27;FuelType&#x27;, &#x27;Brand&#x27;, &#x27;Repaired&#x27;],\n",
       "      dtype=object))])</pre></div></div></div><div class=\"sk-parallel\"><div class=\"sk-parallel-item\"><div class=\"sk-item\"><div class=\"sk-label-container\"><div class=\"sk-label sk-toggleable\"><input class=\"sk-toggleable__control sk-hidden--visually\" id=\"sk-estimator-id-3\" type=\"checkbox\" ><label for=\"sk-estimator-id-3\" class=\"sk-toggleable__label sk-toggleable__label-arrow\">ordinalencoder</label><div class=\"sk-toggleable__content\"><pre>[&#x27;VehicleType&#x27; &#x27;Gearbox&#x27; &#x27;Model&#x27; &#x27;FuelType&#x27; &#x27;Brand&#x27; &#x27;Repaired&#x27;]</pre></div></div></div><div class=\"sk-serial\"><div class=\"sk-item\"><div class=\"sk-estimator sk-toggleable\"><input class=\"sk-toggleable__control sk-hidden--visually\" id=\"sk-estimator-id-4\" type=\"checkbox\" ><label for=\"sk-estimator-id-4\" class=\"sk-toggleable__label sk-toggleable__label-arrow\">OrdinalEncoder</label><div class=\"sk-toggleable__content\"><pre>OrdinalEncoder(handle_unknown=&#x27;use_encoded_value&#x27;, unknown_value=nan)</pre></div></div></div></div></div></div><div class=\"sk-parallel-item\"><div class=\"sk-item\"><div class=\"sk-label-container\"><div class=\"sk-label sk-toggleable\"><input class=\"sk-toggleable__control sk-hidden--visually\" id=\"sk-estimator-id-5\" type=\"checkbox\" ><label for=\"sk-estimator-id-5\" class=\"sk-toggleable__label sk-toggleable__label-arrow\">remainder</label><div class=\"sk-toggleable__content\"><pre>[&#x27;RegistrationYear&#x27;, &#x27;Power&#x27;, &#x27;Kilometer&#x27;, &#x27;RegistrationMonth&#x27;]</pre></div></div></div><div class=\"sk-serial\"><div class=\"sk-item\"><div class=\"sk-estimator sk-toggleable\"><input class=\"sk-toggleable__control sk-hidden--visually\" id=\"sk-estimator-id-6\" type=\"checkbox\" ><label for=\"sk-estimator-id-6\" class=\"sk-toggleable__label sk-toggleable__label-arrow\">passthrough</label><div class=\"sk-toggleable__content\"><pre>passthrough</pre></div></div></div></div></div></div></div></div><div class=\"sk-item\"><div class=\"sk-estimator sk-toggleable\"><input class=\"sk-toggleable__control sk-hidden--visually\" id=\"sk-estimator-id-7\" type=\"checkbox\" ><label for=\"sk-estimator-id-7\" class=\"sk-toggleable__label sk-toggleable__label-arrow\">SimpleImputer</label><div class=\"sk-toggleable__content\"><pre>SimpleImputer(strategy=&#x27;most_frequent&#x27;)</pre></div></div></div><div class=\"sk-item\"><div class=\"sk-estimator sk-toggleable\"><input class=\"sk-toggleable__control sk-hidden--visually\" id=\"sk-estimator-id-8\" type=\"checkbox\" ><label for=\"sk-estimator-id-8\" class=\"sk-toggleable__label sk-toggleable__label-arrow\">DecisionTreeRegressor</label><div class=\"sk-toggleable__content\"><pre>DecisionTreeRegressor(random_state=42)</pre></div></div></div></div></div></div></div>"
      ],
      "text/plain": [
       "Pipeline(steps=[('preprocess',\n",
       "                 ColumnTransformer(remainder='passthrough',\n",
       "                                   transformers=[('ordinalencoder',\n",
       "                                                  OrdinalEncoder(handle_unknown='use_encoded_value',\n",
       "                                                                 unknown_value=nan),\n",
       "                                                  array(['VehicleType', 'Gearbox', 'Model', 'FuelType', 'Brand', 'Repaired'],\n",
       "      dtype=object))])),\n",
       "                ('imputer', SimpleImputer(strategy='most_frequent')),\n",
       "                ('tree_model', DecisionTreeRegressor(random_state=42))])"
      ]
     },
     "execution_count": 89,
     "metadata": {},
     "output_type": "execute_result"
    }
   ],
   "source": [
    "%%time\n",
    "pipe_tree.fit(features_train, target_train)"
   ]
  },
  {
   "cell_type": "code",
   "execution_count": 90,
   "metadata": {},
   "outputs": [
    {
     "name": "stdout",
     "output_type": "stream",
     "text": [
      "RMSE: 2128.022395057472\n"
     ]
    }
   ],
   "source": [
    "tree_rmse = np.mean(-cross_val_score(pipe_tree, features_train, target_train, cv=5, scoring='neg_root_mean_squared_error'))\n",
    "print('RMSE:', tree_rmse)"
   ]
  },
  {
   "cell_type": "markdown",
   "metadata": {},
   "source": [
    "Let's search for the best parameters, including max depth of the tree."
   ]
  },
  {
   "cell_type": "code",
   "execution_count": 91,
   "metadata": {},
   "outputs": [],
   "source": [
    "max_depth = [int(x) for x in np.linspace(10, 150, num = 20)]\n",
    "max_depth.append(None)\n",
    "min_samples_split = [2, 5, 10]\n",
    "min_samples_leaf = [1, 2, 4]\n",
    "\n",
    "tree_params = {\n",
    "    'tree_model__max_depth': max_depth,\n",
    "    'tree_model__min_samples_split': min_samples_split,\n",
    "    'tree_model__min_samples_leaf': min_samples_leaf,\n",
    "}"
   ]
  },
  {
   "cell_type": "code",
   "execution_count": 92,
   "metadata": {},
   "outputs": [],
   "source": [
    "tree_random = RandomizedSearchCV(estimator=pipe_tree, param_distributions=tree_params, \n",
    "                                 scoring='neg_root_mean_squared_error', n_iter=10, cv=3, verbose=2, random_state=42)"
   ]
  },
  {
   "cell_type": "code",
   "execution_count": 93,
   "metadata": {
    "collapsed": true,
    "jupyter": {
     "outputs_hidden": true
    },
    "tags": []
   },
   "outputs": [
    {
     "name": "stdout",
     "output_type": "stream",
     "text": [
      "Fitting 3 folds for each of 10 candidates, totalling 30 fits\n",
      "[CV] END tree_model__max_depth=None, tree_model__min_samples_leaf=2, tree_model__min_samples_split=5; total time=   1.0s\n",
      "[CV] END tree_model__max_depth=None, tree_model__min_samples_leaf=2, tree_model__min_samples_split=5; total time=   1.0s\n",
      "[CV] END tree_model__max_depth=None, tree_model__min_samples_leaf=2, tree_model__min_samples_split=5; total time=   1.0s\n",
      "[CV] END tree_model__max_depth=142, tree_model__min_samples_leaf=1, tree_model__min_samples_split=5; total time=   1.1s\n",
      "[CV] END tree_model__max_depth=142, tree_model__min_samples_leaf=1, tree_model__min_samples_split=5; total time=   1.1s\n",
      "[CV] END tree_model__max_depth=142, tree_model__min_samples_leaf=1, tree_model__min_samples_split=5; total time=   1.1s\n",
      "[CV] END tree_model__max_depth=24, tree_model__min_samples_leaf=1, tree_model__min_samples_split=2; total time=   1.1s\n",
      "[CV] END tree_model__max_depth=24, tree_model__min_samples_leaf=1, tree_model__min_samples_split=2; total time=   1.1s\n",
      "[CV] END tree_model__max_depth=24, tree_model__min_samples_leaf=1, tree_model__min_samples_split=2; total time=   1.1s\n",
      "[CV] END tree_model__max_depth=17, tree_model__min_samples_leaf=4, tree_model__min_samples_split=2; total time=   0.9s\n",
      "[CV] END tree_model__max_depth=17, tree_model__min_samples_leaf=4, tree_model__min_samples_split=2; total time=   0.9s\n",
      "[CV] END tree_model__max_depth=17, tree_model__min_samples_leaf=4, tree_model__min_samples_split=2; total time=   0.9s\n",
      "[CV] END tree_model__max_depth=61, tree_model__min_samples_leaf=2, tree_model__min_samples_split=5; total time=   1.0s\n",
      "[CV] END tree_model__max_depth=61, tree_model__min_samples_leaf=2, tree_model__min_samples_split=5; total time=   1.0s\n",
      "[CV] END tree_model__max_depth=61, tree_model__min_samples_leaf=2, tree_model__min_samples_split=5; total time=   1.0s\n",
      "[CV] END tree_model__max_depth=98, tree_model__min_samples_leaf=1, tree_model__min_samples_split=2; total time=   1.1s\n",
      "[CV] END tree_model__max_depth=98, tree_model__min_samples_leaf=1, tree_model__min_samples_split=2; total time=   1.1s\n",
      "[CV] END tree_model__max_depth=98, tree_model__min_samples_leaf=1, tree_model__min_samples_split=2; total time=   1.1s\n",
      "[CV] END tree_model__max_depth=46, tree_model__min_samples_leaf=1, tree_model__min_samples_split=2; total time=   1.1s\n",
      "[CV] END tree_model__max_depth=46, tree_model__min_samples_leaf=1, tree_model__min_samples_split=2; total time=   1.2s\n",
      "[CV] END tree_model__max_depth=46, tree_model__min_samples_leaf=1, tree_model__min_samples_split=2; total time=   1.1s\n",
      "[CV] END tree_model__max_depth=68, tree_model__min_samples_leaf=2, tree_model__min_samples_split=5; total time=   1.0s\n",
      "[CV] END tree_model__max_depth=68, tree_model__min_samples_leaf=2, tree_model__min_samples_split=5; total time=   1.0s\n",
      "[CV] END tree_model__max_depth=68, tree_model__min_samples_leaf=2, tree_model__min_samples_split=5; total time=   1.0s\n",
      "[CV] END tree_model__max_depth=17, tree_model__min_samples_leaf=4, tree_model__min_samples_split=5; total time=   0.9s\n",
      "[CV] END tree_model__max_depth=17, tree_model__min_samples_leaf=4, tree_model__min_samples_split=5; total time=   0.9s\n",
      "[CV] END tree_model__max_depth=17, tree_model__min_samples_leaf=4, tree_model__min_samples_split=5; total time=   0.9s\n",
      "[CV] END tree_model__max_depth=113, tree_model__min_samples_leaf=4, tree_model__min_samples_split=2; total time=   1.0s\n",
      "[CV] END tree_model__max_depth=113, tree_model__min_samples_leaf=4, tree_model__min_samples_split=2; total time=   1.0s\n",
      "[CV] END tree_model__max_depth=113, tree_model__min_samples_leaf=4, tree_model__min_samples_split=2; total time=   1.0s\n"
     ]
    }
   ],
   "source": [
    "start_time = time.time()\n",
    "tree_random.fit(features_train, target_train)\n",
    "time_grid_tree = time.time() - start_time"
   ]
  },
  {
   "cell_type": "code",
   "execution_count": 101,
   "metadata": {},
   "outputs": [
    {
     "name": "stdout",
     "output_type": "stream",
     "text": [
      "RandomizedSearchCV time: 32.17938995361328\n"
     ]
    }
   ],
   "source": [
    "print('RandomizedSearchCV time:', time_grid_tree)"
   ]
  },
  {
   "cell_type": "code",
   "execution_count": 95,
   "metadata": {},
   "outputs": [
    {
     "name": "stdout",
     "output_type": "stream",
     "text": [
      "Fitting time of the best model: 0.7800846099853516\n"
     ]
    }
   ],
   "source": [
    "time_fit_tree = tree_random.cv_results_['mean_fit_time'][tree_random.best_index_]\n",
    "print('Fitting time of the best model:', time_fit_tree)"
   ]
  },
  {
   "cell_type": "code",
   "execution_count": 96,
   "metadata": {},
   "outputs": [],
   "source": [
    "start_time = time.time()\n",
    "pred_tree = tree_random.predict(features_train)\n",
    "time_pred_tree = time.time() - start_time"
   ]
  },
  {
   "cell_type": "code",
   "execution_count": 97,
   "metadata": {},
   "outputs": [
    {
     "data": {
      "text/plain": [
       "{'tree_model__min_samples_split': 2,\n",
       " 'tree_model__min_samples_leaf': 4,\n",
       " 'tree_model__max_depth': 17}"
      ]
     },
     "metadata": {},
     "output_type": "display_data"
    }
   ],
   "source": [
    "display(tree_random.best_params_)"
   ]
  },
  {
   "cell_type": "code",
   "execution_count": 98,
   "metadata": {},
   "outputs": [
    {
     "name": "stdout",
     "output_type": "stream",
     "text": [
      "RMSE: 1828.8394636934397\n"
     ]
    }
   ],
   "source": [
    "tree_rmse = np.mean(-cross_val_score(tree_random.best_estimator_, features_train, target_train, \n",
    "                                     cv=5, scoring='neg_root_mean_squared_error'))\n",
    "print('RMSE:', tree_rmse)"
   ]
  },
  {
   "cell_type": "markdown",
   "metadata": {},
   "source": [
    "RMSE for Decision Tree Regressor is lower than RMSE for Linear Regression."
   ]
  },
  {
   "cell_type": "markdown",
   "metadata": {},
   "source": [
    "#### Random Forest Regressor"
   ]
  },
  {
   "cell_type": "markdown",
   "metadata": {},
   "source": [
    "The approximate fitting time of Random Forest Regressor is ~1 minute."
   ]
  },
  {
   "cell_type": "code",
   "execution_count": 99,
   "metadata": {},
   "outputs": [],
   "source": [
    "pipe_forest = Pipeline([('preprocess', transformer_trees),\n",
    "                        ('imputer', SimpleImputer(strategy='most_frequent')),\n",
    "                        ('forest_model', RandomForestRegressor(random_state=42))])"
   ]
  },
  {
   "cell_type": "code",
   "execution_count": 100,
   "metadata": {},
   "outputs": [
    {
     "name": "stdout",
     "output_type": "stream",
     "text": [
      "CPU times: user 1min 6s, sys: 1.26 s, total: 1min 7s\n",
      "Wall time: 1min 7s\n"
     ]
    },
    {
     "data": {
      "text/html": [
       "<style>#sk-container-id-2 {color: black;background-color: white;}#sk-container-id-2 pre{padding: 0;}#sk-container-id-2 div.sk-toggleable {background-color: white;}#sk-container-id-2 label.sk-toggleable__label {cursor: pointer;display: block;width: 100%;margin-bottom: 0;padding: 0.3em;box-sizing: border-box;text-align: center;}#sk-container-id-2 label.sk-toggleable__label-arrow:before {content: \"▸\";float: left;margin-right: 0.25em;color: #696969;}#sk-container-id-2 label.sk-toggleable__label-arrow:hover:before {color: black;}#sk-container-id-2 div.sk-estimator:hover label.sk-toggleable__label-arrow:before {color: black;}#sk-container-id-2 div.sk-toggleable__content {max-height: 0;max-width: 0;overflow: hidden;text-align: left;background-color: #f0f8ff;}#sk-container-id-2 div.sk-toggleable__content pre {margin: 0.2em;color: black;border-radius: 0.25em;background-color: #f0f8ff;}#sk-container-id-2 input.sk-toggleable__control:checked~div.sk-toggleable__content {max-height: 200px;max-width: 100%;overflow: auto;}#sk-container-id-2 input.sk-toggleable__control:checked~label.sk-toggleable__label-arrow:before {content: \"▾\";}#sk-container-id-2 div.sk-estimator input.sk-toggleable__control:checked~label.sk-toggleable__label {background-color: #d4ebff;}#sk-container-id-2 div.sk-label input.sk-toggleable__control:checked~label.sk-toggleable__label {background-color: #d4ebff;}#sk-container-id-2 input.sk-hidden--visually {border: 0;clip: rect(1px 1px 1px 1px);clip: rect(1px, 1px, 1px, 1px);height: 1px;margin: -1px;overflow: hidden;padding: 0;position: absolute;width: 1px;}#sk-container-id-2 div.sk-estimator {font-family: monospace;background-color: #f0f8ff;border: 1px dotted black;border-radius: 0.25em;box-sizing: border-box;margin-bottom: 0.5em;}#sk-container-id-2 div.sk-estimator:hover {background-color: #d4ebff;}#sk-container-id-2 div.sk-parallel-item::after {content: \"\";width: 100%;border-bottom: 1px solid gray;flex-grow: 1;}#sk-container-id-2 div.sk-label:hover label.sk-toggleable__label {background-color: #d4ebff;}#sk-container-id-2 div.sk-serial::before {content: \"\";position: absolute;border-left: 1px solid gray;box-sizing: border-box;top: 0;bottom: 0;left: 50%;z-index: 0;}#sk-container-id-2 div.sk-serial {display: flex;flex-direction: column;align-items: center;background-color: white;padding-right: 0.2em;padding-left: 0.2em;position: relative;}#sk-container-id-2 div.sk-item {position: relative;z-index: 1;}#sk-container-id-2 div.sk-parallel {display: flex;align-items: stretch;justify-content: center;background-color: white;position: relative;}#sk-container-id-2 div.sk-item::before, #sk-container-id-2 div.sk-parallel-item::before {content: \"\";position: absolute;border-left: 1px solid gray;box-sizing: border-box;top: 0;bottom: 0;left: 50%;z-index: -1;}#sk-container-id-2 div.sk-parallel-item {display: flex;flex-direction: column;z-index: 1;position: relative;background-color: white;}#sk-container-id-2 div.sk-parallel-item:first-child::after {align-self: flex-end;width: 50%;}#sk-container-id-2 div.sk-parallel-item:last-child::after {align-self: flex-start;width: 50%;}#sk-container-id-2 div.sk-parallel-item:only-child::after {width: 0;}#sk-container-id-2 div.sk-dashed-wrapped {border: 1px dashed gray;margin: 0 0.4em 0.5em 0.4em;box-sizing: border-box;padding-bottom: 0.4em;background-color: white;}#sk-container-id-2 div.sk-label label {font-family: monospace;font-weight: bold;display: inline-block;line-height: 1.2em;}#sk-container-id-2 div.sk-label-container {text-align: center;}#sk-container-id-2 div.sk-container {/* jupyter's `normalize.less` sets `[hidden] { display: none; }` but bootstrap.min.css set `[hidden] { display: none !important; }` so we also need the `!important` here to be able to override the default hidden behavior on the sphinx rendered scikit-learn.org. See: https://github.com/scikit-learn/scikit-learn/issues/21755 */display: inline-block !important;position: relative;}#sk-container-id-2 div.sk-text-repr-fallback {display: none;}</style><div id=\"sk-container-id-2\" class=\"sk-top-container\"><div class=\"sk-text-repr-fallback\"><pre>Pipeline(steps=[(&#x27;preprocess&#x27;,\n",
       "                 ColumnTransformer(remainder=&#x27;passthrough&#x27;,\n",
       "                                   transformers=[(&#x27;ordinalencoder&#x27;,\n",
       "                                                  OrdinalEncoder(handle_unknown=&#x27;use_encoded_value&#x27;,\n",
       "                                                                 unknown_value=nan),\n",
       "                                                  array([&#x27;VehicleType&#x27;, &#x27;Gearbox&#x27;, &#x27;Model&#x27;, &#x27;FuelType&#x27;, &#x27;Brand&#x27;, &#x27;Repaired&#x27;],\n",
       "      dtype=object))])),\n",
       "                (&#x27;imputer&#x27;, SimpleImputer(strategy=&#x27;most_frequent&#x27;)),\n",
       "                (&#x27;forest_model&#x27;, RandomForestRegressor(random_state=42))])</pre><b>In a Jupyter environment, please rerun this cell to show the HTML representation or trust the notebook. <br />On GitHub, the HTML representation is unable to render, please try loading this page with nbviewer.org.</b></div><div class=\"sk-container\" hidden><div class=\"sk-item sk-dashed-wrapped\"><div class=\"sk-label-container\"><div class=\"sk-label sk-toggleable\"><input class=\"sk-toggleable__control sk-hidden--visually\" id=\"sk-estimator-id-9\" type=\"checkbox\" ><label for=\"sk-estimator-id-9\" class=\"sk-toggleable__label sk-toggleable__label-arrow\">Pipeline</label><div class=\"sk-toggleable__content\"><pre>Pipeline(steps=[(&#x27;preprocess&#x27;,\n",
       "                 ColumnTransformer(remainder=&#x27;passthrough&#x27;,\n",
       "                                   transformers=[(&#x27;ordinalencoder&#x27;,\n",
       "                                                  OrdinalEncoder(handle_unknown=&#x27;use_encoded_value&#x27;,\n",
       "                                                                 unknown_value=nan),\n",
       "                                                  array([&#x27;VehicleType&#x27;, &#x27;Gearbox&#x27;, &#x27;Model&#x27;, &#x27;FuelType&#x27;, &#x27;Brand&#x27;, &#x27;Repaired&#x27;],\n",
       "      dtype=object))])),\n",
       "                (&#x27;imputer&#x27;, SimpleImputer(strategy=&#x27;most_frequent&#x27;)),\n",
       "                (&#x27;forest_model&#x27;, RandomForestRegressor(random_state=42))])</pre></div></div></div><div class=\"sk-serial\"><div class=\"sk-item sk-dashed-wrapped\"><div class=\"sk-label-container\"><div class=\"sk-label sk-toggleable\"><input class=\"sk-toggleable__control sk-hidden--visually\" id=\"sk-estimator-id-10\" type=\"checkbox\" ><label for=\"sk-estimator-id-10\" class=\"sk-toggleable__label sk-toggleable__label-arrow\">preprocess: ColumnTransformer</label><div class=\"sk-toggleable__content\"><pre>ColumnTransformer(remainder=&#x27;passthrough&#x27;,\n",
       "                  transformers=[(&#x27;ordinalencoder&#x27;,\n",
       "                                 OrdinalEncoder(handle_unknown=&#x27;use_encoded_value&#x27;,\n",
       "                                                unknown_value=nan),\n",
       "                                 array([&#x27;VehicleType&#x27;, &#x27;Gearbox&#x27;, &#x27;Model&#x27;, &#x27;FuelType&#x27;, &#x27;Brand&#x27;, &#x27;Repaired&#x27;],\n",
       "      dtype=object))])</pre></div></div></div><div class=\"sk-parallel\"><div class=\"sk-parallel-item\"><div class=\"sk-item\"><div class=\"sk-label-container\"><div class=\"sk-label sk-toggleable\"><input class=\"sk-toggleable__control sk-hidden--visually\" id=\"sk-estimator-id-11\" type=\"checkbox\" ><label for=\"sk-estimator-id-11\" class=\"sk-toggleable__label sk-toggleable__label-arrow\">ordinalencoder</label><div class=\"sk-toggleable__content\"><pre>[&#x27;VehicleType&#x27; &#x27;Gearbox&#x27; &#x27;Model&#x27; &#x27;FuelType&#x27; &#x27;Brand&#x27; &#x27;Repaired&#x27;]</pre></div></div></div><div class=\"sk-serial\"><div class=\"sk-item\"><div class=\"sk-estimator sk-toggleable\"><input class=\"sk-toggleable__control sk-hidden--visually\" id=\"sk-estimator-id-12\" type=\"checkbox\" ><label for=\"sk-estimator-id-12\" class=\"sk-toggleable__label sk-toggleable__label-arrow\">OrdinalEncoder</label><div class=\"sk-toggleable__content\"><pre>OrdinalEncoder(handle_unknown=&#x27;use_encoded_value&#x27;, unknown_value=nan)</pre></div></div></div></div></div></div><div class=\"sk-parallel-item\"><div class=\"sk-item\"><div class=\"sk-label-container\"><div class=\"sk-label sk-toggleable\"><input class=\"sk-toggleable__control sk-hidden--visually\" id=\"sk-estimator-id-13\" type=\"checkbox\" ><label for=\"sk-estimator-id-13\" class=\"sk-toggleable__label sk-toggleable__label-arrow\">remainder</label><div class=\"sk-toggleable__content\"><pre>[&#x27;RegistrationYear&#x27;, &#x27;Power&#x27;, &#x27;Kilometer&#x27;, &#x27;RegistrationMonth&#x27;]</pre></div></div></div><div class=\"sk-serial\"><div class=\"sk-item\"><div class=\"sk-estimator sk-toggleable\"><input class=\"sk-toggleable__control sk-hidden--visually\" id=\"sk-estimator-id-14\" type=\"checkbox\" ><label for=\"sk-estimator-id-14\" class=\"sk-toggleable__label sk-toggleable__label-arrow\">passthrough</label><div class=\"sk-toggleable__content\"><pre>passthrough</pre></div></div></div></div></div></div></div></div><div class=\"sk-item\"><div class=\"sk-estimator sk-toggleable\"><input class=\"sk-toggleable__control sk-hidden--visually\" id=\"sk-estimator-id-15\" type=\"checkbox\" ><label for=\"sk-estimator-id-15\" class=\"sk-toggleable__label sk-toggleable__label-arrow\">SimpleImputer</label><div class=\"sk-toggleable__content\"><pre>SimpleImputer(strategy=&#x27;most_frequent&#x27;)</pre></div></div></div><div class=\"sk-item\"><div class=\"sk-estimator sk-toggleable\"><input class=\"sk-toggleable__control sk-hidden--visually\" id=\"sk-estimator-id-16\" type=\"checkbox\" ><label for=\"sk-estimator-id-16\" class=\"sk-toggleable__label sk-toggleable__label-arrow\">RandomForestRegressor</label><div class=\"sk-toggleable__content\"><pre>RandomForestRegressor(random_state=42)</pre></div></div></div></div></div></div></div>"
      ],
      "text/plain": [
       "Pipeline(steps=[('preprocess',\n",
       "                 ColumnTransformer(remainder='passthrough',\n",
       "                                   transformers=[('ordinalencoder',\n",
       "                                                  OrdinalEncoder(handle_unknown='use_encoded_value',\n",
       "                                                                 unknown_value=nan),\n",
       "                                                  array(['VehicleType', 'Gearbox', 'Model', 'FuelType', 'Brand', 'Repaired'],\n",
       "      dtype=object))])),\n",
       "                ('imputer', SimpleImputer(strategy='most_frequent')),\n",
       "                ('forest_model', RandomForestRegressor(random_state=42))])"
      ]
     },
     "execution_count": 100,
     "metadata": {},
     "output_type": "execute_result"
    }
   ],
   "source": [
    "%%time\n",
    "pipe_forest.fit(features_train, target_train)"
   ]
  },
  {
   "cell_type": "code",
   "execution_count": 179,
   "metadata": {
    "tags": []
   },
   "outputs": [
    {
     "name": "stdout",
     "output_type": "stream",
     "text": [
      "RMSE: 1648.4637816045633\n"
     ]
    }
   ],
   "source": [
    "forest_rmse = np.mean(-cross_val_score(pipe_forest, features_train, target_train, cv=3, scoring='neg_root_mean_squared_error'))\n",
    "print('RMSE:', forest_rmse)"
   ]
  },
  {
   "cell_type": "markdown",
   "metadata": {},
   "source": [
    "The RMSE score on cross-validation for the model with default parameters is better than that RMSE for Decision Tree Regressor. Let's try to improve results by searching for the best parameters."
   ]
  },
  {
   "cell_type": "code",
   "execution_count": 102,
   "metadata": {},
   "outputs": [],
   "source": [
    "max_depth = [int(x) for x in np.linspace(10, 30, num = 20)]\n",
    "max_depth.append(None)\n",
    "n_estimators = [int(x) for x in np.linspace(10, 50, num = 10)]\n",
    "\n",
    "forest_params = {\n",
    "    'forest_model__max_depth': max_depth,\n",
    "    'forest_model__n_estimators': n_estimators,\n",
    "}"
   ]
  },
  {
   "cell_type": "code",
   "execution_count": 103,
   "metadata": {
    "tags": []
   },
   "outputs": [],
   "source": [
    "forest_random = RandomizedSearchCV(estimator=pipe_forest, param_distributions=forest_params, scoring='neg_root_mean_squared_error', \n",
    "                                   n_iter=5, cv=3, verbose=2, random_state=42)"
   ]
  },
  {
   "cell_type": "code",
   "execution_count": 104,
   "metadata": {
    "collapsed": true,
    "jupyter": {
     "outputs_hidden": true
    },
    "tags": []
   },
   "outputs": [
    {
     "name": "stdout",
     "output_type": "stream",
     "text": [
      "Fitting 3 folds for each of 5 candidates, totalling 15 fits\n",
      "[CV] END forest_model__max_depth=13, forest_model__n_estimators=10; total time=   3.2s\n",
      "[CV] END forest_model__max_depth=13, forest_model__n_estimators=10; total time=   3.2s\n",
      "[CV] END forest_model__max_depth=13, forest_model__n_estimators=10; total time=   3.2s\n",
      "[CV] END forest_model__max_depth=27, forest_model__n_estimators=18; total time=   8.9s\n",
      "[CV] END forest_model__max_depth=27, forest_model__n_estimators=18; total time=   8.9s\n",
      "[CV] END forest_model__max_depth=27, forest_model__n_estimators=18; total time=   8.8s\n",
      "[CV] END forest_model__max_depth=18, forest_model__n_estimators=27; total time=  10.6s\n",
      "[CV] END forest_model__max_depth=18, forest_model__n_estimators=27; total time=  10.4s\n",
      "[CV] END forest_model__max_depth=18, forest_model__n_estimators=27; total time=  10.6s\n",
      "[CV] END forest_model__max_depth=30, forest_model__n_estimators=50; total time=  24.2s\n",
      "[CV] END forest_model__max_depth=30, forest_model__n_estimators=50; total time=  24.4s\n",
      "[CV] END forest_model__max_depth=30, forest_model__n_estimators=50; total time=  24.0s\n",
      "[CV] END forest_model__max_depth=16, forest_model__n_estimators=10; total time=   3.8s\n",
      "[CV] END forest_model__max_depth=16, forest_model__n_estimators=10; total time=   3.8s\n",
      "[CV] END forest_model__max_depth=16, forest_model__n_estimators=10; total time=   3.8s\n"
     ]
    }
   ],
   "source": [
    "start_time = time.time()\n",
    "forest_random.fit(features_train, target_train)\n",
    "time_grid_forest = time.time() - start_time"
   ]
  },
  {
   "cell_type": "code",
   "execution_count": 105,
   "metadata": {},
   "outputs": [
    {
     "name": "stdout",
     "output_type": "stream",
     "text": [
      "Fitting time of the best model: 9.953484217325846\n"
     ]
    }
   ],
   "source": [
    "time_fit_forest = forest_random.cv_results_['mean_fit_time'][forest_random.best_index_]\n",
    "print('Fitting time of the best model:', time_fit_forest)"
   ]
  },
  {
   "cell_type": "code",
   "execution_count": 106,
   "metadata": {},
   "outputs": [],
   "source": [
    "start_time = time.time()\n",
    "pred_forest = forest_random.predict(features_train)\n",
    "time_pred_forest = time.time() - start_time"
   ]
  },
  {
   "cell_type": "code",
   "execution_count": 107,
   "metadata": {},
   "outputs": [
    {
     "data": {
      "text/plain": [
       "{'forest_model__n_estimators': 27, 'forest_model__max_depth': 18}"
      ]
     },
     "metadata": {},
     "output_type": "display_data"
    }
   ],
   "source": [
    "display(forest_random.best_params_)"
   ]
  },
  {
   "cell_type": "code",
   "execution_count": 108,
   "metadata": {},
   "outputs": [
    {
     "name": "stdout",
     "output_type": "stream",
     "text": [
      "RMSE: 1637.7066800868072\n"
     ]
    }
   ],
   "source": [
    "forest_rmse = np.mean(-cross_val_score(forest_random.best_estimator_, features_train, target_train, cv=3, \n",
    "                                       scoring='neg_root_mean_squared_error'))\n",
    "print('RMSE:', forest_rmse)"
   ]
  },
  {
   "cell_type": "markdown",
   "metadata": {},
   "source": [
    "RandomizedSearchCV took more than 2 min. However, we slightly improved the quality of the model."
   ]
  },
  {
   "cell_type": "markdown",
   "metadata": {},
   "source": [
    "#### CatBoost Regressor"
   ]
  },
  {
   "cell_type": "markdown",
   "metadata": {},
   "source": [
    "Let's explore gradient boosting frameworks. The CatBoost model is fitted faster than a Random Forest Regressor - 11-12 seconds. In addition, the RMSE score on cross-validation even for model with default parameters is better than RMSE score for Random Forest Regressor. Grid search for parameters took about 8 minutes and made it possible to further improve the quality of the model. Prediction time is less than a second."
   ]
  },
  {
   "cell_type": "code",
   "execution_count": 109,
   "metadata": {},
   "outputs": [],
   "source": [
    "transformer_cat = make_column_transformer((OrdinalEncoder(dtype='int64'), categorical), remainder='passthrough')\n",
    "fit_features_train = transformer_cat.fit(features_train)\n",
    "transformed_features_train = pd.DataFrame(fit_features_train.transform(features_train), \n",
    "                                          index=features_train.index, \n",
    "                                          columns=fit_features_train.get_feature_names_out())"
   ]
  },
  {
   "cell_type": "code",
   "execution_count": 110,
   "metadata": {},
   "outputs": [],
   "source": [
    "cat_boost = CatBoostRegressor(random_seed=42, loss_function='RMSE', silent=True)"
   ]
  },
  {
   "cell_type": "code",
   "execution_count": 111,
   "metadata": {
    "tags": []
   },
   "outputs": [
    {
     "name": "stdout",
     "output_type": "stream",
     "text": [
      "CPU times: user 52.2 s, sys: 7.4 s, total: 59.6 s\n",
      "Wall time: 11.6 s\n"
     ]
    },
    {
     "data": {
      "text/plain": [
       "<catboost.core.CatBoostRegressor at 0x7fa7736f9700>"
      ]
     },
     "execution_count": 111,
     "metadata": {},
     "output_type": "execute_result"
    }
   ],
   "source": [
    "%%time\n",
    "cat_boost.fit(transformed_features_train, target_train)"
   ]
  },
  {
   "cell_type": "code",
   "execution_count": 112,
   "metadata": {},
   "outputs": [
    {
     "name": "stdout",
     "output_type": "stream",
     "text": [
      "RMSE: 1560.3976099772574\n"
     ]
    }
   ],
   "source": [
    "cat_rmse = np.mean(-cross_val_score(cat_boost, transformed_features_train, target_train, cv=3, \n",
    "                                    scoring='neg_root_mean_squared_error'))\n",
    "print('RMSE:', cat_rmse)"
   ]
  },
  {
   "cell_type": "markdown",
   "metadata": {},
   "source": [
    "Now let's search for the best parameters."
   ]
  },
  {
   "cell_type": "code",
   "execution_count": 113,
   "metadata": {},
   "outputs": [],
   "source": [
    "depth = [4,5,6,7,8,9, 10]\n",
    "learning_rate = [0.03, 0.1]\n",
    "\n",
    "cat_params = {'learning_rate': learning_rate,\n",
    "              'depth':depth,\n",
    "}"
   ]
  },
  {
   "cell_type": "code",
   "execution_count": 114,
   "metadata": {},
   "outputs": [],
   "source": [
    "cat_boost_grid = GridSearchCV(estimator=cat_boost, param_grid=cat_params, \n",
    "                              scoring='neg_root_mean_squared_error', cv=3, verbose=2)"
   ]
  },
  {
   "cell_type": "code",
   "execution_count": 115,
   "metadata": {
    "collapsed": true,
    "jupyter": {
     "outputs_hidden": true
    },
    "tags": []
   },
   "outputs": [
    {
     "name": "stdout",
     "output_type": "stream",
     "text": [
      "Fitting 3 folds for each of 14 candidates, totalling 42 fits\n",
      "[CV] END ........................depth=4, learning_rate=0.03; total time=   7.0s\n",
      "[CV] END ........................depth=4, learning_rate=0.03; total time=   6.8s\n",
      "[CV] END ........................depth=4, learning_rate=0.03; total time=   6.5s\n",
      "[CV] END .........................depth=4, learning_rate=0.1; total time=   7.2s\n",
      "[CV] END .........................depth=4, learning_rate=0.1; total time=   7.5s\n",
      "[CV] END .........................depth=4, learning_rate=0.1; total time=   6.6s\n",
      "[CV] END ........................depth=5, learning_rate=0.03; total time=   7.6s\n",
      "[CV] END ........................depth=5, learning_rate=0.03; total time=   7.8s\n",
      "[CV] END ........................depth=5, learning_rate=0.03; total time=   7.9s\n",
      "[CV] END .........................depth=5, learning_rate=0.1; total time=   8.0s\n",
      "[CV] END .........................depth=5, learning_rate=0.1; total time=   7.6s\n",
      "[CV] END .........................depth=5, learning_rate=0.1; total time=   7.5s\n",
      "[CV] END ........................depth=6, learning_rate=0.03; total time=   8.1s\n",
      "[CV] END ........................depth=6, learning_rate=0.03; total time=   7.9s\n",
      "[CV] END ........................depth=6, learning_rate=0.03; total time=   8.0s\n",
      "[CV] END .........................depth=6, learning_rate=0.1; total time=   8.3s\n",
      "[CV] END .........................depth=6, learning_rate=0.1; total time=   8.2s\n",
      "[CV] END .........................depth=6, learning_rate=0.1; total time=   8.8s\n",
      "[CV] END ........................depth=7, learning_rate=0.03; total time=  10.3s\n",
      "[CV] END ........................depth=7, learning_rate=0.03; total time=  10.6s\n",
      "[CV] END ........................depth=7, learning_rate=0.03; total time=  10.7s\n",
      "[CV] END .........................depth=7, learning_rate=0.1; total time=  10.4s\n",
      "[CV] END .........................depth=7, learning_rate=0.1; total time=   9.6s\n",
      "[CV] END .........................depth=7, learning_rate=0.1; total time=   9.4s\n",
      "[CV] END ........................depth=8, learning_rate=0.03; total time=  11.0s\n",
      "[CV] END ........................depth=8, learning_rate=0.03; total time=  11.0s\n",
      "[CV] END ........................depth=8, learning_rate=0.03; total time=  10.9s\n",
      "[CV] END .........................depth=8, learning_rate=0.1; total time=  10.7s\n",
      "[CV] END .........................depth=8, learning_rate=0.1; total time=  10.3s\n",
      "[CV] END .........................depth=8, learning_rate=0.1; total time=  11.6s\n",
      "[CV] END ........................depth=9, learning_rate=0.03; total time=  14.0s\n",
      "[CV] END ........................depth=9, learning_rate=0.03; total time=  12.9s\n",
      "[CV] END ........................depth=9, learning_rate=0.03; total time=  12.9s\n",
      "[CV] END .........................depth=9, learning_rate=0.1; total time=  13.3s\n",
      "[CV] END .........................depth=9, learning_rate=0.1; total time=  13.1s\n",
      "[CV] END .........................depth=9, learning_rate=0.1; total time=  13.1s\n",
      "[CV] END .......................depth=10, learning_rate=0.03; total time=  17.8s\n",
      "[CV] END .......................depth=10, learning_rate=0.03; total time=  18.6s\n",
      "[CV] END .......................depth=10, learning_rate=0.03; total time=  19.9s\n",
      "[CV] END ........................depth=10, learning_rate=0.1; total time=  19.9s\n",
      "[CV] END ........................depth=10, learning_rate=0.1; total time=  20.0s\n",
      "[CV] END ........................depth=10, learning_rate=0.1; total time=  20.4s\n"
     ]
    }
   ],
   "source": [
    "start_time = time.time()\n",
    "cat_boost_grid.fit(transformed_features_train, target_train)\n",
    "time_grid_cat = time.time() - start_time"
   ]
  },
  {
   "cell_type": "code",
   "execution_count": 116,
   "metadata": {},
   "outputs": [
    {
     "name": "stdout",
     "output_type": "stream",
     "text": [
      "Fitting time of the best model: 20.001863956451416\n"
     ]
    }
   ],
   "source": [
    "time_fit_cat = cat_boost_grid.cv_results_['mean_fit_time'][cat_boost_grid.best_index_]\n",
    "print('Fitting time of the best model:', time_fit_cat)"
   ]
  },
  {
   "cell_type": "code",
   "execution_count": 117,
   "metadata": {},
   "outputs": [
    {
     "data": {
      "text/plain": [
       "{'depth': 10, 'learning_rate': 0.1}"
      ]
     },
     "metadata": {},
     "output_type": "display_data"
    }
   ],
   "source": [
    "display(cat_boost_grid.best_params_)"
   ]
  },
  {
   "cell_type": "code",
   "execution_count": 118,
   "metadata": {},
   "outputs": [],
   "source": [
    "start_time = time.time()\n",
    "pred_cat = cat_boost_grid.predict(transformed_features_train)\n",
    "time_pred_cat = time.time() - start_time"
   ]
  },
  {
   "cell_type": "code",
   "execution_count": 119,
   "metadata": {},
   "outputs": [
    {
     "name": "stdout",
     "output_type": "stream",
     "text": [
      "RMSE: 1521.1866461543884\n"
     ]
    }
   ],
   "source": [
    "cat_rmse = np.mean(-cross_val_score(cat_boost_grid.best_estimator_, transformed_features_train, target_train, \n",
    "                                    cv=3, scoring='neg_root_mean_squared_error'))\n",
    "print('RMSE:', cat_rmse)"
   ]
  },
  {
   "cell_type": "markdown",
   "metadata": {},
   "source": [
    "#### LightGBM Regressor"
   ]
  },
  {
   "cell_type": "markdown",
   "metadata": {},
   "source": [
    "This model is good: high fitting rate, high parameter search speed and high prediction speed. The quality of the model (RMSE) is slightly lower than of the CatBoost model."
   ]
  },
  {
   "cell_type": "code",
   "execution_count": 120,
   "metadata": {},
   "outputs": [],
   "source": [
    "features_train[categorical] = features_train[categorical].astype('category')"
   ]
  },
  {
   "cell_type": "code",
   "execution_count": 121,
   "metadata": {},
   "outputs": [],
   "source": [
    "lgbm = LGBMRegressor(random_state=42)"
   ]
  },
  {
   "cell_type": "code",
   "execution_count": 122,
   "metadata": {},
   "outputs": [
    {
     "name": "stdout",
     "output_type": "stream",
     "text": [
      "CPU times: user 4.24 s, sys: 357 ms, total: 4.6 s\n",
      "Wall time: 683 ms\n"
     ]
    },
    {
     "data": {
      "text/html": [
       "<style>#sk-container-id-3 {color: black;background-color: white;}#sk-container-id-3 pre{padding: 0;}#sk-container-id-3 div.sk-toggleable {background-color: white;}#sk-container-id-3 label.sk-toggleable__label {cursor: pointer;display: block;width: 100%;margin-bottom: 0;padding: 0.3em;box-sizing: border-box;text-align: center;}#sk-container-id-3 label.sk-toggleable__label-arrow:before {content: \"▸\";float: left;margin-right: 0.25em;color: #696969;}#sk-container-id-3 label.sk-toggleable__label-arrow:hover:before {color: black;}#sk-container-id-3 div.sk-estimator:hover label.sk-toggleable__label-arrow:before {color: black;}#sk-container-id-3 div.sk-toggleable__content {max-height: 0;max-width: 0;overflow: hidden;text-align: left;background-color: #f0f8ff;}#sk-container-id-3 div.sk-toggleable__content pre {margin: 0.2em;color: black;border-radius: 0.25em;background-color: #f0f8ff;}#sk-container-id-3 input.sk-toggleable__control:checked~div.sk-toggleable__content {max-height: 200px;max-width: 100%;overflow: auto;}#sk-container-id-3 input.sk-toggleable__control:checked~label.sk-toggleable__label-arrow:before {content: \"▾\";}#sk-container-id-3 div.sk-estimator input.sk-toggleable__control:checked~label.sk-toggleable__label {background-color: #d4ebff;}#sk-container-id-3 div.sk-label input.sk-toggleable__control:checked~label.sk-toggleable__label {background-color: #d4ebff;}#sk-container-id-3 input.sk-hidden--visually {border: 0;clip: rect(1px 1px 1px 1px);clip: rect(1px, 1px, 1px, 1px);height: 1px;margin: -1px;overflow: hidden;padding: 0;position: absolute;width: 1px;}#sk-container-id-3 div.sk-estimator {font-family: monospace;background-color: #f0f8ff;border: 1px dotted black;border-radius: 0.25em;box-sizing: border-box;margin-bottom: 0.5em;}#sk-container-id-3 div.sk-estimator:hover {background-color: #d4ebff;}#sk-container-id-3 div.sk-parallel-item::after {content: \"\";width: 100%;border-bottom: 1px solid gray;flex-grow: 1;}#sk-container-id-3 div.sk-label:hover label.sk-toggleable__label {background-color: #d4ebff;}#sk-container-id-3 div.sk-serial::before {content: \"\";position: absolute;border-left: 1px solid gray;box-sizing: border-box;top: 0;bottom: 0;left: 50%;z-index: 0;}#sk-container-id-3 div.sk-serial {display: flex;flex-direction: column;align-items: center;background-color: white;padding-right: 0.2em;padding-left: 0.2em;position: relative;}#sk-container-id-3 div.sk-item {position: relative;z-index: 1;}#sk-container-id-3 div.sk-parallel {display: flex;align-items: stretch;justify-content: center;background-color: white;position: relative;}#sk-container-id-3 div.sk-item::before, #sk-container-id-3 div.sk-parallel-item::before {content: \"\";position: absolute;border-left: 1px solid gray;box-sizing: border-box;top: 0;bottom: 0;left: 50%;z-index: -1;}#sk-container-id-3 div.sk-parallel-item {display: flex;flex-direction: column;z-index: 1;position: relative;background-color: white;}#sk-container-id-3 div.sk-parallel-item:first-child::after {align-self: flex-end;width: 50%;}#sk-container-id-3 div.sk-parallel-item:last-child::after {align-self: flex-start;width: 50%;}#sk-container-id-3 div.sk-parallel-item:only-child::after {width: 0;}#sk-container-id-3 div.sk-dashed-wrapped {border: 1px dashed gray;margin: 0 0.4em 0.5em 0.4em;box-sizing: border-box;padding-bottom: 0.4em;background-color: white;}#sk-container-id-3 div.sk-label label {font-family: monospace;font-weight: bold;display: inline-block;line-height: 1.2em;}#sk-container-id-3 div.sk-label-container {text-align: center;}#sk-container-id-3 div.sk-container {/* jupyter's `normalize.less` sets `[hidden] { display: none; }` but bootstrap.min.css set `[hidden] { display: none !important; }` so we also need the `!important` here to be able to override the default hidden behavior on the sphinx rendered scikit-learn.org. See: https://github.com/scikit-learn/scikit-learn/issues/21755 */display: inline-block !important;position: relative;}#sk-container-id-3 div.sk-text-repr-fallback {display: none;}</style><div id=\"sk-container-id-3\" class=\"sk-top-container\"><div class=\"sk-text-repr-fallback\"><pre>LGBMRegressor(random_state=42)</pre><b>In a Jupyter environment, please rerun this cell to show the HTML representation or trust the notebook. <br />On GitHub, the HTML representation is unable to render, please try loading this page with nbviewer.org.</b></div><div class=\"sk-container\" hidden><div class=\"sk-item\"><div class=\"sk-estimator sk-toggleable\"><input class=\"sk-toggleable__control sk-hidden--visually\" id=\"sk-estimator-id-17\" type=\"checkbox\" checked><label for=\"sk-estimator-id-17\" class=\"sk-toggleable__label sk-toggleable__label-arrow\">LGBMRegressor</label><div class=\"sk-toggleable__content\"><pre>LGBMRegressor(random_state=42)</pre></div></div></div></div></div>"
      ],
      "text/plain": [
       "LGBMRegressor(random_state=42)"
      ]
     },
     "execution_count": 122,
     "metadata": {},
     "output_type": "execute_result"
    }
   ],
   "source": [
    "%%time\n",
    "lgbm.fit(features_train, target_train)"
   ]
  },
  {
   "cell_type": "code",
   "execution_count": 123,
   "metadata": {},
   "outputs": [
    {
     "name": "stdout",
     "output_type": "stream",
     "text": [
      "RMSE: 1568.188196276751\n"
     ]
    }
   ],
   "source": [
    "lgbm_rmse = np.mean(-cross_val_score(lgbm, features_train, target_train, cv=3, scoring='neg_root_mean_squared_error'))\n",
    "print('RMSE:', lgbm_rmse)"
   ]
  },
  {
   "cell_type": "markdown",
   "metadata": {},
   "source": [
    "Качество на кросс-валидации хуже, чем у модели CatBoost. Попробуем подобрать параметры."
   ]
  },
  {
   "cell_type": "code",
   "execution_count": 124,
   "metadata": {},
   "outputs": [],
   "source": [
    "max_depth = [int(x) for x in np.linspace(10, 40, num = 10)]\n",
    "n_estimators = [int(x) for x in np.linspace(100, 300, num = 20)]\n",
    "\n",
    "lgbm_params = {\n",
    "    'max_depth': max_depth,\n",
    "    'n_estimators': n_estimators,\n",
    "}"
   ]
  },
  {
   "cell_type": "code",
   "execution_count": 125,
   "metadata": {},
   "outputs": [],
   "source": [
    "lgbm_random = RandomizedSearchCV(estimator=lgbm, param_distributions=lgbm_params, \n",
    "                                 scoring='neg_root_mean_squared_error', n_iter=10, cv=3, verbose=2, random_state=42)"
   ]
  },
  {
   "cell_type": "code",
   "execution_count": 126,
   "metadata": {
    "collapsed": true,
    "jupyter": {
     "outputs_hidden": true
    },
    "tags": []
   },
   "outputs": [
    {
     "name": "stdout",
     "output_type": "stream",
     "text": [
      "Fitting 3 folds for each of 10 candidates, totalling 30 fits\n",
      "[CV] END .....................max_depth=23, n_estimators=257; total time=   1.4s\n",
      "[CV] END .....................max_depth=23, n_estimators=257; total time=   1.1s\n",
      "[CV] END .....................max_depth=23, n_estimators=257; total time=   1.3s\n",
      "[CV] END .....................max_depth=10, n_estimators=257; total time=   1.5s\n",
      "[CV] END .....................max_depth=10, n_estimators=257; total time=   1.9s\n",
      "[CV] END .....................max_depth=10, n_estimators=257; total time=   1.9s\n",
      "[CV] END .....................max_depth=13, n_estimators=205; total time=   1.3s\n",
      "[CV] END .....................max_depth=13, n_estimators=205; total time=   1.8s\n",
      "[CV] END .....................max_depth=13, n_estimators=205; total time=   1.1s\n",
      "[CV] END .....................max_depth=33, n_estimators=289; total time=   1.6s\n",
      "[CV] END .....................max_depth=33, n_estimators=289; total time=   1.8s\n",
      "[CV] END .....................max_depth=33, n_estimators=289; total time=   1.4s\n",
      "[CV] END .....................max_depth=30, n_estimators=184; total time=   1.2s\n",
      "[CV] END .....................max_depth=30, n_estimators=184; total time=   1.2s\n",
      "[CV] END .....................max_depth=30, n_estimators=184; total time=   1.2s\n",
      "[CV] END .....................max_depth=26, n_estimators=257; total time=   1.5s\n",
      "[CV] END .....................max_depth=26, n_estimators=257; total time=   1.5s\n",
      "[CV] END .....................max_depth=26, n_estimators=257; total time=   1.8s\n",
      "[CV] END .....................max_depth=20, n_estimators=194; total time=   1.1s\n",
      "[CV] END .....................max_depth=20, n_estimators=194; total time=   1.1s\n",
      "[CV] END .....................max_depth=20, n_estimators=194; total time=   1.5s\n",
      "[CV] END .....................max_depth=36, n_estimators=205; total time=   1.5s\n",
      "[CV] END .....................max_depth=36, n_estimators=205; total time=   1.8s\n",
      "[CV] END .....................max_depth=36, n_estimators=205; total time=   1.4s\n",
      "[CV] END .....................max_depth=36, n_estimators=247; total time=   1.7s\n",
      "[CV] END .....................max_depth=36, n_estimators=247; total time=   1.7s\n",
      "[CV] END .....................max_depth=36, n_estimators=247; total time=   1.7s\n",
      "[CV] END .....................max_depth=16, n_estimators=152; total time=   1.0s\n",
      "[CV] END .....................max_depth=16, n_estimators=152; total time=   1.2s\n",
      "[CV] END .....................max_depth=16, n_estimators=152; total time=   1.0s\n"
     ]
    }
   ],
   "source": [
    "start_time = time.time()\n",
    "lgbm_random.fit(features_train, target_train)\n",
    "time_grid_lgbm = time.time() - start_time"
   ]
  },
  {
   "cell_type": "code",
   "execution_count": 127,
   "metadata": {},
   "outputs": [
    {
     "name": "stdout",
     "output_type": "stream",
     "text": [
      "Fitting time of the best model: 1.2422972520192463\n"
     ]
    }
   ],
   "source": [
    "time_fit_lgbm = lgbm_random.cv_results_['mean_fit_time'][lgbm_random.best_index_]\n",
    "print('Fitting time of the best model:', time_fit_lgbm)"
   ]
  },
  {
   "cell_type": "code",
   "execution_count": 128,
   "metadata": {},
   "outputs": [
    {
     "data": {
      "text/plain": [
       "{'n_estimators': 289, 'max_depth': 33}"
      ]
     },
     "metadata": {},
     "output_type": "display_data"
    }
   ],
   "source": [
    "display(lgbm_random.best_params_)"
   ]
  },
  {
   "cell_type": "code",
   "execution_count": 129,
   "metadata": {},
   "outputs": [],
   "source": [
    "start_time = time.time()\n",
    "pred_lbbm = lgbm_random.predict(features_train)\n",
    "time_pred_lgbm = time.time() - start_time"
   ]
  },
  {
   "cell_type": "code",
   "execution_count": 130,
   "metadata": {},
   "outputs": [
    {
     "name": "stdout",
     "output_type": "stream",
     "text": [
      "RMSE: 1532.2182304882626\n"
     ]
    }
   ],
   "source": [
    "lgbm_rmse = np.mean(-cross_val_score(lgbm_random.best_estimator_, features_train, target_train, cv=3, scoring='neg_root_mean_squared_error'))\n",
    "print('RMSE:', lgbm_rmse)"
   ]
  },
  {
   "cell_type": "markdown",
   "metadata": {
    "tags": []
   },
   "source": [
    "## Анализ моделей"
   ]
  },
  {
   "cell_type": "markdown",
   "metadata": {},
   "source": [
    "Now let's compare models using the criteria:\n",
    "\n",
    "- prediction quality (score)\n",
    "- prediction time\n",
    "- fitting time"
   ]
  },
  {
   "cell_type": "code",
   "execution_count": 131,
   "metadata": {},
   "outputs": [
    {
     "name": "stdout",
     "output_type": "stream",
     "text": [
      "RMSE for Dummy model: 4596.91\n",
      "Fitting time 1.11 sec, prediction time 0.91 sec\n"
     ]
    }
   ],
   "source": [
    "print('RMSE for Dummy model:', round(dummy_rmse, 2))\n",
    "print(f'Fitting time {round(time_fit_dummy, 2)} sec, prediction time {round(time_pred_dummy, 2)} sec')"
   ]
  },
  {
   "cell_type": "markdown",
   "metadata": {},
   "source": [
    "All models are better than Dummy model."
   ]
  },
  {
   "cell_type": "code",
   "execution_count": 132,
   "metadata": {},
   "outputs": [
    {
     "name": "stdout",
     "output_type": "stream",
     "text": [
      "RMSE for LightGBM: 1532.22\n",
      "LightGBM Regressor fitting time 1.24 sec, params search time 45.27 sec, prediction time 0.94 sec\n",
      "\n",
      "RMSE for CatBoost: 1521.19\n",
      "CatBoost Regressor fitting time 20.0 sec, params search time 8.11 min, prediction time 0.26 sec\n",
      "\n",
      "RMSE for Random Forest Regressor: 1637.71\n",
      "Random Forest Regresso fitting time 9.95 sec, params search time 2.78 min, prediction time 1.68 sec\n",
      "\n",
      "RMSE for Decision Tree Regressor: 1828.84\n",
      "Decision Tree Regressor fitting time 0.78 sec, params search time 32.18 sec, prediction time 0.36 sec\n",
      "\n",
      "RMSE for Linear Regression: 2560.84\n",
      "Linear Regression fitting time 4.73 sec, prediction time 0.89 sec\n",
      "\n"
     ]
    }
   ],
   "source": [
    "print('RMSE for LightGBM:', round(lgbm_rmse, 2))\n",
    "print(f'LightGBM Regressor fitting time {round(time_fit_lgbm, 2)} sec, params search time {round(time_grid_lgbm, 2)} sec, prediction time {round(time_pred_lgbm, 2)} sec')\n",
    "print()\n",
    "\n",
    "print('RMSE for CatBoost:', round(cat_rmse, 2))\n",
    "print(f'CatBoost Regressor fitting time {round(time_fit_cat, 2)} sec, params search time {round(time_grid_cat/60, 2)} min, prediction time {round(time_pred_cat, 2)} sec')\n",
    "print()\n",
    "\n",
    "print('RMSE for Random Forest Regressor:', round(forest_rmse, 2))\n",
    "print(f'Random Forest Regresso fitting time {round(time_fit_forest, 2)} sec, params search time {round(time_grid_forest/60, 2)} min, prediction time {round(time_pred_forest, 2)} sec')\n",
    "print()\n",
    "\n",
    "print('RMSE for Decision Tree Regressor:', round(tree_rmse, 2))\n",
    "print(f'Decision Tree Regressor fitting time {round(time_fit_tree, 2)} sec, params search time {round(time_grid_tree, 2)} sec, prediction time {round(time_pred_tree, 2)} sec')\n",
    "print()\n",
    "\n",
    "print('RMSE for Linear Regression:', round(lin_rmse, 2))\n",
    "print(f'Linear Regression fitting time {round(time_fit_lin, 2)} sec, prediction time {round(time_pred_lin, 2)} sec')\n",
    "print()"
   ]
  },
  {
   "cell_type": "markdown",
   "metadata": {},
   "source": [
    "Based on the quality of the models on the train sample, the learning rate, the rate of searching for parameters (taking into account the search approach) and the prediction time, we decided to use CatBoost Regressor to predict the price of a car."
   ]
  },
  {
   "cell_type": "code",
   "execution_count": 133,
   "metadata": {},
   "outputs": [],
   "source": [
    "transformed_features_test = transformer_cat.transform(features_test)\n",
    "transformed_features_test = pd.DataFrame(transformed_features_test, \n",
    "                                         index=features_test.index, \n",
    "                                         columns=fit_features_train.get_feature_names_out())"
   ]
  },
  {
   "cell_type": "code",
   "execution_count": 134,
   "metadata": {},
   "outputs": [
    {
     "data": {
      "text/plain": [
       "<catboost.core.CatBoostRegressor at 0x7fa772da75e0>"
      ]
     },
     "execution_count": 134,
     "metadata": {},
     "output_type": "execute_result"
    }
   ],
   "source": [
    "params = cat_boost_grid.best_params_\n",
    "final_model = CatBoostRegressor(random_seed=42, loss_function='RMSE', silent=True).set_params(**params)\n",
    "final_model.fit(transformed_features_train, target_train)"
   ]
  },
  {
   "cell_type": "code",
   "execution_count": 135,
   "metadata": {},
   "outputs": [
    {
     "name": "stdout",
     "output_type": "stream",
     "text": [
      "RMSE fir CatBoost on test sample: 1523.9624970908887\n"
     ]
    }
   ],
   "source": [
    "print('RMSE fir CatBoost on test sample:', np.sqrt(mean_squared_error(target_test, final_model.predict(transformed_features_test))))"
   ]
  },
  {
   "cell_type": "code",
   "execution_count": 136,
   "metadata": {},
   "outputs": [
    {
     "data": {
      "image/png": "[encoded data removed]",
      "text/plain": [
       "<Figure size 720x360 with 1 Axes>"
      ]
     },
     "metadata": {
      "needs_background": "light"
     },
     "output_type": "display_data"
    }
   ],
   "source": [
    "plt.figure(figsize=(10,5))\n",
    "sns.histplot(x=final_model.predict(transformed_features_test), color=color[0], label='Predictions')\n",
    "sns.histplot(x=target_test, color=color[3], label='Target values')\n",
    "plt.ylabel('Number of observations')\n",
    "plt.xlabel('Price')\n",
    "plt.title('Distribution of predictions on test. Model: CatBoost Regressor\\n')\n",
    "plt.legend()\n",
    "plt.show()"
   ]
  },
  {
   "cell_type": "markdown",
   "metadata": {},
   "source": [
    "## Conclusion"
   ]
  },
  {
   "cell_type": "markdown",
   "metadata": {},
   "source": [
    "At the first stage, variables that will be used to predict car price were selected: `VehicleType`, `RegistrationYear`, `Gearbox`, `Power`, `Model`, `Kilometer`, `RegistrationMonth`, `FuelType`, ` Brand`, `Repaired`. In addition, outliers and duplicates were removed from the data. Finally, missing values were filled in the variables.\n",
    "\n",
    "Next, five ML models were fitted: Linear Regression, Decision Tree Regressor, Random Forest Regressor, CatBoost Regressor and LGBM Regressor. Predictions made by all of these models were compared with Dummy Regressor predictions.\n",
    "\n",
    "As a result, CatBoostRegressor model was chosen as the best model according to the three criteria: prediction quality (score), prediction time, fitting time. It is recommended to use CatBoost Regressor to develop an application that will predict car price."
   ]
  }
 ],
 "metadata": {
  "ExecuteTimeLog": [
   {
    "duration": 4394,
    "start_time": "2022-12-27T12:27:40.537Z"
   },
   {
    "duration": 3100,
    "start_time": "2022-12-27T12:27:44.935Z"
   },
   {
    "duration": 20,
    "start_time": "2022-12-27T12:27:48.038Z"
   },
   {
    "duration": 218,
    "start_time": "2022-12-27T12:27:48.060Z"
   },
   {
    "duration": 986,
    "start_time": "2022-12-27T12:27:48.280Z"
   },
   {
    "duration": 12,
    "start_time": "2022-12-27T12:27:49.269Z"
   },
   {
    "duration": 159,
    "start_time": "2022-12-27T12:27:49.283Z"
   },
   {
    "duration": 9,
    "start_time": "2022-12-27T12:27:49.443Z"
   },
   {
    "duration": 128,
    "start_time": "2022-12-27T12:27:49.455Z"
   },
   {
    "duration": 9,
    "start_time": "2022-12-27T12:27:49.586Z"
   },
   {
    "duration": 119,
    "start_time": "2022-12-27T12:27:49.598Z"
   },
   {
    "duration": 5,
    "start_time": "2022-12-27T12:27:49.719Z"
   },
   {
    "duration": 197,
    "start_time": "2022-12-27T12:27:49.727Z"
   },
   {
    "duration": 22,
    "start_time": "2022-12-27T12:27:49.929Z"
   },
   {
    "duration": 12,
    "start_time": "2022-12-27T12:27:49.953Z"
   },
   {
    "duration": 129,
    "start_time": "2022-12-27T12:27:49.967Z"
   },
   {
    "duration": 490,
    "start_time": "2022-12-27T12:27:50.098Z"
   },
   {
    "duration": 145,
    "start_time": "2022-12-27T12:27:50.590Z"
   },
   {
    "duration": 458,
    "start_time": "2022-12-27T12:27:50.736Z"
   },
   {
    "duration": 7,
    "start_time": "2022-12-27T12:27:51.196Z"
   },
   {
    "duration": 12,
    "start_time": "2022-12-27T12:27:51.205Z"
   },
   {
    "duration": 135,
    "start_time": "2022-12-27T12:27:51.219Z"
   },
   {
    "duration": 78,
    "start_time": "2022-12-27T12:27:51.356Z"
   },
   {
    "duration": 116,
    "start_time": "2022-12-27T12:27:51.450Z"
   },
   {
    "duration": 33,
    "start_time": "2022-12-27T12:27:51.568Z"
   },
   {
    "duration": 229,
    "start_time": "2022-12-27T12:27:51.602Z"
   },
   {
    "duration": 44,
    "start_time": "2022-12-27T12:27:51.833Z"
   },
   {
    "duration": 77,
    "start_time": "2022-12-27T12:27:51.879Z"
   },
   {
    "duration": 196,
    "start_time": "2022-12-27T12:27:51.957Z"
   },
   {
    "duration": 182,
    "start_time": "2022-12-27T12:27:52.155Z"
   },
   {
    "duration": 32,
    "start_time": "2022-12-27T12:27:52.339Z"
   },
   {
    "duration": 39,
    "start_time": "2022-12-27T12:27:52.373Z"
   },
   {
    "duration": 274,
    "start_time": "2022-12-27T12:27:52.414Z"
   },
   {
    "duration": 31,
    "start_time": "2022-12-27T12:27:52.690Z"
   },
   {
    "duration": 44,
    "start_time": "2022-12-27T12:27:52.723Z"
   },
   {
    "duration": 37,
    "start_time": "2022-12-27T12:27:52.769Z"
   },
   {
    "duration": 18,
    "start_time": "2022-12-27T12:27:52.808Z"
   },
   {
    "duration": 2323,
    "start_time": "2022-12-27T12:27:52.828Z"
   },
   {
    "duration": 505,
    "start_time": "2022-12-27T12:27:55.154Z"
   },
   {
    "duration": 466,
    "start_time": "2022-12-27T12:27:55.661Z"
   },
   {
    "duration": 1040,
    "start_time": "2022-12-27T12:27:56.132Z"
   },
   {
    "duration": 113,
    "start_time": "2022-12-27T12:27:57.174Z"
   },
   {
    "duration": 17,
    "start_time": "2022-12-27T12:27:57.289Z"
   },
   {
    "duration": 43,
    "start_time": "2022-12-27T12:27:57.308Z"
   },
   {
    "duration": 71,
    "start_time": "2022-12-27T12:27:57.353Z"
   },
   {
    "duration": 32,
    "start_time": "2022-12-27T12:27:57.425Z"
   },
   {
    "duration": 48,
    "start_time": "2022-12-27T12:27:57.460Z"
   },
   {
    "duration": 86,
    "start_time": "2022-12-27T12:27:57.510Z"
   },
   {
    "duration": 28,
    "start_time": "2022-12-27T12:27:57.598Z"
   },
   {
    "duration": 124,
    "start_time": "2022-12-27T12:27:57.628Z"
   },
   {
    "duration": 5,
    "start_time": "2022-12-27T12:27:57.755Z"
   },
   {
    "duration": 409,
    "start_time": "2022-12-27T12:27:57.761Z"
   },
   {
    "duration": 15,
    "start_time": "2022-12-27T12:27:58.172Z"
   },
   {
    "duration": 18,
    "start_time": "2022-12-27T12:27:58.189Z"
   },
   {
    "duration": 5363,
    "start_time": "2022-12-27T12:27:58.209Z"
   },
   {
    "duration": 32,
    "start_time": "2022-12-27T12:28:03.574Z"
   },
   {
    "duration": 94,
    "start_time": "2022-12-27T12:28:03.608Z"
   },
   {
    "duration": 30,
    "start_time": "2022-12-27T12:28:03.703Z"
   },
   {
    "duration": 124,
    "start_time": "2022-12-27T12:28:03.734Z"
   },
   {
    "duration": 399,
    "start_time": "2022-12-27T12:28:03.860Z"
   },
   {
    "duration": 10,
    "start_time": "2022-12-27T12:28:04.261Z"
   },
   {
    "duration": 6,
    "start_time": "2022-12-27T12:28:04.273Z"
   },
   {
    "duration": 1595,
    "start_time": "2022-12-27T12:28:04.281Z"
   },
   {
    "duration": 82,
    "start_time": "2022-12-27T12:28:05.878Z"
   },
   {
    "duration": 28,
    "start_time": "2022-12-27T12:28:05.962Z"
   },
   {
    "duration": 142,
    "start_time": "2022-12-27T12:28:05.993Z"
   },
   {
    "duration": 423,
    "start_time": "2022-12-27T12:28:06.137Z"
   },
   {
    "duration": 19,
    "start_time": "2022-12-27T12:28:06.561Z"
   },
   {
    "duration": 5,
    "start_time": "2022-12-27T12:28:06.582Z"
   },
   {
    "duration": 5682,
    "start_time": "2022-12-27T12:28:06.589Z"
   },
   {
    "duration": 80,
    "start_time": "2022-12-27T12:28:12.273Z"
   },
   {
    "duration": 11,
    "start_time": "2022-12-27T12:28:12.355Z"
   },
   {
    "duration": 89,
    "start_time": "2022-12-27T12:28:12.368Z"
   },
   {
    "duration": 64,
    "start_time": "2022-12-27T12:28:12.459Z"
   },
   {
    "duration": 34,
    "start_time": "2022-12-27T12:28:12.525Z"
   },
   {
    "duration": 3,
    "start_time": "2022-12-27T12:28:12.561Z"
   },
   {
    "duration": 271,
    "start_time": "2022-12-27T12:28:12.566Z"
   },
   {
    "duration": 93,
    "start_time": "2022-12-27T12:28:12.839Z"
   },
   {
    "duration": 189,
    "start_time": "2022-12-27T12:28:12.934Z"
   },
   {
    "duration": 7709,
    "start_time": "2022-12-27T12:31:55.830Z"
   },
   {
    "duration": 1348,
    "start_time": "2022-12-27T12:32:03.541Z"
   },
   {
    "duration": 858,
    "start_time": "2022-12-27T12:32:04.891Z"
   },
   {
    "duration": 17,
    "start_time": "2022-12-27T12:32:05.751Z"
   },
   {
    "duration": 156,
    "start_time": "2022-12-27T12:32:05.770Z"
   },
   {
    "duration": 997,
    "start_time": "2022-12-27T12:32:05.928Z"
   },
   {
    "duration": 25,
    "start_time": "2022-12-27T12:32:06.927Z"
   },
   {
    "duration": 130,
    "start_time": "2022-12-27T12:32:06.953Z"
   },
   {
    "duration": 5,
    "start_time": "2022-12-27T12:32:07.085Z"
   },
   {
    "duration": 132,
    "start_time": "2022-12-27T12:32:07.091Z"
   },
   {
    "duration": 7,
    "start_time": "2022-12-27T12:32:07.225Z"
   },
   {
    "duration": 94,
    "start_time": "2022-12-27T12:32:07.234Z"
   },
   {
    "duration": 4,
    "start_time": "2022-12-27T12:32:07.330Z"
   },
   {
    "duration": 164,
    "start_time": "2022-12-27T12:32:07.337Z"
   },
   {
    "duration": 11,
    "start_time": "2022-12-27T12:32:07.502Z"
   },
   {
    "duration": 4,
    "start_time": "2022-12-27T12:32:07.515Z"
   },
   {
    "duration": 123,
    "start_time": "2022-12-27T12:32:07.521Z"
   },
   {
    "duration": 380,
    "start_time": "2022-12-27T12:32:07.650Z"
   },
   {
    "duration": 136,
    "start_time": "2022-12-27T12:32:08.033Z"
   },
   {
    "duration": 515,
    "start_time": "2022-12-27T12:32:08.171Z"
   },
   {
    "duration": 7,
    "start_time": "2022-12-27T12:32:08.688Z"
   },
   {
    "duration": 10,
    "start_time": "2022-12-27T12:32:08.697Z"
   },
   {
    "duration": 134,
    "start_time": "2022-12-27T12:32:08.709Z"
   },
   {
    "duration": 111,
    "start_time": "2022-12-27T12:32:08.845Z"
   },
   {
    "duration": 110,
    "start_time": "2022-12-27T12:32:08.958Z"
   },
   {
    "duration": 31,
    "start_time": "2022-12-27T12:32:09.069Z"
   },
   {
    "duration": 228,
    "start_time": "2022-12-27T12:32:09.102Z"
   },
   {
    "duration": 66,
    "start_time": "2022-12-27T12:32:09.332Z"
   },
   {
    "duration": 66,
    "start_time": "2022-12-27T12:32:09.399Z"
   },
   {
    "duration": 174,
    "start_time": "2022-12-27T12:32:09.467Z"
   },
   {
    "duration": 223,
    "start_time": "2022-12-27T12:32:09.643Z"
   },
   {
    "duration": 30,
    "start_time": "2022-12-27T12:32:09.868Z"
   },
   {
    "duration": 29,
    "start_time": "2022-12-27T12:32:09.900Z"
   },
   {
    "duration": 272,
    "start_time": "2022-12-27T12:32:09.930Z"
   },
   {
    "duration": 30,
    "start_time": "2022-12-27T12:32:10.204Z"
   },
   {
    "duration": 38,
    "start_time": "2022-12-27T12:32:10.236Z"
   },
   {
    "duration": 32,
    "start_time": "2022-12-27T12:32:10.275Z"
   },
   {
    "duration": 7,
    "start_time": "2022-12-27T12:32:10.309Z"
   },
   {
    "duration": 2273,
    "start_time": "2022-12-27T12:32:10.317Z"
   },
   {
    "duration": 444,
    "start_time": "2022-12-27T12:32:12.592Z"
   },
   {
    "duration": 472,
    "start_time": "2022-12-27T12:32:13.041Z"
   },
   {
    "duration": 906,
    "start_time": "2022-12-27T12:32:13.514Z"
   },
   {
    "duration": 119,
    "start_time": "2022-12-27T12:32:14.423Z"
   },
   {
    "duration": 19,
    "start_time": "2022-12-27T12:32:14.550Z"
   },
   {
    "duration": 78,
    "start_time": "2022-12-27T12:32:14.571Z"
   },
   {
    "duration": 73,
    "start_time": "2022-12-27T12:32:14.650Z"
   },
   {
    "duration": 42,
    "start_time": "2022-12-27T12:32:14.725Z"
   },
   {
    "duration": 41,
    "start_time": "2022-12-27T12:32:14.769Z"
   },
   {
    "duration": 85,
    "start_time": "2022-12-27T12:32:14.812Z"
   },
   {
    "duration": 64,
    "start_time": "2022-12-27T12:32:14.899Z"
   },
   {
    "duration": 115,
    "start_time": "2022-12-27T12:32:14.966Z"
   },
   {
    "duration": 5,
    "start_time": "2022-12-27T12:32:15.083Z"
   },
   {
    "duration": 562,
    "start_time": "2022-12-27T12:32:15.089Z"
   },
   {
    "duration": 14,
    "start_time": "2022-12-27T12:32:15.652Z"
   },
   {
    "duration": 47,
    "start_time": "2022-12-27T12:32:15.668Z"
   },
   {
    "duration": 5025,
    "start_time": "2022-12-27T12:32:15.717Z"
   },
   {
    "duration": 29,
    "start_time": "2022-12-27T12:32:20.744Z"
   },
   {
    "duration": 85,
    "start_time": "2022-12-27T12:32:20.775Z"
   },
   {
    "duration": 29,
    "start_time": "2022-12-27T12:32:20.862Z"
   },
   {
    "duration": 130,
    "start_time": "2022-12-27T12:32:20.893Z"
   },
   {
    "duration": 386,
    "start_time": "2022-12-27T12:32:21.025Z"
   },
   {
    "duration": 10,
    "start_time": "2022-12-27T12:32:21.413Z"
   },
   {
    "duration": 14,
    "start_time": "2022-12-27T12:32:21.425Z"
   },
   {
    "duration": 1525,
    "start_time": "2022-12-27T12:32:21.440Z"
   },
   {
    "duration": 71,
    "start_time": "2022-12-27T12:32:22.967Z"
   },
   {
    "duration": 49,
    "start_time": "2022-12-27T12:32:23.040Z"
   },
   {
    "duration": 122,
    "start_time": "2022-12-27T12:32:23.090Z"
   },
   {
    "duration": 404,
    "start_time": "2022-12-27T12:32:23.214Z"
   },
   {
    "duration": 13,
    "start_time": "2022-12-27T12:32:23.620Z"
   },
   {
    "duration": 16,
    "start_time": "2022-12-27T12:32:23.635Z"
   },
   {
    "duration": 5412,
    "start_time": "2022-12-27T12:32:23.652Z"
   },
   {
    "duration": 70,
    "start_time": "2022-12-27T12:32:29.066Z"
   },
   {
    "duration": 27,
    "start_time": "2022-12-27T12:32:29.138Z"
   },
   {
    "duration": 101,
    "start_time": "2022-12-27T12:32:29.167Z"
   },
   {
    "duration": 66,
    "start_time": "2022-12-27T12:32:29.270Z"
   },
   {
    "duration": 27,
    "start_time": "2022-12-27T12:32:29.338Z"
   },
   {
    "duration": 4,
    "start_time": "2022-12-27T12:32:29.366Z"
   },
   {
    "duration": 1346,
    "start_time": "2022-12-27T12:32:29.371Z"
   },
   {
    "duration": 1189,
    "start_time": "2022-12-27T12:32:30.720Z"
   },
   {
    "duration": 6210,
    "start_time": "2022-12-27T12:32:31.911Z"
   },
   {
    "duration": 19,
    "start_time": "2022-12-27T12:32:53.988Z"
   },
   {
    "duration": 2,
    "start_time": "2022-12-27T12:32:56.781Z"
   },
   {
    "duration": 1244,
    "start_time": "2022-12-27T12:32:57.267Z"
   },
   {
    "duration": 1211,
    "start_time": "2022-12-27T12:33:01.334Z"
   },
   {
    "duration": 6212,
    "start_time": "2022-12-27T12:33:03.622Z"
   },
   {
    "duration": 3,
    "start_time": "2022-12-27T12:34:44.519Z"
   },
   {
    "duration": 6337,
    "start_time": "2022-12-27T12:34:45.682Z"
   }
  ],
  "kernelspec": {
   "display_name": "Python 3 (ipykernel)",
   "language": "python",
   "name": "python3"
  },
  "language_info": {
   "codemirror_mode": {
    "name": "ipython",
    "version": 3
   },
   "file_extension": ".py",
   "mimetype": "text/x-python",
   "name": "python",
   "nbconvert_exporter": "python",
   "pygments_lexer": "ipython3",
   "version": "3.9.12"
  },
  "toc": {
   "base_numbering": 1,
   "nav_menu": {},
   "number_sections": true,
   "sideBar": true,
   "skip_h1_title": true,
   "title_cell": "Table of Contents",
   "title_sidebar": "Contents",
   "toc_cell": false,
   "toc_position": {},
   "toc_section_display": true,
   "toc_window_display": true
  }
 },
 "nbformat": 4,
 "nbformat_minor": 4
}
