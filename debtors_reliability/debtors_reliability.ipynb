{
 "cells": [
  {
   "cell_type": "markdown",
   "id": "007c64dd-9f32-4d8f-b561-0ce62e03ac50",
   "metadata": {},
   "source": [
    "# Study of debtors' reliability"
   ]
  },
  {
   "cell_type": "code",
   "execution_count": 1,
   "id": "3f22e59a-33a2-42d0-87a5-265b9f75be3e",
   "metadata": {},
   "outputs": [],
   "source": [
    "import pandas as pd\n",
    "import seaborn\n",
    "import matplotlib.pyplot as plt\n",
    "import numpy as np"
   ]
  },
  {
   "cell_type": "code",
   "execution_count": 2,
   "id": "5ae50130-1ae7-410a-8241-2bc3715eaec1",
   "metadata": {},
   "outputs": [],
   "source": [
    "try:\n",
    "    data = pd.read_csv('/Users/anshilina/Documents/data.csv')\n",
    "except:\n",
    "    data = pd.read_csv('datasets/data.csv')"
   ]
  },
  {
   "cell_type": "code",
   "execution_count": 3,
   "id": "45a62971-0946-4a42-a0d7-f7a13e34b494",
   "metadata": {},
   "outputs": [
    {
     "data": {
      "text/html": [
       "<div>\n",
       "<style scoped>\n",
       "    .dataframe tbody tr th:only-of-type {\n",
       "        vertical-align: middle;\n",
       "    }\n",
       "\n",
       "    .dataframe tbody tr th {\n",
       "        vertical-align: top;\n",
       "    }\n",
       "\n",
       "    .dataframe thead th {\n",
       "        text-align: right;\n",
       "    }\n",
       "</style>\n",
       "<table border=\"1\" class=\"dataframe\">\n",
       "  <thead>\n",
       "    <tr style=\"text-align: right;\">\n",
       "      <th></th>\n",
       "      <th>children</th>\n",
       "      <th>days_employed</th>\n",
       "      <th>dob_years</th>\n",
       "      <th>education</th>\n",
       "      <th>education_id</th>\n",
       "      <th>family_status</th>\n",
       "      <th>family_status_id</th>\n",
       "      <th>gender</th>\n",
       "      <th>income_type</th>\n",
       "      <th>debt</th>\n",
       "      <th>total_income</th>\n",
       "      <th>purpose</th>\n",
       "    </tr>\n",
       "  </thead>\n",
       "  <tbody>\n",
       "    <tr>\n",
       "      <th>0</th>\n",
       "      <td>1</td>\n",
       "      <td>-8437.673028</td>\n",
       "      <td>42</td>\n",
       "      <td>высшее</td>\n",
       "      <td>0</td>\n",
       "      <td>женат / замужем</td>\n",
       "      <td>0</td>\n",
       "      <td>F</td>\n",
       "      <td>сотрудник</td>\n",
       "      <td>0</td>\n",
       "      <td>253875.639453</td>\n",
       "      <td>покупка жилья</td>\n",
       "    </tr>\n",
       "    <tr>\n",
       "      <th>1</th>\n",
       "      <td>1</td>\n",
       "      <td>-4024.803754</td>\n",
       "      <td>36</td>\n",
       "      <td>среднее</td>\n",
       "      <td>1</td>\n",
       "      <td>женат / замужем</td>\n",
       "      <td>0</td>\n",
       "      <td>F</td>\n",
       "      <td>сотрудник</td>\n",
       "      <td>0</td>\n",
       "      <td>112080.014102</td>\n",
       "      <td>приобретение автомобиля</td>\n",
       "    </tr>\n",
       "    <tr>\n",
       "      <th>2</th>\n",
       "      <td>0</td>\n",
       "      <td>-5623.422610</td>\n",
       "      <td>33</td>\n",
       "      <td>Среднее</td>\n",
       "      <td>1</td>\n",
       "      <td>женат / замужем</td>\n",
       "      <td>0</td>\n",
       "      <td>M</td>\n",
       "      <td>сотрудник</td>\n",
       "      <td>0</td>\n",
       "      <td>145885.952297</td>\n",
       "      <td>покупка жилья</td>\n",
       "    </tr>\n",
       "    <tr>\n",
       "      <th>3</th>\n",
       "      <td>3</td>\n",
       "      <td>-4124.747207</td>\n",
       "      <td>32</td>\n",
       "      <td>среднее</td>\n",
       "      <td>1</td>\n",
       "      <td>женат / замужем</td>\n",
       "      <td>0</td>\n",
       "      <td>M</td>\n",
       "      <td>сотрудник</td>\n",
       "      <td>0</td>\n",
       "      <td>267628.550329</td>\n",
       "      <td>дополнительное образование</td>\n",
       "    </tr>\n",
       "    <tr>\n",
       "      <th>4</th>\n",
       "      <td>0</td>\n",
       "      <td>340266.072047</td>\n",
       "      <td>53</td>\n",
       "      <td>среднее</td>\n",
       "      <td>1</td>\n",
       "      <td>гражданский брак</td>\n",
       "      <td>1</td>\n",
       "      <td>F</td>\n",
       "      <td>пенсионер</td>\n",
       "      <td>0</td>\n",
       "      <td>158616.077870</td>\n",
       "      <td>сыграть свадьбу</td>\n",
       "    </tr>\n",
       "  </tbody>\n",
       "</table>\n",
       "</div>"
      ],
      "text/plain": [
       "   children  days_employed  dob_years education  education_id  \\\n",
       "0         1   -8437.673028         42    высшее             0   \n",
       "1         1   -4024.803754         36   среднее             1   \n",
       "2         0   -5623.422610         33   Среднее             1   \n",
       "3         3   -4124.747207         32   среднее             1   \n",
       "4         0  340266.072047         53   среднее             1   \n",
       "\n",
       "      family_status  family_status_id gender income_type  debt   total_income  \\\n",
       "0   женат / замужем                 0      F   сотрудник     0  253875.639453   \n",
       "1   женат / замужем                 0      F   сотрудник     0  112080.014102   \n",
       "2   женат / замужем                 0      M   сотрудник     0  145885.952297   \n",
       "3   женат / замужем                 0      M   сотрудник     0  267628.550329   \n",
       "4  гражданский брак                 1      F   пенсионер     0  158616.077870   \n",
       "\n",
       "                      purpose  \n",
       "0               покупка жилья  \n",
       "1     приобретение автомобиля  \n",
       "2               покупка жилья  \n",
       "3  дополнительное образование  \n",
       "4             сыграть свадьбу  "
      ]
     },
     "execution_count": 3,
     "metadata": {},
     "output_type": "execute_result"
    }
   ],
   "source": [
    "data.head(5)"
   ]
  },
  {
   "cell_type": "code",
   "execution_count": 4,
   "id": "ab303855-dcd6-49f0-bfd3-975cbaff1f03",
   "metadata": {},
   "outputs": [
    {
     "name": "stdout",
     "output_type": "stream",
     "text": [
      "<class 'pandas.core.frame.DataFrame'>\n",
      "RangeIndex: 21525 entries, 0 to 21524\n",
      "Data columns (total 12 columns):\n",
      " #   Column            Non-Null Count  Dtype  \n",
      "---  ------            --------------  -----  \n",
      " 0   children          21525 non-null  int64  \n",
      " 1   days_employed     19351 non-null  float64\n",
      " 2   dob_years         21525 non-null  int64  \n",
      " 3   education         21525 non-null  object \n",
      " 4   education_id      21525 non-null  int64  \n",
      " 5   family_status     21525 non-null  object \n",
      " 6   family_status_id  21525 non-null  int64  \n",
      " 7   gender            21525 non-null  object \n",
      " 8   income_type       21525 non-null  object \n",
      " 9   debt              21525 non-null  int64  \n",
      " 10  total_income      19351 non-null  float64\n",
      " 11  purpose           21525 non-null  object \n",
      "dtypes: float64(2), int64(5), object(5)\n",
      "memory usage: 2.0+ MB\n"
     ]
    }
   ],
   "source": [
    "data.info()"
   ]
  },
  {
   "cell_type": "markdown",
   "id": "5ed69f68-a6cf-4e45-af3c-e056e48a1094",
   "metadata": {},
   "source": [
    "There are missing values in two columns: `days_employed` and `total_income`. Regarding `total_income` variable, income depends on the type of employment, so let's fill in the NAs using the median value for each type of employment (`income_type` column). For example, for a person with `employee` type, missing income values should be filled by the median income value among all `employees`. "
   ]
  },
  {
   "cell_type": "code",
   "execution_count": 5,
   "id": "5ddfaaa6-a859-41fb-ba5c-13ddc650cf20",
   "metadata": {},
   "outputs": [
    {
     "data": {
      "text/plain": [
       "children               0\n",
       "days_employed       2174\n",
       "dob_years              0\n",
       "education              0\n",
       "education_id           0\n",
       "family_status          0\n",
       "family_status_id       0\n",
       "gender                 0\n",
       "income_type            0\n",
       "debt                   0\n",
       "total_income        2174\n",
       "purpose                0\n",
       "dtype: int64"
      ]
     },
     "execution_count": 5,
     "metadata": {},
     "output_type": "execute_result"
    }
   ],
   "source": [
    "data.isna().sum()"
   ]
  },
  {
   "cell_type": "code",
   "execution_count": 6,
   "id": "a4ada4d5-903b-4e9b-acb9-4215bc86683f",
   "metadata": {},
   "outputs": [],
   "source": [
    "for t in data['income_type'].unique():\n",
    "    data.loc[(data['income_type'] == t) & (data['total_income'].isna()), 'total_income'] = \\\n",
    "    data.loc[(data['income_type'] == t), 'total_income'].median()"
   ]
  },
  {
   "cell_type": "markdown",
   "id": "2c5eea2a-e7ea-48f5-9241-834bdcb26e42",
   "metadata": {
    "tags": []
   },
   "source": [
    "### Data outliers preprocessing"
   ]
  },
  {
   "cell_type": "markdown",
   "id": "9fda1c40-d9fd-4c46-8c36-3615b9ff36b4",
   "metadata": {},
   "source": [
    "Negative values in the `days_employed` column (seniority in days) are outliers. Let's replace them with positive ones using the `abs()` method."
   ]
  },
  {
   "cell_type": "code",
   "execution_count": 7,
   "id": "3dcc2a2d-b4f8-4d69-836c-66fad89e92c8",
   "metadata": {},
   "outputs": [],
   "source": [
    "data['days_employed'] = data['days_employed'].abs()"
   ]
  },
  {
   "cell_type": "markdown",
   "id": "c98e618b-b60f-4272-9ed3-af5aea3175b8",
   "metadata": {},
   "source": [
    "Then for each type of employment, let's display the median value of `days_employed`."
   ]
  },
  {
   "cell_type": "code",
   "execution_count": 8,
   "id": "7dd62fed-0f3b-46b0-afad-c9fe6dec3dea",
   "metadata": {},
   "outputs": [
    {
     "data": {
      "text/plain": [
       "income_type\n",
       "безработный        366413.652744\n",
       "в декрете            3296.759962\n",
       "госслужащий          2689.368353\n",
       "компаньон            1547.382223\n",
       "пенсионер          365213.306266\n",
       "предприниматель       520.848083\n",
       "сотрудник            1574.202821\n",
       "студент               578.751554\n",
       "Name: days_employed, dtype: float64"
      ]
     },
     "execution_count": 8,
     "metadata": {},
     "output_type": "execute_result"
    }
   ],
   "source": [
    "data.groupby('income_type')['days_employed'].agg('median')"
   ]
  },
  {
   "cell_type": "markdown",
   "id": "69041028-3099-4397-b713-68d97e5af0af",
   "metadata": {},
   "source": [
    "There are unusually large values for pensioners and unemployed people. At this stage, the nature of outliers is unknown, therefore, it is difficult to correct these values. We will not need this column for data analysis so we can ignore it for now."
   ]
  },
  {
   "cell_type": "markdown",
   "id": "e0fd5294-d887-4549-9734-1b781cb00e0f",
   "metadata": {},
   "source": [
    "Now let's display the unique values from the `children` column (number of children)."
   ]
  },
  {
   "cell_type": "code",
   "execution_count": 9,
   "id": "611ce9f4-3b7b-4185-9a78-8fd1efc9a70b",
   "metadata": {},
   "outputs": [
    {
     "data": {
      "text/plain": [
       "array([ 1,  0,  3,  2, -1,  4, 20,  5])"
      ]
     },
     "execution_count": 9,
     "metadata": {},
     "output_type": "execute_result"
    }
   ],
   "source": [
    "data['children'].unique()"
   ]
  },
  {
   "cell_type": "markdown",
   "id": "0f1c3eda-fb19-4b5d-9071-ff56d87f7561",
   "metadata": {},
   "source": [
    "There are unusual negative values. Let's remove these rows from the dataframe."
   ]
  },
  {
   "cell_type": "code",
   "execution_count": 10,
   "id": "c58f5bba-e49b-41ef-b458-90b4cc02391b",
   "metadata": {},
   "outputs": [
    {
     "data": {
      "text/plain": [
       "array([1, 0, 3, 2, 4, 5])"
      ]
     },
     "execution_count": 10,
     "metadata": {},
     "output_type": "execute_result"
    }
   ],
   "source": [
    "data = data[(data['children'] != -1) & (data['children'] != 20)]\n",
    "data['children'].unique()"
   ]
  },
  {
   "cell_type": "markdown",
   "id": "ae692a4b-8edf-4d6b-a6b6-158e545d56b9",
   "metadata": {},
   "source": [
    "### Missing values preprocessing"
   ]
  },
  {
   "cell_type": "markdown",
   "id": "748666e5-d56c-4994-bca4-4387928346b4",
   "metadata": {},
   "source": [
    "Let's fill the missing values in `days_employed` column with the median value for each `income_type`."
   ]
  },
  {
   "cell_type": "code",
   "execution_count": 11,
   "id": "5b0bc0cb-c5d9-441e-8076-0ade00500a38",
   "metadata": {},
   "outputs": [],
   "source": [
    "for t in data['income_type'].unique():\n",
    "    data.loc[(data['income_type'] == t) & (data['days_employed'].isna()), 'days_employed'] = \\\n",
    "    data.loc[(data['income_type'] == t), 'days_employed'].median()"
   ]
  },
  {
   "cell_type": "code",
   "execution_count": 12,
   "id": "404f9c2b-dbaa-4047-96d1-307c1a06e1bb",
   "metadata": {},
   "outputs": [
    {
     "data": {
      "text/plain": [
       "0"
      ]
     },
     "execution_count": 12,
     "metadata": {},
     "output_type": "execute_result"
    }
   ],
   "source": [
    "data.isna().sum().sum()"
   ]
  },
  {
   "cell_type": "markdown",
   "id": "fcfabcc9-ce84-4b58-8b4c-8f3c99ac228b",
   "metadata": {},
   "source": [
    "There are three [types](https://loginom.ru/blog/missing) of the missing values: *missing completely at random*; *missing at random* (are not completely random and occure due to some patterns that can be identified based on the available data); and *missing not at random* (are absent for unknown reasons and these reasons cannot be determined based on the available data). \n",
    "\n",
    "The reasons for missing values in the `days_employed` and `total_income` columns cannot be determined using the available data. We found out that those who did not report their total work experience also did not report their monthly income. Thus, it cannot be argued that variables were omitted *completely at random*. In addition, it is also impossible to explain missing values based on the data. Therefore, values are missing **not at random**. We don't have enough data to explain the nature of these missings. It could be either a technical error or a human factor (for example, a bank employee did not specify the total work experience and monthly income of these clients)."
   ]
  },
  {
   "cell_type": "markdown",
   "id": "ba3cfc13-8b31-46f4-a9bc-35fe6e26f971",
   "metadata": {},
   "source": [
    "### Changing data types"
   ]
  },
  {
   "cell_type": "markdown",
   "id": "d2b800f7-2219-4408-acc0-419af8018979",
   "metadata": {},
   "source": [
    "Let's replace float value type in the `total_income` column with integer one using `astype()` method."
   ]
  },
  {
   "cell_type": "code",
   "execution_count": 13,
   "id": "653dad0f-4e65-43da-b10f-65dde887a22a",
   "metadata": {},
   "outputs": [],
   "source": [
    "data['total_income'] = data['total_income'].astype(int)"
   ]
  },
  {
   "cell_type": "markdown",
   "id": "86af0fbd-c9a9-4fd4-8604-1d62fb88909a",
   "metadata": {},
   "source": [
    "### Duplicates preprocessing"
   ]
  },
  {
   "cell_type": "markdown",
   "id": "ed9aede7-543c-4942-a818-470ac91a7493",
   "metadata": {},
   "source": [
    "Let's preprocess implicit duplicates in the `education` column. This column has the same values written differently – using uppercase and lowercase letters. Let's convert all of them to the lower case."
   ]
  },
  {
   "cell_type": "code",
   "execution_count": 14,
   "id": "e7f6f6b3-1c3f-4cf5-90e6-c4fad96a7ba5",
   "metadata": {},
   "outputs": [],
   "source": [
    "data['education'] = data['education'].str.lower()"
   ]
  },
  {
   "cell_type": "markdown",
   "id": "2ba1c8cd-0eaf-4c84-9a93-b4b9a329bfc3",
   "metadata": {},
   "source": [
    "Now let's display the number of duplicated rows and delete them."
   ]
  },
  {
   "cell_type": "code",
   "execution_count": 15,
   "id": "23de13bf-8ca5-4aa1-b3c0-1f2a739d194c",
   "metadata": {},
   "outputs": [
    {
     "data": {
      "text/plain": [
       "71"
      ]
     },
     "execution_count": 15,
     "metadata": {},
     "output_type": "execute_result"
    }
   ],
   "source": [
    "data.duplicated().sum()"
   ]
  },
  {
   "cell_type": "code",
   "execution_count": 16,
   "id": "dde0ca68-2539-4e11-8295-1d38f86779fa",
   "metadata": {},
   "outputs": [],
   "source": [
    "data = data.drop_duplicates()"
   ]
  },
  {
   "cell_type": "markdown",
   "id": "bcde8433-d980-47d6-9cfe-eb6d54f7d1ef",
   "metadata": {},
   "source": [
    "### Data categorization"
   ]
  },
  {
   "cell_type": "markdown",
   "id": "a36aeaba-2954-4973-bd8e-4bd36ba49c8c",
   "metadata": {},
   "source": [
    "Using the ranges below, let's add `total_income_category` column to the dataframe:\n",
    "\n",
    "- 0–30000 — `'E'`\n",
    "- 30001–50000 — `'D'`\n",
    "- 50001–200000 — `'C'`\n",
    "- 200001–1000000 — `'B'`\n",
    "- 1000001 and above — `'A'`"
   ]
  },
  {
   "cell_type": "code",
   "execution_count": 17,
   "id": "32db09ac-99ff-4201-8651-b34f319538ee",
   "metadata": {},
   "outputs": [],
   "source": [
    "def categorize_income(income):\n",
    "    try:\n",
    "        if 0 <= income <= 30000:\n",
    "            return 'E'\n",
    "        elif 30001 <= income <= 50000:\n",
    "            return 'D'\n",
    "        elif 50001 <= income <= 200000:\n",
    "            return 'C'\n",
    "        elif 200001 <= income <= 1000000:\n",
    "            return 'B'\n",
    "        elif income >= 1000001:\n",
    "            return 'A'\n",
    "    except:\n",
    "        pass"
   ]
  },
  {
   "cell_type": "code",
   "execution_count": 18,
   "id": "ad0d4b66-a2c4-43ef-91ac-52b7f5a0fe14",
   "metadata": {},
   "outputs": [],
   "source": [
    "data['total_income_category'] = data['total_income'].apply(categorize_income)"
   ]
  },
  {
   "cell_type": "markdown",
   "id": "177eb6a3-332a-4e0a-bf4a-c46ba36ca42d",
   "metadata": {},
   "source": [
    "Then let's display a list of unique values from the `purpose` column (for what purposes people usually take a loan)."
   ]
  },
  {
   "cell_type": "code",
   "execution_count": 19,
   "id": "135d27d4-d9b3-4108-a646-e973c8b169a3",
   "metadata": {},
   "outputs": [
    {
     "data": {
      "text/plain": [
       "array(['покупка жилья', 'приобретение автомобиля',\n",
       "       'дополнительное образование', 'сыграть свадьбу',\n",
       "       'операции с жильем', 'образование', 'на проведение свадьбы',\n",
       "       'покупка жилья для семьи', 'покупка недвижимости',\n",
       "       'покупка коммерческой недвижимости', 'покупка жилой недвижимости',\n",
       "       'строительство собственной недвижимости', 'недвижимость',\n",
       "       'строительство недвижимости', 'на покупку подержанного автомобиля',\n",
       "       'на покупку своего автомобиля',\n",
       "       'операции с коммерческой недвижимостью',\n",
       "       'строительство жилой недвижимости', 'жилье',\n",
       "       'операции со своей недвижимостью', 'автомобили',\n",
       "       'заняться образованием', 'сделка с подержанным автомобилем',\n",
       "       'получение образования', 'автомобиль', 'свадьба',\n",
       "       'получение дополнительного образования', 'покупка своего жилья',\n",
       "       'операции с недвижимостью', 'получение высшего образования',\n",
       "       'свой автомобиль', 'сделка с автомобилем',\n",
       "       'профильное образование', 'высшее образование',\n",
       "       'покупка жилья для сдачи', 'на покупку автомобиля', 'ремонт жилью',\n",
       "       'заняться высшим образованием'], dtype=object)"
      ]
     },
     "execution_count": 19,
     "metadata": {},
     "output_type": "execute_result"
    }
   ],
   "source": [
    "data['purpose'].unique()"
   ]
  },
  {
   "cell_type": "markdown",
   "id": "d8570cf6-f7a2-4863-9a0e-0e1af5494570",
   "metadata": {},
   "source": [
    "Let's categorize data based on the values of the `purpose` column:\n",
    "\n",
    "- `'операции с автомобилем'` (auto), \n",
    "- `'операции с недвижимостью'` (realty),\n",
    "- `'проведение свадьбы'` (wedding),\n",
    "- `'получение образования'` (education)."
   ]
  },
  {
   "cell_type": "code",
   "execution_count": 20,
   "id": "5e188afd-21cd-462a-ae56-99a566d3167a",
   "metadata": {},
   "outputs": [],
   "source": [
    "def categorize_purpose(row):\n",
    "    try:\n",
    "        if 'автом' in row:\n",
    "            return 'auto'\n",
    "        elif 'жил' in row or 'недвиж' in row:\n",
    "            return 'realty'\n",
    "        elif 'свад' in row:\n",
    "            return 'wedding'\n",
    "        elif 'образов' in row:\n",
    "            return 'education'\n",
    "    except:\n",
    "        return 'нет категории'"
   ]
  },
  {
   "cell_type": "code",
   "execution_count": 21,
   "id": "823c0d64-69f9-4a75-bc52-33b4337b54c2",
   "metadata": {},
   "outputs": [],
   "source": [
    "data['purpose_category'] = data['purpose'].apply(categorize_purpose)"
   ]
  },
  {
   "cell_type": "markdown",
   "id": "41e97f63-1069-42c7-a4eb-2a4f2761e22e",
   "metadata": {},
   "source": [
    "### Data analysis"
   ]
  },
  {
   "cell_type": "markdown",
   "id": "b5d1be00-61a2-4e4d-ad59-43091f0adf9a",
   "metadata": {},
   "source": [
    "To study the relationship between *number of children* and *debt repaymnet* let's group data by `children` variable and calculate the proportion of debtors in each group (`debt` variable). Since the `debt` variable is binary, we can use the group average to calculate proportion."
   ]
  },
  {
   "cell_type": "code",
   "execution_count": 22,
   "id": "fc3b2e10-c106-467e-aa86-7119fbf6d760",
   "metadata": {},
   "outputs": [
    {
     "name": "stdout",
     "output_type": "stream",
     "text": [
      "Number of children: 0.\n",
      "People in group: 14091, proportion of debtors: 0.07543822297920659\n",
      "**************\n",
      "Number of children: 1.\n",
      "People in group: 4808, proportion of debtors: 0.09234608985024959\n",
      "**************\n",
      "Number of children: 2.\n",
      "People in group: 2052, proportion of debtors: 0.09454191033138401\n",
      "**************\n",
      "Number of children: 3.\n",
      "People in group: 330, proportion of debtors: 0.08181818181818182\n",
      "**************\n",
      "Number of children: 4.\n",
      "People in group: 41, proportion of debtors: 0.0975609756097561\n",
      "**************\n",
      "Number of children: 5.\n",
      "People in group: 9, proportion of debtors: 0.0\n",
      "**************\n"
     ]
    }
   ],
   "source": [
    "for children_num, debt in data.groupby('children')['debt']:\n",
    "    print(f'Number of children: {children_num}.') \n",
    "    print(f'People in group: {debt.count()}, proportion of debtors: {debt.mean()}')\n",
    "    print('**************')"
   ]
  },
  {
   "cell_type": "markdown",
   "id": "12c95432-888f-46f3-927e-0b92344c62bf",
   "metadata": {},
   "source": [
    "Let's visualize data."
   ]
  },
  {
   "cell_type": "code",
   "execution_count": 23,
   "id": "f4ae4359-5455-4ce5-b0e6-2cf8d1d3cfcf",
   "metadata": {},
   "outputs": [
    {
     "data": {
      "image/png": "[encoded data removed]",
      "text/plain": [
       "<Figure size 432x288 with 1 Axes>"
      ]
     },
     "metadata": {
      "needs_background": "light"
     },
     "output_type": "display_data"
    }
   ],
   "source": [
    "grouped_data = data.groupby('children')['debt'].mean()\n",
    "grouped_data = grouped_data.sort_values(ascending=False).reset_index()\n",
    "grouped_data['children'] = grouped_data['children'].astype('str')\n",
    "\n",
    "seaborn.barplot(x=grouped_data['children'], y=grouped_data['debt'])\n",
    "plt.xlabel('Number of children')\n",
    "plt.ylabel('Proportion of debtors')\n",
    "plt.title('Relationship between number of children and debt repayment on time')\n",
    "plt.show()"
   ]
  },
  {
   "cell_type": "markdown",
   "id": "854a6537-f1de-4c4c-8c7d-82a1ea92d014",
   "metadata": {},
   "source": [
    "There is no linear relationship between the number of children in family and the on time repayment of debt.\n",
    "\n",
    "Besides, we noted that the sample includes only 9 families with 5 children. To double-check the results, we can categorize variable and see how **large families** and **not large families** cope with loan obligations. In Russia, a family with three or more minor children is considered to be a large family. Using this approach, we will divide the sample based on the values of the `children` variable."
   ]
  },
  {
   "cell_type": "code",
   "execution_count": 24,
   "id": "c5c46cac-390e-44c0-b6b5-67e9218f7f61",
   "metadata": {},
   "outputs": [],
   "source": [
    "def large_family(series):\n",
    "    if series >= 3:\n",
    "        return 'large families'\n",
    "    else:\n",
    "        return 'not large families'\n",
    "    \n",
    "data['children_status'] = data['children'].apply(large_family)"
   ]
  },
  {
   "cell_type": "markdown",
   "id": "ac1134e4-7237-4deb-9d17-30bd1b2d2cc6",
   "metadata": {},
   "source": [
    "Let's calculate the proportion of debtors in the group of large and not large families."
   ]
  },
  {
   "cell_type": "code",
   "execution_count": 25,
   "id": "ac02b381-d253-43e5-9e85-cbd33e6fa387",
   "metadata": {},
   "outputs": [
    {
     "name": "stdout",
     "output_type": "stream",
     "text": [
      "Family status: large families. People in group: 380, proportion of debtors: 0.08157894736842106\n",
      "Family status: not large families. People in group: 20951, proportion of debtors: 0.08118944203140661\n"
     ]
    }
   ],
   "source": [
    "for status, debt in data.groupby('children_status')['debt']:\n",
    "    print(f'Family status: {status}. People in group: {debt.count()}, proportion of debtors: {debt.mean()}')"
   ]
  },
  {
   "cell_type": "markdown",
   "id": "79c83a42-5bb4-428c-aa3a-7c2f94ddc222",
   "metadata": {},
   "source": [
    "It can be seen that the results for two groups are the same (the difference is **0.04%**). Let's visualize the data."
   ]
  },
  {
   "cell_type": "code",
   "execution_count": 26,
   "id": "2360fef8-2bcc-4d8b-91d7-72735e60c4e7",
   "metadata": {},
   "outputs": [
    {
     "data": {
      "image/png": "[encoded data removed]",
      "text/plain": [
       "<Figure size 432x288 with 1 Axes>"
      ]
     },
     "metadata": {
      "needs_background": "light"
     },
     "output_type": "display_data"
    }
   ],
   "source": [
    "grouped_data = data.groupby('children_status')['debt'].mean()\n",
    "grouped_data = grouped_data.sort_values(ascending=False).reset_index()\n",
    "\n",
    "seaborn.barplot(x=grouped_data['children_status'], y=grouped_data['debt'])\n",
    "\n",
    "plt.xlabel('Family status')\n",
    "plt.ylabel('Proportion of debtors')\n",
    "plt.title('Relationship between family status and debt repayment on time')\n",
    "plt.show()"
   ]
  },
  {
   "cell_type": "markdown",
   "id": "4f845e06-41ac-4f12-be4e-ff0c1d96b8c0",
   "metadata": {},
   "source": [
    "**Summary:** There is no relationship between the number of children in family and the repayment of debt on time. The proportion of the debtors among people with 1-2 and 4 children are approximately equal (**9.2-9.8%**). There are fewer debtors among people with 3 children (**8%**) and people with no children (**7.5%**). Among those who have 5 children, the proportion of debtors in this sample is **0%**. We grouped data by the number of children and studied **large families** and **not large families**. As the result, we found out that there is no relationship between the number of children in family and the ability to repay debt on time."
   ]
  },
  {
   "cell_type": "markdown",
   "id": "f356a268-207e-42c2-b11b-fe4262241933",
   "metadata": {},
   "source": [
    "To study the relationship between *marital status* and *debt repayment*, let's group data by marital status and estimate the proportion of debtors in each group. To group data, we will use `family_status` variable and to determine the proportion of debtors we will estimate groups average of the `debt` variable."
   ]
  },
  {
   "cell_type": "code",
   "execution_count": 27,
   "id": "61bf3b53-8eb6-4019-9c81-f7aa039f08da",
   "metadata": {},
   "outputs": [
    {
     "name": "stdout",
     "output_type": "stream",
     "text": [
      "Marital status: в разводе.\n",
      "People in group: 1189, proportion of debtors: 0.07064760302775441\n",
      "**************\n",
      "Marital status: вдовец / вдова.\n",
      "People in group: 951, proportion of debtors: 0.06624605678233439\n",
      "**************\n",
      "Marital status: гражданский брак.\n",
      "People in group: 4134, proportion of debtors: 0.09313014029995162\n",
      "**************\n",
      "Marital status: женат / замужем.\n",
      "People in group: 12261, proportion of debtors: 0.07560557866405676\n",
      "**************\n",
      "Marital status: не женат / не замужем.\n",
      "People in group: 2796, proportion of debtors: 0.09763948497854077\n",
      "**************\n"
     ]
    }
   ],
   "source": [
    "# Ваш код будет здесь. Вы можете создавать новые ячейки.\n",
    "data['family_status'] = data['family_status'].str.lower() # приведем все название категорий к одному регистру\n",
    "\n",
    "for marital_status, debt in data.groupby('family_status')['debt']:\n",
    "    print(f'Marital status: {marital_status}.')\n",
    "    print(f'People in group: {debt.count()}, proportion of debtors: {debt.mean()}')\n",
    "    print('**************')"
   ]
  },
  {
   "cell_type": "markdown",
   "id": "05e8a054-a885-418f-8b42-4e4fb31b837e",
   "metadata": {},
   "source": [
    "Let's visualize the data."
   ]
  },
  {
   "cell_type": "code",
   "execution_count": 28,
   "id": "285dac7e-acb3-42c5-8ffb-2d0c7caa1c19",
   "metadata": {},
   "outputs": [
    {
     "data": {
      "image/png": "[encoded data removed]",
      "text/plain": [
       "<Figure size 432x288 with 1 Axes>"
      ]
     },
     "metadata": {
      "needs_background": "light"
     },
     "output_type": "display_data"
    }
   ],
   "source": [
    "grouped_data = data.groupby('family_status')['debt'].mean()\n",
    "grouped_data = grouped_data.sort_values(ascending=False).reset_index()\n",
    "\n",
    "seaborn.barplot(x=grouped_data['family_status'], y=grouped_data['debt'])\n",
    "\n",
    "bars = ('not married', 'living together', 'married', 'divorced', 'widow(er)')\n",
    "x_pos = np.arange(len(bars))\n",
    "\n",
    "plt.xticks(x_pos, bars)\n",
    "plt.xlabel('Marital status')\n",
    "plt.ylabel('Proportion of debtors')\n",
    "plt.title('Relationship between marital status and debt repayment on time')\n",
    "plt.show()"
   ]
  },
  {
   "cell_type": "markdown",
   "id": "d5bd7da7-6d8c-41b1-80a2-0a0fe56a828e",
   "metadata": {},
   "source": [
    "**Summary:** There are a lot of debtors among those who have never been married (**9,76%**). Widowers are better at repaying debts (~6,6%) than those who are married, divoreced or who are just living together without marriage – the proportion of debtors is **7,6%**, **7%**, and **9,3%** respectively."
   ]
  },
  {
   "cell_type": "markdown",
   "id": "9c206508-cfa5-4f12-87e3-92091f04fb3c",
   "metadata": {},
   "source": [
    "To check the relationship between *income level* and *debt repayment*, we will group observations according to income categories and calculate the proportion of debtors in each groups. There are five categories of income (variable `total_income_category`):\n",
    "\n",
    "- 0–30000 — `'E'`;\n",
    "- 30001–50000 — `'D'`;\n",
    "- 50001–200000 — `'C'`;\n",
    "- 200001–1000000 — `'B'`;\n",
    "- 1000001 и выше — `'A'`.\n",
    "\n",
    "Let's calculate the proportion of debtors in each group."
   ]
  },
  {
   "cell_type": "code",
   "execution_count": 29,
   "id": "f0b341e3-5ce8-464e-8fed-459a3b570923",
   "metadata": {},
   "outputs": [
    {
     "name": "stdout",
     "output_type": "stream",
     "text": [
      "Income category: A\n",
      "People in group: 25, proportion of debtors: 0.08\n",
      "**************\n",
      "Income category: B\n",
      "People in group: 5014, proportion of debtors: 0.07060231352213801\n",
      "**************\n",
      "Income category: C\n",
      "People in group: 15921, proportion of debtors: 0.08498209911437724\n",
      "**************\n",
      "Income category: D\n",
      "People in group: 349, proportion of debtors: 0.06017191977077364\n",
      "**************\n",
      "Income category: E\n",
      "People in group: 22, proportion of debtors: 0.09090909090909091\n",
      "**************\n"
     ]
    }
   ],
   "source": [
    "# Ваш код будет здесь. Вы можете создавать новые ячейки.\n",
    "for income_cat, debt in data.groupby('total_income_category')['debt']:\n",
    "    print(f'Income category: {income_cat}')\n",
    "    print(f'People in group: {debt.count()}, proportion of debtors: {debt.mean()}')\n",
    "    print('**************')"
   ]
  },
  {
   "cell_type": "markdown",
   "id": "fc0cd985-3aff-496b-ae1e-50d11a99fc4b",
   "metadata": {},
   "source": [
    "Then, we visualize the data."
   ]
  },
  {
   "cell_type": "code",
   "execution_count": 30,
   "id": "407001c5-9398-4cbf-af9d-ac197cbaa4a4",
   "metadata": {},
   "outputs": [
    {
     "data": {
      "image/png": "[encoded data removed]",
      "text/plain": [
       "<Figure size 432x288 with 1 Axes>"
      ]
     },
     "metadata": {
      "needs_background": "light"
     },
     "output_type": "display_data"
    }
   ],
   "source": [
    "grouped_data = data.groupby('total_income_category')['debt'].mean()\n",
    "grouped_data = grouped_data.sort_values(ascending=False).reset_index()\n",
    "\n",
    "seaborn.barplot(x=grouped_data['total_income_category'], y=grouped_data['debt'])\n",
    "\n",
    "plt.xlabel('Income category')\n",
    "plt.ylabel('Proportion of debtors')\n",
    "plt.title('Relationship between income category and debt repayment on time')\n",
    "plt.show()"
   ]
  },
  {
   "cell_type": "markdown",
   "id": "9239357b-84b5-40a3-b0f8-67795ddf515a",
   "metadata": {},
   "source": [
    "**Summary:** The majority of debtors (**9%**) are those who's income does not exceed 30,000 rubles (category E). People with an income of more than 50,000 rubles (A, B or C category) are worse than the \"middle class\" (category D) in repaying debts. People with an average income (30-50,000 rubles), who were assigned to category D, better than others repay the debts (the proportion of debtors among them is **6%**)."
   ]
  },
  {
   "cell_type": "markdown",
   "id": "c0edf127-9c0d-48e5-ad87-7fddd8c0b1f3",
   "metadata": {},
   "source": [
    "To study the relationship between *purpose of loan* and *debt repayment on time*, let's group data depending on the loan purpose. Then we will calculate the proportion of debtors in each group. Therefore, we will determine which loans are usually repaid on time. To group the data, we will use the `purpose_category` variable, which indicates the purpose for which the loan was issued:\n",
    "\n",
    "- `'auto'`,\n",
    "- `'realty'`,\n",
    "- `'wedding'`,\n",
    "- `'education'`."
   ]
  },
  {
   "cell_type": "code",
   "execution_count": 31,
   "id": "37f30a99-5682-4426-9814-c9fadf9013b0",
   "metadata": {},
   "outputs": [
    {
     "name": "stdout",
     "output_type": "stream",
     "text": [
      "Loan purpose: auto\n",
      "People in group: 4279, proportion of debtors: 0.09347978499649451\n",
      "**************\n",
      "Loan purpose: education\n",
      "People in group: 3988, proportion of debtors: 0.09252758274824474\n",
      "**************\n",
      "Loan purpose: realty\n",
      "People in group: 10751, proportion of debtors: 0.07255139056831923\n",
      "**************\n",
      "Loan purpose: wedding\n",
      "People in group: 2313, proportion of debtors: 0.07911802853437094\n",
      "**************\n"
     ]
    }
   ],
   "source": [
    "# Ваш код будет здесь. Вы можете создавать новые ячейки.\n",
    "for purpose, debt in data.groupby('purpose_category')['debt']:\n",
    "    print(f'Loan purpose: {purpose}')\n",
    "    print(f'People in group: {debt.count()}, proportion of debtors: {debt.mean()}')\n",
    "    print('**************')"
   ]
  },
  {
   "cell_type": "markdown",
   "id": "5f36aaa7-bc9d-42a4-a4f4-0fd129ef7f1e",
   "metadata": {},
   "source": [
    "Let's visualize the data."
   ]
  },
  {
   "cell_type": "code",
   "execution_count": 32,
   "id": "21257b0f-b8eb-40fd-9597-f985d655e708",
   "metadata": {},
   "outputs": [
    {
     "data": {
      "image/png": "[encoded data removed]",
      "text/plain": [
       "<Figure size 432x288 with 1 Axes>"
      ]
     },
     "metadata": {
      "needs_background": "light"
     },
     "output_type": "display_data"
    }
   ],
   "source": [
    "grouped_data = data.groupby('purpose_category')['debt'].mean()\n",
    "grouped_data = grouped_data.sort_values(ascending=False).reset_index()\n",
    "\n",
    "seaborn.barplot(x=grouped_data['purpose_category'], y=grouped_data['debt'])\n",
    "\n",
    "plt.xlabel('Loan purpose')\n",
    "plt.ylabel('Proportion of debtors')\n",
    "plt.title('Relationship between loan purpose and debt repayment on time')\n",
    "plt.show()"
   ]
  },
  {
   "cell_type": "markdown",
   "id": "ff362ea1-dcfc-4773-bad6-8929e46cd973",
   "metadata": {},
   "source": [
    "**Summary:** There are **7.26%** debtors among those who arranged a mortgage. The proportion of debtors is slightly higher (**7.9%**) among those who took out a loan for wedding. There are a lot of debtors among students or thier parents who took out a loan for education perposes (**9.25%**). Finally, the proportion of debtors is the highest (**9.3%**) among those who took out a loan for buying a car."
   ]
  },
  {
   "cell_type": "markdown",
   "id": "a1c85a8a-b716-41ae-be61-7b09b072e19f",
   "metadata": {},
   "source": [
    "### Conclusion"
   ]
  },
  {
   "cell_type": "markdown",
   "id": "833c4896-e77c-47ed-93db-8e0b1d7241a8",
   "metadata": {},
   "source": [
    "**Data preprocessing:**\n",
    "* At the first stage, missing values were identified in the `days_employed` and `total_income` variables. Since monthly income (`total_income`) dependends on the type of employment, the group median value was used to fill in NA values. Examining the variable `days_employed`, outliers were found (values for *retirees* and *unemployed*). Due to outliers, we used group median to fill NA in this variable.\n",
    "* In addition, outliers were found in other variables. Negative values for the `days_employed` variable were replaced by the modulus of these values, and observations with negative values of the `children` variable were dropped.\n",
    "* Then we changed `total_income` variable type from float to integer.\n",
    "* We have also dropped implicit duplicates from the data.\n",
    "* Finally, we categorized the `total_income` variable and created income categories A-E. Then we categorized the `purpose` variable, dividing the purpose of the loan into 1) realty transactions, 2) car transactions, 3) wedding, 4) education.\n",
    "\n",
    "**Data analysis:**\n",
    "* There is no linear relationship between the number of children and the debt repayment on time: large and non-large families similarly cope with loan obligations.\n",
    "* There are less debtors among widowers and divorcees than among those who have never been married. We assume that it depends on another variable, for example, age.\n",
    "* We assume that there is a quadratic (U-shaped) relationship between the income level and repayment of the loan on time: the most debtors are among those whose income does not exceed 30 thousand and among people with above-average incomes (from 50 thousand rubles). The middle class (income of 30-50 thousand rubles) copes with loan obligations better than others.\n",
    "* There is a relationship between the purpose of the loan and debt repayments on time. Those who arranged a mortgage better than others cope with loan obligations. The proportion of debtors is higher among students and drivers."
   ]
  }
 ],
 "metadata": {
  "kernelspec": {
   "display_name": "Python 3 (ipykernel)",
   "language": "python",
   "name": "python3"
  },
  "language_info": {
   "codemirror_mode": {
    "name": "ipython",
    "version": 3
   },
   "file_extension": ".py",
   "mimetype": "text/x-python",
   "name": "python",
   "nbconvert_exporter": "python",
   "pygments_lexer": "ipython3",
   "version": "3.9.12"
  }
 },
 "nbformat": 4,
 "nbformat_minor": 5
}
