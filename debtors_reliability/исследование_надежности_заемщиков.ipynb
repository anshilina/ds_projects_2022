{
 "cells": [
  {
   "cell_type": "markdown",
   "id": "d2af6dec-81a2-41e6-97a0-6d6238010eb8",
   "metadata": {},
   "source": [
    "# Исследование надежности заемщиков"
   ]
  },
  {
   "cell_type": "code",
   "execution_count": 65,
   "id": "3f22e59a-33a2-42d0-87a5-265b9f75be3e",
   "metadata": {},
   "outputs": [],
   "source": [
    "import pandas as pd\n",
    "import seaborn\n",
    "import matplotlib.pyplot as plt\n",
    "import numpy as np"
   ]
  },
  {
   "cell_type": "code",
   "execution_count": 66,
   "id": "5ae50130-1ae7-410a-8241-2bc3715eaec1",
   "metadata": {},
   "outputs": [],
   "source": [
    "try:\n",
    "    data = pd.read_csv('data.csv')\n",
    "except:\n",
    "    data = pd.read_csv('datasets/data.csv')"
   ]
  },
  {
   "cell_type": "code",
   "execution_count": 67,
   "id": "45a62971-0946-4a42-a0d7-f7a13e34b494",
   "metadata": {},
   "outputs": [
    {
     "data": {
      "text/html": [
       "<div>\n",
       "<style scoped>\n",
       "    .dataframe tbody tr th:only-of-type {\n",
       "        vertical-align: middle;\n",
       "    }\n",
       "\n",
       "    .dataframe tbody tr th {\n",
       "        vertical-align: top;\n",
       "    }\n",
       "\n",
       "    .dataframe thead th {\n",
       "        text-align: right;\n",
       "    }\n",
       "</style>\n",
       "<table border=\"1\" class=\"dataframe\">\n",
       "  <thead>\n",
       "    <tr style=\"text-align: right;\">\n",
       "      <th></th>\n",
       "      <th>children</th>\n",
       "      <th>days_employed</th>\n",
       "      <th>dob_years</th>\n",
       "      <th>education</th>\n",
       "      <th>education_id</th>\n",
       "      <th>family_status</th>\n",
       "      <th>family_status_id</th>\n",
       "      <th>gender</th>\n",
       "      <th>income_type</th>\n",
       "      <th>debt</th>\n",
       "      <th>total_income</th>\n",
       "      <th>purpose</th>\n",
       "    </tr>\n",
       "  </thead>\n",
       "  <tbody>\n",
       "    <tr>\n",
       "      <th>0</th>\n",
       "      <td>1</td>\n",
       "      <td>-8437.673028</td>\n",
       "      <td>42</td>\n",
       "      <td>высшее</td>\n",
       "      <td>0</td>\n",
       "      <td>женат / замужем</td>\n",
       "      <td>0</td>\n",
       "      <td>F</td>\n",
       "      <td>сотрудник</td>\n",
       "      <td>0</td>\n",
       "      <td>253875.639453</td>\n",
       "      <td>покупка жилья</td>\n",
       "    </tr>\n",
       "    <tr>\n",
       "      <th>1</th>\n",
       "      <td>1</td>\n",
       "      <td>-4024.803754</td>\n",
       "      <td>36</td>\n",
       "      <td>среднее</td>\n",
       "      <td>1</td>\n",
       "      <td>женат / замужем</td>\n",
       "      <td>0</td>\n",
       "      <td>F</td>\n",
       "      <td>сотрудник</td>\n",
       "      <td>0</td>\n",
       "      <td>112080.014102</td>\n",
       "      <td>приобретение автомобиля</td>\n",
       "    </tr>\n",
       "    <tr>\n",
       "      <th>2</th>\n",
       "      <td>0</td>\n",
       "      <td>-5623.422610</td>\n",
       "      <td>33</td>\n",
       "      <td>Среднее</td>\n",
       "      <td>1</td>\n",
       "      <td>женат / замужем</td>\n",
       "      <td>0</td>\n",
       "      <td>M</td>\n",
       "      <td>сотрудник</td>\n",
       "      <td>0</td>\n",
       "      <td>145885.952297</td>\n",
       "      <td>покупка жилья</td>\n",
       "    </tr>\n",
       "    <tr>\n",
       "      <th>3</th>\n",
       "      <td>3</td>\n",
       "      <td>-4124.747207</td>\n",
       "      <td>32</td>\n",
       "      <td>среднее</td>\n",
       "      <td>1</td>\n",
       "      <td>женат / замужем</td>\n",
       "      <td>0</td>\n",
       "      <td>M</td>\n",
       "      <td>сотрудник</td>\n",
       "      <td>0</td>\n",
       "      <td>267628.550329</td>\n",
       "      <td>дополнительное образование</td>\n",
       "    </tr>\n",
       "    <tr>\n",
       "      <th>4</th>\n",
       "      <td>0</td>\n",
       "      <td>340266.072047</td>\n",
       "      <td>53</td>\n",
       "      <td>среднее</td>\n",
       "      <td>1</td>\n",
       "      <td>гражданский брак</td>\n",
       "      <td>1</td>\n",
       "      <td>F</td>\n",
       "      <td>пенсионер</td>\n",
       "      <td>0</td>\n",
       "      <td>158616.077870</td>\n",
       "      <td>сыграть свадьбу</td>\n",
       "    </tr>\n",
       "  </tbody>\n",
       "</table>\n",
       "</div>"
      ],
      "text/plain": [
       "   children  days_employed  dob_years education  education_id  \\\n",
       "0         1   -8437.673028         42    высшее             0   \n",
       "1         1   -4024.803754         36   среднее             1   \n",
       "2         0   -5623.422610         33   Среднее             1   \n",
       "3         3   -4124.747207         32   среднее             1   \n",
       "4         0  340266.072047         53   среднее             1   \n",
       "\n",
       "      family_status  family_status_id gender income_type  debt   total_income  \\\n",
       "0   женат / замужем                 0      F   сотрудник     0  253875.639453   \n",
       "1   женат / замужем                 0      F   сотрудник     0  112080.014102   \n",
       "2   женат / замужем                 0      M   сотрудник     0  145885.952297   \n",
       "3   женат / замужем                 0      M   сотрудник     0  267628.550329   \n",
       "4  гражданский брак                 1      F   пенсионер     0  158616.077870   \n",
       "\n",
       "                      purpose  \n",
       "0               покупка жилья  \n",
       "1     приобретение автомобиля  \n",
       "2               покупка жилья  \n",
       "3  дополнительное образование  \n",
       "4             сыграть свадьбу  "
      ]
     },
     "execution_count": 67,
     "metadata": {},
     "output_type": "execute_result"
    }
   ],
   "source": [
    "data.head(5)"
   ]
  },
  {
   "cell_type": "code",
   "execution_count": 68,
   "id": "ab303855-dcd6-49f0-bfd3-975cbaff1f03",
   "metadata": {},
   "outputs": [
    {
     "name": "stdout",
     "output_type": "stream",
     "text": [
      "<class 'pandas.core.frame.DataFrame'>\n",
      "RangeIndex: 21525 entries, 0 to 21524\n",
      "Data columns (total 12 columns):\n",
      " #   Column            Non-Null Count  Dtype  \n",
      "---  ------            --------------  -----  \n",
      " 0   children          21525 non-null  int64  \n",
      " 1   days_employed     19351 non-null  float64\n",
      " 2   dob_years         21525 non-null  int64  \n",
      " 3   education         21525 non-null  object \n",
      " 4   education_id      21525 non-null  int64  \n",
      " 5   family_status     21525 non-null  object \n",
      " 6   family_status_id  21525 non-null  int64  \n",
      " 7   gender            21525 non-null  object \n",
      " 8   income_type       21525 non-null  object \n",
      " 9   debt              21525 non-null  int64  \n",
      " 10  total_income      19351 non-null  float64\n",
      " 11  purpose           21525 non-null  object \n",
      "dtypes: float64(2), int64(5), object(5)\n",
      "memory usage: 2.0+ MB\n"
     ]
    }
   ],
   "source": [
    "data.info()"
   ]
  },
  {
   "cell_type": "markdown",
   "id": "dd6ca213-4c59-44b7-bc17-55571b2675de",
   "metadata": {},
   "source": [
    "В двух столбцах есть пропущенные значения. Один из них — `days_employed`. Пропуски в этом столбце будут обработаны на следующем этапе. Другой столбец с пропущенными значениями — `total_income` — хранит данные о доходах. На сумму дохода сильнее всего влияет тип занятости, поэтому заполнить пропуски в этом столбце нужно медианным значением по каждому типу из столбца `income_type`. Например, у человека с типом занятости `сотрудник` пропуск в столбце `total_income` должен быть заполнен медианным доходом среди всех записей с тем же типом."
   ]
  },
  {
   "cell_type": "code",
   "execution_count": 69,
   "id": "5ddfaaa6-a859-41fb-ba5c-13ddc650cf20",
   "metadata": {},
   "outputs": [
    {
     "data": {
      "text/plain": [
       "children               0\n",
       "days_employed       2174\n",
       "dob_years              0\n",
       "education              0\n",
       "education_id           0\n",
       "family_status          0\n",
       "family_status_id       0\n",
       "gender                 0\n",
       "income_type            0\n",
       "debt                   0\n",
       "total_income        2174\n",
       "purpose                0\n",
       "dtype: int64"
      ]
     },
     "execution_count": 69,
     "metadata": {},
     "output_type": "execute_result"
    }
   ],
   "source": [
    "data.isna().sum()"
   ]
  },
  {
   "cell_type": "code",
   "execution_count": 70,
   "id": "a4ada4d5-903b-4e9b-acb9-4215bc86683f",
   "metadata": {},
   "outputs": [],
   "source": [
    "for t in data['income_type'].unique():\n",
    "    data.loc[(data['income_type'] == t) & (data['total_income'].isna()), 'total_income'] = \\\n",
    "    data.loc[(data['income_type'] == t), 'total_income'].median()"
   ]
  },
  {
   "cell_type": "markdown",
   "id": "27789a43-595c-4ebe-9e85-f1c21e3a8347",
   "metadata": {},
   "source": [
    "### Обработка аномальных значений"
   ]
  },
  {
   "cell_type": "markdown",
   "id": "cffba7cd-6a11-412c-b1c5-8e89f9d65a11",
   "metadata": {},
   "source": [
    "Отрицательное количество дней трудового стажа в столбце `days_employed` – это аномалия. Обработаем значения в этом столбце: замените все отрицательные значения положительными с помощью метода `abs()`."
   ]
  },
  {
   "cell_type": "code",
   "execution_count": 71,
   "id": "3dcc2a2d-b4f8-4d69-836c-66fad89e92c8",
   "metadata": {},
   "outputs": [],
   "source": [
    "data['days_employed'] = data['days_employed'].abs()"
   ]
  },
  {
   "cell_type": "markdown",
   "id": "974dd4c2-d26a-42af-9211-4f38ac0c628b",
   "metadata": {},
   "source": [
    "Для каждого типа занятости выведем медианное значение трудового стажа `days_employed` в днях."
   ]
  },
  {
   "cell_type": "code",
   "execution_count": 72,
   "id": "7dd62fed-0f3b-46b0-afad-c9fe6dec3dea",
   "metadata": {},
   "outputs": [
    {
     "data": {
      "text/plain": [
       "income_type\n",
       "безработный        366413.652744\n",
       "в декрете            3296.759962\n",
       "госслужащий          2689.368353\n",
       "компаньон            1547.382223\n",
       "пенсионер          365213.306266\n",
       "предприниматель       520.848083\n",
       "сотрудник            1574.202821\n",
       "студент               578.751554\n",
       "Name: days_employed, dtype: float64"
      ]
     },
     "execution_count": 72,
     "metadata": {},
     "output_type": "execute_result"
    }
   ],
   "source": [
    "data.groupby('income_type')['days_employed'].agg('median')"
   ]
  },
  {
   "cell_type": "markdown",
   "id": "30229236-67a1-45f7-8cb5-19f5adc75e67",
   "metadata": {},
   "source": [
    "У двух типов (безработные и пенсионеры) аномально большие значения. Исправить такие значения сложно, оставим их как есть. Тем более этот столбец не понадобится нам для исследования."
   ]
  },
  {
   "cell_type": "markdown",
   "id": "a44d1cff-8054-47d3-86be-d42dd8f45d0e",
   "metadata": {},
   "source": [
    "Выведем перечень уникальных значений столбца `children`."
   ]
  },
  {
   "cell_type": "code",
   "execution_count": 73,
   "id": "611ce9f4-3b7b-4185-9a78-8fd1efc9a70b",
   "metadata": {},
   "outputs": [
    {
     "data": {
      "text/plain": [
       "array([ 1,  0,  3,  2, -1,  4, 20,  5])"
      ]
     },
     "execution_count": 73,
     "metadata": {},
     "output_type": "execute_result"
    }
   ],
   "source": [
    "data['children'].unique()"
   ]
  },
  {
   "cell_type": "markdown",
   "id": "8e5177f7-199e-4658-8929-c2d56647a671",
   "metadata": {},
   "source": [
    "В столбце `children` есть два аномальных значения. Удалим строки, в которых встречаются такие аномальные значения из датафрейма."
   ]
  },
  {
   "cell_type": "code",
   "execution_count": 74,
   "id": "c58f5bba-e49b-41ef-b458-90b4cc02391b",
   "metadata": {},
   "outputs": [
    {
     "data": {
      "text/plain": [
       "array([1, 0, 3, 2, 4, 5])"
      ]
     },
     "execution_count": 74,
     "metadata": {},
     "output_type": "execute_result"
    }
   ],
   "source": [
    "data = data[(data['children'] != -1) & (data['children'] != 20)]\n",
    "data['children'].unique()"
   ]
  },
  {
   "cell_type": "markdown",
   "id": "d83e26cf-cf4a-49c4-814c-17be5bfaceaf",
   "metadata": {},
   "source": [
    "### Удаление пропусков (продолжение)"
   ]
  },
  {
   "cell_type": "markdown",
   "id": "c942b46d-b829-428c-afb7-e9c572b28ebe",
   "metadata": {},
   "source": [
    "Заполним пропуски в столбце `days_employed` медианными значениями по каждого типа занятости `income_type`."
   ]
  },
  {
   "cell_type": "code",
   "execution_count": 75,
   "id": "5b0bc0cb-c5d9-441e-8076-0ade00500a38",
   "metadata": {},
   "outputs": [],
   "source": [
    "for t in data['income_type'].unique():\n",
    "    data.loc[(data['income_type'] == t) & (data['days_employed'].isna()), 'days_employed'] = \\\n",
    "    data.loc[(data['income_type'] == t), 'days_employed'].median()"
   ]
  },
  {
   "cell_type": "code",
   "execution_count": 76,
   "id": "404f9c2b-dbaa-4047-96d1-307c1a06e1bb",
   "metadata": {},
   "outputs": [
    {
     "data": {
      "text/plain": [
       "0"
      ]
     },
     "execution_count": 76,
     "metadata": {},
     "output_type": "execute_result"
    }
   ],
   "source": [
    "data.isna().sum().sum()"
   ]
  },
  {
   "cell_type": "markdown",
   "id": "6c40ade4-13ad-462d-a239-9214351d25f6",
   "metadata": {},
   "source": [
    "[Выделяют](https://loginom.ru/blog/missing) три механизма появления пропусков: *совершенно случаные* пропуски (missing completely at random), у которых равны вероятности возникновения; *случайные* (missing at random), которые по факту не совсем случайные, а возникшие ввиду какой-либо закономерности, которую можно описать, исходя из имеющегося набора данных; и *не случайные* (missing not at random) – те, что отсутвуют по неизвестным причинам (эти причины невозможно установить, исходя из имеющихся данных). В массиве с информацией по заемщикам пропуски есть в переменных `days_employed` (общий трудовой стаж в днях) и `total_income` (ежемесячный доход).\n",
    "\n",
    "Пропущенные значение в переменных `days_employed` и `total_income` нельзя объяснить с помощью остальных переменных. Другими словами, нет никакой закономерности между пропусками в этих переменных и значениями других переменных. Единственная закономерность, которую удалось выявить – это взаимосвязь между пропусками в `days_employed` и в `total_income`. Те, кто не сообщил свой общий трудовой стаж в днях, также не указал ежемесячный доход. Таким образом, нельзя утверждать, что переменные были пропущены *совершенно случано* (completely at random). Также невозможно объяснить закономерность возникновения пропусков, исходя из данных в массиве (не получится объяснить пропуски через пропуски), поэтому ввозникновение пропусков нельзя назвать *случайным* (at random). Следовтаельно, данные были пропущены **не случайно** (not at random). У нас недостаточно данных, чтобы объяснить, почему появились пропуски в этих двух переменных. Это могла быть как техническая ошибка, возникшая при выгрузке данных, так и ошибка связанная с человеческим фактором (например, сотрудник банка не уточнил у этих клиентов общий трудовой стаж и ежемесячный доход)."
   ]
  },
  {
   "cell_type": "markdown",
   "id": "e7119d77-9536-4c8b-93c0-375b75b9e8be",
   "metadata": {},
   "source": [
    "### Изменение типов данных"
   ]
  },
  {
   "cell_type": "markdown",
   "id": "1957b757-d4e6-412c-b213-fd20c8f46450",
   "metadata": {},
   "source": [
    "Заменим вещественный тип данных в столбце `total_income` на целочисленный с помощью метода `astype()`."
   ]
  },
  {
   "cell_type": "code",
   "execution_count": 77,
   "id": "653dad0f-4e65-43da-b10f-65dde887a22a",
   "metadata": {},
   "outputs": [],
   "source": [
    "data['total_income'] = data['total_income'].astype(int)"
   ]
  },
  {
   "cell_type": "markdown",
   "id": "50d0f78a-3ae8-449b-8f97-13c783ca743e",
   "metadata": {},
   "source": [
    "### Обработка дубликатов"
   ]
  },
  {
   "cell_type": "markdown",
   "id": "e7418897-9071-4ffe-b555-e17054098909",
   "metadata": {},
   "source": [
    "Обработаем неявные дубликаты в столбце `education`. В этом столбце есть одни и те же значения, но записанные по-разному: с использованием заглавных и строчных букв. Приведем их к нижнему регистру. Проверим остальные столбцы."
   ]
  },
  {
   "cell_type": "code",
   "execution_count": 78,
   "id": "e7f6f6b3-1c3f-4cf5-90e6-c4fad96a7ba5",
   "metadata": {},
   "outputs": [],
   "source": [
    "data['education'] = data['education'].str.lower()"
   ]
  },
  {
   "cell_type": "markdown",
   "id": "c4cf9314-64ad-4b25-937d-1d62b8c05aa9",
   "metadata": {},
   "source": [
    "Выведем на экран количество строк-дубликатов в данных. Удалим их."
   ]
  },
  {
   "cell_type": "code",
   "execution_count": 79,
   "id": "23de13bf-8ca5-4aa1-b3c0-1f2a739d194c",
   "metadata": {},
   "outputs": [
    {
     "data": {
      "text/plain": [
       "71"
      ]
     },
     "execution_count": 79,
     "metadata": {},
     "output_type": "execute_result"
    }
   ],
   "source": [
    "data.duplicated().sum()"
   ]
  },
  {
   "cell_type": "code",
   "execution_count": 80,
   "id": "dde0ca68-2539-4e11-8295-1d38f86779fa",
   "metadata": {},
   "outputs": [],
   "source": [
    "data = data.drop_duplicates()"
   ]
  },
  {
   "cell_type": "markdown",
   "id": "f0ffad49-f6ed-45e7-8364-9f1f5876df9f",
   "metadata": {},
   "source": [
    "### Категоризация данных"
   ]
  },
  {
   "cell_type": "markdown",
   "id": "a36aeaba-2954-4973-bd8e-4bd36ba49c8c",
   "metadata": {},
   "source": [
    "На основании диапазонов, указанных ниже, создадим в датафрейме столбец `total_income_category` с категориями:\n",
    "\n",
    "- 0–30000 — `'E'`\n",
    "- 30001–50000 — `'D'`\n",
    "- 50001–200000 — `'C'`\n",
    "- 200001–1000000 — `'B'`\n",
    "- 1000001 и выше (and above) — `'A'`"
   ]
  },
  {
   "cell_type": "code",
   "execution_count": 81,
   "id": "32db09ac-99ff-4201-8651-b34f319538ee",
   "metadata": {},
   "outputs": [],
   "source": [
    "def categorize_income(income):\n",
    "    try:\n",
    "        if 0 <= income <= 30000:\n",
    "            return 'E'\n",
    "        elif 30001 <= income <= 50000:\n",
    "            return 'D'\n",
    "        elif 50001 <= income <= 200000:\n",
    "            return 'C'\n",
    "        elif 200001 <= income <= 1000000:\n",
    "            return 'B'\n",
    "        elif income >= 1000001:\n",
    "            return 'A'\n",
    "    except:\n",
    "        pass"
   ]
  },
  {
   "cell_type": "code",
   "execution_count": 82,
   "id": "ad0d4b66-a2c4-43ef-91ac-52b7f5a0fe14",
   "metadata": {},
   "outputs": [],
   "source": [
    "data['total_income_category'] = data['total_income'].apply(categorize_income)"
   ]
  },
  {
   "cell_type": "markdown",
   "id": "ecb38c62-3596-40a9-9f71-3f78fe9140b9",
   "metadata": {},
   "source": [
    "Выведем на экран перечень уникальных целей взятия кредита из столбца `purpose`."
   ]
  },
  {
   "cell_type": "code",
   "execution_count": 83,
   "id": "135d27d4-d9b3-4108-a646-e973c8b169a3",
   "metadata": {},
   "outputs": [
    {
     "data": {
      "text/plain": [
       "array(['покупка жилья', 'приобретение автомобиля',\n",
       "       'дополнительное образование', 'сыграть свадьбу',\n",
       "       'операции с жильем', 'образование', 'на проведение свадьбы',\n",
       "       'покупка жилья для семьи', 'покупка недвижимости',\n",
       "       'покупка коммерческой недвижимости', 'покупка жилой недвижимости',\n",
       "       'строительство собственной недвижимости', 'недвижимость',\n",
       "       'строительство недвижимости', 'на покупку подержанного автомобиля',\n",
       "       'на покупку своего автомобиля',\n",
       "       'операции с коммерческой недвижимостью',\n",
       "       'строительство жилой недвижимости', 'жилье',\n",
       "       'операции со своей недвижимостью', 'автомобили',\n",
       "       'заняться образованием', 'сделка с подержанным автомобилем',\n",
       "       'получение образования', 'автомобиль', 'свадьба',\n",
       "       'получение дополнительного образования', 'покупка своего жилья',\n",
       "       'операции с недвижимостью', 'получение высшего образования',\n",
       "       'свой автомобиль', 'сделка с автомобилем',\n",
       "       'профильное образование', 'высшее образование',\n",
       "       'покупка жилья для сдачи', 'на покупку автомобиля', 'ремонт жилью',\n",
       "       'заняться высшим образованием'], dtype=object)"
      ]
     },
     "execution_count": 83,
     "metadata": {},
     "output_type": "execute_result"
    }
   ],
   "source": [
    "data['purpose'].unique()"
   ]
  },
  {
   "cell_type": "markdown",
   "id": "d8570cf6-f7a2-4863-9a0e-0e1af5494570",
   "metadata": {},
   "source": [
    "Создадим функцию, которая на основании данных из столбца `purpose` сформирует новый столбец `purpose_category`, в который войдут следующие категории:\n",
    "\n",
    "- `'операции с автомобилем'`, \n",
    "- `'операции с недвижимостью'`,\n",
    "- `'проведение свадьбы'`,\n",
    "- `'получение образования'`."
   ]
  },
  {
   "cell_type": "code",
   "execution_count": 84,
   "id": "5e188afd-21cd-462a-ae56-99a566d3167a",
   "metadata": {},
   "outputs": [],
   "source": [
    "def categorize_purpose(row):\n",
    "    try:\n",
    "        if 'автом' in row:\n",
    "            return 'операции с автомобилем'\n",
    "        elif 'жил' in row or 'недвиж' in row:\n",
    "            return 'операции с недвижимостью'\n",
    "        elif 'свад' in row:\n",
    "            return 'проведение свадьбы'\n",
    "        elif 'образов' in row:\n",
    "            return 'получение образования'\n",
    "    except:\n",
    "        return 'нет категории'"
   ]
  },
  {
   "cell_type": "code",
   "execution_count": 85,
   "id": "823c0d64-69f9-4a75-bc52-33b4337b54c2",
   "metadata": {},
   "outputs": [],
   "source": [
    "data['purpose_category'] = data['purpose'].apply(categorize_purpose)"
   ]
  },
  {
   "cell_type": "markdown",
   "id": "b166d2b2-194c-4f05-ad60-b0ec230affb0",
   "metadata": {},
   "source": [
    "### Исследовательский анализ данных"
   ]
  },
  {
   "cell_type": "markdown",
   "id": "5da37a57-c356-4a26-bd0a-f68b4cc42c7b",
   "metadata": {},
   "source": [
    "Для того, чтобы посмотреть на зависимость между количеством детей в семье и возвратом кредита в срок мы сгруппируем данные по количеству детей в семье и оценим долю должников в каждой группе. Для этого мы сгруппируем данные по переменной `children` и разделим количество должников на общее число людей в группе (поскольку переменная `debt` бинарная, мы можем оценить среднее в группе)."
   ]
  },
  {
   "cell_type": "code",
   "execution_count": 86,
   "id": "fc3b2e10-c106-467e-aa86-7119fbf6d760",
   "metadata": {},
   "outputs": [
    {
     "name": "stdout",
     "output_type": "stream",
     "text": [
      "Кол-во детей: 0.\n",
      "Кол-во наблюдений в группе: 14091, доля должников: 0.07543822297920659\n",
      "**************\n",
      "Кол-во детей: 1.\n",
      "Кол-во наблюдений в группе: 4808, доля должников: 0.09234608985024959\n",
      "**************\n",
      "Кол-во детей: 2.\n",
      "Кол-во наблюдений в группе: 2052, доля должников: 0.09454191033138401\n",
      "**************\n",
      "Кол-во детей: 3.\n",
      "Кол-во наблюдений в группе: 330, доля должников: 0.08181818181818182\n",
      "**************\n",
      "Кол-во детей: 4.\n",
      "Кол-во наблюдений в группе: 41, доля должников: 0.0975609756097561\n",
      "**************\n",
      "Кол-во детей: 5.\n",
      "Кол-во наблюдений в группе: 9, доля должников: 0.0\n",
      "**************\n"
     ]
    }
   ],
   "source": [
    "for children_num, debt in data.groupby('children')['debt']:\n",
    "    print(f'Кол-во детей: {children_num}.') \n",
    "    print(f'Кол-во наблюдений в группе: {debt.count()}, доля должников: {debt.mean()}')\n",
    "    print('**************')"
   ]
  },
  {
   "cell_type": "markdown",
   "id": "9310608f-6fd6-457b-bad8-a01e06554e45",
   "metadata": {},
   "source": [
    "Визуализируем данные для того, чтобы легче было сравнивать группы. Предварительно отсортируем группы в порядке убывания доли должников."
   ]
  },
  {
   "cell_type": "code",
   "execution_count": 87,
   "id": "f4ae4359-5455-4ce5-b0e6-2cf8d1d3cfcf",
   "metadata": {},
   "outputs": [
    {
     "data": {
      "image/png": "[encoded data removed]",
      "text/plain": [
       "<Figure size 432x288 with 1 Axes>"
      ]
     },
     "metadata": {
      "needs_background": "light"
     },
     "output_type": "display_data"
    }
   ],
   "source": [
    "grouped_data = data.groupby('children')['debt'].mean()\n",
    "grouped_data = grouped_data.sort_values(ascending=False).reset_index()\n",
    "grouped_data['children'] = grouped_data['children'].astype('str')\n",
    "\n",
    "seaborn.barplot(x=grouped_data['children'], y=grouped_data['debt'])\n",
    "plt.xlabel('Кол-во детей')\n",
    "plt.ylabel('Доля должников')\n",
    "plt.title('Взаимосвязь между количеством детей в семье и долей должников')\n",
    "plt.show()"
   ]
  },
  {
   "cell_type": "markdown",
   "id": "854a6537-f1de-4c4c-8c7d-82a1ea92d014",
   "metadata": {},
   "source": [
    "Анализ графика показывает, что нет линейной взаимосвязи между количеством детей в семье и возвратом кредита в сорк.\n",
    "\n",
    "Отметим, что в выборке представлено всего 9 семей, в которых воспитывается 5 детей. Такие данные могут быть нерепрезентативными. Для того, чтобы перепроверить полученные на предыдущем этапе результаты, мы можем категоризировать данные и посмотреть, как справляются с обязательствами по кредиту **многодетные** и **не многодетные семьи**. В России многодетной считается семья, в которой воспитываются три или более несовершеннолетних ребенка. Исходя из этого разделим выборку на основе значения переменной `children`."
   ]
  },
  {
   "cell_type": "code",
   "execution_count": 88,
   "id": "c5c46cac-390e-44c0-b6b5-67e9218f7f61",
   "metadata": {},
   "outputs": [],
   "source": [
    "def large_family(series):\n",
    "    if series >= 3:\n",
    "        return 'многодетная семья'\n",
    "    else:\n",
    "        return 'не многодетная семья'\n",
    "    \n",
    "data['children_status'] = data['children'].apply(large_family)"
   ]
  },
  {
   "cell_type": "markdown",
   "id": "ac1134e4-7237-4deb-9d17-30bd1b2d2cc6",
   "metadata": {},
   "source": [
    "Посчитаем долю должников в группе многодетных и не многодетных семей."
   ]
  },
  {
   "cell_type": "code",
   "execution_count": 89,
   "id": "ac02b381-d253-43e5-9e85-cbd33e6fa387",
   "metadata": {},
   "outputs": [
    {
     "name": "stdout",
     "output_type": "stream",
     "text": [
      "Статус семьи: многодетная семья. Кол-во наблюдений: 380, доля должников: 0.08157894736842106\n",
      "Статус семьи: не многодетная семья. Кол-во наблюдений: 20951, доля должников: 0.08118944203140661\n"
     ]
    }
   ],
   "source": [
    "for status, debt in data.groupby('children_status')['debt']:\n",
    "    print(f'Статус семьи: {status}. Кол-во наблюдений: {debt.count()}, доля должников: {debt.mean()}')"
   ]
  },
  {
   "cell_type": "markdown",
   "id": "aa313782-554d-4f05-a119-d9d2aaa3cd09",
   "metadata": {},
   "source": [
    "Из полученных данных видно, что доли должников в рассматриваемых группах правктически одинаковые (разница составляет **0,04%**). Визуализируем данные, чтобы убедиться в этом."
   ]
  },
  {
   "cell_type": "code",
   "execution_count": 90,
   "id": "2360fef8-2bcc-4d8b-91d7-72735e60c4e7",
   "metadata": {},
   "outputs": [
    {
     "data": {
      "image/png": "[encoded data removed]",
      "text/plain": [
       "<Figure size 432x288 with 1 Axes>"
      ]
     },
     "metadata": {
      "needs_background": "light"
     },
     "output_type": "display_data"
    }
   ],
   "source": [
    "grouped_data = data.groupby('children_status')['debt'].mean()\n",
    "grouped_data = grouped_data.sort_values(ascending=False).reset_index()\n",
    "\n",
    "seaborn.barplot(x=grouped_data['children_status'], y=grouped_data['debt'])\n",
    "\n",
    "plt.xlabel('Статус семьи')\n",
    "plt.ylabel('Доля должников')\n",
    "plt.title('Взаимосвязь между статусом семьи и долей должников')\n",
    "plt.show()"
   ]
  },
  {
   "cell_type": "markdown",
   "id": "4f845e06-41ac-4f12-be4e-ff0c1d96b8c0",
   "metadata": {},
   "source": [
    "**Вывод:** Не наблюдается зависимость между количеством детей в семье и возвратом кредитов в срок. Доли должников среди тех, у кого 1-2, 4 ребенка приблизительно равны (**9,2-9,8%**). Чуть меньше должников в семьях, где 3 ребенка (**8%**) и где нет детей вообще (**7,5%**). В семьях, где проживает 5 детей, доля должников в этой выборке составила **0%**. Рассмотрев данных по категориям среди **многодетных** и **не многодетных** мы убедились в отсутсвии зависимости между количеством детей в семье и возвратом кредита."
   ]
  },
  {
   "cell_type": "markdown",
   "id": "f356a268-207e-42c2-b11b-fe4262241933",
   "metadata": {},
   "source": [
    "Чтобы посмотреть на зависимость между семейным положением и возвратом кредита в срок, мы сгрупируем данные по семейному статусу и оценим долю должников в гаждой группе. Для группировки данных мы будем использовать переменную `family_status`, для определения доли должников мы, как и на предыдущем шаге, оценим среднее значение переменной `debt` в группах."
   ]
  },
  {
   "cell_type": "code",
   "execution_count": 91,
   "id": "61bf3b53-8eb6-4019-9c81-f7aa039f08da",
   "metadata": {},
   "outputs": [
    {
     "name": "stdout",
     "output_type": "stream",
     "text": [
      "Семейное положение: в разводе.\n",
      "Кол-во наблюдений: 1189, доля должников: 0.07064760302775441\n",
      "**************\n",
      "Семейное положение: вдовец / вдова.\n",
      "Кол-во наблюдений: 951, доля должников: 0.06624605678233439\n",
      "**************\n",
      "Семейное положение: гражданский брак.\n",
      "Кол-во наблюдений: 4134, доля должников: 0.09313014029995162\n",
      "**************\n",
      "Семейное положение: женат / замужем.\n",
      "Кол-во наблюдений: 12261, доля должников: 0.07560557866405676\n",
      "**************\n",
      "Семейное положение: не женат / не замужем.\n",
      "Кол-во наблюдений: 2796, доля должников: 0.09763948497854077\n",
      "**************\n"
     ]
    }
   ],
   "source": [
    "# Ваш код будет здесь. Вы можете создавать новые ячейки.\n",
    "data['family_status'] = data['family_status'].str.lower() # приведем все название категорий к одному регистру\n",
    "\n",
    "for marital_status, debt in data.groupby('family_status')['debt']:\n",
    "    print(f'Семейное положение: {marital_status}.')\n",
    "    print(f'Кол-во наблюдений: {debt.count()}, доля должников: {debt.mean()}')\n",
    "    print('**************')"
   ]
  },
  {
   "cell_type": "code",
   "execution_count": 92,
   "id": "285dac7e-acb3-42c5-8ffb-2d0c7caa1c19",
   "metadata": {},
   "outputs": [
    {
     "data": {
      "image/png": "[encoded data removed]",
      "text/plain": [
       "<Figure size 432x288 with 1 Axes>"
      ]
     },
     "metadata": {
      "needs_background": "light"
     },
     "output_type": "display_data"
    }
   ],
   "source": [
    "grouped_data = data.groupby('family_status')['debt'].mean()\n",
    "grouped_data = grouped_data.sort_values(ascending=False).reset_index()\n",
    "\n",
    "seaborn.barplot(x=grouped_data['family_status'], y=grouped_data['debt'])\n",
    "\n",
    "plt.xticks(rotation=90)\n",
    "plt.xlabel('Семейное положение')\n",
    "plt.ylabel('Доля должников')\n",
    "plt.title('Взаимосвязь между семейным положением и долей должников')\n",
    "plt.show()"
   ]
  },
  {
   "cell_type": "markdown",
   "id": "d5bd7da7-6d8c-41b1-80a2-0a0fe56a828e",
   "metadata": {},
   "source": [
    "Среди тех, кто не состоял в браке в принципе, больше всего должников. Но вдовцы и разведенные (т.е. те, кто уже не в браке) лучше справляются с обязательствами по кредиту, чем те, кто состоит в официальном или гражданском браке. На данном этапе не ясно, есть ли взаимосвязь между семейным положением и возвратом кредита.\n",
    "\n",
    "**Вывод:** Больше всего должников среди тех, кто изначально был отнесен в категорию \"не женат / не замужем\" (**9,76%**). На втором месте – должники из тех, кто состоит в граждансом браке (**9,3%**). Те, кто состит в браке или находится в разводе практически одинаково справляются с обязательствами по кредиту – доля должников в этих группах состявляет **7,6%** и **7%** соотвественно. Меньше всего должников среди вдовцов (6,6%). Нет явной взаимосвязи между семейным положением и возвратом кредита. Нельзя выявить единый тренд для людей, не состоящих в браке по разным причинам (вдовцов, разведенных, незамужних/неженатых)."
   ]
  },
  {
   "cell_type": "markdown",
   "id": "9c206508-cfa5-4f12-87e3-92091f04fb3c",
   "metadata": {},
   "source": [
    "Для того, чтобы проверить, есть ли взаимосвязь между уровнем дохода и возвратом кредита в срок, мы разделим выборку на группы в соответсвии с категиориями дохода и посчитаем долю должников в каждой из групп. Для этого на этапе предобработки мы сгрупировали данные по значениям переменной `total_income`. Всего в ходе анализа было выделеной пять категорий дохода: \n",
    "\n",
    "- 0–30000 — `'E'`;\n",
    "- 30001–50000 — `'D'`;\n",
    "- 50001–200000 — `'C'`;\n",
    "- 200001–1000000 — `'B'`;\n",
    "- 1000001 и выше — `'A'`.\n",
    "\n",
    "Далее мы оценим среднее значение переменной `debt` в каждой группе, чтобы выявить долю тех, у кого есть или были задолженности по кредитам."
   ]
  },
  {
   "cell_type": "code",
   "execution_count": 93,
   "id": "f0b341e3-5ce8-464e-8fed-459a3b570923",
   "metadata": {},
   "outputs": [
    {
     "name": "stdout",
     "output_type": "stream",
     "text": [
      "Уровень дохода: A\n",
      "Кол-во наблюдений: 25, доля должников: 0.08\n",
      "**************\n",
      "Уровень дохода: B\n",
      "Кол-во наблюдений: 5014, доля должников: 0.07060231352213801\n",
      "**************\n",
      "Уровень дохода: C\n",
      "Кол-во наблюдений: 15921, доля должников: 0.08498209911437724\n",
      "**************\n",
      "Уровень дохода: D\n",
      "Кол-во наблюдений: 349, доля должников: 0.06017191977077364\n",
      "**************\n",
      "Уровень дохода: E\n",
      "Кол-во наблюдений: 22, доля должников: 0.09090909090909091\n",
      "**************\n"
     ]
    }
   ],
   "source": [
    "# Ваш код будет здесь. Вы можете создавать новые ячейки.\n",
    "for income_cat, debt in data.groupby('total_income_category')['debt']:\n",
    "    print(f'Уровень дохода: {income_cat}')\n",
    "    print(f'Кол-во наблюдений: {debt.count()}, доля должников: {debt.mean()}')\n",
    "    print('**************')"
   ]
  },
  {
   "cell_type": "markdown",
   "id": "c0baefbb-3706-4b58-a9d6-6381333d496d",
   "metadata": {},
   "source": [
    "Визуализируем данные, отсортировав их в порядке убывания."
   ]
  },
  {
   "cell_type": "code",
   "execution_count": 94,
   "id": "407001c5-9398-4cbf-af9d-ac197cbaa4a4",
   "metadata": {},
   "outputs": [
    {
     "data": {
      "image/png": "[encoded data removed]",
      "text/plain": [
       "<Figure size 432x288 with 1 Axes>"
      ]
     },
     "metadata": {
      "needs_background": "light"
     },
     "output_type": "display_data"
    }
   ],
   "source": [
    "grouped_data = data.groupby('total_income_category')['debt'].mean()\n",
    "grouped_data = grouped_data.sort_values(ascending=False).reset_index()\n",
    "\n",
    "seaborn.barplot(x=grouped_data['total_income_category'], y=grouped_data['debt'])\n",
    "\n",
    "plt.xlabel('Уровень дохода')\n",
    "plt.ylabel('Доля должников')\n",
    "plt.title('Взаимосвязь между уровнем дохода и долей должников')\n",
    "plt.show()"
   ]
  },
  {
   "cell_type": "markdown",
   "id": "9239357b-84b5-40a3-b0f8-67795ddf515a",
   "metadata": {},
   "source": [
    "**Вывод:** Больше всего должников (**9%**) среди тех, чей доход не превышает 30 тыс. руб (категория E). При этом люди со средним доходом (30-50 тыс. руб), которые были отнесены к категории D, лучше остальных выполняют обязательства по кредитам. Доля должников среди них – **6%**. Люди с доходом более 50 тыс. рублей хуже, чем \"средний класс\" (категория D) выплачивают кредиты: доля должников среди тех, кто вошел в категорию A, B или C, составила от **7%** до **8,5%**. "
   ]
  },
  {
   "cell_type": "markdown",
   "id": "c0edf127-9c0d-48e5-ad87-7fddd8c0b1f3",
   "metadata": {},
   "source": [
    "Чтобы определить, как цель кредита влияет на его возврат, мы разделим данные на группы в зависимости от цели, на которую был выдан кредит. Затем в каждой группе мы посчитаем долю тех, у кого были задолженности по кредитам. Так мы определим, какие кредиты обычно возвращаются в срок, а по каким чаще бывают задолженности. Для того, чтобы сгруппировать данные, мы обратимся к переменной `purpose_category`, которая указывает, с какой целью был выдан кредит. Всего в массиве данных удалось выделить 4 цели, на которые берут кредит:\n",
    "\n",
    "- `'операции с автомобилем'`,\n",
    "- `'операции с недвижимостью'`,\n",
    "- `'проведение свадьбы'`,\n",
    "- `'получение образования'`.\n",
    "\n",
    "В сформированных группах мы оценим долю должников, посчитав среднее значение переменной `debt` в каждой группе. Ниже представлены результаты расчетов."
   ]
  },
  {
   "cell_type": "code",
   "execution_count": 95,
   "id": "37f30a99-5682-4426-9814-c9fadf9013b0",
   "metadata": {},
   "outputs": [
    {
     "name": "stdout",
     "output_type": "stream",
     "text": [
      "Цель кредита: операции с автомобилем\n",
      "Кол-во наблюдений: 4279, доля должников: 0.09347978499649451\n",
      "**************\n",
      "Цель кредита: операции с недвижимостью\n",
      "Кол-во наблюдений: 10751, доля должников: 0.07255139056831923\n",
      "**************\n",
      "Цель кредита: получение образования\n",
      "Кол-во наблюдений: 3988, доля должников: 0.09252758274824474\n",
      "**************\n",
      "Цель кредита: проведение свадьбы\n",
      "Кол-во наблюдений: 2313, доля должников: 0.07911802853437094\n",
      "**************\n"
     ]
    }
   ],
   "source": [
    "# Ваш код будет здесь. Вы можете создавать новые ячейки.\n",
    "for purpose, debt in data.groupby('purpose_category')['debt']:\n",
    "    print(f'Цель кредита: {purpose}')\n",
    "    print(f'Кол-во наблюдений: {debt.count()}, доля должников: {debt.mean()}')\n",
    "    print('**************')"
   ]
  },
  {
   "cell_type": "markdown",
   "id": "a52399fe-7bb0-4776-807c-2281c4ca7834",
   "metadata": {},
   "source": [
    "Визуализируем полученные данные, отсортировав их по убыванию."
   ]
  },
  {
   "cell_type": "code",
   "execution_count": 96,
   "id": "21257b0f-b8eb-40fd-9597-f985d655e708",
   "metadata": {},
   "outputs": [
    {
     "data": {
      "image/png": "[encoded data removed]",
      "text/plain": [
       "<Figure size 432x288 with 1 Axes>"
      ]
     },
     "metadata": {
      "needs_background": "light"
     },
     "output_type": "display_data"
    }
   ],
   "source": [
    "grouped_data = data.groupby('purpose_category')['debt'].mean()\n",
    "grouped_data = grouped_data.sort_values(ascending=False).reset_index()\n",
    "\n",
    "seaborn.barplot(x=grouped_data['purpose_category'], y=grouped_data['debt'])\n",
    "\n",
    "plt.xticks(rotation=90)\n",
    "plt.xlabel('Цель кредита')\n",
    "plt.ylabel('Доля должников')\n",
    "plt.title('Взаимосвязь между целью кредита и долей должников')\n",
    "plt.show()"
   ]
  },
  {
   "cell_type": "markdown",
   "id": "ff362ea1-dcfc-4773-bad6-8929e46cd973",
   "metadata": {},
   "source": [
    "**Вывод:** Меньше всего должников (**7,26%**) среди тех, кто брал ипотеку или иной кредит с целью проведения операций с недвижимостью. Чуть больше доля должников (**7,9%**) среди тех, кто брал кредит на свальбу. Самый большой процент среди должников – это студенты, родители студентов, – все те, кто брал кредит на получение образования (**9,25%**). Покупка, продажа и проч. операции с автомобилями – **9,3%** тех, кто взял кредит с этой целью, имеют/имели задолженность по нему."
   ]
  },
  {
   "cell_type": "markdown",
   "id": "e39b5306-ca61-4d1c-bf73-b94c78de412f",
   "metadata": {},
   "source": [
    "### Вывод"
   ]
  },
  {
   "cell_type": "markdown",
   "id": "41e31b5c-9251-408b-925e-5804fb611d39",
   "metadata": {},
   "source": [
    "**Предобработка данных:**\n",
    "* На этапе изучения данных были выявлены пропуски в значениях переменных `days_employed` и `total_income`. Поскольку ежемесячный доход (`total_income`) сильно зависит от типа занятости для замены пропусков лучше использовать медианное значение. При изучении переменной \"трудовой стаж в днях\" (`days_employed`) были обнаружены выбросы – аномальные значения для *пенсионеров* и *безработных*. Из-за выбросов для замены пропусков в переменной \"трудовой стаж\" мы также используем медиану.\n",
    "* В данных также были выявлены аномальные значения. Отрицательные значения для переменной `days_employed` мы заменили на модуль этих значений, а наблюдения с аномальными значениями переменной `children` удалили.\n",
    "* Для переменной `total_income` потребовалось изменить тип данный с вещественного на целочисленный.\n",
    "* Мы также удалили явные дубликаты в данных.\n",
    "* На последнем этапе предобработки мы категоризировали переменную `total_income`, создав категории дохода A-E, и переменную `purpose`, разделив цели кредита на 1) операции с недвижимостью, 2) операции с автомобилем, 3) свадьба, 4) образование.\n",
    "\n",
    "**Результаты анализа данных:**\n",
    "* По результатам анализа данных не была выявлена линейная взаимосвязь между количеством детей и возвратом кредита в срок: многодетные и не многодетные семьи справляются с кредитными обязательствами одинаково. \n",
    "* Тот факт, состоит ли человек в браке или нет не взаимосвязан с наличием задолженности по кредиту. Интересно, что лучше всех выплачивают кредиты вдовцы, а хуже всех – те, кто не состоит в браке. Есть предположение, что эта взаимосвязь обусловлена другой переменной, например, возрастом.\n",
    "* Предположительно, между уровнем дохода и возвратом кредита в срок существует квадратичная (U-образная) взаимосвязь: больше всего должников среди тех, чей доход не превышает 30 тыс., средний класс (30-50 тыс. руб.) справляется лучше всех с обязательствами по кредитам, а среди людей, с достатком выше среднего (от 50 тыс. руб.) – много должников. \n",
    "* Предположительно, между целью кредита и его возвратов в срок существует взаимосвязь. Лучше всего выплачивают кредит те, кто брал его на операции с недвижимостью. Хуже всех справляются с кредитами автомобилисты и студенты."
   ]
  }
 ],
 "metadata": {
  "kernelspec": {
   "display_name": "Python 3 (ipykernel)",
   "language": "python",
   "name": "python3"
  },
  "language_info": {
   "codemirror_mode": {
    "name": "ipython",
    "version": 3
   },
   "file_extension": ".py",
   "mimetype": "text/x-python",
   "name": "python",
   "nbconvert_exporter": "python",
   "pygments_lexer": "ipython3",
   "version": "3.9.12"
  }
 },
 "nbformat": 4,
 "nbformat_minor": 5
}
